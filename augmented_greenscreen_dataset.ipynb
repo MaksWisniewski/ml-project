{
 "cells": [
  {
   "cell_type": "code",
   "execution_count": 1,
   "metadata": {},
   "outputs": [],
   "source": [
    "from sklearn.neighbors import KNeighborsClassifier\n",
    "from sklearn.tree import DecisionTreeClassifier\n",
    "from sklearn.ensemble import RandomForestClassifier\n",
    "from xgboost import XGBClassifier\n",
    "from sklearn.svm import SVC\n",
    "\n",
    "from sklearn.decomposition import PCA\n",
    "\n",
    "from utils.data import read_dataset\n",
    "from utils.image_preprocessing import preprocess_dataset\n",
    "from utils.hyperparameter_optimizer import optimize_hyperparameters"
   ]
  },
  {
   "cell_type": "markdown",
   "metadata": {},
   "source": [
    "# Loading data"
   ]
  },
  {
   "cell_type": "code",
   "execution_count": null,
   "metadata": {},
   "outputs": [],
   "source": [
    "X_raw, y = read_dataset('./data/rockpaperscissors/', n_aug=3)\n",
    "X = preprocess_dataset(X_raw, image_shape=(300,200))"
   ]
  },
  {
   "cell_type": "code",
   "execution_count": 3,
   "metadata": {},
   "outputs": [
    {
     "data": {
      "text/plain": [
       "(8752, 60000)"
      ]
     },
     "execution_count": 3,
     "metadata": {},
     "output_type": "execute_result"
    }
   ],
   "source": [
    "X.shape"
   ]
  },
  {
   "cell_type": "code",
   "execution_count": 4,
   "metadata": {},
   "outputs": [],
   "source": [
    "TRAIN_SIZE = int(0.8 * y.shape[0])\n",
    "X_train, y_train = X[:TRAIN_SIZE], y[:TRAIN_SIZE]\n",
    "X_test, y_test = X[TRAIN_SIZE:], y[TRAIN_SIZE:]"
   ]
  },
  {
   "cell_type": "code",
   "execution_count": 5,
   "metadata": {},
   "outputs": [
    {
     "data": {
      "text/plain": [
       "(7001, 60000)"
      ]
     },
     "execution_count": 5,
     "metadata": {},
     "output_type": "execute_result"
    }
   ],
   "source": [
    "X_train.shape"
   ]
  },
  {
   "cell_type": "markdown",
   "metadata": {},
   "source": [
    "### Scaled images"
   ]
  },
  {
   "cell_type": "code",
   "execution_count": 6,
   "metadata": {},
   "outputs": [],
   "source": [
    "X_scaled = preprocess_dataset(X_raw, image_shape=(150, 100))\n",
    "X_scaled_train, X_scaled_test = X_scaled[:TRAIN_SIZE], X_scaled[TRAIN_SIZE:]"
   ]
  },
  {
   "cell_type": "code",
   "execution_count": 7,
   "metadata": {},
   "outputs": [
    {
     "data": {
      "text/plain": [
       "(8752, 15000)"
      ]
     },
     "execution_count": 7,
     "metadata": {},
     "output_type": "execute_result"
    }
   ],
   "source": [
    "X_scaled.shape"
   ]
  },
  {
   "cell_type": "markdown",
   "metadata": {},
   "source": [
    "### PCA"
   ]
  },
  {
   "cell_type": "code",
   "execution_count": 8,
   "metadata": {},
   "outputs": [],
   "source": [
    "pca_model = PCA(n_components=300)\n",
    "X_pca = pca_model.fit_transform(X)\n",
    "\n",
    "X_pca_train = X_pca[:TRAIN_SIZE]\n",
    "X_pca_test = X_pca[TRAIN_SIZE:]"
   ]
  },
  {
   "cell_type": "code",
   "execution_count": 9,
   "metadata": {},
   "outputs": [
    {
     "data": {
      "text/plain": [
       "(8752, 300)"
      ]
     },
     "execution_count": 9,
     "metadata": {},
     "output_type": "execute_result"
    }
   ],
   "source": [
    "X_pca.shape"
   ]
  },
  {
   "cell_type": "markdown",
   "metadata": {},
   "source": [
    "# Training models"
   ]
  },
  {
   "cell_type": "markdown",
   "metadata": {},
   "source": [
    "## Hyperparameter tuning"
   ]
  },
  {
   "cell_type": "markdown",
   "metadata": {},
   "source": [
    "For each model we select hyperparameters that maximize mean accuracy measured by cross-validation on training set."
   ]
  },
  {
   "cell_type": "markdown",
   "metadata": {},
   "source": [
    "### KNN"
   ]
  },
  {
   "cell_type": "markdown",
   "metadata": {},
   "source": [
    "#### Full images (needs huge RAM capacity)"
   ]
  },
  {
   "cell_type": "code",
   "execution_count": 10,
   "metadata": {},
   "outputs": [],
   "source": [
    "# knn_result = optimize_hyperparameters('knn', X_train, y_train, n_trials=100)\n",
    "# print(knn_result)"
   ]
  },
  {
   "cell_type": "code",
   "execution_count": 22,
   "metadata": {},
   "outputs": [
    {
     "data": {
      "text/plain": [
       "0.6893203883495146"
      ]
     },
     "execution_count": 22,
     "metadata": {},
     "output_type": "execute_result"
    }
   ],
   "source": [
    "best_knn_model = KNeighborsClassifier(n_jobs=-1, n_neighbors=3)\n",
    "best_knn_model.fit(X_train, y_train)\n",
    "best_knn_model.score(X_test, y_test)"
   ]
  },
  {
   "cell_type": "markdown",
   "metadata": {},
   "source": [
    "#### Scaled images"
   ]
  },
  {
   "cell_type": "code",
   "execution_count": 14,
   "metadata": {},
   "outputs": [
    {
     "name": "stderr",
     "output_type": "stream",
     "text": [
      "[I 2024-02-09 11:36:18,959] A new study created in memory with name: no-name-a79b5db7-7c2f-415c-8f8d-31391269f423\n",
      "[I 2024-02-09 11:36:26,104] Trial 3 finished with value: 0.61790727532097 and parameters: {'n_neighbors': 34}. Best is trial 3 with value: 0.61790727532097.\n",
      "[I 2024-02-09 11:36:32,526] Trial 0 finished with value: 0.6433348277970247 and parameters: {'n_neighbors': 21}. Best is trial 0 with value: 0.6433348277970247.\n",
      "[I 2024-02-09 11:36:38,622] Trial 6 finished with value: 0.6433348277970247 and parameters: {'n_neighbors': 21}. Best is trial 0 with value: 0.6433348277970247.\n",
      "[I 2024-02-09 11:36:44,466] Trial 2 finished with value: 0.67104666802527 and parameters: {'n_neighbors': 8}. Best is trial 2 with value: 0.67104666802527.\n",
      "[I 2024-02-09 11:36:52,366] Trial 11 finished with value: 0.6507621764825758 and parameters: {'n_neighbors': 19}. Best is trial 2 with value: 0.67104666802527.\n",
      "[I 2024-02-09 11:36:55,034] Trial 5 finished with value: 0.6376191155492154 and parameters: {'n_neighbors': 24}. Best is trial 2 with value: 0.67104666802527.\n",
      "[I 2024-02-09 11:37:04,885] Trial 9 finished with value: 0.6589036070919095 and parameters: {'n_neighbors': 15}. Best is trial 2 with value: 0.67104666802527.\n",
      "[I 2024-02-09 11:37:10,609] Trial 4 finished with value: 0.6257646219686163 and parameters: {'n_neighbors': 29}. Best is trial 2 with value: 0.67104666802527.\n",
      "[I 2024-02-09 11:37:14,043] Trial 7 finished with value: 0.6237660485021398 and parameters: {'n_neighbors': 30}. Best is trial 2 with value: 0.67104666802527.\n",
      "[I 2024-02-09 11:37:16,378] Trial 1 finished with value: 0.6376191155492154 and parameters: {'n_neighbors': 24}. Best is trial 2 with value: 0.67104666802527.\n",
      "[I 2024-02-09 11:37:21,533] Trial 8 finished with value: 0.5989080904829834 and parameters: {'n_neighbors': 48}. Best is trial 2 with value: 0.67104666802527.\n",
      "[I 2024-02-09 11:37:22,861] Trial 10 finished with value: 0.6686183003872019 and parameters: {'n_neighbors': 9}. Best is trial 2 with value: 0.67104666802527.\n",
      "[I 2024-02-09 11:37:27,889] Trial 12 finished with value: 0.6049078866924801 and parameters: {'n_neighbors': 43}. Best is trial 2 with value: 0.67104666802527.\n",
      "[I 2024-02-09 11:37:33,247] Trial 13 finished with value: 0.6247642143876094 and parameters: {'n_neighbors': 31}. Best is trial 2 with value: 0.67104666802527.\n",
      "[I 2024-02-09 11:37:37,738] Trial 14 finished with value: 0.6049078866924801 and parameters: {'n_neighbors': 43}. Best is trial 2 with value: 0.67104666802527.\n",
      "[I 2024-02-09 11:37:42,765] Trial 15 finished with value: 0.6026225799877726 and parameters: {'n_neighbors': 46}. Best is trial 2 with value: 0.67104666802527.\n",
      "[I 2024-02-09 11:37:46,914] Trial 16 finished with value: 0.6739011616058692 and parameters: {'n_neighbors': 6}. Best is trial 16 with value: 0.6739011616058692.\n",
      "[I 2024-02-09 11:37:51,722] Trial 17 finished with value: 0.6069074791114734 and parameters: {'n_neighbors': 41}. Best is trial 16 with value: 0.6739011616058692.\n",
      "[I 2024-02-09 11:37:56,643] Trial 18 finished with value: 0.6686183003872019 and parameters: {'n_neighbors': 9}. Best is trial 16 with value: 0.6739011616058692.\n",
      "[I 2024-02-09 11:38:02,315] Trial 19 finished with value: 0.6803293254534338 and parameters: {'n_neighbors': 4}. Best is trial 19 with value: 0.6803293254534338.\n",
      "[I 2024-02-09 11:38:06,935] Trial 20 finished with value: 0.6033380884450784 and parameters: {'n_neighbors': 44}. Best is trial 19 with value: 0.6803293254534338.\n",
      "[I 2024-02-09 11:38:11,650] Trial 21 finished with value: 0.6923276951294068 and parameters: {'n_neighbors': 3}. Best is trial 21 with value: 0.6923276951294068.\n",
      "[I 2024-02-09 11:38:16,721] Trial 22 finished with value: 0.6781870796820868 and parameters: {'n_neighbors': 5}. Best is trial 21 with value: 0.6923276951294068.\n",
      "[I 2024-02-09 11:38:20,660] Trial 23 finished with value: 0.6923276951294068 and parameters: {'n_neighbors': 3}. Best is trial 21 with value: 0.6923276951294068.\n",
      "[I 2024-02-09 11:38:25,689] Trial 24 finished with value: 0.6923276951294068 and parameters: {'n_neighbors': 3}. Best is trial 21 with value: 0.6923276951294068.\n",
      "[I 2024-02-09 11:38:31,699] Trial 25 finished with value: 0.6803293254534338 and parameters: {'n_neighbors': 4}. Best is trial 21 with value: 0.6923276951294068.\n",
      "[I 2024-02-09 11:38:35,453] Trial 26 finished with value: 0.6923276951294068 and parameters: {'n_neighbors': 3}. Best is trial 21 with value: 0.6923276951294068.\n",
      "[I 2024-02-09 11:38:41,101] Trial 27 finished with value: 0.6923276951294068 and parameters: {'n_neighbors': 3}. Best is trial 21 with value: 0.6923276951294068.\n",
      "[I 2024-02-09 11:38:44,870] Trial 28 finished with value: 0.6923276951294068 and parameters: {'n_neighbors': 3}. Best is trial 21 with value: 0.6923276951294068.\n",
      "[I 2024-02-09 11:38:50,150] Trial 29 finished with value: 0.6923276951294068 and parameters: {'n_neighbors': 3}. Best is trial 21 with value: 0.6923276951294068.\n",
      "[I 2024-02-09 11:38:55,805] Trial 30 finished with value: 0.6923276951294068 and parameters: {'n_neighbors': 3}. Best is trial 21 with value: 0.6923276951294068.\n",
      "[I 2024-02-09 11:39:01,088] Trial 31 finished with value: 0.6923276951294068 and parameters: {'n_neighbors': 3}. Best is trial 21 with value: 0.6923276951294068.\n",
      "[I 2024-02-09 11:39:04,824] Trial 32 finished with value: 0.6923276951294068 and parameters: {'n_neighbors': 3}. Best is trial 21 with value: 0.6923276951294068.\n",
      "[I 2024-02-09 11:39:10,433] Trial 33 finished with value: 0.6923276951294068 and parameters: {'n_neighbors': 3}. Best is trial 21 with value: 0.6923276951294068.\n",
      "[I 2024-02-09 11:39:14,639] Trial 34 finished with value: 0.6923276951294068 and parameters: {'n_neighbors': 3}. Best is trial 21 with value: 0.6923276951294068.\n",
      "[I 2024-02-09 11:39:19,742] Trial 35 finished with value: 0.6923276951294068 and parameters: {'n_neighbors': 3}. Best is trial 21 with value: 0.6923276951294068.\n",
      "[I 2024-02-09 11:39:25,234] Trial 36 finished with value: 0.6594750356633382 and parameters: {'n_neighbors': 14}. Best is trial 21 with value: 0.6923276951294068.\n",
      "[I 2024-02-09 11:39:29,745] Trial 37 finished with value: 0.6594750356633382 and parameters: {'n_neighbors': 14}. Best is trial 21 with value: 0.6923276951294068.\n",
      "[I 2024-02-09 11:39:34,995] Trial 38 finished with value: 0.6626183003872019 and parameters: {'n_neighbors': 13}. Best is trial 21 with value: 0.6923276951294068.\n",
      "[I 2024-02-09 11:39:38,807] Trial 39 finished with value: 0.6594750356633382 and parameters: {'n_neighbors': 14}. Best is trial 21 with value: 0.6923276951294068.\n",
      "[I 2024-02-09 11:39:43,892] Trial 40 finished with value: 0.6697595272060322 and parameters: {'n_neighbors': 12}. Best is trial 21 with value: 0.6923276951294068.\n",
      "[I 2024-02-09 11:39:48,581] Trial 41 finished with value: 0.6626183003872019 and parameters: {'n_neighbors': 13}. Best is trial 21 with value: 0.6923276951294068.\n",
      "[I 2024-02-09 11:39:54,236] Trial 42 finished with value: 0.6626183003872019 and parameters: {'n_neighbors': 13}. Best is trial 21 with value: 0.6923276951294068.\n",
      "[I 2024-02-09 11:39:58,725] Trial 43 finished with value: 0.6626183003872019 and parameters: {'n_neighbors': 13}. Best is trial 21 with value: 0.6923276951294068.\n",
      "[I 2024-02-09 11:40:03,112] Trial 44 finished with value: 0.6697595272060322 and parameters: {'n_neighbors': 12}. Best is trial 21 with value: 0.6923276951294068.\n",
      "[I 2024-02-09 11:40:07,586] Trial 45 finished with value: 0.6626183003872019 and parameters: {'n_neighbors': 13}. Best is trial 21 with value: 0.6923276951294068.\n",
      "[I 2024-02-09 11:40:13,015] Trial 46 finished with value: 0.6693311595679641 and parameters: {'n_neighbors': 10}. Best is trial 21 with value: 0.6923276951294068.\n",
      "[I 2024-02-09 11:40:18,887] Trial 47 finished with value: 0.6697595272060322 and parameters: {'n_neighbors': 12}. Best is trial 21 with value: 0.6923276951294068.\n",
      "[I 2024-02-09 11:40:23,537] Trial 48 finished with value: 0.6697595272060322 and parameters: {'n_neighbors': 12}. Best is trial 21 with value: 0.6923276951294068.\n",
      "[I 2024-02-09 11:40:26,703] Trial 49 finished with value: 0.6693311595679641 and parameters: {'n_neighbors': 10}. Best is trial 21 with value: 0.6923276951294068.\n",
      "[I 2024-02-09 11:40:32,040] Trial 50 finished with value: 0.6711876910535969 and parameters: {'n_neighbors': 11}. Best is trial 21 with value: 0.6923276951294068.\n",
      "[I 2024-02-09 11:40:37,101] Trial 51 finished with value: 0.6770458528632565 and parameters: {'n_neighbors': 7}. Best is trial 21 with value: 0.6923276951294068.\n",
      "[I 2024-02-09 11:40:42,671] Trial 52 finished with value: 0.6770458528632565 and parameters: {'n_neighbors': 7}. Best is trial 21 with value: 0.6923276951294068.\n",
      "[I 2024-02-09 11:40:47,311] Trial 53 finished with value: 0.6770458528632565 and parameters: {'n_neighbors': 7}. Best is trial 21 with value: 0.6923276951294068.\n",
      "[I 2024-02-09 11:40:52,686] Trial 54 finished with value: 0.6770458528632565 and parameters: {'n_neighbors': 7}. Best is trial 21 with value: 0.6923276951294068.\n",
      "[I 2024-02-09 11:40:56,461] Trial 55 finished with value: 0.6770458528632565 and parameters: {'n_neighbors': 7}. Best is trial 21 with value: 0.6923276951294068.\n",
      "[I 2024-02-09 11:41:01,049] Trial 56 finished with value: 0.6770458528632565 and parameters: {'n_neighbors': 7}. Best is trial 21 with value: 0.6923276951294068.\n",
      "[I 2024-02-09 11:41:07,119] Trial 57 finished with value: 0.67104666802527 and parameters: {'n_neighbors': 8}. Best is trial 21 with value: 0.6923276951294068.\n",
      "[I 2024-02-09 11:41:12,704] Trial 58 finished with value: 0.6770458528632565 and parameters: {'n_neighbors': 7}. Best is trial 21 with value: 0.6923276951294068.\n",
      "[I 2024-02-09 11:41:18,338] Trial 59 finished with value: 0.6770458528632565 and parameters: {'n_neighbors': 7}. Best is trial 21 with value: 0.6923276951294068.\n",
      "[I 2024-02-09 11:41:21,423] Trial 60 finished with value: 0.67104666802527 and parameters: {'n_neighbors': 8}. Best is trial 21 with value: 0.6923276951294068.\n",
      "[I 2024-02-09 11:41:26,684] Trial 61 finished with value: 0.6739011616058692 and parameters: {'n_neighbors': 6}. Best is trial 21 with value: 0.6923276951294068.\n",
      "[I 2024-02-09 11:41:32,237] Trial 62 finished with value: 0.6770458528632565 and parameters: {'n_neighbors': 7}. Best is trial 21 with value: 0.6923276951294068.\n",
      "[I 2024-02-09 11:41:37,177] Trial 63 finished with value: 0.6770458528632565 and parameters: {'n_neighbors': 7}. Best is trial 21 with value: 0.6923276951294068.\n",
      "[I 2024-02-09 11:41:41,779] Trial 64 finished with value: 0.6739011616058692 and parameters: {'n_neighbors': 6}. Best is trial 21 with value: 0.6923276951294068.\n",
      "[I 2024-02-09 11:41:47,431] Trial 65 finished with value: 0.6739011616058692 and parameters: {'n_neighbors': 6}. Best is trial 21 with value: 0.6923276951294068.\n",
      "[I 2024-02-09 11:41:50,993] Trial 66 finished with value: 0.6187623802730793 and parameters: {'n_neighbors': 36}. Best is trial 21 with value: 0.6923276951294068.\n",
      "[I 2024-02-09 11:41:56,387] Trial 67 finished with value: 0.6476185041777053 and parameters: {'n_neighbors': 20}. Best is trial 21 with value: 0.6923276951294068.\n",
      "[I 2024-02-09 11:42:01,452] Trial 68 finished with value: 0.6507621764825758 and parameters: {'n_neighbors': 19}. Best is trial 21 with value: 0.6923276951294068.\n",
      "[I 2024-02-09 11:42:06,400] Trial 69 finished with value: 0.6511905441206439 and parameters: {'n_neighbors': 18}. Best is trial 21 with value: 0.6923276951294068.\n",
      "[I 2024-02-09 11:42:10,980] Trial 70 finished with value: 0.6507621764825758 and parameters: {'n_neighbors': 19}. Best is trial 21 with value: 0.6923276951294068.\n",
      "[I 2024-02-09 11:42:16,079] Trial 71 finished with value: 0.6524740167108212 and parameters: {'n_neighbors': 17}. Best is trial 21 with value: 0.6923276951294068.\n",
      "[I 2024-02-09 11:42:20,613] Trial 72 finished with value: 0.6524740167108212 and parameters: {'n_neighbors': 17}. Best is trial 21 with value: 0.6923276951294068.\n",
      "[I 2024-02-09 11:42:25,721] Trial 73 finished with value: 0.6781870796820868 and parameters: {'n_neighbors': 5}. Best is trial 21 with value: 0.6923276951294068.\n",
      "[I 2024-02-09 11:42:30,075] Trial 74 finished with value: 0.6511905441206439 and parameters: {'n_neighbors': 18}. Best is trial 21 with value: 0.6923276951294068.\n",
      "[I 2024-02-09 11:42:35,269] Trial 75 finished with value: 0.6511905441206439 and parameters: {'n_neighbors': 18}. Best is trial 21 with value: 0.6923276951294068.\n",
      "[I 2024-02-09 11:42:40,242] Trial 76 finished with value: 0.6511905441206439 and parameters: {'n_neighbors': 18}. Best is trial 21 with value: 0.6923276951294068.\n",
      "[I 2024-02-09 11:42:45,740] Trial 77 finished with value: 0.6781870796820868 and parameters: {'n_neighbors': 5}. Best is trial 21 with value: 0.6923276951294068.\n",
      "[I 2024-02-09 11:42:49,757] Trial 78 finished with value: 0.6524740167108212 and parameters: {'n_neighbors': 17}. Best is trial 21 with value: 0.6923276951294068.\n",
      "[I 2024-02-09 11:42:54,734] Trial 79 finished with value: 0.6781870796820868 and parameters: {'n_neighbors': 5}. Best is trial 21 with value: 0.6923276951294068.\n",
      "[I 2024-02-09 11:42:59,754] Trial 80 finished with value: 0.6686183003872019 and parameters: {'n_neighbors': 9}. Best is trial 21 with value: 0.6923276951294068.\n",
      "[I 2024-02-09 11:43:04,355] Trial 81 finished with value: 0.6781870796820868 and parameters: {'n_neighbors': 5}. Best is trial 21 with value: 0.6923276951294068.\n",
      "[I 2024-02-09 11:43:09,803] Trial 82 finished with value: 0.6803293254534338 and parameters: {'n_neighbors': 4}. Best is trial 21 with value: 0.6923276951294068.\n",
      "[I 2024-02-09 11:43:14,826] Trial 83 finished with value: 0.6803293254534338 and parameters: {'n_neighbors': 4}. Best is trial 21 with value: 0.6923276951294068.\n",
      "[I 2024-02-09 11:43:19,065] Trial 84 finished with value: 0.6803293254534338 and parameters: {'n_neighbors': 4}. Best is trial 21 with value: 0.6923276951294068.\n",
      "[I 2024-02-09 11:43:23,497] Trial 85 finished with value: 0.6803293254534338 and parameters: {'n_neighbors': 4}. Best is trial 21 with value: 0.6923276951294068.\n",
      "[I 2024-02-09 11:43:28,436] Trial 86 finished with value: 0.6803293254534338 and parameters: {'n_neighbors': 4}. Best is trial 21 with value: 0.6923276951294068.\n",
      "[I 2024-02-09 11:43:34,407] Trial 87 finished with value: 0.6803293254534338 and parameters: {'n_neighbors': 4}. Best is trial 21 with value: 0.6923276951294068.\n",
      "[I 2024-02-09 11:43:39,004] Trial 88 finished with value: 0.6803293254534338 and parameters: {'n_neighbors': 4}. Best is trial 21 with value: 0.6923276951294068.\n",
      "[I 2024-02-09 11:43:44,241] Trial 89 finished with value: 0.6803293254534338 and parameters: {'n_neighbors': 4}. Best is trial 21 with value: 0.6923276951294068.\n",
      "[I 2024-02-09 11:43:48,197] Trial 90 finished with value: 0.6803293254534338 and parameters: {'n_neighbors': 4}. Best is trial 21 with value: 0.6923276951294068.\n",
      "[I 2024-02-09 11:43:53,763] Trial 91 finished with value: 0.6803293254534338 and parameters: {'n_neighbors': 4}. Best is trial 21 with value: 0.6923276951294068.\n",
      "[I 2024-02-09 11:43:58,124] Trial 92 finished with value: 0.6923276951294068 and parameters: {'n_neighbors': 3}. Best is trial 21 with value: 0.6923276951294068.\n",
      "[I 2024-02-09 11:44:03,350] Trial 93 finished with value: 0.6923276951294068 and parameters: {'n_neighbors': 3}. Best is trial 21 with value: 0.6923276951294068.\n",
      "[I 2024-02-09 11:44:07,664] Trial 94 finished with value: 0.6923276951294068 and parameters: {'n_neighbors': 3}. Best is trial 21 with value: 0.6923276951294068.\n",
      "[I 2024-02-09 11:44:12,894] Trial 95 finished with value: 0.6339058487874465 and parameters: {'n_neighbors': 25}. Best is trial 21 with value: 0.6923276951294068.\n",
      "[I 2024-02-09 11:44:17,568] Trial 96 finished with value: 0.6923276951294068 and parameters: {'n_neighbors': 3}. Best is trial 21 with value: 0.6923276951294068.\n",
      "[I 2024-02-09 11:44:22,910] Trial 97 finished with value: 0.6923276951294068 and parameters: {'n_neighbors': 3}. Best is trial 21 with value: 0.6923276951294068.\n",
      "[I 2024-02-09 11:44:28,156] Trial 98 finished with value: 0.6317631954350926 and parameters: {'n_neighbors': 27}. Best is trial 21 with value: 0.6923276951294068.\n",
      "[I 2024-02-09 11:44:29,978] Trial 99 finished with value: 0.6376191155492154 and parameters: {'n_neighbors': 24}. Best is trial 21 with value: 0.6923276951294068.\n"
     ]
    },
    {
     "name": "stdout",
     "output_type": "stream",
     "text": [
      "FrozenTrial(number=21, state=1, values=[0.6923276951294068], datetime_start=datetime.datetime(2024, 2, 9, 11, 37, 16, 381134), datetime_complete=datetime.datetime(2024, 2, 9, 11, 38, 11, 650152), params={'n_neighbors': 3}, user_attrs={}, system_attrs={}, intermediate_values={}, distributions={'n_neighbors': IntDistribution(high=49, log=False, low=3, step=1)}, trial_id=21, value=None)\n"
     ]
    }
   ],
   "source": [
    "knn_scaled_result = optimize_hyperparameters('knn', X_scaled_train, y_train, n_trials=100)\n",
    "print(knn_scaled_result)"
   ]
  },
  {
   "cell_type": "code",
   "execution_count": 15,
   "metadata": {},
   "outputs": [
    {
     "data": {
      "text/plain": [
       "{'n_neighbors': 3}"
      ]
     },
     "execution_count": 15,
     "metadata": {},
     "output_type": "execute_result"
    }
   ],
   "source": [
    "knn_scaled_result.params"
   ]
  },
  {
   "cell_type": "code",
   "execution_count": 16,
   "metadata": {},
   "outputs": [
    {
     "data": {
      "text/plain": [
       "0.6923276951294068"
      ]
     },
     "execution_count": 16,
     "metadata": {},
     "output_type": "execute_result"
    }
   ],
   "source": [
    "knn_scaled_result.value"
   ]
  },
  {
   "cell_type": "code",
   "execution_count": 17,
   "metadata": {},
   "outputs": [
    {
     "data": {
      "text/plain": [
       "0.6973158195316962"
      ]
     },
     "execution_count": 17,
     "metadata": {},
     "output_type": "execute_result"
    }
   ],
   "source": [
    "best_knn_model_scaled = KNeighborsClassifier(n_jobs=-1, **knn_scaled_result.params)\n",
    "best_knn_model_scaled.fit(X_scaled_train, y_train)\n",
    "best_knn_model_scaled.score(X_scaled_test, y_test)"
   ]
  },
  {
   "cell_type": "markdown",
   "metadata": {},
   "source": [
    "#### PCA"
   ]
  },
  {
   "cell_type": "code",
   "execution_count": 10,
   "metadata": {},
   "outputs": [
    {
     "name": "stderr",
     "output_type": "stream",
     "text": [
      "[I 2024-02-09 11:35:23,901] A new study created in memory with name: no-name-afef7bde-1bb1-4e7e-be05-018ba109a81f\n",
      "[I 2024-02-09 11:35:25,678] Trial 7 finished with value: 0.6583317709394743 and parameters: {'n_neighbors': 14}. Best is trial 7 with value: 0.6583317709394743.\n",
      "[I 2024-02-09 11:35:25,899] Trial 3 finished with value: 0.5923376808640717 and parameters: {'n_neighbors': 41}. Best is trial 7 with value: 0.6583317709394743.\n",
      "[I 2024-02-09 11:35:25,996] Trial 11 finished with value: 0.6206207458732422 and parameters: {'n_neighbors': 26}. Best is trial 7 with value: 0.6583317709394743.\n",
      "[I 2024-02-09 11:35:26,016] Trial 0 finished with value: 0.596478907682902 and parameters: {'n_neighbors': 39}. Best is trial 7 with value: 0.6583317709394743.\n",
      "[I 2024-02-09 11:35:26,056] Trial 4 finished with value: 0.6071921744446709 and parameters: {'n_neighbors': 32}. Best is trial 7 with value: 0.6583317709394743.\n",
      "[I 2024-02-09 11:35:26,074] Trial 5 finished with value: 0.6701889137966169 and parameters: {'n_neighbors': 9}. Best is trial 5 with value: 0.6701889137966169.\n",
      "[I 2024-02-09 11:35:26,136] Trial 2 finished with value: 0.5821964540452416 and parameters: {'n_neighbors': 47}. Best is trial 5 with value: 0.6701889137966169.\n",
      "[I 2024-02-09 11:35:26,186] Trial 8 finished with value: 0.7034701446912575 and parameters: {'n_neighbors': 3}. Best is trial 8 with value: 0.7034701446912575.\n",
      "[I 2024-02-09 11:35:26,278] Trial 6 finished with value: 0.6733313633584675 and parameters: {'n_neighbors': 8}. Best is trial 8 with value: 0.7034701446912575.\n",
      "[I 2024-02-09 11:35:26,287] Trial 1 finished with value: 0.7034701446912575 and parameters: {'n_neighbors': 3}. Best is trial 8 with value: 0.7034701446912575.\n",
      "[I 2024-02-09 11:35:26,305] Trial 10 finished with value: 0.6071921744446709 and parameters: {'n_neighbors': 32}. Best is trial 8 with value: 0.7034701446912575.\n",
      "[I 2024-02-09 11:35:26,378] Trial 9 finished with value: 0.6124780925208886 and parameters: {'n_neighbors': 29}. Best is trial 8 with value: 0.7034701446912575.\n",
      "[I 2024-02-09 11:35:26,403] Trial 12 finished with value: 0.6093364581210515 and parameters: {'n_neighbors': 31}. Best is trial 8 with value: 0.7034701446912575.\n",
      "[I 2024-02-09 11:35:26,600] Trial 13 finished with value: 0.6826154473201549 and parameters: {'n_neighbors': 7}. Best is trial 8 with value: 0.7034701446912575.\n",
      "[I 2024-02-09 11:35:26,717] Trial 14 finished with value: 0.5890529855308742 and parameters: {'n_neighbors': 45}. Best is trial 8 with value: 0.7034701446912575.\n",
      "[I 2024-02-09 11:35:26,842] Trial 15 finished with value: 0.596478907682902 and parameters: {'n_neighbors': 39}. Best is trial 8 with value: 0.7034701446912575.\n",
      "[I 2024-02-09 11:35:26,846] Trial 16 finished with value: 0.6823303444059509 and parameters: {'n_neighbors': 6}. Best is trial 8 with value: 0.7034701446912575.\n",
      "[I 2024-02-09 11:35:27,052] Trial 17 finished with value: 0.5890529855308742 and parameters: {'n_neighbors': 45}. Best is trial 8 with value: 0.7034701446912575.\n",
      "[I 2024-02-09 11:35:27,174] Trial 18 finished with value: 0.6356211534542491 and parameters: {'n_neighbors': 20}. Best is trial 8 with value: 0.7034701446912575.\n",
      "[I 2024-02-09 11:35:27,282] Trial 19 finished with value: 0.6076217648257591 and parameters: {'n_neighbors': 34}. Best is trial 8 with value: 0.7034701446912575.\n",
      "[I 2024-02-09 11:35:27,394] Trial 20 finished with value: 0.6329064601589565 and parameters: {'n_neighbors': 22}. Best is trial 8 with value: 0.7034701446912575.\n",
      "[I 2024-02-09 11:35:27,498] Trial 21 finished with value: 0.6429054412064398 and parameters: {'n_neighbors': 19}. Best is trial 8 with value: 0.7034701446912575.\n",
      "[I 2024-02-09 11:35:27,519] Trial 22 finished with value: 0.6930434073772163 and parameters: {'n_neighbors': 4}. Best is trial 8 with value: 0.7034701446912575.\n",
      "[I 2024-02-09 11:35:27,720] Trial 23 finished with value: 0.7034701446912575 and parameters: {'n_neighbors': 3}. Best is trial 8 with value: 0.7034701446912575.\n",
      "[I 2024-02-09 11:35:27,844] Trial 24 finished with value: 0.7034701446912575 and parameters: {'n_neighbors': 3}. Best is trial 8 with value: 0.7034701446912575.\n",
      "[I 2024-02-09 11:35:27,939] Trial 25 finished with value: 0.6491895251681272 and parameters: {'n_neighbors': 17}. Best is trial 8 with value: 0.7034701446912575.\n",
      "[I 2024-02-09 11:35:27,957] Trial 26 finished with value: 0.6491895251681272 and parameters: {'n_neighbors': 17}. Best is trial 8 with value: 0.7034701446912575.\n",
      "[I 2024-02-09 11:35:28,063] Trial 28 finished with value: 0.6491895251681272 and parameters: {'n_neighbors': 17}. Best is trial 8 with value: 0.7034701446912575.\n",
      "[I 2024-02-09 11:35:28,254] Trial 27 finished with value: 0.6491895251681272 and parameters: {'n_neighbors': 17}. Best is trial 8 with value: 0.7034701446912575.\n",
      "[I 2024-02-09 11:35:28,275] Trial 29 finished with value: 0.6450487059303037 and parameters: {'n_neighbors': 18}. Best is trial 8 with value: 0.7034701446912575.\n",
      "[I 2024-02-09 11:35:28,377] Trial 30 finished with value: 0.7034701446912575 and parameters: {'n_neighbors': 3}. Best is trial 8 with value: 0.7034701446912575.\n",
      "[I 2024-02-09 11:35:28,588] Trial 31 finished with value: 0.6543317709394743 and parameters: {'n_neighbors': 15}. Best is trial 8 with value: 0.7034701446912575.\n",
      "[I 2024-02-09 11:35:28,605] Trial 32 finished with value: 0.6930434073772163 and parameters: {'n_neighbors': 4}. Best is trial 8 with value: 0.7034701446912575.\n",
      "[I 2024-02-09 11:35:28,832] Trial 33 finished with value: 0.7034701446912575 and parameters: {'n_neighbors': 3}. Best is trial 8 with value: 0.7034701446912575.\n",
      "[I 2024-02-09 11:35:28,959] Trial 34 finished with value: 0.7034701446912575 and parameters: {'n_neighbors': 3}. Best is trial 8 with value: 0.7034701446912575.\n",
      "[I 2024-02-09 11:35:29,047] Trial 35 finished with value: 0.6593323823109842 and parameters: {'n_neighbors': 13}. Best is trial 8 with value: 0.7034701446912575.\n",
      "[I 2024-02-09 11:35:29,167] Trial 36 finished with value: 0.6593323823109842 and parameters: {'n_neighbors': 13}. Best is trial 8 with value: 0.7034701446912575.\n",
      "[I 2024-02-09 11:35:29,172] Trial 37 finished with value: 0.669618911758712 and parameters: {'n_neighbors': 12}. Best is trial 8 with value: 0.7034701446912575.\n",
      "[I 2024-02-09 11:35:29,363] Trial 38 finished with value: 0.6633334012635012 and parameters: {'n_neighbors': 11}. Best is trial 8 with value: 0.7034701446912575.\n",
      "[I 2024-02-09 11:35:29,484] Trial 39 finished with value: 0.6696183003872019 and parameters: {'n_neighbors': 10}. Best is trial 8 with value: 0.7034701446912575.\n",
      "[I 2024-02-09 11:35:29,583] Trial 40 finished with value: 0.669618911758712 and parameters: {'n_neighbors': 12}. Best is trial 8 with value: 0.7034701446912575.\n",
      "[I 2024-02-09 11:35:29,695] Trial 41 finished with value: 0.6633334012635012 and parameters: {'n_neighbors': 11}. Best is trial 8 with value: 0.7034701446912575.\n",
      "[I 2024-02-09 11:35:29,794] Trial 42 finished with value: 0.669618911758712 and parameters: {'n_neighbors': 12}. Best is trial 8 with value: 0.7034701446912575.\n",
      "[I 2024-02-09 11:35:29,900] Trial 43 finished with value: 0.669618911758712 and parameters: {'n_neighbors': 12}. Best is trial 8 with value: 0.7034701446912575.\n",
      "[I 2024-02-09 11:35:30,011] Trial 44 finished with value: 0.6696183003872019 and parameters: {'n_neighbors': 10}. Best is trial 8 with value: 0.7034701446912575.\n",
      "[I 2024-02-09 11:35:30,134] Trial 45 finished with value: 0.6633334012635012 and parameters: {'n_neighbors': 11}. Best is trial 8 with value: 0.7034701446912575.\n",
      "[I 2024-02-09 11:35:30,220] Trial 46 finished with value: 0.6633334012635012 and parameters: {'n_neighbors': 11}. Best is trial 8 with value: 0.7034701446912575.\n",
      "[I 2024-02-09 11:35:30,330] Trial 47 finished with value: 0.669618911758712 and parameters: {'n_neighbors': 12}. Best is trial 8 with value: 0.7034701446912575.\n",
      "[I 2024-02-09 11:35:30,436] Trial 48 finished with value: 0.6696183003872019 and parameters: {'n_neighbors': 10}. Best is trial 8 with value: 0.7034701446912575.\n",
      "[I 2024-02-09 11:35:30,556] Trial 49 finished with value: 0.6696183003872019 and parameters: {'n_neighbors': 10}. Best is trial 8 with value: 0.7034701446912575.\n",
      "[I 2024-02-09 11:35:30,670] Trial 50 finished with value: 0.6701889137966169 and parameters: {'n_neighbors': 9}. Best is trial 8 with value: 0.7034701446912575.\n",
      "[I 2024-02-09 11:35:30,755] Trial 52 finished with value: 0.6823303444059509 and parameters: {'n_neighbors': 6}. Best is trial 8 with value: 0.7034701446912575.\n",
      "[I 2024-02-09 11:35:30,780] Trial 51 finished with value: 0.6826154473201549 and parameters: {'n_neighbors': 7}. Best is trial 8 with value: 0.7034701446912575.\n",
      "[I 2024-02-09 11:35:30,981] Trial 53 finished with value: 0.6823303444059509 and parameters: {'n_neighbors': 6}. Best is trial 8 with value: 0.7034701446912575.\n",
      "[I 2024-02-09 11:35:31,107] Trial 54 finished with value: 0.6823303444059509 and parameters: {'n_neighbors': 6}. Best is trial 8 with value: 0.7034701446912575.\n",
      "[I 2024-02-09 11:35:31,205] Trial 55 finished with value: 0.6823303444059509 and parameters: {'n_neighbors': 6}. Best is trial 8 with value: 0.7034701446912575.\n",
      "[I 2024-02-09 11:35:31,324] Trial 56 finished with value: 0.6823303444059509 and parameters: {'n_neighbors': 6}. Best is trial 8 with value: 0.7034701446912575.\n",
      "[I 2024-02-09 11:35:31,351] Trial 57 finished with value: 0.6823303444059509 and parameters: {'n_neighbors': 6}. Best is trial 8 with value: 0.7034701446912575.\n",
      "[I 2024-02-09 11:35:31,521] Trial 58 finished with value: 0.6823303444059509 and parameters: {'n_neighbors': 6}. Best is trial 8 with value: 0.7034701446912575.\n",
      "[I 2024-02-09 11:35:31,540] Trial 59 finished with value: 0.6823303444059509 and parameters: {'n_neighbors': 6}. Best is trial 8 with value: 0.7034701446912575.\n",
      "[I 2024-02-09 11:35:31,770] Trial 60 finished with value: 0.6823303444059509 and parameters: {'n_neighbors': 6}. Best is trial 8 with value: 0.7034701446912575.\n",
      "[I 2024-02-09 11:35:31,863] Trial 61 finished with value: 0.6823303444059509 and parameters: {'n_neighbors': 6}. Best is trial 8 with value: 0.7034701446912575.\n",
      "[I 2024-02-09 11:35:31,960] Trial 62 finished with value: 0.6823303444059509 and parameters: {'n_neighbors': 6}. Best is trial 8 with value: 0.7034701446912575.\n",
      "[I 2024-02-09 11:35:31,974] Trial 63 finished with value: 0.6823303444059509 and parameters: {'n_neighbors': 6}. Best is trial 8 with value: 0.7034701446912575.\n",
      "[I 2024-02-09 11:35:32,067] Trial 64 finished with value: 0.7034701446912575 and parameters: {'n_neighbors': 3}. Best is trial 8 with value: 0.7034701446912575.\n",
      "[I 2024-02-09 11:35:32,178] Trial 65 finished with value: 0.7034701446912575 and parameters: {'n_neighbors': 3}. Best is trial 8 with value: 0.7034701446912575.\n",
      "[I 2024-02-09 11:35:32,410] Trial 66 finished with value: 0.7034701446912575 and parameters: {'n_neighbors': 3}. Best is trial 8 with value: 0.7034701446912575.\n",
      "[I 2024-02-09 11:35:32,512] Trial 67 finished with value: 0.7034701446912575 and parameters: {'n_neighbors': 3}. Best is trial 8 with value: 0.7034701446912575.\n",
      "[I 2024-02-09 11:35:32,629] Trial 68 finished with value: 0.7034701446912575 and parameters: {'n_neighbors': 3}. Best is trial 8 with value: 0.7034701446912575.\n",
      "[I 2024-02-09 11:35:32,713] Trial 69 finished with value: 0.7034701446912575 and parameters: {'n_neighbors': 3}. Best is trial 8 with value: 0.7034701446912575.\n",
      "[I 2024-02-09 11:35:32,722] Trial 70 finished with value: 0.7034701446912575 and parameters: {'n_neighbors': 3}. Best is trial 8 with value: 0.7034701446912575.\n",
      "[I 2024-02-09 11:35:32,938] Trial 71 finished with value: 0.7034701446912575 and parameters: {'n_neighbors': 3}. Best is trial 8 with value: 0.7034701446912575.\n",
      "[I 2024-02-09 11:35:33,030] Trial 72 finished with value: 0.7034701446912575 and parameters: {'n_neighbors': 3}. Best is trial 8 with value: 0.7034701446912575.\n",
      "[I 2024-02-09 11:35:33,048] Trial 73 finished with value: 0.7034701446912575 and parameters: {'n_neighbors': 3}. Best is trial 8 with value: 0.7034701446912575.\n",
      "[I 2024-02-09 11:35:33,237] Trial 74 finished with value: 0.7034701446912575 and parameters: {'n_neighbors': 3}. Best is trial 8 with value: 0.7034701446912575.\n",
      "[I 2024-02-09 11:35:33,334] Trial 75 finished with value: 0.7034701446912575 and parameters: {'n_neighbors': 3}. Best is trial 8 with value: 0.7034701446912575.\n",
      "[I 2024-02-09 11:35:33,380] Trial 76 finished with value: 0.7034701446912575 and parameters: {'n_neighbors': 3}. Best is trial 8 with value: 0.7034701446912575.\n",
      "[I 2024-02-09 11:35:33,482] Trial 77 finished with value: 0.7034701446912575 and parameters: {'n_neighbors': 3}. Best is trial 8 with value: 0.7034701446912575.\n",
      "[I 2024-02-09 11:35:33,682] Trial 78 finished with value: 0.6930434073772163 and parameters: {'n_neighbors': 4}. Best is trial 8 with value: 0.7034701446912575.\n",
      "[I 2024-02-09 11:35:33,790] Trial 79 finished with value: 0.6733313633584675 and parameters: {'n_neighbors': 8}. Best is trial 8 with value: 0.7034701446912575.\n",
      "[I 2024-02-09 11:35:33,905] Trial 80 finished with value: 0.6733313633584675 and parameters: {'n_neighbors': 8}. Best is trial 8 with value: 0.7034701446912575.\n",
      "[I 2024-02-09 11:35:34,005] Trial 81 finished with value: 0.6733313633584675 and parameters: {'n_neighbors': 8}. Best is trial 8 with value: 0.7034701446912575.\n",
      "[I 2024-02-09 11:35:34,119] Trial 82 finished with value: 0.6733313633584675 and parameters: {'n_neighbors': 8}. Best is trial 8 with value: 0.7034701446912575.\n",
      "[I 2024-02-09 11:35:34,240] Trial 83 finished with value: 0.6733313633584675 and parameters: {'n_neighbors': 8}. Best is trial 8 with value: 0.7034701446912575.\n",
      "[I 2024-02-09 11:35:34,336] Trial 84 finished with value: 0.6733313633584675 and parameters: {'n_neighbors': 8}. Best is trial 8 with value: 0.7034701446912575.\n",
      "[I 2024-02-09 11:35:34,373] Trial 85 finished with value: 0.6733313633584675 and parameters: {'n_neighbors': 8}. Best is trial 8 with value: 0.7034701446912575.\n",
      "[I 2024-02-09 11:35:34,542] Trial 86 finished with value: 0.6733313633584675 and parameters: {'n_neighbors': 8}. Best is trial 8 with value: 0.7034701446912575.\n",
      "[I 2024-02-09 11:35:34,555] Trial 87 finished with value: 0.6733313633584675 and parameters: {'n_neighbors': 8}. Best is trial 8 with value: 0.7034701446912575.\n",
      "[I 2024-02-09 11:35:34,767] Trial 88 finished with value: 0.6733313633584675 and parameters: {'n_neighbors': 8}. Best is trial 8 with value: 0.7034701446912575.\n",
      "[I 2024-02-09 11:35:34,881] Trial 89 finished with value: 0.6244782963113918 and parameters: {'n_neighbors': 24}. Best is trial 8 with value: 0.7034701446912575.\n",
      "[I 2024-02-09 11:35:34,901] Trial 90 finished with value: 0.6733313633584675 and parameters: {'n_neighbors': 8}. Best is trial 8 with value: 0.7034701446912575.\n",
      "[I 2024-02-09 11:35:35,104] Trial 91 finished with value: 0.6733313633584675 and parameters: {'n_neighbors': 8}. Best is trial 8 with value: 0.7034701446912575.\n",
      "[I 2024-02-09 11:35:35,216] Trial 93 finished with value: 0.626762787854086 and parameters: {'n_neighbors': 23}. Best is trial 8 with value: 0.7034701446912575.\n",
      "[I 2024-02-09 11:35:35,217] Trial 92 finished with value: 0.6001931933971877 and parameters: {'n_neighbors': 37}. Best is trial 8 with value: 0.7034701446912575.\n",
      "[I 2024-02-09 11:35:35,418] Trial 94 finished with value: 0.6207642143876095 and parameters: {'n_neighbors': 25}. Best is trial 8 with value: 0.7034701446912575.\n",
      "[I 2024-02-09 11:35:35,532] Trial 95 finished with value: 0.6190491135113104 and parameters: {'n_neighbors': 27}. Best is trial 8 with value: 0.7034701446912575.\n",
      "[I 2024-02-09 11:35:35,533] Trial 96 finished with value: 0.6206207458732422 and parameters: {'n_neighbors': 26}. Best is trial 8 with value: 0.7034701446912575.\n",
      "[I 2024-02-09 11:35:35,647] Trial 97 finished with value: 0.6857572855104952 and parameters: {'n_neighbors': 5}. Best is trial 8 with value: 0.7034701446912575.\n",
      "[I 2024-02-09 11:35:35,852] Trial 98 finished with value: 0.603051151416344 and parameters: {'n_neighbors': 35}. Best is trial 8 with value: 0.7034701446912575.\n",
      "[I 2024-02-09 11:35:35,935] Trial 99 finished with value: 0.626762787854086 and parameters: {'n_neighbors': 23}. Best is trial 8 with value: 0.7034701446912575.\n"
     ]
    },
    {
     "name": "stdout",
     "output_type": "stream",
     "text": [
      "FrozenTrial(number=8, state=1, values=[0.7034701446912575], datetime_start=datetime.datetime(2024, 2, 9, 11, 35, 23, 964983), datetime_complete=datetime.datetime(2024, 2, 9, 11, 35, 26, 186717), params={'n_neighbors': 3}, user_attrs={}, system_attrs={}, intermediate_values={}, distributions={'n_neighbors': IntDistribution(high=49, log=False, low=3, step=1)}, trial_id=8, value=None)\n"
     ]
    }
   ],
   "source": [
    "knn_pca_result = optimize_hyperparameters('knn', X_pca_train, y_train, n_trials=100)\n",
    "print(knn_pca_result)"
   ]
  },
  {
   "cell_type": "code",
   "execution_count": 11,
   "metadata": {},
   "outputs": [
    {
     "data": {
      "text/plain": [
       "{'n_neighbors': 3}"
      ]
     },
     "execution_count": 11,
     "metadata": {},
     "output_type": "execute_result"
    }
   ],
   "source": [
    "knn_pca_result.params"
   ]
  },
  {
   "cell_type": "code",
   "execution_count": 12,
   "metadata": {},
   "outputs": [
    {
     "data": {
      "text/plain": [
       "0.7034701446912575"
      ]
     },
     "execution_count": 12,
     "metadata": {},
     "output_type": "execute_result"
    }
   ],
   "source": [
    "knn_pca_result.value"
   ]
  },
  {
   "cell_type": "code",
   "execution_count": 13,
   "metadata": {},
   "outputs": [
    {
     "data": {
      "text/plain": [
       "0.7070245573957739"
      ]
     },
     "execution_count": 13,
     "metadata": {},
     "output_type": "execute_result"
    }
   ],
   "source": [
    "best_knn_model_pca = KNeighborsClassifier(n_jobs=-1, **knn_pca_result.params)\n",
    "best_knn_model_pca.fit(X_pca_train, y_train)\n",
    "best_knn_model_pca.score(X_pca_test, y_test)"
   ]
  },
  {
   "cell_type": "markdown",
   "metadata": {},
   "source": [
    "### Decision Tree"
   ]
  },
  {
   "cell_type": "markdown",
   "metadata": {},
   "source": [
    "#### PCA"
   ]
  },
  {
   "cell_type": "code",
   "execution_count": 18,
   "metadata": {},
   "outputs": [
    {
     "name": "stderr",
     "output_type": "stream",
     "text": [
      "[I 2024-02-09 11:47:06,461] A new study created in memory with name: no-name-78cd5442-a842-499b-b96f-ae3b19d61338\n",
      "[I 2024-02-09 11:47:07,434] Trial 7 finished with value: 0.42293967801100474 and parameters: {'max_depth': 3, 'min_samples_split': 2, 'min_samples_leaf': 1, 'max_leaf_nodes': 16}. Best is trial 7 with value: 0.42293967801100474.\n",
      "[I 2024-02-09 11:47:08,868] Trial 1 finished with value: 0.5219239861422458 and parameters: {'max_depth': 10, 'min_samples_split': 7, 'min_samples_leaf': 11, 'max_leaf_nodes': 10}. Best is trial 1 with value: 0.5219239861422458.\n",
      "[I 2024-02-09 11:47:10,410] Trial 2 finished with value: 0.5432054208273894 and parameters: {'max_depth': 25, 'min_samples_split': 9, 'min_samples_leaf': 1, 'max_leaf_nodes': 18}. Best is trial 2 with value: 0.5432054208273894.\n",
      "[I 2024-02-09 11:47:10,622] Trial 9 finished with value: 0.40337049113511314 and parameters: {'max_depth': 28, 'min_samples_split': 32, 'min_samples_leaf': 15, 'max_leaf_nodes': 3}. Best is trial 2 with value: 0.5432054208273894.\n",
      "[I 2024-02-09 11:47:12,238] Trial 0 finished with value: 0.5572031791318525 and parameters: {'max_depth': 18, 'min_samples_split': 35, 'min_samples_leaf': 9, 'max_leaf_nodes': 26}. Best is trial 0 with value: 0.5572031791318525.\n",
      "[I 2024-02-09 11:47:13,938] Trial 3 finished with value: 0.5419211330751987 and parameters: {'max_depth': 28, 'min_samples_split': 23, 'min_samples_leaf': 10, 'max_leaf_nodes': 16}. Best is trial 0 with value: 0.5572031791318525.\n",
      "[I 2024-02-09 11:47:15,611] Trial 11 finished with value: 0.5472058284083962 and parameters: {'max_depth': 11, 'min_samples_split': 40, 'min_samples_leaf': 5, 'max_leaf_nodes': 20}. Best is trial 0 with value: 0.5572031791318525.\n",
      "[I 2024-02-09 11:47:16,603] Trial 10 finished with value: 0.5162107193804769 and parameters: {'max_depth': 29, 'min_samples_split': 4, 'min_samples_leaf': 1, 'max_leaf_nodes': 9}. Best is trial 0 with value: 0.5572031791318525.\n",
      "[I 2024-02-09 11:47:17,926] Trial 6 finished with value: 0.5219239861422458 and parameters: {'max_depth': 16, 'min_samples_split': 10, 'min_samples_leaf': 14, 'max_leaf_nodes': 10}. Best is trial 0 with value: 0.5572031791318525.\n",
      "[I 2024-02-09 11:47:19,118] Trial 5 finished with value: 0.5607744039127777 and parameters: {'max_depth': 28, 'min_samples_split': 10, 'min_samples_leaf': 10, 'max_leaf_nodes': 28}. Best is trial 5 with value: 0.5607744039127777.\n",
      "[I 2024-02-09 11:47:20,484] Trial 4 finished with value: 0.5162107193804769 and parameters: {'max_depth': 26, 'min_samples_split': 3, 'min_samples_leaf': 10, 'max_leaf_nodes': 9}. Best is trial 5 with value: 0.5607744039127777.\n",
      "[I 2024-02-09 11:47:20,581] Trial 8 finished with value: 0.42336824943957607 and parameters: {'max_depth': 3, 'min_samples_split': 21, 'min_samples_leaf': 18, 'max_leaf_nodes': 24}. Best is trial 5 with value: 0.5607744039127777.\n",
      "[I 2024-02-09 11:47:22,090] Trial 12 finished with value: 0.5257805176278785 and parameters: {'max_depth': 28, 'min_samples_split': 17, 'min_samples_leaf': 4, 'max_leaf_nodes': 11}. Best is trial 5 with value: 0.5607744039127777.\n",
      "[I 2024-02-09 11:47:23,602] Trial 13 finished with value: 0.5474911351131037 and parameters: {'max_depth': 19, 'min_samples_split': 6, 'min_samples_leaf': 10, 'max_leaf_nodes': 20}. Best is trial 5 with value: 0.5607744039127777.\n",
      "[I 2024-02-09 11:47:25,232] Trial 14 finished with value: 0.5429211330751987 and parameters: {'max_depth': 12, 'min_samples_split': 35, 'min_samples_leaf': 1, 'max_leaf_nodes': 17}. Best is trial 5 with value: 0.5607744039127777.\n",
      "[I 2024-02-09 11:47:26,238] Trial 15 finished with value: 0.5162107193804769 and parameters: {'max_depth': 21, 'min_samples_split': 37, 'min_samples_leaf': 20, 'max_leaf_nodes': 9}. Best is trial 5 with value: 0.5607744039127777.\n",
      "[I 2024-02-09 11:47:27,882] Trial 16 finished with value: 0.5497766456083146 and parameters: {'max_depth': 20, 'min_samples_split': 24, 'min_samples_leaf': 2, 'max_leaf_nodes': 21}. Best is trial 5 with value: 0.5607744039127777.\n",
      "[I 2024-02-09 11:47:29,087] Trial 18 finished with value: 0.40337049113511314 and parameters: {'max_depth': 29, 'min_samples_split': 23, 'min_samples_leaf': 16, 'max_leaf_nodes': 3}. Best is trial 5 with value: 0.5607744039127777.\n",
      "[I 2024-02-09 11:47:29,225] Trial 17 finished with value: 0.555774607703281 and parameters: {'max_depth': 21, 'min_samples_split': 11, 'min_samples_leaf': 14, 'max_leaf_nodes': 25}. Best is trial 5 with value: 0.5607744039127777.\n",
      "[I 2024-02-09 11:47:30,000] Trial 19 finished with value: 0.4276535561442837 and parameters: {'max_depth': 28, 'min_samples_split': 23, 'min_samples_leaf': 17, 'max_leaf_nodes': 4}. Best is trial 5 with value: 0.5607744039127777.\n",
      "[I 2024-02-09 11:47:31,607] Trial 20 finished with value: 0.5382068473609131 and parameters: {'max_depth': 13, 'min_samples_split': 19, 'min_samples_leaf': 3, 'max_leaf_nodes': 15}. Best is trial 5 with value: 0.5607744039127777.\n",
      "[I 2024-02-09 11:47:33,439] Trial 21 finished with value: 0.5594886896270634 and parameters: {'max_depth': 18, 'min_samples_split': 17, 'min_samples_leaf': 19, 'max_leaf_nodes': 28}. Best is trial 5 with value: 0.5607744039127777.\n",
      "[I 2024-02-09 11:47:34,874] Trial 22 finished with value: 0.5632021601793357 and parameters: {'max_depth': 21, 'min_samples_split': 19, 'min_samples_leaf': 19, 'max_leaf_nodes': 30}. Best is trial 22 with value: 0.5632021601793357.\n",
      "[I 2024-02-09 11:47:36,706] Trial 23 finished with value: 0.5616303240269004 and parameters: {'max_depth': 21, 'min_samples_split': 17, 'min_samples_leaf': 6, 'max_leaf_nodes': 29}. Best is trial 22 with value: 0.5632021601793357.\n",
      "[I 2024-02-09 11:47:38,517] Trial 24 finished with value: 0.5633450173221928 and parameters: {'max_depth': 21, 'min_samples_split': 31, 'min_samples_leaf': 7, 'max_leaf_nodes': 30}. Best is trial 24 with value: 0.5633450173221928.\n",
      "[I 2024-02-09 11:47:39,590] Trial 25 finished with value: 0.5633450173221928 and parameters: {'max_depth': 21, 'min_samples_split': 31, 'min_samples_leaf': 7, 'max_leaf_nodes': 30}. Best is trial 24 with value: 0.5633450173221928.\n",
      "[I 2024-02-09 11:47:41,078] Trial 26 finished with value: 0.5616303240269004 and parameters: {'max_depth': 21, 'min_samples_split': 27, 'min_samples_leaf': 7, 'max_leaf_nodes': 29}. Best is trial 24 with value: 0.5633450173221928.\n",
      "[I 2024-02-09 11:47:42,757] Trial 27 finished with value: 0.5607744039127777 and parameters: {'max_depth': 22, 'min_samples_split': 28, 'min_samples_leaf': 7, 'max_leaf_nodes': 28}. Best is trial 24 with value: 0.5633450173221928.\n",
      "[I 2024-02-09 11:47:44,476] Trial 28 finished with value: 0.5616303240269004 and parameters: {'max_depth': 23, 'min_samples_split': 14, 'min_samples_leaf': 7, 'max_leaf_nodes': 29}. Best is trial 24 with value: 0.5633450173221928.\n",
      "[I 2024-02-09 11:47:45,985] Trial 29 finished with value: 0.5616303240269004 and parameters: {'max_depth': 15, 'min_samples_split': 14, 'min_samples_leaf': 7, 'max_leaf_nodes': 29}. Best is trial 24 with value: 0.5633450173221928.\n",
      "[I 2024-02-09 11:47:47,710] Trial 30 finished with value: 0.5633450173221928 and parameters: {'max_depth': 24, 'min_samples_split': 29, 'min_samples_leaf': 7, 'max_leaf_nodes': 30}. Best is trial 24 with value: 0.5633450173221928.\n",
      "[I 2024-02-09 11:47:49,006] Trial 31 finished with value: 0.5616303240269004 and parameters: {'max_depth': 24, 'min_samples_split': 28, 'min_samples_leaf': 7, 'max_leaf_nodes': 29}. Best is trial 24 with value: 0.5633450173221928.\n",
      "[I 2024-02-09 11:47:50,516] Trial 32 finished with value: 0.5633450173221928 and parameters: {'max_depth': 23, 'min_samples_split': 13, 'min_samples_leaf': 7, 'max_leaf_nodes': 30}. Best is trial 24 with value: 0.5633450173221928.\n",
      "[I 2024-02-09 11:47:52,152] Trial 33 finished with value: 0.5633450173221928 and parameters: {'max_depth': 17, 'min_samples_split': 13, 'min_samples_leaf': 8, 'max_leaf_nodes': 30}. Best is trial 24 with value: 0.5633450173221928.\n",
      "[I 2024-02-09 11:47:53,461] Trial 34 finished with value: 0.5633450173221928 and parameters: {'max_depth': 24, 'min_samples_split': 16, 'min_samples_leaf': 20, 'max_leaf_nodes': 30}. Best is trial 24 with value: 0.5633450173221928.\n",
      "[I 2024-02-09 11:47:55,314] Trial 35 finished with value: 0.5616303240269004 and parameters: {'max_depth': 24, 'min_samples_split': 14, 'min_samples_leaf': 7, 'max_leaf_nodes': 29}. Best is trial 24 with value: 0.5633450173221928.\n",
      "[I 2024-02-09 11:47:57,039] Trial 36 finished with value: 0.5633450173221928 and parameters: {'max_depth': 23, 'min_samples_split': 28, 'min_samples_leaf': 7, 'max_leaf_nodes': 30}. Best is trial 24 with value: 0.5633450173221928.\n",
      "[I 2024-02-09 11:47:58,572] Trial 37 finished with value: 0.5633450173221928 and parameters: {'max_depth': 24, 'min_samples_split': 28, 'min_samples_leaf': 8, 'max_leaf_nodes': 30}. Best is trial 24 with value: 0.5633450173221928.\n",
      "[I 2024-02-09 11:47:59,781] Trial 38 finished with value: 0.5633450173221928 and parameters: {'max_depth': 24, 'min_samples_split': 29, 'min_samples_leaf': 8, 'max_leaf_nodes': 30}. Best is trial 24 with value: 0.5633450173221928.\n",
      "[I 2024-02-09 11:48:01,698] Trial 39 finished with value: 0.5633450173221928 and parameters: {'max_depth': 24, 'min_samples_split': 30, 'min_samples_leaf': 12, 'max_leaf_nodes': 30}. Best is trial 24 with value: 0.5633450173221928.\n",
      "[I 2024-02-09 11:48:02,790] Trial 40 finished with value: 0.5572031791318525 and parameters: {'max_depth': 17, 'min_samples_split': 30, 'min_samples_leaf': 12, 'max_leaf_nodes': 26}. Best is trial 24 with value: 0.5633450173221928.\n",
      "[I 2024-02-09 11:48:04,347] Trial 41 finished with value: 0.5517748114937844 and parameters: {'max_depth': 25, 'min_samples_split': 31, 'min_samples_leaf': 13, 'max_leaf_nodes': 23}. Best is trial 24 with value: 0.5633450173221928.\n",
      "[I 2024-02-09 11:48:05,691] Trial 42 finished with value: 0.5572031791318525 and parameters: {'max_depth': 24, 'min_samples_split': 30, 'min_samples_leaf': 8, 'max_leaf_nodes': 26}. Best is trial 24 with value: 0.5633450173221928.\n",
      "[I 2024-02-09 11:48:07,251] Trial 43 finished with value: 0.5572031791318525 and parameters: {'max_depth': 16, 'min_samples_split': 30, 'min_samples_leaf': 12, 'max_leaf_nodes': 26}. Best is trial 24 with value: 0.5633450173221928.\n",
      "[I 2024-02-09 11:48:08,796] Trial 44 finished with value: 0.5572031791318525 and parameters: {'max_depth': 26, 'min_samples_split': 32, 'min_samples_leaf': 12, 'max_leaf_nodes': 26}. Best is trial 24 with value: 0.5633450173221928.\n",
      "[I 2024-02-09 11:48:10,278] Trial 45 finished with value: 0.5519176686366416 and parameters: {'max_depth': 25, 'min_samples_split': 32, 'min_samples_leaf': 5, 'max_leaf_nodes': 23}. Best is trial 24 with value: 0.5633450173221928.\n",
      "[I 2024-02-09 11:48:11,800] Trial 46 finished with value: 0.5572031791318525 and parameters: {'max_depth': 26, 'min_samples_split': 31, 'min_samples_leaf': 5, 'max_leaf_nodes': 26}. Best is trial 24 with value: 0.5633450173221928.\n",
      "[I 2024-02-09 11:48:13,639] Trial 47 finished with value: 0.5572031791318525 and parameters: {'max_depth': 26, 'min_samples_split': 31, 'min_samples_leaf': 12, 'max_leaf_nodes': 26}. Best is trial 24 with value: 0.5633450173221928.\n",
      "[I 2024-02-09 11:48:14,988] Trial 48 finished with value: 0.5572031791318525 and parameters: {'max_depth': 26, 'min_samples_split': 32, 'min_samples_leaf': 12, 'max_leaf_nodes': 26}. Best is trial 24 with value: 0.5633450173221928.\n",
      "[I 2024-02-09 11:48:16,429] Trial 49 finished with value: 0.5519176686366416 and parameters: {'max_depth': 26, 'min_samples_split': 32, 'min_samples_leaf': 12, 'max_leaf_nodes': 23}. Best is trial 24 with value: 0.5633450173221928.\n",
      "[I 2024-02-09 11:48:18,009] Trial 50 finished with value: 0.5572031791318525 and parameters: {'max_depth': 26, 'min_samples_split': 32, 'min_samples_leaf': 12, 'max_leaf_nodes': 26}. Best is trial 24 with value: 0.5633450173221928.\n",
      "[I 2024-02-09 11:48:19,623] Trial 51 finished with value: 0.5572031791318525 and parameters: {'max_depth': 26, 'min_samples_split': 33, 'min_samples_leaf': 12, 'max_leaf_nodes': 26}. Best is trial 24 with value: 0.5633450173221928.\n",
      "[I 2024-02-09 11:48:21,325] Trial 52 finished with value: 0.5590597106174853 and parameters: {'max_depth': 26, 'min_samples_split': 33, 'min_samples_leaf': 9, 'max_leaf_nodes': 27}. Best is trial 24 with value: 0.5633450173221928.\n",
      "[I 2024-02-09 11:48:22,846] Trial 53 finished with value: 0.5590597106174853 and parameters: {'max_depth': 26, 'min_samples_split': 33, 'min_samples_leaf': 9, 'max_leaf_nodes': 27}. Best is trial 24 with value: 0.5633450173221928.\n",
      "[I 2024-02-09 11:48:24,288] Trial 54 finished with value: 0.5590597106174853 and parameters: {'max_depth': 15, 'min_samples_split': 33, 'min_samples_leaf': 5, 'max_leaf_nodes': 27}. Best is trial 24 with value: 0.5633450173221928.\n",
      "[I 2024-02-09 11:48:25,805] Trial 55 finished with value: 0.5590597106174853 and parameters: {'max_depth': 26, 'min_samples_split': 34, 'min_samples_leaf': 5, 'max_leaf_nodes': 27}. Best is trial 24 with value: 0.5633450173221928.\n",
      "[I 2024-02-09 11:48:26,782] Trial 56 finished with value: 0.49964030976156504 and parameters: {'max_depth': 6, 'min_samples_split': 25, 'min_samples_leaf': 5, 'max_leaf_nodes': 27}. Best is trial 24 with value: 0.5633450173221928.\n",
      "[I 2024-02-09 11:48:28,439] Trial 57 finished with value: 0.5590597106174853 and parameters: {'max_depth': 19, 'min_samples_split': 25, 'min_samples_leaf': 9, 'max_leaf_nodes': 27}. Best is trial 24 with value: 0.5633450173221928.\n",
      "[I 2024-02-09 11:48:30,134] Trial 58 finished with value: 0.5590597106174853 and parameters: {'max_depth': 19, 'min_samples_split': 34, 'min_samples_leaf': 9, 'max_leaf_nodes': 27}. Best is trial 24 with value: 0.5633450173221928.\n",
      "[I 2024-02-09 11:48:31,666] Trial 59 finished with value: 0.5590597106174853 and parameters: {'max_depth': 18, 'min_samples_split': 34, 'min_samples_leaf': 9, 'max_leaf_nodes': 27}. Best is trial 24 with value: 0.5633450173221928.\n",
      "[I 2024-02-09 11:48:33,528] Trial 60 finished with value: 0.5590597106174853 and parameters: {'max_depth': 19, 'min_samples_split': 36, 'min_samples_leaf': 9, 'max_leaf_nodes': 27}. Best is trial 24 with value: 0.5633450173221928.\n",
      "[I 2024-02-09 11:48:34,737] Trial 61 finished with value: 0.5252072549419198 and parameters: {'max_depth': 7, 'min_samples_split': 35, 'min_samples_leaf': 9, 'max_leaf_nodes': 28}. Best is trial 24 with value: 0.5633450173221928.\n",
      "[I 2024-02-09 11:48:35,974] Trial 62 finished with value: 0.5607744039127777 and parameters: {'max_depth': 19, 'min_samples_split': 12, 'min_samples_leaf': 9, 'max_leaf_nodes': 28}. Best is trial 24 with value: 0.5633450173221928.\n",
      "[I 2024-02-09 11:48:37,617] Trial 63 finished with value: 0.5607744039127777 and parameters: {'max_depth': 19, 'min_samples_split': 12, 'min_samples_leaf': 9, 'max_leaf_nodes': 28}. Best is trial 24 with value: 0.5633450173221928.\n",
      "[I 2024-02-09 11:48:39,283] Trial 64 finished with value: 0.5607744039127777 and parameters: {'max_depth': 19, 'min_samples_split': 12, 'min_samples_leaf': 9, 'max_leaf_nodes': 28}. Best is trial 24 with value: 0.5633450173221928.\n",
      "[I 2024-02-09 11:48:41,274] Trial 65 finished with value: 0.5607744039127777 and parameters: {'max_depth': 19, 'min_samples_split': 8, 'min_samples_leaf': 4, 'max_leaf_nodes': 28}. Best is trial 24 with value: 0.5633450173221928.\n",
      "[I 2024-02-09 11:48:41,950] Trial 66 finished with value: 0.4996399021805583 and parameters: {'max_depth': 6, 'min_samples_split': 12, 'min_samples_leaf': 4, 'max_leaf_nodes': 28}. Best is trial 24 with value: 0.5633450173221928.\n",
      "[I 2024-02-09 11:48:43,445] Trial 67 finished with value: 0.5607744039127777 and parameters: {'max_depth': 19, 'min_samples_split': 8, 'min_samples_leaf': 10, 'max_leaf_nodes': 28}. Best is trial 24 with value: 0.5633450173221928.\n",
      "[I 2024-02-09 11:48:44,835] Trial 68 finished with value: 0.553774607703281 and parameters: {'max_depth': 19, 'min_samples_split': 12, 'min_samples_leaf': 10, 'max_leaf_nodes': 24}. Best is trial 24 with value: 0.5633450173221928.\n",
      "[I 2024-02-09 11:48:46,642] Trial 69 finished with value: 0.553774607703281 and parameters: {'max_depth': 19, 'min_samples_split': 8, 'min_samples_leaf': 3, 'max_leaf_nodes': 24}. Best is trial 24 with value: 0.5633450173221928.\n",
      "[I 2024-02-09 11:48:47,949] Trial 70 finished with value: 0.553774607703281 and parameters: {'max_depth': 22, 'min_samples_split': 37, 'min_samples_leaf': 6, 'max_leaf_nodes': 24}. Best is trial 24 with value: 0.5633450173221928.\n",
      "[I 2024-02-09 11:48:49,732] Trial 71 finished with value: 0.553774607703281 and parameters: {'max_depth': 22, 'min_samples_split': 8, 'min_samples_leaf': 3, 'max_leaf_nodes': 24}. Best is trial 24 with value: 0.5633450173221928.\n",
      "[I 2024-02-09 11:48:50,939] Trial 72 finished with value: 0.5633450173221928 and parameters: {'max_depth': 22, 'min_samples_split': 15, 'min_samples_leaf': 6, 'max_leaf_nodes': 30}. Best is trial 24 with value: 0.5633450173221928.\n",
      "[I 2024-02-09 11:48:52,809] Trial 73 finished with value: 0.5633450173221928 and parameters: {'max_depth': 22, 'min_samples_split': 12, 'min_samples_leaf': 6, 'max_leaf_nodes': 30}. Best is trial 24 with value: 0.5633450173221928.\n",
      "[I 2024-02-09 11:48:54,423] Trial 74 finished with value: 0.5633450173221928 and parameters: {'max_depth': 22, 'min_samples_split': 7, 'min_samples_leaf': 6, 'max_leaf_nodes': 30}. Best is trial 24 with value: 0.5633450173221928.\n",
      "[I 2024-02-09 11:48:56,218] Trial 75 finished with value: 0.5633450173221928 and parameters: {'max_depth': 22, 'min_samples_split': 38, 'min_samples_leaf': 6, 'max_leaf_nodes': 30}. Best is trial 24 with value: 0.5633450173221928.\n",
      "[I 2024-02-09 11:48:57,475] Trial 76 finished with value: 0.5633450173221928 and parameters: {'max_depth': 22, 'min_samples_split': 7, 'min_samples_leaf': 6, 'max_leaf_nodes': 30}. Best is trial 24 with value: 0.5633450173221928.\n",
      "[I 2024-02-09 11:48:59,174] Trial 77 finished with value: 0.5633450173221928 and parameters: {'max_depth': 23, 'min_samples_split': 38, 'min_samples_leaf': 6, 'max_leaf_nodes': 30}. Best is trial 24 with value: 0.5633450173221928.\n",
      "[I 2024-02-09 11:49:00,740] Trial 78 finished with value: 0.5633450173221928 and parameters: {'max_depth': 22, 'min_samples_split': 38, 'min_samples_leaf': 6, 'max_leaf_nodes': 30}. Best is trial 24 with value: 0.5633450173221928.\n",
      "[I 2024-02-09 11:49:02,173] Trial 79 finished with value: 0.5633450173221928 and parameters: {'max_depth': 22, 'min_samples_split': 39, 'min_samples_leaf': 6, 'max_leaf_nodes': 30}. Best is trial 24 with value: 0.5633450173221928.\n",
      "[I 2024-02-09 11:49:03,918] Trial 80 finished with value: 0.5633450173221928 and parameters: {'max_depth': 22, 'min_samples_split': 20, 'min_samples_leaf': 6, 'max_leaf_nodes': 30}. Best is trial 24 with value: 0.5633450173221928.\n",
      "[I 2024-02-09 11:49:05,764] Trial 81 finished with value: 0.5633450173221928 and parameters: {'max_depth': 22, 'min_samples_split': 16, 'min_samples_leaf': 6, 'max_leaf_nodes': 30}. Best is trial 24 with value: 0.5633450173221928.\n",
      "[I 2024-02-09 11:49:07,021] Trial 82 finished with value: 0.5633450173221928 and parameters: {'max_depth': 22, 'min_samples_split': 27, 'min_samples_leaf': 6, 'max_leaf_nodes': 30}. Best is trial 24 with value: 0.5633450173221928.\n",
      "[I 2024-02-09 11:49:08,790] Trial 83 finished with value: 0.5633450173221928 and parameters: {'max_depth': 23, 'min_samples_split': 16, 'min_samples_leaf': 6, 'max_leaf_nodes': 30}. Best is trial 24 with value: 0.5633450173221928.\n",
      "[I 2024-02-09 11:49:10,023] Trial 84 finished with value: 0.5633450173221928 and parameters: {'max_depth': 23, 'min_samples_split': 27, 'min_samples_leaf': 8, 'max_leaf_nodes': 30}. Best is trial 24 with value: 0.5633450173221928.\n",
      "[I 2024-02-09 11:49:11,697] Trial 85 finished with value: 0.5314931730181375 and parameters: {'max_depth': 23, 'min_samples_split': 27, 'min_samples_leaf': 8, 'max_leaf_nodes': 13}. Best is trial 24 with value: 0.5633450173221928.\n",
      "[I 2024-02-09 11:49:13,132] Trial 86 finished with value: 0.5633450173221928 and parameters: {'max_depth': 23, 'min_samples_split': 27, 'min_samples_leaf': 8, 'max_leaf_nodes': 30}. Best is trial 24 with value: 0.5633450173221928.\n",
      "[I 2024-02-09 11:49:14,733] Trial 87 finished with value: 0.5616303240269004 and parameters: {'max_depth': 28, 'min_samples_split': 27, 'min_samples_leaf': 8, 'max_leaf_nodes': 29}. Best is trial 24 with value: 0.5633450173221928.\n",
      "[I 2024-02-09 11:49:16,037] Trial 88 finished with value: 0.5616303240269004 and parameters: {'max_depth': 23, 'min_samples_split': 21, 'min_samples_leaf': 8, 'max_leaf_nodes': 29}. Best is trial 24 with value: 0.5633450173221928.\n",
      "[I 2024-02-09 11:49:17,782] Trial 89 finished with value: 0.5616303240269004 and parameters: {'max_depth': 23, 'min_samples_split': 27, 'min_samples_leaf': 8, 'max_leaf_nodes': 29}. Best is trial 24 with value: 0.5633450173221928.\n",
      "[I 2024-02-09 11:49:19,023] Trial 90 finished with value: 0.5357782759323417 and parameters: {'max_depth': 30, 'min_samples_split': 20, 'min_samples_leaf': 8, 'max_leaf_nodes': 14}. Best is trial 24 with value: 0.5633450173221928.\n",
      "[I 2024-02-09 11:49:19,794] Trial 91 finished with value: 0.4760749949052374 and parameters: {'max_depth': 30, 'min_samples_split': 27, 'min_samples_leaf': 8, 'max_leaf_nodes': 6}. Best is trial 24 with value: 0.5633450173221928.\n",
      "[I 2024-02-09 11:49:21,162] Trial 92 finished with value: 0.5314931730181375 and parameters: {'max_depth': 30, 'min_samples_split': 28, 'min_samples_leaf': 8, 'max_leaf_nodes': 13}. Best is trial 24 with value: 0.5633450173221928.\n",
      "[I 2024-02-09 11:49:22,390] Trial 93 finished with value: 0.5357782759323417 and parameters: {'max_depth': 24, 'min_samples_split': 28, 'min_samples_leaf': 8, 'max_leaf_nodes': 14}. Best is trial 24 with value: 0.5633450173221928.\n",
      "[I 2024-02-09 11:49:24,045] Trial 94 finished with value: 0.5616303240269004 and parameters: {'max_depth': 30, 'min_samples_split': 29, 'min_samples_leaf': 8, 'max_leaf_nodes': 29}. Best is trial 24 with value: 0.5633450173221928.\n",
      "[I 2024-02-09 11:49:25,722] Trial 95 finished with value: 0.5616303240269004 and parameters: {'max_depth': 25, 'min_samples_split': 28, 'min_samples_leaf': 8, 'max_leaf_nodes': 29}. Best is trial 24 with value: 0.5633450173221928.\n",
      "[I 2024-02-09 11:49:27,250] Trial 96 finished with value: 0.5616303240269004 and parameters: {'max_depth': 25, 'min_samples_split': 28, 'min_samples_leaf': 8, 'max_leaf_nodes': 29}. Best is trial 24 with value: 0.5633450173221928.\n",
      "[I 2024-02-09 11:49:28,563] Trial 97 finished with value: 0.5616303240269004 and parameters: {'max_depth': 24, 'min_samples_split': 29, 'min_samples_leaf': 8, 'max_leaf_nodes': 29}. Best is trial 24 with value: 0.5633450173221928.\n",
      "[I 2024-02-09 11:49:30,305] Trial 98 finished with value: 0.5616303240269004 and parameters: {'max_depth': 27, 'min_samples_split': 29, 'min_samples_leaf': 8, 'max_leaf_nodes': 29}. Best is trial 24 with value: 0.5633450173221928.\n",
      "[I 2024-02-09 11:49:31,603] Trial 99 finished with value: 0.5616303240269004 and parameters: {'max_depth': 25, 'min_samples_split': 29, 'min_samples_leaf': 7, 'max_leaf_nodes': 29}. Best is trial 24 with value: 0.5633450173221928.\n",
      "[I 2024-02-09 11:49:32,524] Trial 100 finished with value: 0.4933562257998777 and parameters: {'max_depth': 25, 'min_samples_split': 29, 'min_samples_leaf': 7, 'max_leaf_nodes': 7}. Best is trial 24 with value: 0.5633450173221928.\n",
      "[I 2024-02-09 11:49:34,185] Trial 101 finished with value: 0.5616303240269004 and parameters: {'max_depth': 25, 'min_samples_split': 29, 'min_samples_leaf': 11, 'max_leaf_nodes': 29}. Best is trial 24 with value: 0.5633450173221928.\n",
      "[I 2024-02-09 11:49:35,736] Trial 102 finished with value: 0.5616303240269004 and parameters: {'max_depth': 24, 'min_samples_split': 30, 'min_samples_leaf': 11, 'max_leaf_nodes': 29}. Best is trial 24 with value: 0.5633450173221928.\n",
      "[I 2024-02-09 11:49:37,243] Trial 103 finished with value: 0.5616303240269004 and parameters: {'max_depth': 24, 'min_samples_split': 29, 'min_samples_leaf': 11, 'max_leaf_nodes': 29}. Best is trial 24 with value: 0.5633450173221928.\n",
      "[I 2024-02-09 11:49:39,002] Trial 104 finished with value: 0.561344609741186 and parameters: {'max_depth': 25, 'min_samples_split': 29, 'min_samples_leaf': 15, 'max_leaf_nodes': 29}. Best is trial 24 with value: 0.5633450173221928.\n",
      "[I 2024-02-09 11:49:40,727] Trial 105 finished with value: 0.5612017525983289 and parameters: {'max_depth': 27, 'min_samples_split': 30, 'min_samples_leaf': 16, 'max_leaf_nodes': 29}. Best is trial 24 with value: 0.5633450173221928.\n",
      "[I 2024-02-09 11:49:41,837] Trial 106 finished with value: 0.5610588954554718 and parameters: {'max_depth': 25, 'min_samples_split': 25, 'min_samples_leaf': 17, 'max_leaf_nodes': 29}. Best is trial 24 with value: 0.5633450173221928.\n",
      "[I 2024-02-09 11:49:43,426] Trial 107 finished with value: 0.5616303240269004 and parameters: {'max_depth': 27, 'min_samples_split': 30, 'min_samples_leaf': 7, 'max_leaf_nodes': 29}. Best is trial 24 with value: 0.5633450173221928.\n",
      "[I 2024-02-09 11:49:44,617] Trial 108 finished with value: 0.5432054208273894 and parameters: {'max_depth': 20, 'min_samples_split': 25, 'min_samples_leaf': 16, 'max_leaf_nodes': 18}. Best is trial 24 with value: 0.5633450173221928.\n",
      "[I 2024-02-09 11:49:46,137] Trial 109 finished with value: 0.5429211330751987 and parameters: {'max_depth': 27, 'min_samples_split': 25, 'min_samples_leaf': 7, 'max_leaf_nodes': 17}. Best is trial 24 with value: 0.5633450173221928.\n",
      "[I 2024-02-09 11:49:47,686] Trial 110 finished with value: 0.5474911351131037 and parameters: {'max_depth': 20, 'min_samples_split': 30, 'min_samples_leaf': 16, 'max_leaf_nodes': 20}. Best is trial 24 with value: 0.5633450173221928.\n",
      "[I 2024-02-09 11:49:48,983] Trial 111 finished with value: 0.5432054208273894 and parameters: {'max_depth': 20, 'min_samples_split': 25, 'min_samples_leaf': 16, 'max_leaf_nodes': 18}. Best is trial 24 with value: 0.5633450173221928.\n",
      "[I 2024-02-09 11:49:50,124] Trial 112 finished with value: 0.5474911351131037 and parameters: {'max_depth': 20, 'min_samples_split': 15, 'min_samples_leaf': 16, 'max_leaf_nodes': 20}. Best is trial 24 with value: 0.5633450173221928.\n",
      "[I 2024-02-09 11:49:51,689] Trial 113 finished with value: 0.5432054208273894 and parameters: {'max_depth': 20, 'min_samples_split': 25, 'min_samples_leaf': 18, 'max_leaf_nodes': 18}. Best is trial 24 with value: 0.5633450173221928.\n",
      "[I 2024-02-09 11:49:52,858] Trial 114 finished with value: 0.5432054208273894 and parameters: {'max_depth': 20, 'min_samples_split': 14, 'min_samples_leaf': 7, 'max_leaf_nodes': 18}. Best is trial 24 with value: 0.5633450173221928.\n",
      "[I 2024-02-09 11:49:54,491] Trial 115 finished with value: 0.5452054208273894 and parameters: {'max_depth': 20, 'min_samples_split': 15, 'min_samples_leaf': 17, 'max_leaf_nodes': 19}. Best is trial 24 with value: 0.5633450173221928.\n",
      "[I 2024-02-09 11:49:56,073] Trial 116 finished with value: 0.5452054208273894 and parameters: {'max_depth': 20, 'min_samples_split': 15, 'min_samples_leaf': 17, 'max_leaf_nodes': 19}. Best is trial 24 with value: 0.5633450173221928.\n",
      "[I 2024-02-09 11:49:57,233] Trial 117 finished with value: 0.5607744039127777 and parameters: {'max_depth': 20, 'min_samples_split': 15, 'min_samples_leaf': 7, 'max_leaf_nodes': 28}. Best is trial 24 with value: 0.5633450173221928.\n",
      "[I 2024-02-09 11:49:58,634] Trial 118 finished with value: 0.5429211330751987 and parameters: {'max_depth': 21, 'min_samples_split': 13, 'min_samples_leaf': 20, 'max_leaf_nodes': 17}. Best is trial 24 with value: 0.5633450173221928.\n",
      "[I 2024-02-09 11:50:00,324] Trial 119 finished with value: 0.5474911351131037 and parameters: {'max_depth': 20, 'min_samples_split': 14, 'min_samples_leaf': 20, 'max_leaf_nodes': 20}. Best is trial 24 with value: 0.5633450173221928.\n",
      "[I 2024-02-09 11:50:01,973] Trial 120 finished with value: 0.5607744039127777 and parameters: {'max_depth': 21, 'min_samples_split': 15, 'min_samples_leaf': 7, 'max_leaf_nodes': 28}. Best is trial 24 with value: 0.5633450173221928.\n",
      "[I 2024-02-09 11:50:03,658] Trial 121 finished with value: 0.5594886896270634 and parameters: {'max_depth': 20, 'min_samples_split': 15, 'min_samples_leaf': 19, 'max_leaf_nodes': 28}. Best is trial 24 with value: 0.5633450173221928.\n",
      "[I 2024-02-09 11:50:05,317] Trial 122 finished with value: 0.5607744039127777 and parameters: {'max_depth': 21, 'min_samples_split': 14, 'min_samples_leaf': 7, 'max_leaf_nodes': 28}. Best is trial 24 with value: 0.5633450173221928.\n",
      "[I 2024-02-09 11:50:06,827] Trial 123 finished with value: 0.5607744039127777 and parameters: {'max_depth': 21, 'min_samples_split': 10, 'min_samples_leaf': 7, 'max_leaf_nodes': 28}. Best is trial 24 with value: 0.5633450173221928.\n",
      "[I 2024-02-09 11:50:08,393] Trial 124 finished with value: 0.5607744039127777 and parameters: {'max_depth': 21, 'min_samples_split': 13, 'min_samples_leaf': 7, 'max_leaf_nodes': 28}. Best is trial 24 with value: 0.5633450173221928.\n",
      "[I 2024-02-09 11:50:09,853] Trial 125 finished with value: 0.5607744039127777 and parameters: {'max_depth': 21, 'min_samples_split': 10, 'min_samples_leaf': 7, 'max_leaf_nodes': 28}. Best is trial 24 with value: 0.5633450173221928.\n",
      "[I 2024-02-09 11:50:11,266] Trial 126 finished with value: 0.5607744039127777 and parameters: {'max_depth': 21, 'min_samples_split': 11, 'min_samples_leaf': 10, 'max_leaf_nodes': 28}. Best is trial 24 with value: 0.5633450173221928.\n",
      "[I 2024-02-09 11:50:12,898] Trial 127 finished with value: 0.5592029753413491 and parameters: {'max_depth': 21, 'min_samples_split': 10, 'min_samples_leaf': 20, 'max_leaf_nodes': 28}. Best is trial 24 with value: 0.5633450173221928.\n",
      "[I 2024-02-09 11:50:14,458] Trial 128 finished with value: 0.5592029753413491 and parameters: {'max_depth': 21, 'min_samples_split': 10, 'min_samples_leaf': 20, 'max_leaf_nodes': 28}. Best is trial 24 with value: 0.5633450173221928.\n",
      "[I 2024-02-09 11:50:16,151] Trial 129 finished with value: 0.5633450173221928 and parameters: {'max_depth': 21, 'min_samples_split': 10, 'min_samples_leaf': 4, 'max_leaf_nodes': 30}. Best is trial 24 with value: 0.5633450173221928.\n",
      "[I 2024-02-09 11:50:17,912] Trial 130 finished with value: 0.5633450173221928 and parameters: {'max_depth': 17, 'min_samples_split': 10, 'min_samples_leaf': 5, 'max_leaf_nodes': 30}. Best is trial 24 with value: 0.5633450173221928.\n",
      "[I 2024-02-09 11:50:18,991] Trial 131 finished with value: 0.5633450173221928 and parameters: {'max_depth': 21, 'min_samples_split': 18, 'min_samples_leaf': 5, 'max_leaf_nodes': 30}. Best is trial 24 with value: 0.5633450173221928.\n",
      "[I 2024-02-09 11:50:20,722] Trial 132 finished with value: 0.5632021601793357 and parameters: {'max_depth': 13, 'min_samples_split': 4, 'min_samples_leaf': 4, 'max_leaf_nodes': 30}. Best is trial 24 with value: 0.5633450173221928.\n",
      "[I 2024-02-09 11:50:22,099] Trial 133 finished with value: 0.5633450173221928 and parameters: {'max_depth': 14, 'min_samples_split': 4, 'min_samples_leaf': 5, 'max_leaf_nodes': 30}. Best is trial 24 with value: 0.5633450173221928.\n",
      "[I 2024-02-09 11:50:23,798] Trial 134 finished with value: 0.5633450173221928 and parameters: {'max_depth': 24, 'min_samples_split': 10, 'min_samples_leaf': 4, 'max_leaf_nodes': 30}. Best is trial 24 with value: 0.5633450173221928.\n",
      "[I 2024-02-09 11:50:25,571] Trial 135 finished with value: 0.5633450173221928 and parameters: {'max_depth': 24, 'min_samples_split': 5, 'min_samples_leaf': 4, 'max_leaf_nodes': 30}. Best is trial 24 with value: 0.5633450173221928.\n",
      "[I 2024-02-09 11:50:27,299] Trial 136 finished with value: 0.5633450173221928 and parameters: {'max_depth': 14, 'min_samples_split': 4, 'min_samples_leaf': 4, 'max_leaf_nodes': 30}. Best is trial 24 with value: 0.5633450173221928.\n",
      "[I 2024-02-09 11:50:28,314] Trial 137 finished with value: 0.5633450173221928 and parameters: {'max_depth': 14, 'min_samples_split': 31, 'min_samples_leaf': 5, 'max_leaf_nodes': 30}. Best is trial 24 with value: 0.5633450173221928.\n",
      "[I 2024-02-09 11:50:30,149] Trial 138 finished with value: 0.5636309353984105 and parameters: {'max_depth': 12, 'min_samples_split': 3, 'min_samples_leaf': 5, 'max_leaf_nodes': 30}. Best is trial 138 with value: 0.5636309353984105.\n",
      "[I 2024-02-09 11:50:31,620] Trial 139 finished with value: 0.5633450173221928 and parameters: {'max_depth': 24, 'min_samples_split': 31, 'min_samples_leaf': 5, 'max_leaf_nodes': 30}. Best is trial 138 with value: 0.5636309353984105.\n",
      "[I 2024-02-09 11:50:33,344] Trial 140 finished with value: 0.5632021601793357 and parameters: {'max_depth': 13, 'min_samples_split': 5, 'min_samples_leaf': 6, 'max_leaf_nodes': 30}. Best is trial 138 with value: 0.5636309353984105.\n",
      "[I 2024-02-09 11:50:34,856] Trial 141 finished with value: 0.5633450173221928 and parameters: {'max_depth': 24, 'min_samples_split': 6, 'min_samples_leaf': 5, 'max_leaf_nodes': 30}. Best is trial 138 with value: 0.5636309353984105.\n",
      "[I 2024-02-09 11:50:36,590] Trial 142 finished with value: 0.5633450173221928 and parameters: {'max_depth': 24, 'min_samples_split': 5, 'min_samples_leaf': 6, 'max_leaf_nodes': 30}. Best is trial 138 with value: 0.5636309353984105.\n",
      "[I 2024-02-09 11:50:37,920] Trial 143 finished with value: 0.5633450173221928 and parameters: {'max_depth': 24, 'min_samples_split': 4, 'min_samples_leaf': 5, 'max_leaf_nodes': 30}. Best is trial 138 with value: 0.5636309353984105.\n",
      "[I 2024-02-09 11:50:39,539] Trial 144 finished with value: 0.5633450173221928 and parameters: {'max_depth': 23, 'min_samples_split': 6, 'min_samples_leaf': 6, 'max_leaf_nodes': 30}. Best is trial 138 with value: 0.5636309353984105.\n",
      "[I 2024-02-09 11:50:41,244] Trial 145 finished with value: 0.5633450173221928 and parameters: {'max_depth': 24, 'min_samples_split': 22, 'min_samples_leaf': 6, 'max_leaf_nodes': 30}. Best is trial 138 with value: 0.5636309353984105.\n",
      "[I 2024-02-09 11:50:42,985] Trial 146 finished with value: 0.5633450173221928 and parameters: {'max_depth': 23, 'min_samples_split': 31, 'min_samples_leaf': 6, 'max_leaf_nodes': 30}. Best is trial 138 with value: 0.5636309353984105.\n",
      "[I 2024-02-09 11:50:44,964] Trial 147 finished with value: 0.5633450173221928 and parameters: {'max_depth': 23, 'min_samples_split': 31, 'min_samples_leaf': 6, 'max_leaf_nodes': 30}. Best is trial 138 with value: 0.5636309353984105.\n",
      "[I 2024-02-09 11:50:46,116] Trial 148 finished with value: 0.5633450173221928 and parameters: {'max_depth': 23, 'min_samples_split': 18, 'min_samples_leaf': 6, 'max_leaf_nodes': 30}. Best is trial 138 with value: 0.5636309353984105.\n",
      "[I 2024-02-09 11:50:47,714] Trial 149 finished with value: 0.5633450173221928 and parameters: {'max_depth': 23, 'min_samples_split': 2, 'min_samples_leaf': 6, 'max_leaf_nodes': 30}. Best is trial 138 with value: 0.5636309353984105.\n",
      "[I 2024-02-09 11:50:49,165] Trial 150 finished with value: 0.5633450173221928 and parameters: {'max_depth': 23, 'min_samples_split': 18, 'min_samples_leaf': 6, 'max_leaf_nodes': 30}. Best is trial 138 with value: 0.5636309353984105.\n",
      "[I 2024-02-09 11:50:50,792] Trial 151 finished with value: 0.5634878744650499 and parameters: {'max_depth': 23, 'min_samples_split': 6, 'min_samples_leaf': 13, 'max_leaf_nodes': 30}. Best is trial 138 with value: 0.5636309353984105.\n",
      "[I 2024-02-09 11:50:52,204] Trial 152 finished with value: 0.549915630731608 and parameters: {'max_depth': 9, 'min_samples_split': 2, 'min_samples_leaf': 6, 'max_leaf_nodes': 29}. Best is trial 138 with value: 0.5636309353984105.\n",
      "[I 2024-02-09 11:50:53,926] Trial 153 finished with value: 0.5616303240269004 and parameters: {'max_depth': 23, 'min_samples_split': 40, 'min_samples_leaf': 6, 'max_leaf_nodes': 29}. Best is trial 138 with value: 0.5636309353984105.\n",
      "[I 2024-02-09 11:50:55,143] Trial 154 finished with value: 0.5607737925412676 and parameters: {'max_depth': 11, 'min_samples_split': 22, 'min_samples_leaf': 6, 'max_leaf_nodes': 29}. Best is trial 138 with value: 0.5636309353984105.\n",
      "[I 2024-02-09 11:50:56,756] Trial 155 finished with value: 0.5616303240269004 and parameters: {'max_depth': 23, 'min_samples_split': 23, 'min_samples_leaf': 6, 'max_leaf_nodes': 29}. Best is trial 138 with value: 0.5636309353984105.\n",
      "[I 2024-02-09 11:50:58,408] Trial 156 finished with value: 0.5607737925412676 and parameters: {'max_depth': 11, 'min_samples_split': 2, 'min_samples_leaf': 6, 'max_leaf_nodes': 29}. Best is trial 138 with value: 0.5636309353984105.\n",
      "[I 2024-02-09 11:50:59,824] Trial 157 finished with value: 0.5616303240269004 and parameters: {'max_depth': 22, 'min_samples_split': 2, 'min_samples_leaf': 6, 'max_leaf_nodes': 29}. Best is trial 138 with value: 0.5636309353984105.\n",
      "[I 2024-02-09 11:51:01,387] Trial 158 finished with value: 0.5616303240269004 and parameters: {'max_depth': 22, 'min_samples_split': 17, 'min_samples_leaf': 7, 'max_leaf_nodes': 29}. Best is trial 138 with value: 0.5636309353984105.\n",
      "[I 2024-02-09 11:51:02,890] Trial 159 finished with value: 0.55748787446505 and parameters: {'max_depth': 10, 'min_samples_split': 17, 'min_samples_leaf': 13, 'max_leaf_nodes': 29}. Best is trial 138 with value: 0.5636309353984105.\n",
      "[I 2024-02-09 11:51:04,315] Trial 160 finished with value: 0.5616303240269004 and parameters: {'max_depth': 22, 'min_samples_split': 40, 'min_samples_leaf': 7, 'max_leaf_nodes': 29}. Best is trial 138 with value: 0.5636309353984105.\n",
      "[I 2024-02-09 11:51:05,967] Trial 161 finished with value: 0.5617731811697575 and parameters: {'max_depth': 22, 'min_samples_split': 36, 'min_samples_leaf': 13, 'max_leaf_nodes': 29}. Best is trial 138 with value: 0.5636309353984105.\n",
      "[I 2024-02-09 11:51:07,652] Trial 162 finished with value: 0.5616303240269004 and parameters: {'max_depth': 22, 'min_samples_split': 7, 'min_samples_leaf': 7, 'max_leaf_nodes': 29}. Best is trial 138 with value: 0.5636309353984105.\n",
      "[I 2024-02-09 11:51:09,093] Trial 163 finished with value: 0.5616303240269004 and parameters: {'max_depth': 22, 'min_samples_split': 13, 'min_samples_leaf': 7, 'max_leaf_nodes': 29}. Best is trial 138 with value: 0.5636309353984105.\n",
      "[I 2024-02-09 11:51:10,619] Trial 164 finished with value: 0.5617731811697575 and parameters: {'max_depth': 22, 'min_samples_split': 13, 'min_samples_leaf': 13, 'max_leaf_nodes': 29}. Best is trial 138 with value: 0.5636309353984105.\n",
      "[I 2024-02-09 11:51:12,168] Trial 165 finished with value: 0.5616303240269004 and parameters: {'max_depth': 22, 'min_samples_split': 36, 'min_samples_leaf': 7, 'max_leaf_nodes': 29}. Best is trial 138 with value: 0.5636309353984105.\n",
      "[I 2024-02-09 11:51:13,661] Trial 166 finished with value: 0.5622017525983289 and parameters: {'max_depth': 25, 'min_samples_split': 13, 'min_samples_leaf': 14, 'max_leaf_nodes': 29}. Best is trial 138 with value: 0.5636309353984105.\n",
      "[I 2024-02-09 11:51:15,373] Trial 167 finished with value: 0.5616303240269004 and parameters: {'max_depth': 22, 'min_samples_split': 13, 'min_samples_leaf': 7, 'max_leaf_nodes': 29}. Best is trial 138 with value: 0.5636309353984105.\n",
      "[I 2024-02-09 11:51:16,752] Trial 168 finished with value: 0.5617731811697575 and parameters: {'max_depth': 22, 'min_samples_split': 13, 'min_samples_leaf': 13, 'max_leaf_nodes': 29}. Best is trial 138 with value: 0.5636309353984105.\n",
      "[I 2024-02-09 11:51:18,282] Trial 169 finished with value: 0.5590597106174853 and parameters: {'max_depth': 22, 'min_samples_split': 36, 'min_samples_leaf': 7, 'max_leaf_nodes': 27}. Best is trial 138 with value: 0.5636309353984105.\n",
      "[I 2024-02-09 11:51:19,621] Trial 170 finished with value: 0.5592025677603424 and parameters: {'max_depth': 22, 'min_samples_split': 13, 'min_samples_leaf': 13, 'max_leaf_nodes': 27}. Best is trial 138 with value: 0.5636309353984105.\n",
      "[I 2024-02-09 11:51:21,185] Trial 171 finished with value: 0.5592025677603424 and parameters: {'max_depth': 18, 'min_samples_split': 13, 'min_samples_leaf': 13, 'max_leaf_nodes': 27}. Best is trial 138 with value: 0.5636309353984105.\n",
      "[I 2024-02-09 11:51:22,742] Trial 172 finished with value: 0.5590597106174853 and parameters: {'max_depth': 22, 'min_samples_split': 13, 'min_samples_leaf': 7, 'max_leaf_nodes': 27}. Best is trial 138 with value: 0.5636309353984105.\n",
      "[I 2024-02-09 11:51:24,358] Trial 173 finished with value: 0.5633450173221928 and parameters: {'max_depth': 22, 'min_samples_split': 13, 'min_samples_leaf': 7, 'max_leaf_nodes': 30}. Best is trial 138 with value: 0.5636309353984105.\n",
      "[I 2024-02-09 11:51:25,953] Trial 174 finished with value: 0.56348787446505 and parameters: {'max_depth': 22, 'min_samples_split': 9, 'min_samples_leaf': 15, 'max_leaf_nodes': 30}. Best is trial 138 with value: 0.5636309353984105.\n",
      "[I 2024-02-09 11:51:27,746] Trial 175 finished with value: 0.56348787446505 and parameters: {'max_depth': 25, 'min_samples_split': 7, 'min_samples_leaf': 15, 'max_leaf_nodes': 30}. Best is trial 138 with value: 0.5636309353984105.\n",
      "[I 2024-02-09 11:51:29,022] Trial 176 finished with value: 0.5642021601793357 and parameters: {'max_depth': 18, 'min_samples_split': 33, 'min_samples_leaf': 14, 'max_leaf_nodes': 30}. Best is trial 176 with value: 0.5642021601793357.\n",
      "[I 2024-02-09 11:51:30,603] Trial 177 finished with value: 0.56348787446505 and parameters: {'max_depth': 17, 'min_samples_split': 26, 'min_samples_leaf': 15, 'max_leaf_nodes': 30}. Best is trial 176 with value: 0.5642021601793357.\n",
      "[I 2024-02-09 11:51:31,859] Trial 178 finished with value: 0.5590597106174853 and parameters: {'max_depth': 16, 'min_samples_split': 9, 'min_samples_leaf': 8, 'max_leaf_nodes': 27}. Best is trial 176 with value: 0.5642021601793357.\n",
      "[I 2024-02-09 11:51:33,629] Trial 179 finished with value: 0.5633450173221928 and parameters: {'max_depth': 17, 'min_samples_split': 26, 'min_samples_leaf': 8, 'max_leaf_nodes': 30}. Best is trial 176 with value: 0.5642021601793357.\n",
      "[I 2024-02-09 11:51:34,736] Trial 181 finished with value: 0.403227633992256 and parameters: {'max_depth': 2, 'min_samples_split': 7, 'min_samples_leaf': 8, 'max_leaf_nodes': 30}. Best is trial 176 with value: 0.5642021601793357.\n",
      "[I 2024-02-09 11:51:35,128] Trial 180 finished with value: 0.5590597106174853 and parameters: {'max_depth': 18, 'min_samples_split': 7, 'min_samples_leaf': 8, 'max_leaf_nodes': 27}. Best is trial 176 with value: 0.5642021601793357.\n",
      "[I 2024-02-09 11:51:36,829] Trial 182 finished with value: 0.5633450173221928 and parameters: {'max_depth': 24, 'min_samples_split': 39, 'min_samples_leaf': 8, 'max_leaf_nodes': 30}. Best is trial 176 with value: 0.5642021601793357.\n",
      "[I 2024-02-09 11:51:38,485] Trial 183 finished with value: 0.5633450173221928 and parameters: {'max_depth': 25, 'min_samples_split': 38, 'min_samples_leaf': 8, 'max_leaf_nodes': 30}. Best is trial 176 with value: 0.5642021601793357.\n",
      "[I 2024-02-09 11:51:40,271] Trial 184 finished with value: 0.5633450173221928 and parameters: {'max_depth': 24, 'min_samples_split': 7, 'min_samples_leaf': 8, 'max_leaf_nodes': 30}. Best is trial 176 with value: 0.5642021601793357.\n",
      "[I 2024-02-09 11:51:42,026] Trial 185 finished with value: 0.5633450173221928 and parameters: {'max_depth': 25, 'min_samples_split': 7, 'min_samples_leaf': 8, 'max_leaf_nodes': 30}. Best is trial 176 with value: 0.5642021601793357.\n",
      "[I 2024-02-09 11:51:43,665] Trial 186 finished with value: 0.5642021601793357 and parameters: {'max_depth': 24, 'min_samples_split': 7, 'min_samples_leaf': 14, 'max_leaf_nodes': 30}. Best is trial 176 with value: 0.5642021601793357.\n",
      "[I 2024-02-09 11:51:44,470] Trial 187 finished with value: 0.56348787446505 and parameters: {'max_depth': 25, 'min_samples_split': 9, 'min_samples_leaf': 15, 'max_leaf_nodes': 30}. Best is trial 176 with value: 0.5642021601793357.\n",
      "[I 2024-02-09 11:51:46,155] Trial 188 finished with value: 0.5642021601793357 and parameters: {'max_depth': 25, 'min_samples_split': 7, 'min_samples_leaf': 14, 'max_leaf_nodes': 30}. Best is trial 176 with value: 0.5642021601793357.\n",
      "[I 2024-02-09 11:51:47,823] Trial 189 finished with value: 0.56348787446505 and parameters: {'max_depth': 17, 'min_samples_split': 33, 'min_samples_leaf': 15, 'max_leaf_nodes': 30}. Best is trial 176 with value: 0.5642021601793357.\n",
      "[I 2024-02-09 11:51:49,571] Trial 190 finished with value: 0.56348787446505 and parameters: {'max_depth': 16, 'min_samples_split': 33, 'min_samples_leaf': 15, 'max_leaf_nodes': 30}. Best is trial 176 with value: 0.5642021601793357.\n",
      "[I 2024-02-09 11:51:51,246] Trial 191 finished with value: 0.56348787446505 and parameters: {'max_depth': 16, 'min_samples_split': 11, 'min_samples_leaf': 15, 'max_leaf_nodes': 30}. Best is trial 176 with value: 0.5642021601793357.\n",
      "[I 2024-02-09 11:51:53,070] Trial 192 finished with value: 0.56348787446505 and parameters: {'max_depth': 17, 'min_samples_split': 9, 'min_samples_leaf': 15, 'max_leaf_nodes': 30}. Best is trial 176 with value: 0.5642021601793357.\n",
      "[I 2024-02-09 11:51:54,301] Trial 193 finished with value: 0.56348787446505 and parameters: {'max_depth': 16, 'min_samples_split': 32, 'min_samples_leaf': 15, 'max_leaf_nodes': 30}. Best is trial 176 with value: 0.5642021601793357.\n",
      "[I 2024-02-09 11:51:55,504] Trial 194 finished with value: 0.5642021601793357 and parameters: {'max_depth': 15, 'min_samples_split': 32, 'min_samples_leaf': 14, 'max_leaf_nodes': 30}. Best is trial 176 with value: 0.5642021601793357.\n",
      "[I 2024-02-09 11:51:57,080] Trial 195 finished with value: 0.5642021601793357 and parameters: {'max_depth': 17, 'min_samples_split': 11, 'min_samples_leaf': 14, 'max_leaf_nodes': 30}. Best is trial 176 with value: 0.5642021601793357.\n",
      "[I 2024-02-09 11:51:58,762] Trial 196 finished with value: 0.56348787446505 and parameters: {'max_depth': 17, 'min_samples_split': 33, 'min_samples_leaf': 15, 'max_leaf_nodes': 30}. Best is trial 176 with value: 0.5642021601793357.\n",
      "[I 2024-02-09 11:52:00,495] Trial 197 finished with value: 0.56348787446505 and parameters: {'max_depth': 18, 'min_samples_split': 32, 'min_samples_leaf': 15, 'max_leaf_nodes': 30}. Best is trial 176 with value: 0.5642021601793357.\n",
      "[I 2024-02-09 11:52:02,226] Trial 198 finished with value: 0.56348787446505 and parameters: {'max_depth': 17, 'min_samples_split': 33, 'min_samples_leaf': 15, 'max_leaf_nodes': 30}. Best is trial 176 with value: 0.5642021601793357.\n",
      "[I 2024-02-09 11:52:03,706] Trial 199 finished with value: 0.56348787446505 and parameters: {'max_depth': 15, 'min_samples_split': 8, 'min_samples_leaf': 15, 'max_leaf_nodes': 30}. Best is trial 176 with value: 0.5642021601793357.\n",
      "[I 2024-02-09 11:52:04,903] Trial 200 finished with value: 0.56348787446505 and parameters: {'max_depth': 17, 'min_samples_split': 9, 'min_samples_leaf': 15, 'max_leaf_nodes': 30}. Best is trial 176 with value: 0.5642021601793357.\n",
      "[I 2024-02-09 11:52:06,163] Trial 201 finished with value: 0.5597744039127778 and parameters: {'max_depth': 15, 'min_samples_split': 33, 'min_samples_leaf': 15, 'max_leaf_nodes': 28}. Best is trial 176 with value: 0.5642021601793357.\n",
      "[I 2024-02-09 11:52:07,850] Trial 202 finished with value: 0.5504913389036071 and parameters: {'max_depth': 15, 'min_samples_split': 33, 'min_samples_leaf': 15, 'max_leaf_nodes': 22}. Best is trial 176 with value: 0.5642021601793357.\n",
      "[I 2024-02-09 11:52:09,528] Trial 203 finished with value: 0.56348787446505 and parameters: {'max_depth': 15, 'min_samples_split': 34, 'min_samples_leaf': 15, 'max_leaf_nodes': 30}. Best is trial 176 with value: 0.5642021601793357.\n",
      "[I 2024-02-09 11:52:11,288] Trial 204 finished with value: 0.56348787446505 and parameters: {'max_depth': 15, 'min_samples_split': 9, 'min_samples_leaf': 15, 'max_leaf_nodes': 30}. Best is trial 176 with value: 0.5642021601793357.\n",
      "[I 2024-02-09 11:52:12,405] Trial 205 finished with value: 0.5219239861422458 and parameters: {'max_depth': 16, 'min_samples_split': 33, 'min_samples_leaf': 15, 'max_leaf_nodes': 10}. Best is trial 176 with value: 0.5642021601793357.\n",
      "[I 2024-02-09 11:52:13,715] Trial 206 finished with value: 0.56348787446505 and parameters: {'max_depth': 15, 'min_samples_split': 33, 'min_samples_leaf': 15, 'max_leaf_nodes': 30}. Best is trial 176 with value: 0.5642021601793357.\n",
      "[I 2024-02-09 11:52:15,383] Trial 207 finished with value: 0.56348787446505 and parameters: {'max_depth': 15, 'min_samples_split': 33, 'min_samples_leaf': 15, 'max_leaf_nodes': 30}. Best is trial 176 with value: 0.5642021601793357.\n",
      "[I 2024-02-09 11:52:16,826] Trial 208 finished with value: 0.56348787446505 and parameters: {'max_depth': 16, 'min_samples_split': 33, 'min_samples_leaf': 15, 'max_leaf_nodes': 30}. Best is trial 176 with value: 0.5642021601793357.\n",
      "[I 2024-02-09 11:52:18,117] Trial 209 finished with value: 0.5257805176278785 and parameters: {'max_depth': 15, 'min_samples_split': 33, 'min_samples_leaf': 15, 'max_leaf_nodes': 11}. Best is trial 176 with value: 0.5642021601793357.\n",
      "[I 2024-02-09 11:52:19,752] Trial 210 finished with value: 0.56348787446505 and parameters: {'max_depth': 16, 'min_samples_split': 34, 'min_samples_leaf': 15, 'max_leaf_nodes': 30}. Best is trial 176 with value: 0.5642021601793357.\n",
      "[I 2024-02-09 11:52:21,497] Trial 211 finished with value: 0.56348787446505 and parameters: {'max_depth': 16, 'min_samples_split': 34, 'min_samples_leaf': 15, 'max_leaf_nodes': 30}. Best is trial 176 with value: 0.5642021601793357.\n",
      "[I 2024-02-09 11:52:22,930] Trial 212 finished with value: 0.56348787446505 and parameters: {'max_depth': 16, 'min_samples_split': 34, 'min_samples_leaf': 15, 'max_leaf_nodes': 30}. Best is trial 176 with value: 0.5642021601793357.\n",
      "[I 2024-02-09 11:52:24,247] Trial 213 finished with value: 0.5642021601793357 and parameters: {'max_depth': 17, 'min_samples_split': 34, 'min_samples_leaf': 14, 'max_leaf_nodes': 30}. Best is trial 176 with value: 0.5642021601793357.\n",
      "[I 2024-02-09 11:52:26,033] Trial 214 finished with value: 0.5642021601793357 and parameters: {'max_depth': 16, 'min_samples_split': 8, 'min_samples_leaf': 14, 'max_leaf_nodes': 30}. Best is trial 176 with value: 0.5642021601793357.\n",
      "[I 2024-02-09 11:52:27,428] Trial 215 finished with value: 0.5642021601793357 and parameters: {'max_depth': 16, 'min_samples_split': 34, 'min_samples_leaf': 14, 'max_leaf_nodes': 30}. Best is trial 176 with value: 0.5642021601793357.\n",
      "[I 2024-02-09 11:52:29,104] Trial 216 finished with value: 0.5642021601793357 and parameters: {'max_depth': 16, 'min_samples_split': 34, 'min_samples_leaf': 14, 'max_leaf_nodes': 30}. Best is trial 176 with value: 0.5642021601793357.\n",
      "[I 2024-02-09 11:52:30,552] Trial 217 finished with value: 0.5642021601793357 and parameters: {'max_depth': 17, 'min_samples_split': 34, 'min_samples_leaf': 14, 'max_leaf_nodes': 30}. Best is trial 176 with value: 0.5642021601793357.\n",
      "[I 2024-02-09 11:52:32,018] Trial 218 finished with value: 0.5642021601793357 and parameters: {'max_depth': 17, 'min_samples_split': 34, 'min_samples_leaf': 14, 'max_leaf_nodes': 30}. Best is trial 176 with value: 0.5642021601793357.\n",
      "[I 2024-02-09 11:52:33,618] Trial 219 finished with value: 0.5642021601793357 and parameters: {'max_depth': 17, 'min_samples_split': 34, 'min_samples_leaf': 14, 'max_leaf_nodes': 30}. Best is trial 176 with value: 0.5642021601793357.\n",
      "[I 2024-02-09 11:52:35,151] Trial 220 finished with value: 0.5622017525983289 and parameters: {'max_depth': 17, 'min_samples_split': 35, 'min_samples_leaf': 14, 'max_leaf_nodes': 29}. Best is trial 176 with value: 0.5642021601793357.\n",
      "[I 2024-02-09 11:52:36,936] Trial 221 finished with value: 0.5622017525983289 and parameters: {'max_depth': 17, 'min_samples_split': 35, 'min_samples_leaf': 14, 'max_leaf_nodes': 29}. Best is trial 176 with value: 0.5642021601793357.\n",
      "[I 2024-02-09 11:52:38,289] Trial 222 finished with value: 0.5642021601793357 and parameters: {'max_depth': 17, 'min_samples_split': 9, 'min_samples_leaf': 14, 'max_leaf_nodes': 30}. Best is trial 176 with value: 0.5642021601793357.\n",
      "[I 2024-02-09 11:52:39,624] Trial 223 finished with value: 0.5622017525983289 and parameters: {'max_depth': 17, 'min_samples_split': 9, 'min_samples_leaf': 14, 'max_leaf_nodes': 29}. Best is trial 176 with value: 0.5642021601793357.\n",
      "[I 2024-02-09 11:52:41,383] Trial 224 finished with value: 0.5622017525983289 and parameters: {'max_depth': 17, 'min_samples_split': 9, 'min_samples_leaf': 14, 'max_leaf_nodes': 29}. Best is trial 176 with value: 0.5642021601793357.\n",
      "[I 2024-02-09 11:52:43,074] Trial 225 finished with value: 0.5622017525983289 and parameters: {'max_depth': 17, 'min_samples_split': 9, 'min_samples_leaf': 14, 'max_leaf_nodes': 29}. Best is trial 176 with value: 0.5642021601793357.\n",
      "[I 2024-02-09 11:52:44,579] Trial 226 finished with value: 0.5622017525983289 and parameters: {'max_depth': 17, 'min_samples_split': 8, 'min_samples_leaf': 14, 'max_leaf_nodes': 29}. Best is trial 176 with value: 0.5642021601793357.\n",
      "[I 2024-02-09 11:52:45,957] Trial 227 finished with value: 0.5622017525983289 and parameters: {'max_depth': 17, 'min_samples_split': 35, 'min_samples_leaf': 14, 'max_leaf_nodes': 29}. Best is trial 176 with value: 0.5642021601793357.\n",
      "[I 2024-02-09 11:52:47,442] Trial 228 finished with value: 0.5622017525983289 and parameters: {'max_depth': 17, 'min_samples_split': 35, 'min_samples_leaf': 14, 'max_leaf_nodes': 29}. Best is trial 176 with value: 0.5642021601793357.\n",
      "[I 2024-02-09 11:52:48,877] Trial 229 finished with value: 0.5622017525983289 and parameters: {'max_depth': 18, 'min_samples_split': 35, 'min_samples_leaf': 14, 'max_leaf_nodes': 29}. Best is trial 176 with value: 0.5642021601793357.\n",
      "[I 2024-02-09 11:52:50,602] Trial 230 finished with value: 0.5622017525983289 and parameters: {'max_depth': 17, 'min_samples_split': 35, 'min_samples_leaf': 14, 'max_leaf_nodes': 29}. Best is trial 176 with value: 0.5642021601793357.\n",
      "[I 2024-02-09 11:52:52,282] Trial 231 finished with value: 0.5622017525983289 and parameters: {'max_depth': 17, 'min_samples_split': 35, 'min_samples_leaf': 14, 'max_leaf_nodes': 29}. Best is trial 176 with value: 0.5642021601793357.\n",
      "[I 2024-02-09 11:52:53,747] Trial 232 finished with value: 0.5622017525983289 and parameters: {'max_depth': 17, 'min_samples_split': 35, 'min_samples_leaf': 14, 'max_leaf_nodes': 29}. Best is trial 176 with value: 0.5642021601793357.\n",
      "[I 2024-02-09 11:52:55,255] Trial 233 finished with value: 0.5622017525983289 and parameters: {'max_depth': 17, 'min_samples_split': 35, 'min_samples_leaf': 14, 'max_leaf_nodes': 29}. Best is trial 176 with value: 0.5642021601793357.\n",
      "[I 2024-02-09 11:52:56,603] Trial 234 finished with value: 0.5622017525983289 and parameters: {'max_depth': 18, 'min_samples_split': 35, 'min_samples_leaf': 14, 'max_leaf_nodes': 29}. Best is trial 176 with value: 0.5642021601793357.\n",
      "[I 2024-02-09 11:52:58,579] Trial 235 finished with value: 0.5622017525983289 and parameters: {'max_depth': 18, 'min_samples_split': 11, 'min_samples_leaf': 14, 'max_leaf_nodes': 29}. Best is trial 176 with value: 0.5642021601793357.\n",
      "[I 2024-02-09 11:52:59,701] Trial 236 finished with value: 0.5622017525983289 and parameters: {'max_depth': 18, 'min_samples_split': 35, 'min_samples_leaf': 14, 'max_leaf_nodes': 29}. Best is trial 176 with value: 0.5642021601793357.\n",
      "[I 2024-02-09 11:53:01,486] Trial 237 finished with value: 0.5622017525983289 and parameters: {'max_depth': 18, 'min_samples_split': 35, 'min_samples_leaf': 14, 'max_leaf_nodes': 29}. Best is trial 176 with value: 0.5642021601793357.\n",
      "[I 2024-02-09 11:53:03,058] Trial 238 finished with value: 0.5622017525983289 and parameters: {'max_depth': 18, 'min_samples_split': 35, 'min_samples_leaf': 14, 'max_leaf_nodes': 29}. Best is trial 176 with value: 0.5642021601793357.\n",
      "[I 2024-02-09 11:53:04,404] Trial 239 finished with value: 0.5642021601793357 and parameters: {'max_depth': 18, 'min_samples_split': 35, 'min_samples_leaf': 14, 'max_leaf_nodes': 30}. Best is trial 176 with value: 0.5642021601793357.\n",
      "[I 2024-02-09 11:53:06,244] Trial 240 finished with value: 0.5642021601793357 and parameters: {'max_depth': 16, 'min_samples_split': 11, 'min_samples_leaf': 14, 'max_leaf_nodes': 30}. Best is trial 176 with value: 0.5642021601793357.\n",
      "[I 2024-02-09 11:53:07,553] Trial 241 finished with value: 0.5642021601793357 and parameters: {'max_depth': 16, 'min_samples_split': 32, 'min_samples_leaf': 14, 'max_leaf_nodes': 30}. Best is trial 176 with value: 0.5642021601793357.\n",
      "[I 2024-02-09 11:53:09,001] Trial 242 finished with value: 0.5642021601793357 and parameters: {'max_depth': 16, 'min_samples_split': 32, 'min_samples_leaf': 14, 'max_leaf_nodes': 30}. Best is trial 176 with value: 0.5642021601793357.\n",
      "[I 2024-02-09 11:53:10,645] Trial 243 finished with value: 0.5633450173221928 and parameters: {'max_depth': 16, 'min_samples_split': 32, 'min_samples_leaf': 16, 'max_leaf_nodes': 30}. Best is trial 176 with value: 0.5642021601793357.\n",
      "[I 2024-02-09 11:53:12,477] Trial 244 finished with value: 0.5633450173221928 and parameters: {'max_depth': 16, 'min_samples_split': 11, 'min_samples_leaf': 16, 'max_leaf_nodes': 30}. Best is trial 176 with value: 0.5642021601793357.\n",
      "[I 2024-02-09 11:53:13,991] Trial 245 finished with value: 0.5633450173221928 and parameters: {'max_depth': 16, 'min_samples_split': 11, 'min_samples_leaf': 16, 'max_leaf_nodes': 30}. Best is trial 176 with value: 0.5642021601793357.\n",
      "[I 2024-02-09 11:53:15,530] Trial 246 finished with value: 0.5633450173221928 and parameters: {'max_depth': 16, 'min_samples_split': 11, 'min_samples_leaf': 16, 'max_leaf_nodes': 30}. Best is trial 176 with value: 0.5642021601793357.\n",
      "[I 2024-02-09 11:53:16,655] Trial 247 finished with value: 0.5633450173221928 and parameters: {'max_depth': 16, 'min_samples_split': 32, 'min_samples_leaf': 16, 'max_leaf_nodes': 30}. Best is trial 176 with value: 0.5642021601793357.\n",
      "[I 2024-02-09 11:53:18,357] Trial 248 finished with value: 0.5633450173221928 and parameters: {'max_depth': 16, 'min_samples_split': 32, 'min_samples_leaf': 16, 'max_leaf_nodes': 30}. Best is trial 176 with value: 0.5642021601793357.\n",
      "[I 2024-02-09 11:53:20,110] Trial 249 finished with value: 0.5633450173221928 and parameters: {'max_depth': 16, 'min_samples_split': 32, 'min_samples_leaf': 16, 'max_leaf_nodes': 30}. Best is trial 176 with value: 0.5642021601793357.\n",
      "[I 2024-02-09 11:53:21,866] Trial 250 finished with value: 0.5633450173221928 and parameters: {'max_depth': 16, 'min_samples_split': 8, 'min_samples_leaf': 16, 'max_leaf_nodes': 30}. Best is trial 176 with value: 0.5642021601793357.\n",
      "[I 2024-02-09 11:53:23,117] Trial 251 finished with value: 0.5633450173221928 and parameters: {'max_depth': 16, 'min_samples_split': 8, 'min_samples_leaf': 16, 'max_leaf_nodes': 30}. Best is trial 176 with value: 0.5642021601793357.\n",
      "[I 2024-02-09 11:53:24,729] Trial 252 finished with value: 0.5633450173221928 and parameters: {'max_depth': 16, 'min_samples_split': 11, 'min_samples_leaf': 16, 'max_leaf_nodes': 30}. Best is trial 176 with value: 0.5642021601793357.\n",
      "[I 2024-02-09 11:53:26,136] Trial 253 finished with value: 0.5633450173221928 and parameters: {'max_depth': 16, 'min_samples_split': 32, 'min_samples_leaf': 16, 'max_leaf_nodes': 30}. Best is trial 176 with value: 0.5642021601793357.\n",
      "[I 2024-02-09 11:53:27,766] Trial 254 finished with value: 0.5634878744650499 and parameters: {'max_depth': 16, 'min_samples_split': 32, 'min_samples_leaf': 13, 'max_leaf_nodes': 30}. Best is trial 176 with value: 0.5642021601793357.\n",
      "[I 2024-02-09 11:53:29,299] Trial 255 finished with value: 0.5634878744650499 and parameters: {'max_depth': 16, 'min_samples_split': 11, 'min_samples_leaf': 13, 'max_leaf_nodes': 30}. Best is trial 176 with value: 0.5642021601793357.\n",
      "[I 2024-02-09 11:53:31,075] Trial 256 finished with value: 0.5634878744650499 and parameters: {'max_depth': 16, 'min_samples_split': 32, 'min_samples_leaf': 13, 'max_leaf_nodes': 30}. Best is trial 176 with value: 0.5642021601793357.\n",
      "[I 2024-02-09 11:53:32,372] Trial 257 finished with value: 0.5634878744650499 and parameters: {'max_depth': 16, 'min_samples_split': 34, 'min_samples_leaf': 13, 'max_leaf_nodes': 30}. Best is trial 176 with value: 0.5642021601793357.\n",
      "[I 2024-02-09 11:53:33,933] Trial 258 finished with value: 0.5634878744650499 and parameters: {'max_depth': 16, 'min_samples_split': 34, 'min_samples_leaf': 13, 'max_leaf_nodes': 30}. Best is trial 176 with value: 0.5642021601793357.\n",
      "[I 2024-02-09 11:53:35,727] Trial 259 finished with value: 0.5634878744650499 and parameters: {'max_depth': 16, 'min_samples_split': 34, 'min_samples_leaf': 13, 'max_leaf_nodes': 30}. Best is trial 176 with value: 0.5642021601793357.\n",
      "[I 2024-02-09 11:53:37,038] Trial 260 finished with value: 0.5634878744650499 and parameters: {'max_depth': 14, 'min_samples_split': 34, 'min_samples_leaf': 13, 'max_leaf_nodes': 30}. Best is trial 176 with value: 0.5642021601793357.\n",
      "[I 2024-02-09 11:53:38,611] Trial 261 finished with value: 0.5634878744650499 and parameters: {'max_depth': 14, 'min_samples_split': 34, 'min_samples_leaf': 13, 'max_leaf_nodes': 30}. Best is trial 176 with value: 0.5642021601793357.\n",
      "[I 2024-02-09 11:53:40,192] Trial 262 finished with value: 0.5634878744650499 and parameters: {'max_depth': 16, 'min_samples_split': 34, 'min_samples_leaf': 13, 'max_leaf_nodes': 30}. Best is trial 176 with value: 0.5642021601793357.\n",
      "[I 2024-02-09 11:53:41,705] Trial 263 finished with value: 0.5634878744650499 and parameters: {'max_depth': 14, 'min_samples_split': 34, 'min_samples_leaf': 13, 'max_leaf_nodes': 30}. Best is trial 176 with value: 0.5642021601793357.\n",
      "[I 2024-02-09 11:53:43,362] Trial 264 finished with value: 0.5634878744650499 and parameters: {'max_depth': 18, 'min_samples_split': 34, 'min_samples_leaf': 13, 'max_leaf_nodes': 30}. Best is trial 176 with value: 0.5642021601793357.\n",
      "[I 2024-02-09 11:53:44,937] Trial 265 finished with value: 0.5634878744650499 and parameters: {'max_depth': 14, 'min_samples_split': 34, 'min_samples_leaf': 13, 'max_leaf_nodes': 30}. Best is trial 176 with value: 0.5642021601793357.\n",
      "[I 2024-02-09 11:53:46,322] Trial 266 finished with value: 0.5634878744650499 and parameters: {'max_depth': 14, 'min_samples_split': 34, 'min_samples_leaf': 13, 'max_leaf_nodes': 30}. Best is trial 176 with value: 0.5642021601793357.\n",
      "[I 2024-02-09 11:53:47,923] Trial 267 finished with value: 0.5642021601793357 and parameters: {'max_depth': 15, 'min_samples_split': 34, 'min_samples_leaf': 14, 'max_leaf_nodes': 30}. Best is trial 176 with value: 0.5642021601793357.\n",
      "[I 2024-02-09 11:53:49,298] Trial 268 finished with value: 0.5606315467699206 and parameters: {'max_depth': 15, 'min_samples_split': 34, 'min_samples_leaf': 14, 'max_leaf_nodes': 28}. Best is trial 176 with value: 0.5642021601793357.\n",
      "[I 2024-02-09 11:53:51,162] Trial 269 finished with value: 0.5606315467699206 and parameters: {'max_depth': 15, 'min_samples_split': 34, 'min_samples_leaf': 14, 'max_leaf_nodes': 28}. Best is trial 176 with value: 0.5642021601793357.\n",
      "[I 2024-02-09 11:53:52,467] Trial 270 finished with value: 0.5642021601793357 and parameters: {'max_depth': 18, 'min_samples_split': 6, 'min_samples_leaf': 14, 'max_leaf_nodes': 30}. Best is trial 176 with value: 0.5642021601793357.\n",
      "[I 2024-02-09 11:53:53,821] Trial 271 finished with value: 0.5606315467699206 and parameters: {'max_depth': 14, 'min_samples_split': 6, 'min_samples_leaf': 14, 'max_leaf_nodes': 28}. Best is trial 176 with value: 0.5642021601793357.\n",
      "[I 2024-02-09 11:53:55,557] Trial 272 finished with value: 0.5606315467699206 and parameters: {'max_depth': 15, 'min_samples_split': 37, 'min_samples_leaf': 14, 'max_leaf_nodes': 28}. Best is trial 176 with value: 0.5642021601793357.\n",
      "[I 2024-02-09 11:53:57,027] Trial 273 finished with value: 0.5606315467699206 and parameters: {'max_depth': 18, 'min_samples_split': 8, 'min_samples_leaf': 14, 'max_leaf_nodes': 28}. Best is trial 176 with value: 0.5642021601793357.\n",
      "[I 2024-02-09 11:53:58,756] Trial 274 finished with value: 0.5606315467699206 and parameters: {'max_depth': 18, 'min_samples_split': 6, 'min_samples_leaf': 14, 'max_leaf_nodes': 28}. Best is trial 176 with value: 0.5642021601793357.\n",
      "[I 2024-02-09 11:54:00,479] Trial 275 finished with value: 0.5606315467699206 and parameters: {'max_depth': 18, 'min_samples_split': 37, 'min_samples_leaf': 14, 'max_leaf_nodes': 28}. Best is trial 176 with value: 0.5642021601793357.\n",
      "[I 2024-02-09 11:54:01,574] Trial 276 finished with value: 0.5620590992459752 and parameters: {'max_depth': 12, 'min_samples_split': 6, 'min_samples_leaf': 14, 'max_leaf_nodes': 28}. Best is trial 176 with value: 0.5642021601793357.\n",
      "[I 2024-02-09 11:54:02,892] Trial 277 finished with value: 0.5606315467699206 and parameters: {'max_depth': 15, 'min_samples_split': 36, 'min_samples_leaf': 14, 'max_leaf_nodes': 28}. Best is trial 176 with value: 0.5642021601793357.\n",
      "[I 2024-02-09 11:54:04,507] Trial 278 finished with value: 0.5620590992459752 and parameters: {'max_depth': 12, 'min_samples_split': 36, 'min_samples_leaf': 14, 'max_leaf_nodes': 28}. Best is trial 176 with value: 0.5642021601793357.\n",
      "[I 2024-02-09 11:54:06,213] Trial 279 finished with value: 0.5606315467699206 and parameters: {'max_depth': 15, 'min_samples_split': 36, 'min_samples_leaf': 14, 'max_leaf_nodes': 28}. Best is trial 176 with value: 0.5642021601793357.\n",
      "[I 2024-02-09 11:54:08,099] Trial 280 finished with value: 0.5622017525983289 and parameters: {'max_depth': 26, 'min_samples_split': 6, 'min_samples_leaf': 14, 'max_leaf_nodes': 29}. Best is trial 176 with value: 0.5642021601793357.\n",
      "[I 2024-02-09 11:54:09,399] Trial 281 finished with value: 0.5609166496841247 and parameters: {'max_depth': 12, 'min_samples_split': 6, 'min_samples_leaf': 14, 'max_leaf_nodes': 29}. Best is trial 176 with value: 0.5642021601793357.\n",
      "[I 2024-02-09 11:54:10,667] Trial 282 finished with value: 0.5622017525983289 and parameters: {'max_depth': 19, 'min_samples_split': 6, 'min_samples_leaf': 14, 'max_leaf_nodes': 29}. Best is trial 176 with value: 0.5642021601793357.\n",
      "[I 2024-02-09 11:54:12,013] Trial 283 finished with value: 0.5622017525983289 and parameters: {'max_depth': 19, 'min_samples_split': 37, 'min_samples_leaf': 14, 'max_leaf_nodes': 29}. Best is trial 176 with value: 0.5642021601793357.\n",
      "[I 2024-02-09 11:54:13,790] Trial 284 finished with value: 0.5599166496841248 and parameters: {'max_depth': 12, 'min_samples_split': 6, 'min_samples_leaf': 2, 'max_leaf_nodes': 29}. Best is trial 176 with value: 0.5642021601793357.\n",
      "[I 2024-02-09 11:54:15,354] Trial 285 finished with value: 0.5622017525983289 and parameters: {'max_depth': 19, 'min_samples_split': 5, 'min_samples_leaf': 14, 'max_leaf_nodes': 29}. Best is trial 176 with value: 0.5642021601793357.\n",
      "[I 2024-02-09 11:54:15,846] Trial 286 finished with value: 0.45850621561035254 and parameters: {'max_depth': 19, 'min_samples_split': 5, 'min_samples_leaf': 14, 'max_leaf_nodes': 5}. Best is trial 176 with value: 0.5642021601793357.\n",
      "[I 2024-02-09 11:54:17,511] Trial 287 finished with value: 0.5609166496841247 and parameters: {'max_depth': 12, 'min_samples_split': 3, 'min_samples_leaf': 14, 'max_leaf_nodes': 29}. Best is trial 176 with value: 0.5642021601793357.\n",
      "[I 2024-02-09 11:54:19,112] Trial 288 finished with value: 0.5622017525983289 and parameters: {'max_depth': 19, 'min_samples_split': 3, 'min_samples_leaf': 14, 'max_leaf_nodes': 29}. Best is trial 176 with value: 0.5642021601793357.\n",
      "[I 2024-02-09 11:54:20,946] Trial 289 finished with value: 0.5622017525983289 and parameters: {'max_depth': 26, 'min_samples_split': 5, 'min_samples_leaf': 14, 'max_leaf_nodes': 29}. Best is trial 176 with value: 0.5642021601793357.\n",
      "[I 2024-02-09 11:54:22,432] Trial 290 finished with value: 0.5622017525983289 and parameters: {'max_depth': 19, 'min_samples_split': 7, 'min_samples_leaf': 14, 'max_leaf_nodes': 29}. Best is trial 176 with value: 0.5642021601793357.\n",
      "[I 2024-02-09 11:54:24,087] Trial 291 finished with value: 0.5616303240269004 and parameters: {'max_depth': 19, 'min_samples_split': 7, 'min_samples_leaf': 2, 'max_leaf_nodes': 29}. Best is trial 176 with value: 0.5642021601793357.\n",
      "[I 2024-02-09 11:54:25,124] Trial 292 finished with value: 0.561344609741186 and parameters: {'max_depth': 17, 'min_samples_split': 7, 'min_samples_leaf': 15, 'max_leaf_nodes': 29}. Best is trial 176 with value: 0.5642021601793357.\n",
      "[I 2024-02-09 11:54:26,675] Trial 293 finished with value: 0.561344609741186 and parameters: {'max_depth': 19, 'min_samples_split': 7, 'min_samples_leaf': 15, 'max_leaf_nodes': 29}. Best is trial 176 with value: 0.5642021601793357.\n",
      "[I 2024-02-09 11:54:27,466] Trial 294 finished with value: 0.45850621561035254 and parameters: {'max_depth': 17, 'min_samples_split': 3, 'min_samples_leaf': 15, 'max_leaf_nodes': 5}. Best is trial 176 with value: 0.5642021601793357.\n",
      "[I 2024-02-09 11:54:28,824] Trial 295 finished with value: 0.5433474628082331 and parameters: {'max_depth': 8, 'min_samples_split': 8, 'min_samples_leaf': 1, 'max_leaf_nodes': 29}. Best is trial 176 with value: 0.5642021601793357.\n",
      "[I 2024-02-09 11:54:30,251] Trial 296 finished with value: 0.5460615447320155 and parameters: {'max_depth': 8, 'min_samples_split': 3, 'min_samples_leaf': 15, 'max_leaf_nodes': 30}. Best is trial 176 with value: 0.5642021601793357.\n",
      "[I 2024-02-09 11:54:32,147] Trial 297 finished with value: 0.56348787446505 and parameters: {'max_depth': 17, 'min_samples_split': 8, 'min_samples_leaf': 15, 'max_leaf_nodes': 30}. Best is trial 176 with value: 0.5642021601793357.\n",
      "[I 2024-02-09 11:54:33,594] Trial 298 finished with value: 0.56348787446505 and parameters: {'max_depth': 17, 'min_samples_split': 8, 'min_samples_leaf': 15, 'max_leaf_nodes': 30}. Best is trial 176 with value: 0.5642021601793357.\n",
      "[I 2024-02-09 11:54:35,232] Trial 299 finished with value: 0.56348787446505 and parameters: {'max_depth': 17, 'min_samples_split': 8, 'min_samples_leaf': 15, 'max_leaf_nodes': 30}. Best is trial 176 with value: 0.5642021601793357.\n",
      "[I 2024-02-09 11:54:36,228] Trial 300 finished with value: 0.56348787446505 and parameters: {'max_depth': 17, 'min_samples_split': 7, 'min_samples_leaf': 15, 'max_leaf_nodes': 30}. Best is trial 176 with value: 0.5642021601793357.\n",
      "[I 2024-02-09 11:54:38,261] Trial 301 finished with value: 0.56348787446505 and parameters: {'max_depth': 17, 'min_samples_split': 7, 'min_samples_leaf': 15, 'max_leaf_nodes': 30}. Best is trial 176 with value: 0.5642021601793357.\n",
      "[I 2024-02-09 11:54:39,848] Trial 302 finished with value: 0.56348787446505 and parameters: {'max_depth': 17, 'min_samples_split': 8, 'min_samples_leaf': 15, 'max_leaf_nodes': 30}. Best is trial 176 with value: 0.5642021601793357.\n",
      "[I 2024-02-09 11:54:40,961] Trial 303 finished with value: 0.5460615447320155 and parameters: {'max_depth': 8, 'min_samples_split': 8, 'min_samples_leaf': 15, 'max_leaf_nodes': 30}. Best is trial 176 with value: 0.5642021601793357.\n",
      "[I 2024-02-09 11:54:42,207] Trial 304 finished with value: 0.5460615447320155 and parameters: {'max_depth': 8, 'min_samples_split': 8, 'min_samples_leaf': 15, 'max_leaf_nodes': 30}. Best is trial 176 with value: 0.5642021601793357.\n",
      "[I 2024-02-09 11:54:43,945] Trial 305 finished with value: 0.56348787446505 and parameters: {'max_depth': 17, 'min_samples_split': 8, 'min_samples_leaf': 15, 'max_leaf_nodes': 30}. Best is trial 176 with value: 0.5642021601793357.\n",
      "[I 2024-02-09 11:54:45,510] Trial 306 finished with value: 0.56348787446505 and parameters: {'max_depth': 17, 'min_samples_split': 8, 'min_samples_leaf': 15, 'max_leaf_nodes': 30}. Best is trial 176 with value: 0.5642021601793357.\n",
      "[I 2024-02-09 11:54:46,819] Trial 307 finished with value: 0.56348787446505 and parameters: {'max_depth': 17, 'min_samples_split': 9, 'min_samples_leaf': 15, 'max_leaf_nodes': 30}. Best is trial 176 with value: 0.5642021601793357.\n",
      "[I 2024-02-09 11:54:48,583] Trial 308 finished with value: 0.56348787446505 and parameters: {'max_depth': 17, 'min_samples_split': 9, 'min_samples_leaf': 15, 'max_leaf_nodes': 30}. Best is trial 176 with value: 0.5642021601793357.\n",
      "[I 2024-02-09 11:54:50,179] Trial 309 finished with value: 0.56348787446505 and parameters: {'max_depth': 17, 'min_samples_split': 33, 'min_samples_leaf': 15, 'max_leaf_nodes': 30}. Best is trial 176 with value: 0.5642021601793357.\n",
      "[I 2024-02-09 11:54:51,730] Trial 310 finished with value: 0.56348787446505 and parameters: {'max_depth': 17, 'min_samples_split': 33, 'min_samples_leaf': 15, 'max_leaf_nodes': 30}. Best is trial 176 with value: 0.5642021601793357.\n",
      "[I 2024-02-09 11:54:53,029] Trial 311 finished with value: 0.56348787446505 and parameters: {'max_depth': 18, 'min_samples_split': 33, 'min_samples_leaf': 15, 'max_leaf_nodes': 30}. Best is trial 176 with value: 0.5642021601793357.\n",
      "[I 2024-02-09 11:54:54,527] Trial 312 finished with value: 0.5382068473609131 and parameters: {'max_depth': 18, 'min_samples_split': 33, 'min_samples_leaf': 14, 'max_leaf_nodes': 15}. Best is trial 176 with value: 0.5642021601793357.\n",
      "[I 2024-02-09 11:54:55,561] Trial 313 finished with value: 0.5419211330751987 and parameters: {'max_depth': 18, 'min_samples_split': 9, 'min_samples_leaf': 14, 'max_leaf_nodes': 16}. Best is trial 176 with value: 0.5642021601793357.\n",
      "[I 2024-02-09 11:54:57,223] Trial 314 finished with value: 0.5642021601793357 and parameters: {'max_depth': 18, 'min_samples_split': 31, 'min_samples_leaf': 14, 'max_leaf_nodes': 30}. Best is trial 176 with value: 0.5642021601793357.\n",
      "[I 2024-02-09 11:54:58,727] Trial 315 finished with value: 0.5419211330751987 and parameters: {'max_depth': 18, 'min_samples_split': 31, 'min_samples_leaf': 14, 'max_leaf_nodes': 16}. Best is trial 176 with value: 0.5642021601793357.\n",
      "[I 2024-02-09 11:55:00,213] Trial 316 finished with value: 0.5633450173221928 and parameters: {'max_depth': 18, 'min_samples_split': 31, 'min_samples_leaf': 12, 'max_leaf_nodes': 30}. Best is trial 176 with value: 0.5642021601793357.\n",
      "[I 2024-02-09 11:55:01,912] Trial 317 finished with value: 0.5642021601793357 and parameters: {'max_depth': 18, 'min_samples_split': 33, 'min_samples_leaf': 14, 'max_leaf_nodes': 30}. Best is trial 176 with value: 0.5642021601793357.\n",
      "[I 2024-02-09 11:55:03,376] Trial 318 finished with value: 0.5642021601793357 and parameters: {'max_depth': 25, 'min_samples_split': 31, 'min_samples_leaf': 14, 'max_leaf_nodes': 30}. Best is trial 176 with value: 0.5642021601793357.\n",
      "[I 2024-02-09 11:55:05,132] Trial 319 finished with value: 0.5642021601793357 and parameters: {'max_depth': 18, 'min_samples_split': 10, 'min_samples_leaf': 14, 'max_leaf_nodes': 30}. Best is trial 176 with value: 0.5642021601793357.\n",
      "[I 2024-02-09 11:55:06,499] Trial 320 finished with value: 0.5633450173221928 and parameters: {'max_depth': 18, 'min_samples_split': 33, 'min_samples_leaf': 12, 'max_leaf_nodes': 30}. Best is trial 176 with value: 0.5642021601793357.\n",
      "[I 2024-02-09 11:55:08,122] Trial 321 finished with value: 0.5633450173221928 and parameters: {'max_depth': 18, 'min_samples_split': 33, 'min_samples_leaf': 12, 'max_leaf_nodes': 30}. Best is trial 176 with value: 0.5642021601793357.\n",
      "[I 2024-02-09 11:55:08,973] Trial 322 finished with value: 0.5017847972284492 and parameters: {'max_depth': 25, 'min_samples_split': 31, 'min_samples_leaf': 14, 'max_leaf_nodes': 8}. Best is trial 176 with value: 0.5642021601793357.\n",
      "[I 2024-02-09 11:55:10,580] Trial 323 finished with value: 0.5419211330751987 and parameters: {'max_depth': 25, 'min_samples_split': 31, 'min_samples_leaf': 12, 'max_leaf_nodes': 16}. Best is trial 176 with value: 0.5642021601793357.\n",
      "[I 2024-02-09 11:55:12,068] Trial 324 finished with value: 0.5622017525983289 and parameters: {'max_depth': 25, 'min_samples_split': 31, 'min_samples_leaf': 14, 'max_leaf_nodes': 29}. Best is trial 176 with value: 0.5642021601793357.\n",
      "[I 2024-02-09 11:55:13,491] Trial 325 finished with value: 0.5616303240269004 and parameters: {'max_depth': 15, 'min_samples_split': 10, 'min_samples_leaf': 12, 'max_leaf_nodes': 29}. Best is trial 176 with value: 0.5642021601793357.\n",
      "[I 2024-02-09 11:55:15,160] Trial 326 finished with value: 0.5617731811697575 and parameters: {'max_depth': 26, 'min_samples_split': 10, 'min_samples_leaf': 13, 'max_leaf_nodes': 29}. Best is trial 176 with value: 0.5642021601793357.\n",
      "[I 2024-02-09 11:55:16,719] Trial 327 finished with value: 0.5566317505604239 and parameters: {'max_depth': 25, 'min_samples_split': 32, 'min_samples_leaf': 13, 'max_leaf_nodes': 25}. Best is trial 176 with value: 0.5642021601793357.\n",
      "[I 2024-02-09 11:55:18,356] Trial 328 finished with value: 0.5617731811697575 and parameters: {'max_depth': 25, 'min_samples_split': 31, 'min_samples_leaf': 13, 'max_leaf_nodes': 29}. Best is trial 176 with value: 0.5642021601793357.\n",
      "[I 2024-02-09 11:55:19,724] Trial 329 finished with value: 0.5617731811697575 and parameters: {'max_depth': 15, 'min_samples_split': 32, 'min_samples_leaf': 13, 'max_leaf_nodes': 29}. Best is trial 176 with value: 0.5642021601793357.\n",
      "[I 2024-02-09 11:55:21,286] Trial 330 finished with value: 0.5617731811697575 and parameters: {'max_depth': 25, 'min_samples_split': 31, 'min_samples_leaf': 13, 'max_leaf_nodes': 29}. Best is trial 176 with value: 0.5642021601793357.\n",
      "[I 2024-02-09 11:55:22,279] Trial 331 finished with value: 0.5162107193804769 and parameters: {'max_depth': 18, 'min_samples_split': 31, 'min_samples_leaf': 13, 'max_leaf_nodes': 9}. Best is trial 176 with value: 0.5642021601793357.\n",
      "[I 2024-02-09 11:55:23,896] Trial 332 finished with value: 0.5617731811697575 and parameters: {'max_depth': 15, 'min_samples_split': 31, 'min_samples_leaf': 13, 'max_leaf_nodes': 29}. Best is trial 176 with value: 0.5642021601793357.\n",
      "[I 2024-02-09 11:55:25,581] Trial 333 finished with value: 0.5617731811697575 and parameters: {'max_depth': 15, 'min_samples_split': 31, 'min_samples_leaf': 13, 'max_leaf_nodes': 29}. Best is trial 176 with value: 0.5642021601793357.\n",
      "[I 2024-02-09 11:55:27,042] Trial 334 finished with value: 0.561201752598329 and parameters: {'max_depth': 13, 'min_samples_split': 31, 'min_samples_leaf': 13, 'max_leaf_nodes': 29}. Best is trial 176 with value: 0.5642021601793357.\n",
      "[I 2024-02-09 11:55:28,676] Trial 335 finished with value: 0.561201752598329 and parameters: {'max_depth': 13, 'min_samples_split': 10, 'min_samples_leaf': 13, 'max_leaf_nodes': 29}. Best is trial 176 with value: 0.5642021601793357.\n",
      "[I 2024-02-09 11:55:30,143] Trial 336 finished with value: 0.5566317505604239 and parameters: {'max_depth': 13, 'min_samples_split': 10, 'min_samples_leaf': 13, 'max_leaf_nodes': 25}. Best is trial 176 with value: 0.5642021601793357.\n",
      "[I 2024-02-09 11:55:31,616] Trial 337 finished with value: 0.5617731811697575 and parameters: {'max_depth': 15, 'min_samples_split': 32, 'min_samples_leaf': 13, 'max_leaf_nodes': 29}. Best is trial 176 with value: 0.5642021601793357.\n",
      "[I 2024-02-09 11:55:33,257] Trial 338 finished with value: 0.5617731811697575 and parameters: {'max_depth': 15, 'min_samples_split': 34, 'min_samples_leaf': 13, 'max_leaf_nodes': 29}. Best is trial 176 with value: 0.5642021601793357.\n",
      "[I 2024-02-09 11:55:34,751] Trial 339 finished with value: 0.5617731811697575 and parameters: {'max_depth': 15, 'min_samples_split': 30, 'min_samples_leaf': 13, 'max_leaf_nodes': 29}. Best is trial 176 with value: 0.5642021601793357.\n",
      "[I 2024-02-09 11:55:36,272] Trial 340 finished with value: 0.5622017525983289 and parameters: {'max_depth': 15, 'min_samples_split': 30, 'min_samples_leaf': 14, 'max_leaf_nodes': 29}. Best is trial 176 with value: 0.5642021601793357.\n",
      "[I 2024-02-09 11:55:37,791] Trial 341 finished with value: 0.5642021601793357 and parameters: {'max_depth': 18, 'min_samples_split': 36, 'min_samples_leaf': 14, 'max_leaf_nodes': 30}. Best is trial 176 with value: 0.5642021601793357.\n",
      "[I 2024-02-09 11:55:39,580] Trial 342 finished with value: 0.5640593030364786 and parameters: {'max_depth': 13, 'min_samples_split': 36, 'min_samples_leaf': 14, 'max_leaf_nodes': 30}. Best is trial 176 with value: 0.5642021601793357.\n",
      "[I 2024-02-09 11:55:40,844] Trial 343 finished with value: 0.5504913389036071 and parameters: {'max_depth': 18, 'min_samples_split': 36, 'min_samples_leaf': 14, 'max_leaf_nodes': 22}. Best is trial 176 with value: 0.5642021601793357.\n",
      "[I 2024-02-09 11:55:42,267] Trial 344 finished with value: 0.5640593030364786 and parameters: {'max_depth': 13, 'min_samples_split': 36, 'min_samples_leaf': 14, 'max_leaf_nodes': 30}. Best is trial 176 with value: 0.5642021601793357.\n",
      "[I 2024-02-09 11:55:42,887] Trial 345 finished with value: 0.4767886692480131 and parameters: {'max_depth': 5, 'min_samples_split': 36, 'min_samples_leaf': 14, 'max_leaf_nodes': 22}. Best is trial 176 with value: 0.5642021601793357.\n",
      "[I 2024-02-09 11:55:44,414] Trial 346 finished with value: 0.5504913389036071 and parameters: {'max_depth': 18, 'min_samples_split': 36, 'min_samples_leaf': 14, 'max_leaf_nodes': 22}. Best is trial 176 with value: 0.5642021601793357.\n",
      "[I 2024-02-09 11:55:46,086] Trial 347 finished with value: 0.5642021601793357 and parameters: {'max_depth': 18, 'min_samples_split': 36, 'min_samples_leaf': 14, 'max_leaf_nodes': 30}. Best is trial 176 with value: 0.5642021601793357.\n",
      "[I 2024-02-09 11:55:47,802] Trial 348 finished with value: 0.5497766456083146 and parameters: {'max_depth': 18, 'min_samples_split': 36, 'min_samples_leaf': 14, 'max_leaf_nodes': 21}. Best is trial 176 with value: 0.5642021601793357.\n",
      "[I 2024-02-09 11:55:49,572] Trial 349 finished with value: 0.5642021601793357 and parameters: {'max_depth': 18, 'min_samples_split': 34, 'min_samples_leaf': 14, 'max_leaf_nodes': 30}. Best is trial 176 with value: 0.5642021601793357.\n",
      "[I 2024-02-09 11:55:50,010] Trial 350 finished with value: 0.47664581210515583 and parameters: {'max_depth': 5, 'min_samples_split': 34, 'min_samples_leaf': 14, 'max_leaf_nodes': 30}. Best is trial 176 with value: 0.5642021601793357.\n",
      "[I 2024-02-09 11:55:51,526] Trial 351 finished with value: 0.5642021601793357 and parameters: {'max_depth': 18, 'min_samples_split': 36, 'min_samples_leaf': 14, 'max_leaf_nodes': 30}. Best is trial 176 with value: 0.5642021601793357.\n",
      "[I 2024-02-09 11:55:53,051] Trial 352 finished with value: 0.5642021601793357 and parameters: {'max_depth': 18, 'min_samples_split': 36, 'min_samples_leaf': 14, 'max_leaf_nodes': 30}. Best is trial 176 with value: 0.5642021601793357.\n",
      "[I 2024-02-09 11:55:54,983] Trial 353 finished with value: 0.5642021601793357 and parameters: {'max_depth': 18, 'min_samples_split': 36, 'min_samples_leaf': 14, 'max_leaf_nodes': 30}. Best is trial 176 with value: 0.5642021601793357.\n",
      "[I 2024-02-09 11:55:55,550] Trial 354 finished with value: 0.47664581210515583 and parameters: {'max_depth': 5, 'min_samples_split': 36, 'min_samples_leaf': 14, 'max_leaf_nodes': 30}. Best is trial 176 with value: 0.5642021601793357.\n",
      "[I 2024-02-09 11:55:57,121] Trial 355 finished with value: 0.5642021601793357 and parameters: {'max_depth': 18, 'min_samples_split': 36, 'min_samples_leaf': 14, 'max_leaf_nodes': 30}. Best is trial 176 with value: 0.5642021601793357.\n",
      "[I 2024-02-09 11:55:58,985] Trial 356 finished with value: 0.5642021601793357 and parameters: {'max_depth': 18, 'min_samples_split': 36, 'min_samples_leaf': 14, 'max_leaf_nodes': 30}. Best is trial 176 with value: 0.5642021601793357.\n",
      "[I 2024-02-09 11:56:00,391] Trial 357 finished with value: 0.5642021601793357 and parameters: {'max_depth': 16, 'min_samples_split': 37, 'min_samples_leaf': 14, 'max_leaf_nodes': 30}. Best is trial 176 with value: 0.5642021601793357.\n",
      "[I 2024-02-09 11:56:02,074] Trial 358 finished with value: 0.5642021601793357 and parameters: {'max_depth': 16, 'min_samples_split': 37, 'min_samples_leaf': 14, 'max_leaf_nodes': 30}. Best is trial 176 with value: 0.5642021601793357.\n",
      "[I 2024-02-09 11:56:03,805] Trial 359 finished with value: 0.5642021601793357 and parameters: {'max_depth': 19, 'min_samples_split': 35, 'min_samples_leaf': 14, 'max_leaf_nodes': 30}. Best is trial 176 with value: 0.5642021601793357.\n",
      "[I 2024-02-09 11:56:04,785] Trial 360 finished with value: 0.5642021601793357 and parameters: {'max_depth': 19, 'min_samples_split': 34, 'min_samples_leaf': 14, 'max_leaf_nodes': 30}. Best is trial 176 with value: 0.5642021601793357.\n",
      "[I 2024-02-09 11:56:06,716] Trial 361 finished with value: 0.5642021601793357 and parameters: {'max_depth': 19, 'min_samples_split': 35, 'min_samples_leaf': 14, 'max_leaf_nodes': 30}. Best is trial 176 with value: 0.5642021601793357.\n",
      "[I 2024-02-09 11:56:07,904] Trial 362 finished with value: 0.5642021601793357 and parameters: {'max_depth': 19, 'min_samples_split': 35, 'min_samples_leaf': 14, 'max_leaf_nodes': 30}. Best is trial 176 with value: 0.5642021601793357.\n",
      "[I 2024-02-09 11:56:09,652] Trial 363 finished with value: 0.5642021601793357 and parameters: {'max_depth': 29, 'min_samples_split': 37, 'min_samples_leaf': 14, 'max_leaf_nodes': 30}. Best is trial 176 with value: 0.5642021601793357.\n",
      "[I 2024-02-09 11:56:11,426] Trial 364 finished with value: 0.5642021601793357 and parameters: {'max_depth': 19, 'min_samples_split': 37, 'min_samples_leaf': 14, 'max_leaf_nodes': 30}. Best is trial 176 with value: 0.5642021601793357.\n",
      "[I 2024-02-09 11:56:12,921] Trial 365 finished with value: 0.5642021601793357 and parameters: {'max_depth': 19, 'min_samples_split': 35, 'min_samples_leaf': 14, 'max_leaf_nodes': 30}. Best is trial 176 with value: 0.5642021601793357.\n",
      "[I 2024-02-09 11:56:14,663] Trial 366 finished with value: 0.5642021601793357 and parameters: {'max_depth': 19, 'min_samples_split': 35, 'min_samples_leaf': 14, 'max_leaf_nodes': 30}. Best is trial 176 with value: 0.5642021601793357.\n",
      "[I 2024-02-09 11:56:16,035] Trial 367 finished with value: 0.5642021601793357 and parameters: {'max_depth': 19, 'min_samples_split': 38, 'min_samples_leaf': 14, 'max_leaf_nodes': 30}. Best is trial 176 with value: 0.5642021601793357.\n",
      "[I 2024-02-09 11:56:17,147] Trial 368 finished with value: 0.5642021601793357 and parameters: {'max_depth': 19, 'min_samples_split': 35, 'min_samples_leaf': 14, 'max_leaf_nodes': 30}. Best is trial 176 with value: 0.5642021601793357.\n",
      "[I 2024-02-09 11:56:18,997] Trial 369 finished with value: 0.5642021601793357 and parameters: {'max_depth': 16, 'min_samples_split': 35, 'min_samples_leaf': 14, 'max_leaf_nodes': 30}. Best is trial 176 with value: 0.5642021601793357.\n",
      "[I 2024-02-09 11:56:20,622] Trial 370 finished with value: 0.5642021601793357 and parameters: {'max_depth': 19, 'min_samples_split': 35, 'min_samples_leaf': 14, 'max_leaf_nodes': 30}. Best is trial 176 with value: 0.5642021601793357.\n",
      "[I 2024-02-09 11:56:22,602] Trial 371 finished with value: 0.5622017525983289 and parameters: {'max_depth': 19, 'min_samples_split': 33, 'min_samples_leaf': 14, 'max_leaf_nodes': 29}. Best is trial 176 with value: 0.5642021601793357.\n",
      "[I 2024-02-09 11:56:23,774] Trial 372 finished with value: 0.5622017525983289 and parameters: {'max_depth': 16, 'min_samples_split': 33, 'min_samples_leaf': 14, 'max_leaf_nodes': 29}. Best is trial 176 with value: 0.5642021601793357.\n",
      "[I 2024-02-09 11:56:24,924] Trial 373 finished with value: 0.5622017525983289 and parameters: {'max_depth': 16, 'min_samples_split': 33, 'min_samples_leaf': 14, 'max_leaf_nodes': 29}. Best is trial 176 with value: 0.5642021601793357.\n",
      "[I 2024-02-09 11:56:26,503] Trial 374 finished with value: 0.5622017525983289 and parameters: {'max_depth': 16, 'min_samples_split': 33, 'min_samples_leaf': 14, 'max_leaf_nodes': 29}. Best is trial 176 with value: 0.5642021601793357.\n",
      "[I 2024-02-09 11:56:28,229] Trial 375 finished with value: 0.5622017525983289 and parameters: {'max_depth': 16, 'min_samples_split': 33, 'min_samples_leaf': 14, 'max_leaf_nodes': 29}. Best is trial 176 with value: 0.5642021601793357.\n",
      "[I 2024-02-09 11:56:30,062] Trial 376 finished with value: 0.5622017525983289 and parameters: {'max_depth': 16, 'min_samples_split': 33, 'min_samples_leaf': 14, 'max_leaf_nodes': 29}. Best is trial 176 with value: 0.5642021601793357.\n",
      "[I 2024-02-09 11:56:31,550] Trial 377 finished with value: 0.5622017525983289 and parameters: {'max_depth': 16, 'min_samples_split': 33, 'min_samples_leaf': 14, 'max_leaf_nodes': 29}. Best is trial 176 with value: 0.5642021601793357.\n",
      "[I 2024-02-09 11:56:33,265] Trial 378 finished with value: 0.5622017525983289 and parameters: {'max_depth': 17, 'min_samples_split': 33, 'min_samples_leaf': 14, 'max_leaf_nodes': 29}. Best is trial 176 with value: 0.5642021601793357.\n",
      "[I 2024-02-09 11:56:34,204] Trial 379 finished with value: 0.5617731811697575 and parameters: {'max_depth': 17, 'min_samples_split': 33, 'min_samples_leaf': 13, 'max_leaf_nodes': 29}. Best is trial 176 with value: 0.5642021601793357.\n",
      "[I 2024-02-09 11:56:35,606] Trial 380 finished with value: 0.5617731811697575 and parameters: {'max_depth': 16, 'min_samples_split': 33, 'min_samples_leaf': 13, 'max_leaf_nodes': 29}. Best is trial 176 with value: 0.5642021601793357.\n",
      "[I 2024-02-09 11:56:37,514] Trial 381 finished with value: 0.5617731811697575 and parameters: {'max_depth': 17, 'min_samples_split': 33, 'min_samples_leaf': 13, 'max_leaf_nodes': 29}. Best is trial 176 with value: 0.5642021601793357.\n",
      "[I 2024-02-09 11:56:39,213] Trial 382 finished with value: 0.5617731811697575 and parameters: {'max_depth': 17, 'min_samples_split': 33, 'min_samples_leaf': 13, 'max_leaf_nodes': 29}. Best is trial 176 with value: 0.5642021601793357.\n",
      "[I 2024-02-09 11:56:40,871] Trial 383 finished with value: 0.5617731811697575 and parameters: {'max_depth': 17, 'min_samples_split': 32, 'min_samples_leaf': 13, 'max_leaf_nodes': 29}. Best is trial 176 with value: 0.5642021601793357.\n",
      "[I 2024-02-09 11:56:42,417] Trial 384 finished with value: 0.5617731811697575 and parameters: {'max_depth': 17, 'min_samples_split': 32, 'min_samples_leaf': 13, 'max_leaf_nodes': 29}. Best is trial 176 with value: 0.5642021601793357.\n",
      "[I 2024-02-09 11:56:43,853] Trial 385 finished with value: 0.5617731811697575 and parameters: {'max_depth': 17, 'min_samples_split': 32, 'min_samples_leaf': 13, 'max_leaf_nodes': 29}. Best is trial 176 with value: 0.5642021601793357.\n",
      "[I 2024-02-09 11:56:44,966] Trial 386 finished with value: 0.5617731811697575 and parameters: {'max_depth': 27, 'min_samples_split': 32, 'min_samples_leaf': 13, 'max_leaf_nodes': 29}. Best is trial 176 with value: 0.5642021601793357.\n",
      "[I 2024-02-09 11:56:46,272] Trial 387 finished with value: 0.533065212961076 and parameters: {'max_depth': 17, 'min_samples_split': 32, 'min_samples_leaf': 13, 'max_leaf_nodes': 12}. Best is trial 176 with value: 0.5642021601793357.\n",
      "[I 2024-02-09 11:56:48,092] Trial 388 finished with value: 0.5609172610556349 and parameters: {'max_depth': 17, 'min_samples_split': 34, 'min_samples_leaf': 13, 'max_leaf_nodes': 28}. Best is trial 176 with value: 0.5642021601793357.\n",
      "[I 2024-02-09 11:56:49,745] Trial 389 finished with value: 0.5609172610556349 and parameters: {'max_depth': 17, 'min_samples_split': 32, 'min_samples_leaf': 13, 'max_leaf_nodes': 28}. Best is trial 176 with value: 0.5642021601793357.\n",
      "[I 2024-02-09 11:56:51,279] Trial 390 finished with value: 0.5609172610556349 and parameters: {'max_depth': 17, 'min_samples_split': 32, 'min_samples_leaf': 13, 'max_leaf_nodes': 28}. Best is trial 176 with value: 0.5642021601793357.\n",
      "[I 2024-02-09 11:56:52,626] Trial 391 finished with value: 0.5609172610556349 and parameters: {'max_depth': 17, 'min_samples_split': 32, 'min_samples_leaf': 13, 'max_leaf_nodes': 28}. Best is trial 176 with value: 0.5642021601793357.\n",
      "[I 2024-02-09 11:56:54,086] Trial 392 finished with value: 0.5634878744650499 and parameters: {'max_depth': 17, 'min_samples_split': 32, 'min_samples_leaf': 13, 'max_leaf_nodes': 30}. Best is trial 176 with value: 0.5642021601793357.\n",
      "[I 2024-02-09 11:56:55,455] Trial 393 finished with value: 0.5609172610556349 and parameters: {'max_depth': 17, 'min_samples_split': 32, 'min_samples_leaf': 13, 'max_leaf_nodes': 28}. Best is trial 176 with value: 0.5642021601793357.\n",
      "[I 2024-02-09 11:56:57,228] Trial 394 finished with value: 0.5609172610556349 and parameters: {'max_depth': 17, 'min_samples_split': 32, 'min_samples_leaf': 13, 'max_leaf_nodes': 28}. Best is trial 176 with value: 0.5642021601793357.\n",
      "[I 2024-02-09 11:56:58,809] Trial 395 finished with value: 0.5609172610556349 and parameters: {'max_depth': 17, 'min_samples_split': 32, 'min_samples_leaf': 13, 'max_leaf_nodes': 28}. Best is trial 176 with value: 0.5642021601793357.\n",
      "[I 2024-02-09 11:57:00,445] Trial 396 finished with value: 0.56348787446505 and parameters: {'max_depth': 17, 'min_samples_split': 34, 'min_samples_leaf': 15, 'max_leaf_nodes': 30}. Best is trial 176 with value: 0.5642021601793357.\n",
      "[I 2024-02-09 11:57:02,284] Trial 397 finished with value: 0.56348787446505 and parameters: {'max_depth': 27, 'min_samples_split': 34, 'min_samples_leaf': 15, 'max_leaf_nodes': 30}. Best is trial 176 with value: 0.5642021601793357.\n",
      "[I 2024-02-09 11:57:03,260] Trial 398 finished with value: 0.5632021601793357 and parameters: {'max_depth': 18, 'min_samples_split': 34, 'min_samples_leaf': 18, 'max_leaf_nodes': 30}. Best is trial 176 with value: 0.5642021601793357.\n",
      "[I 2024-02-09 11:57:04,729] Trial 399 finished with value: 0.5597744039127778 and parameters: {'max_depth': 18, 'min_samples_split': 12, 'min_samples_leaf': 15, 'max_leaf_nodes': 28}. Best is trial 176 with value: 0.5642021601793357.\n",
      "[I 2024-02-09 11:57:06,512] Trial 401 finished with value: 0.40337049113511314 and parameters: {'max_depth': 14, 'min_samples_split': 12, 'min_samples_leaf': 15, 'max_leaf_nodes': 3}. Best is trial 176 with value: 0.5642021601793357.\n",
      "[I 2024-02-09 11:57:06,524] Trial 400 finished with value: 0.56348787446505 and parameters: {'max_depth': 14, 'min_samples_split': 34, 'min_samples_leaf': 15, 'max_leaf_nodes': 30}. Best is trial 176 with value: 0.5642021601793357.\n",
      "[I 2024-02-09 11:57:08,411] Trial 402 finished with value: 0.5632021601793357 and parameters: {'max_depth': 18, 'min_samples_split': 34, 'min_samples_leaf': 18, 'max_leaf_nodes': 30}. Best is trial 176 with value: 0.5642021601793357.\n",
      "[I 2024-02-09 11:57:10,151] Trial 403 finished with value: 0.56348787446505 and parameters: {'max_depth': 18, 'min_samples_split': 34, 'min_samples_leaf': 15, 'max_leaf_nodes': 30}. Best is trial 176 with value: 0.5642021601793357.\n",
      "[I 2024-02-09 11:57:11,898] Trial 404 finished with value: 0.56348787446505 and parameters: {'max_depth': 18, 'min_samples_split': 34, 'min_samples_leaf': 15, 'max_leaf_nodes': 30}. Best is trial 176 with value: 0.5642021601793357.\n",
      "[I 2024-02-09 11:57:13,074] Trial 406 finished with value: 0.40337049113511314 and parameters: {'max_depth': 18, 'min_samples_split': 34, 'min_samples_leaf': 15, 'max_leaf_nodes': 3}. Best is trial 176 with value: 0.5642021601793357.\n",
      "[I 2024-02-09 11:57:13,694] Trial 405 finished with value: 0.56348787446505 and parameters: {'max_depth': 18, 'min_samples_split': 12, 'min_samples_leaf': 15, 'max_leaf_nodes': 30}. Best is trial 176 with value: 0.5642021601793357.\n",
      "[I 2024-02-09 11:57:15,182] Trial 407 finished with value: 0.5632021601793357 and parameters: {'max_depth': 18, 'min_samples_split': 34, 'min_samples_leaf': 18, 'max_leaf_nodes': 30}. Best is trial 176 with value: 0.5642021601793357.\n",
      "[I 2024-02-09 11:57:16,931] Trial 408 finished with value: 0.5642021601793357 and parameters: {'max_depth': 18, 'min_samples_split': 30, 'min_samples_leaf': 14, 'max_leaf_nodes': 30}. Best is trial 176 with value: 0.5642021601793357.\n",
      "[I 2024-02-09 11:57:18,790] Trial 409 finished with value: 0.5642021601793357 and parameters: {'max_depth': 18, 'min_samples_split': 30, 'min_samples_leaf': 14, 'max_leaf_nodes': 30}. Best is trial 176 with value: 0.5642021601793357.\n",
      "[I 2024-02-09 11:57:20,045] Trial 410 finished with value: 0.5642021601793357 and parameters: {'max_depth': 14, 'min_samples_split': 30, 'min_samples_leaf': 14, 'max_leaf_nodes': 30}. Best is trial 176 with value: 0.5642021601793357.\n",
      "[I 2024-02-09 11:57:21,900] Trial 411 finished with value: 0.5642021601793357 and parameters: {'max_depth': 14, 'min_samples_split': 34, 'min_samples_leaf': 14, 'max_leaf_nodes': 30}. Best is trial 176 with value: 0.5642021601793357.\n",
      "[I 2024-02-09 11:57:22,943] Trial 412 finished with value: 0.5642021601793357 and parameters: {'max_depth': 15, 'min_samples_split': 34, 'min_samples_leaf': 14, 'max_leaf_nodes': 30}. Best is trial 176 with value: 0.5642021601793357.\n",
      "[I 2024-02-09 11:57:24,610] Trial 413 finished with value: 0.5642021601793357 and parameters: {'max_depth': 15, 'min_samples_split': 30, 'min_samples_leaf': 14, 'max_leaf_nodes': 30}. Best is trial 176 with value: 0.5642021601793357.\n",
      "[I 2024-02-09 11:57:26,419] Trial 414 finished with value: 0.5642021601793357 and parameters: {'max_depth': 16, 'min_samples_split': 22, 'min_samples_leaf': 14, 'max_leaf_nodes': 30}. Best is trial 176 with value: 0.5642021601793357.\n",
      "[I 2024-02-09 11:57:27,961] Trial 415 finished with value: 0.5642021601793357 and parameters: {'max_depth': 16, 'min_samples_split': 30, 'min_samples_leaf': 14, 'max_leaf_nodes': 30}. Best is trial 176 with value: 0.5642021601793357.\n",
      "[I 2024-02-09 11:57:29,338] Trial 416 finished with value: 0.5642021601793357 and parameters: {'max_depth': 15, 'min_samples_split': 10, 'min_samples_leaf': 14, 'max_leaf_nodes': 30}. Best is trial 176 with value: 0.5642021601793357.\n",
      "[I 2024-02-09 11:57:30,951] Trial 417 finished with value: 0.5642021601793357 and parameters: {'max_depth': 15, 'min_samples_split': 20, 'min_samples_leaf': 14, 'max_leaf_nodes': 30}. Best is trial 176 with value: 0.5642021601793357.\n",
      "[I 2024-02-09 11:57:32,636] Trial 418 finished with value: 0.5642021601793357 and parameters: {'max_depth': 16, 'min_samples_split': 30, 'min_samples_leaf': 14, 'max_leaf_nodes': 30}. Best is trial 176 with value: 0.5642021601793357.\n",
      "[I 2024-02-09 11:57:33,807] Trial 419 finished with value: 0.5642021601793357 and parameters: {'max_depth': 16, 'min_samples_split': 24, 'min_samples_leaf': 14, 'max_leaf_nodes': 30}. Best is trial 176 with value: 0.5642021601793357.\n",
      "[I 2024-02-09 11:57:35,639] Trial 420 finished with value: 0.5642021601793357 and parameters: {'max_depth': 15, 'min_samples_split': 21, 'min_samples_leaf': 14, 'max_leaf_nodes': 30}. Best is trial 176 with value: 0.5642021601793357.\n",
      "[I 2024-02-09 11:57:37,144] Trial 421 finished with value: 0.5642021601793357 and parameters: {'max_depth': 15, 'min_samples_split': 38, 'min_samples_leaf': 14, 'max_leaf_nodes': 30}. Best is trial 176 with value: 0.5642021601793357.\n",
      "[I 2024-02-09 11:57:38,903] Trial 422 finished with value: 0.5642021601793357 and parameters: {'max_depth': 15, 'min_samples_split': 19, 'min_samples_leaf': 14, 'max_leaf_nodes': 30}. Best is trial 176 with value: 0.5642021601793357.\n",
      "[I 2024-02-09 11:57:40,339] Trial 423 finished with value: 0.5622017525983289 and parameters: {'max_depth': 16, 'min_samples_split': 20, 'min_samples_leaf': 14, 'max_leaf_nodes': 29}. Best is trial 176 with value: 0.5642021601793357.\n",
      "[I 2024-02-09 11:57:41,795] Trial 424 finished with value: 0.5622017525983289 and parameters: {'max_depth': 15, 'min_samples_split': 10, 'min_samples_leaf': 14, 'max_leaf_nodes': 29}. Best is trial 176 with value: 0.5642021601793357.\n",
      "[I 2024-02-09 11:57:43,234] Trial 425 finished with value: 0.5622017525983289 and parameters: {'max_depth': 16, 'min_samples_split': 10, 'min_samples_leaf': 14, 'max_leaf_nodes': 29}. Best is trial 176 with value: 0.5642021601793357.\n",
      "[I 2024-02-09 11:57:44,731] Trial 426 finished with value: 0.5622017525983289 and parameters: {'max_depth': 16, 'min_samples_split': 35, 'min_samples_leaf': 14, 'max_leaf_nodes': 29}. Best is trial 176 with value: 0.5642021601793357.\n",
      "[I 2024-02-09 11:57:46,382] Trial 427 finished with value: 0.5622017525983289 and parameters: {'max_depth': 16, 'min_samples_split': 11, 'min_samples_leaf': 14, 'max_leaf_nodes': 29}. Best is trial 176 with value: 0.5642021601793357.\n",
      "[I 2024-02-09 11:57:48,081] Trial 428 finished with value: 0.5622017525983289 and parameters: {'max_depth': 16, 'min_samples_split': 39, 'min_samples_leaf': 14, 'max_leaf_nodes': 29}. Best is trial 176 with value: 0.5642021601793357.\n",
      "[I 2024-02-09 11:57:49,733] Trial 429 finished with value: 0.5622017525983289 and parameters: {'max_depth': 16, 'min_samples_split': 35, 'min_samples_leaf': 14, 'max_leaf_nodes': 29}. Best is trial 176 with value: 0.5642021601793357.\n",
      "[I 2024-02-09 11:57:51,308] Trial 430 finished with value: 0.5622017525983289 and parameters: {'max_depth': 20, 'min_samples_split': 35, 'min_samples_leaf': 14, 'max_leaf_nodes': 29}. Best is trial 176 with value: 0.5642021601793357.\n",
      "[I 2024-02-09 11:57:52,544] Trial 431 finished with value: 0.5622017525983289 and parameters: {'max_depth': 20, 'min_samples_split': 35, 'min_samples_leaf': 14, 'max_leaf_nodes': 29}. Best is trial 176 with value: 0.5642021601793357.\n",
      "[I 2024-02-09 11:57:54,024] Trial 432 finished with value: 0.5622017525983289 and parameters: {'max_depth': 16, 'min_samples_split': 35, 'min_samples_leaf': 14, 'max_leaf_nodes': 29}. Best is trial 176 with value: 0.5642021601793357.\n",
      "[I 2024-02-09 11:57:55,519] Trial 433 finished with value: 0.5622017525983289 and parameters: {'max_depth': 26, 'min_samples_split': 35, 'min_samples_leaf': 14, 'max_leaf_nodes': 29}. Best is trial 176 with value: 0.5642021601793357.\n",
      "[I 2024-02-09 11:57:57,349] Trial 434 finished with value: 0.5622017525983289 and parameters: {'max_depth': 16, 'min_samples_split': 35, 'min_samples_leaf': 14, 'max_leaf_nodes': 29}. Best is trial 176 with value: 0.5642021601793357.\n",
      "[I 2024-02-09 11:57:58,985] Trial 435 finished with value: 0.5622017525983289 and parameters: {'max_depth': 16, 'min_samples_split': 35, 'min_samples_leaf': 14, 'max_leaf_nodes': 29}. Best is trial 176 with value: 0.5642021601793357.\n",
      "[I 2024-02-09 11:58:00,370] Trial 436 finished with value: 0.5622017525983289 and parameters: {'max_depth': 28, 'min_samples_split': 35, 'min_samples_leaf': 14, 'max_leaf_nodes': 29}. Best is trial 176 with value: 0.5642021601793357.\n",
      "[I 2024-02-09 11:58:01,986] Trial 437 finished with value: 0.561344609741186 and parameters: {'max_depth': 20, 'min_samples_split': 5, 'min_samples_leaf': 15, 'max_leaf_nodes': 29}. Best is trial 176 with value: 0.5642021601793357.\n",
      "[I 2024-02-09 11:58:03,343] Trial 438 finished with value: 0.561344609741186 and parameters: {'max_depth': 20, 'min_samples_split': 5, 'min_samples_leaf': 15, 'max_leaf_nodes': 29}. Best is trial 176 with value: 0.5642021601793357.\n",
      "[I 2024-02-09 11:58:04,851] Trial 439 finished with value: 0.561344609741186 and parameters: {'max_depth': 26, 'min_samples_split': 5, 'min_samples_leaf': 15, 'max_leaf_nodes': 29}. Best is trial 176 with value: 0.5642021601793357.\n",
      "[I 2024-02-09 11:58:06,555] Trial 440 finished with value: 0.561344609741186 and parameters: {'max_depth': 17, 'min_samples_split': 5, 'min_samples_leaf': 15, 'max_leaf_nodes': 29}. Best is trial 176 with value: 0.5642021601793357.\n",
      "[I 2024-02-09 11:58:08,006] Trial 441 finished with value: 0.561344609741186 and parameters: {'max_depth': 20, 'min_samples_split': 5, 'min_samples_leaf': 15, 'max_leaf_nodes': 29}. Best is trial 176 with value: 0.5642021601793357.\n",
      "[I 2024-02-09 11:58:09,569] Trial 442 finished with value: 0.561344609741186 and parameters: {'max_depth': 17, 'min_samples_split': 6, 'min_samples_leaf': 15, 'max_leaf_nodes': 29}. Best is trial 176 with value: 0.5642021601793357.\n",
      "[I 2024-02-09 11:58:11,187] Trial 443 finished with value: 0.56348787446505 and parameters: {'max_depth': 26, 'min_samples_split': 5, 'min_samples_leaf': 15, 'max_leaf_nodes': 30}. Best is trial 176 with value: 0.5642021601793357.\n",
      "[I 2024-02-09 11:58:12,696] Trial 444 finished with value: 0.56348787446505 and parameters: {'max_depth': 17, 'min_samples_split': 6, 'min_samples_leaf': 15, 'max_leaf_nodes': 30}. Best is trial 176 with value: 0.5642021601793357.\n",
      "[I 2024-02-09 11:58:14,348] Trial 445 finished with value: 0.56348787446505 and parameters: {'max_depth': 17, 'min_samples_split': 6, 'min_samples_leaf': 15, 'max_leaf_nodes': 30}. Best is trial 176 with value: 0.5642021601793357.\n",
      "[I 2024-02-09 11:58:15,868] Trial 446 finished with value: 0.56348787446505 and parameters: {'max_depth': 17, 'min_samples_split': 5, 'min_samples_leaf': 15, 'max_leaf_nodes': 30}. Best is trial 176 with value: 0.5642021601793357.\n",
      "[I 2024-02-09 11:58:17,180] Trial 447 finished with value: 0.56348787446505 and parameters: {'max_depth': 29, 'min_samples_split': 5, 'min_samples_leaf': 15, 'max_leaf_nodes': 30}. Best is trial 176 with value: 0.5642021601793357.\n",
      "[I 2024-02-09 11:58:18,916] Trial 448 finished with value: 0.56348787446505 and parameters: {'max_depth': 17, 'min_samples_split': 5, 'min_samples_leaf': 15, 'max_leaf_nodes': 30}. Best is trial 176 with value: 0.5642021601793357.\n",
      "[I 2024-02-09 11:58:20,700] Trial 449 finished with value: 0.5633450173221928 and parameters: {'max_depth': 17, 'min_samples_split': 6, 'min_samples_leaf': 11, 'max_leaf_nodes': 30}. Best is trial 176 with value: 0.5642021601793357.\n",
      "[I 2024-02-09 11:58:22,071] Trial 450 finished with value: 0.56348787446505 and parameters: {'max_depth': 17, 'min_samples_split': 6, 'min_samples_leaf': 15, 'max_leaf_nodes': 30}. Best is trial 176 with value: 0.5642021601793357.\n",
      "[I 2024-02-09 11:58:23,638] Trial 451 finished with value: 0.5634878744650499 and parameters: {'max_depth': 17, 'min_samples_split': 9, 'min_samples_leaf': 13, 'max_leaf_nodes': 30}. Best is trial 176 with value: 0.5642021601793357.\n",
      "[I 2024-02-09 11:58:25,053] Trial 452 finished with value: 0.5634878744650499 and parameters: {'max_depth': 18, 'min_samples_split': 33, 'min_samples_leaf': 13, 'max_leaf_nodes': 30}. Best is trial 176 with value: 0.5642021601793357.\n",
      "[I 2024-02-09 11:58:26,758] Trial 453 finished with value: 0.5634878744650499 and parameters: {'max_depth': 18, 'min_samples_split': 6, 'min_samples_leaf': 13, 'max_leaf_nodes': 30}. Best is trial 176 with value: 0.5642021601793357.\n",
      "[I 2024-02-09 11:58:28,084] Trial 454 finished with value: 0.5634878744650499 and parameters: {'max_depth': 18, 'min_samples_split': 7, 'min_samples_leaf': 13, 'max_leaf_nodes': 30}. Best is trial 176 with value: 0.5642021601793357.\n",
      "[I 2024-02-09 11:58:29,789] Trial 455 finished with value: 0.5634878744650499 and parameters: {'max_depth': 18, 'min_samples_split': 7, 'min_samples_leaf': 13, 'max_leaf_nodes': 30}. Best is trial 176 with value: 0.5642021601793357.\n",
      "[I 2024-02-09 11:58:31,265] Trial 456 finished with value: 0.5452054208273894 and parameters: {'max_depth': 18, 'min_samples_split': 33, 'min_samples_leaf': 13, 'max_leaf_nodes': 19}. Best is trial 176 with value: 0.5642021601793357.\n",
      "[I 2024-02-09 11:58:32,983] Trial 457 finished with value: 0.5634878744650499 and parameters: {'max_depth': 18, 'min_samples_split': 9, 'min_samples_leaf': 13, 'max_leaf_nodes': 30}. Best is trial 176 with value: 0.5642021601793357.\n",
      "[I 2024-02-09 11:58:34,434] Trial 458 finished with value: 0.5634878744650499 and parameters: {'max_depth': 18, 'min_samples_split': 9, 'min_samples_leaf': 13, 'max_leaf_nodes': 30}. Best is trial 176 with value: 0.5642021601793357.\n",
      "[I 2024-02-09 11:58:35,720] Trial 459 finished with value: 0.5632021601793357 and parameters: {'max_depth': 18, 'min_samples_split': 37, 'min_samples_leaf': 19, 'max_leaf_nodes': 30}. Best is trial 176 with value: 0.5642021601793357.\n",
      "[I 2024-02-09 11:58:37,169] Trial 460 finished with value: 0.5634878744650499 and parameters: {'max_depth': 18, 'min_samples_split': 9, 'min_samples_leaf': 13, 'max_leaf_nodes': 30}. Best is trial 176 with value: 0.5642021601793357.\n",
      "[I 2024-02-09 11:58:38,915] Trial 461 finished with value: 0.5634878744650499 and parameters: {'max_depth': 18, 'min_samples_split': 37, 'min_samples_leaf': 13, 'max_leaf_nodes': 30}. Best is trial 176 with value: 0.5642021601793357.\n",
      "[I 2024-02-09 11:58:40,529] Trial 462 finished with value: 0.5452054208273894 and parameters: {'max_depth': 18, 'min_samples_split': 33, 'min_samples_leaf': 13, 'max_leaf_nodes': 19}. Best is trial 176 with value: 0.5642021601793357.\n",
      "[I 2024-02-09 11:58:42,234] Trial 463 finished with value: 0.5642021601793357 and parameters: {'max_depth': 18, 'min_samples_split': 33, 'min_samples_leaf': 14, 'max_leaf_nodes': 30}. Best is trial 176 with value: 0.5642021601793357.\n",
      "[I 2024-02-09 11:58:43,777] Trial 464 finished with value: 0.5634878744650499 and parameters: {'max_depth': 18, 'min_samples_split': 7, 'min_samples_leaf': 13, 'max_leaf_nodes': 30}. Best is trial 176 with value: 0.5642021601793357.\n",
      "[I 2024-02-09 11:58:44,714] Trial 465 finished with value: 0.5634878744650499 and parameters: {'max_depth': 18, 'min_samples_split': 7, 'min_samples_leaf': 13, 'max_leaf_nodes': 30}. Best is trial 176 with value: 0.5642021601793357.\n",
      "[I 2024-02-09 11:58:46,611] Trial 466 finished with value: 0.5642021601793357 and parameters: {'max_depth': 18, 'min_samples_split': 37, 'min_samples_leaf': 14, 'max_leaf_nodes': 30}. Best is trial 176 with value: 0.5642021601793357.\n",
      "[I 2024-02-09 11:58:48,178] Trial 467 finished with value: 0.5642021601793357 and parameters: {'max_depth': 18, 'min_samples_split': 9, 'min_samples_leaf': 14, 'max_leaf_nodes': 30}. Best is trial 176 with value: 0.5642021601793357.\n",
      "[I 2024-02-09 11:58:49,777] Trial 468 finished with value: 0.5642021601793357 and parameters: {'max_depth': 19, 'min_samples_split': 9, 'min_samples_leaf': 14, 'max_leaf_nodes': 30}. Best is trial 176 with value: 0.5642021601793357.\n",
      "[I 2024-02-09 11:58:51,331] Trial 469 finished with value: 0.5642021601793357 and parameters: {'max_depth': 19, 'min_samples_split': 11, 'min_samples_leaf': 14, 'max_leaf_nodes': 30}. Best is trial 176 with value: 0.5642021601793357.\n",
      "[I 2024-02-09 11:58:53,238] Trial 470 finished with value: 0.5642021601793357 and parameters: {'max_depth': 19, 'min_samples_split': 11, 'min_samples_leaf': 14, 'max_leaf_nodes': 30}. Best is trial 176 with value: 0.5642021601793357.\n",
      "[I 2024-02-09 11:58:54,402] Trial 471 finished with value: 0.5642021601793357 and parameters: {'max_depth': 19, 'min_samples_split': 34, 'min_samples_leaf': 14, 'max_leaf_nodes': 30}. Best is trial 176 with value: 0.5642021601793357.\n",
      "[I 2024-02-09 11:58:55,749] Trial 472 finished with value: 0.5606315467699206 and parameters: {'max_depth': 19, 'min_samples_split': 33, 'min_samples_leaf': 14, 'max_leaf_nodes': 28}. Best is trial 176 with value: 0.5642021601793357.\n",
      "[I 2024-02-09 11:58:57,238] Trial 473 finished with value: 0.5606315467699206 and parameters: {'max_depth': 19, 'min_samples_split': 33, 'min_samples_leaf': 14, 'max_leaf_nodes': 28}. Best is trial 176 with value: 0.5642021601793357.\n",
      "[I 2024-02-09 11:58:58,970] Trial 474 finished with value: 0.5606315467699206 and parameters: {'max_depth': 19, 'min_samples_split': 34, 'min_samples_leaf': 14, 'max_leaf_nodes': 28}. Best is trial 176 with value: 0.5642021601793357.\n",
      "[I 2024-02-09 11:59:00,470] Trial 475 finished with value: 0.5606315467699206 and parameters: {'max_depth': 19, 'min_samples_split': 31, 'min_samples_leaf': 14, 'max_leaf_nodes': 28}. Best is trial 176 with value: 0.5642021601793357.\n",
      "[I 2024-02-09 11:59:02,181] Trial 476 finished with value: 0.5606315467699206 and parameters: {'max_depth': 19, 'min_samples_split': 31, 'min_samples_leaf': 14, 'max_leaf_nodes': 28}. Best is trial 176 with value: 0.5642021601793357.\n",
      "[I 2024-02-09 11:59:03,509] Trial 477 finished with value: 0.5606315467699206 and parameters: {'max_depth': 19, 'min_samples_split': 11, 'min_samples_leaf': 14, 'max_leaf_nodes': 28}. Best is trial 176 with value: 0.5642021601793357.\n",
      "[I 2024-02-09 11:59:04,853] Trial 478 finished with value: 0.5606315467699206 and parameters: {'max_depth': 19, 'min_samples_split': 31, 'min_samples_leaf': 14, 'max_leaf_nodes': 28}. Best is trial 176 with value: 0.5642021601793357.\n",
      "[I 2024-02-09 11:59:06,381] Trial 479 finished with value: 0.5606315467699206 and parameters: {'max_depth': 19, 'min_samples_split': 31, 'min_samples_leaf': 14, 'max_leaf_nodes': 28}. Best is trial 176 with value: 0.5642021601793357.\n",
      "[I 2024-02-09 11:59:08,089] Trial 480 finished with value: 0.5606315467699206 and parameters: {'max_depth': 15, 'min_samples_split': 11, 'min_samples_leaf': 14, 'max_leaf_nodes': 28}. Best is trial 176 with value: 0.5642021601793357.\n",
      "[I 2024-02-09 11:59:09,827] Trial 481 finished with value: 0.5606315467699206 and parameters: {'max_depth': 15, 'min_samples_split': 31, 'min_samples_leaf': 14, 'max_leaf_nodes': 28}. Best is trial 176 with value: 0.5642021601793357.\n",
      "[I 2024-02-09 11:59:11,076] Trial 482 finished with value: 0.5357782759323417 and parameters: {'max_depth': 15, 'min_samples_split': 34, 'min_samples_leaf': 10, 'max_leaf_nodes': 14}. Best is trial 176 with value: 0.5642021601793357.\n",
      "[I 2024-02-09 11:59:12,479] Trial 483 finished with value: 0.5607744039127777 and parameters: {'max_depth': 15, 'min_samples_split': 31, 'min_samples_leaf': 12, 'max_leaf_nodes': 28}. Best is trial 176 with value: 0.5642021601793357.\n",
      "[I 2024-02-09 11:59:13,916] Trial 484 finished with value: 0.5616303240269004 and parameters: {'max_depth': 15, 'min_samples_split': 31, 'min_samples_leaf': 12, 'max_leaf_nodes': 29}. Best is trial 176 with value: 0.5642021601793357.\n",
      "[I 2024-02-09 11:59:15,222] Trial 485 finished with value: 0.5357782759323417 and parameters: {'max_depth': 15, 'min_samples_split': 31, 'min_samples_leaf': 12, 'max_leaf_nodes': 14}. Best is trial 176 with value: 0.5642021601793357.\n",
      "[I 2024-02-09 11:59:16,817] Trial 486 finished with value: 0.5622017525983289 and parameters: {'max_depth': 15, 'min_samples_split': 32, 'min_samples_leaf': 14, 'max_leaf_nodes': 29}. Best is trial 176 with value: 0.5642021601793357.\n",
      "[I 2024-02-09 11:59:18,497] Trial 487 finished with value: 0.5622017525983289 and parameters: {'max_depth': 15, 'min_samples_split': 31, 'min_samples_leaf': 14, 'max_leaf_nodes': 29}. Best is trial 176 with value: 0.5642021601793357.\n",
      "[I 2024-02-09 11:59:20,061] Trial 488 finished with value: 0.5622017525983289 and parameters: {'max_depth': 15, 'min_samples_split': 32, 'min_samples_leaf': 14, 'max_leaf_nodes': 29}. Best is trial 176 with value: 0.5642021601793357.\n",
      "[I 2024-02-09 11:59:21,419] Trial 489 finished with value: 0.5616303240269004 and parameters: {'max_depth': 15, 'min_samples_split': 36, 'min_samples_leaf': 12, 'max_leaf_nodes': 29}. Best is trial 176 with value: 0.5642021601793357.\n",
      "[I 2024-02-09 11:59:22,729] Trial 490 finished with value: 0.5357782759323417 and parameters: {'max_depth': 15, 'min_samples_split': 32, 'min_samples_leaf': 14, 'max_leaf_nodes': 14}. Best is trial 176 with value: 0.5642021601793357.\n",
      "[I 2024-02-09 11:59:24,285] Trial 491 finished with value: 0.5616303240269004 and parameters: {'max_depth': 15, 'min_samples_split': 32, 'min_samples_leaf': 12, 'max_leaf_nodes': 29}. Best is trial 176 with value: 0.5642021601793357.\n",
      "[I 2024-02-09 11:59:25,880] Trial 492 finished with value: 0.5622017525983289 and parameters: {'max_depth': 16, 'min_samples_split': 32, 'min_samples_leaf': 14, 'max_leaf_nodes': 29}. Best is trial 176 with value: 0.5642021601793357.\n",
      "[I 2024-02-09 11:59:27,287] Trial 493 finished with value: 0.561344609741186 and parameters: {'max_depth': 16, 'min_samples_split': 36, 'min_samples_leaf': 15, 'max_leaf_nodes': 29}. Best is trial 176 with value: 0.5642021601793357.\n",
      "[I 2024-02-09 11:59:28,924] Trial 494 finished with value: 0.5616303240269004 and parameters: {'max_depth': 16, 'min_samples_split': 36, 'min_samples_leaf': 12, 'max_leaf_nodes': 29}. Best is trial 176 with value: 0.5642021601793357.\n",
      "[I 2024-02-09 11:59:30,296] Trial 495 finished with value: 0.561344609741186 and parameters: {'max_depth': 16, 'min_samples_split': 36, 'min_samples_leaf': 15, 'max_leaf_nodes': 29}. Best is trial 176 with value: 0.5642021601793357.\n",
      "[I 2024-02-09 11:59:32,259] Trial 496 finished with value: 0.561344609741186 and parameters: {'max_depth': 16, 'min_samples_split': 36, 'min_samples_leaf': 15, 'max_leaf_nodes': 29}. Best is trial 176 with value: 0.5642021601793357.\n",
      "[I 2024-02-09 11:59:33,488] Trial 497 finished with value: 0.561344609741186 and parameters: {'max_depth': 16, 'min_samples_split': 36, 'min_samples_leaf': 15, 'max_leaf_nodes': 29}. Best is trial 176 with value: 0.5642021601793357.\n",
      "[I 2024-02-09 11:59:34,971] Trial 498 finished with value: 0.561344609741186 and parameters: {'max_depth': 16, 'min_samples_split': 36, 'min_samples_leaf': 15, 'max_leaf_nodes': 29}. Best is trial 176 with value: 0.5642021601793357.\n",
      "[I 2024-02-09 11:59:36,301] Trial 499 finished with value: 0.561344609741186 and parameters: {'max_depth': 16, 'min_samples_split': 36, 'min_samples_leaf': 15, 'max_leaf_nodes': 29}. Best is trial 176 with value: 0.5642021601793357.\n"
     ]
    },
    {
     "name": "stdout",
     "output_type": "stream",
     "text": [
      "FrozenTrial(number=176, state=1, values=[0.5642021601793357], datetime_start=datetime.datetime(2024, 2, 9, 11, 51, 10, 620382), datetime_complete=datetime.datetime(2024, 2, 9, 11, 51, 29, 22046), params={'max_depth': 18, 'min_samples_split': 33, 'min_samples_leaf': 14, 'max_leaf_nodes': 30}, user_attrs={}, system_attrs={}, intermediate_values={}, distributions={'max_depth': IntDistribution(high=30, log=False, low=2, step=1), 'min_samples_split': IntDistribution(high=40, log=False, low=2, step=1), 'min_samples_leaf': IntDistribution(high=20, log=False, low=1, step=1), 'max_leaf_nodes': IntDistribution(high=30, log=False, low=3, step=1)}, trial_id=176, value=None)\n"
     ]
    }
   ],
   "source": [
    "decision_tree_pca_result = optimize_hyperparameters('decision_tree', X_pca_train, y_train, n_trials=500)\n",
    "print(decision_tree_pca_result)"
   ]
  },
  {
   "cell_type": "code",
   "execution_count": 19,
   "metadata": {},
   "outputs": [
    {
     "data": {
      "text/plain": [
       "{'max_depth': 18,\n",
       " 'min_samples_split': 33,\n",
       " 'min_samples_leaf': 14,\n",
       " 'max_leaf_nodes': 30}"
      ]
     },
     "execution_count": 19,
     "metadata": {},
     "output_type": "execute_result"
    }
   ],
   "source": [
    "decision_tree_pca_result.params"
   ]
  },
  {
   "cell_type": "code",
   "execution_count": 20,
   "metadata": {},
   "outputs": [
    {
     "data": {
      "text/plain": [
       "0.5642021601793357"
      ]
     },
     "execution_count": 20,
     "metadata": {},
     "output_type": "execute_result"
    }
   ],
   "source": [
    "decision_tree_pca_result.value"
   ]
  },
  {
   "cell_type": "code",
   "execution_count": 21,
   "metadata": {},
   "outputs": [
    {
     "data": {
      "text/plain": [
       "0.5659623072529982"
      ]
     },
     "execution_count": 21,
     "metadata": {},
     "output_type": "execute_result"
    }
   ],
   "source": [
    "best_decision_tree_model_pca = DecisionTreeClassifier(**decision_tree_pca_result.params)\n",
    "best_decision_tree_model_pca.fit(X_pca_train, y_train)\n",
    "best_decision_tree_model_pca.score(X_pca_test, y_test)"
   ]
  },
  {
   "cell_type": "markdown",
   "metadata": {},
   "source": [
    "### Random Forest"
   ]
  },
  {
   "cell_type": "markdown",
   "metadata": {},
   "source": [
    "#### PCA"
   ]
  },
  {
   "cell_type": "code",
   "execution_count": 23,
   "metadata": {},
   "outputs": [
    {
     "name": "stderr",
     "output_type": "stream",
     "text": [
      "[I 2024-02-09 12:08:16,326] A new study created in memory with name: no-name-cf755f87-1977-4570-8c62-243255b968f7\n",
      "[I 2024-02-09 12:08:53,646] Trial 0 finished with value: 0.674328306500917 and parameters: {'n_estimators': 146, 'max_depth': 6, 'min_samples_split': 40, 'min_samples_leaf': 18, 'max_leaf_nodes': 25}. Best is trial 0 with value: 0.674328306500917.\n",
      "[I 2024-02-09 12:10:40,093] Trial 8 finished with value: 0.7341801508049726 and parameters: {'n_estimators': 216, 'max_depth': 29, 'min_samples_split': 20, 'min_samples_leaf': 15, 'max_leaf_nodes': 61}. Best is trial 8 with value: 0.7341801508049726.\n",
      "[I 2024-02-09 12:10:55,814] Trial 6 finished with value: 0.6627607499490524 and parameters: {'n_estimators': 899, 'max_depth': 47, 'min_samples_split': 7, 'min_samples_leaf': 1, 'max_leaf_nodes': 13}. Best is trial 8 with value: 0.7341801508049726.\n",
      "[I 2024-02-09 12:11:01,061] Trial 1 finished with value: 0.64490666394946 and parameters: {'n_estimators': 494, 'max_depth': 23, 'min_samples_split': 26, 'min_samples_leaf': 12, 'max_leaf_nodes': 9}. Best is trial 8 with value: 0.7341801508049726.\n",
      "[I 2024-02-09 12:11:30,206] Trial 3 finished with value: 0.7221821887100062 and parameters: {'n_estimators': 296, 'max_depth': 37, 'min_samples_split': 22, 'min_samples_leaf': 1, 'max_leaf_nodes': 45}. Best is trial 8 with value: 0.7341801508049726.\n",
      "[I 2024-02-09 12:12:00,378] Trial 9 finished with value: 0.7114695333197474 and parameters: {'n_estimators': 857, 'max_depth': 36, 'min_samples_split': 32, 'min_samples_leaf': 7, 'max_leaf_nodes': 34}. Best is trial 8 with value: 0.7341801508049726.\n",
      "[I 2024-02-09 12:12:14,045] Trial 11 finished with value: 0.740751579376401 and parameters: {'n_estimators': 395, 'max_depth': 38, 'min_samples_split': 36, 'min_samples_leaf': 19, 'max_leaf_nodes': 64}. Best is trial 11 with value: 0.740751579376401.\n",
      "[I 2024-02-09 12:12:40,533] Trial 10 finished with value: 0.6479058487874465 and parameters: {'n_estimators': 685, 'max_depth': 39, 'min_samples_split': 16, 'min_samples_leaf': 9, 'max_leaf_nodes': 10}. Best is trial 11 with value: 0.740751579376401.\n",
      "[I 2024-02-09 12:12:52,882] Trial 5 finished with value: 0.6079103321785204 and parameters: {'n_estimators': 463, 'max_depth': 2, 'min_samples_split': 2, 'min_samples_leaf': 18, 'max_leaf_nodes': 27}. Best is trial 11 with value: 0.740751579376401.\n",
      "[I 2024-02-09 12:13:01,799] Trial 4 finished with value: 0.6109082942734869 and parameters: {'n_estimators': 378, 'max_depth': 2, 'min_samples_split': 18, 'min_samples_leaf': 12, 'max_leaf_nodes': 49}. Best is trial 11 with value: 0.740751579376401.\n",
      "[I 2024-02-09 12:13:06,060] Trial 2 finished with value: 0.7333236193193396 and parameters: {'n_estimators': 420, 'max_depth': 39, 'min_samples_split': 4, 'min_samples_leaf': 17, 'max_leaf_nodes': 58}. Best is trial 11 with value: 0.740751579376401.\n",
      "[I 2024-02-09 12:14:00,201] Trial 12 finished with value: 0.6890448339107397 and parameters: {'n_estimators': 260, 'max_depth': 13, 'min_samples_split': 35, 'min_samples_leaf': 9, 'max_leaf_nodes': 23}. Best is trial 11 with value: 0.740751579376401.\n",
      "[I 2024-02-09 12:14:13,737] Trial 7 finished with value: 0.7384662726716935 and parameters: {'n_estimators': 787, 'max_depth': 43, 'min_samples_split': 11, 'min_samples_leaf': 7, 'max_leaf_nodes': 58}. Best is trial 11 with value: 0.740751579376401.\n",
      "[I 2024-02-09 12:14:43,367] Trial 13 finished with value: 0.7228991237008355 and parameters: {'n_estimators': 431, 'max_depth': 12, 'min_samples_split': 17, 'min_samples_leaf': 8, 'max_leaf_nodes': 50}. Best is trial 11 with value: 0.740751579376401.\n",
      "[I 2024-02-09 12:14:54,720] Trial 14 finished with value: 0.6819015691868758 and parameters: {'n_estimators': 276, 'max_depth': 53, 'min_samples_split': 37, 'min_samples_leaf': 14, 'max_leaf_nodes': 19}. Best is trial 11 with value: 0.740751579376401.\n",
      "[I 2024-02-09 12:16:20,739] Trial 15 finished with value: 0.7391813735479926 and parameters: {'n_estimators': 993, 'max_depth': 70, 'min_samples_split': 5, 'min_samples_leaf': 8, 'max_leaf_nodes': 57}. Best is trial 11 with value: 0.740751579376401.\n",
      "[I 2024-02-09 12:16:46,156] Trial 16 finished with value: 0.7231832076625229 and parameters: {'n_estimators': 423, 'max_depth': 50, 'min_samples_split': 32, 'min_samples_leaf': 18, 'max_leaf_nodes': 45}. Best is trial 11 with value: 0.740751579376401.\n",
      "[I 2024-02-09 12:17:53,144] Trial 17 finished with value: 0.7406083146525372 and parameters: {'n_estimators': 808, 'max_depth': 27, 'min_samples_split': 10, 'min_samples_leaf': 17, 'max_leaf_nodes': 65}. Best is trial 11 with value: 0.740751579376401.\n",
      "[I 2024-02-09 12:18:54,649] Trial 18 finished with value: 0.7116123904626045 and parameters: {'n_estimators': 809, 'max_depth': 29, 'min_samples_split': 3, 'min_samples_leaf': 13, 'max_leaf_nodes': 36}. Best is trial 11 with value: 0.740751579376401.\n",
      "[I 2024-02-09 12:19:10,143] Trial 19 finished with value: 0.7118995312818424 and parameters: {'n_estimators': 483, 'max_depth': 16, 'min_samples_split': 3, 'min_samples_leaf': 2, 'max_leaf_nodes': 36}. Best is trial 11 with value: 0.740751579376401.\n",
      "[I 2024-02-09 12:19:25,545] Trial 20 finished with value: 0.690900957815366 and parameters: {'n_estimators': 473, 'max_depth': 7, 'min_samples_split': 37, 'min_samples_leaf': 20, 'max_leaf_nodes': 51}. Best is trial 11 with value: 0.740751579376401.\n",
      "[I 2024-02-09 12:20:19,458] Trial 22 finished with value: 0.7310389239861422 and parameters: {'n_estimators': 155, 'max_depth': 66, 'min_samples_split': 40, 'min_samples_leaf': 20, 'max_leaf_nodes': 70}. Best is trial 11 with value: 0.740751579376401.\n",
      "[I 2024-02-09 12:20:22,126] Trial 21 finished with value: 0.7408944365192582 and parameters: {'n_estimators': 671, 'max_depth': 70, 'min_samples_split': 39, 'min_samples_leaf': 20, 'max_leaf_nodes': 69}. Best is trial 21 with value: 0.7408944365192582.\n",
      "[I 2024-02-09 12:20:29,937] Trial 23 finished with value: 0.7367509680048909 and parameters: {'n_estimators': 120, 'max_depth': 68, 'min_samples_split': 12, 'min_samples_leaf': 15, 'max_leaf_nodes': 70}. Best is trial 21 with value: 0.7408944365192582.\n",
      "[I 2024-02-09 12:21:37,002] Trial 24 finished with value: 0.7471797432239657 and parameters: {'n_estimators': 683, 'max_depth': 68, 'min_samples_split': 11, 'min_samples_leaf': 5, 'max_leaf_nodes': 69}. Best is trial 24 with value: 0.7471797432239657.\n",
      "[I 2024-02-09 12:22:30,270] Trial 25 finished with value: 0.7378944365192582 and parameters: {'n_estimators': 663, 'max_depth': 67, 'min_samples_split': 12, 'min_samples_leaf': 6, 'max_leaf_nodes': 62}. Best is trial 24 with value: 0.7471797432239657.\n",
      "[I 2024-02-09 12:23:32,954] Trial 26 finished with value: 0.7447517831669044 and parameters: {'n_estimators': 670, 'max_depth': 69, 'min_samples_split': 12, 'min_samples_leaf': 4, 'max_leaf_nodes': 70}. Best is trial 24 with value: 0.7471797432239657.\n",
      "[I 2024-02-09 12:24:58,322] Trial 27 finished with value: 0.7493209700427961 and parameters: {'n_estimators': 999, 'max_depth': 69, 'min_samples_split': 28, 'min_samples_leaf': 4, 'max_leaf_nodes': 70}. Best is trial 27 with value: 0.7493209700427961.\n",
      "[I 2024-02-09 12:26:08,010] Trial 28 finished with value: 0.7440366822906053 and parameters: {'n_estimators': 993, 'max_depth': 68, 'min_samples_split': 26, 'min_samples_leaf': 4, 'max_leaf_nodes': 69}. Best is trial 27 with value: 0.7493209700427961.\n",
      "[I 2024-02-09 12:26:39,095] Trial 29 finished with value: 0.743893825147748 and parameters: {'n_estimators': 614, 'max_depth': 27, 'min_samples_split': 11, 'min_samples_leaf': 20, 'max_leaf_nodes': 70}. Best is trial 27 with value: 0.7493209700427961.\n",
      "[I 2024-02-09 12:27:14,710] Trial 30 finished with value: 0.7413215814143062 and parameters: {'n_estimators': 623, 'max_depth': 59, 'min_samples_split': 11, 'min_samples_leaf': 20, 'max_leaf_nodes': 69}. Best is trial 27 with value: 0.7493209700427961.\n",
      "[I 2024-02-09 12:28:10,931] Trial 31 finished with value: 0.7403228041573264 and parameters: {'n_estimators': 624, 'max_depth': 64, 'min_samples_split': 12, 'min_samples_leaf': 16, 'max_leaf_nodes': 66}. Best is trial 27 with value: 0.7493209700427961.\n",
      "[I 2024-02-09 12:29:18,038] Trial 32 finished with value: 0.7387523945384146 and parameters: {'n_estimators': 945, 'max_depth': 67, 'min_samples_split': 12, 'min_samples_leaf': 20, 'max_leaf_nodes': 70}. Best is trial 27 with value: 0.7493209700427961.\n",
      "[I 2024-02-09 12:30:30,254] Trial 33 finished with value: 0.742323211738333 and parameters: {'n_estimators': 952, 'max_depth': 54, 'min_samples_split': 10, 'min_samples_leaf': 16, 'max_leaf_nodes': 67}. Best is trial 27 with value: 0.7493209700427961.\n",
      "[I 2024-02-09 12:31:14,297] Trial 34 finished with value: 0.7417528021194212 and parameters: {'n_estimators': 657, 'max_depth': 27, 'min_samples_split': 28, 'min_samples_leaf': 16, 'max_leaf_nodes': 70}. Best is trial 27 with value: 0.7493209700427961.\n",
      "[I 2024-02-09 12:32:03,968] Trial 35 finished with value: 0.738467087833707 and parameters: {'n_estimators': 626, 'max_depth': 59, 'min_samples_split': 27, 'min_samples_leaf': 16, 'max_leaf_nodes': 66}. Best is trial 27 with value: 0.7493209700427961.\n",
      "[I 2024-02-09 12:32:46,644] Trial 36 finished with value: 0.7433217852048095 and parameters: {'n_estimators': 638, 'max_depth': 60, 'min_samples_split': 26, 'min_samples_leaf': 4, 'max_leaf_nodes': 65}. Best is trial 27 with value: 0.7493209700427961.\n",
      "[I 2024-02-09 12:33:20,233] Trial 38 finished with value: 0.6064840024454861 and parameters: {'n_estimators': 623, 'max_depth': 58, 'min_samples_split': 25, 'min_samples_leaf': 4, 'max_leaf_nodes': 3}. Best is trial 27 with value: 0.7493209700427961.\n",
      "[I 2024-02-09 12:33:28,781] Trial 37 finished with value: 0.7443228041573262 and parameters: {'n_estimators': 587, 'max_depth': 59, 'min_samples_split': 27, 'min_samples_leaf': 4, 'max_leaf_nodes': 66}. Best is trial 27 with value: 0.7493209700427961.\n",
      "[I 2024-02-09 12:34:15,172] Trial 39 finished with value: 0.7344664764621969 and parameters: {'n_estimators': 590, 'max_depth': 59, 'min_samples_split': 26, 'min_samples_leaf': 4, 'max_leaf_nodes': 55}. Best is trial 27 with value: 0.7493209700427961.\n",
      "[I 2024-02-09 12:35:05,780] Trial 40 finished with value: 0.7298962706337885 and parameters: {'n_estimators': 588, 'max_depth': 60, 'min_samples_split': 26, 'min_samples_leaf': 4, 'max_leaf_nodes': 53}. Best is trial 27 with value: 0.7493209700427961.\n",
      "[I 2024-02-09 12:35:46,995] Trial 41 finished with value: 0.742178724271449 and parameters: {'n_estimators': 565, 'max_depth': 60, 'min_samples_split': 25, 'min_samples_leaf': 4, 'max_leaf_nodes': 65}. Best is trial 27 with value: 0.7493209700427961.\n",
      "[I 2024-02-09 12:35:56,950] Trial 42 finished with value: 0.6014844100264928 and parameters: {'n_estimators': 967, 'max_depth': 61, 'min_samples_split': 26, 'min_samples_leaf': 4, 'max_leaf_nodes': 3}. Best is trial 27 with value: 0.7493209700427961.\n",
      "[I 2024-02-09 12:37:23,384] Trial 43 finished with value: 0.7326103525575708 and parameters: {'n_estimators': 999, 'max_depth': 60, 'min_samples_split': 26, 'min_samples_leaf': 4, 'max_leaf_nodes': 55}. Best is trial 27 with value: 0.7493209700427961.\n",
      "[I 2024-02-09 12:38:24,015] Trial 44 finished with value: 0.733039331567149 and parameters: {'n_estimators': 746, 'max_depth': 61, 'min_samples_split': 25, 'min_samples_leaf': 4, 'max_leaf_nodes': 54}. Best is trial 27 with value: 0.7493209700427961.\n",
      "[I 2024-02-09 12:39:17,360] Trial 45 finished with value: 0.7316109639290808 and parameters: {'n_estimators': 738, 'max_depth': 61, 'min_samples_split': 26, 'min_samples_leaf': 4, 'max_leaf_nodes': 55}. Best is trial 27 with value: 0.7493209700427961.\n",
      "[I 2024-02-09 12:40:18,680] Trial 46 finished with value: 0.734895455471775 and parameters: {'n_estimators': 737, 'max_depth': 61, 'min_samples_split': 25, 'min_samples_leaf': 4, 'max_leaf_nodes': 55}. Best is trial 27 with value: 0.7493209700427961.\n",
      "[I 2024-02-09 12:41:19,537] Trial 47 finished with value: 0.7356097411860607 and parameters: {'n_estimators': 745, 'max_depth': 61, 'min_samples_split': 24, 'min_samples_leaf': 4, 'max_leaf_nodes': 55}. Best is trial 27 with value: 0.7493209700427961.\n",
      "[I 2024-02-09 12:41:47,819] Trial 48 finished with value: 0.7334672916242103 and parameters: {'n_estimators': 739, 'max_depth': 62, 'min_samples_split': 24, 'min_samples_leaf': 4, 'max_leaf_nodes': 54}. Best is trial 27 with value: 0.7493209700427961.\n",
      "[I 2024-02-09 12:42:44,559] Trial 49 finished with value: 0.7350379050336253 and parameters: {'n_estimators': 727, 'max_depth': 63, 'min_samples_split': 23, 'min_samples_leaf': 4, 'max_leaf_nodes': 54}. Best is trial 27 with value: 0.7493209700427961.\n",
      "[I 2024-02-09 12:43:21,964] Trial 50 finished with value: 0.7330395353576524 and parameters: {'n_estimators': 550, 'max_depth': 63, 'min_samples_split': 23, 'min_samples_leaf': 2, 'max_leaf_nodes': 54}. Best is trial 27 with value: 0.7493209700427961.\n",
      "[I 2024-02-09 12:44:22,629] Trial 51 finished with value: 0.7376091298145507 and parameters: {'n_estimators': 725, 'max_depth': 63, 'min_samples_split': 23, 'min_samples_leaf': 2, 'max_leaf_nodes': 61}. Best is trial 27 with value: 0.7493209700427961.\n",
      "[I 2024-02-09 12:45:27,254] Trial 52 finished with value: 0.7414660688811903 and parameters: {'n_estimators': 730, 'max_depth': 63, 'min_samples_split': 23, 'min_samples_leaf': 2, 'max_leaf_nodes': 61}. Best is trial 27 with value: 0.7493209700427961.\n",
      "[I 2024-02-09 12:46:19,818] Trial 53 finished with value: 0.7370391277766457 and parameters: {'n_estimators': 711, 'max_depth': 64, 'min_samples_split': 30, 'min_samples_leaf': 2, 'max_leaf_nodes': 60}. Best is trial 27 with value: 0.7493209700427961.\n",
      "[I 2024-02-09 12:47:17,763] Trial 54 finished with value: 0.7404656613001834 and parameters: {'n_estimators': 720, 'max_depth': 64, 'min_samples_split': 22, 'min_samples_leaf': 2, 'max_leaf_nodes': 60}. Best is trial 27 with value: 0.7493209700427961.\n",
      "[I 2024-02-09 12:47:44,281] Trial 55 finished with value: 0.7421799470144692 and parameters: {'n_estimators': 728, 'max_depth': 64, 'min_samples_split': 22, 'min_samples_leaf': 2, 'max_leaf_nodes': 61}. Best is trial 27 with value: 0.7493209700427961.\n",
      "[I 2024-02-09 12:48:42,324] Trial 56 finished with value: 0.7366087222335439 and parameters: {'n_estimators': 721, 'max_depth': 64, 'min_samples_split': 21, 'min_samples_leaf': 2, 'max_leaf_nodes': 61}. Best is trial 27 with value: 0.7493209700427961.\n",
      "[I 2024-02-09 12:50:04,264] Trial 57 finished with value: 0.7370381088241287 and parameters: {'n_estimators': 894, 'max_depth': 64, 'min_samples_split': 22, 'min_samples_leaf': 2, 'max_leaf_nodes': 62}. Best is trial 27 with value: 0.7493209700427961.\n",
      "[I 2024-02-09 12:50:30,736] Trial 58 finished with value: 0.7387517831669044 and parameters: {'n_estimators': 529, 'max_depth': 55, 'min_samples_split': 22, 'min_samples_leaf': 2, 'max_leaf_nodes': 61}. Best is trial 27 with value: 0.7493209700427961.\n",
      "[I 2024-02-09 12:51:35,399] Trial 59 finished with value: 0.7391805583859793 and parameters: {'n_estimators': 888, 'max_depth': 55, 'min_samples_split': 30, 'min_samples_leaf': 2, 'max_leaf_nodes': 61}. Best is trial 27 with value: 0.7493209700427961.\n",
      "[I 2024-02-09 12:52:53,944] Trial 60 finished with value: 0.7403226003668228 and parameters: {'n_estimators': 899, 'max_depth': 54, 'min_samples_split': 30, 'min_samples_leaf': 2, 'max_leaf_nodes': 60}. Best is trial 27 with value: 0.7493209700427961.\n",
      "[I 2024-02-09 12:54:13,066] Trial 61 finished with value: 0.7396087222335439 and parameters: {'n_estimators': 894, 'max_depth': 46, 'min_samples_split': 30, 'min_samples_leaf': 2, 'max_leaf_nodes': 60}. Best is trial 27 with value: 0.7493209700427961.\n",
      "[I 2024-02-09 12:55:10,084] Trial 62 finished with value: 0.7418934175667415 and parameters: {'n_estimators': 885, 'max_depth': 19, 'min_samples_split': 30, 'min_samples_leaf': 6, 'max_leaf_nodes': 61}. Best is trial 27 with value: 0.7493209700427961.\n",
      "[I 2024-02-09 12:56:18,468] Trial 63 finished with value: 0.741466476462197 and parameters: {'n_estimators': 873, 'max_depth': 44, 'min_samples_split': 30, 'min_samples_leaf': 6, 'max_leaf_nodes': 59}. Best is trial 27 with value: 0.7493209700427961.\n",
      "[I 2024-02-09 12:56:48,943] Trial 64 finished with value: 0.7370383126146322 and parameters: {'n_estimators': 879, 'max_depth': 23, 'min_samples_split': 30, 'min_samples_leaf': 6, 'max_leaf_nodes': 58}. Best is trial 27 with value: 0.7493209700427961.\n",
      "[I 2024-02-09 12:58:09,570] Trial 65 finished with value: 0.7444650499286734 and parameters: {'n_estimators': 879, 'max_depth': 56, 'min_samples_split': 19, 'min_samples_leaf': 6, 'max_leaf_nodes': 63}. Best is trial 27 with value: 0.7493209700427961.\n",
      "[I 2024-02-09 12:59:22,024] Trial 66 finished with value: 0.7398956592622784 and parameters: {'n_estimators': 838, 'max_depth': 20, 'min_samples_split': 15, 'min_samples_leaf': 6, 'max_leaf_nodes': 63}. Best is trial 27 with value: 0.7493209700427961.\n",
      "[I 2024-02-09 13:00:24,144] Trial 67 finished with value: 0.7200405543101691 and parameters: {'n_estimators': 871, 'max_depth': 33, 'min_samples_split': 14, 'min_samples_leaf': 6, 'max_leaf_nodes': 42}. Best is trial 27 with value: 0.7493209700427961.\n",
      "[I 2024-02-09 13:01:24,450] Trial 68 finished with value: 0.7084695333197473 and parameters: {'n_estimators': 874, 'max_depth': 55, 'min_samples_split': 15, 'min_samples_leaf': 6, 'max_leaf_nodes': 32}. Best is trial 27 with value: 0.7493209700427961.\n",
      "[I 2024-02-09 13:01:46,789] Trial 69 finished with value: 0.7436074994905237 and parameters: {'n_estimators': 527, 'max_depth': 43, 'min_samples_split': 14, 'min_samples_leaf': 11, 'max_leaf_nodes': 68}. Best is trial 27 with value: 0.7493209700427961.\n",
      "[I 2024-02-09 13:02:50,668] Trial 70 finished with value: 0.7444636233951498 and parameters: {'n_estimators': 889, 'max_depth': 45, 'min_samples_split': 14, 'min_samples_leaf': 6, 'max_leaf_nodes': 67}. Best is trial 27 with value: 0.7493209700427961.\n",
      "[I 2024-02-09 13:03:57,552] Trial 71 finished with value: 0.7184685143672305 and parameters: {'n_estimators': 862, 'max_depth': 41, 'min_samples_split': 15, 'min_samples_leaf': 6, 'max_leaf_nodes': 41}. Best is trial 27 with value: 0.7493209700427961.\n",
      "[I 2024-02-09 13:05:06,584] Trial 72 finished with value: 0.7464646423476666 and parameters: {'n_estimators': 800, 'max_depth': 22, 'min_samples_split': 14, 'min_samples_leaf': 6, 'max_leaf_nodes': 67}. Best is trial 27 with value: 0.7493209700427961.\n",
      "[I 2024-02-09 13:06:04,171] Trial 73 finished with value: 0.7441805583859791 and parameters: {'n_estimators': 830, 'max_depth': 69, 'min_samples_split': 8, 'min_samples_leaf': 6, 'max_leaf_nodes': 67}. Best is trial 27 with value: 0.7493209700427961.\n",
      "[I 2024-02-09 13:06:05,134] Trial 74 finished with value: 0.7437497452618708 and parameters: {'n_estimators': 338, 'max_depth': 33, 'min_samples_split': 14, 'min_samples_leaf': 6, 'max_leaf_nodes': 67}. Best is trial 27 with value: 0.7493209700427961.\n",
      "[I 2024-02-09 13:06:52,285] Trial 75 finished with value: 0.7404654575096801 and parameters: {'n_estimators': 508, 'max_depth': 68, 'min_samples_split': 14, 'min_samples_leaf': 5, 'max_leaf_nodes': 67}. Best is trial 27 with value: 0.7493209700427961.\n",
      "[I 2024-02-09 13:07:05,499] Trial 76 finished with value: 0.7230391277766456 and parameters: {'n_estimators': 331, 'max_depth': 70, 'min_samples_split': 15, 'min_samples_leaf': 5, 'max_leaf_nodes': 43}. Best is trial 27 with value: 0.7493209700427961.\n",
      "[I 2024-02-09 13:08:16,222] Trial 77 finished with value: 0.7256107601385776 and parameters: {'n_estimators': 807, 'max_depth': 70, 'min_samples_split': 15, 'min_samples_leaf': 11, 'max_leaf_nodes': 44}. Best is trial 27 with value: 0.7493209700427961.\n",
      "[I 2024-02-09 13:08:47,779] Trial 78 finished with value: 0.7437523945384145 and parameters: {'n_estimators': 514, 'max_depth': 70, 'min_samples_split': 7, 'min_samples_leaf': 10, 'max_leaf_nodes': 68}. Best is trial 27 with value: 0.7493209700427961.\n",
      "[I 2024-02-09 13:10:00,858] Trial 79 finished with value: 0.7451785204809456 and parameters: {'n_estimators': 791, 'max_depth': 70, 'min_samples_split': 7, 'min_samples_leaf': 10, 'max_leaf_nodes': 67}. Best is trial 27 with value: 0.7493209700427961.\n",
      "[I 2024-02-09 13:11:09,522] Trial 80 finished with value: 0.7470372936621154 and parameters: {'n_estimators': 932, 'max_depth': 68, 'min_samples_split': 8, 'min_samples_leaf': 10, 'max_leaf_nodes': 68}. Best is trial 27 with value: 0.7493209700427961.\n",
      "[I 2024-02-09 13:12:14,278] Trial 81 finished with value: 0.7440366822906053 and parameters: {'n_estimators': 789, 'max_depth': 70, 'min_samples_split': 8, 'min_samples_leaf': 5, 'max_leaf_nodes': 67}. Best is trial 27 with value: 0.7493209700427961.\n",
      "[I 2024-02-09 13:13:22,958] Trial 82 finished with value: 0.7450372936621155 and parameters: {'n_estimators': 938, 'max_depth': 50, 'min_samples_split': 7, 'min_samples_leaf': 5, 'max_leaf_nodes': 68}. Best is trial 27 with value: 0.7493209700427961.\n",
      "[I 2024-02-09 13:14:35,938] Trial 83 finished with value: 0.7433230079478297 and parameters: {'n_estimators': 928, 'max_depth': 51, 'min_samples_split': 8, 'min_samples_leaf': 5, 'max_leaf_nodes': 67}. Best is trial 27 with value: 0.7493209700427961.\n",
      "[I 2024-02-09 13:15:51,342] Trial 84 finished with value: 0.7450374974526187 and parameters: {'n_estimators': 923, 'max_depth': 70, 'min_samples_split': 19, 'min_samples_leaf': 5, 'max_leaf_nodes': 67}. Best is trial 27 with value: 0.7493209700427961.\n",
      "[I 2024-02-09 13:16:41,655] Trial 85 finished with value: 0.7430364785001019 and parameters: {'n_estimators': 778, 'max_depth': 69, 'min_samples_split': 9, 'min_samples_leaf': 5, 'max_leaf_nodes': 67}. Best is trial 27 with value: 0.7493209700427961.\n",
      "[I 2024-02-09 13:17:25,844] Trial 86 finished with value: 0.7416089260240473 and parameters: {'n_estimators': 789, 'max_depth': 70, 'min_samples_split': 18, 'min_samples_leaf': 5, 'max_leaf_nodes': 64}. Best is trial 27 with value: 0.7493209700427961.\n",
      "[I 2024-02-09 13:18:40,738] Trial 87 finished with value: 0.7424656613001834 and parameters: {'n_estimators': 786, 'max_depth': 70, 'min_samples_split': 7, 'min_samples_leaf': 8, 'max_leaf_nodes': 64}. Best is trial 27 with value: 0.7493209700427961.\n",
      "[I 2024-02-09 13:19:42,583] Trial 88 finished with value: 0.74246484613817 and parameters: {'n_estimators': 931, 'max_depth': 51, 'min_samples_split': 7, 'min_samples_leaf': 7, 'max_leaf_nodes': 64}. Best is trial 27 with value: 0.7493209700427961.\n",
      "[I 2024-02-09 13:20:38,620] Trial 89 finished with value: 0.7450356633380885 and parameters: {'n_estimators': 776, 'max_depth': 48, 'min_samples_split': 7, 'min_samples_leaf': 8, 'max_leaf_nodes': 64}. Best is trial 27 with value: 0.7493209700427961.\n",
      "[I 2024-02-09 13:21:55,305] Trial 90 finished with value: 0.742180965966986 and parameters: {'n_estimators': 927, 'max_depth': 52, 'min_samples_split': 18, 'min_samples_leaf': 8, 'max_leaf_nodes': 64}. Best is trial 27 with value: 0.7493209700427961.\n",
      "[I 2024-02-09 13:23:04,871] Trial 91 finished with value: 0.7470360709190953 and parameters: {'n_estimators': 930, 'max_depth': 50, 'min_samples_split': 17, 'min_samples_leaf': 8, 'max_leaf_nodes': 65}. Best is trial 27 with value: 0.7493209700427961.\n",
      "[I 2024-02-09 13:24:25,408] Trial 92 finished with value: 0.7430366822906053 and parameters: {'n_estimators': 923, 'max_depth': 50, 'min_samples_split': 18, 'min_samples_leaf': 8, 'max_leaf_nodes': 64}. Best is trial 27 with value: 0.7493209700427961.\n",
      "[I 2024-02-09 13:25:25,077] Trial 93 finished with value: 0.7427507642143876 and parameters: {'n_estimators': 922, 'max_depth': 66, 'min_samples_split': 17, 'min_samples_leaf': 8, 'max_leaf_nodes': 64}. Best is trial 27 with value: 0.7493209700427961.\n",
      "[I 2024-02-09 13:26:28,994] Trial 94 finished with value: 0.7411799470144691 and parameters: {'n_estimators': 938, 'max_depth': 48, 'min_samples_split': 19, 'min_samples_leaf': 8, 'max_leaf_nodes': 64}. Best is trial 27 with value: 0.7493209700427961.\n",
      "[I 2024-02-09 13:27:39,525] Trial 95 finished with value: 0.7406083146525372 and parameters: {'n_estimators': 927, 'max_depth': 49, 'min_samples_split': 5, 'min_samples_leaf': 8, 'max_leaf_nodes': 64}. Best is trial 27 with value: 0.7493209700427961.\n",
      "[I 2024-02-09 13:28:52,274] Trial 96 finished with value: 0.7414650499286732 and parameters: {'n_estimators': 935, 'max_depth': 66, 'min_samples_split': 19, 'min_samples_leaf': 9, 'max_leaf_nodes': 64}. Best is trial 27 with value: 0.7493209700427961.\n",
      "[I 2024-02-09 13:30:10,445] Trial 97 finished with value: 0.742037089871612 and parameters: {'n_estimators': 923, 'max_depth': 66, 'min_samples_split': 19, 'min_samples_leaf': 8, 'max_leaf_nodes': 64}. Best is trial 27 with value: 0.7493209700427961.\n",
      "[I 2024-02-09 13:31:03,364] Trial 98 finished with value: 0.7436083146525372 and parameters: {'n_estimators': 929, 'max_depth': 66, 'min_samples_split': 6, 'min_samples_leaf': 8, 'max_leaf_nodes': 64}. Best is trial 27 with value: 0.7493209700427961.\n",
      "[I 2024-02-09 13:31:38,240] Trial 99 finished with value: 0.7473205624617892 and parameters: {'n_estimators': 921, 'max_depth': 66, 'min_samples_split': 5, 'min_samples_leaf': 3, 'max_leaf_nodes': 70}. Best is trial 27 with value: 0.7493209700427961.\n"
     ]
    },
    {
     "name": "stdout",
     "output_type": "stream",
     "text": [
      "FrozenTrial(number=27, state=1, values=[0.7493209700427961], datetime_start=datetime.datetime(2024, 2, 9, 12, 16, 20, 740841), datetime_complete=datetime.datetime(2024, 2, 9, 12, 24, 58, 322299), params={'n_estimators': 999, 'max_depth': 69, 'min_samples_split': 28, 'min_samples_leaf': 4, 'max_leaf_nodes': 70}, user_attrs={}, system_attrs={}, intermediate_values={}, distributions={'n_estimators': IntDistribution(high=1000, log=False, low=100, step=1), 'max_depth': IntDistribution(high=70, log=False, low=2, step=1), 'min_samples_split': IntDistribution(high=40, log=False, low=2, step=1), 'min_samples_leaf': IntDistribution(high=20, log=False, low=1, step=1), 'max_leaf_nodes': IntDistribution(high=70, log=False, low=3, step=1)}, trial_id=27, value=None)\n"
     ]
    }
   ],
   "source": [
    "random_forest_pca_result = optimize_hyperparameters('random_forest', X_pca_train, y_train, n_trials=100)\n",
    "print(random_forest_pca_result)"
   ]
  },
  {
   "cell_type": "code",
   "execution_count": 24,
   "metadata": {},
   "outputs": [
    {
     "data": {
      "text/plain": [
       "{'n_estimators': 999,\n",
       " 'max_depth': 69,\n",
       " 'min_samples_split': 28,\n",
       " 'min_samples_leaf': 4,\n",
       " 'max_leaf_nodes': 70}"
      ]
     },
     "execution_count": 24,
     "metadata": {},
     "output_type": "execute_result"
    }
   ],
   "source": [
    "random_forest_pca_result.params"
   ]
  },
  {
   "cell_type": "code",
   "execution_count": 25,
   "metadata": {},
   "outputs": [
    {
     "data": {
      "text/plain": [
       "0.7493209700427961"
      ]
     },
     "execution_count": 25,
     "metadata": {},
     "output_type": "execute_result"
    }
   ],
   "source": [
    "random_forest_pca_result.value"
   ]
  },
  {
   "cell_type": "code",
   "execution_count": 26,
   "metadata": {},
   "outputs": [
    {
     "data": {
      "text/plain": [
       "0.7498572244431754"
      ]
     },
     "execution_count": 26,
     "metadata": {},
     "output_type": "execute_result"
    }
   ],
   "source": [
    "best_random_forest_model_pca = RandomForestClassifier(**random_forest_pca_result.params)\n",
    "best_random_forest_model_pca.fit(X_pca_train, y_train)\n",
    "best_random_forest_model_pca.score(X_pca_test, y_test)"
   ]
  },
  {
   "cell_type": "markdown",
   "metadata": {},
   "source": [
    "### SVM"
   ]
  },
  {
   "cell_type": "markdown",
   "metadata": {},
   "source": [
    "#### PCA"
   ]
  },
  {
   "cell_type": "code",
   "execution_count": 11,
   "metadata": {},
   "outputs": [
    {
     "name": "stderr",
     "output_type": "stream",
     "text": [
      "[I 2024-02-09 15:07:11,684] A new study created in memory with name: no-name-8fd5a88c-529a-497c-a20c-20c9b6cb92cb\n",
      "[I 2024-02-09 15:08:08,548] Trial 3 finished with value: 0.7686011819849196 and parameters: {'C': 36.084379418599504, 'kernel': 'poly', 'gamma': 0.6591272530484011, 'degree': 5}. Best is trial 3 with value: 0.7686011819849196.\n",
      "[I 2024-02-09 15:08:36,466] Trial 4 finished with value: 0.7837446504992868 and parameters: {'C': 33.23813368092139, 'kernel': 'poly', 'gamma': 0.6083022151021312, 'degree': 4}. Best is trial 4 with value: 0.7837446504992868.\n",
      "[I 2024-02-09 15:08:52,413] Trial 0 finished with value: 0.7598897493376808 and parameters: {'C': 84.26105309575149, 'kernel': 'poly', 'gamma': 0.4639450237397912, 'degree': 6}. Best is trial 4 with value: 0.7837446504992868.\n",
      "[I 2024-02-09 15:08:55,833] Trial 2 finished with value: 0.7781746484613817 and parameters: {'C': 45.83390517638546, 'kernel': 'poly', 'gamma': 0.6218791614764817, 'degree': 2}. Best is trial 4 with value: 0.7837446504992868.\n",
      "[I 2024-02-09 15:08:56,136] Trial 1 finished with value: 0.7406062767475035 and parameters: {'C': 98.58987293681447, 'kernel': 'poly', 'gamma': 0.049505005755639465, 'degree': 7}. Best is trial 4 with value: 0.7837446504992868.\n"
     ]
    },
    {
     "name": "stdout",
     "output_type": "stream",
     "text": [
      "FrozenTrial(number=4, state=1, values=[0.7837446504992868], datetime_start=datetime.datetime(2024, 2, 9, 15, 7, 11, 691293), datetime_complete=datetime.datetime(2024, 2, 9, 15, 8, 36, 465758), params={'C': 33.23813368092139, 'kernel': 'poly', 'gamma': 0.6083022151021312, 'degree': 4}, user_attrs={}, system_attrs={}, intermediate_values={}, distributions={'C': FloatDistribution(high=100.0, log=False, low=0.05, step=None), 'kernel': CategoricalDistribution(choices=('poly',)), 'gamma': FloatDistribution(high=1.0, log=False, low=1e-05, step=None), 'degree': IntDistribution(high=9, log=False, low=2, step=1)}, trial_id=4, value=None)\n"
     ]
    }
   ],
   "source": [
    "svm_pca_result = optimize_hyperparameters('svm', X_pca_train, y_train, n_trials=5)\n",
    "print(svm_pca_result)"
   ]
  },
  {
   "cell_type": "code",
   "execution_count": 12,
   "metadata": {},
   "outputs": [
    {
     "data": {
      "text/plain": [
       "{'C': 33.23813368092139,\n",
       " 'kernel': 'poly',\n",
       " 'gamma': 0.6083022151021312,\n",
       " 'degree': 4}"
      ]
     },
     "execution_count": 12,
     "metadata": {},
     "output_type": "execute_result"
    }
   ],
   "source": [
    "svm_pca_result.params"
   ]
  },
  {
   "cell_type": "code",
   "execution_count": 13,
   "metadata": {},
   "outputs": [
    {
     "data": {
      "text/plain": [
       "0.7837446504992868"
      ]
     },
     "execution_count": 13,
     "metadata": {},
     "output_type": "execute_result"
    }
   ],
   "source": [
    "svm_pca_result.value"
   ]
  },
  {
   "cell_type": "code",
   "execution_count": 14,
   "metadata": {},
   "outputs": [
    {
     "data": {
      "text/plain": [
       "0.7829811536264991"
      ]
     },
     "execution_count": 14,
     "metadata": {},
     "output_type": "execute_result"
    }
   ],
   "source": [
    "best_svm_model_pca = SVC(**svm_pca_result.params)\n",
    "best_svm_model_pca.fit(X_pca_train, y_train)\n",
    "best_svm_model_pca.score(X_pca_test, y_test)"
   ]
  },
  {
   "cell_type": "markdown",
   "metadata": {},
   "source": [
    "### XGBoost"
   ]
  },
  {
   "cell_type": "markdown",
   "metadata": {},
   "source": [
    "#### PCA"
   ]
  },
  {
   "cell_type": "code",
   "execution_count": 10,
   "metadata": {},
   "outputs": [
    {
     "name": "stderr",
     "output_type": "stream",
     "text": [
      "[I 2024-02-09 14:22:53,555] A new study created in memory with name: no-name-ff4d9888-8d4c-48dc-a386-a29bc680efcf\n",
      "[I 2024-02-09 14:29:26,777] Trial 9 finished with value: 0.7824597513755859 and parameters: {'max_depth': 4, 'n_estimators': 65, 'learning_rate': 0.11812279501597404, 'subsample': 0.991822868657387, 'reg_alpha': 4.043002098734048, 'reg_lambda': 1.57540621126677}. Best is trial 9 with value: 0.7824597513755859.\n",
      "[I 2024-02-09 14:29:58,522] Trial 4 finished with value: 0.8577356837171388 and parameters: {'max_depth': 11, 'n_estimators': 297, 'learning_rate': 0.03592779458529359, 'subsample': 0.6450975972693054, 'reg_alpha': 2.8271777655447785, 'reg_lambda': 1.5045737338535865}. Best is trial 4 with value: 0.8577356837171388.\n",
      "[I 2024-02-09 14:30:18,364] Trial 7 finished with value: 0.8181699612798043 and parameters: {'max_depth': 7, 'n_estimators': 154, 'learning_rate': 0.03472856745129127, 'subsample': 0.7457577517306404, 'reg_alpha': 2.9293234308457827, 'reg_lambda': 1.3370197523871952}. Best is trial 4 with value: 0.8577356837171388.\n",
      "[I 2024-02-09 14:33:12,496] Trial 6 finished with value: 0.8317381292031791 and parameters: {'max_depth': 3, 'n_estimators': 199, 'learning_rate': 0.1357758901389973, 'subsample': 0.7491953138759554, 'reg_alpha': 2.232942426470082, 'reg_lambda': 4.700533691864159}. Best is trial 4 with value: 0.8577356837171388.\n",
      "[I 2024-02-09 14:33:14,497] Trial 2 finished with value: 0.8585942531078052 and parameters: {'max_depth': 10, 'n_estimators': 202, 'learning_rate': 0.13350275796619904, 'subsample': 0.777214981227204, 'reg_alpha': 1.3481572962584272, 'reg_lambda': 4.108184341245524}. Best is trial 2 with value: 0.8585942531078052.\n",
      "[I 2024-02-09 14:34:54,180] Trial 8 finished with value: 0.6503376808640717 and parameters: {'max_depth': 3, 'n_estimators': 130, 'learning_rate': 0.013330711048677186, 'subsample': 0.9472636496021679, 'reg_alpha': 3.0720867638514973, 'reg_lambda': 0.18866202955042655}. Best is trial 2 with value: 0.8585942531078052.\n",
      "[I 2024-02-09 14:36:26,247] Trial 1 finished with value: 0.8444522111269614 and parameters: {'max_depth': 9, 'n_estimators': 117, 'learning_rate': 0.10201596458132693, 'subsample': 0.8459372011939637, 'reg_alpha': 3.4669495891678603, 'reg_lambda': 0.4779544240800515}. Best is trial 2 with value: 0.8585942531078052.\n",
      "[I 2024-02-09 14:36:30,411] Trial 0 finished with value: 0.8225977175463622 and parameters: {'max_depth': 10, 'n_estimators': 132, 'learning_rate': 0.03161621311750667, 'subsample': 0.7588498650435507, 'reg_alpha': 3.7999751562056927, 'reg_lambda': 4.969916897159883}. Best is trial 2 with value: 0.8585942531078052.\n",
      "[I 2024-02-09 14:36:50,146] Trial 3 finished with value: 0.8425942531078052 and parameters: {'max_depth': 12, 'n_estimators': 71, 'learning_rate': 0.15354759862202103, 'subsample': 0.8046490909959153, 'reg_alpha': 0.05624998762174538, 'reg_lambda': 2.743219521840733}. Best is trial 2 with value: 0.8585942531078052.\n",
      "[I 2024-02-09 14:37:03,128] Trial 5 finished with value: 0.8080271041369471 and parameters: {'max_depth': 12, 'n_estimators': 93, 'learning_rate': 0.022365723729909193, 'subsample': 0.6087024458646277, 'reg_alpha': 0.18591916879772852, 'reg_lambda': 1.0372222101338884}. Best is trial 2 with value: 0.8585942531078052.\n"
     ]
    },
    {
     "name": "stdout",
     "output_type": "stream",
     "text": [
      "FrozenTrial(number=2, state=1, values=[0.8585942531078052], datetime_start=datetime.datetime(2024, 2, 9, 14, 22, 53, 559619), datetime_complete=datetime.datetime(2024, 2, 9, 14, 33, 14, 496996), params={'max_depth': 10, 'n_estimators': 202, 'learning_rate': 0.13350275796619904, 'subsample': 0.777214981227204, 'reg_alpha': 1.3481572962584272, 'reg_lambda': 4.108184341245524}, user_attrs={}, system_attrs={}, intermediate_values={}, distributions={'max_depth': IntDistribution(high=12, log=False, low=3, step=1), 'n_estimators': IntDistribution(high=300, log=False, low=50, step=1), 'learning_rate': FloatDistribution(high=0.2, log=False, low=0.01, step=None), 'subsample': FloatDistribution(high=1.0, log=False, low=0.5, step=None), 'reg_alpha': FloatDistribution(high=5.0, log=False, low=0.0, step=None), 'reg_lambda': FloatDistribution(high=5.0, log=False, low=0.0, step=None)}, trial_id=2, value=None)\n"
     ]
    }
   ],
   "source": [
    "xgboost_pca_result = optimize_hyperparameters('xgboost', X_pca_train, y_train, n_trials=10)\n",
    "print(xgboost_pca_result)"
   ]
  },
  {
   "cell_type": "code",
   "execution_count": 11,
   "metadata": {},
   "outputs": [
    {
     "data": {
      "text/plain": [
       "{'max_depth': 10,\n",
       " 'n_estimators': 202,\n",
       " 'learning_rate': 0.13350275796619904,\n",
       " 'subsample': 0.777214981227204,\n",
       " 'reg_alpha': 1.3481572962584272,\n",
       " 'reg_lambda': 4.108184341245524}"
      ]
     },
     "execution_count": 11,
     "metadata": {},
     "output_type": "execute_result"
    }
   ],
   "source": [
    "xgboost_pca_result.params"
   ]
  },
  {
   "cell_type": "code",
   "execution_count": 12,
   "metadata": {},
   "outputs": [
    {
     "data": {
      "text/plain": [
       "0.8585942531078052"
      ]
     },
     "execution_count": 12,
     "metadata": {},
     "output_type": "execute_result"
    }
   ],
   "source": [
    "xgboost_pca_result.value"
   ]
  },
  {
   "cell_type": "code",
   "execution_count": 13,
   "metadata": {},
   "outputs": [
    {
     "data": {
      "text/plain": [
       "0.8783552255853798"
      ]
     },
     "execution_count": 13,
     "metadata": {},
     "output_type": "execute_result"
    }
   ],
   "source": [
    "best_xgboost_model_pca = XGBClassifier(**xgboost_pca_result.params)\n",
    "best_xgboost_model_pca.fit(X_pca_train, y_train)\n",
    "best_xgboost_model_pca.score(X_pca_test, y_test)"
   ]
  }
 ],
 "metadata": {
  "kernelspec": {
   "display_name": ".env",
   "language": "python",
   "name": "python3"
  },
  "language_info": {
   "codemirror_mode": {
    "name": "ipython",
    "version": 3
   },
   "file_extension": ".py",
   "mimetype": "text/x-python",
   "name": "python",
   "nbconvert_exporter": "python",
   "pygments_lexer": "ipython3",
   "version": "3.11.7"
  }
 },
 "nbformat": 4,
 "nbformat_minor": 2
}
