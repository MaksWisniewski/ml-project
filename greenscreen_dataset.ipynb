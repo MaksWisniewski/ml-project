{
 "cells": [
  {
   "cell_type": "code",
   "execution_count": 1,
   "metadata": {},
   "outputs": [],
   "source": [
    "import numpy as np\n",
    "import matplotlib.pyplot as plt\n",
    "\n",
    "from sklearn.neighbors import KNeighborsClassifier\n",
    "from sklearn.tree import DecisionTreeClassifier\n",
    "from sklearn.ensemble import RandomForestClassifier\n",
    "from xgboost import XGBClassifier\n",
    "from sklearn.svm import SVC\n",
    "\n",
    "from sklearn.decomposition import PCA\n",
    "\n",
    "from utils.data import CLASS_NAMES, read_dataset\n",
    "from utils.image_preprocessing import preprocess_dataset\n",
    "from utils.hyperparameter_optimizer import optimize_hyperparameters\n",
    "\n",
    "%matplotlib inline\n",
    "plt.rcParams['figure.figsize'] = [10, 5]"
   ]
  },
  {
   "cell_type": "markdown",
   "metadata": {},
   "source": [
    "# Loading data"
   ]
  },
  {
   "cell_type": "code",
   "execution_count": null,
   "metadata": {},
   "outputs": [],
   "source": [
    "X, y = read_dataset('./data/rockpaperscissors/')\n",
    "X = preprocess_dataset(X, image_shape=(300,200))"
   ]
  },
  {
   "cell_type": "code",
   "execution_count": 3,
   "metadata": {},
   "outputs": [
    {
     "data": {
      "text/plain": [
       "(2188, 60000)"
      ]
     },
     "execution_count": 3,
     "metadata": {},
     "output_type": "execute_result"
    }
   ],
   "source": [
    "X.shape"
   ]
  },
  {
   "cell_type": "code",
   "execution_count": 4,
   "metadata": {},
   "outputs": [],
   "source": [
    "TRAIN_SIZE = int(0.8 * y.shape[0])\n",
    "X_train, y_train = X[:TRAIN_SIZE], y[:TRAIN_SIZE]\n",
    "X_test, y_test = X[TRAIN_SIZE:], y[TRAIN_SIZE:]"
   ]
  },
  {
   "cell_type": "code",
   "execution_count": 5,
   "metadata": {},
   "outputs": [
    {
     "data": {
      "text/plain": [
       "(1750, 60000)"
      ]
     },
     "execution_count": 5,
     "metadata": {},
     "output_type": "execute_result"
    }
   ],
   "source": [
    "X_train.shape"
   ]
  },
  {
   "cell_type": "markdown",
   "metadata": {},
   "source": [
    "# Training models"
   ]
  },
  {
   "cell_type": "markdown",
   "metadata": {},
   "source": [
    "## Hyperparameter tuning"
   ]
  },
  {
   "cell_type": "markdown",
   "metadata": {},
   "source": [
    "For each model we select hyperparameters that maximize mean accuracy measured by cross-validation on training set."
   ]
  },
  {
   "cell_type": "markdown",
   "metadata": {},
   "source": [
    "### KNN"
   ]
  },
  {
   "cell_type": "code",
   "execution_count": 6,
   "metadata": {},
   "outputs": [
    {
     "name": "stderr",
     "output_type": "stream",
     "text": [
      "[I 2024-02-08 14:51:50,003] A new study created in memory with name: no-name-1d46a280-12d2-43b1-a833-a5e7ce043fcc\n",
      "[I 2024-02-08 14:51:57,439] Trial 1 finished with value: 0.8428571428571427 and parameters: {'n_neighbors': 31}. Best is trial 1 with value: 0.8428571428571427.\n",
      "[I 2024-02-08 14:51:57,472] Trial 3 finished with value: 0.8320000000000001 and parameters: {'n_neighbors': 39}. Best is trial 1 with value: 0.8428571428571427.\n",
      "[I 2024-02-08 14:52:04,981] Trial 5 finished with value: 0.8537142857142858 and parameters: {'n_neighbors': 25}. Best is trial 5 with value: 0.8537142857142858.\n",
      "[I 2024-02-08 14:52:06,590] Trial 10 finished with value: 0.8337142857142856 and parameters: {'n_neighbors': 37}. Best is trial 5 with value: 0.8537142857142858.\n",
      "[I 2024-02-08 14:52:08,419] Trial 9 finished with value: 0.8245714285714285 and parameters: {'n_neighbors': 42}. Best is trial 5 with value: 0.8537142857142858.\n",
      "[I 2024-02-08 14:52:09,446] Trial 7 finished with value: 0.8862857142857143 and parameters: {'n_neighbors': 11}. Best is trial 7 with value: 0.8862857142857143.\n",
      "[I 2024-02-08 14:52:10,683] Trial 8 finished with value: 0.8320000000000001 and parameters: {'n_neighbors': 40}. Best is trial 7 with value: 0.8862857142857143.\n",
      "[I 2024-02-08 14:52:11,643] Trial 2 finished with value: 0.8337142857142859 and parameters: {'n_neighbors': 38}. Best is trial 7 with value: 0.8862857142857143.\n",
      "[I 2024-02-08 14:52:11,675] Trial 4 finished with value: 0.8320000000000001 and parameters: {'n_neighbors': 40}. Best is trial 7 with value: 0.8862857142857143.\n",
      "[I 2024-02-08 14:52:14,489] Trial 11 finished with value: 0.8765714285714286 and parameters: {'n_neighbors': 14}. Best is trial 7 with value: 0.8862857142857143.\n",
      "[I 2024-02-08 14:52:16,699] Trial 0 finished with value: 0.8274285714285714 and parameters: {'n_neighbors': 45}. Best is trial 7 with value: 0.8862857142857143.\n",
      "[I 2024-02-08 14:52:17,209] Trial 6 finished with value: 0.8497142857142856 and parameters: {'n_neighbors': 28}. Best is trial 7 with value: 0.8862857142857143.\n",
      "[I 2024-02-08 14:52:19,388] Trial 12 finished with value: 0.9051428571428571 and parameters: {'n_neighbors': 5}. Best is trial 12 with value: 0.9051428571428571.\n",
      "[I 2024-02-08 14:52:21,694] Trial 13 finished with value: 0.8268571428571428 and parameters: {'n_neighbors': 41}. Best is trial 12 with value: 0.9051428571428571.\n",
      "[I 2024-02-08 14:52:23,950] Trial 14 finished with value: 0.8582857142857143 and parameters: {'n_neighbors': 23}. Best is trial 12 with value: 0.9051428571428571.\n",
      "[I 2024-02-08 14:52:25,610] Trial 15 finished with value: 0.8885714285714286 and parameters: {'n_neighbors': 4}. Best is trial 12 with value: 0.9051428571428571.\n",
      "[I 2024-02-08 14:52:28,059] Trial 16 finished with value: 0.8725714285714286 and parameters: {'n_neighbors': 17}. Best is trial 12 with value: 0.9051428571428571.\n",
      "[I 2024-02-08 14:52:29,781] Trial 17 finished with value: 0.8365714285714286 and parameters: {'n_neighbors': 35}. Best is trial 12 with value: 0.9051428571428571.\n",
      "[I 2024-02-08 14:52:31,731] Trial 18 finished with value: 0.8268571428571428 and parameters: {'n_neighbors': 41}. Best is trial 12 with value: 0.9051428571428571.\n",
      "[I 2024-02-08 14:52:33,625] Trial 19 finished with value: 0.8245714285714285 and parameters: {'n_neighbors': 47}. Best is trial 12 with value: 0.9051428571428571.\n",
      "[I 2024-02-08 14:52:35,719] Trial 20 finished with value: 0.8211428571428572 and parameters: {'n_neighbors': 49}. Best is trial 12 with value: 0.9051428571428571.\n",
      "[I 2024-02-08 14:52:37,878] Trial 21 finished with value: 0.8885714285714286 and parameters: {'n_neighbors': 4}. Best is trial 12 with value: 0.9051428571428571.\n",
      "[I 2024-02-08 14:52:39,517] Trial 22 finished with value: 0.8885714285714286 and parameters: {'n_neighbors': 10}. Best is trial 12 with value: 0.9051428571428571.\n",
      "[I 2024-02-08 14:52:41,626] Trial 23 finished with value: 0.8885714285714286 and parameters: {'n_neighbors': 10}. Best is trial 12 with value: 0.9051428571428571.\n",
      "[I 2024-02-08 14:52:43,792] Trial 24 finished with value: 0.9074285714285715 and parameters: {'n_neighbors': 3}. Best is trial 24 with value: 0.9074285714285715.\n",
      "[I 2024-02-08 14:52:46,040] Trial 25 finished with value: 0.9074285714285715 and parameters: {'n_neighbors': 3}. Best is trial 24 with value: 0.9074285714285715.\n",
      "[I 2024-02-08 14:52:47,897] Trial 26 finished with value: 0.9074285714285715 and parameters: {'n_neighbors': 3}. Best is trial 24 with value: 0.9074285714285715.\n",
      "[I 2024-02-08 14:52:49,645] Trial 27 finished with value: 0.9074285714285715 and parameters: {'n_neighbors': 3}. Best is trial 24 with value: 0.9074285714285715.\n",
      "[I 2024-02-08 14:52:51,749] Trial 28 finished with value: 0.9074285714285715 and parameters: {'n_neighbors': 3}. Best is trial 24 with value: 0.9074285714285715.\n",
      "[I 2024-02-08 14:52:54,009] Trial 29 finished with value: 0.8942857142857144 and parameters: {'n_neighbors': 6}. Best is trial 24 with value: 0.9074285714285715.\n",
      "[I 2024-02-08 14:52:55,736] Trial 30 finished with value: 0.9074285714285715 and parameters: {'n_neighbors': 3}. Best is trial 24 with value: 0.9074285714285715.\n",
      "[I 2024-02-08 14:52:57,830] Trial 31 finished with value: 0.9074285714285715 and parameters: {'n_neighbors': 3}. Best is trial 24 with value: 0.9074285714285715.\n",
      "[I 2024-02-08 14:53:00,350] Trial 32 finished with value: 0.8885714285714286 and parameters: {'n_neighbors': 4}. Best is trial 24 with value: 0.9074285714285715.\n",
      "[I 2024-02-08 14:53:02,497] Trial 33 finished with value: 0.9074285714285715 and parameters: {'n_neighbors': 3}. Best is trial 24 with value: 0.9074285714285715.\n",
      "[I 2024-02-08 14:53:04,208] Trial 34 finished with value: 0.9074285714285715 and parameters: {'n_neighbors': 3}. Best is trial 24 with value: 0.9074285714285715.\n",
      "[I 2024-02-08 14:53:06,324] Trial 35 finished with value: 0.9074285714285715 and parameters: {'n_neighbors': 3}. Best is trial 24 with value: 0.9074285714285715.\n",
      "[I 2024-02-08 14:53:08,635] Trial 36 finished with value: 0.8885714285714286 and parameters: {'n_neighbors': 4}. Best is trial 24 with value: 0.9074285714285715.\n",
      "[I 2024-02-08 14:53:10,766] Trial 37 finished with value: 0.8942857142857144 and parameters: {'n_neighbors': 6}. Best is trial 24 with value: 0.9074285714285715.\n",
      "[I 2024-02-08 14:53:12,727] Trial 38 finished with value: 0.8954285714285716 and parameters: {'n_neighbors': 7}. Best is trial 24 with value: 0.9074285714285715.\n",
      "[I 2024-02-08 14:53:14,810] Trial 39 finished with value: 0.8685714285714285 and parameters: {'n_neighbors': 18}. Best is trial 24 with value: 0.9074285714285715.\n",
      "[I 2024-02-08 14:53:17,188] Trial 40 finished with value: 0.8708571428571428 and parameters: {'n_neighbors': 19}. Best is trial 24 with value: 0.9074285714285715.\n",
      "[I 2024-02-08 14:53:18,776] Trial 41 finished with value: 0.8708571428571428 and parameters: {'n_neighbors': 19}. Best is trial 24 with value: 0.9074285714285715.\n",
      "[I 2024-02-08 14:53:20,771] Trial 42 finished with value: 0.8897142857142857 and parameters: {'n_neighbors': 8}. Best is trial 24 with value: 0.9074285714285715.\n",
      "[I 2024-02-08 14:53:22,915] Trial 43 finished with value: 0.8897142857142857 and parameters: {'n_neighbors': 8}. Best is trial 24 with value: 0.9074285714285715.\n",
      "[I 2024-02-08 14:53:25,383] Trial 44 finished with value: 0.8897142857142857 and parameters: {'n_neighbors': 8}. Best is trial 24 with value: 0.9074285714285715.\n",
      "[I 2024-02-08 14:53:27,088] Trial 45 finished with value: 0.8954285714285716 and parameters: {'n_neighbors': 7}. Best is trial 24 with value: 0.9074285714285715.\n",
      "[I 2024-02-08 14:53:28,672] Trial 46 finished with value: 0.8897142857142857 and parameters: {'n_neighbors': 8}. Best is trial 24 with value: 0.9074285714285715.\n",
      "[I 2024-02-08 14:53:31,061] Trial 47 finished with value: 0.8897142857142857 and parameters: {'n_neighbors': 8}. Best is trial 24 with value: 0.9074285714285715.\n",
      "[I 2024-02-08 14:53:33,030] Trial 48 finished with value: 0.8897142857142857 and parameters: {'n_neighbors': 8}. Best is trial 24 with value: 0.9074285714285715.\n",
      "[I 2024-02-08 14:53:34,981] Trial 49 finished with value: 0.8897142857142857 and parameters: {'n_neighbors': 8}. Best is trial 24 with value: 0.9074285714285715.\n",
      "[I 2024-02-08 14:53:36,887] Trial 50 finished with value: 0.8674285714285714 and parameters: {'n_neighbors': 16}. Best is trial 24 with value: 0.9074285714285715.\n",
      "[I 2024-02-08 14:53:38,941] Trial 51 finished with value: 0.8914285714285717 and parameters: {'n_neighbors': 9}. Best is trial 24 with value: 0.9074285714285715.\n",
      "[I 2024-02-08 14:53:41,112] Trial 52 finished with value: 0.8897142857142857 and parameters: {'n_neighbors': 8}. Best is trial 24 with value: 0.9074285714285715.\n",
      "[I 2024-02-08 14:53:42,955] Trial 53 finished with value: 0.8897142857142857 and parameters: {'n_neighbors': 8}. Best is trial 24 with value: 0.9074285714285715.\n",
      "[I 2024-02-08 14:53:45,105] Trial 54 finished with value: 0.8914285714285717 and parameters: {'n_neighbors': 9}. Best is trial 24 with value: 0.9074285714285715.\n",
      "[I 2024-02-08 14:53:47,278] Trial 55 finished with value: 0.8811428571428571 and parameters: {'n_neighbors': 13}. Best is trial 24 with value: 0.9074285714285715.\n",
      "[I 2024-02-08 14:53:49,267] Trial 56 finished with value: 0.8811428571428571 and parameters: {'n_neighbors': 13}. Best is trial 24 with value: 0.9074285714285715.\n",
      "[I 2024-02-08 14:53:51,192] Trial 57 finished with value: 0.8765714285714286 and parameters: {'n_neighbors': 14}. Best is trial 24 with value: 0.9074285714285715.\n",
      "[I 2024-02-08 14:53:53,375] Trial 58 finished with value: 0.8771428571428572 and parameters: {'n_neighbors': 12}. Best is trial 24 with value: 0.9074285714285715.\n",
      "[I 2024-02-08 14:53:55,740] Trial 59 finished with value: 0.8811428571428571 and parameters: {'n_neighbors': 13}. Best is trial 24 with value: 0.9074285714285715.\n",
      "[I 2024-02-08 14:53:57,914] Trial 60 finished with value: 0.8765714285714286 and parameters: {'n_neighbors': 14}. Best is trial 24 with value: 0.9074285714285715.\n",
      "[I 2024-02-08 14:53:59,305] Trial 61 finished with value: 0.8811428571428571 and parameters: {'n_neighbors': 13}. Best is trial 24 with value: 0.9074285714285715.\n",
      "[I 2024-02-08 14:54:01,631] Trial 62 finished with value: 0.8771428571428572 and parameters: {'n_neighbors': 12}. Best is trial 24 with value: 0.9074285714285715.\n",
      "[I 2024-02-08 14:54:03,844] Trial 63 finished with value: 0.8811428571428571 and parameters: {'n_neighbors': 13}. Best is trial 24 with value: 0.9074285714285715.\n",
      "[I 2024-02-08 14:54:05,519] Trial 64 finished with value: 0.8771428571428572 and parameters: {'n_neighbors': 12}. Best is trial 24 with value: 0.9074285714285715.\n",
      "[I 2024-02-08 14:54:07,365] Trial 65 finished with value: 0.8811428571428571 and parameters: {'n_neighbors': 13}. Best is trial 24 with value: 0.9074285714285715.\n",
      "[I 2024-02-08 14:54:09,715] Trial 66 finished with value: 0.8771428571428572 and parameters: {'n_neighbors': 12}. Best is trial 24 with value: 0.9074285714285715.\n",
      "[I 2024-02-08 14:54:12,193] Trial 67 finished with value: 0.8771428571428572 and parameters: {'n_neighbors': 12}. Best is trial 24 with value: 0.9074285714285715.\n",
      "[I 2024-02-08 14:54:14,085] Trial 68 finished with value: 0.8862857142857143 and parameters: {'n_neighbors': 11}. Best is trial 24 with value: 0.9074285714285715.\n",
      "[I 2024-02-08 14:54:15,665] Trial 69 finished with value: 0.8462857142857143 and parameters: {'n_neighbors': 32}. Best is trial 24 with value: 0.9074285714285715.\n",
      "[I 2024-02-08 14:54:18,282] Trial 70 finished with value: 0.8497142857142856 and parameters: {'n_neighbors': 28}. Best is trial 24 with value: 0.9074285714285715.\n",
      "[I 2024-02-08 14:54:20,511] Trial 71 finished with value: 0.9051428571428571 and parameters: {'n_neighbors': 5}. Best is trial 24 with value: 0.9074285714285715.\n",
      "[I 2024-02-08 14:54:22,691] Trial 72 finished with value: 0.9051428571428571 and parameters: {'n_neighbors': 5}. Best is trial 24 with value: 0.9074285714285715.\n",
      "[I 2024-02-08 14:54:24,344] Trial 73 finished with value: 0.9051428571428571 and parameters: {'n_neighbors': 5}. Best is trial 24 with value: 0.9074285714285715.\n",
      "[I 2024-02-08 14:54:26,733] Trial 74 finished with value: 0.9051428571428571 and parameters: {'n_neighbors': 5}. Best is trial 24 with value: 0.9074285714285715.\n",
      "[I 2024-02-08 14:54:28,965] Trial 75 finished with value: 0.9051428571428571 and parameters: {'n_neighbors': 5}. Best is trial 24 with value: 0.9074285714285715.\n",
      "[I 2024-02-08 14:54:30,903] Trial 76 finished with value: 0.9051428571428571 and parameters: {'n_neighbors': 5}. Best is trial 24 with value: 0.9074285714285715.\n",
      "[I 2024-02-08 14:54:32,501] Trial 77 finished with value: 0.9074285714285715 and parameters: {'n_neighbors': 3}. Best is trial 24 with value: 0.9074285714285715.\n",
      "[I 2024-02-08 14:54:34,870] Trial 78 finished with value: 0.9051428571428571 and parameters: {'n_neighbors': 5}. Best is trial 24 with value: 0.9074285714285715.\n",
      "[I 2024-02-08 14:54:36,783] Trial 79 finished with value: 0.9051428571428571 and parameters: {'n_neighbors': 5}. Best is trial 24 with value: 0.9074285714285715.\n",
      "[I 2024-02-08 14:54:38,752] Trial 80 finished with value: 0.9051428571428571 and parameters: {'n_neighbors': 5}. Best is trial 24 with value: 0.9074285714285715.\n",
      "[I 2024-02-08 14:54:40,705] Trial 81 finished with value: 0.9051428571428571 and parameters: {'n_neighbors': 5}. Best is trial 24 with value: 0.9074285714285715.\n",
      "[I 2024-02-08 14:54:42,764] Trial 82 finished with value: 0.9051428571428571 and parameters: {'n_neighbors': 5}. Best is trial 24 with value: 0.9074285714285715.\n",
      "[I 2024-02-08 14:54:44,607] Trial 83 finished with value: 0.9074285714285715 and parameters: {'n_neighbors': 3}. Best is trial 24 with value: 0.9074285714285715.\n",
      "[I 2024-02-08 14:54:46,634] Trial 84 finished with value: 0.9074285714285715 and parameters: {'n_neighbors': 3}. Best is trial 24 with value: 0.9074285714285715.\n",
      "[I 2024-02-08 14:54:48,570] Trial 85 finished with value: 0.9074285714285715 and parameters: {'n_neighbors': 3}. Best is trial 24 with value: 0.9074285714285715.\n",
      "[I 2024-02-08 14:54:50,690] Trial 86 finished with value: 0.9074285714285715 and parameters: {'n_neighbors': 3}. Best is trial 24 with value: 0.9074285714285715.\n",
      "[I 2024-02-08 14:54:52,411] Trial 87 finished with value: 0.9074285714285715 and parameters: {'n_neighbors': 3}. Best is trial 24 with value: 0.9074285714285715.\n",
      "[I 2024-02-08 14:54:54,379] Trial 88 finished with value: 0.9074285714285715 and parameters: {'n_neighbors': 3}. Best is trial 24 with value: 0.9074285714285715.\n",
      "[I 2024-02-08 14:54:56,764] Trial 89 finished with value: 0.9074285714285715 and parameters: {'n_neighbors': 3}. Best is trial 24 with value: 0.9074285714285715.\n",
      "[I 2024-02-08 14:54:58,568] Trial 90 finished with value: 0.9074285714285715 and parameters: {'n_neighbors': 3}. Best is trial 24 with value: 0.9074285714285715.\n",
      "[I 2024-02-08 14:55:00,413] Trial 91 finished with value: 0.9074285714285715 and parameters: {'n_neighbors': 3}. Best is trial 24 with value: 0.9074285714285715.\n",
      "[I 2024-02-08 14:55:02,181] Trial 92 finished with value: 0.9074285714285715 and parameters: {'n_neighbors': 3}. Best is trial 24 with value: 0.9074285714285715.\n",
      "[I 2024-02-08 14:55:04,385] Trial 93 finished with value: 0.9074285714285715 and parameters: {'n_neighbors': 3}. Best is trial 24 with value: 0.9074285714285715.\n",
      "[I 2024-02-08 14:55:06,370] Trial 94 finished with value: 0.8885714285714286 and parameters: {'n_neighbors': 4}. Best is trial 24 with value: 0.9074285714285715.\n",
      "[I 2024-02-08 14:55:08,343] Trial 95 finished with value: 0.9074285714285715 and parameters: {'n_neighbors': 3}. Best is trial 24 with value: 0.9074285714285715.\n",
      "[I 2024-02-08 14:55:10,369] Trial 96 finished with value: 0.9074285714285715 and parameters: {'n_neighbors': 3}. Best is trial 24 with value: 0.9074285714285715.\n",
      "[I 2024-02-08 14:55:12,420] Trial 97 finished with value: 0.8954285714285716 and parameters: {'n_neighbors': 7}. Best is trial 24 with value: 0.9074285714285715.\n",
      "[I 2024-02-08 14:55:14,102] Trial 98 finished with value: 0.8954285714285716 and parameters: {'n_neighbors': 7}. Best is trial 24 with value: 0.9074285714285715.\n",
      "[I 2024-02-08 14:55:15,364] Trial 99 finished with value: 0.8611428571428572 and parameters: {'n_neighbors': 22}. Best is trial 24 with value: 0.9074285714285715.\n"
     ]
    },
    {
     "name": "stdout",
     "output_type": "stream",
     "text": [
      "FrozenTrial(number=24, state=1, values=[0.9074285714285715], datetime_start=datetime.datetime(2024, 2, 8, 14, 52, 19, 396659), datetime_complete=datetime.datetime(2024, 2, 8, 14, 52, 43, 792595), params={'n_neighbors': 3}, user_attrs={}, system_attrs={}, intermediate_values={}, distributions={'n_neighbors': IntDistribution(high=49, log=False, low=3, step=1)}, trial_id=24, value=None)\n"
     ]
    }
   ],
   "source": [
    "knn_result = optimize_hyperparameters('knn', X_train, y_train, n_trials=100)\n",
    "print(knn_result)"
   ]
  },
  {
   "cell_type": "code",
   "execution_count": 7,
   "metadata": {},
   "outputs": [
    {
     "data": {
      "text/plain": [
       "{'n_neighbors': 3}"
      ]
     },
     "execution_count": 7,
     "metadata": {},
     "output_type": "execute_result"
    }
   ],
   "source": [
    "knn_result.params"
   ]
  },
  {
   "cell_type": "code",
   "execution_count": 8,
   "metadata": {},
   "outputs": [
    {
     "data": {
      "text/plain": [
       "0.9074285714285715"
      ]
     },
     "execution_count": 8,
     "metadata": {},
     "output_type": "execute_result"
    }
   ],
   "source": [
    "knn_result.value"
   ]
  },
  {
   "cell_type": "code",
   "execution_count": 9,
   "metadata": {},
   "outputs": [
    {
     "data": {
      "text/plain": [
       "0.9178082191780822"
      ]
     },
     "execution_count": 9,
     "metadata": {},
     "output_type": "execute_result"
    }
   ],
   "source": [
    "best_knn_model = KNeighborsClassifier(n_jobs=-1, **knn_result.params)\n",
    "best_knn_model.fit(X_train, y_train)\n",
    "best_knn_model.score(X_test, y_test)"
   ]
  },
  {
   "cell_type": "markdown",
   "metadata": {},
   "source": [
    "### Decision Tree"
   ]
  },
  {
   "cell_type": "markdown",
   "metadata": {},
   "source": [
    "### Random Forest"
   ]
  },
  {
   "cell_type": "markdown",
   "metadata": {},
   "source": [
    "### SVM"
   ]
  },
  {
   "cell_type": "markdown",
   "metadata": {},
   "source": [
    "### XGBoost"
   ]
  }
 ],
 "metadata": {
  "kernelspec": {
   "display_name": ".env",
   "language": "python",
   "name": "python3"
  },
  "language_info": {
   "codemirror_mode": {
    "name": "ipython",
    "version": 3
   },
   "file_extension": ".py",
   "mimetype": "text/x-python",
   "name": "python",
   "nbconvert_exporter": "python",
   "pygments_lexer": "ipython3",
   "version": "3.11.7"
  }
 },
 "nbformat": 4,
 "nbformat_minor": 2
}
