{
 "cells": [
  {
   "cell_type": "code",
   "execution_count": 1,
   "metadata": {},
   "outputs": [],
   "source": [
    "from sklearn.neighbors import KNeighborsClassifier\n",
    "from sklearn.tree import DecisionTreeClassifier\n",
    "from sklearn.ensemble import RandomForestClassifier\n",
    "from xgboost import XGBClassifier\n",
    "from sklearn.svm import SVC\n",
    "\n",
    "from sklearn.decomposition import PCA\n",
    "\n",
    "from utils.data import read_dataset\n",
    "from utils.image_preprocessing import preprocess_dataset\n",
    "from utils.hyperparameter_optimizer import optimize_hyperparameters"
   ]
  },
  {
   "cell_type": "markdown",
   "metadata": {},
   "source": [
    "# Loading data"
   ]
  },
  {
   "cell_type": "code",
   "execution_count": null,
   "metadata": {},
   "outputs": [],
   "source": [
    "X_raw, y = read_dataset('./data/rockpaperscissors/')\n",
    "X = preprocess_dataset(X_raw, image_shape=(300,200))"
   ]
  },
  {
   "cell_type": "code",
   "execution_count": 3,
   "metadata": {},
   "outputs": [
    {
     "data": {
      "text/plain": [
       "(2188, 60000)"
      ]
     },
     "execution_count": 3,
     "metadata": {},
     "output_type": "execute_result"
    }
   ],
   "source": [
    "X.shape"
   ]
  },
  {
   "cell_type": "code",
   "execution_count": 4,
   "metadata": {},
   "outputs": [],
   "source": [
    "TRAIN_SIZE = int(0.8 * y.shape[0])\n",
    "X_train, y_train = X[:TRAIN_SIZE], y[:TRAIN_SIZE]\n",
    "X_test, y_test = X[TRAIN_SIZE:], y[TRAIN_SIZE:]"
   ]
  },
  {
   "cell_type": "code",
   "execution_count": 5,
   "metadata": {},
   "outputs": [
    {
     "data": {
      "text/plain": [
       "(1750, 60000)"
      ]
     },
     "execution_count": 5,
     "metadata": {},
     "output_type": "execute_result"
    }
   ],
   "source": [
    "X_train.shape"
   ]
  },
  {
   "cell_type": "markdown",
   "metadata": {},
   "source": [
    "### Scaled images"
   ]
  },
  {
   "cell_type": "code",
   "execution_count": 6,
   "metadata": {},
   "outputs": [],
   "source": [
    "X_scaled = preprocess_dataset(X_raw, image_shape=(150, 100))\n",
    "X_scaled_train, X_scaled_test = X_scaled[:TRAIN_SIZE], X_scaled[TRAIN_SIZE:]"
   ]
  },
  {
   "cell_type": "code",
   "execution_count": 7,
   "metadata": {},
   "outputs": [
    {
     "data": {
      "text/plain": [
       "(2188, 15000)"
      ]
     },
     "execution_count": 7,
     "metadata": {},
     "output_type": "execute_result"
    }
   ],
   "source": [
    "X_scaled.shape"
   ]
  },
  {
   "cell_type": "markdown",
   "metadata": {},
   "source": [
    "### PCA"
   ]
  },
  {
   "cell_type": "code",
   "execution_count": 8,
   "metadata": {},
   "outputs": [],
   "source": [
    "pca_model = PCA(n_components=300)\n",
    "X_pca = pca_model.fit_transform(X)\n",
    "\n",
    "X_pca_train = X_pca[:TRAIN_SIZE]\n",
    "X_pca_test = X_pca[TRAIN_SIZE:]"
   ]
  },
  {
   "cell_type": "code",
   "execution_count": 9,
   "metadata": {},
   "outputs": [
    {
     "data": {
      "text/plain": [
       "(2188, 300)"
      ]
     },
     "execution_count": 9,
     "metadata": {},
     "output_type": "execute_result"
    }
   ],
   "source": [
    "X_pca.shape"
   ]
  },
  {
   "cell_type": "markdown",
   "metadata": {},
   "source": [
    "# Training models"
   ]
  },
  {
   "cell_type": "markdown",
   "metadata": {},
   "source": [
    "## Hyperparameter tuning"
   ]
  },
  {
   "cell_type": "markdown",
   "metadata": {},
   "source": [
    "For each model we select hyperparameters that maximize mean accuracy measured by cross-validation on training set."
   ]
  },
  {
   "cell_type": "markdown",
   "metadata": {},
   "source": [
    "### KNN"
   ]
  },
  {
   "cell_type": "markdown",
   "metadata": {},
   "source": [
    "#### Full images"
   ]
  },
  {
   "cell_type": "code",
   "execution_count": 10,
   "metadata": {},
   "outputs": [
    {
     "name": "stderr",
     "output_type": "stream",
     "text": [
      "[I 2024-02-08 15:14:36,809] A new study created in memory with name: no-name-93ce20ac-defb-410d-9662-df543e81ec83\n",
      "[I 2024-02-08 15:14:49,214] Trial 9 finished with value: 0.8222857142857144 and parameters: {'n_neighbors': 49}. Best is trial 9 with value: 0.8222857142857144.\n",
      "[I 2024-02-08 15:14:57,158] Trial 10 finished with value: 0.8542857142857143 and parameters: {'n_neighbors': 28}. Best is trial 10 with value: 0.8542857142857143.\n",
      "[I 2024-02-08 15:14:57,557] Trial 1 finished with value: 0.8742857142857143 and parameters: {'n_neighbors': 18}. Best is trial 1 with value: 0.8742857142857143.\n",
      "[I 2024-02-08 15:14:59,656] Trial 2 finished with value: 0.905142857142857 and parameters: {'n_neighbors': 5}. Best is trial 2 with value: 0.905142857142857.\n",
      "[I 2024-02-08 15:14:59,980] Trial 5 finished with value: 0.8571428571428571 and parameters: {'n_neighbors': 26}. Best is trial 2 with value: 0.905142857142857.\n",
      "[I 2024-02-08 15:15:02,805] Trial 7 finished with value: 0.8805714285714286 and parameters: {'n_neighbors': 15}. Best is trial 2 with value: 0.905142857142857.\n",
      "[I 2024-02-08 15:15:05,624] Trial 0 finished with value: 0.8879999999999999 and parameters: {'n_neighbors': 12}. Best is trial 2 with value: 0.905142857142857.\n",
      "[I 2024-02-08 15:15:05,812] Trial 3 finished with value: 0.8571428571428571 and parameters: {'n_neighbors': 26}. Best is trial 2 with value: 0.905142857142857.\n",
      "[I 2024-02-08 15:15:05,883] Trial 8 finished with value: 0.8302857142857143 and parameters: {'n_neighbors': 42}. Best is trial 2 with value: 0.905142857142857.\n",
      "[I 2024-02-08 15:15:06,023] Trial 6 finished with value: 0.8537142857142858 and parameters: {'n_neighbors': 29}. Best is trial 2 with value: 0.905142857142857.\n",
      "[I 2024-02-08 15:15:06,033] Trial 4 finished with value: 0.8737142857142859 and parameters: {'n_neighbors': 20}. Best is trial 2 with value: 0.905142857142857.\n",
      "[I 2024-02-08 15:15:06,976] Trial 11 finished with value: 0.8257142857142858 and parameters: {'n_neighbors': 47}. Best is trial 2 with value: 0.905142857142857.\n",
      "[I 2024-02-08 15:15:09,030] Trial 12 finished with value: 0.8428571428571427 and parameters: {'n_neighbors': 36}. Best is trial 2 with value: 0.905142857142857.\n",
      "[I 2024-02-08 15:15:11,564] Trial 13 finished with value: 0.8285714285714286 and parameters: {'n_neighbors': 41}. Best is trial 2 with value: 0.905142857142857.\n",
      "[I 2024-02-08 15:15:13,892] Trial 14 finished with value: 0.8571428571428571 and parameters: {'n_neighbors': 26}. Best is trial 2 with value: 0.905142857142857.\n",
      "[I 2024-02-08 15:15:15,899] Trial 15 finished with value: 0.8302857142857143 and parameters: {'n_neighbors': 42}. Best is trial 2 with value: 0.905142857142857.\n",
      "[I 2024-02-08 15:15:17,673] Trial 16 finished with value: 0.8480000000000001 and parameters: {'n_neighbors': 34}. Best is trial 2 with value: 0.905142857142857.\n",
      "[I 2024-02-08 15:15:20,245] Trial 17 finished with value: 0.9028571428571428 and parameters: {'n_neighbors': 7}. Best is trial 2 with value: 0.905142857142857.\n",
      "[I 2024-02-08 15:15:22,128] Trial 18 finished with value: 0.8491428571428571 and parameters: {'n_neighbors': 31}. Best is trial 2 with value: 0.905142857142857.\n",
      "[I 2024-02-08 15:15:23,910] Trial 19 finished with value: 0.8617142857142858 and parameters: {'n_neighbors': 24}. Best is trial 2 with value: 0.905142857142857.\n",
      "[I 2024-02-08 15:15:25,981] Trial 20 finished with value: 0.8822857142857142 and parameters: {'n_neighbors': 16}. Best is trial 2 with value: 0.905142857142857.\n",
      "[I 2024-02-08 15:15:28,234] Trial 21 finished with value: 0.9125714285714286 and parameters: {'n_neighbors': 3}. Best is trial 21 with value: 0.9125714285714286.\n",
      "[I 2024-02-08 15:15:29,890] Trial 22 finished with value: 0.9005714285714287 and parameters: {'n_neighbors': 8}. Best is trial 21 with value: 0.9125714285714286.\n",
      "[I 2024-02-08 15:15:32,166] Trial 23 finished with value: 0.9125714285714286 and parameters: {'n_neighbors': 3}. Best is trial 21 with value: 0.9125714285714286.\n",
      "[I 2024-02-08 15:15:34,185] Trial 24 finished with value: 0.9125714285714286 and parameters: {'n_neighbors': 3}. Best is trial 21 with value: 0.9125714285714286.\n",
      "[I 2024-02-08 15:15:36,369] Trial 25 finished with value: 0.9125714285714286 and parameters: {'n_neighbors': 3}. Best is trial 21 with value: 0.9125714285714286.\n",
      "[I 2024-02-08 15:15:38,409] Trial 26 finished with value: 0.9125714285714286 and parameters: {'n_neighbors': 3}. Best is trial 21 with value: 0.9125714285714286.\n",
      "[I 2024-02-08 15:15:40,066] Trial 27 finished with value: 0.8988571428571429 and parameters: {'n_neighbors': 4}. Best is trial 21 with value: 0.9125714285714286.\n",
      "[I 2024-02-08 15:15:42,497] Trial 28 finished with value: 0.8988571428571429 and parameters: {'n_neighbors': 4}. Best is trial 21 with value: 0.9125714285714286.\n",
      "[I 2024-02-08 15:15:44,866] Trial 29 finished with value: 0.8988571428571429 and parameters: {'n_neighbors': 4}. Best is trial 21 with value: 0.9125714285714286.\n",
      "[I 2024-02-08 15:15:46,825] Trial 30 finished with value: 0.9125714285714286 and parameters: {'n_neighbors': 3}. Best is trial 21 with value: 0.9125714285714286.\n",
      "[I 2024-02-08 15:15:48,729] Trial 31 finished with value: 0.8971428571428571 and parameters: {'n_neighbors': 6}. Best is trial 21 with value: 0.9125714285714286.\n",
      "[I 2024-02-08 15:15:50,957] Trial 32 finished with value: 0.8971428571428571 and parameters: {'n_neighbors': 6}. Best is trial 21 with value: 0.9125714285714286.\n",
      "[I 2024-02-08 15:15:53,245] Trial 33 finished with value: 0.9125714285714286 and parameters: {'n_neighbors': 3}. Best is trial 21 with value: 0.9125714285714286.\n",
      "[I 2024-02-08 15:15:55,352] Trial 34 finished with value: 0.9125714285714286 and parameters: {'n_neighbors': 3}. Best is trial 21 with value: 0.9125714285714286.\n",
      "[I 2024-02-08 15:15:57,109] Trial 35 finished with value: 0.8988571428571429 and parameters: {'n_neighbors': 4}. Best is trial 21 with value: 0.9125714285714286.\n",
      "[I 2024-02-08 15:15:59,489] Trial 36 finished with value: 0.9125714285714286 and parameters: {'n_neighbors': 3}. Best is trial 21 with value: 0.9125714285714286.\n",
      "[I 2024-02-08 15:16:00,888] Trial 37 finished with value: 0.893142857142857 and parameters: {'n_neighbors': 11}. Best is trial 21 with value: 0.9125714285714286.\n",
      "[I 2024-02-08 15:16:03,112] Trial 38 finished with value: 0.8897142857142857 and parameters: {'n_neighbors': 10}. Best is trial 21 with value: 0.9125714285714286.\n",
      "[I 2024-02-08 15:16:05,126] Trial 39 finished with value: 0.8897142857142857 and parameters: {'n_neighbors': 10}. Best is trial 21 with value: 0.9125714285714286.\n",
      "[I 2024-02-08 15:16:07,167] Trial 40 finished with value: 0.8897142857142857 and parameters: {'n_neighbors': 10}. Best is trial 21 with value: 0.9125714285714286.\n",
      "[I 2024-02-08 15:16:09,127] Trial 41 finished with value: 0.893142857142857 and parameters: {'n_neighbors': 11}. Best is trial 21 with value: 0.9125714285714286.\n",
      "[I 2024-02-08 15:16:11,037] Trial 42 finished with value: 0.893142857142857 and parameters: {'n_neighbors': 11}. Best is trial 21 with value: 0.9125714285714286.\n",
      "[I 2024-02-08 15:16:13,354] Trial 43 finished with value: 0.893142857142857 and parameters: {'n_neighbors': 11}. Best is trial 21 with value: 0.9125714285714286.\n",
      "[I 2024-02-08 15:16:15,088] Trial 44 finished with value: 0.8897142857142857 and parameters: {'n_neighbors': 10}. Best is trial 21 with value: 0.9125714285714286.\n",
      "[I 2024-02-08 15:16:17,399] Trial 45 finished with value: 0.8897142857142857 and parameters: {'n_neighbors': 10}. Best is trial 21 with value: 0.9125714285714286.\n",
      "[I 2024-02-08 15:16:19,202] Trial 46 finished with value: 0.893142857142857 and parameters: {'n_neighbors': 11}. Best is trial 21 with value: 0.9125714285714286.\n",
      "[I 2024-02-08 15:16:21,213] Trial 47 finished with value: 0.8897142857142857 and parameters: {'n_neighbors': 10}. Best is trial 21 with value: 0.9125714285714286.\n",
      "[I 2024-02-08 15:16:22,939] Trial 48 finished with value: 0.8879999999999999 and parameters: {'n_neighbors': 12}. Best is trial 21 with value: 0.9125714285714286.\n",
      "[I 2024-02-08 15:16:25,253] Trial 49 finished with value: 0.8897142857142857 and parameters: {'n_neighbors': 10}. Best is trial 21 with value: 0.9125714285714286.\n",
      "[I 2024-02-08 15:16:26,968] Trial 50 finished with value: 0.8862857142857143 and parameters: {'n_neighbors': 14}. Best is trial 21 with value: 0.9125714285714286.\n",
      "[I 2024-02-08 15:16:29,142] Trial 51 finished with value: 0.8754285714285714 and parameters: {'n_neighbors': 19}. Best is trial 21 with value: 0.9125714285714286.\n",
      "[I 2024-02-08 15:16:30,889] Trial 52 finished with value: 0.8862857142857143 and parameters: {'n_neighbors': 14}. Best is trial 21 with value: 0.9125714285714286.\n",
      "[I 2024-02-08 15:16:33,187] Trial 53 finished with value: 0.8862857142857143 and parameters: {'n_neighbors': 14}. Best is trial 21 with value: 0.9125714285714286.\n",
      "[I 2024-02-08 15:16:35,276] Trial 54 finished with value: 0.9005714285714287 and parameters: {'n_neighbors': 8}. Best is trial 21 with value: 0.9125714285714286.\n",
      "[I 2024-02-08 15:16:36,992] Trial 55 finished with value: 0.8805714285714286 and parameters: {'n_neighbors': 15}. Best is trial 21 with value: 0.9125714285714286.\n",
      "[I 2024-02-08 15:16:39,013] Trial 56 finished with value: 0.8862857142857143 and parameters: {'n_neighbors': 14}. Best is trial 21 with value: 0.9125714285714286.\n",
      "[I 2024-02-08 15:16:40,857] Trial 57 finished with value: 0.8862857142857143 and parameters: {'n_neighbors': 14}. Best is trial 21 with value: 0.9125714285714286.\n",
      "[I 2024-02-08 15:16:42,838] Trial 58 finished with value: 0.8805714285714286 and parameters: {'n_neighbors': 15}. Best is trial 21 with value: 0.9125714285714286.\n",
      "[I 2024-02-08 15:16:45,095] Trial 59 finished with value: 0.8805714285714286 and parameters: {'n_neighbors': 15}. Best is trial 21 with value: 0.9125714285714286.\n",
      "[I 2024-02-08 15:16:46,791] Trial 60 finished with value: 0.8805714285714286 and parameters: {'n_neighbors': 15}. Best is trial 21 with value: 0.9125714285714286.\n",
      "[I 2024-02-08 15:16:48,750] Trial 61 finished with value: 0.8862857142857143 and parameters: {'n_neighbors': 14}. Best is trial 21 with value: 0.9125714285714286.\n",
      "[I 2024-02-08 15:16:51,122] Trial 62 finished with value: 0.9028571428571428 and parameters: {'n_neighbors': 7}. Best is trial 21 with value: 0.9125714285714286.\n",
      "[I 2024-02-08 15:16:52,718] Trial 63 finished with value: 0.9005714285714287 and parameters: {'n_neighbors': 8}. Best is trial 21 with value: 0.9125714285714286.\n",
      "[I 2024-02-08 15:16:54,939] Trial 64 finished with value: 0.9028571428571428 and parameters: {'n_neighbors': 7}. Best is trial 21 with value: 0.9125714285714286.\n",
      "[I 2024-02-08 15:16:56,897] Trial 65 finished with value: 0.9028571428571428 and parameters: {'n_neighbors': 7}. Best is trial 21 with value: 0.9125714285714286.\n",
      "[I 2024-02-08 15:16:59,010] Trial 66 finished with value: 0.8971428571428571 and parameters: {'n_neighbors': 6}. Best is trial 21 with value: 0.9125714285714286.\n",
      "[I 2024-02-08 15:17:00,634] Trial 67 finished with value: 0.9028571428571428 and parameters: {'n_neighbors': 7}. Best is trial 21 with value: 0.9125714285714286.\n",
      "[I 2024-02-08 15:17:02,876] Trial 68 finished with value: 0.9028571428571428 and parameters: {'n_neighbors': 7}. Best is trial 21 with value: 0.9125714285714286.\n",
      "[I 2024-02-08 15:17:05,281] Trial 69 finished with value: 0.9028571428571428 and parameters: {'n_neighbors': 7}. Best is trial 21 with value: 0.9125714285714286.\n",
      "[I 2024-02-08 15:17:06,795] Trial 70 finished with value: 0.9028571428571428 and parameters: {'n_neighbors': 7}. Best is trial 21 with value: 0.9125714285714286.\n",
      "[I 2024-02-08 15:17:09,083] Trial 71 finished with value: 0.9028571428571428 and parameters: {'n_neighbors': 7}. Best is trial 21 with value: 0.9125714285714286.\n",
      "[I 2024-02-08 15:17:11,000] Trial 72 finished with value: 0.8971428571428571 and parameters: {'n_neighbors': 6}. Best is trial 21 with value: 0.9125714285714286.\n",
      "[I 2024-02-08 15:17:12,973] Trial 73 finished with value: 0.8971428571428571 and parameters: {'n_neighbors': 6}. Best is trial 21 with value: 0.9125714285714286.\n",
      "[I 2024-02-08 15:17:14,986] Trial 74 finished with value: 0.8971428571428571 and parameters: {'n_neighbors': 6}. Best is trial 21 with value: 0.9125714285714286.\n",
      "[I 2024-02-08 15:17:17,120] Trial 75 finished with value: 0.905142857142857 and parameters: {'n_neighbors': 5}. Best is trial 21 with value: 0.9125714285714286.\n",
      "[I 2024-02-08 15:17:19,014] Trial 76 finished with value: 0.905142857142857 and parameters: {'n_neighbors': 5}. Best is trial 21 with value: 0.9125714285714286.\n",
      "[I 2024-02-08 15:17:20,899] Trial 77 finished with value: 0.905142857142857 and parameters: {'n_neighbors': 5}. Best is trial 21 with value: 0.9125714285714286.\n",
      "[I 2024-02-08 15:17:23,077] Trial 78 finished with value: 0.9125714285714286 and parameters: {'n_neighbors': 3}. Best is trial 21 with value: 0.9125714285714286.\n",
      "[I 2024-02-08 15:17:25,239] Trial 79 finished with value: 0.9125714285714286 and parameters: {'n_neighbors': 3}. Best is trial 21 with value: 0.9125714285714286.\n",
      "[I 2024-02-08 15:17:27,565] Trial 80 finished with value: 0.9125714285714286 and parameters: {'n_neighbors': 3}. Best is trial 21 with value: 0.9125714285714286.\n",
      "[I 2024-02-08 15:17:28,865] Trial 81 finished with value: 0.9125714285714286 and parameters: {'n_neighbors': 3}. Best is trial 21 with value: 0.9125714285714286.\n",
      "[I 2024-02-08 15:17:30,773] Trial 82 finished with value: 0.9125714285714286 and parameters: {'n_neighbors': 3}. Best is trial 21 with value: 0.9125714285714286.\n",
      "[I 2024-02-08 15:17:33,292] Trial 83 finished with value: 0.9125714285714286 and parameters: {'n_neighbors': 3}. Best is trial 21 with value: 0.9125714285714286.\n",
      "[I 2024-02-08 15:17:34,912] Trial 84 finished with value: 0.9125714285714286 and parameters: {'n_neighbors': 3}. Best is trial 21 with value: 0.9125714285714286.\n",
      "[I 2024-02-08 15:17:37,431] Trial 85 finished with value: 0.9125714285714286 and parameters: {'n_neighbors': 3}. Best is trial 21 with value: 0.9125714285714286.\n",
      "[I 2024-02-08 15:17:39,309] Trial 86 finished with value: 0.9125714285714286 and parameters: {'n_neighbors': 3}. Best is trial 21 with value: 0.9125714285714286.\n",
      "[I 2024-02-08 15:17:41,362] Trial 87 finished with value: 0.9125714285714286 and parameters: {'n_neighbors': 3}. Best is trial 21 with value: 0.9125714285714286.\n",
      "[I 2024-02-08 15:17:42,985] Trial 88 finished with value: 0.9125714285714286 and parameters: {'n_neighbors': 3}. Best is trial 21 with value: 0.9125714285714286.\n",
      "[I 2024-02-08 15:17:45,308] Trial 89 finished with value: 0.9125714285714286 and parameters: {'n_neighbors': 3}. Best is trial 21 with value: 0.9125714285714286.\n",
      "[I 2024-02-08 15:17:47,657] Trial 90 finished with value: 0.9125714285714286 and parameters: {'n_neighbors': 3}. Best is trial 21 with value: 0.9125714285714286.\n",
      "[I 2024-02-08 15:17:49,196] Trial 91 finished with value: 0.9125714285714286 and parameters: {'n_neighbors': 3}. Best is trial 21 with value: 0.9125714285714286.\n",
      "[I 2024-02-08 15:17:51,299] Trial 92 finished with value: 0.9125714285714286 and parameters: {'n_neighbors': 3}. Best is trial 21 with value: 0.9125714285714286.\n",
      "[I 2024-02-08 15:17:53,624] Trial 93 finished with value: 0.8988571428571429 and parameters: {'n_neighbors': 4}. Best is trial 21 with value: 0.9125714285714286.\n",
      "[I 2024-02-08 15:17:55,531] Trial 94 finished with value: 0.8988571428571429 and parameters: {'n_neighbors': 4}. Best is trial 21 with value: 0.9125714285714286.\n",
      "[I 2024-02-08 15:17:57,528] Trial 95 finished with value: 0.8680000000000001 and parameters: {'n_neighbors': 22}. Best is trial 21 with value: 0.9125714285714286.\n",
      "[I 2024-02-08 15:17:59,384] Trial 96 finished with value: 0.8988571428571429 and parameters: {'n_neighbors': 4}. Best is trial 21 with value: 0.9125714285714286.\n",
      "[I 2024-02-08 15:18:01,672] Trial 97 finished with value: 0.905142857142857 and parameters: {'n_neighbors': 5}. Best is trial 21 with value: 0.9125714285714286.\n",
      "[I 2024-02-08 15:18:03,437] Trial 98 finished with value: 0.8668571428571429 and parameters: {'n_neighbors': 23}. Best is trial 21 with value: 0.9125714285714286.\n",
      "[I 2024-02-08 15:18:04,554] Trial 99 finished with value: 0.8714285714285716 and parameters: {'n_neighbors': 21}. Best is trial 21 with value: 0.9125714285714286.\n"
     ]
    },
    {
     "name": "stdout",
     "output_type": "stream",
     "text": [
      "FrozenTrial(number=21, state=1, values=[0.9125714285714286], datetime_start=datetime.datetime(2024, 2, 8, 15, 15, 6, 40561), datetime_complete=datetime.datetime(2024, 2, 8, 15, 15, 28, 234207), params={'n_neighbors': 3}, user_attrs={}, system_attrs={}, intermediate_values={}, distributions={'n_neighbors': IntDistribution(high=49, log=False, low=3, step=1)}, trial_id=21, value=None)\n"
     ]
    }
   ],
   "source": [
    "knn_result = optimize_hyperparameters('knn', X_train, y_train, n_trials=100)\n",
    "print(knn_result)"
   ]
  },
  {
   "cell_type": "code",
   "execution_count": 11,
   "metadata": {},
   "outputs": [
    {
     "data": {
      "text/plain": [
       "{'n_neighbors': 3}"
      ]
     },
     "execution_count": 11,
     "metadata": {},
     "output_type": "execute_result"
    }
   ],
   "source": [
    "knn_result.params"
   ]
  },
  {
   "cell_type": "code",
   "execution_count": 12,
   "metadata": {},
   "outputs": [
    {
     "data": {
      "text/plain": [
       "0.9125714285714286"
      ]
     },
     "execution_count": 12,
     "metadata": {},
     "output_type": "execute_result"
    }
   ],
   "source": [
    "knn_result.value"
   ]
  },
  {
   "cell_type": "code",
   "execution_count": 13,
   "metadata": {},
   "outputs": [
    {
     "data": {
      "text/plain": [
       "0.9041095890410958"
      ]
     },
     "execution_count": 13,
     "metadata": {},
     "output_type": "execute_result"
    }
   ],
   "source": [
    "best_knn_model = KNeighborsClassifier(n_jobs=-1, **knn_result.params)\n",
    "best_knn_model.fit(X_train, y_train)\n",
    "best_knn_model.score(X_test, y_test)"
   ]
  },
  {
   "cell_type": "markdown",
   "metadata": {},
   "source": [
    "#### Scaled images"
   ]
  },
  {
   "cell_type": "code",
   "execution_count": 14,
   "metadata": {},
   "outputs": [
    {
     "name": "stderr",
     "output_type": "stream",
     "text": [
      "[I 2024-02-08 15:18:05,390] A new study created in memory with name: no-name-87ce219a-7d2e-4381-8f35-447717d482ad\n",
      "[I 2024-02-08 15:18:06,310] Trial 0 finished with value: 0.8885714285714286 and parameters: {'n_neighbors': 14}. Best is trial 0 with value: 0.8885714285714286.\n",
      "[I 2024-02-08 15:18:06,985] Trial 2 finished with value: 0.8788571428571428 and parameters: {'n_neighbors': 19}. Best is trial 0 with value: 0.8885714285714286.\n",
      "[I 2024-02-08 15:18:07,529] Trial 1 finished with value: 0.8657142857142857 and parameters: {'n_neighbors': 24}. Best is trial 0 with value: 0.8885714285714286.\n",
      "[I 2024-02-08 15:18:07,944] Trial 3 finished with value: 0.8777142857142858 and parameters: {'n_neighbors': 18}. Best is trial 0 with value: 0.8885714285714286.\n",
      "[I 2024-02-08 15:18:08,432] Trial 4 finished with value: 0.8514285714285714 and parameters: {'n_neighbors': 32}. Best is trial 0 with value: 0.8885714285714286.\n",
      "[I 2024-02-08 15:18:08,962] Trial 5 finished with value: 0.8794285714285716 and parameters: {'n_neighbors': 17}. Best is trial 0 with value: 0.8885714285714286.\n",
      "[I 2024-02-08 15:18:09,455] Trial 11 finished with value: 0.8794285714285716 and parameters: {'n_neighbors': 17}. Best is trial 0 with value: 0.8885714285714286.\n",
      "[I 2024-02-08 15:18:09,966] Trial 9 finished with value: 0.9045714285714286 and parameters: {'n_neighbors': 4}. Best is trial 9 with value: 0.9045714285714286.\n",
      "[I 2024-02-08 15:18:10,532] Trial 7 finished with value: 0.8834285714285715 and parameters: {'n_neighbors': 15}. Best is trial 9 with value: 0.9045714285714286.\n",
      "[I 2024-02-08 15:18:11,045] Trial 6 finished with value: 0.8394285714285715 and parameters: {'n_neighbors': 38}. Best is trial 9 with value: 0.9045714285714286.\n",
      "[I 2024-02-08 15:18:11,458] Trial 8 finished with value: 0.8657142857142857 and parameters: {'n_neighbors': 24}. Best is trial 9 with value: 0.9045714285714286.\n",
      "[I 2024-02-08 15:18:12,031] Trial 10 finished with value: 0.8885714285714286 and parameters: {'n_neighbors': 13}. Best is trial 9 with value: 0.9045714285714286.\n",
      "[I 2024-02-08 15:18:12,502] Trial 12 finished with value: 0.836 and parameters: {'n_neighbors': 40}. Best is trial 9 with value: 0.9045714285714286.\n",
      "[I 2024-02-08 15:18:12,937] Trial 13 finished with value: 0.8925714285714286 and parameters: {'n_neighbors': 10}. Best is trial 9 with value: 0.9045714285714286.\n",
      "[I 2024-02-08 15:18:13,448] Trial 14 finished with value: 0.836 and parameters: {'n_neighbors': 40}. Best is trial 9 with value: 0.9045714285714286.\n",
      "[I 2024-02-08 15:18:13,954] Trial 15 finished with value: 0.8394285714285715 and parameters: {'n_neighbors': 38}. Best is trial 9 with value: 0.9045714285714286.\n",
      "[I 2024-02-08 15:18:14,515] Trial 16 finished with value: 0.9074285714285713 and parameters: {'n_neighbors': 5}. Best is trial 16 with value: 0.9074285714285713.\n",
      "[I 2024-02-08 15:18:14,995] Trial 17 finished with value: 0.8394285714285715 and parameters: {'n_neighbors': 38}. Best is trial 16 with value: 0.9074285714285713.\n",
      "[I 2024-02-08 15:18:15,533] Trial 18 finished with value: 0.8834285714285715 and parameters: {'n_neighbors': 16}. Best is trial 16 with value: 0.9074285714285713.\n",
      "[I 2024-02-08 15:18:16,009] Trial 19 finished with value: 0.8428571428571429 and parameters: {'n_neighbors': 36}. Best is trial 16 with value: 0.9074285714285713.\n",
      "[I 2024-02-08 15:18:16,620] Trial 20 finished with value: 0.8394285714285715 and parameters: {'n_neighbors': 38}. Best is trial 16 with value: 0.9074285714285713.\n",
      "[I 2024-02-08 15:18:17,118] Trial 21 finished with value: 0.9045714285714286 and parameters: {'n_neighbors': 4}. Best is trial 16 with value: 0.9074285714285713.\n",
      "[I 2024-02-08 15:18:17,567] Trial 22 finished with value: 0.9154285714285715 and parameters: {'n_neighbors': 3}. Best is trial 22 with value: 0.9154285714285715.\n",
      "[I 2024-02-08 15:18:18,016] Trial 23 finished with value: 0.9154285714285715 and parameters: {'n_neighbors': 3}. Best is trial 22 with value: 0.9154285714285715.\n",
      "[I 2024-02-08 15:18:18,712] Trial 24 finished with value: 0.9154285714285715 and parameters: {'n_neighbors': 3}. Best is trial 22 with value: 0.9154285714285715.\n",
      "[I 2024-02-08 15:18:19,233] Trial 25 finished with value: 0.9074285714285713 and parameters: {'n_neighbors': 5}. Best is trial 22 with value: 0.9154285714285715.\n",
      "[I 2024-02-08 15:18:19,766] Trial 26 finished with value: 0.9074285714285713 and parameters: {'n_neighbors': 5}. Best is trial 22 with value: 0.9154285714285715.\n",
      "[I 2024-02-08 15:18:20,388] Trial 27 finished with value: 0.9154285714285715 and parameters: {'n_neighbors': 3}. Best is trial 22 with value: 0.9154285714285715.\n",
      "[I 2024-02-08 15:18:20,847] Trial 28 finished with value: 0.9154285714285715 and parameters: {'n_neighbors': 3}. Best is trial 22 with value: 0.9154285714285715.\n",
      "[I 2024-02-08 15:18:21,437] Trial 29 finished with value: 0.9045714285714286 and parameters: {'n_neighbors': 4}. Best is trial 22 with value: 0.9154285714285715.\n",
      "[I 2024-02-08 15:18:22,107] Trial 30 finished with value: 0.9154285714285715 and parameters: {'n_neighbors': 3}. Best is trial 22 with value: 0.9154285714285715.\n",
      "[I 2024-02-08 15:18:22,596] Trial 31 finished with value: 0.9154285714285715 and parameters: {'n_neighbors': 3}. Best is trial 22 with value: 0.9154285714285715.\n",
      "[I 2024-02-08 15:18:23,215] Trial 32 finished with value: 0.9154285714285715 and parameters: {'n_neighbors': 3}. Best is trial 22 with value: 0.9154285714285715.\n",
      "[I 2024-02-08 15:18:23,961] Trial 33 finished with value: 0.9045714285714286 and parameters: {'n_neighbors': 4}. Best is trial 22 with value: 0.9154285714285715.\n",
      "[I 2024-02-08 15:18:24,371] Trial 34 finished with value: 0.9154285714285715 and parameters: {'n_neighbors': 3}. Best is trial 22 with value: 0.9154285714285715.\n",
      "[I 2024-02-08 15:18:25,024] Trial 35 finished with value: 0.8262857142857143 and parameters: {'n_neighbors': 48}. Best is trial 22 with value: 0.9154285714285715.\n",
      "[I 2024-02-08 15:18:25,499] Trial 36 finished with value: 0.9017142857142856 and parameters: {'n_neighbors': 9}. Best is trial 22 with value: 0.9154285714285715.\n",
      "[I 2024-02-08 15:18:26,081] Trial 37 finished with value: 0.8240000000000001 and parameters: {'n_neighbors': 49}. Best is trial 22 with value: 0.9154285714285715.\n",
      "[I 2024-02-08 15:18:26,629] Trial 38 finished with value: 0.9017142857142856 and parameters: {'n_neighbors': 9}. Best is trial 22 with value: 0.9154285714285715.\n",
      "[I 2024-02-08 15:18:27,107] Trial 39 finished with value: 0.9017142857142856 and parameters: {'n_neighbors': 9}. Best is trial 22 with value: 0.9154285714285715.\n",
      "[I 2024-02-08 15:18:27,604] Trial 40 finished with value: 0.9017142857142856 and parameters: {'n_neighbors': 9}. Best is trial 22 with value: 0.9154285714285715.\n",
      "[I 2024-02-08 15:18:28,147] Trial 41 finished with value: 0.8280000000000001 and parameters: {'n_neighbors': 47}. Best is trial 22 with value: 0.9154285714285715.\n",
      "[I 2024-02-08 15:18:28,811] Trial 42 finished with value: 0.8262857142857143 and parameters: {'n_neighbors': 48}. Best is trial 22 with value: 0.9154285714285715.\n",
      "[I 2024-02-08 15:18:29,329] Trial 43 finished with value: 0.8262857142857143 and parameters: {'n_neighbors': 48}. Best is trial 22 with value: 0.9154285714285715.\n",
      "[I 2024-02-08 15:18:29,794] Trial 44 finished with value: 0.8262857142857143 and parameters: {'n_neighbors': 48}. Best is trial 22 with value: 0.9154285714285715.\n",
      "[I 2024-02-08 15:18:30,389] Trial 45 finished with value: 0.9017142857142856 and parameters: {'n_neighbors': 9}. Best is trial 22 with value: 0.9154285714285715.\n",
      "[I 2024-02-08 15:18:30,884] Trial 46 finished with value: 0.8925714285714286 and parameters: {'n_neighbors': 10}. Best is trial 22 with value: 0.9154285714285715.\n",
      "[I 2024-02-08 15:18:31,497] Trial 47 finished with value: 0.8925714285714286 and parameters: {'n_neighbors': 10}. Best is trial 22 with value: 0.9154285714285715.\n",
      "[I 2024-02-08 15:18:32,060] Trial 48 finished with value: 0.9017142857142856 and parameters: {'n_neighbors': 9}. Best is trial 22 with value: 0.9154285714285715.\n",
      "[I 2024-02-08 15:18:32,405] Trial 49 finished with value: 0.9017142857142856 and parameters: {'n_neighbors': 9}. Best is trial 22 with value: 0.9154285714285715.\n",
      "[I 2024-02-08 15:18:32,993] Trial 50 finished with value: 0.8885714285714286 and parameters: {'n_neighbors': 12}. Best is trial 22 with value: 0.9154285714285715.\n",
      "[I 2024-02-08 15:18:33,789] Trial 51 finished with value: 0.8737142857142859 and parameters: {'n_neighbors': 21}. Best is trial 22 with value: 0.9154285714285715.\n",
      "[I 2024-02-08 15:18:34,220] Trial 52 finished with value: 0.8885714285714286 and parameters: {'n_neighbors': 12}. Best is trial 22 with value: 0.9154285714285715.\n",
      "[I 2024-02-08 15:18:34,733] Trial 53 finished with value: 0.8885714285714286 and parameters: {'n_neighbors': 12}. Best is trial 22 with value: 0.9154285714285715.\n",
      "[I 2024-02-08 15:18:35,253] Trial 54 finished with value: 0.8885714285714286 and parameters: {'n_neighbors': 12}. Best is trial 22 with value: 0.9154285714285715.\n",
      "[I 2024-02-08 15:18:35,739] Trial 55 finished with value: 0.8885714285714286 and parameters: {'n_neighbors': 12}. Best is trial 22 with value: 0.9154285714285715.\n",
      "[I 2024-02-08 15:18:36,337] Trial 56 finished with value: 0.8885714285714286 and parameters: {'n_neighbors': 12}. Best is trial 22 with value: 0.9154285714285715.\n",
      "[I 2024-02-08 15:18:36,758] Trial 57 finished with value: 0.8885714285714286 and parameters: {'n_neighbors': 12}. Best is trial 22 with value: 0.9154285714285715.\n",
      "[I 2024-02-08 15:18:37,318] Trial 58 finished with value: 0.8737142857142859 and parameters: {'n_neighbors': 21}. Best is trial 22 with value: 0.9154285714285715.\n",
      "[I 2024-02-08 15:18:37,869] Trial 59 finished with value: 0.8742857142857143 and parameters: {'n_neighbors': 20}. Best is trial 22 with value: 0.9154285714285715.\n",
      "[I 2024-02-08 15:18:38,429] Trial 60 finished with value: 0.8737142857142859 and parameters: {'n_neighbors': 21}. Best is trial 22 with value: 0.9154285714285715.\n",
      "[I 2024-02-08 15:18:38,977] Trial 61 finished with value: 0.9051428571428571 and parameters: {'n_neighbors': 7}. Best is trial 22 with value: 0.9154285714285715.\n",
      "[I 2024-02-08 15:18:39,547] Trial 62 finished with value: 0.8742857142857143 and parameters: {'n_neighbors': 20}. Best is trial 22 with value: 0.9154285714285715.\n",
      "[I 2024-02-08 15:18:40,004] Trial 63 finished with value: 0.9051428571428571 and parameters: {'n_neighbors': 7}. Best is trial 22 with value: 0.9154285714285715.\n",
      "[I 2024-02-08 15:18:40,584] Trial 64 finished with value: 0.9051428571428571 and parameters: {'n_neighbors': 7}. Best is trial 22 with value: 0.9154285714285715.\n",
      "[I 2024-02-08 15:18:40,959] Trial 65 finished with value: 0.9051428571428571 and parameters: {'n_neighbors': 7}. Best is trial 22 with value: 0.9154285714285715.\n",
      "[I 2024-02-08 15:18:41,473] Trial 66 finished with value: 0.9051428571428571 and parameters: {'n_neighbors': 7}. Best is trial 22 with value: 0.9154285714285715.\n",
      "[I 2024-02-08 15:18:42,012] Trial 67 finished with value: 0.9051428571428571 and parameters: {'n_neighbors': 7}. Best is trial 22 with value: 0.9154285714285715.\n",
      "[I 2024-02-08 15:18:42,485] Trial 68 finished with value: 0.9051428571428571 and parameters: {'n_neighbors': 7}. Best is trial 22 with value: 0.9154285714285715.\n",
      "[I 2024-02-08 15:18:43,051] Trial 69 finished with value: 0.9051428571428571 and parameters: {'n_neighbors': 7}. Best is trial 22 with value: 0.9154285714285715.\n",
      "[I 2024-02-08 15:18:43,602] Trial 70 finished with value: 0.9051428571428571 and parameters: {'n_neighbors': 7}. Best is trial 22 with value: 0.9154285714285715.\n",
      "[I 2024-02-08 15:18:44,149] Trial 71 finished with value: 0.9051428571428571 and parameters: {'n_neighbors': 7}. Best is trial 22 with value: 0.9154285714285715.\n",
      "[I 2024-02-08 15:18:44,656] Trial 72 finished with value: 0.9051428571428571 and parameters: {'n_neighbors': 7}. Best is trial 22 with value: 0.9154285714285715.\n",
      "[I 2024-02-08 15:18:45,068] Trial 73 finished with value: 0.9051428571428571 and parameters: {'n_neighbors': 7}. Best is trial 22 with value: 0.9154285714285715.\n",
      "[I 2024-02-08 15:18:45,653] Trial 74 finished with value: 0.9051428571428571 and parameters: {'n_neighbors': 7}. Best is trial 22 with value: 0.9154285714285715.\n",
      "[I 2024-02-08 15:18:46,174] Trial 75 finished with value: 0.9034285714285714 and parameters: {'n_neighbors': 6}. Best is trial 22 with value: 0.9154285714285715.\n",
      "[I 2024-02-08 15:18:46,802] Trial 76 finished with value: 0.9034285714285714 and parameters: {'n_neighbors': 6}. Best is trial 22 with value: 0.9154285714285715.\n",
      "[I 2024-02-08 15:18:47,398] Trial 77 finished with value: 0.9034285714285714 and parameters: {'n_neighbors': 6}. Best is trial 22 with value: 0.9154285714285715.\n",
      "[I 2024-02-08 15:18:47,871] Trial 78 finished with value: 0.8588571428571429 and parameters: {'n_neighbors': 27}. Best is trial 22 with value: 0.9154285714285715.\n",
      "[I 2024-02-08 15:18:48,287] Trial 79 finished with value: 0.8560000000000001 and parameters: {'n_neighbors': 29}. Best is trial 22 with value: 0.9154285714285715.\n",
      "[I 2024-02-08 15:18:48,867] Trial 80 finished with value: 0.9154285714285715 and parameters: {'n_neighbors': 3}. Best is trial 22 with value: 0.9154285714285715.\n",
      "[I 2024-02-08 15:18:49,556] Trial 81 finished with value: 0.8554285714285713 and parameters: {'n_neighbors': 30}. Best is trial 22 with value: 0.9154285714285715.\n",
      "[I 2024-02-08 15:18:50,035] Trial 82 finished with value: 0.9154285714285715 and parameters: {'n_neighbors': 3}. Best is trial 22 with value: 0.9154285714285715.\n",
      "[I 2024-02-08 15:18:50,473] Trial 83 finished with value: 0.9154285714285715 and parameters: {'n_neighbors': 3}. Best is trial 22 with value: 0.9154285714285715.\n",
      "[I 2024-02-08 15:18:51,102] Trial 84 finished with value: 0.9154285714285715 and parameters: {'n_neighbors': 3}. Best is trial 22 with value: 0.9154285714285715.\n",
      "[I 2024-02-08 15:18:51,633] Trial 85 finished with value: 0.9154285714285715 and parameters: {'n_neighbors': 3}. Best is trial 22 with value: 0.9154285714285715.\n",
      "[I 2024-02-08 15:18:52,021] Trial 86 finished with value: 0.9154285714285715 and parameters: {'n_neighbors': 3}. Best is trial 22 with value: 0.9154285714285715.\n",
      "[I 2024-02-08 15:18:52,572] Trial 87 finished with value: 0.9154285714285715 and parameters: {'n_neighbors': 3}. Best is trial 22 with value: 0.9154285714285715.\n",
      "[I 2024-02-08 15:18:53,122] Trial 88 finished with value: 0.9154285714285715 and parameters: {'n_neighbors': 3}. Best is trial 22 with value: 0.9154285714285715.\n",
      "[I 2024-02-08 15:18:53,613] Trial 89 finished with value: 0.9154285714285715 and parameters: {'n_neighbors': 3}. Best is trial 22 with value: 0.9154285714285715.\n",
      "[I 2024-02-08 15:18:54,122] Trial 90 finished with value: 0.9154285714285715 and parameters: {'n_neighbors': 3}. Best is trial 22 with value: 0.9154285714285715.\n",
      "[I 2024-02-08 15:18:54,740] Trial 91 finished with value: 0.9154285714285715 and parameters: {'n_neighbors': 3}. Best is trial 22 with value: 0.9154285714285715.\n",
      "[I 2024-02-08 15:18:55,131] Trial 92 finished with value: 0.9154285714285715 and parameters: {'n_neighbors': 3}. Best is trial 22 with value: 0.9154285714285715.\n",
      "[I 2024-02-08 15:18:55,717] Trial 93 finished with value: 0.9154285714285715 and parameters: {'n_neighbors': 3}. Best is trial 22 with value: 0.9154285714285715.\n",
      "[I 2024-02-08 15:18:56,392] Trial 94 finished with value: 0.9154285714285715 and parameters: {'n_neighbors': 3}. Best is trial 22 with value: 0.9154285714285715.\n",
      "[I 2024-02-08 15:18:56,943] Trial 95 finished with value: 0.9074285714285713 and parameters: {'n_neighbors': 5}. Best is trial 22 with value: 0.9154285714285715.\n",
      "[I 2024-02-08 15:18:57,573] Trial 96 finished with value: 0.9074285714285713 and parameters: {'n_neighbors': 5}. Best is trial 22 with value: 0.9154285714285715.\n",
      "[I 2024-02-08 15:18:58,150] Trial 97 finished with value: 0.9074285714285713 and parameters: {'n_neighbors': 5}. Best is trial 22 with value: 0.9154285714285715.\n",
      "[I 2024-02-08 15:18:58,487] Trial 98 finished with value: 0.9074285714285713 and parameters: {'n_neighbors': 5}. Best is trial 22 with value: 0.9154285714285715.\n",
      "[I 2024-02-08 15:18:58,869] Trial 99 finished with value: 0.9074285714285713 and parameters: {'n_neighbors': 5}. Best is trial 22 with value: 0.9154285714285715.\n"
     ]
    },
    {
     "name": "stdout",
     "output_type": "stream",
     "text": [
      "FrozenTrial(number=22, state=1, values=[0.9154285714285715], datetime_start=datetime.datetime(2024, 2, 8, 15, 18, 11, 464627), datetime_complete=datetime.datetime(2024, 2, 8, 15, 18, 17, 566998), params={'n_neighbors': 3}, user_attrs={}, system_attrs={}, intermediate_values={}, distributions={'n_neighbors': IntDistribution(high=49, log=False, low=3, step=1)}, trial_id=22, value=None)\n"
     ]
    }
   ],
   "source": [
    "knn_scaled_result = optimize_hyperparameters('knn', X_scaled_train, y_train, n_trials=100)\n",
    "print(knn_scaled_result)"
   ]
  },
  {
   "cell_type": "code",
   "execution_count": 15,
   "metadata": {},
   "outputs": [
    {
     "data": {
      "text/plain": [
       "{'n_neighbors': 3}"
      ]
     },
     "execution_count": 15,
     "metadata": {},
     "output_type": "execute_result"
    }
   ],
   "source": [
    "knn_scaled_result.params"
   ]
  },
  {
   "cell_type": "code",
   "execution_count": 16,
   "metadata": {},
   "outputs": [
    {
     "data": {
      "text/plain": [
       "0.9154285714285715"
      ]
     },
     "execution_count": 16,
     "metadata": {},
     "output_type": "execute_result"
    }
   ],
   "source": [
    "knn_scaled_result.value"
   ]
  },
  {
   "cell_type": "code",
   "execution_count": 17,
   "metadata": {},
   "outputs": [
    {
     "data": {
      "text/plain": [
       "0.906392694063927"
      ]
     },
     "execution_count": 17,
     "metadata": {},
     "output_type": "execute_result"
    }
   ],
   "source": [
    "best_knn_model_scaled = KNeighborsClassifier(n_jobs=-1, **knn_scaled_result.params)\n",
    "best_knn_model_scaled.fit(X_scaled_train, y_train)\n",
    "best_knn_model_scaled.score(X_scaled_test, y_test)"
   ]
  },
  {
   "cell_type": "markdown",
   "metadata": {},
   "source": [
    "#### PCA"
   ]
  },
  {
   "cell_type": "code",
   "execution_count": 18,
   "metadata": {},
   "outputs": [
    {
     "name": "stderr",
     "output_type": "stream",
     "text": [
      "[I 2024-02-08 15:18:59,209] A new study created in memory with name: no-name-06bc29f9-fe7d-4b75-9db3-71bfd9233fd1\n",
      "[I 2024-02-08 15:18:59,369] Trial 4 finished with value: 0.8411428571428573 and parameters: {'n_neighbors': 38}. Best is trial 4 with value: 0.8411428571428573.\n",
      "[I 2024-02-08 15:18:59,372] Trial 8 finished with value: 0.8588571428571429 and parameters: {'n_neighbors': 29}. Best is trial 8 with value: 0.8588571428571429.\n",
      "[I 2024-02-08 15:18:59,378] Trial 9 finished with value: 0.8651428571428571 and parameters: {'n_neighbors': 24}. Best is trial 9 with value: 0.8651428571428571.\n",
      "[I 2024-02-08 15:18:59,392] Trial 5 finished with value: 0.8314285714285715 and parameters: {'n_neighbors': 42}. Best is trial 9 with value: 0.8651428571428571.\n",
      "[I 2024-02-08 15:18:59,405] Trial 1 finished with value: 0.9040000000000001 and parameters: {'n_neighbors': 9}. Best is trial 1 with value: 0.9040000000000001.\n",
      "[I 2024-02-08 15:18:59,423] Trial 3 finished with value: 0.9062857142857143 and parameters: {'n_neighbors': 6}. Best is trial 3 with value: 0.9062857142857143.\n",
      "[I 2024-02-08 15:18:59,431] Trial 6 finished with value: 0.8885714285714286 and parameters: {'n_neighbors': 15}. Best is trial 3 with value: 0.9062857142857143.\n",
      "[I 2024-02-08 15:18:59,437] Trial 11 finished with value: 0.8634285714285713 and parameters: {'n_neighbors': 26}. Best is trial 3 with value: 0.9062857142857143.\n",
      "[I 2024-02-08 15:18:59,440] Trial 0 finished with value: 0.9102857142857144 and parameters: {'n_neighbors': 5}. Best is trial 0 with value: 0.9102857142857144.\n",
      "[I 2024-02-08 15:18:59,452] Trial 2 finished with value: 0.8777142857142858 and parameters: {'n_neighbors': 18}. Best is trial 0 with value: 0.9102857142857144.\n",
      "[I 2024-02-08 15:18:59,453] Trial 10 finished with value: 0.8428571428571429 and parameters: {'n_neighbors': 37}. Best is trial 0 with value: 0.9102857142857144.\n",
      "[I 2024-02-08 15:18:59,471] Trial 13 finished with value: 0.828 and parameters: {'n_neighbors': 49}. Best is trial 0 with value: 0.9102857142857144.\n",
      "[I 2024-02-08 15:18:59,509] Trial 7 finished with value: 0.8537142857142858 and parameters: {'n_neighbors': 30}. Best is trial 0 with value: 0.9102857142857144.\n",
      "[I 2024-02-08 15:18:59,542] Trial 16 finished with value: 0.8474285714285713 and parameters: {'n_neighbors': 32}. Best is trial 0 with value: 0.9102857142857144.\n",
      "[I 2024-02-08 15:18:59,553] Trial 17 finished with value: 0.8605714285714287 and parameters: {'n_neighbors': 27}. Best is trial 0 with value: 0.9102857142857144.\n",
      "[I 2024-02-08 15:18:59,600] Trial 12 finished with value: 0.8605714285714285 and parameters: {'n_neighbors': 28}. Best is trial 0 with value: 0.9102857142857144.\n",
      "[I 2024-02-08 15:18:59,616] Trial 14 finished with value: 0.8314285714285715 and parameters: {'n_neighbors': 42}. Best is trial 0 with value: 0.9102857142857144.\n",
      "[I 2024-02-08 15:18:59,635] Trial 15 finished with value: 0.8845714285714286 and parameters: {'n_neighbors': 16}. Best is trial 0 with value: 0.9102857142857144.\n",
      "[I 2024-02-08 15:18:59,674] Trial 18 finished with value: 0.8799999999999999 and parameters: {'n_neighbors': 19}. Best is trial 0 with value: 0.9102857142857144.\n",
      "[I 2024-02-08 15:18:59,686] Trial 25 finished with value: 0.9102857142857144 and parameters: {'n_neighbors': 5}. Best is trial 0 with value: 0.9102857142857144.\n",
      "[I 2024-02-08 15:18:59,696] Trial 19 finished with value: 0.8314285714285715 and parameters: {'n_neighbors': 43}. Best is trial 0 with value: 0.9102857142857144.\n",
      "[I 2024-02-08 15:18:59,705] Trial 26 finished with value: 0.909142857142857 and parameters: {'n_neighbors': 4}. Best is trial 0 with value: 0.9102857142857144.\n",
      "[I 2024-02-08 15:18:59,705] Trial 20 finished with value: 0.9051428571428571 and parameters: {'n_neighbors': 7}. Best is trial 0 with value: 0.9102857142857144.\n",
      "[I 2024-02-08 15:18:59,722] Trial 27 finished with value: 0.9194285714285714 and parameters: {'n_neighbors': 3}. Best is trial 27 with value: 0.9194285714285714.\n",
      "[I 2024-02-08 15:18:59,729] Trial 21 finished with value: 0.9194285714285714 and parameters: {'n_neighbors': 3}. Best is trial 27 with value: 0.9194285714285714.\n",
      "[I 2024-02-08 15:18:59,739] Trial 22 finished with value: 0.9194285714285714 and parameters: {'n_neighbors': 3}. Best is trial 27 with value: 0.9194285714285714.\n",
      "[I 2024-02-08 15:18:59,757] Trial 23 finished with value: 0.9194285714285714 and parameters: {'n_neighbors': 3}. Best is trial 27 with value: 0.9194285714285714.\n",
      "[I 2024-02-08 15:18:59,758] Trial 28 finished with value: 0.909142857142857 and parameters: {'n_neighbors': 4}. Best is trial 27 with value: 0.9194285714285714.\n",
      "[I 2024-02-08 15:18:59,778] Trial 24 finished with value: 0.9194285714285714 and parameters: {'n_neighbors': 3}. Best is trial 27 with value: 0.9194285714285714.\n",
      "[I 2024-02-08 15:18:59,784] Trial 29 finished with value: 0.9102857142857144 and parameters: {'n_neighbors': 5}. Best is trial 27 with value: 0.9194285714285714.\n",
      "[I 2024-02-08 15:18:59,809] Trial 30 finished with value: 0.9194285714285714 and parameters: {'n_neighbors': 3}. Best is trial 27 with value: 0.9194285714285714.\n",
      "[I 2024-02-08 15:18:59,941] Trial 31 finished with value: 0.9194285714285714 and parameters: {'n_neighbors': 3}. Best is trial 27 with value: 0.9194285714285714.\n",
      "[I 2024-02-08 15:18:59,956] Trial 40 finished with value: 0.8982857142857144 and parameters: {'n_neighbors': 11}. Best is trial 27 with value: 0.9194285714285714.\n",
      "[I 2024-02-08 15:18:59,965] Trial 32 finished with value: 0.9194285714285714 and parameters: {'n_neighbors': 3}. Best is trial 27 with value: 0.9194285714285714.\n",
      "[I 2024-02-08 15:18:59,972] Trial 33 finished with value: 0.9194285714285714 and parameters: {'n_neighbors': 3}. Best is trial 27 with value: 0.9194285714285714.\n",
      "[I 2024-02-08 15:18:59,974] Trial 41 finished with value: 0.892 and parameters: {'n_neighbors': 13}. Best is trial 27 with value: 0.9194285714285714.\n",
      "[I 2024-02-08 15:18:59,990] Trial 34 finished with value: 0.8982857142857144 and parameters: {'n_neighbors': 11}. Best is trial 27 with value: 0.9194285714285714.\n",
      "[I 2024-02-08 15:19:00,001] Trial 35 finished with value: 0.8982857142857144 and parameters: {'n_neighbors': 11}. Best is trial 27 with value: 0.9194285714285714.\n",
      "[I 2024-02-08 15:19:00,004] Trial 42 finished with value: 0.8982857142857144 and parameters: {'n_neighbors': 10}. Best is trial 27 with value: 0.9194285714285714.\n",
      "[I 2024-02-08 15:19:00,008] Trial 36 finished with value: 0.892 and parameters: {'n_neighbors': 12}. Best is trial 27 with value: 0.9194285714285714.\n",
      "[I 2024-02-08 15:19:00,027] Trial 37 finished with value: 0.8982857142857144 and parameters: {'n_neighbors': 11}. Best is trial 27 with value: 0.9194285714285714.\n",
      "[I 2024-02-08 15:19:00,039] Trial 38 finished with value: 0.8982857142857144 and parameters: {'n_neighbors': 11}. Best is trial 27 with value: 0.9194285714285714.\n",
      "[I 2024-02-08 15:19:00,043] Trial 43 finished with value: 0.8982857142857144 and parameters: {'n_neighbors': 10}. Best is trial 27 with value: 0.9194285714285714.\n",
      "[I 2024-02-08 15:19:00,046] Trial 39 finished with value: 0.8982857142857144 and parameters: {'n_neighbors': 11}. Best is trial 27 with value: 0.9194285714285714.\n",
      "[I 2024-02-08 15:19:00,085] Trial 45 finished with value: 0.9040000000000001 and parameters: {'n_neighbors': 9}. Best is trial 27 with value: 0.9194285714285714.\n",
      "[I 2024-02-08 15:19:00,205] Trial 44 finished with value: 0.8982857142857144 and parameters: {'n_neighbors': 11}. Best is trial 27 with value: 0.9194285714285714.\n",
      "[I 2024-02-08 15:19:00,217] Trial 46 finished with value: 0.9040000000000001 and parameters: {'n_neighbors': 9}. Best is trial 27 with value: 0.9194285714285714.\n",
      "[I 2024-02-08 15:19:00,226] Trial 54 finished with value: 0.9051428571428571 and parameters: {'n_neighbors': 7}. Best is trial 27 with value: 0.9194285714285714.\n",
      "[I 2024-02-08 15:19:00,233] Trial 48 finished with value: 0.9040000000000001 and parameters: {'n_neighbors': 8}. Best is trial 27 with value: 0.9194285714285714.\n",
      "[I 2024-02-08 15:19:00,243] Trial 47 finished with value: 0.9040000000000001 and parameters: {'n_neighbors': 9}. Best is trial 27 with value: 0.9194285714285714.\n",
      "[I 2024-02-08 15:19:00,244] Trial 53 finished with value: 0.9051428571428571 and parameters: {'n_neighbors': 7}. Best is trial 27 with value: 0.9194285714285714.\n",
      "[I 2024-02-08 15:19:00,259] Trial 49 finished with value: 0.9040000000000001 and parameters: {'n_neighbors': 8}. Best is trial 27 with value: 0.9194285714285714.\n",
      "[I 2024-02-08 15:19:00,261] Trial 56 finished with value: 0.9040000000000001 and parameters: {'n_neighbors': 8}. Best is trial 27 with value: 0.9194285714285714.\n",
      "[I 2024-02-08 15:19:00,281] Trial 51 finished with value: 0.9040000000000001 and parameters: {'n_neighbors': 8}. Best is trial 27 with value: 0.9194285714285714.\n",
      "[I 2024-02-08 15:19:00,296] Trial 50 finished with value: 0.9040000000000001 and parameters: {'n_neighbors': 8}. Best is trial 27 with value: 0.9194285714285714.\n",
      "[I 2024-02-08 15:19:00,305] Trial 52 finished with value: 0.9051428571428571 and parameters: {'n_neighbors': 7}. Best is trial 27 with value: 0.9194285714285714.\n",
      "[I 2024-02-08 15:19:00,313] Trial 57 finished with value: 0.9051428571428571 and parameters: {'n_neighbors': 7}. Best is trial 27 with value: 0.9194285714285714.\n",
      "[I 2024-02-08 15:19:00,319] Trial 55 finished with value: 0.9051428571428571 and parameters: {'n_neighbors': 7}. Best is trial 27 with value: 0.9194285714285714.\n",
      "[I 2024-02-08 15:19:00,334] Trial 58 finished with value: 0.9051428571428571 and parameters: {'n_neighbors': 7}. Best is trial 27 with value: 0.9194285714285714.\n",
      "[I 2024-02-08 15:19:00,358] Trial 59 finished with value: 0.9051428571428571 and parameters: {'n_neighbors': 7}. Best is trial 27 with value: 0.9194285714285714.\n",
      "[I 2024-02-08 15:19:00,379] Trial 60 finished with value: 0.8765714285714286 and parameters: {'n_neighbors': 20}. Best is trial 27 with value: 0.9194285714285714.\n",
      "[I 2024-02-08 15:19:00,400] Trial 61 finished with value: 0.9062857142857143 and parameters: {'n_neighbors': 6}. Best is trial 27 with value: 0.9194285714285714.\n",
      "[I 2024-02-08 15:19:00,414] Trial 62 finished with value: 0.9062857142857143 and parameters: {'n_neighbors': 6}. Best is trial 27 with value: 0.9194285714285714.\n",
      "[I 2024-02-08 15:19:00,424] Trial 63 finished with value: 0.9062857142857143 and parameters: {'n_neighbors': 6}. Best is trial 27 with value: 0.9194285714285714.\n",
      "[I 2024-02-08 15:19:00,453] Trial 64 finished with value: 0.9062857142857143 and parameters: {'n_neighbors': 6}. Best is trial 27 with value: 0.9194285714285714.\n",
      "[I 2024-02-08 15:19:00,467] Trial 65 finished with value: 0.876 and parameters: {'n_neighbors': 21}. Best is trial 27 with value: 0.9194285714285714.\n",
      "[I 2024-02-08 15:19:00,491] Trial 66 finished with value: 0.9102857142857144 and parameters: {'n_neighbors': 5}. Best is trial 27 with value: 0.9194285714285714.\n",
      "[I 2024-02-08 15:19:00,522] Trial 67 finished with value: 0.9102857142857144 and parameters: {'n_neighbors': 5}. Best is trial 27 with value: 0.9194285714285714.\n",
      "[I 2024-02-08 15:19:00,536] Trial 69 finished with value: 0.8697142857142858 and parameters: {'n_neighbors': 22}. Best is trial 27 with value: 0.9194285714285714.\n",
      "[I 2024-02-08 15:19:00,547] Trial 70 finished with value: 0.9102857142857144 and parameters: {'n_neighbors': 5}. Best is trial 27 with value: 0.9194285714285714.\n",
      "[I 2024-02-08 15:19:00,568] Trial 71 finished with value: 0.876 and parameters: {'n_neighbors': 21}. Best is trial 27 with value: 0.9194285714285714.\n",
      "[I 2024-02-08 15:19:00,579] Trial 72 finished with value: 0.9102857142857144 and parameters: {'n_neighbors': 5}. Best is trial 27 with value: 0.9194285714285714.\n",
      "[I 2024-02-08 15:19:00,599] Trial 73 finished with value: 0.9194285714285714 and parameters: {'n_neighbors': 3}. Best is trial 27 with value: 0.9194285714285714.\n",
      "[I 2024-02-08 15:19:00,611] Trial 74 finished with value: 0.9194285714285714 and parameters: {'n_neighbors': 3}. Best is trial 27 with value: 0.9194285714285714.\n",
      "[I 2024-02-08 15:19:00,619] Trial 68 finished with value: 0.8697142857142858 and parameters: {'n_neighbors': 22}. Best is trial 27 with value: 0.9194285714285714.\n",
      "[I 2024-02-08 15:19:00,636] Trial 75 finished with value: 0.9194285714285714 and parameters: {'n_neighbors': 3}. Best is trial 27 with value: 0.9194285714285714.\n",
      "[I 2024-02-08 15:19:00,714] Trial 80 finished with value: 0.9194285714285714 and parameters: {'n_neighbors': 3}. Best is trial 27 with value: 0.9194285714285714.\n",
      "[I 2024-02-08 15:19:00,718] Trial 81 finished with value: 0.9194285714285714 and parameters: {'n_neighbors': 3}. Best is trial 27 with value: 0.9194285714285714.\n",
      "[I 2024-02-08 15:19:00,760] Trial 76 finished with value: 0.9194285714285714 and parameters: {'n_neighbors': 3}. Best is trial 27 with value: 0.9194285714285714.\n",
      "[I 2024-02-08 15:19:00,774] Trial 84 finished with value: 0.9194285714285714 and parameters: {'n_neighbors': 3}. Best is trial 27 with value: 0.9194285714285714.\n",
      "[I 2024-02-08 15:19:00,783] Trial 77 finished with value: 0.9194285714285714 and parameters: {'n_neighbors': 3}. Best is trial 27 with value: 0.9194285714285714.\n",
      "[I 2024-02-08 15:19:00,794] Trial 78 finished with value: 0.9194285714285714 and parameters: {'n_neighbors': 3}. Best is trial 27 with value: 0.9194285714285714.\n",
      "[I 2024-02-08 15:19:00,801] Trial 79 finished with value: 0.9194285714285714 and parameters: {'n_neighbors': 3}. Best is trial 27 with value: 0.9194285714285714.\n",
      "[I 2024-02-08 15:19:00,804] Trial 86 finished with value: 0.9194285714285714 and parameters: {'n_neighbors': 3}. Best is trial 27 with value: 0.9194285714285714.\n",
      "[I 2024-02-08 15:19:00,838] Trial 87 finished with value: 0.8845714285714286 and parameters: {'n_neighbors': 16}. Best is trial 27 with value: 0.9194285714285714.\n",
      "[I 2024-02-08 15:19:00,847] Trial 82 finished with value: 0.9194285714285714 and parameters: {'n_neighbors': 3}. Best is trial 27 with value: 0.9194285714285714.\n",
      "[I 2024-02-08 15:19:00,859] Trial 83 finished with value: 0.9194285714285714 and parameters: {'n_neighbors': 3}. Best is trial 27 with value: 0.9194285714285714.\n",
      "[I 2024-02-08 15:19:00,884] Trial 85 finished with value: 0.9194285714285714 and parameters: {'n_neighbors': 3}. Best is trial 27 with value: 0.9194285714285714.\n",
      "[I 2024-02-08 15:19:00,889] Trial 88 finished with value: 0.8845714285714286 and parameters: {'n_neighbors': 16}. Best is trial 27 with value: 0.9194285714285714.\n",
      "[I 2024-02-08 15:19:00,919] Trial 93 finished with value: 0.8874285714285716 and parameters: {'n_neighbors': 14}. Best is trial 27 with value: 0.9194285714285714.\n",
      "[I 2024-02-08 15:19:00,967] Trial 89 finished with value: 0.8874285714285716 and parameters: {'n_neighbors': 14}. Best is trial 27 with value: 0.9194285714285714.\n",
      "[I 2024-02-08 15:19:01,002] Trial 90 finished with value: 0.8885714285714286 and parameters: {'n_neighbors': 15}. Best is trial 27 with value: 0.9194285714285714.\n",
      "[I 2024-02-08 15:19:01,043] Trial 91 finished with value: 0.8434285714285714 and parameters: {'n_neighbors': 35}. Best is trial 27 with value: 0.9194285714285714.\n",
      "[I 2024-02-08 15:19:01,080] Trial 95 finished with value: 0.8845714285714286 and parameters: {'n_neighbors': 16}. Best is trial 27 with value: 0.9194285714285714.\n",
      "[I 2024-02-08 15:19:01,081] Trial 92 finished with value: 0.8417142857142859 and parameters: {'n_neighbors': 34}. Best is trial 27 with value: 0.9194285714285714.\n",
      "[I 2024-02-08 15:19:01,090] Trial 94 finished with value: 0.892 and parameters: {'n_neighbors': 13}. Best is trial 27 with value: 0.9194285714285714.\n",
      "[I 2024-02-08 15:19:01,100] Trial 96 finished with value: 0.8474285714285713 and parameters: {'n_neighbors': 32}. Best is trial 27 with value: 0.9194285714285714.\n",
      "[I 2024-02-08 15:19:01,113] Trial 97 finished with value: 0.9102857142857144 and parameters: {'n_neighbors': 5}. Best is trial 27 with value: 0.9194285714285714.\n",
      "[I 2024-02-08 15:19:01,144] Trial 98 finished with value: 0.8428571428571429 and parameters: {'n_neighbors': 37}. Best is trial 27 with value: 0.9194285714285714.\n",
      "[I 2024-02-08 15:19:01,150] Trial 99 finished with value: 0.8474285714285713 and parameters: {'n_neighbors': 32}. Best is trial 27 with value: 0.9194285714285714.\n"
     ]
    },
    {
     "name": "stdout",
     "output_type": "stream",
     "text": [
      "FrozenTrial(number=27, state=1, values=[0.9194285714285714], datetime_start=datetime.datetime(2024, 2, 8, 15, 18, 59, 602355), datetime_complete=datetime.datetime(2024, 2, 8, 15, 18, 59, 722642), params={'n_neighbors': 3}, user_attrs={}, system_attrs={}, intermediate_values={}, distributions={'n_neighbors': IntDistribution(high=49, log=False, low=3, step=1)}, trial_id=27, value=None)\n"
     ]
    }
   ],
   "source": [
    "knn_pca_result = optimize_hyperparameters('knn', X_pca_train, y_train, n_trials=100)\n",
    "print(knn_pca_result)"
   ]
  },
  {
   "cell_type": "code",
   "execution_count": 19,
   "metadata": {},
   "outputs": [
    {
     "data": {
      "text/plain": [
       "{'n_neighbors': 3}"
      ]
     },
     "execution_count": 19,
     "metadata": {},
     "output_type": "execute_result"
    }
   ],
   "source": [
    "knn_pca_result.params"
   ]
  },
  {
   "cell_type": "code",
   "execution_count": 20,
   "metadata": {},
   "outputs": [
    {
     "data": {
      "text/plain": [
       "0.9194285714285714"
      ]
     },
     "execution_count": 20,
     "metadata": {},
     "output_type": "execute_result"
    }
   ],
   "source": [
    "knn_pca_result.value"
   ]
  },
  {
   "cell_type": "code",
   "execution_count": 21,
   "metadata": {},
   "outputs": [
    {
     "data": {
      "text/plain": [
       "0.910958904109589"
      ]
     },
     "execution_count": 21,
     "metadata": {},
     "output_type": "execute_result"
    }
   ],
   "source": [
    "best_knn_model_pca = KNeighborsClassifier(n_jobs=-1, **knn_pca_result.params)\n",
    "best_knn_model_pca.fit(X_pca_train, y_train)\n",
    "best_knn_model_pca.score(X_pca_test, y_test)"
   ]
  },
  {
   "cell_type": "markdown",
   "metadata": {},
   "source": [
    "### Decision Tree"
   ]
  },
  {
   "cell_type": "markdown",
   "metadata": {},
   "source": [
    "#### Full images (too slow - not worth)"
   ]
  },
  {
   "cell_type": "code",
   "execution_count": null,
   "metadata": {},
   "outputs": [],
   "source": [
    "decision_tree_result = optimize_hyperparameters('decision_tree', X_train, y_train, n_trials=100)\n",
    "print(decision_tree_result)"
   ]
  },
  {
   "cell_type": "code",
   "execution_count": null,
   "metadata": {},
   "outputs": [],
   "source": [
    "decision_tree_result.params"
   ]
  },
  {
   "cell_type": "code",
   "execution_count": null,
   "metadata": {},
   "outputs": [],
   "source": [
    "decision_tree_result.value"
   ]
  },
  {
   "cell_type": "code",
   "execution_count": null,
   "metadata": {},
   "outputs": [],
   "source": [
    "best_decision_tree_model = DecisionTreeClassifier(**decision_tree_result.params)\n",
    "best_decision_tree_model.fit(X_train, y_train)\n",
    "best_decision_tree_model.score(X_test, y_test)"
   ]
  },
  {
   "cell_type": "markdown",
   "metadata": {},
   "source": [
    "#### Scaled images"
   ]
  },
  {
   "cell_type": "code",
   "execution_count": 14,
   "metadata": {},
   "outputs": [
    {
     "name": "stderr",
     "output_type": "stream",
     "text": [
      "[I 2024-02-08 18:47:54,199] A new study created in memory with name: no-name-394ee3d6-df38-4b81-b2b9-58616f7f8417\n",
      "[I 2024-02-08 18:48:05,177] Trial 1 finished with value: 0.7702857142857144 and parameters: {'max_depth': 4, 'min_samples_split': 2, 'min_samples_leaf': 4, 'max_leaf_nodes': 14}. Best is trial 1 with value: 0.7702857142857144.\n",
      "[I 2024-02-08 18:48:12,524] Trial 0 finished with value: 0.6531428571428571 and parameters: {'max_depth': 22, 'min_samples_split': 7, 'min_samples_leaf': 11, 'max_leaf_nodes': 4}. Best is trial 1 with value: 0.7702857142857144.\n",
      "[I 2024-02-08 18:48:24,661] Trial 7 finished with value: 0.7971428571428572 and parameters: {'max_depth': 8, 'min_samples_split': 40, 'min_samples_leaf': 3, 'max_leaf_nodes': 13}. Best is trial 7 with value: 0.7971428571428572.\n",
      "[I 2024-02-08 18:48:32,595] Trial 4 finished with value: 0.692 and parameters: {'max_depth': 24, 'min_samples_split': 25, 'min_samples_leaf': 3, 'max_leaf_nodes': 6}. Best is trial 7 with value: 0.7971428571428572.\n",
      "[I 2024-02-08 18:48:45,273] Trial 5 finished with value: 0.829142857142857 and parameters: {'max_depth': 11, 'min_samples_split': 15, 'min_samples_leaf': 8, 'max_leaf_nodes': 29}. Best is trial 5 with value: 0.829142857142857.\n",
      "[I 2024-02-08 18:48:47,620] Trial 3 finished with value: 0.6131428571428572 and parameters: {'max_depth': 29, 'min_samples_split': 20, 'min_samples_leaf': 19, 'max_leaf_nodes': 3}. Best is trial 5 with value: 0.829142857142857.\n",
      "[I 2024-02-08 18:48:59,390] Trial 2 finished with value: 0.8097142857142858 and parameters: {'max_depth': 19, 'min_samples_split': 39, 'min_samples_leaf': 18, 'max_leaf_nodes': 23}. Best is trial 5 with value: 0.829142857142857.\n",
      "[I 2024-02-08 18:49:04,899] Trial 9 finished with value: 0.6131428571428572 and parameters: {'max_depth': 19, 'min_samples_split': 39, 'min_samples_leaf': 18, 'max_leaf_nodes': 3}. Best is trial 5 with value: 0.829142857142857.\n",
      "[I 2024-02-08 18:49:15,656] Trial 8 finished with value: 0.7937142857142858 and parameters: {'max_depth': 15, 'min_samples_split': 8, 'min_samples_leaf': 14, 'max_leaf_nodes': 12}. Best is trial 5 with value: 0.829142857142857.\n",
      "[I 2024-02-08 18:49:26,476] Trial 6 finished with value: 0.8085714285714285 and parameters: {'max_depth': 7, 'min_samples_split': 38, 'min_samples_leaf': 8, 'max_leaf_nodes': 17}. Best is trial 5 with value: 0.829142857142857.\n",
      "[I 2024-02-08 18:49:38,104] Trial 10 finished with value: 0.8257142857142856 and parameters: {'max_depth': 27, 'min_samples_split': 40, 'min_samples_leaf': 3, 'max_leaf_nodes': 26}. Best is trial 5 with value: 0.829142857142857.\n",
      "[I 2024-02-08 18:49:49,987] Trial 11 finished with value: 0.813142857142857 and parameters: {'max_depth': 17, 'min_samples_split': 8, 'min_samples_leaf': 1, 'max_leaf_nodes': 17}. Best is trial 5 with value: 0.829142857142857.\n",
      "[I 2024-02-08 18:50:03,134] Trial 12 finished with value: 0.8240000000000001 and parameters: {'max_depth': 22, 'min_samples_split': 33, 'min_samples_leaf': 8, 'max_leaf_nodes': 23}. Best is trial 5 with value: 0.829142857142857.\n",
      "[I 2024-02-08 18:50:08,031] Trial 13 finished with value: 0.692 and parameters: {'max_depth': 13, 'min_samples_split': 36, 'min_samples_leaf': 5, 'max_leaf_nodes': 6}. Best is trial 5 with value: 0.829142857142857.\n",
      "[I 2024-02-08 18:50:20,404] Trial 14 finished with value: 0.8194285714285714 and parameters: {'max_depth': 9, 'min_samples_split': 38, 'min_samples_leaf': 4, 'max_leaf_nodes': 21}. Best is trial 5 with value: 0.829142857142857.\n",
      "[I 2024-02-08 18:50:27,027] Trial 15 finished with value: 0.7634285714285716 and parameters: {'max_depth': 4, 'min_samples_split': 6, 'min_samples_leaf': 15, 'max_leaf_nodes': 19}. Best is trial 5 with value: 0.829142857142857.\n",
      "[I 2024-02-08 18:50:35,709] Trial 16 finished with value: 0.7497142857142858 and parameters: {'max_depth': 20, 'min_samples_split': 3, 'min_samples_leaf': 16, 'max_leaf_nodes': 9}. Best is trial 5 with value: 0.829142857142857.\n",
      "[I 2024-02-08 18:50:44,563] Trial 17 finished with value: 0.724 and parameters: {'max_depth': 21, 'min_samples_split': 11, 'min_samples_leaf': 15, 'max_leaf_nodes': 8}. Best is trial 5 with value: 0.829142857142857.\n",
      "[I 2024-02-08 18:50:58,172] Trial 18 finished with value: 0.8348571428571429 and parameters: {'max_depth': 11, 'min_samples_split': 16, 'min_samples_leaf': 5, 'max_leaf_nodes': 30}. Best is trial 18 with value: 0.8348571428571429.\n",
      "[I 2024-02-08 18:51:09,087] Trial 19 finished with value: 0.8194285714285714 and parameters: {'max_depth': 10, 'min_samples_split': 20, 'min_samples_leaf': 15, 'max_leaf_nodes': 24}. Best is trial 18 with value: 0.8348571428571429.\n",
      "[I 2024-02-08 18:51:20,549] Trial 20 finished with value: 0.8194285714285714 and parameters: {'max_depth': 15, 'min_samples_split': 7, 'min_samples_leaf': 11, 'max_leaf_nodes': 20}. Best is trial 18 with value: 0.8348571428571429.\n",
      "[I 2024-02-08 18:51:31,500] Trial 21 finished with value: 0.8285714285714286 and parameters: {'max_depth': 11, 'min_samples_split': 19, 'min_samples_leaf': 8, 'max_leaf_nodes': 30}. Best is trial 18 with value: 0.8348571428571429.\n",
      "[I 2024-02-08 18:51:44,140] Trial 22 finished with value: 0.8342857142857143 and parameters: {'max_depth': 12, 'min_samples_split': 20, 'min_samples_leaf': 7, 'max_leaf_nodes': 28}. Best is trial 18 with value: 0.8348571428571429.\n",
      "[I 2024-02-08 18:51:55,152] Trial 23 finished with value: 0.8371428571428572 and parameters: {'max_depth': 12, 'min_samples_split': 19, 'min_samples_leaf': 7, 'max_leaf_nodes': 30}. Best is trial 23 with value: 0.8371428571428572.\n",
      "[I 2024-02-08 18:52:07,498] Trial 24 finished with value: 0.8337142857142856 and parameters: {'max_depth': 12, 'min_samples_split': 18, 'min_samples_leaf': 6, 'max_leaf_nodes': 30}. Best is trial 23 with value: 0.8371428571428572.\n",
      "[I 2024-02-08 18:52:20,346] Trial 25 finished with value: 0.8377142857142857 and parameters: {'max_depth': 30, 'min_samples_split': 19, 'min_samples_leaf': 7, 'max_leaf_nodes': 30}. Best is trial 25 with value: 0.8377142857142857.\n",
      "[I 2024-02-08 18:52:31,220] Trial 26 finished with value: 0.8297142857142857 and parameters: {'max_depth': 30, 'min_samples_split': 18, 'min_samples_leaf': 8, 'max_leaf_nodes': 30}. Best is trial 25 with value: 0.8377142857142857.\n",
      "[I 2024-02-08 18:52:43,568] Trial 27 finished with value: 0.8325714285714285 and parameters: {'max_depth': 30, 'min_samples_split': 16, 'min_samples_leaf': 7, 'max_leaf_nodes': 29}. Best is trial 25 with value: 0.8377142857142857.\n",
      "[I 2024-02-08 18:52:55,897] Trial 28 finished with value: 0.8337142857142859 and parameters: {'max_depth': 28, 'min_samples_split': 15, 'min_samples_leaf': 8, 'max_leaf_nodes': 30}. Best is trial 25 with value: 0.8377142857142857.\n",
      "[I 2024-02-08 18:53:07,154] Trial 29 finished with value: 0.8337142857142859 and parameters: {'max_depth': 29, 'min_samples_split': 16, 'min_samples_leaf': 7, 'max_leaf_nodes': 30}. Best is trial 25 with value: 0.8377142857142857.\n",
      "[I 2024-02-08 18:53:19,507] Trial 30 finished with value: 0.8337142857142856 and parameters: {'max_depth': 11, 'min_samples_split': 17, 'min_samples_leaf': 7, 'max_leaf_nodes': 30}. Best is trial 25 with value: 0.8377142857142857.\n",
      "[I 2024-02-08 18:53:31,636] Trial 31 finished with value: 0.8308571428571427 and parameters: {'max_depth': 12, 'min_samples_split': 15, 'min_samples_leaf': 8, 'max_leaf_nodes': 30}. Best is trial 25 with value: 0.8377142857142857.\n",
      "[I 2024-02-08 18:53:43,426] Trial 32 finished with value: 0.8337142857142859 and parameters: {'max_depth': 30, 'min_samples_split': 16, 'min_samples_leaf': 7, 'max_leaf_nodes': 30}. Best is trial 25 with value: 0.8377142857142857.\n",
      "[I 2024-02-08 18:53:55,663] Trial 33 finished with value: 0.836 and parameters: {'max_depth': 12, 'min_samples_split': 15, 'min_samples_leaf': 7, 'max_leaf_nodes': 29}. Best is trial 25 with value: 0.8377142857142857.\n",
      "[I 2024-02-08 18:54:07,841] Trial 34 finished with value: 0.8348571428571427 and parameters: {'max_depth': 12, 'min_samples_split': 16, 'min_samples_leaf': 6, 'max_leaf_nodes': 30}. Best is trial 25 with value: 0.8377142857142857.\n",
      "[I 2024-02-08 18:54:18,402] Trial 35 finished with value: 0.8302857142857144 and parameters: {'max_depth': 13, 'min_samples_split': 24, 'min_samples_leaf': 6, 'max_leaf_nodes': 27}. Best is trial 25 with value: 0.8377142857142857.\n",
      "[I 2024-02-08 18:54:29,985] Trial 36 finished with value: 0.8285714285714286 and parameters: {'max_depth': 7, 'min_samples_split': 25, 'min_samples_leaf': 6, 'max_leaf_nodes': 26}. Best is trial 25 with value: 0.8377142857142857.\n",
      "[I 2024-02-08 18:54:41,738] Trial 37 finished with value: 0.7982857142857144 and parameters: {'max_depth': 6, 'min_samples_split': 26, 'min_samples_leaf': 10, 'max_leaf_nodes': 27}. Best is trial 25 with value: 0.8377142857142857.\n",
      "[I 2024-02-08 18:54:50,648] Trial 38 finished with value: 0.7994285714285715 and parameters: {'max_depth': 6, 'min_samples_split': 26, 'min_samples_leaf': 10, 'max_leaf_nodes': 27}. Best is trial 25 with value: 0.8377142857142857.\n",
      "[I 2024-02-08 18:55:02,325] Trial 39 finished with value: 0.796 and parameters: {'max_depth': 6, 'min_samples_split': 25, 'min_samples_leaf': 10, 'max_leaf_nodes': 26}. Best is trial 25 with value: 0.8377142857142857.\n",
      "[I 2024-02-08 18:55:13,000] Trial 40 finished with value: 0.7977142857142857 and parameters: {'max_depth': 6, 'min_samples_split': 25, 'min_samples_leaf': 10, 'max_leaf_nodes': 26}. Best is trial 25 with value: 0.8377142857142857.\n",
      "[I 2024-02-08 18:55:24,063] Trial 41 finished with value: 0.8188571428571428 and parameters: {'max_depth': 25, 'min_samples_split': 25, 'min_samples_leaf': 10, 'max_leaf_nodes': 26}. Best is trial 25 with value: 0.8377142857142857.\n",
      "[I 2024-02-08 18:55:36,169] Trial 42 finished with value: 0.8228571428571427 and parameters: {'max_depth': 14, 'min_samples_split': 24, 'min_samples_leaf': 10, 'max_leaf_nodes': 27}. Best is trial 25 with value: 0.8377142857142857.\n",
      "[I 2024-02-08 18:55:47,573] Trial 43 finished with value: 0.7971428571428572 and parameters: {'max_depth': 6, 'min_samples_split': 24, 'min_samples_leaf': 10, 'max_leaf_nodes': 27}. Best is trial 25 with value: 0.8377142857142857.\n",
      "[I 2024-02-08 18:55:58,414] Trial 44 finished with value: 0.8154285714285715 and parameters: {'max_depth': 7, 'min_samples_split': 25, 'min_samples_leaf': 10, 'max_leaf_nodes': 27}. Best is trial 25 with value: 0.8377142857142857.\n",
      "[I 2024-02-08 18:56:10,115] Trial 45 finished with value: 0.7994285714285713 and parameters: {'max_depth': 6, 'min_samples_split': 24, 'min_samples_leaf': 10, 'max_leaf_nodes': 26}. Best is trial 25 with value: 0.8377142857142857.\n",
      "[I 2024-02-08 18:56:21,194] Trial 46 finished with value: 0.7977142857142857 and parameters: {'max_depth': 6, 'min_samples_split': 24, 'min_samples_leaf': 10, 'max_leaf_nodes': 27}. Best is trial 25 with value: 0.8377142857142857.\n",
      "[I 2024-02-08 18:56:29,980] Trial 47 finished with value: 0.7931428571428571 and parameters: {'max_depth': 5, 'min_samples_split': 23, 'min_samples_leaf': 10, 'max_leaf_nodes': 25}. Best is trial 25 with value: 0.8377142857142857.\n",
      "[I 2024-02-08 18:56:36,278] Trial 48 finished with value: 0.728 and parameters: {'max_depth': 3, 'min_samples_split': 11, 'min_samples_leaf': 10, 'max_leaf_nodes': 26}. Best is trial 25 with value: 0.8377142857142857.\n",
      "[I 2024-02-08 18:56:47,952] Trial 49 finished with value: 0.8222857142857143 and parameters: {'max_depth': 25, 'min_samples_split': 11, 'min_samples_leaf': 10, 'max_leaf_nodes': 25}. Best is trial 25 with value: 0.8377142857142857.\n",
      "[I 2024-02-08 18:56:58,008] Trial 50 finished with value: 0.8285714285714286 and parameters: {'max_depth': 24, 'min_samples_split': 11, 'min_samples_leaf': 12, 'max_leaf_nodes': 23}. Best is trial 25 with value: 0.8377142857142857.\n",
      "[I 2024-02-08 18:57:10,921] Trial 51 finished with value: 0.8314285714285713 and parameters: {'max_depth': 17, 'min_samples_split': 12, 'min_samples_leaf': 1, 'max_leaf_nodes': 24}. Best is trial 25 with value: 0.8377142857142857.\n",
      "[I 2024-02-08 18:57:23,225] Trial 52 finished with value: 0.829142857142857 and parameters: {'max_depth': 15, 'min_samples_split': 12, 'min_samples_leaf': 12, 'max_leaf_nodes': 24}. Best is trial 25 with value: 0.8377142857142857.\n",
      "[I 2024-02-08 18:57:36,757] Trial 53 finished with value: 0.8314285714285713 and parameters: {'max_depth': 16, 'min_samples_split': 12, 'min_samples_leaf': 1, 'max_leaf_nodes': 24}. Best is trial 25 with value: 0.8377142857142857.\n",
      "[I 2024-02-08 18:57:45,161] Trial 54 finished with value: 0.830857142857143 and parameters: {'max_depth': 17, 'min_samples_split': 13, 'min_samples_leaf': 1, 'max_leaf_nodes': 24}. Best is trial 25 with value: 0.8377142857142857.\n",
      "[I 2024-02-08 18:57:56,775] Trial 55 finished with value: 0.8245714285714285 and parameters: {'max_depth': 17, 'min_samples_split': 13, 'min_samples_leaf': 2, 'max_leaf_nodes': 23}. Best is trial 25 with value: 0.8377142857142857.\n",
      "[I 2024-02-08 18:58:08,000] Trial 56 finished with value: 0.8320000000000001 and parameters: {'max_depth': 18, 'min_samples_split': 13, 'min_samples_leaf': 1, 'max_leaf_nodes': 24}. Best is trial 25 with value: 0.8377142857142857.\n",
      "[I 2024-02-08 18:58:21,759] Trial 57 finished with value: 0.8354285714285714 and parameters: {'max_depth': 17, 'min_samples_split': 12, 'min_samples_leaf': 2, 'max_leaf_nodes': 28}. Best is trial 25 with value: 0.8377142857142857.\n",
      "[I 2024-02-08 18:58:34,902] Trial 58 finished with value: 0.8285714285714285 and parameters: {'max_depth': 16, 'min_samples_split': 12, 'min_samples_leaf': 1, 'max_leaf_nodes': 24}. Best is trial 25 with value: 0.8377142857142857.\n",
      "[I 2024-02-08 18:58:47,957] Trial 59 finished with value: 0.8268571428571428 and parameters: {'max_depth': 16, 'min_samples_split': 12, 'min_samples_leaf': 2, 'max_leaf_nodes': 23}. Best is trial 25 with value: 0.8377142857142857.\n",
      "[I 2024-02-08 18:58:56,403] Trial 60 finished with value: 0.8268571428571428 and parameters: {'max_depth': 17, 'min_samples_split': 12, 'min_samples_leaf': 1, 'max_leaf_nodes': 23}. Best is trial 25 with value: 0.8377142857142857.\n",
      "[I 2024-02-08 18:59:08,165] Trial 61 finished with value: 0.8211428571428572 and parameters: {'max_depth': 17, 'min_samples_split': 12, 'min_samples_leaf': 2, 'max_leaf_nodes': 22}. Best is trial 25 with value: 0.8377142857142857.\n",
      "[I 2024-02-08 18:59:18,594] Trial 62 finished with value: 0.8297142857142857 and parameters: {'max_depth': 17, 'min_samples_split': 13, 'min_samples_leaf': 4, 'max_leaf_nodes': 28}. Best is trial 25 with value: 0.8377142857142857.\n",
      "[I 2024-02-08 18:59:31,857] Trial 63 finished with value: 0.8325714285714285 and parameters: {'max_depth': 9, 'min_samples_split': 21, 'min_samples_leaf': 4, 'max_leaf_nodes': 28}. Best is trial 25 with value: 0.8377142857142857.\n",
      "[I 2024-02-08 18:59:45,988] Trial 64 finished with value: 0.8320000000000001 and parameters: {'max_depth': 10, 'min_samples_split': 21, 'min_samples_leaf': 4, 'max_leaf_nodes': 28}. Best is trial 25 with value: 0.8377142857142857.\n",
      "[I 2024-02-08 19:00:00,217] Trial 65 finished with value: 0.8319999999999999 and parameters: {'max_depth': 9, 'min_samples_split': 21, 'min_samples_leaf': 4, 'max_leaf_nodes': 28}. Best is trial 25 with value: 0.8377142857142857.\n",
      "[I 2024-02-08 19:00:08,274] Trial 66 finished with value: 0.8331428571428573 and parameters: {'max_depth': 9, 'min_samples_split': 21, 'min_samples_leaf': 4, 'max_leaf_nodes': 28}. Best is trial 25 with value: 0.8377142857142857.\n",
      "[I 2024-02-08 19:00:21,368] Trial 67 finished with value: 0.8348571428571429 and parameters: {'max_depth': 9, 'min_samples_split': 22, 'min_samples_leaf': 4, 'max_leaf_nodes': 28}. Best is trial 25 with value: 0.8377142857142857.\n",
      "[I 2024-02-08 19:00:31,042] Trial 68 finished with value: 0.8325714285714285 and parameters: {'max_depth': 10, 'min_samples_split': 21, 'min_samples_leaf': 4, 'max_leaf_nodes': 28}. Best is trial 25 with value: 0.8377142857142857.\n",
      "[I 2024-02-08 19:00:42,873] Trial 69 finished with value: 0.8108571428571428 and parameters: {'max_depth': 9, 'min_samples_split': 9, 'min_samples_leaf': 4, 'max_leaf_nodes': 15}. Best is trial 25 with value: 0.8377142857142857.\n",
      "[I 2024-02-08 19:00:56,563] Trial 70 finished with value: 0.8331428571428573 and parameters: {'max_depth': 9, 'min_samples_split': 21, 'min_samples_leaf': 4, 'max_leaf_nodes': 28}. Best is trial 25 with value: 0.8377142857142857.\n",
      "[I 2024-02-08 19:01:09,358] Trial 71 finished with value: 0.8308571428571427 and parameters: {'max_depth': 9, 'min_samples_split': 22, 'min_samples_leaf': 4, 'max_leaf_nodes': 29}. Best is trial 25 with value: 0.8377142857142857.\n",
      "[I 2024-02-08 19:01:19,908] Trial 72 finished with value: 0.8337142857142859 and parameters: {'max_depth': 9, 'min_samples_split': 22, 'min_samples_leaf': 4, 'max_leaf_nodes': 28}. Best is trial 25 with value: 0.8377142857142857.\n",
      "[I 2024-02-08 19:01:33,046] Trial 73 finished with value: 0.8297142857142857 and parameters: {'max_depth': 10, 'min_samples_split': 21, 'min_samples_leaf': 4, 'max_leaf_nodes': 28}. Best is trial 25 with value: 0.8377142857142857.\n",
      "[I 2024-02-08 19:01:44,668] Trial 74 finished with value: 0.8320000000000001 and parameters: {'max_depth': 9, 'min_samples_split': 21, 'min_samples_leaf': 5, 'max_leaf_nodes': 29}. Best is trial 25 with value: 0.8377142857142857.\n",
      "[I 2024-02-08 19:01:56,296] Trial 75 finished with value: 0.8320000000000001 and parameters: {'max_depth': 10, 'min_samples_split': 21, 'min_samples_leaf': 5, 'max_leaf_nodes': 29}. Best is trial 25 with value: 0.8377142857142857.\n",
      "[I 2024-02-08 19:02:09,081] Trial 76 finished with value: 0.830857142857143 and parameters: {'max_depth': 12, 'min_samples_split': 19, 'min_samples_leaf': 5, 'max_leaf_nodes': 29}. Best is trial 25 with value: 0.8377142857142857.\n",
      "[I 2024-02-08 19:02:19,456] Trial 77 finished with value: 0.8114285714285714 and parameters: {'max_depth': 13, 'min_samples_split': 19, 'min_samples_leaf': 5, 'max_leaf_nodes': 15}. Best is trial 25 with value: 0.8377142857142857.\n",
      "[I 2024-02-08 19:02:31,650] Trial 78 finished with value: 0.8314285714285715 and parameters: {'max_depth': 13, 'min_samples_split': 19, 'min_samples_leaf': 5, 'max_leaf_nodes': 29}. Best is trial 25 with value: 0.8377142857142857.\n",
      "[I 2024-02-08 19:02:43,452] Trial 79 finished with value: 0.8297142857142857 and parameters: {'max_depth': 13, 'min_samples_split': 30, 'min_samples_leaf': 5, 'max_leaf_nodes': 29}. Best is trial 25 with value: 0.8377142857142857.\n",
      "[I 2024-02-08 19:02:55,015] Trial 80 finished with value: 0.8365714285714286 and parameters: {'max_depth': 13, 'min_samples_split': 18, 'min_samples_leaf': 5, 'max_leaf_nodes': 29}. Best is trial 25 with value: 0.8377142857142857.\n",
      "[I 2024-02-08 19:03:08,277] Trial 81 finished with value: 0.8325714285714285 and parameters: {'max_depth': 13, 'min_samples_split': 29, 'min_samples_leaf': 5, 'max_leaf_nodes': 29}. Best is trial 25 with value: 0.8377142857142857.\n",
      "[I 2024-02-08 19:03:22,539] Trial 82 finished with value: 0.8365714285714286 and parameters: {'max_depth': 13, 'min_samples_split': 19, 'min_samples_leaf': 5, 'max_leaf_nodes': 29}. Best is trial 25 with value: 0.8377142857142857.\n",
      "[I 2024-02-08 19:03:32,137] Trial 83 finished with value: 0.8314285714285715 and parameters: {'max_depth': 13, 'min_samples_split': 19, 'min_samples_leaf': 5, 'max_leaf_nodes': 29}. Best is trial 25 with value: 0.8377142857142857.\n",
      "[I 2024-02-08 19:03:43,903] Trial 84 finished with value: 0.8365714285714285 and parameters: {'max_depth': 13, 'min_samples_split': 19, 'min_samples_leaf': 5, 'max_leaf_nodes': 29}. Best is trial 25 with value: 0.8377142857142857.\n",
      "[I 2024-02-08 19:03:55,896] Trial 85 finished with value: 0.8348571428571429 and parameters: {'max_depth': 13, 'min_samples_split': 19, 'min_samples_leaf': 5, 'max_leaf_nodes': 29}. Best is trial 25 with value: 0.8377142857142857.\n",
      "[I 2024-02-08 19:04:08,190] Trial 86 finished with value: 0.8337142857142859 and parameters: {'max_depth': 12, 'min_samples_split': 19, 'min_samples_leaf': 5, 'max_leaf_nodes': 29}. Best is trial 25 with value: 0.8377142857142857.\n",
      "[I 2024-02-08 19:04:21,526] Trial 87 finished with value: 0.8325714285714285 and parameters: {'max_depth': 12, 'min_samples_split': 19, 'min_samples_leaf': 6, 'max_leaf_nodes': 30}. Best is trial 25 with value: 0.8377142857142857.\n",
      "[I 2024-02-08 19:04:35,199] Trial 88 finished with value: 0.8325714285714285 and parameters: {'max_depth': 13, 'min_samples_split': 17, 'min_samples_leaf': 6, 'max_leaf_nodes': 30}. Best is trial 25 with value: 0.8377142857142857.\n",
      "[I 2024-02-08 19:04:43,170] Trial 89 finished with value: 0.8314285714285713 and parameters: {'max_depth': 11, 'min_samples_split': 17, 'min_samples_leaf': 6, 'max_leaf_nodes': 30}. Best is trial 25 with value: 0.8377142857142857.\n",
      "[I 2024-02-08 19:04:55,902] Trial 90 finished with value: 0.8280000000000001 and parameters: {'max_depth': 14, 'min_samples_split': 17, 'min_samples_leaf': 9, 'max_leaf_nodes': 30}. Best is trial 25 with value: 0.8377142857142857.\n",
      "[I 2024-02-08 19:05:05,197] Trial 91 finished with value: 0.786857142857143 and parameters: {'max_depth': 14, 'min_samples_split': 17, 'min_samples_leaf': 6, 'max_leaf_nodes': 11}. Best is trial 25 with value: 0.8377142857142857.\n",
      "[I 2024-02-08 19:05:17,493] Trial 92 finished with value: 0.8342857142857143 and parameters: {'max_depth': 14, 'min_samples_split': 17, 'min_samples_leaf': 6, 'max_leaf_nodes': 30}. Best is trial 25 with value: 0.8377142857142857.\n",
      "[I 2024-02-08 19:05:30,374] Trial 93 finished with value: 0.8297142857142857 and parameters: {'max_depth': 11, 'min_samples_split': 17, 'min_samples_leaf': 6, 'max_leaf_nodes': 30}. Best is trial 25 with value: 0.8377142857142857.\n",
      "[I 2024-02-08 19:05:44,309] Trial 94 finished with value: 0.8342857142857143 and parameters: {'max_depth': 14, 'min_samples_split': 17, 'min_samples_leaf': 6, 'max_leaf_nodes': 30}. Best is trial 25 with value: 0.8377142857142857.\n",
      "[I 2024-02-08 19:05:56,550] Trial 95 finished with value: 0.8325714285714285 and parameters: {'max_depth': 11, 'min_samples_split': 15, 'min_samples_leaf': 6, 'max_leaf_nodes': 30}. Best is trial 25 with value: 0.8377142857142857.\n",
      "[I 2024-02-08 19:06:03,536] Trial 96 finished with value: 0.7657142857142858 and parameters: {'max_depth': 11, 'min_samples_split': 17, 'min_samples_leaf': 9, 'max_leaf_nodes': 10}. Best is trial 25 with value: 0.8377142857142857.\n",
      "[I 2024-02-08 19:06:10,350] Trial 97 finished with value: 0.7868571428571429 and parameters: {'max_depth': 11, 'min_samples_split': 17, 'min_samples_leaf': 3, 'max_leaf_nodes': 11}. Best is trial 25 with value: 0.8377142857142857.\n",
      "[I 2024-02-08 19:06:20,354] Trial 98 finished with value: 0.7868571428571429 and parameters: {'max_depth': 11, 'min_samples_split': 17, 'min_samples_leaf': 3, 'max_leaf_nodes': 11}. Best is trial 25 with value: 0.8377142857142857.\n",
      "[I 2024-02-08 19:06:32,329] Trial 99 finished with value: 0.8331428571428573 and parameters: {'max_depth': 14, 'min_samples_split': 17, 'min_samples_leaf': 3, 'max_leaf_nodes': 30}. Best is trial 25 with value: 0.8377142857142857.\n"
     ]
    },
    {
     "name": "stdout",
     "output_type": "stream",
     "text": [
      "FrozenTrial(number=25, state=1, values=[0.8377142857142857], datetime_start=datetime.datetime(2024, 2, 8, 18, 50, 8, 32912), datetime_complete=datetime.datetime(2024, 2, 8, 18, 52, 20, 345869), params={'max_depth': 30, 'min_samples_split': 19, 'min_samples_leaf': 7, 'max_leaf_nodes': 30}, user_attrs={}, system_attrs={}, intermediate_values={}, distributions={'max_depth': IntDistribution(high=30, log=False, low=2, step=1), 'min_samples_split': IntDistribution(high=40, log=False, low=2, step=1), 'min_samples_leaf': IntDistribution(high=20, log=False, low=1, step=1), 'max_leaf_nodes': IntDistribution(high=30, log=False, low=3, step=1)}, trial_id=25, value=None)\n"
     ]
    }
   ],
   "source": [
    "decision_tree_scaled_result = optimize_hyperparameters('decision_tree', X_scaled_train, y_train, n_trials=100)\n",
    "print(decision_tree_scaled_result)"
   ]
  },
  {
   "cell_type": "code",
   "execution_count": 15,
   "metadata": {},
   "outputs": [
    {
     "data": {
      "text/plain": [
       "{'max_depth': 30,\n",
       " 'min_samples_split': 19,\n",
       " 'min_samples_leaf': 7,\n",
       " 'max_leaf_nodes': 30}"
      ]
     },
     "execution_count": 15,
     "metadata": {},
     "output_type": "execute_result"
    }
   ],
   "source": [
    "decision_tree_scaled_result.params"
   ]
  },
  {
   "cell_type": "code",
   "execution_count": 16,
   "metadata": {},
   "outputs": [
    {
     "data": {
      "text/plain": [
       "0.8377142857142857"
      ]
     },
     "execution_count": 16,
     "metadata": {},
     "output_type": "execute_result"
    }
   ],
   "source": [
    "decision_tree_scaled_result.value"
   ]
  },
  {
   "cell_type": "code",
   "execution_count": 19,
   "metadata": {},
   "outputs": [
    {
     "data": {
      "text/plain": [
       "0.8036529680365296"
      ]
     },
     "execution_count": 19,
     "metadata": {},
     "output_type": "execute_result"
    }
   ],
   "source": [
    "best_decision_tree_model_scaled = DecisionTreeClassifier(**decision_tree_scaled_result.params)\n",
    "best_decision_tree_model_scaled.fit(X_scaled_train, y_train)\n",
    "best_decision_tree_model_scaled.score(X_scaled_test, y_test)"
   ]
  },
  {
   "cell_type": "markdown",
   "metadata": {},
   "source": [
    "#### PCA"
   ]
  },
  {
   "cell_type": "code",
   "execution_count": 10,
   "metadata": {},
   "outputs": [
    {
     "name": "stderr",
     "output_type": "stream",
     "text": [
      "[I 2024-02-08 18:42:52,124] A new study created in memory with name: no-name-fa6502e5-a299-4f2b-94b7-34f1ddaf62eb\n",
      "[I 2024-02-08 18:42:53,994] Trial 4 finished with value: 0.7782857142857142 and parameters: {'max_depth': 20, 'min_samples_split': 8, 'min_samples_leaf': 4, 'max_leaf_nodes': 28}. Best is trial 4 with value: 0.7782857142857142.\n",
      "[I 2024-02-08 18:42:54,168] Trial 5 finished with value: 0.7691428571428571 and parameters: {'max_depth': 28, 'min_samples_split': 30, 'min_samples_leaf': 15, 'max_leaf_nodes': 16}. Best is trial 4 with value: 0.7782857142857142.\n",
      "[I 2024-02-08 18:42:54,845] Trial 3 finished with value: 0.7314285714285715 and parameters: {'max_depth': 22, 'min_samples_split': 20, 'min_samples_leaf': 15, 'max_leaf_nodes': 10}. Best is trial 4 with value: 0.7782857142857142.\n",
      "[I 2024-02-08 18:42:54,883] Trial 10 finished with value: 0.7291428571428572 and parameters: {'max_depth': 11, 'min_samples_split': 13, 'min_samples_leaf': 19, 'max_leaf_nodes': 9}. Best is trial 4 with value: 0.7782857142857142.\n",
      "[I 2024-02-08 18:42:55,261] Trial 9 finished with value: 0.721142857142857 and parameters: {'max_depth': 13, 'min_samples_split': 33, 'min_samples_leaf': 8, 'max_leaf_nodes': 7}. Best is trial 4 with value: 0.7782857142857142.\n",
      "[I 2024-02-08 18:42:55,280] Trial 7 finished with value: 0.7799999999999999 and parameters: {'max_depth': 13, 'min_samples_split': 34, 'min_samples_leaf': 2, 'max_leaf_nodes': 21}. Best is trial 7 with value: 0.7799999999999999.\n",
      "[I 2024-02-08 18:42:55,350] Trial 2 finished with value: 0.7291428571428572 and parameters: {'max_depth': 5, 'min_samples_split': 13, 'min_samples_leaf': 13, 'max_leaf_nodes': 13}. Best is trial 7 with value: 0.7799999999999999.\n",
      "[I 2024-02-08 18:42:55,453] Trial 6 finished with value: 0.7565714285714287 and parameters: {'max_depth': 9, 'min_samples_split': 23, 'min_samples_leaf': 11, 'max_leaf_nodes': 15}. Best is trial 7 with value: 0.7799999999999999.\n",
      "[I 2024-02-08 18:42:55,483] Trial 8 finished with value: 0.7714285714285714 and parameters: {'max_depth': 14, 'min_samples_split': 27, 'min_samples_leaf': 5, 'max_leaf_nodes': 17}. Best is trial 7 with value: 0.7799999999999999.\n",
      "[I 2024-02-08 18:42:55,595] Trial 0 finished with value: 0.7314285714285715 and parameters: {'max_depth': 28, 'min_samples_split': 17, 'min_samples_leaf': 13, 'max_leaf_nodes': 10}. Best is trial 7 with value: 0.7799999999999999.\n",
      "[I 2024-02-08 18:42:55,624] Trial 11 finished with value: 0.764 and parameters: {'max_depth': 16, 'min_samples_split': 19, 'min_samples_leaf': 14, 'max_leaf_nodes': 25}. Best is trial 7 with value: 0.7799999999999999.\n",
      "[I 2024-02-08 18:42:55,850] Trial 12 finished with value: 0.7594285714285715 and parameters: {'max_depth': 8, 'min_samples_split': 40, 'min_samples_leaf': 17, 'max_leaf_nodes': 27}. Best is trial 7 with value: 0.7799999999999999.\n",
      "[I 2024-02-08 18:42:55,955] Trial 1 finished with value: 0.78 and parameters: {'max_depth': 15, 'min_samples_split': 27, 'min_samples_leaf': 1, 'max_leaf_nodes': 24}. Best is trial 1 with value: 0.78.\n",
      "[I 2024-02-08 18:42:56,084] Trial 13 finished with value: 0.6257142857142857 and parameters: {'max_depth': 2, 'min_samples_split': 40, 'min_samples_leaf': 10, 'max_leaf_nodes': 25}. Best is trial 1 with value: 0.78.\n",
      "[I 2024-02-08 18:42:56,271] Trial 14 finished with value: 0.7794285714285715 and parameters: {'max_depth': 21, 'min_samples_split': 12, 'min_samples_leaf': 3, 'max_leaf_nodes': 30}. Best is trial 1 with value: 0.78.\n",
      "[I 2024-02-08 18:42:56,490] Trial 15 finished with value: 0.7365714285714285 and parameters: {'max_depth': 19, 'min_samples_split': 18, 'min_samples_leaf': 2, 'max_leaf_nodes': 12}. Best is trial 1 with value: 0.78.\n",
      "[I 2024-02-08 18:42:56,589] Trial 16 finished with value: 0.6782857142857144 and parameters: {'max_depth': 4, 'min_samples_split': 21, 'min_samples_leaf': 13, 'max_leaf_nodes': 5}. Best is trial 1 with value: 0.78.\n",
      "[I 2024-02-08 18:42:56,976] Trial 17 finished with value: 0.772 and parameters: {'max_depth': 7, 'min_samples_split': 6, 'min_samples_leaf': 9, 'max_leaf_nodes': 28}. Best is trial 1 with value: 0.78.\n",
      "[I 2024-02-08 18:42:57,202] Trial 18 finished with value: 0.7668571428571429 and parameters: {'max_depth': 30, 'min_samples_split': 31, 'min_samples_leaf': 18, 'max_leaf_nodes': 20}. Best is trial 1 with value: 0.78.\n",
      "[I 2024-02-08 18:42:57,453] Trial 19 finished with value: 0.776 and parameters: {'max_depth': 22, 'min_samples_split': 26, 'min_samples_leaf': 9, 'max_leaf_nodes': 22}. Best is trial 1 with value: 0.78.\n",
      "[I 2024-02-08 18:42:57,492] Trial 21 finished with value: 0.6257142857142857 and parameters: {'max_depth': 2, 'min_samples_split': 40, 'min_samples_leaf': 1, 'max_leaf_nodes': 24}. Best is trial 1 with value: 0.78.\n",
      "[I 2024-02-08 18:42:57,535] Trial 20 finished with value: 0.704 and parameters: {'max_depth': 3, 'min_samples_split': 6, 'min_samples_leaf': 2, 'max_leaf_nodes': 13}. Best is trial 1 with value: 0.78.\n",
      "[I 2024-02-08 18:42:57,931] Trial 22 finished with value: 0.7794285714285715 and parameters: {'max_depth': 22, 'min_samples_split': 4, 'min_samples_leaf': 1, 'max_leaf_nodes': 30}. Best is trial 1 with value: 0.78.\n",
      "[I 2024-02-08 18:42:58,170] Trial 23 finished with value: 0.7794285714285714 and parameters: {'max_depth': 21, 'min_samples_split': 4, 'min_samples_leaf': 1, 'max_leaf_nodes': 22}. Best is trial 1 with value: 0.78.\n",
      "[I 2024-02-08 18:42:58,446] Trial 24 finished with value: 0.78 and parameters: {'max_depth': 19, 'min_samples_split': 37, 'min_samples_leaf': 1, 'max_leaf_nodes': 22}. Best is trial 1 with value: 0.78.\n",
      "[I 2024-02-08 18:42:58,597] Trial 25 finished with value: 0.7805714285714286 and parameters: {'max_depth': 20, 'min_samples_split': 35, 'min_samples_leaf': 1, 'max_leaf_nodes': 21}. Best is trial 25 with value: 0.7805714285714286.\n",
      "[I 2024-02-08 18:42:58,957] Trial 26 finished with value: 0.7799999999999999 and parameters: {'max_depth': 18, 'min_samples_split': 34, 'min_samples_leaf': 1, 'max_leaf_nodes': 21}. Best is trial 25 with value: 0.7805714285714286.\n",
      "[I 2024-02-08 18:42:59,101] Trial 27 finished with value: 0.7805714285714286 and parameters: {'max_depth': 17, 'min_samples_split': 35, 'min_samples_leaf': 1, 'max_leaf_nodes': 21}. Best is trial 25 with value: 0.7805714285714286.\n",
      "[I 2024-02-08 18:42:59,342] Trial 28 finished with value: 0.7805714285714286 and parameters: {'max_depth': 25, 'min_samples_split': 35, 'min_samples_leaf': 1, 'max_leaf_nodes': 21}. Best is trial 25 with value: 0.7805714285714286.\n",
      "[I 2024-02-08 18:42:59,632] Trial 29 finished with value: 0.7799999999999999 and parameters: {'max_depth': 17, 'min_samples_split': 34, 'min_samples_leaf': 1, 'max_leaf_nodes': 21}. Best is trial 25 with value: 0.7805714285714286.\n",
      "[I 2024-02-08 18:42:59,901] Trial 30 finished with value: 0.78 and parameters: {'max_depth': 17, 'min_samples_split': 35, 'min_samples_leaf': 1, 'max_leaf_nodes': 20}. Best is trial 25 with value: 0.7805714285714286.\n",
      "[I 2024-02-08 18:43:00,121] Trial 31 finished with value: 0.78 and parameters: {'max_depth': 17, 'min_samples_split': 36, 'min_samples_leaf': 1, 'max_leaf_nodes': 20}. Best is trial 25 with value: 0.7805714285714286.\n",
      "[I 2024-02-08 18:43:00,459] Trial 32 finished with value: 0.7777142857142857 and parameters: {'max_depth': 16, 'min_samples_split': 34, 'min_samples_leaf': 4, 'max_leaf_nodes': 30}. Best is trial 25 with value: 0.7805714285714286.\n",
      "[I 2024-02-08 18:43:00,699] Trial 33 finished with value: 0.7771428571428571 and parameters: {'max_depth': 17, 'min_samples_split': 35, 'min_samples_leaf': 5, 'max_leaf_nodes': 30}. Best is trial 25 with value: 0.7805714285714286.\n",
      "[I 2024-02-08 18:43:00,891] Trial 34 finished with value: 0.7794285714285714 and parameters: {'max_depth': 16, 'min_samples_split': 34, 'min_samples_leaf': 5, 'max_leaf_nodes': 20}. Best is trial 25 with value: 0.7805714285714286.\n",
      "[I 2024-02-08 18:43:01,116] Trial 35 finished with value: 0.7754285714285714 and parameters: {'max_depth': 17, 'min_samples_split': 35, 'min_samples_leaf': 5, 'max_leaf_nodes': 19}. Best is trial 25 with value: 0.7805714285714286.\n",
      "[I 2024-02-08 18:43:01,352] Trial 36 finished with value: 0.7782857142857142 and parameters: {'max_depth': 16, 'min_samples_split': 35, 'min_samples_leaf': 6, 'max_leaf_nodes': 20}. Best is trial 25 with value: 0.7805714285714286.\n",
      "[I 2024-02-08 18:43:01,610] Trial 37 finished with value: 0.7754285714285714 and parameters: {'max_depth': 17, 'min_samples_split': 36, 'min_samples_leaf': 6, 'max_leaf_nodes': 19}. Best is trial 25 with value: 0.7805714285714286.\n",
      "[I 2024-02-08 18:43:01,873] Trial 38 finished with value: 0.7754285714285714 and parameters: {'max_depth': 25, 'min_samples_split': 36, 'min_samples_leaf': 6, 'max_leaf_nodes': 19}. Best is trial 25 with value: 0.7805714285714286.\n",
      "[I 2024-02-08 18:43:02,067] Trial 39 finished with value: 0.7737142857142857 and parameters: {'max_depth': 25, 'min_samples_split': 26, 'min_samples_leaf': 6, 'max_leaf_nodes': 18}. Best is trial 25 with value: 0.7805714285714286.\n",
      "[I 2024-02-08 18:43:02,290] Trial 40 finished with value: 0.7737142857142857 and parameters: {'max_depth': 26, 'min_samples_split': 37, 'min_samples_leaf': 6, 'max_leaf_nodes': 18}. Best is trial 25 with value: 0.7805714285714286.\n",
      "[I 2024-02-08 18:43:02,513] Trial 41 finished with value: 0.7737142857142857 and parameters: {'max_depth': 26, 'min_samples_split': 37, 'min_samples_leaf': 6, 'max_leaf_nodes': 18}. Best is trial 25 with value: 0.7805714285714286.\n",
      "[I 2024-02-08 18:43:02,762] Trial 42 finished with value: 0.7737142857142857 and parameters: {'max_depth': 25, 'min_samples_split': 29, 'min_samples_leaf': 6, 'max_leaf_nodes': 18}. Best is trial 25 with value: 0.7805714285714286.\n",
      "[I 2024-02-08 18:43:03,010] Trial 43 finished with value: 0.7737142857142857 and parameters: {'max_depth': 25, 'min_samples_split': 29, 'min_samples_leaf': 6, 'max_leaf_nodes': 18}. Best is trial 25 with value: 0.7805714285714286.\n",
      "[I 2024-02-08 18:43:03,303] Trial 44 finished with value: 0.7714285714285714 and parameters: {'max_depth': 24, 'min_samples_split': 30, 'min_samples_leaf': 6, 'max_leaf_nodes': 17}. Best is trial 25 with value: 0.7805714285714286.\n",
      "[I 2024-02-08 18:43:03,504] Trial 45 finished with value: 0.7737142857142857 and parameters: {'max_depth': 25, 'min_samples_split': 29, 'min_samples_leaf': 6, 'max_leaf_nodes': 18}. Best is trial 25 with value: 0.7805714285714286.\n",
      "[I 2024-02-08 18:43:03,736] Trial 46 finished with value: 0.7737142857142857 and parameters: {'max_depth': 26, 'min_samples_split': 29, 'min_samples_leaf': 7, 'max_leaf_nodes': 18}. Best is trial 25 with value: 0.7805714285714286.\n",
      "[I 2024-02-08 18:43:03,976] Trial 47 finished with value: 0.7737142857142857 and parameters: {'max_depth': 25, 'min_samples_split': 29, 'min_samples_leaf': 7, 'max_leaf_nodes': 18}. Best is trial 25 with value: 0.7805714285714286.\n",
      "[I 2024-02-08 18:43:04,190] Trial 48 finished with value: 0.7737142857142857 and parameters: {'max_depth': 26, 'min_samples_split': 29, 'min_samples_leaf': 7, 'max_leaf_nodes': 18}. Best is trial 25 with value: 0.7805714285714286.\n",
      "[I 2024-02-08 18:43:04,402] Trial 49 finished with value: 0.7714285714285714 and parameters: {'max_depth': 25, 'min_samples_split': 28, 'min_samples_leaf': 3, 'max_leaf_nodes': 17}. Best is trial 25 with value: 0.7805714285714286.\n",
      "[I 2024-02-08 18:43:04,680] Trial 50 finished with value: 0.7782857142857142 and parameters: {'max_depth': 25, 'min_samples_split': 28, 'min_samples_leaf': 3, 'max_leaf_nodes': 23}. Best is trial 25 with value: 0.7805714285714286.\n",
      "[I 2024-02-08 18:43:04,841] Trial 51 finished with value: 0.78 and parameters: {'max_depth': 24, 'min_samples_split': 30, 'min_samples_leaf': 3, 'max_leaf_nodes': 24}. Best is trial 25 with value: 0.7805714285714286.\n",
      "[I 2024-02-08 18:43:05,094] Trial 52 finished with value: 0.7782857142857142 and parameters: {'max_depth': 14, 'min_samples_split': 29, 'min_samples_leaf': 3, 'max_leaf_nodes': 23}. Best is trial 25 with value: 0.7805714285714286.\n",
      "[I 2024-02-08 18:43:05,456] Trial 53 finished with value: 0.7782857142857142 and parameters: {'max_depth': 11, 'min_samples_split': 31, 'min_samples_leaf': 4, 'max_leaf_nodes': 23}. Best is trial 25 with value: 0.7805714285714286.\n",
      "[I 2024-02-08 18:43:05,710] Trial 54 finished with value: 0.7782857142857142 and parameters: {'max_depth': 14, 'min_samples_split': 31, 'min_samples_leaf': 3, 'max_leaf_nodes': 23}. Best is trial 25 with value: 0.7805714285714286.\n",
      "[I 2024-02-08 18:43:05,932] Trial 55 finished with value: 0.7788571428571427 and parameters: {'max_depth': 14, 'min_samples_split': 32, 'min_samples_leaf': 3, 'max_leaf_nodes': 24}. Best is trial 25 with value: 0.7805714285714286.\n",
      "[I 2024-02-08 18:43:06,186] Trial 56 finished with value: 0.7799999999999999 and parameters: {'max_depth': 13, 'min_samples_split': 32, 'min_samples_leaf': 3, 'max_leaf_nodes': 24}. Best is trial 25 with value: 0.7805714285714286.\n",
      "[I 2024-02-08 18:43:06,423] Trial 57 finished with value: 0.7805714285714285 and parameters: {'max_depth': 14, 'min_samples_split': 39, 'min_samples_leaf': 3, 'max_leaf_nodes': 24}. Best is trial 25 with value: 0.7805714285714286.\n",
      "[I 2024-02-08 18:43:06,687] Trial 58 finished with value: 0.7799999999999999 and parameters: {'max_depth': 11, 'min_samples_split': 32, 'min_samples_leaf': 3, 'max_leaf_nodes': 24}. Best is trial 25 with value: 0.7805714285714286.\n",
      "[I 2024-02-08 18:43:06,982] Trial 59 finished with value: 0.7782857142857142 and parameters: {'max_depth': 14, 'min_samples_split': 38, 'min_samples_leaf': 3, 'max_leaf_nodes': 23}. Best is trial 25 with value: 0.7805714285714286.\n",
      "[I 2024-02-08 18:43:07,245] Trial 60 finished with value: 0.7805714285714285 and parameters: {'max_depth': 14, 'min_samples_split': 38, 'min_samples_leaf': 3, 'max_leaf_nodes': 24}. Best is trial 25 with value: 0.7805714285714286.\n",
      "[I 2024-02-08 18:43:07,445] Trial 61 finished with value: 0.7799999999999999 and parameters: {'max_depth': 12, 'min_samples_split': 32, 'min_samples_leaf': 3, 'max_leaf_nodes': 24}. Best is trial 25 with value: 0.7805714285714286.\n",
      "[I 2024-02-08 18:43:07,714] Trial 62 finished with value: 0.78 and parameters: {'max_depth': 14, 'min_samples_split': 32, 'min_samples_leaf': 3, 'max_leaf_nodes': 26}. Best is trial 25 with value: 0.7805714285714286.\n",
      "[I 2024-02-08 18:43:07,964] Trial 63 finished with value: 0.78 and parameters: {'max_depth': 14, 'min_samples_split': 32, 'min_samples_leaf': 2, 'max_leaf_nodes': 26}. Best is trial 25 with value: 0.7805714285714286.\n",
      "[I 2024-02-08 18:43:08,285] Trial 64 finished with value: 0.78 and parameters: {'max_depth': 19, 'min_samples_split': 32, 'min_samples_leaf': 2, 'max_leaf_nodes': 26}. Best is trial 25 with value: 0.7805714285714286.\n",
      "[I 2024-02-08 18:43:08,450] Trial 65 finished with value: 0.7765714285714285 and parameters: {'max_depth': 20, 'min_samples_split': 38, 'min_samples_leaf': 2, 'max_leaf_nodes': 26}. Best is trial 25 with value: 0.7805714285714286.\n",
      "[I 2024-02-08 18:43:08,697] Trial 66 finished with value: 0.752 and parameters: {'max_depth': 19, 'min_samples_split': 38, 'min_samples_leaf': 2, 'max_leaf_nodes': 15}. Best is trial 25 with value: 0.7805714285714286.\n",
      "[I 2024-02-08 18:43:08,978] Trial 67 finished with value: 0.7811428571428571 and parameters: {'max_depth': 19, 'min_samples_split': 23, 'min_samples_leaf': 2, 'max_leaf_nodes': 26}. Best is trial 67 with value: 0.7811428571428571.\n",
      "[I 2024-02-08 18:43:09,214] Trial 68 finished with value: 0.7777142857142858 and parameters: {'max_depth': 19, 'min_samples_split': 38, 'min_samples_leaf': 2, 'max_leaf_nodes': 26}. Best is trial 67 with value: 0.7811428571428571.\n",
      "[I 2024-02-08 18:43:09,523] Trial 69 finished with value: 0.7777142857142857 and parameters: {'max_depth': 19, 'min_samples_split': 38, 'min_samples_leaf': 2, 'max_leaf_nodes': 27}. Best is trial 67 with value: 0.7811428571428571.\n",
      "[I 2024-02-08 18:43:09,810] Trial 70 finished with value: 0.7805714285714285 and parameters: {'max_depth': 19, 'min_samples_split': 38, 'min_samples_leaf': 2, 'max_leaf_nodes': 28}. Best is trial 67 with value: 0.7811428571428571.\n",
      "[I 2024-02-08 18:43:10,114] Trial 71 finished with value: 0.78 and parameters: {'max_depth': 20, 'min_samples_split': 23, 'min_samples_leaf': 2, 'max_leaf_nodes': 26}. Best is trial 67 with value: 0.7811428571428571.\n",
      "[I 2024-02-08 18:43:10,175] Trial 72 finished with value: 0.7811428571428571 and parameters: {'max_depth': 21, 'min_samples_split': 24, 'min_samples_leaf': 2, 'max_leaf_nodes': 26}. Best is trial 67 with value: 0.7811428571428571.\n",
      "[I 2024-02-08 18:43:10,560] Trial 73 finished with value: 0.7765714285714285 and parameters: {'max_depth': 19, 'min_samples_split': 39, 'min_samples_leaf': 2, 'max_leaf_nodes': 26}. Best is trial 67 with value: 0.7811428571428571.\n",
      "[I 2024-02-08 18:43:10,689] Trial 74 finished with value: 0.7777142857142858 and parameters: {'max_depth': 20, 'min_samples_split': 39, 'min_samples_leaf': 2, 'max_leaf_nodes': 26}. Best is trial 67 with value: 0.7811428571428571.\n",
      "[I 2024-02-08 18:43:11,015] Trial 75 finished with value: 0.7777142857142857 and parameters: {'max_depth': 20, 'min_samples_split': 39, 'min_samples_leaf': 2, 'max_leaf_nodes': 27}. Best is trial 67 with value: 0.7811428571428571.\n",
      "[I 2024-02-08 18:43:11,379] Trial 76 finished with value: 0.7805714285714285 and parameters: {'max_depth': 20, 'min_samples_split': 39, 'min_samples_leaf': 2, 'max_leaf_nodes': 28}. Best is trial 67 with value: 0.7811428571428571.\n",
      "[I 2024-02-08 18:43:11,604] Trial 77 finished with value: 0.752 and parameters: {'max_depth': 19, 'min_samples_split': 39, 'min_samples_leaf': 1, 'max_leaf_nodes': 15}. Best is trial 67 with value: 0.7811428571428571.\n",
      "[I 2024-02-08 18:43:11,882] Trial 78 finished with value: 0.7782857142857142 and parameters: {'max_depth': 29, 'min_samples_split': 24, 'min_samples_leaf': 1, 'max_leaf_nodes': 28}. Best is trial 67 with value: 0.7811428571428571.\n",
      "[I 2024-02-08 18:43:12,098] Trial 79 finished with value: 0.772 and parameters: {'max_depth': 29, 'min_samples_split': 24, 'min_samples_leaf': 11, 'max_leaf_nodes': 28}. Best is trial 67 with value: 0.7811428571428571.\n",
      "[I 2024-02-08 18:43:12,349] Trial 80 finished with value: 0.7765714285714286 and parameters: {'max_depth': 9, 'min_samples_split': 24, 'min_samples_leaf': 4, 'max_leaf_nodes': 28}. Best is trial 67 with value: 0.7811428571428571.\n",
      "[I 2024-02-08 18:43:12,634] Trial 81 finished with value: 0.7731428571428571 and parameters: {'max_depth': 9, 'min_samples_split': 22, 'min_samples_leaf': 12, 'max_leaf_nodes': 29}. Best is trial 67 with value: 0.7811428571428571.\n",
      "[I 2024-02-08 18:43:12,899] Trial 82 finished with value: 0.78 and parameters: {'max_depth': 21, 'min_samples_split': 23, 'min_samples_leaf': 4, 'max_leaf_nodes': 27}. Best is trial 67 with value: 0.7811428571428571.\n",
      "[I 2024-02-08 18:43:13,170] Trial 83 finished with value: 0.7788571428571428 and parameters: {'max_depth': 30, 'min_samples_split': 40, 'min_samples_leaf': 4, 'max_leaf_nodes': 28}. Best is trial 67 with value: 0.7811428571428571.\n",
      "[I 2024-02-08 18:43:13,433] Trial 84 finished with value: 0.7777142857142858 and parameters: {'max_depth': 21, 'min_samples_split': 24, 'min_samples_leaf': 4, 'max_leaf_nodes': 29}. Best is trial 67 with value: 0.7811428571428571.\n",
      "[I 2024-02-08 18:43:13,680] Trial 85 finished with value: 0.7782857142857142 and parameters: {'max_depth': 22, 'min_samples_split': 23, 'min_samples_leaf': 4, 'max_leaf_nodes': 28}. Best is trial 67 with value: 0.7811428571428571.\n",
      "[I 2024-02-08 18:43:13,983] Trial 86 finished with value: 0.7782857142857142 and parameters: {'max_depth': 21, 'min_samples_split': 15, 'min_samples_leaf': 4, 'max_leaf_nodes': 28}. Best is trial 67 with value: 0.7811428571428571.\n",
      "[I 2024-02-08 18:43:14,201] Trial 87 finished with value: 0.7777142857142858 and parameters: {'max_depth': 23, 'min_samples_split': 14, 'min_samples_leaf': 4, 'max_leaf_nodes': 29}. Best is trial 67 with value: 0.7811428571428571.\n",
      "[I 2024-02-08 18:43:14,403] Trial 88 finished with value: 0.7788571428571428 and parameters: {'max_depth': 23, 'min_samples_split': 14, 'min_samples_leaf': 4, 'max_leaf_nodes': 29}. Best is trial 67 with value: 0.7811428571428571.\n",
      "[I 2024-02-08 18:43:14,749] Trial 89 finished with value: 0.7777142857142858 and parameters: {'max_depth': 22, 'min_samples_split': 23, 'min_samples_leaf': 4, 'max_leaf_nodes': 29}. Best is trial 67 with value: 0.7811428571428571.\n",
      "[I 2024-02-08 18:43:14,916] Trial 90 finished with value: 0.7782857142857142 and parameters: {'max_depth': 23, 'min_samples_split': 20, 'min_samples_leaf': 4, 'max_leaf_nodes': 29}. Best is trial 67 with value: 0.7811428571428571.\n",
      "[I 2024-02-08 18:43:15,334] Trial 91 finished with value: 0.7777142857142858 and parameters: {'max_depth': 22, 'min_samples_split': 19, 'min_samples_leaf': 4, 'max_leaf_nodes': 29}. Best is trial 67 with value: 0.7811428571428571.\n",
      "[I 2024-02-08 18:43:15,614] Trial 92 finished with value: 0.7777142857142857 and parameters: {'max_depth': 23, 'min_samples_split': 17, 'min_samples_leaf': 4, 'max_leaf_nodes': 25}. Best is trial 67 with value: 0.7811428571428571.\n",
      "[I 2024-02-08 18:43:15,790] Trial 93 finished with value: 0.7788571428571428 and parameters: {'max_depth': 21, 'min_samples_split': 13, 'min_samples_leaf': 4, 'max_leaf_nodes': 25}. Best is trial 67 with value: 0.7811428571428571.\n",
      "[I 2024-02-08 18:43:15,955] Trial 94 finished with value: 0.7628571428571429 and parameters: {'max_depth': 23, 'min_samples_split': 16, 'min_samples_leaf': 16, 'max_leaf_nodes': 29}. Best is trial 67 with value: 0.7811428571428571.\n",
      "[I 2024-02-08 18:43:16,314] Trial 95 finished with value: 0.7777142857142857 and parameters: {'max_depth': 23, 'min_samples_split': 17, 'min_samples_leaf': 1, 'max_leaf_nodes': 25}. Best is trial 67 with value: 0.7811428571428571.\n",
      "[I 2024-02-08 18:43:16,555] Trial 96 finished with value: 0.7685714285714286 and parameters: {'max_depth': 15, 'min_samples_split': 17, 'min_samples_leaf': 20, 'max_leaf_nodes': 25}. Best is trial 67 with value: 0.7811428571428571.\n",
      "[I 2024-02-08 18:43:16,821] Trial 97 finished with value: 0.7777142857142857 and parameters: {'max_depth': 18, 'min_samples_split': 13, 'min_samples_leaf': 1, 'max_leaf_nodes': 25}. Best is trial 67 with value: 0.7811428571428571.\n",
      "[I 2024-02-08 18:43:17,095] Trial 98 finished with value: 0.7799999999999999 and parameters: {'max_depth': 23, 'min_samples_split': 19, 'min_samples_leaf': 1, 'max_leaf_nodes': 21}. Best is trial 67 with value: 0.7811428571428571.\n",
      "[I 2024-02-08 18:43:17,370] Trial 99 finished with value: 0.7777142857142857 and parameters: {'max_depth': 18, 'min_samples_split': 10, 'min_samples_leaf': 1, 'max_leaf_nodes': 25}. Best is trial 67 with value: 0.7811428571428571.\n",
      "[I 2024-02-08 18:43:17,554] Trial 100 finished with value: 0.7685714285714286 and parameters: {'max_depth': 18, 'min_samples_split': 20, 'min_samples_leaf': 20, 'max_leaf_nodes': 25}. Best is trial 67 with value: 0.7811428571428571.\n",
      "[I 2024-02-08 18:43:17,728] Trial 101 finished with value: 0.7788571428571428 and parameters: {'max_depth': 18, 'min_samples_split': 18, 'min_samples_leaf': 1, 'max_leaf_nodes': 25}. Best is trial 67 with value: 0.7811428571428571.\n",
      "[I 2024-02-08 18:43:18,072] Trial 102 finished with value: 0.7777142857142857 and parameters: {'max_depth': 15, 'min_samples_split': 26, 'min_samples_leaf': 1, 'max_leaf_nodes': 25}. Best is trial 67 with value: 0.7811428571428571.\n",
      "[I 2024-02-08 18:43:18,409] Trial 103 finished with value: 0.7777142857142857 and parameters: {'max_depth': 15, 'min_samples_split': 26, 'min_samples_leaf': 1, 'max_leaf_nodes': 25}. Best is trial 67 with value: 0.7811428571428571.\n",
      "[I 2024-02-08 18:43:18,592] Trial 104 finished with value: 0.7799999999999999 and parameters: {'max_depth': 15, 'min_samples_split': 26, 'min_samples_leaf': 1, 'max_leaf_nodes': 21}. Best is trial 67 with value: 0.7811428571428571.\n",
      "[I 2024-02-08 18:43:18,835] Trial 105 finished with value: 0.7799999999999999 and parameters: {'max_depth': 18, 'min_samples_split': 26, 'min_samples_leaf': 1, 'max_leaf_nodes': 21}. Best is trial 67 with value: 0.7811428571428571.\n",
      "[I 2024-02-08 18:43:19,068] Trial 106 finished with value: 0.7799999999999999 and parameters: {'max_depth': 15, 'min_samples_split': 26, 'min_samples_leaf': 1, 'max_leaf_nodes': 21}. Best is trial 67 with value: 0.7811428571428571.\n",
      "[I 2024-02-08 18:43:19,292] Trial 107 finished with value: 0.7799999999999999 and parameters: {'max_depth': 18, 'min_samples_split': 26, 'min_samples_leaf': 1, 'max_leaf_nodes': 21}. Best is trial 67 with value: 0.7811428571428571.\n",
      "[I 2024-02-08 18:43:19,593] Trial 108 finished with value: 0.78 and parameters: {'max_depth': 18, 'min_samples_split': 36, 'min_samples_leaf': 1, 'max_leaf_nodes': 22}. Best is trial 67 with value: 0.7811428571428571.\n",
      "[I 2024-02-08 18:43:19,742] Trial 109 finished with value: 0.7799999999999999 and parameters: {'max_depth': 15, 'min_samples_split': 26, 'min_samples_leaf': 1, 'max_leaf_nodes': 21}. Best is trial 67 with value: 0.7811428571428571.\n",
      "[I 2024-02-08 18:43:20,108] Trial 110 finished with value: 0.78 and parameters: {'max_depth': 15, 'min_samples_split': 36, 'min_samples_leaf': 1, 'max_leaf_nodes': 22}. Best is trial 67 with value: 0.7811428571428571.\n",
      "[I 2024-02-08 18:43:20,343] Trial 111 finished with value: 0.78 and parameters: {'max_depth': 15, 'min_samples_split': 36, 'min_samples_leaf': 1, 'max_leaf_nodes': 22}. Best is trial 67 with value: 0.7811428571428571.\n",
      "[I 2024-02-08 18:43:20,587] Trial 112 finished with value: 0.78 and parameters: {'max_depth': 15, 'min_samples_split': 36, 'min_samples_leaf': 1, 'max_leaf_nodes': 22}. Best is trial 67 with value: 0.7811428571428571.\n",
      "[I 2024-02-08 18:43:20,853] Trial 113 finished with value: 0.78 and parameters: {'max_depth': 15, 'min_samples_split': 36, 'min_samples_leaf': 1, 'max_leaf_nodes': 22}. Best is trial 67 with value: 0.7811428571428571.\n",
      "[I 2024-02-08 18:43:21,084] Trial 114 finished with value: 0.78 and parameters: {'max_depth': 16, 'min_samples_split': 36, 'min_samples_leaf': 2, 'max_leaf_nodes': 22}. Best is trial 67 with value: 0.7811428571428571.\n",
      "[I 2024-02-08 18:43:21,333] Trial 115 finished with value: 0.78 and parameters: {'max_depth': 16, 'min_samples_split': 36, 'min_samples_leaf': 2, 'max_leaf_nodes': 22}. Best is trial 67 with value: 0.7811428571428571.\n",
      "[I 2024-02-08 18:43:21,591] Trial 116 finished with value: 0.78 and parameters: {'max_depth': 16, 'min_samples_split': 37, 'min_samples_leaf': 2, 'max_leaf_nodes': 22}. Best is trial 67 with value: 0.7811428571428571.\n",
      "[I 2024-02-08 18:43:21,821] Trial 117 finished with value: 0.78 and parameters: {'max_depth': 12, 'min_samples_split': 37, 'min_samples_leaf': 2, 'max_leaf_nodes': 22}. Best is trial 67 with value: 0.7811428571428571.\n",
      "[I 2024-02-08 18:43:22,070] Trial 118 finished with value: 0.78 and parameters: {'max_depth': 16, 'min_samples_split': 37, 'min_samples_leaf': 2, 'max_leaf_nodes': 22}. Best is trial 67 with value: 0.7811428571428571.\n",
      "[I 2024-02-08 18:43:22,311] Trial 119 finished with value: 0.78 and parameters: {'max_depth': 16, 'min_samples_split': 37, 'min_samples_leaf': 2, 'max_leaf_nodes': 22}. Best is trial 67 with value: 0.7811428571428571.\n",
      "[I 2024-02-08 18:43:22,443] Trial 120 finished with value: 0.78 and parameters: {'max_depth': 12, 'min_samples_split': 36, 'min_samples_leaf': 2, 'max_leaf_nodes': 22}. Best is trial 67 with value: 0.7811428571428571.\n",
      "[I 2024-02-08 18:43:22,829] Trial 121 finished with value: 0.78 and parameters: {'max_depth': 16, 'min_samples_split': 37, 'min_samples_leaf': 2, 'max_leaf_nodes': 22}. Best is trial 67 with value: 0.7811428571428571.\n",
      "[I 2024-02-08 18:43:23,079] Trial 122 finished with value: 0.78 and parameters: {'max_depth': 17, 'min_samples_split': 37, 'min_samples_leaf': 2, 'max_leaf_nodes': 20}. Best is trial 67 with value: 0.7811428571428571.\n",
      "[I 2024-02-08 18:43:23,326] Trial 123 finished with value: 0.7754285714285714 and parameters: {'max_depth': 17, 'min_samples_split': 37, 'min_samples_leaf': 2, 'max_leaf_nodes': 19}. Best is trial 67 with value: 0.7811428571428571.\n",
      "[I 2024-02-08 18:43:23,558] Trial 124 finished with value: 0.78 and parameters: {'max_depth': 17, 'min_samples_split': 37, 'min_samples_leaf': 2, 'max_leaf_nodes': 20}. Best is trial 67 with value: 0.7811428571428571.\n",
      "[I 2024-02-08 18:43:23,752] Trial 125 finished with value: 0.78 and parameters: {'max_depth': 12, 'min_samples_split': 37, 'min_samples_leaf': 2, 'max_leaf_nodes': 20}. Best is trial 67 with value: 0.7811428571428571.\n",
      "[I 2024-02-08 18:43:23,932] Trial 126 finished with value: 0.7794285714285714 and parameters: {'max_depth': 17, 'min_samples_split': 34, 'min_samples_leaf': 2, 'max_leaf_nodes': 20}. Best is trial 67 with value: 0.7811428571428571.\n",
      "[I 2024-02-08 18:43:24,171] Trial 127 finished with value: 0.7754285714285714 and parameters: {'max_depth': 12, 'min_samples_split': 33, 'min_samples_leaf': 2, 'max_leaf_nodes': 19}. Best is trial 67 with value: 0.7811428571428571.\n",
      "[I 2024-02-08 18:43:24,485] Trial 128 finished with value: 0.7794285714285714 and parameters: {'max_depth': 13, 'min_samples_split': 34, 'min_samples_leaf': 3, 'max_leaf_nodes': 20}. Best is trial 67 with value: 0.7811428571428571.\n",
      "[I 2024-02-08 18:43:24,760] Trial 129 finished with value: 0.7794285714285714 and parameters: {'max_depth': 17, 'min_samples_split': 33, 'min_samples_leaf': 3, 'max_leaf_nodes': 20}. Best is trial 67 with value: 0.7811428571428571.\n",
      "[I 2024-02-08 18:43:24,969] Trial 130 finished with value: 0.78 and parameters: {'max_depth': 17, 'min_samples_split': 35, 'min_samples_leaf': 3, 'max_leaf_nodes': 20}. Best is trial 67 with value: 0.7811428571428571.\n",
      "[I 2024-02-08 18:43:25,204] Trial 131 finished with value: 0.7754285714285714 and parameters: {'max_depth': 17, 'min_samples_split': 34, 'min_samples_leaf': 3, 'max_leaf_nodes': 19}. Best is trial 67 with value: 0.7811428571428571.\n",
      "[I 2024-02-08 18:43:25,469] Trial 132 finished with value: 0.7754285714285714 and parameters: {'max_depth': 17, 'min_samples_split': 33, 'min_samples_leaf': 3, 'max_leaf_nodes': 19}. Best is trial 67 with value: 0.7811428571428571.\n",
      "[I 2024-02-08 18:43:25,733] Trial 133 finished with value: 0.7794285714285714 and parameters: {'max_depth': 17, 'min_samples_split': 33, 'min_samples_leaf': 3, 'max_leaf_nodes': 20}. Best is trial 67 with value: 0.7811428571428571.\n",
      "[I 2024-02-08 18:43:25,893] Trial 134 finished with value: 0.78 and parameters: {'max_depth': 17, 'min_samples_split': 35, 'min_samples_leaf': 3, 'max_leaf_nodes': 20}. Best is trial 67 with value: 0.7811428571428571.\n",
      "[I 2024-02-08 18:43:26,173] Trial 135 finished with value: 0.7794285714285714 and parameters: {'max_depth': 17, 'min_samples_split': 34, 'min_samples_leaf': 3, 'max_leaf_nodes': 20}. Best is trial 67 with value: 0.7811428571428571.\n",
      "[I 2024-02-08 18:43:26,410] Trial 136 finished with value: 0.7782857142857142 and parameters: {'max_depth': 20, 'min_samples_split': 33, 'min_samples_leaf': 3, 'max_leaf_nodes': 23}. Best is trial 67 with value: 0.7811428571428571.\n",
      "[I 2024-02-08 18:43:26,574] Trial 137 finished with value: 0.7782857142857142 and parameters: {'max_depth': 20, 'min_samples_split': 34, 'min_samples_leaf': 3, 'max_leaf_nodes': 23}. Best is trial 67 with value: 0.7811428571428571.\n",
      "[I 2024-02-08 18:43:26,960] Trial 138 finished with value: 0.7782857142857142 and parameters: {'max_depth': 13, 'min_samples_split': 35, 'min_samples_leaf': 3, 'max_leaf_nodes': 23}. Best is trial 67 with value: 0.7811428571428571.\n",
      "[I 2024-02-08 18:43:27,221] Trial 139 finished with value: 0.7782857142857142 and parameters: {'max_depth': 20, 'min_samples_split': 40, 'min_samples_leaf': 3, 'max_leaf_nodes': 23}. Best is trial 67 with value: 0.7811428571428571.\n",
      "[I 2024-02-08 18:43:27,419] Trial 140 finished with value: 0.7782857142857142 and parameters: {'max_depth': 20, 'min_samples_split': 40, 'min_samples_leaf': 3, 'max_leaf_nodes': 23}. Best is trial 67 with value: 0.7811428571428571.\n",
      "[I 2024-02-08 18:43:27,597] Trial 141 finished with value: 0.7805714285714285 and parameters: {'max_depth': 20, 'min_samples_split': 40, 'min_samples_leaf': 9, 'max_leaf_nodes': 23}. Best is trial 67 with value: 0.7811428571428571.\n",
      "[I 2024-02-08 18:43:27,962] Trial 142 finished with value: 0.7805714285714285 and parameters: {'max_depth': 27, 'min_samples_split': 39, 'min_samples_leaf': 3, 'max_leaf_nodes': 24}. Best is trial 67 with value: 0.7811428571428571.\n",
      "[I 2024-02-08 18:43:28,057] Trial 143 finished with value: 0.7794285714285715 and parameters: {'max_depth': 20, 'min_samples_split': 39, 'min_samples_leaf': 3, 'max_leaf_nodes': 24}. Best is trial 67 with value: 0.7811428571428571.\n",
      "[I 2024-02-08 18:43:28,427] Trial 144 finished with value: 0.7794285714285715 and parameters: {'max_depth': 27, 'min_samples_split': 39, 'min_samples_leaf': 5, 'max_leaf_nodes': 24}. Best is trial 67 with value: 0.7811428571428571.\n",
      "[I 2024-02-08 18:43:28,761] Trial 145 finished with value: 0.781142857142857 and parameters: {'max_depth': 27, 'min_samples_split': 40, 'min_samples_leaf': 9, 'max_leaf_nodes': 24}. Best is trial 67 with value: 0.7811428571428571.\n",
      "[I 2024-02-08 18:43:28,971] Trial 146 finished with value: 0.7662857142857143 and parameters: {'max_depth': 20, 'min_samples_split': 40, 'min_samples_leaf': 14, 'max_leaf_nodes': 23}. Best is trial 67 with value: 0.7811428571428571.\n",
      "[I 2024-02-08 18:43:29,181] Trial 147 finished with value: 0.7834285714285715 and parameters: {'max_depth': 20, 'min_samples_split': 40, 'min_samples_leaf': 8, 'max_leaf_nodes': 24}. Best is trial 147 with value: 0.7834285714285715.\n",
      "[I 2024-02-08 18:43:29,465] Trial 148 finished with value: 0.781142857142857 and parameters: {'max_depth': 20, 'min_samples_split': 39, 'min_samples_leaf': 9, 'max_leaf_nodes': 24}. Best is trial 147 with value: 0.7834285714285715.\n",
      "[I 2024-02-08 18:43:29,709] Trial 149 finished with value: 0.781142857142857 and parameters: {'max_depth': 27, 'min_samples_split': 40, 'min_samples_leaf': 9, 'max_leaf_nodes': 24}. Best is trial 147 with value: 0.7834285714285715.\n",
      "[I 2024-02-08 18:43:29,789] Trial 150 finished with value: 0.781142857142857 and parameters: {'max_depth': 27, 'min_samples_split': 40, 'min_samples_leaf': 9, 'max_leaf_nodes': 24}. Best is trial 147 with value: 0.7834285714285715.\n",
      "[I 2024-02-08 18:43:30,166] Trial 151 finished with value: 0.7805714285714285 and parameters: {'max_depth': 24, 'min_samples_split': 39, 'min_samples_leaf': 5, 'max_leaf_nodes': 24}. Best is trial 147 with value: 0.7834285714285715.\n",
      "[I 2024-02-08 18:43:30,342] Trial 152 finished with value: 0.7777142857142857 and parameters: {'max_depth': 27, 'min_samples_split': 39, 'min_samples_leaf': 5, 'max_leaf_nodes': 27}. Best is trial 147 with value: 0.7834285714285715.\n",
      "[I 2024-02-08 18:43:30,833] Trial 153 finished with value: 0.7794285714285715 and parameters: {'max_depth': 19, 'min_samples_split': 39, 'min_samples_leaf': 5, 'max_leaf_nodes': 24}. Best is trial 147 with value: 0.7834285714285715.\n",
      "[I 2024-02-08 18:43:31,054] Trial 154 finished with value: 0.7805714285714285 and parameters: {'max_depth': 27, 'min_samples_split': 39, 'min_samples_leaf': 1, 'max_leaf_nodes': 24}. Best is trial 147 with value: 0.7834285714285715.\n",
      "[I 2024-02-08 18:43:31,118] Trial 155 finished with value: 0.764 and parameters: {'max_depth': 28, 'min_samples_split': 38, 'min_samples_leaf': 14, 'max_leaf_nodes': 24}. Best is trial 147 with value: 0.7834285714285715.\n",
      "[I 2024-02-08 18:43:31,459] Trial 156 finished with value: 0.7834285714285715 and parameters: {'max_depth': 27, 'min_samples_split': 38, 'min_samples_leaf': 8, 'max_leaf_nodes': 24}. Best is trial 147 with value: 0.7834285714285715.\n",
      "[I 2024-02-08 18:43:31,757] Trial 157 finished with value: 0.7834285714285714 and parameters: {'max_depth': 27, 'min_samples_split': 38, 'min_samples_leaf': 9, 'max_leaf_nodes': 27}. Best is trial 147 with value: 0.7834285714285715.\n",
      "[I 2024-02-08 18:43:32,012] Trial 158 finished with value: 0.7794285714285715 and parameters: {'max_depth': 27, 'min_samples_split': 38, 'min_samples_leaf': 10, 'max_leaf_nodes': 27}. Best is trial 147 with value: 0.7834285714285715.\n",
      "[I 2024-02-08 18:43:32,332] Trial 159 finished with value: 0.7834285714285714 and parameters: {'max_depth': 29, 'min_samples_split': 38, 'min_samples_leaf': 9, 'max_leaf_nodes': 27}. Best is trial 147 with value: 0.7834285714285715.\n",
      "[I 2024-02-08 18:43:32,569] Trial 160 finished with value: 0.7788571428571428 and parameters: {'max_depth': 27, 'min_samples_split': 39, 'min_samples_leaf': 8, 'max_leaf_nodes': 27}. Best is trial 147 with value: 0.7834285714285715.\n",
      "[I 2024-02-08 18:43:32,814] Trial 161 finished with value: 0.7834285714285714 and parameters: {'max_depth': 28, 'min_samples_split': 39, 'min_samples_leaf': 9, 'max_leaf_nodes': 27}. Best is trial 147 with value: 0.7834285714285715.\n",
      "[I 2024-02-08 18:43:33,074] Trial 162 finished with value: 0.7834285714285714 and parameters: {'max_depth': 27, 'min_samples_split': 39, 'min_samples_leaf': 9, 'max_leaf_nodes': 27}. Best is trial 147 with value: 0.7834285714285715.\n",
      "[I 2024-02-08 18:43:33,373] Trial 163 finished with value: 0.7834285714285714 and parameters: {'max_depth': 27, 'min_samples_split': 40, 'min_samples_leaf': 9, 'max_leaf_nodes': 27}. Best is trial 147 with value: 0.7834285714285715.\n",
      "[I 2024-02-08 18:43:33,553] Trial 164 finished with value: 0.781142857142857 and parameters: {'max_depth': 27, 'min_samples_split': 40, 'min_samples_leaf': 9, 'max_leaf_nodes': 24}. Best is trial 147 with value: 0.7834285714285715.\n",
      "[I 2024-02-08 18:43:33,614] Trial 165 finished with value: 0.5782857142857143 and parameters: {'max_depth': 28, 'min_samples_split': 40, 'min_samples_leaf': 9, 'max_leaf_nodes': 3}. Best is trial 147 with value: 0.7834285714285715.\n",
      "[I 2024-02-08 18:43:33,968] Trial 166 finished with value: 0.7834285714285714 and parameters: {'max_depth': 28, 'min_samples_split': 40, 'min_samples_leaf': 9, 'max_leaf_nodes': 27}. Best is trial 147 with value: 0.7834285714285715.\n",
      "[I 2024-02-08 18:43:34,028] Trial 167 finished with value: 0.6782857142857144 and parameters: {'max_depth': 26, 'min_samples_split': 40, 'min_samples_leaf': 9, 'max_leaf_nodes': 5}. Best is trial 147 with value: 0.7834285714285715.\n",
      "[I 2024-02-08 18:43:34,334] Trial 168 finished with value: 0.7834285714285714 and parameters: {'max_depth': 26, 'min_samples_split': 40, 'min_samples_leaf': 9, 'max_leaf_nodes': 27}. Best is trial 147 with value: 0.7834285714285715.\n",
      "[I 2024-02-08 18:43:34,414] Trial 169 finished with value: 0.5782857142857143 and parameters: {'max_depth': 29, 'min_samples_split': 38, 'min_samples_leaf': 8, 'max_leaf_nodes': 3}. Best is trial 147 with value: 0.7834285714285715.\n",
      "[I 2024-02-08 18:43:34,707] Trial 170 finished with value: 0.7794285714285715 and parameters: {'max_depth': 28, 'min_samples_split': 38, 'min_samples_leaf': 8, 'max_leaf_nodes': 26}. Best is trial 147 with value: 0.7834285714285715.\n",
      "[I 2024-02-08 18:43:34,883] Trial 171 finished with value: 0.7794285714285715 and parameters: {'max_depth': 29, 'min_samples_split': 38, 'min_samples_leaf': 8, 'max_leaf_nodes': 26}. Best is trial 147 with value: 0.7834285714285715.\n",
      "[I 2024-02-08 18:43:35,142] Trial 172 finished with value: 0.7794285714285715 and parameters: {'max_depth': 28, 'min_samples_split': 40, 'min_samples_leaf': 8, 'max_leaf_nodes': 26}. Best is trial 147 with value: 0.7834285714285715.\n",
      "[I 2024-02-08 18:43:35,517] Trial 173 finished with value: 0.7822857142857143 and parameters: {'max_depth': 28, 'min_samples_split': 38, 'min_samples_leaf': 9, 'max_leaf_nodes': 26}. Best is trial 147 with value: 0.7834285714285715.\n",
      "[I 2024-02-08 18:43:35,825] Trial 174 finished with value: 0.7822857142857143 and parameters: {'max_depth': 28, 'min_samples_split': 40, 'min_samples_leaf': 9, 'max_leaf_nodes': 26}. Best is trial 147 with value: 0.7834285714285715.\n",
      "[I 2024-02-08 18:43:36,048] Trial 175 finished with value: 0.7822857142857143 and parameters: {'max_depth': 29, 'min_samples_split': 40, 'min_samples_leaf': 9, 'max_leaf_nodes': 26}. Best is trial 147 with value: 0.7834285714285715.\n",
      "[I 2024-02-08 18:43:36,292] Trial 176 finished with value: 0.7794285714285715 and parameters: {'max_depth': 28, 'min_samples_split': 40, 'min_samples_leaf': 8, 'max_leaf_nodes': 26}. Best is trial 147 with value: 0.7834285714285715.\n",
      "[I 2024-02-08 18:43:36,429] Trial 177 finished with value: 0.7794285714285715 and parameters: {'max_depth': 29, 'min_samples_split': 40, 'min_samples_leaf': 8, 'max_leaf_nodes': 26}. Best is trial 147 with value: 0.7834285714285715.\n",
      "[I 2024-02-08 18:43:36,834] Trial 178 finished with value: 0.7794285714285715 and parameters: {'max_depth': 28, 'min_samples_split': 40, 'min_samples_leaf': 8, 'max_leaf_nodes': 26}. Best is trial 147 with value: 0.7834285714285715.\n",
      "[I 2024-02-08 18:43:37,070] Trial 179 finished with value: 0.7794285714285715 and parameters: {'max_depth': 29, 'min_samples_split': 40, 'min_samples_leaf': 8, 'max_leaf_nodes': 26}. Best is trial 147 with value: 0.7834285714285715.\n",
      "[I 2024-02-08 18:43:37,392] Trial 180 finished with value: 0.7794285714285715 and parameters: {'max_depth': 29, 'min_samples_split': 40, 'min_samples_leaf': 8, 'max_leaf_nodes': 26}. Best is trial 147 with value: 0.7834285714285715.\n",
      "[I 2024-02-08 18:43:37,604] Trial 181 finished with value: 0.7805714285714286 and parameters: {'max_depth': 28, 'min_samples_split': 40, 'min_samples_leaf': 10, 'max_leaf_nodes': 26}. Best is trial 147 with value: 0.7834285714285715.\n",
      "[I 2024-02-08 18:43:37,845] Trial 182 finished with value: 0.7805714285714286 and parameters: {'max_depth': 29, 'min_samples_split': 40, 'min_samples_leaf': 10, 'max_leaf_nodes': 26}. Best is trial 147 with value: 0.7834285714285715.\n",
      "[I 2024-02-08 18:43:37,979] Trial 183 finished with value: 0.7794285714285715 and parameters: {'max_depth': 28, 'min_samples_split': 40, 'min_samples_leaf': 10, 'max_leaf_nodes': 27}. Best is trial 147 with value: 0.7834285714285715.\n",
      "[I 2024-02-08 18:43:38,348] Trial 184 finished with value: 0.7794285714285715 and parameters: {'max_depth': 28, 'min_samples_split': 40, 'min_samples_leaf': 10, 'max_leaf_nodes': 27}. Best is trial 147 with value: 0.7834285714285715.\n",
      "[I 2024-02-08 18:43:38,560] Trial 185 finished with value: 0.7788571428571428 and parameters: {'max_depth': 26, 'min_samples_split': 40, 'min_samples_leaf': 10, 'max_leaf_nodes': 27}. Best is trial 147 with value: 0.7834285714285715.\n",
      "[I 2024-02-08 18:43:38,808] Trial 186 finished with value: 0.7794285714285715 and parameters: {'max_depth': 30, 'min_samples_split': 40, 'min_samples_leaf': 10, 'max_leaf_nodes': 27}. Best is trial 147 with value: 0.7834285714285715.\n",
      "[I 2024-02-08 18:43:39,139] Trial 187 finished with value: 0.7834285714285714 and parameters: {'max_depth': 30, 'min_samples_split': 40, 'min_samples_leaf': 9, 'max_leaf_nodes': 27}. Best is trial 147 with value: 0.7834285714285715.\n",
      "[I 2024-02-08 18:43:39,262] Trial 188 finished with value: 0.7794285714285715 and parameters: {'max_depth': 30, 'min_samples_split': 40, 'min_samples_leaf': 10, 'max_leaf_nodes': 27}. Best is trial 147 with value: 0.7834285714285715.\n",
      "[I 2024-02-08 18:43:39,535] Trial 189 finished with value: 0.7794285714285715 and parameters: {'max_depth': 30, 'min_samples_split': 40, 'min_samples_leaf': 10, 'max_leaf_nodes': 27}. Best is trial 147 with value: 0.7834285714285715.\n",
      "[I 2024-02-08 18:43:39,928] Trial 190 finished with value: 0.7788571428571428 and parameters: {'max_depth': 30, 'min_samples_split': 38, 'min_samples_leaf': 10, 'max_leaf_nodes': 27}. Best is trial 147 with value: 0.7834285714285715.\n",
      "[I 2024-02-08 18:43:40,218] Trial 191 finished with value: 0.7788571428571428 and parameters: {'max_depth': 30, 'min_samples_split': 38, 'min_samples_leaf': 10, 'max_leaf_nodes': 27}. Best is trial 147 with value: 0.7834285714285715.\n",
      "[I 2024-02-08 18:43:40,484] Trial 192 finished with value: 0.7788571428571428 and parameters: {'max_depth': 26, 'min_samples_split': 39, 'min_samples_leaf': 10, 'max_leaf_nodes': 27}. Best is trial 147 with value: 0.7834285714285715.\n",
      "[I 2024-02-08 18:43:40,709] Trial 193 finished with value: 0.7811428571428571 and parameters: {'max_depth': 26, 'min_samples_split': 2, 'min_samples_leaf': 9, 'max_leaf_nodes': 27}. Best is trial 147 with value: 0.7834285714285715.\n",
      "[I 2024-02-08 18:43:40,929] Trial 194 finished with value: 0.7817142857142857 and parameters: {'max_depth': 26, 'min_samples_split': 3, 'min_samples_leaf': 9, 'max_leaf_nodes': 27}. Best is trial 147 with value: 0.7834285714285715.\n",
      "[I 2024-02-08 18:43:41,181] Trial 195 finished with value: 0.7834285714285714 and parameters: {'max_depth': 26, 'min_samples_split': 38, 'min_samples_leaf': 9, 'max_leaf_nodes': 27}. Best is trial 147 with value: 0.7834285714285715.\n",
      "[I 2024-02-08 18:43:41,315] Trial 196 finished with value: 0.7314285714285715 and parameters: {'max_depth': 26, 'min_samples_split': 38, 'min_samples_leaf': 9, 'max_leaf_nodes': 11}. Best is trial 147 with value: 0.7834285714285715.\n",
      "[I 2024-02-08 18:43:41,702] Trial 197 finished with value: 0.7834285714285714 and parameters: {'max_depth': 30, 'min_samples_split': 38, 'min_samples_leaf': 9, 'max_leaf_nodes': 27}. Best is trial 147 with value: 0.7834285714285715.\n",
      "[I 2024-02-08 18:43:41,928] Trial 198 finished with value: 0.7822857142857143 and parameters: {'max_depth': 26, 'min_samples_split': 38, 'min_samples_leaf': 9, 'max_leaf_nodes': 28}. Best is trial 147 with value: 0.7834285714285715.\n",
      "[I 2024-02-08 18:43:42,149] Trial 199 finished with value: 0.7822857142857143 and parameters: {'max_depth': 30, 'min_samples_split': 38, 'min_samples_leaf': 9, 'max_leaf_nodes': 28}. Best is trial 147 with value: 0.7834285714285715.\n",
      "[I 2024-02-08 18:43:42,423] Trial 200 finished with value: 0.7822857142857143 and parameters: {'max_depth': 26, 'min_samples_split': 38, 'min_samples_leaf': 9, 'max_leaf_nodes': 28}. Best is trial 147 with value: 0.7834285714285715.\n",
      "[I 2024-02-08 18:43:42,603] Trial 201 finished with value: 0.7822857142857143 and parameters: {'max_depth': 26, 'min_samples_split': 38, 'min_samples_leaf': 9, 'max_leaf_nodes': 28}. Best is trial 147 with value: 0.7834285714285715.\n",
      "[I 2024-02-08 18:43:42,915] Trial 202 finished with value: 0.7365714285714285 and parameters: {'max_depth': 26, 'min_samples_split': 39, 'min_samples_leaf': 9, 'max_leaf_nodes': 12}. Best is trial 147 with value: 0.7834285714285715.\n",
      "[I 2024-02-08 18:43:43,153] Trial 203 finished with value: 0.7822857142857143 and parameters: {'max_depth': 27, 'min_samples_split': 39, 'min_samples_leaf': 9, 'max_leaf_nodes': 28}. Best is trial 147 with value: 0.7834285714285715.\n",
      "[I 2024-02-08 18:43:43,323] Trial 204 finished with value: 0.7822857142857143 and parameters: {'max_depth': 27, 'min_samples_split': 39, 'min_samples_leaf': 9, 'max_leaf_nodes': 28}. Best is trial 147 with value: 0.7834285714285715.\n",
      "[I 2024-02-08 18:43:43,571] Trial 205 finished with value: 0.7822857142857143 and parameters: {'max_depth': 26, 'min_samples_split': 39, 'min_samples_leaf': 9, 'max_leaf_nodes': 28}. Best is trial 147 with value: 0.7834285714285715.\n",
      "[I 2024-02-08 18:43:43,843] Trial 206 finished with value: 0.7314285714285715 and parameters: {'max_depth': 26, 'min_samples_split': 2, 'min_samples_leaf': 9, 'max_leaf_nodes': 10}. Best is trial 147 with value: 0.7834285714285715.\n",
      "[I 2024-02-08 18:43:44,143] Trial 207 finished with value: 0.7799999999999999 and parameters: {'max_depth': 26, 'min_samples_split': 6, 'min_samples_leaf': 9, 'max_leaf_nodes': 28}. Best is trial 147 with value: 0.7834285714285715.\n",
      "[I 2024-02-08 18:43:44,273] Trial 208 finished with value: 0.7788571428571428 and parameters: {'max_depth': 26, 'min_samples_split': 5, 'min_samples_leaf': 7, 'max_leaf_nodes': 28}. Best is trial 147 with value: 0.7834285714285715.\n",
      "[I 2024-02-08 18:43:44,627] Trial 209 finished with value: 0.772 and parameters: {'max_depth': 26, 'min_samples_split': 2, 'min_samples_leaf': 11, 'max_leaf_nodes': 27}. Best is trial 147 with value: 0.7834285714285715.\n",
      "[I 2024-02-08 18:43:44,900] Trial 210 finished with value: 0.7731428571428572 and parameters: {'max_depth': 25, 'min_samples_split': 3, 'min_samples_leaf': 11, 'max_leaf_nodes': 28}. Best is trial 147 with value: 0.7834285714285715.\n",
      "[I 2024-02-08 18:43:45,074] Trial 211 finished with value: 0.7731428571428572 and parameters: {'max_depth': 29, 'min_samples_split': 8, 'min_samples_leaf': 11, 'max_leaf_nodes': 28}. Best is trial 147 with value: 0.7834285714285715.\n",
      "[I 2024-02-08 18:43:45,431] Trial 212 finished with value: 0.78 and parameters: {'max_depth': 25, 'min_samples_split': 38, 'min_samples_leaf': 7, 'max_leaf_nodes': 28}. Best is trial 147 with value: 0.7834285714285715.\n",
      "[I 2024-02-08 18:43:45,694] Trial 213 finished with value: 0.7731428571428572 and parameters: {'max_depth': 25, 'min_samples_split': 8, 'min_samples_leaf': 11, 'max_leaf_nodes': 28}. Best is trial 147 with value: 0.7834285714285715.\n",
      "[I 2024-02-08 18:43:45,929] Trial 214 finished with value: 0.7742857142857142 and parameters: {'max_depth': 25, 'min_samples_split': 38, 'min_samples_leaf': 11, 'max_leaf_nodes': 28}. Best is trial 147 with value: 0.7834285714285715.\n",
      "[I 2024-02-08 18:43:46,126] Trial 215 finished with value: 0.7754285714285714 and parameters: {'max_depth': 25, 'min_samples_split': 38, 'min_samples_leaf': 11, 'max_leaf_nodes': 28}. Best is trial 147 with value: 0.7834285714285715.\n",
      "[I 2024-02-08 18:43:46,424] Trial 216 finished with value: 0.78 and parameters: {'max_depth': 29, 'min_samples_split': 38, 'min_samples_leaf': 7, 'max_leaf_nodes': 28}. Best is trial 147 with value: 0.7834285714285715.\n",
      "[I 2024-02-08 18:43:46,725] Trial 217 finished with value: 0.78 and parameters: {'max_depth': 25, 'min_samples_split': 38, 'min_samples_leaf': 7, 'max_leaf_nodes': 28}. Best is trial 147 with value: 0.7834285714285715.\n",
      "[I 2024-02-08 18:43:46,944] Trial 218 finished with value: 0.78 and parameters: {'max_depth': 25, 'min_samples_split': 38, 'min_samples_leaf': 7, 'max_leaf_nodes': 28}. Best is trial 147 with value: 0.7834285714285715.\n",
      "[I 2024-02-08 18:43:47,231] Trial 219 finished with value: 0.7742857142857142 and parameters: {'max_depth': 25, 'min_samples_split': 38, 'min_samples_leaf': 11, 'max_leaf_nodes': 30}. Best is trial 147 with value: 0.7834285714285715.\n",
      "[I 2024-02-08 18:43:47,533] Trial 220 finished with value: 0.7731428571428571 and parameters: {'max_depth': 25, 'min_samples_split': 38, 'min_samples_leaf': 11, 'max_leaf_nodes': 30}. Best is trial 147 with value: 0.7834285714285715.\n",
      "[I 2024-02-08 18:43:47,775] Trial 221 finished with value: 0.7794285714285715 and parameters: {'max_depth': 25, 'min_samples_split': 38, 'min_samples_leaf': 7, 'max_leaf_nodes': 30}. Best is trial 147 with value: 0.7834285714285715.\n",
      "[I 2024-02-08 18:43:48,020] Trial 222 finished with value: 0.7811428571428571 and parameters: {'max_depth': 25, 'min_samples_split': 38, 'min_samples_leaf': 9, 'max_leaf_nodes': 29}. Best is trial 147 with value: 0.7834285714285715.\n",
      "[I 2024-02-08 18:43:48,368] Trial 223 finished with value: 0.78 and parameters: {'max_depth': 27, 'min_samples_split': 38, 'min_samples_leaf': 7, 'max_leaf_nodes': 29}. Best is trial 147 with value: 0.7834285714285715.\n",
      "[I 2024-02-08 18:43:48,714] Trial 224 finished with value: 0.7805714285714286 and parameters: {'max_depth': 27, 'min_samples_split': 37, 'min_samples_leaf': 9, 'max_leaf_nodes': 30}. Best is trial 147 with value: 0.7834285714285715.\n",
      "[I 2024-02-08 18:43:48,998] Trial 225 finished with value: 0.7805714285714286 and parameters: {'max_depth': 27, 'min_samples_split': 37, 'min_samples_leaf': 9, 'max_leaf_nodes': 30}. Best is trial 147 with value: 0.7834285714285715.\n",
      "[I 2024-02-08 18:43:49,197] Trial 226 finished with value: 0.7817142857142857 and parameters: {'max_depth': 27, 'min_samples_split': 37, 'min_samples_leaf': 9, 'max_leaf_nodes': 29}. Best is trial 147 with value: 0.7834285714285715.\n",
      "[I 2024-02-08 18:43:49,457] Trial 227 finished with value: 0.7805714285714286 and parameters: {'max_depth': 27, 'min_samples_split': 37, 'min_samples_leaf': 9, 'max_leaf_nodes': 30}. Best is trial 147 with value: 0.7834285714285715.\n",
      "[I 2024-02-08 18:43:49,785] Trial 228 finished with value: 0.7811428571428571 and parameters: {'max_depth': 27, 'min_samples_split': 39, 'min_samples_leaf': 9, 'max_leaf_nodes': 29}. Best is trial 147 with value: 0.7834285714285715.\n",
      "[I 2024-02-08 18:43:50,047] Trial 229 finished with value: 0.7811428571428571 and parameters: {'max_depth': 27, 'min_samples_split': 39, 'min_samples_leaf': 9, 'max_leaf_nodes': 29}. Best is trial 147 with value: 0.7834285714285715.\n",
      "[I 2024-02-08 18:43:50,299] Trial 230 finished with value: 0.7794285714285714 and parameters: {'max_depth': 27, 'min_samples_split': 39, 'min_samples_leaf': 9, 'max_leaf_nodes': 30}. Best is trial 147 with value: 0.7834285714285715.\n",
      "[I 2024-02-08 18:43:50,606] Trial 231 finished with value: 0.7811428571428571 and parameters: {'max_depth': 27, 'min_samples_split': 39, 'min_samples_leaf': 9, 'max_leaf_nodes': 29}. Best is trial 147 with value: 0.7834285714285715.\n",
      "[I 2024-02-08 18:43:50,889] Trial 232 finished with value: 0.7811428571428571 and parameters: {'max_depth': 27, 'min_samples_split': 39, 'min_samples_leaf': 9, 'max_leaf_nodes': 29}. Best is trial 147 with value: 0.7834285714285715.\n",
      "[I 2024-02-08 18:43:51,147] Trial 233 finished with value: 0.7811428571428571 and parameters: {'max_depth': 27, 'min_samples_split': 39, 'min_samples_leaf': 9, 'max_leaf_nodes': 29}. Best is trial 147 with value: 0.7834285714285715.\n",
      "[I 2024-02-08 18:43:51,381] Trial 234 finished with value: 0.7811428571428571 and parameters: {'max_depth': 27, 'min_samples_split': 39, 'min_samples_leaf': 9, 'max_leaf_nodes': 29}. Best is trial 147 with value: 0.7834285714285715.\n",
      "[I 2024-02-08 18:43:51,559] Trial 235 finished with value: 0.7811428571428571 and parameters: {'max_depth': 27, 'min_samples_split': 39, 'min_samples_leaf': 9, 'max_leaf_nodes': 29}. Best is trial 147 with value: 0.7834285714285715.\n",
      "[I 2024-02-08 18:43:51,900] Trial 236 finished with value: 0.7834285714285714 and parameters: {'max_depth': 28, 'min_samples_split': 39, 'min_samples_leaf': 9, 'max_leaf_nodes': 27}. Best is trial 147 with value: 0.7834285714285715.\n",
      "[I 2024-02-08 18:43:52,058] Trial 237 finished with value: 0.7811428571428571 and parameters: {'max_depth': 28, 'min_samples_split': 39, 'min_samples_leaf': 9, 'max_leaf_nodes': 29}. Best is trial 147 with value: 0.7834285714285715.\n",
      "[I 2024-02-08 18:43:52,334] Trial 238 finished with value: 0.7834285714285714 and parameters: {'max_depth': 28, 'min_samples_split': 39, 'min_samples_leaf': 9, 'max_leaf_nodes': 27}. Best is trial 147 with value: 0.7834285714285715.\n",
      "[I 2024-02-08 18:43:52,704] Trial 239 finished with value: 0.7788571428571428 and parameters: {'max_depth': 28, 'min_samples_split': 39, 'min_samples_leaf': 8, 'max_leaf_nodes': 27}. Best is trial 147 with value: 0.7834285714285715.\n",
      "[I 2024-02-08 18:43:52,937] Trial 240 finished with value: 0.7788571428571428 and parameters: {'max_depth': 28, 'min_samples_split': 39, 'min_samples_leaf': 8, 'max_leaf_nodes': 27}. Best is trial 147 with value: 0.7834285714285715.\n",
      "[I 2024-02-08 18:43:53,222] Trial 241 finished with value: 0.7788571428571428 and parameters: {'max_depth': 28, 'min_samples_split': 39, 'min_samples_leaf': 8, 'max_leaf_nodes': 27}. Best is trial 147 with value: 0.7834285714285715.\n",
      "[I 2024-02-08 18:43:53,524] Trial 242 finished with value: 0.7788571428571428 and parameters: {'max_depth': 28, 'min_samples_split': 39, 'min_samples_leaf': 8, 'max_leaf_nodes': 27}. Best is trial 147 with value: 0.7834285714285715.\n",
      "[I 2024-02-08 18:43:53,689] Trial 243 finished with value: 0.7788571428571428 and parameters: {'max_depth': 28, 'min_samples_split': 39, 'min_samples_leaf': 8, 'max_leaf_nodes': 27}. Best is trial 147 with value: 0.7834285714285715.\n",
      "[I 2024-02-08 18:43:54,001] Trial 244 finished with value: 0.7788571428571428 and parameters: {'max_depth': 28, 'min_samples_split': 39, 'min_samples_leaf': 8, 'max_leaf_nodes': 27}. Best is trial 147 with value: 0.7834285714285715.\n",
      "[I 2024-02-08 18:43:54,234] Trial 245 finished with value: 0.7794285714285715 and parameters: {'max_depth': 28, 'min_samples_split': 37, 'min_samples_leaf': 8, 'max_leaf_nodes': 27}. Best is trial 147 with value: 0.7834285714285715.\n",
      "[I 2024-02-08 18:43:54,527] Trial 246 finished with value: 0.7794285714285715 and parameters: {'max_depth': 28, 'min_samples_split': 37, 'min_samples_leaf': 8, 'max_leaf_nodes': 27}. Best is trial 147 with value: 0.7834285714285715.\n",
      "[I 2024-02-08 18:43:54,762] Trial 247 finished with value: 0.7794285714285715 and parameters: {'max_depth': 28, 'min_samples_split': 37, 'min_samples_leaf': 8, 'max_leaf_nodes': 27}. Best is trial 147 with value: 0.7834285714285715.\n",
      "[I 2024-02-08 18:43:55,121] Trial 248 finished with value: 0.7788571428571428 and parameters: {'max_depth': 28, 'min_samples_split': 39, 'min_samples_leaf': 8, 'max_leaf_nodes': 27}. Best is trial 147 with value: 0.7834285714285715.\n",
      "[I 2024-02-08 18:43:55,271] Trial 249 finished with value: 0.7782857142857142 and parameters: {'max_depth': 30, 'min_samples_split': 11, 'min_samples_leaf': 8, 'max_leaf_nodes': 27}. Best is trial 147 with value: 0.7834285714285715.\n",
      "[I 2024-02-08 18:43:55,519] Trial 250 finished with value: 0.7788571428571428 and parameters: {'max_depth': 29, 'min_samples_split': 39, 'min_samples_leaf': 8, 'max_leaf_nodes': 27}. Best is trial 147 with value: 0.7834285714285715.\n",
      "[I 2024-02-08 18:43:55,782] Trial 251 finished with value: 0.7794285714285715 and parameters: {'max_depth': 30, 'min_samples_split': 37, 'min_samples_leaf': 8, 'max_leaf_nodes': 27}. Best is trial 147 with value: 0.7834285714285715.\n",
      "[I 2024-02-08 18:43:56,063] Trial 252 finished with value: 0.7794285714285715 and parameters: {'max_depth': 30, 'min_samples_split': 37, 'min_samples_leaf': 8, 'max_leaf_nodes': 27}. Best is trial 147 with value: 0.7834285714285715.\n",
      "[I 2024-02-08 18:43:56,326] Trial 253 finished with value: 0.7794285714285715 and parameters: {'max_depth': 30, 'min_samples_split': 37, 'min_samples_leaf': 8, 'max_leaf_nodes': 27}. Best is trial 147 with value: 0.7834285714285715.\n",
      "[I 2024-02-08 18:43:56,583] Trial 254 finished with value: 0.7794285714285715 and parameters: {'max_depth': 30, 'min_samples_split': 37, 'min_samples_leaf': 8, 'max_leaf_nodes': 27}. Best is trial 147 with value: 0.7834285714285715.\n",
      "[I 2024-02-08 18:43:56,816] Trial 255 finished with value: 0.7788571428571428 and parameters: {'max_depth': 30, 'min_samples_split': 37, 'min_samples_leaf': 10, 'max_leaf_nodes': 28}. Best is trial 147 with value: 0.7834285714285715.\n",
      "[I 2024-02-08 18:43:57,107] Trial 256 finished with value: 0.7828571428571428 and parameters: {'max_depth': 30, 'min_samples_split': 37, 'min_samples_leaf': 9, 'max_leaf_nodes': 28}. Best is trial 147 with value: 0.7834285714285715.\n",
      "[I 2024-02-08 18:43:57,354] Trial 257 finished with value: 0.7794285714285714 and parameters: {'max_depth': 30, 'min_samples_split': 37, 'min_samples_leaf': 10, 'max_leaf_nodes': 28}. Best is trial 147 with value: 0.7834285714285715.\n",
      "[I 2024-02-08 18:43:57,592] Trial 258 finished with value: 0.7765714285714285 and parameters: {'max_depth': 30, 'min_samples_split': 10, 'min_samples_leaf': 10, 'max_leaf_nodes': 28}. Best is trial 147 with value: 0.7834285714285715.\n",
      "[I 2024-02-08 18:43:57,766] Trial 259 finished with value: 0.7788571428571428 and parameters: {'max_depth': 30, 'min_samples_split': 38, 'min_samples_leaf': 10, 'max_leaf_nodes': 28}. Best is trial 147 with value: 0.7834285714285715.\n",
      "[I 2024-02-08 18:43:58,047] Trial 260 finished with value: 0.7782857142857142 and parameters: {'max_depth': 30, 'min_samples_split': 40, 'min_samples_leaf': 10, 'max_leaf_nodes': 28}. Best is trial 147 with value: 0.7834285714285715.\n",
      "[I 2024-02-08 18:43:58,342] Trial 261 finished with value: 0.764 and parameters: {'max_depth': 6, 'min_samples_split': 40, 'min_samples_leaf': 10, 'max_leaf_nodes': 28}. Best is trial 147 with value: 0.7834285714285715.\n",
      "[I 2024-02-08 18:43:58,666] Trial 262 finished with value: 0.7788571428571428 and parameters: {'max_depth': 29, 'min_samples_split': 40, 'min_samples_leaf': 10, 'max_leaf_nodes': 28}. Best is trial 147 with value: 0.7834285714285715.\n",
      "[I 2024-02-08 18:43:58,942] Trial 263 finished with value: 0.7822857142857143 and parameters: {'max_depth': 29, 'min_samples_split': 40, 'min_samples_leaf': 9, 'max_leaf_nodes': 28}. Best is trial 147 with value: 0.7834285714285715.\n",
      "[I 2024-02-08 18:43:59,179] Trial 264 finished with value: 0.7822857142857143 and parameters: {'max_depth': 29, 'min_samples_split': 40, 'min_samples_leaf': 9, 'max_leaf_nodes': 28}. Best is trial 147 with value: 0.7834285714285715.\n",
      "[I 2024-02-08 18:43:59,379] Trial 265 finished with value: 0.7314285714285714 and parameters: {'max_depth': 5, 'min_samples_split': 40, 'min_samples_leaf': 10, 'max_leaf_nodes': 28}. Best is trial 147 with value: 0.7834285714285715.\n",
      "[I 2024-02-08 18:43:59,609] Trial 266 finished with value: 0.7788571428571428 and parameters: {'max_depth': 29, 'min_samples_split': 40, 'min_samples_leaf': 10, 'max_leaf_nodes': 28}. Best is trial 147 with value: 0.7834285714285715.\n",
      "[I 2024-02-08 18:43:59,914] Trial 267 finished with value: 0.7782857142857142 and parameters: {'max_depth': 29, 'min_samples_split': 40, 'min_samples_leaf': 10, 'max_leaf_nodes': 28}. Best is trial 147 with value: 0.7834285714285715.\n",
      "[I 2024-02-08 18:44:00,153] Trial 268 finished with value: 0.7788571428571428 and parameters: {'max_depth': 29, 'min_samples_split': 38, 'min_samples_leaf': 10, 'max_leaf_nodes': 28}. Best is trial 147 with value: 0.7834285714285715.\n",
      "[I 2024-02-08 18:44:00,439] Trial 269 finished with value: 0.7617142857142857 and parameters: {'max_depth': 6, 'min_samples_split': 40, 'min_samples_leaf': 9, 'max_leaf_nodes': 28}. Best is trial 147 with value: 0.7834285714285715.\n",
      "[I 2024-02-08 18:44:00,678] Trial 270 finished with value: 0.7822857142857143 and parameters: {'max_depth': 29, 'min_samples_split': 40, 'min_samples_leaf': 9, 'max_leaf_nodes': 26}. Best is trial 147 with value: 0.7834285714285715.\n",
      "[I 2024-02-08 18:44:00,883] Trial 271 finished with value: 0.7822857142857143 and parameters: {'max_depth': 29, 'min_samples_split': 40, 'min_samples_leaf': 9, 'max_leaf_nodes': 26}. Best is trial 147 with value: 0.7834285714285715.\n",
      "[I 2024-02-08 18:44:01,122] Trial 272 finished with value: 0.7822857142857143 and parameters: {'max_depth': 29, 'min_samples_split': 40, 'min_samples_leaf': 9, 'max_leaf_nodes': 26}. Best is trial 147 with value: 0.7834285714285715.\n",
      "[I 2024-02-08 18:44:01,277] Trial 273 finished with value: 0.7822857142857143 and parameters: {'max_depth': 29, 'min_samples_split': 38, 'min_samples_leaf': 9, 'max_leaf_nodes': 26}. Best is trial 147 with value: 0.7834285714285715.\n",
      "[I 2024-02-08 18:44:01,656] Trial 274 finished with value: 0.7822857142857143 and parameters: {'max_depth': 29, 'min_samples_split': 38, 'min_samples_leaf': 9, 'max_leaf_nodes': 26}. Best is trial 147 with value: 0.7834285714285715.\n",
      "[I 2024-02-08 18:44:01,936] Trial 275 finished with value: 0.7822857142857143 and parameters: {'max_depth': 29, 'min_samples_split': 38, 'min_samples_leaf': 9, 'max_leaf_nodes': 26}. Best is trial 147 with value: 0.7834285714285715.\n",
      "[I 2024-02-08 18:44:02,175] Trial 276 finished with value: 0.7822857142857143 and parameters: {'max_depth': 29, 'min_samples_split': 38, 'min_samples_leaf': 9, 'max_leaf_nodes': 26}. Best is trial 147 with value: 0.7834285714285715.\n",
      "[I 2024-02-08 18:44:02,246] Trial 277 finished with value: 0.7822857142857143 and parameters: {'max_depth': 29, 'min_samples_split': 38, 'min_samples_leaf': 9, 'max_leaf_nodes': 26}. Best is trial 147 with value: 0.7834285714285715.\n",
      "[I 2024-02-08 18:44:02,618] Trial 278 finished with value: 0.7822857142857143 and parameters: {'max_depth': 26, 'min_samples_split': 38, 'min_samples_leaf': 9, 'max_leaf_nodes': 26}. Best is trial 147 with value: 0.7834285714285715.\n",
      "[I 2024-02-08 18:44:02,879] Trial 279 finished with value: 0.7822857142857143 and parameters: {'max_depth': 26, 'min_samples_split': 38, 'min_samples_leaf': 9, 'max_leaf_nodes': 26}. Best is trial 147 with value: 0.7834285714285715.\n",
      "[I 2024-02-08 18:44:03,064] Trial 280 finished with value: 0.7822857142857143 and parameters: {'max_depth': 26, 'min_samples_split': 38, 'min_samples_leaf': 9, 'max_leaf_nodes': 26}. Best is trial 147 with value: 0.7834285714285715.\n",
      "[I 2024-02-08 18:44:03,316] Trial 281 finished with value: 0.7822857142857143 and parameters: {'max_depth': 26, 'min_samples_split': 38, 'min_samples_leaf': 9, 'max_leaf_nodes': 26}. Best is trial 147 with value: 0.7834285714285715.\n",
      "[I 2024-02-08 18:44:03,644] Trial 282 finished with value: 0.7822857142857143 and parameters: {'max_depth': 26, 'min_samples_split': 38, 'min_samples_leaf': 9, 'max_leaf_nodes': 26}. Best is trial 147 with value: 0.7834285714285715.\n",
      "[I 2024-02-08 18:44:03,785] Trial 283 finished with value: 0.784 and parameters: {'max_depth': 26, 'min_samples_split': 38, 'min_samples_leaf': 9, 'max_leaf_nodes': 25}. Best is trial 283 with value: 0.784.\n",
      "[I 2024-02-08 18:44:04,223] Trial 284 finished with value: 0.784 and parameters: {'max_depth': 26, 'min_samples_split': 38, 'min_samples_leaf': 9, 'max_leaf_nodes': 25}. Best is trial 283 with value: 0.784.\n",
      "[I 2024-02-08 18:44:04,407] Trial 285 finished with value: 0.784 and parameters: {'max_depth': 26, 'min_samples_split': 38, 'min_samples_leaf': 9, 'max_leaf_nodes': 25}. Best is trial 283 with value: 0.784.\n",
      "[I 2024-02-08 18:44:04,604] Trial 286 finished with value: 0.784 and parameters: {'max_depth': 26, 'min_samples_split': 38, 'min_samples_leaf': 9, 'max_leaf_nodes': 25}. Best is trial 283 with value: 0.784.\n",
      "[I 2024-02-08 18:44:04,910] Trial 287 finished with value: 0.784 and parameters: {'max_depth': 26, 'min_samples_split': 38, 'min_samples_leaf': 9, 'max_leaf_nodes': 25}. Best is trial 283 with value: 0.784.\n",
      "[I 2024-02-08 18:44:05,175] Trial 288 finished with value: 0.7845714285714286 and parameters: {'max_depth': 26, 'min_samples_split': 36, 'min_samples_leaf': 9, 'max_leaf_nodes': 25}. Best is trial 288 with value: 0.7845714285714286.\n",
      "[I 2024-02-08 18:44:05,438] Trial 289 finished with value: 0.7845714285714286 and parameters: {'max_depth': 26, 'min_samples_split': 36, 'min_samples_leaf': 9, 'max_leaf_nodes': 25}. Best is trial 288 with value: 0.7845714285714286.\n",
      "[I 2024-02-08 18:44:05,688] Trial 290 finished with value: 0.7834285714285714 and parameters: {'max_depth': 24, 'min_samples_split': 36, 'min_samples_leaf': 9, 'max_leaf_nodes': 27}. Best is trial 288 with value: 0.7845714285714286.\n",
      "[I 2024-02-08 18:44:05,829] Trial 291 finished with value: 0.784 and parameters: {'max_depth': 26, 'min_samples_split': 39, 'min_samples_leaf': 9, 'max_leaf_nodes': 25}. Best is trial 288 with value: 0.7845714285714286.\n",
      "[I 2024-02-08 18:44:06,179] Trial 292 finished with value: 0.7845714285714286 and parameters: {'max_depth': 26, 'min_samples_split': 36, 'min_samples_leaf': 9, 'max_leaf_nodes': 25}. Best is trial 288 with value: 0.7845714285714286.\n",
      "[I 2024-02-08 18:44:06,410] Trial 293 finished with value: 0.784 and parameters: {'max_depth': 28, 'min_samples_split': 39, 'min_samples_leaf': 9, 'max_leaf_nodes': 25}. Best is trial 288 with value: 0.7845714285714286.\n",
      "[I 2024-02-08 18:44:06,653] Trial 294 finished with value: 0.7845714285714286 and parameters: {'max_depth': 28, 'min_samples_split': 36, 'min_samples_leaf': 9, 'max_leaf_nodes': 25}. Best is trial 288 with value: 0.7845714285714286.\n",
      "[I 2024-02-08 18:44:06,915] Trial 295 finished with value: 0.7845714285714286 and parameters: {'max_depth': 28, 'min_samples_split': 36, 'min_samples_leaf': 9, 'max_leaf_nodes': 25}. Best is trial 288 with value: 0.7845714285714286.\n",
      "[I 2024-02-08 18:44:07,165] Trial 296 finished with value: 0.784 and parameters: {'max_depth': 24, 'min_samples_split': 39, 'min_samples_leaf': 9, 'max_leaf_nodes': 25}. Best is trial 288 with value: 0.7845714285714286.\n",
      "[I 2024-02-08 18:44:07,405] Trial 297 finished with value: 0.784 and parameters: {'max_depth': 28, 'min_samples_split': 39, 'min_samples_leaf': 9, 'max_leaf_nodes': 25}. Best is trial 288 with value: 0.7845714285714286.\n",
      "[I 2024-02-08 18:44:07,701] Trial 298 finished with value: 0.7845714285714286 and parameters: {'max_depth': 28, 'min_samples_split': 36, 'min_samples_leaf': 9, 'max_leaf_nodes': 25}. Best is trial 288 with value: 0.7845714285714286.\n",
      "[I 2024-02-08 18:44:07,948] Trial 299 finished with value: 0.7811428571428571 and parameters: {'max_depth': 28, 'min_samples_split': 36, 'min_samples_leaf': 8, 'max_leaf_nodes': 25}. Best is trial 288 with value: 0.7845714285714286.\n",
      "[I 2024-02-08 18:44:08,223] Trial 300 finished with value: 0.7674285714285716 and parameters: {'max_depth': 28, 'min_samples_split': 36, 'min_samples_leaf': 18, 'max_leaf_nodes': 25}. Best is trial 288 with value: 0.7845714285714286.\n",
      "[I 2024-02-08 18:44:08,517] Trial 301 finished with value: 0.7811428571428571 and parameters: {'max_depth': 24, 'min_samples_split': 36, 'min_samples_leaf': 8, 'max_leaf_nodes': 25}. Best is trial 288 with value: 0.7845714285714286.\n",
      "[I 2024-02-08 18:44:08,698] Trial 302 finished with value: 0.7811428571428571 and parameters: {'max_depth': 27, 'min_samples_split': 36, 'min_samples_leaf': 8, 'max_leaf_nodes': 25}. Best is trial 288 with value: 0.7845714285714286.\n",
      "[I 2024-02-08 18:44:08,966] Trial 303 finished with value: 0.78 and parameters: {'max_depth': 26, 'min_samples_split': 35, 'min_samples_leaf': 8, 'max_leaf_nodes': 25}. Best is trial 288 with value: 0.7845714285714286.\n",
      "[I 2024-02-08 18:44:09,197] Trial 304 finished with value: 0.7811428571428571 and parameters: {'max_depth': 24, 'min_samples_split': 36, 'min_samples_leaf': 8, 'max_leaf_nodes': 25}. Best is trial 288 with value: 0.7845714285714286.\n",
      "[I 2024-02-08 18:44:09,467] Trial 305 finished with value: 0.7811428571428571 and parameters: {'max_depth': 24, 'min_samples_split': 36, 'min_samples_leaf': 8, 'max_leaf_nodes': 25}. Best is trial 288 with value: 0.7845714285714286.\n",
      "[I 2024-02-08 18:44:09,723] Trial 306 finished with value: 0.7811428571428571 and parameters: {'max_depth': 24, 'min_samples_split': 36, 'min_samples_leaf': 8, 'max_leaf_nodes': 25}. Best is trial 288 with value: 0.7845714285714286.\n",
      "[I 2024-02-08 18:44:09,953] Trial 307 finished with value: 0.78 and parameters: {'max_depth': 26, 'min_samples_split': 35, 'min_samples_leaf': 8, 'max_leaf_nodes': 25}. Best is trial 288 with value: 0.7845714285714286.\n",
      "[I 2024-02-08 18:44:10,240] Trial 308 finished with value: 0.78 and parameters: {'max_depth': 24, 'min_samples_split': 35, 'min_samples_leaf': 8, 'max_leaf_nodes': 25}. Best is trial 288 with value: 0.7845714285714286.\n",
      "[I 2024-02-08 18:44:10,451] Trial 309 finished with value: 0.78 and parameters: {'max_depth': 24, 'min_samples_split': 35, 'min_samples_leaf': 8, 'max_leaf_nodes': 25}. Best is trial 288 with value: 0.7845714285714286.\n",
      "[I 2024-02-08 18:44:10,803] Trial 310 finished with value: 0.78 and parameters: {'max_depth': 27, 'min_samples_split': 35, 'min_samples_leaf': 8, 'max_leaf_nodes': 25}. Best is trial 288 with value: 0.7845714285714286.\n",
      "[I 2024-02-08 18:44:10,972] Trial 311 finished with value: 0.7788571428571428 and parameters: {'max_depth': 27, 'min_samples_split': 35, 'min_samples_leaf': 10, 'max_leaf_nodes': 25}. Best is trial 288 with value: 0.7845714285714286.\n",
      "[I 2024-02-08 18:44:11,182] Trial 312 finished with value: 0.78 and parameters: {'max_depth': 27, 'min_samples_split': 36, 'min_samples_leaf': 10, 'max_leaf_nodes': 25}. Best is trial 288 with value: 0.7845714285714286.\n",
      "[I 2024-02-08 18:44:11,453] Trial 313 finished with value: 0.7788571428571428 and parameters: {'max_depth': 24, 'min_samples_split': 35, 'min_samples_leaf': 10, 'max_leaf_nodes': 25}. Best is trial 288 with value: 0.7845714285714286.\n",
      "[I 2024-02-08 18:44:11,723] Trial 314 finished with value: 0.7788571428571428 and parameters: {'max_depth': 26, 'min_samples_split': 35, 'min_samples_leaf': 10, 'max_leaf_nodes': 25}. Best is trial 288 with value: 0.7845714285714286.\n",
      "[I 2024-02-08 18:44:11,996] Trial 315 finished with value: 0.7805714285714285 and parameters: {'max_depth': 27, 'min_samples_split': 36, 'min_samples_leaf': 10, 'max_leaf_nodes': 25}. Best is trial 288 with value: 0.7845714285714286.\n",
      "[I 2024-02-08 18:44:12,230] Trial 316 finished with value: 0.7794285714285715 and parameters: {'max_depth': 27, 'min_samples_split': 35, 'min_samples_leaf': 10, 'max_leaf_nodes': 25}. Best is trial 288 with value: 0.7845714285714286.\n",
      "[I 2024-02-08 18:44:12,468] Trial 317 finished with value: 0.7794285714285715 and parameters: {'max_depth': 27, 'min_samples_split': 35, 'min_samples_leaf': 10, 'max_leaf_nodes': 25}. Best is trial 288 with value: 0.7845714285714286.\n",
      "[I 2024-02-08 18:44:12,716] Trial 318 finished with value: 0.7794285714285715 and parameters: {'max_depth': 27, 'min_samples_split': 35, 'min_samples_leaf': 10, 'max_leaf_nodes': 25}. Best is trial 288 with value: 0.7845714285714286.\n",
      "[I 2024-02-08 18:44:13,004] Trial 319 finished with value: 0.7794285714285715 and parameters: {'max_depth': 27, 'min_samples_split': 34, 'min_samples_leaf': 10, 'max_leaf_nodes': 25}. Best is trial 288 with value: 0.7845714285714286.\n",
      "[I 2024-02-08 18:44:13,276] Trial 320 finished with value: 0.7805714285714285 and parameters: {'max_depth': 27, 'min_samples_split': 36, 'min_samples_leaf': 10, 'max_leaf_nodes': 24}. Best is trial 288 with value: 0.7845714285714286.\n",
      "[I 2024-02-08 18:44:13,504] Trial 321 finished with value: 0.7805714285714285 and parameters: {'max_depth': 27, 'min_samples_split': 35, 'min_samples_leaf': 10, 'max_leaf_nodes': 24}. Best is trial 288 with value: 0.7845714285714286.\n",
      "[I 2024-02-08 18:44:13,746] Trial 322 finished with value: 0.7805714285714285 and parameters: {'max_depth': 27, 'min_samples_split': 37, 'min_samples_leaf': 10, 'max_leaf_nodes': 24}. Best is trial 288 with value: 0.7845714285714286.\n",
      "[I 2024-02-08 18:44:13,979] Trial 323 finished with value: 0.781142857142857 and parameters: {'max_depth': 26, 'min_samples_split': 37, 'min_samples_leaf': 10, 'max_leaf_nodes': 24}. Best is trial 288 with value: 0.7845714285714286.\n",
      "[I 2024-02-08 18:44:14,231] Trial 324 finished with value: 0.781142857142857 and parameters: {'max_depth': 26, 'min_samples_split': 37, 'min_samples_leaf': 10, 'max_leaf_nodes': 24}. Best is trial 288 with value: 0.7845714285714286.\n",
      "[I 2024-02-08 18:44:14,500] Trial 325 finished with value: 0.781142857142857 and parameters: {'max_depth': 25, 'min_samples_split': 37, 'min_samples_leaf': 10, 'max_leaf_nodes': 24}. Best is trial 288 with value: 0.7845714285714286.\n",
      "[I 2024-02-08 18:44:14,727] Trial 326 finished with value: 0.781142857142857 and parameters: {'max_depth': 25, 'min_samples_split': 37, 'min_samples_leaf': 9, 'max_leaf_nodes': 24}. Best is trial 288 with value: 0.7845714285714286.\n",
      "[I 2024-02-08 18:44:14,897] Trial 327 finished with value: 0.781142857142857 and parameters: {'max_depth': 25, 'min_samples_split': 37, 'min_samples_leaf': 9, 'max_leaf_nodes': 24}. Best is trial 288 with value: 0.7845714285714286.\n",
      "[I 2024-02-08 18:44:15,271] Trial 328 finished with value: 0.781142857142857 and parameters: {'max_depth': 25, 'min_samples_split': 37, 'min_samples_leaf': 9, 'max_leaf_nodes': 24}. Best is trial 288 with value: 0.7845714285714286.\n",
      "[I 2024-02-08 18:44:15,487] Trial 329 finished with value: 0.781142857142857 and parameters: {'max_depth': 25, 'min_samples_split': 37, 'min_samples_leaf': 9, 'max_leaf_nodes': 24}. Best is trial 288 with value: 0.7845714285714286.\n",
      "[I 2024-02-08 18:44:15,734] Trial 330 finished with value: 0.781142857142857 and parameters: {'max_depth': 25, 'min_samples_split': 37, 'min_samples_leaf': 9, 'max_leaf_nodes': 24}. Best is trial 288 with value: 0.7845714285714286.\n",
      "[I 2024-02-08 18:44:15,988] Trial 331 finished with value: 0.781142857142857 and parameters: {'max_depth': 25, 'min_samples_split': 37, 'min_samples_leaf': 9, 'max_leaf_nodes': 24}. Best is trial 288 with value: 0.7845714285714286.\n",
      "[I 2024-02-08 18:44:16,279] Trial 332 finished with value: 0.781142857142857 and parameters: {'max_depth': 25, 'min_samples_split': 37, 'min_samples_leaf': 9, 'max_leaf_nodes': 24}. Best is trial 288 with value: 0.7845714285714286.\n",
      "[I 2024-02-08 18:44:16,556] Trial 333 finished with value: 0.781142857142857 and parameters: {'max_depth': 25, 'min_samples_split': 37, 'min_samples_leaf': 9, 'max_leaf_nodes': 24}. Best is trial 288 with value: 0.7845714285714286.\n",
      "[I 2024-02-08 18:44:16,790] Trial 334 finished with value: 0.781142857142857 and parameters: {'max_depth': 25, 'min_samples_split': 37, 'min_samples_leaf': 9, 'max_leaf_nodes': 24}. Best is trial 288 with value: 0.7845714285714286.\n",
      "[I 2024-02-08 18:44:16,856] Trial 335 finished with value: 0.781142857142857 and parameters: {'max_depth': 25, 'min_samples_split': 39, 'min_samples_leaf': 9, 'max_leaf_nodes': 24}. Best is trial 288 with value: 0.7845714285714286.\n",
      "[I 2024-02-08 18:44:17,241] Trial 336 finished with value: 0.781142857142857 and parameters: {'max_depth': 25, 'min_samples_split': 39, 'min_samples_leaf': 9, 'max_leaf_nodes': 24}. Best is trial 288 with value: 0.7845714285714286.\n",
      "[I 2024-02-08 18:44:17,500] Trial 337 finished with value: 0.781142857142857 and parameters: {'max_depth': 25, 'min_samples_split': 39, 'min_samples_leaf': 9, 'max_leaf_nodes': 24}. Best is trial 288 with value: 0.7845714285714286.\n",
      "[I 2024-02-08 18:44:17,777] Trial 338 finished with value: 0.7805714285714285 and parameters: {'max_depth': 28, 'min_samples_split': 39, 'min_samples_leaf': 9, 'max_leaf_nodes': 23}. Best is trial 288 with value: 0.7845714285714286.\n",
      "[I 2024-02-08 18:44:17,983] Trial 339 finished with value: 0.7485714285714286 and parameters: {'max_depth': 26, 'min_samples_split': 39, 'min_samples_leaf': 9, 'max_leaf_nodes': 14}. Best is trial 288 with value: 0.7845714285714286.\n",
      "[I 2024-02-08 18:44:18,271] Trial 340 finished with value: 0.784 and parameters: {'max_depth': 28, 'min_samples_split': 39, 'min_samples_leaf': 9, 'max_leaf_nodes': 25}. Best is trial 288 with value: 0.7845714285714286.\n",
      "[I 2024-02-08 18:44:18,345] Trial 341 finished with value: 0.7805714285714285 and parameters: {'max_depth': 26, 'min_samples_split': 39, 'min_samples_leaf': 9, 'max_leaf_nodes': 23}. Best is trial 288 with value: 0.7845714285714286.\n",
      "[I 2024-02-08 18:44:18,748] Trial 342 finished with value: 0.784 and parameters: {'max_depth': 26, 'min_samples_split': 39, 'min_samples_leaf': 9, 'max_leaf_nodes': 25}. Best is trial 288 with value: 0.7845714285714286.\n",
      "[I 2024-02-08 18:44:18,990] Trial 343 finished with value: 0.7805714285714285 and parameters: {'max_depth': 28, 'min_samples_split': 39, 'min_samples_leaf': 9, 'max_leaf_nodes': 23}. Best is trial 288 with value: 0.7845714285714286.\n",
      "[I 2024-02-08 18:44:19,093] Trial 344 finished with value: 0.7651428571428571 and parameters: {'max_depth': 28, 'min_samples_split': 39, 'min_samples_leaf': 9, 'max_leaf_nodes': 16}. Best is trial 288 with value: 0.7845714285714286.\n",
      "[I 2024-02-08 18:44:19,446] Trial 345 finished with value: 0.784 and parameters: {'max_depth': 28, 'min_samples_split': 39, 'min_samples_leaf': 9, 'max_leaf_nodes': 25}. Best is trial 288 with value: 0.7845714285714286.\n",
      "[I 2024-02-08 18:44:19,714] Trial 346 finished with value: 0.7742857142857142 and parameters: {'max_depth': 28, 'min_samples_split': 39, 'min_samples_leaf': 12, 'max_leaf_nodes': 23}. Best is trial 288 with value: 0.7845714285714286.\n",
      "[I 2024-02-08 18:44:19,982] Trial 347 finished with value: 0.784 and parameters: {'max_depth': 28, 'min_samples_split': 39, 'min_samples_leaf': 9, 'max_leaf_nodes': 25}. Best is trial 288 with value: 0.7845714285714286.\n",
      "[I 2024-02-08 18:44:20,169] Trial 348 finished with value: 0.784 and parameters: {'max_depth': 28, 'min_samples_split': 39, 'min_samples_leaf': 9, 'max_leaf_nodes': 25}. Best is trial 288 with value: 0.7845714285714286.\n",
      "[I 2024-02-08 18:44:20,451] Trial 349 finished with value: 0.7805714285714286 and parameters: {'max_depth': 28, 'min_samples_split': 39, 'min_samples_leaf': 8, 'max_leaf_nodes': 25}. Best is trial 288 with value: 0.7845714285714286.\n",
      "[I 2024-02-08 18:44:20,717] Trial 350 finished with value: 0.7805714285714286 and parameters: {'max_depth': 26, 'min_samples_split': 39, 'min_samples_leaf': 8, 'max_leaf_nodes': 25}. Best is trial 288 with value: 0.7845714285714286.\n",
      "[I 2024-02-08 18:44:20,967] Trial 351 finished with value: 0.7805714285714286 and parameters: {'max_depth': 28, 'min_samples_split': 39, 'min_samples_leaf': 8, 'max_leaf_nodes': 25}. Best is trial 288 with value: 0.7845714285714286.\n",
      "[I 2024-02-08 18:44:21,218] Trial 352 finished with value: 0.7805714285714286 and parameters: {'max_depth': 28, 'min_samples_split': 39, 'min_samples_leaf': 8, 'max_leaf_nodes': 25}. Best is trial 288 with value: 0.7845714285714286.\n",
      "[I 2024-02-08 18:44:21,493] Trial 353 finished with value: 0.7805714285714286 and parameters: {'max_depth': 28, 'min_samples_split': 39, 'min_samples_leaf': 8, 'max_leaf_nodes': 25}. Best is trial 288 with value: 0.7845714285714286.\n",
      "[I 2024-02-08 18:44:21,684] Trial 354 finished with value: 0.7782857142857142 and parameters: {'max_depth': 28, 'min_samples_split': 39, 'min_samples_leaf': 12, 'max_leaf_nodes': 25}. Best is trial 288 with value: 0.7845714285714286.\n",
      "[I 2024-02-08 18:44:21,876] Trial 355 finished with value: 0.7805714285714286 and parameters: {'max_depth': 28, 'min_samples_split': 39, 'min_samples_leaf': 8, 'max_leaf_nodes': 25}. Best is trial 288 with value: 0.7845714285714286.\n",
      "[I 2024-02-08 18:44:22,155] Trial 356 finished with value: 0.7805714285714286 and parameters: {'max_depth': 28, 'min_samples_split': 38, 'min_samples_leaf': 8, 'max_leaf_nodes': 25}. Best is trial 288 with value: 0.7845714285714286.\n",
      "[I 2024-02-08 18:44:22,457] Trial 357 finished with value: 0.7805714285714286 and parameters: {'max_depth': 28, 'min_samples_split': 38, 'min_samples_leaf': 8, 'max_leaf_nodes': 25}. Best is trial 288 with value: 0.7845714285714286.\n",
      "[I 2024-02-08 18:44:22,722] Trial 358 finished with value: 0.7805714285714286 and parameters: {'max_depth': 26, 'min_samples_split': 38, 'min_samples_leaf': 8, 'max_leaf_nodes': 25}. Best is trial 288 with value: 0.7845714285714286.\n",
      "[I 2024-02-08 18:44:22,889] Trial 359 finished with value: 0.7805714285714286 and parameters: {'max_depth': 28, 'min_samples_split': 38, 'min_samples_leaf': 8, 'max_leaf_nodes': 25}. Best is trial 288 with value: 0.7845714285714286.\n",
      "[I 2024-02-08 18:44:23,239] Trial 360 finished with value: 0.7805714285714286 and parameters: {'max_depth': 28, 'min_samples_split': 38, 'min_samples_leaf': 8, 'max_leaf_nodes': 25}. Best is trial 288 with value: 0.7845714285714286.\n",
      "[I 2024-02-08 18:44:23,489] Trial 361 finished with value: 0.7805714285714286 and parameters: {'max_depth': 28, 'min_samples_split': 38, 'min_samples_leaf': 8, 'max_leaf_nodes': 25}. Best is trial 288 with value: 0.7845714285714286.\n",
      "[I 2024-02-08 18:44:23,751] Trial 362 finished with value: 0.7817142857142858 and parameters: {'max_depth': 28, 'min_samples_split': 38, 'min_samples_leaf': 7, 'max_leaf_nodes': 25}. Best is trial 288 with value: 0.7845714285714286.\n",
      "[I 2024-02-08 18:44:24,000] Trial 363 finished with value: 0.7805714285714286 and parameters: {'max_depth': 28, 'min_samples_split': 38, 'min_samples_leaf': 8, 'max_leaf_nodes': 25}. Best is trial 288 with value: 0.7845714285714286.\n",
      "[I 2024-02-08 18:44:24,185] Trial 364 finished with value: 0.7817142857142858 and parameters: {'max_depth': 28, 'min_samples_split': 38, 'min_samples_leaf': 7, 'max_leaf_nodes': 25}. Best is trial 288 with value: 0.7845714285714286.\n",
      "[I 2024-02-08 18:44:24,512] Trial 365 finished with value: 0.7817142857142858 and parameters: {'max_depth': 26, 'min_samples_split': 38, 'min_samples_leaf': 7, 'max_leaf_nodes': 25}. Best is trial 288 with value: 0.7845714285714286.\n",
      "[I 2024-02-08 18:44:24,697] Trial 366 finished with value: 0.784 and parameters: {'max_depth': 26, 'min_samples_split': 38, 'min_samples_leaf': 9, 'max_leaf_nodes': 25}. Best is trial 288 with value: 0.7845714285714286.\n",
      "[I 2024-02-08 18:44:25,048] Trial 367 finished with value: 0.784 and parameters: {'max_depth': 26, 'min_samples_split': 38, 'min_samples_leaf': 9, 'max_leaf_nodes': 25}. Best is trial 288 with value: 0.7845714285714286.\n",
      "[I 2024-02-08 18:44:25,335] Trial 368 finished with value: 0.784 and parameters: {'max_depth': 27, 'min_samples_split': 38, 'min_samples_leaf': 9, 'max_leaf_nodes': 25}. Best is trial 288 with value: 0.7845714285714286.\n",
      "[I 2024-02-08 18:44:25,541] Trial 369 finished with value: 0.7811428571428572 and parameters: {'max_depth': 26, 'min_samples_split': 36, 'min_samples_leaf': 7, 'max_leaf_nodes': 26}. Best is trial 288 with value: 0.7845714285714286.\n",
      "[I 2024-02-08 18:44:25,650] Trial 370 finished with value: 0.721142857142857 and parameters: {'max_depth': 27, 'min_samples_split': 36, 'min_samples_leaf': 9, 'max_leaf_nodes': 7}. Best is trial 288 with value: 0.7845714285714286.\n",
      "[I 2024-02-08 18:44:25,958] Trial 371 finished with value: 0.7811428571428572 and parameters: {'max_depth': 27, 'min_samples_split': 36, 'min_samples_leaf': 7, 'max_leaf_nodes': 26}. Best is trial 288 with value: 0.7845714285714286.\n",
      "[I 2024-02-08 18:44:26,283] Trial 372 finished with value: 0.7822857142857143 and parameters: {'max_depth': 27, 'min_samples_split': 36, 'min_samples_leaf': 9, 'max_leaf_nodes': 26}. Best is trial 288 with value: 0.7845714285714286.\n",
      "[I 2024-02-08 18:44:26,507] Trial 373 finished with value: 0.7811428571428572 and parameters: {'max_depth': 27, 'min_samples_split': 36, 'min_samples_leaf': 7, 'max_leaf_nodes': 26}. Best is trial 288 with value: 0.7845714285714286.\n",
      "[I 2024-02-08 18:44:26,672] Trial 374 finished with value: 0.7822857142857143 and parameters: {'max_depth': 27, 'min_samples_split': 36, 'min_samples_leaf': 9, 'max_leaf_nodes': 26}. Best is trial 288 with value: 0.7845714285714286.\n",
      "[I 2024-02-08 18:44:27,035] Trial 375 finished with value: 0.7822857142857143 and parameters: {'max_depth': 27, 'min_samples_split': 36, 'min_samples_leaf': 9, 'max_leaf_nodes': 26}. Best is trial 288 with value: 0.7845714285714286.\n",
      "[I 2024-02-08 18:44:27,172] Trial 376 finished with value: 0.7822857142857143 and parameters: {'max_depth': 27, 'min_samples_split': 36, 'min_samples_leaf': 9, 'max_leaf_nodes': 26}. Best is trial 288 with value: 0.7845714285714286.\n",
      "[I 2024-02-08 18:44:27,503] Trial 377 finished with value: 0.7822857142857143 and parameters: {'max_depth': 27, 'min_samples_split': 37, 'min_samples_leaf': 9, 'max_leaf_nodes': 26}. Best is trial 288 with value: 0.7845714285714286.\n",
      "[I 2024-02-08 18:44:27,798] Trial 378 finished with value: 0.7822857142857143 and parameters: {'max_depth': 26, 'min_samples_split': 36, 'min_samples_leaf': 9, 'max_leaf_nodes': 26}. Best is trial 288 with value: 0.7845714285714286.\n",
      "[I 2024-02-08 18:44:28,132] Trial 379 finished with value: 0.7822857142857143 and parameters: {'max_depth': 26, 'min_samples_split': 36, 'min_samples_leaf': 9, 'max_leaf_nodes': 26}. Best is trial 288 with value: 0.7845714285714286.\n",
      "[I 2024-02-08 18:44:28,205] Trial 380 finished with value: 0.7217142857142858 and parameters: {'max_depth': 26, 'min_samples_split': 36, 'min_samples_leaf': 9, 'max_leaf_nodes': 8}. Best is trial 288 with value: 0.7845714285714286.\n",
      "[I 2024-02-08 18:44:28,505] Trial 381 finished with value: 0.7822857142857143 and parameters: {'max_depth': 26, 'min_samples_split': 36, 'min_samples_leaf': 9, 'max_leaf_nodes': 26}. Best is trial 288 with value: 0.7845714285714286.\n",
      "[I 2024-02-08 18:44:28,827] Trial 382 finished with value: 0.7811428571428571 and parameters: {'max_depth': 26, 'min_samples_split': 34, 'min_samples_leaf': 9, 'max_leaf_nodes': 26}. Best is trial 288 with value: 0.7845714285714286.\n",
      "[I 2024-02-08 18:44:29,043] Trial 383 finished with value: 0.781142857142857 and parameters: {'max_depth': 26, 'min_samples_split': 36, 'min_samples_leaf': 9, 'max_leaf_nodes': 24}. Best is trial 288 with value: 0.7845714285714286.\n",
      "[I 2024-02-08 18:44:29,298] Trial 384 finished with value: 0.781142857142857 and parameters: {'max_depth': 26, 'min_samples_split': 36, 'min_samples_leaf': 9, 'max_leaf_nodes': 24}. Best is trial 288 with value: 0.7845714285714286.\n",
      "[I 2024-02-08 18:44:29,558] Trial 385 finished with value: 0.7805714285714285 and parameters: {'max_depth': 26, 'min_samples_split': 28, 'min_samples_leaf': 9, 'max_leaf_nodes': 24}. Best is trial 288 with value: 0.7845714285714286.\n",
      "[I 2024-02-08 18:44:29,766] Trial 386 finished with value: 0.7805714285714285 and parameters: {'max_depth': 26, 'min_samples_split': 37, 'min_samples_leaf': 10, 'max_leaf_nodes': 24}. Best is trial 288 with value: 0.7845714285714286.\n",
      "[I 2024-02-08 18:44:29,993] Trial 387 finished with value: 0.7805714285714285 and parameters: {'max_depth': 26, 'min_samples_split': 34, 'min_samples_leaf': 10, 'max_leaf_nodes': 24}. Best is trial 288 with value: 0.7845714285714286.\n",
      "[I 2024-02-08 18:44:30,287] Trial 388 finished with value: 0.78 and parameters: {'max_depth': 26, 'min_samples_split': 34, 'min_samples_leaf': 10, 'max_leaf_nodes': 24}. Best is trial 288 with value: 0.7845714285714286.\n",
      "[I 2024-02-08 18:44:30,532] Trial 389 finished with value: 0.7628571428571429 and parameters: {'max_depth': 26, 'min_samples_split': 34, 'min_samples_leaf': 15, 'max_leaf_nodes': 24}. Best is trial 288 with value: 0.7845714285714286.\n",
      "[I 2024-02-08 18:44:30,783] Trial 390 finished with value: 0.7805714285714285 and parameters: {'max_depth': 26, 'min_samples_split': 37, 'min_samples_leaf': 10, 'max_leaf_nodes': 24}. Best is trial 288 with value: 0.7845714285714286.\n",
      "[I 2024-02-08 18:44:31,041] Trial 391 finished with value: 0.781142857142857 and parameters: {'max_depth': 26, 'min_samples_split': 37, 'min_samples_leaf': 10, 'max_leaf_nodes': 24}. Best is trial 288 with value: 0.7845714285714286.\n",
      "[I 2024-02-08 18:44:31,288] Trial 392 finished with value: 0.781142857142857 and parameters: {'max_depth': 26, 'min_samples_split': 37, 'min_samples_leaf': 10, 'max_leaf_nodes': 24}. Best is trial 288 with value: 0.7845714285714286.\n",
      "[I 2024-02-08 18:44:31,517] Trial 393 finished with value: 0.78 and parameters: {'max_depth': 22, 'min_samples_split': 34, 'min_samples_leaf': 10, 'max_leaf_nodes': 24}. Best is trial 288 with value: 0.7845714285714286.\n",
      "[I 2024-02-08 18:44:31,743] Trial 394 finished with value: 0.7805714285714285 and parameters: {'max_depth': 22, 'min_samples_split': 37, 'min_samples_leaf': 10, 'max_leaf_nodes': 24}. Best is trial 288 with value: 0.7845714285714286.\n",
      "[I 2024-02-08 18:44:31,796] Trial 395 finished with value: 0.6257142857142857 and parameters: {'max_depth': 2, 'min_samples_split': 37, 'min_samples_leaf': 10, 'max_leaf_nodes': 24}. Best is trial 288 with value: 0.7845714285714286.\n",
      "[I 2024-02-08 18:44:31,974] Trial 396 finished with value: 0.7805714285714285 and parameters: {'max_depth': 26, 'min_samples_split': 37, 'min_samples_leaf': 10, 'max_leaf_nodes': 24}. Best is trial 288 with value: 0.7845714285714286.\n",
      "[I 2024-02-08 18:44:32,333] Trial 397 finished with value: 0.78 and parameters: {'max_depth': 22, 'min_samples_split': 37, 'min_samples_leaf': 10, 'max_leaf_nodes': 25}. Best is trial 288 with value: 0.7845714285714286.\n",
      "[I 2024-02-08 18:44:32,623] Trial 398 finished with value: 0.78 and parameters: {'max_depth': 27, 'min_samples_split': 38, 'min_samples_leaf': 10, 'max_leaf_nodes': 25}. Best is trial 288 with value: 0.7845714285714286.\n",
      "[I 2024-02-08 18:44:32,900] Trial 399 finished with value: 0.78 and parameters: {'max_depth': 27, 'min_samples_split': 38, 'min_samples_leaf': 10, 'max_leaf_nodes': 25}. Best is trial 288 with value: 0.7845714285714286.\n",
      "[I 2024-02-08 18:44:33,171] Trial 400 finished with value: 0.78 and parameters: {'max_depth': 27, 'min_samples_split': 38, 'min_samples_leaf': 10, 'max_leaf_nodes': 25}. Best is trial 288 with value: 0.7845714285714286.\n",
      "[I 2024-02-08 18:44:33,360] Trial 401 finished with value: 0.7794285714285715 and parameters: {'max_depth': 22, 'min_samples_split': 38, 'min_samples_leaf': 10, 'max_leaf_nodes': 25}. Best is trial 288 with value: 0.7845714285714286.\n",
      "[I 2024-02-08 18:44:33,642] Trial 402 finished with value: 0.7794285714285715 and parameters: {'max_depth': 27, 'min_samples_split': 38, 'min_samples_leaf': 10, 'max_leaf_nodes': 25}. Best is trial 288 with value: 0.7845714285714286.\n",
      "[I 2024-02-08 18:44:33,929] Trial 403 finished with value: 0.78 and parameters: {'max_depth': 22, 'min_samples_split': 38, 'min_samples_leaf': 10, 'max_leaf_nodes': 25}. Best is trial 288 with value: 0.7845714285714286.\n",
      "[I 2024-02-08 18:44:34,116] Trial 404 finished with value: 0.784 and parameters: {'max_depth': 22, 'min_samples_split': 38, 'min_samples_leaf': 9, 'max_leaf_nodes': 25}. Best is trial 288 with value: 0.7845714285714286.\n",
      "[I 2024-02-08 18:44:34,420] Trial 405 finished with value: 0.784 and parameters: {'max_depth': 23, 'min_samples_split': 38, 'min_samples_leaf': 9, 'max_leaf_nodes': 25}. Best is trial 288 with value: 0.7845714285714286.\n",
      "[I 2024-02-08 18:44:34,663] Trial 406 finished with value: 0.784 and parameters: {'max_depth': 23, 'min_samples_split': 38, 'min_samples_leaf': 9, 'max_leaf_nodes': 25}. Best is trial 288 with value: 0.7845714285714286.\n",
      "[I 2024-02-08 18:44:34,881] Trial 407 finished with value: 0.784 and parameters: {'max_depth': 27, 'min_samples_split': 38, 'min_samples_leaf': 9, 'max_leaf_nodes': 25}. Best is trial 288 with value: 0.7845714285714286.\n",
      "[I 2024-02-08 18:44:35,056] Trial 408 finished with value: 0.784 and parameters: {'max_depth': 27, 'min_samples_split': 39, 'min_samples_leaf': 9, 'max_leaf_nodes': 25}. Best is trial 288 with value: 0.7845714285714286.\n",
      "[I 2024-02-08 18:44:35,387] Trial 409 finished with value: 0.7805714285714286 and parameters: {'max_depth': 27, 'min_samples_split': 39, 'min_samples_leaf': 8, 'max_leaf_nodes': 25}. Best is trial 288 with value: 0.7845714285714286.\n",
      "[I 2024-02-08 18:44:35,646] Trial 410 finished with value: 0.784 and parameters: {'max_depth': 27, 'min_samples_split': 39, 'min_samples_leaf': 9, 'max_leaf_nodes': 25}. Best is trial 288 with value: 0.7845714285714286.\n",
      "[I 2024-02-08 18:44:35,912] Trial 411 finished with value: 0.7834285714285714 and parameters: {'max_depth': 27, 'min_samples_split': 21, 'min_samples_leaf': 9, 'max_leaf_nodes': 25}. Best is trial 288 with value: 0.7845714285714286.\n",
      "[I 2024-02-08 18:44:36,164] Trial 412 finished with value: 0.7805714285714286 and parameters: {'max_depth': 25, 'min_samples_split': 31, 'min_samples_leaf': 8, 'max_leaf_nodes': 25}. Best is trial 288 with value: 0.7845714285714286.\n",
      "[I 2024-02-08 18:44:36,350] Trial 413 finished with value: 0.78 and parameters: {'max_depth': 27, 'min_samples_split': 31, 'min_samples_leaf': 9, 'max_leaf_nodes': 23}. Best is trial 288 with value: 0.7845714285714286.\n",
      "[I 2024-02-08 18:44:36,663] Trial 414 finished with value: 0.7805714285714285 and parameters: {'max_depth': 25, 'min_samples_split': 40, 'min_samples_leaf': 9, 'max_leaf_nodes': 23}. Best is trial 288 with value: 0.7845714285714286.\n",
      "[I 2024-02-08 18:44:36,976] Trial 415 finished with value: 0.7805714285714285 and parameters: {'max_depth': 25, 'min_samples_split': 40, 'min_samples_leaf': 9, 'max_leaf_nodes': 23}. Best is trial 288 with value: 0.7845714285714286.\n",
      "[I 2024-02-08 18:44:37,274] Trial 416 finished with value: 0.7834285714285714 and parameters: {'max_depth': 25, 'min_samples_split': 21, 'min_samples_leaf': 9, 'max_leaf_nodes': 25}. Best is trial 288 with value: 0.7845714285714286.\n",
      "[I 2024-02-08 18:44:37,527] Trial 417 finished with value: 0.784 and parameters: {'max_depth': 24, 'min_samples_split': 39, 'min_samples_leaf': 9, 'max_leaf_nodes': 25}. Best is trial 288 with value: 0.7845714285714286.\n",
      "[I 2024-02-08 18:44:37,789] Trial 418 finished with value: 0.7834285714285715 and parameters: {'max_depth': 9, 'min_samples_split': 39, 'min_samples_leaf': 9, 'max_leaf_nodes': 25}. Best is trial 288 with value: 0.7845714285714286.\n",
      "[I 2024-02-08 18:44:37,847] Trial 419 finished with value: 0.784 and parameters: {'max_depth': 24, 'min_samples_split': 39, 'min_samples_leaf': 9, 'max_leaf_nodes': 25}. Best is trial 288 with value: 0.7845714285714286.\n",
      "[I 2024-02-08 18:44:38,193] Trial 420 finished with value: 0.7805714285714285 and parameters: {'max_depth': 23, 'min_samples_split': 39, 'min_samples_leaf': 9, 'max_leaf_nodes': 23}. Best is trial 288 with value: 0.7845714285714286.\n",
      "[I 2024-02-08 18:44:38,495] Trial 421 finished with value: 0.7805714285714285 and parameters: {'max_depth': 24, 'min_samples_split': 39, 'min_samples_leaf': 9, 'max_leaf_nodes': 23}. Best is trial 288 with value: 0.7845714285714286.\n",
      "[I 2024-02-08 18:44:38,771] Trial 422 finished with value: 0.7805714285714285 and parameters: {'max_depth': 23, 'min_samples_split': 39, 'min_samples_leaf': 9, 'max_leaf_nodes': 23}. Best is trial 288 with value: 0.7845714285714286.\n",
      "[I 2024-02-08 18:44:39,040] Trial 423 finished with value: 0.7822857142857143 and parameters: {'max_depth': 23, 'min_samples_split': 39, 'min_samples_leaf': 9, 'max_leaf_nodes': 26}. Best is trial 288 with value: 0.7845714285714286.\n",
      "[I 2024-02-08 18:44:39,260] Trial 424 finished with value: 0.7805714285714285 and parameters: {'max_depth': 23, 'min_samples_split': 40, 'min_samples_leaf': 9, 'max_leaf_nodes': 23}. Best is trial 288 with value: 0.7845714285714286.\n",
      "[I 2024-02-08 18:44:39,433] Trial 425 finished with value: 0.7805714285714285 and parameters: {'max_depth': 23, 'min_samples_split': 39, 'min_samples_leaf': 9, 'max_leaf_nodes': 23}. Best is trial 288 with value: 0.7845714285714286.\n",
      "[I 2024-02-08 18:44:39,693] Trial 426 finished with value: 0.7822857142857143 and parameters: {'max_depth': 24, 'min_samples_split': 39, 'min_samples_leaf': 9, 'max_leaf_nodes': 26}. Best is trial 288 with value: 0.7845714285714286.\n",
      "[I 2024-02-08 18:44:39,962] Trial 427 finished with value: 0.7822857142857143 and parameters: {'max_depth': 24, 'min_samples_split': 39, 'min_samples_leaf': 9, 'max_leaf_nodes': 26}. Best is trial 288 with value: 0.7845714285714286.\n",
      "[I 2024-02-08 18:44:40,283] Trial 428 finished with value: 0.7822857142857143 and parameters: {'max_depth': 23, 'min_samples_split': 39, 'min_samples_leaf': 9, 'max_leaf_nodes': 26}. Best is trial 288 with value: 0.7845714285714286.\n",
      "[I 2024-02-08 18:44:40,575] Trial 429 finished with value: 0.7822857142857143 and parameters: {'max_depth': 24, 'min_samples_split': 39, 'min_samples_leaf': 9, 'max_leaf_nodes': 26}. Best is trial 288 with value: 0.7845714285714286.\n",
      "[I 2024-02-08 18:44:40,772] Trial 430 finished with value: 0.7822857142857143 and parameters: {'max_depth': 23, 'min_samples_split': 39, 'min_samples_leaf': 9, 'max_leaf_nodes': 26}. Best is trial 288 with value: 0.7845714285714286.\n",
      "[I 2024-02-08 18:44:41,035] Trial 431 finished with value: 0.7822857142857143 and parameters: {'max_depth': 29, 'min_samples_split': 38, 'min_samples_leaf': 9, 'max_leaf_nodes': 26}. Best is trial 288 with value: 0.7845714285714286.\n",
      "[I 2024-02-08 18:44:41,289] Trial 432 finished with value: 0.7822857142857143 and parameters: {'max_depth': 21, 'min_samples_split': 38, 'min_samples_leaf': 9, 'max_leaf_nodes': 26}. Best is trial 288 with value: 0.7845714285714286.\n",
      "[I 2024-02-08 18:44:41,539] Trial 433 finished with value: 0.7822857142857143 and parameters: {'max_depth': 23, 'min_samples_split': 38, 'min_samples_leaf': 9, 'max_leaf_nodes': 26}. Best is trial 288 with value: 0.7845714285714286.\n",
      "[I 2024-02-08 18:44:41,708] Trial 434 finished with value: 0.7822857142857143 and parameters: {'max_depth': 29, 'min_samples_split': 37, 'min_samples_leaf': 9, 'max_leaf_nodes': 26}. Best is trial 288 with value: 0.7845714285714286.\n",
      "[I 2024-02-08 18:44:42,085] Trial 435 finished with value: 0.7794285714285715 and parameters: {'max_depth': 29, 'min_samples_split': 37, 'min_samples_leaf': 8, 'max_leaf_nodes': 26}. Best is trial 288 with value: 0.7845714285714286.\n",
      "[I 2024-02-08 18:44:42,314] Trial 436 finished with value: 0.7794285714285715 and parameters: {'max_depth': 29, 'min_samples_split': 37, 'min_samples_leaf': 8, 'max_leaf_nodes': 26}. Best is trial 288 with value: 0.7845714285714286.\n",
      "[I 2024-02-08 18:44:42,415] Trial 437 finished with value: 0.7794285714285715 and parameters: {'max_depth': 29, 'min_samples_split': 37, 'min_samples_leaf': 8, 'max_leaf_nodes': 26}. Best is trial 288 with value: 0.7845714285714286.\n",
      "[I 2024-02-08 18:44:42,694] Trial 438 finished with value: 0.7794285714285715 and parameters: {'max_depth': 29, 'min_samples_split': 37, 'min_samples_leaf': 8, 'max_leaf_nodes': 26}. Best is trial 288 with value: 0.7845714285714286.\n",
      "[I 2024-02-08 18:44:43,065] Trial 439 finished with value: 0.7794285714285715 and parameters: {'max_depth': 29, 'min_samples_split': 37, 'min_samples_leaf': 8, 'max_leaf_nodes': 26}. Best is trial 288 with value: 0.7845714285714286.\n",
      "[I 2024-02-08 18:44:43,376] Trial 440 finished with value: 0.7794285714285715 and parameters: {'max_depth': 29, 'min_samples_split': 37, 'min_samples_leaf': 8, 'max_leaf_nodes': 26}. Best is trial 288 with value: 0.7845714285714286.\n",
      "[I 2024-02-08 18:44:43,622] Trial 441 finished with value: 0.7811428571428571 and parameters: {'max_depth': 29, 'min_samples_split': 37, 'min_samples_leaf': 8, 'max_leaf_nodes': 25}. Best is trial 288 with value: 0.7845714285714286.\n",
      "[I 2024-02-08 18:44:43,808] Trial 442 finished with value: 0.7811428571428571 and parameters: {'max_depth': 29, 'min_samples_split': 37, 'min_samples_leaf': 8, 'max_leaf_nodes': 25}. Best is trial 288 with value: 0.7845714285714286.\n",
      "[I 2024-02-08 18:44:44,040] Trial 443 finished with value: 0.7811428571428571 and parameters: {'max_depth': 21, 'min_samples_split': 37, 'min_samples_leaf': 8, 'max_leaf_nodes': 25}. Best is trial 288 with value: 0.7845714285714286.\n",
      "[I 2024-02-08 18:44:44,269] Trial 444 finished with value: 0.7811428571428571 and parameters: {'max_depth': 25, 'min_samples_split': 37, 'min_samples_leaf': 8, 'max_leaf_nodes': 25}. Best is trial 288 with value: 0.7845714285714286.\n",
      "[I 2024-02-08 18:44:44,548] Trial 445 finished with value: 0.7811428571428571 and parameters: {'max_depth': 10, 'min_samples_split': 37, 'min_samples_leaf': 8, 'max_leaf_nodes': 25}. Best is trial 288 with value: 0.7845714285714286.\n",
      "[I 2024-02-08 18:44:44,837] Trial 446 finished with value: 0.7811428571428571 and parameters: {'max_depth': 25, 'min_samples_split': 37, 'min_samples_leaf': 8, 'max_leaf_nodes': 25}. Best is trial 288 with value: 0.7845714285714286.\n",
      "[I 2024-02-08 18:44:45,019] Trial 447 finished with value: 0.7811428571428571 and parameters: {'max_depth': 25, 'min_samples_split': 37, 'min_samples_leaf': 8, 'max_leaf_nodes': 25}. Best is trial 288 with value: 0.7845714285714286.\n",
      "[I 2024-02-08 18:44:45,345] Trial 448 finished with value: 0.78 and parameters: {'max_depth': 25, 'min_samples_split': 35, 'min_samples_leaf': 8, 'max_leaf_nodes': 25}. Best is trial 288 with value: 0.7845714285714286.\n",
      "[I 2024-02-08 18:44:45,587] Trial 449 finished with value: 0.78 and parameters: {'max_depth': 25, 'min_samples_split': 35, 'min_samples_leaf': 8, 'max_leaf_nodes': 25}. Best is trial 288 with value: 0.7845714285714286.\n",
      "[I 2024-02-08 18:44:45,665] Trial 450 finished with value: 0.78 and parameters: {'max_depth': 25, 'min_samples_split': 38, 'min_samples_leaf': 10, 'max_leaf_nodes': 25}. Best is trial 288 with value: 0.7845714285714286.\n",
      "[I 2024-02-08 18:44:46,054] Trial 451 finished with value: 0.7788571428571428 and parameters: {'max_depth': 25, 'min_samples_split': 35, 'min_samples_leaf': 10, 'max_leaf_nodes': 25}. Best is trial 288 with value: 0.7845714285714286.\n",
      "[I 2024-02-08 18:44:46,259] Trial 452 finished with value: 0.7794285714285715 and parameters: {'max_depth': 25, 'min_samples_split': 35, 'min_samples_leaf': 10, 'max_leaf_nodes': 25}. Best is trial 288 with value: 0.7845714285714286.\n",
      "[I 2024-02-08 18:44:46,503] Trial 453 finished with value: 0.7794285714285715 and parameters: {'max_depth': 25, 'min_samples_split': 35, 'min_samples_leaf': 10, 'max_leaf_nodes': 25}. Best is trial 288 with value: 0.7845714285714286.\n",
      "[I 2024-02-08 18:44:46,850] Trial 454 finished with value: 0.7794285714285715 and parameters: {'max_depth': 25, 'min_samples_split': 40, 'min_samples_leaf': 10, 'max_leaf_nodes': 25}. Best is trial 288 with value: 0.7845714285714286.\n",
      "[I 2024-02-08 18:44:46,947] Trial 455 finished with value: 0.78 and parameters: {'max_depth': 25, 'min_samples_split': 40, 'min_samples_leaf': 10, 'max_leaf_nodes': 25}. Best is trial 288 with value: 0.7845714285714286.\n",
      "[I 2024-02-08 18:44:47,297] Trial 456 finished with value: 0.781142857142857 and parameters: {'max_depth': 28, 'min_samples_split': 35, 'min_samples_leaf': 10, 'max_leaf_nodes': 24}. Best is trial 288 with value: 0.7845714285714286.\n",
      "[I 2024-02-08 18:44:47,587] Trial 457 finished with value: 0.7805714285714285 and parameters: {'max_depth': 26, 'min_samples_split': 35, 'min_samples_leaf': 10, 'max_leaf_nodes': 24}. Best is trial 288 with value: 0.7845714285714286.\n",
      "[I 2024-02-08 18:44:47,837] Trial 458 finished with value: 0.7805714285714285 and parameters: {'max_depth': 28, 'min_samples_split': 35, 'min_samples_leaf': 10, 'max_leaf_nodes': 24}. Best is trial 288 with value: 0.7845714285714286.\n",
      "[I 2024-02-08 18:44:48,099] Trial 459 finished with value: 0.781142857142857 and parameters: {'max_depth': 26, 'min_samples_split': 35, 'min_samples_leaf': 10, 'max_leaf_nodes': 24}. Best is trial 288 with value: 0.7845714285714286.\n",
      "[I 2024-02-08 18:44:48,240] Trial 460 finished with value: 0.7805714285714285 and parameters: {'max_depth': 28, 'min_samples_split': 40, 'min_samples_leaf': 10, 'max_leaf_nodes': 24}. Best is trial 288 with value: 0.7845714285714286.\n",
      "[I 2024-02-08 18:44:48,542] Trial 461 finished with value: 0.7805714285714285 and parameters: {'max_depth': 28, 'min_samples_split': 40, 'min_samples_leaf': 10, 'max_leaf_nodes': 24}. Best is trial 288 with value: 0.7845714285714286.\n",
      "[I 2024-02-08 18:44:48,774] Trial 462 finished with value: 0.78 and parameters: {'max_depth': 28, 'min_samples_split': 16, 'min_samples_leaf': 10, 'max_leaf_nodes': 24}. Best is trial 288 with value: 0.7845714285714286.\n",
      "[I 2024-02-08 18:44:49,044] Trial 463 finished with value: 0.781142857142857 and parameters: {'max_depth': 26, 'min_samples_split': 40, 'min_samples_leaf': 9, 'max_leaf_nodes': 24}. Best is trial 288 with value: 0.7845714285714286.\n",
      "[I 2024-02-08 18:44:49,351] Trial 464 finished with value: 0.781142857142857 and parameters: {'max_depth': 28, 'min_samples_split': 40, 'min_samples_leaf': 9, 'max_leaf_nodes': 24}. Best is trial 288 with value: 0.7845714285714286.\n",
      "[I 2024-02-08 18:44:49,586] Trial 465 finished with value: 0.781142857142857 and parameters: {'max_depth': 28, 'min_samples_split': 40, 'min_samples_leaf': 9, 'max_leaf_nodes': 24}. Best is trial 288 with value: 0.7845714285714286.\n",
      "[I 2024-02-08 18:44:49,822] Trial 466 finished with value: 0.781142857142857 and parameters: {'max_depth': 28, 'min_samples_split': 40, 'min_samples_leaf': 9, 'max_leaf_nodes': 24}. Best is trial 288 with value: 0.7845714285714286.\n",
      "[I 2024-02-08 18:44:50,083] Trial 467 finished with value: 0.781142857142857 and parameters: {'max_depth': 28, 'min_samples_split': 38, 'min_samples_leaf': 9, 'max_leaf_nodes': 24}. Best is trial 288 with value: 0.7845714285714286.\n",
      "[I 2024-02-08 18:44:50,293] Trial 468 finished with value: 0.781142857142857 and parameters: {'max_depth': 26, 'min_samples_split': 38, 'min_samples_leaf': 9, 'max_leaf_nodes': 24}. Best is trial 288 with value: 0.7845714285714286.\n",
      "[I 2024-02-08 18:44:50,506] Trial 469 finished with value: 0.781142857142857 and parameters: {'max_depth': 28, 'min_samples_split': 38, 'min_samples_leaf': 9, 'max_leaf_nodes': 24}. Best is trial 288 with value: 0.7845714285714286.\n",
      "[I 2024-02-08 18:44:50,833] Trial 470 finished with value: 0.781142857142857 and parameters: {'max_depth': 26, 'min_samples_split': 38, 'min_samples_leaf': 9, 'max_leaf_nodes': 24}. Best is trial 288 with value: 0.7845714285714286.\n",
      "[I 2024-02-08 18:44:51,071] Trial 471 finished with value: 0.781142857142857 and parameters: {'max_depth': 27, 'min_samples_split': 38, 'min_samples_leaf': 9, 'max_leaf_nodes': 24}. Best is trial 288 with value: 0.7845714285714286.\n",
      "[I 2024-02-08 18:44:51,360] Trial 472 finished with value: 0.781142857142857 and parameters: {'max_depth': 27, 'min_samples_split': 38, 'min_samples_leaf': 9, 'max_leaf_nodes': 24}. Best is trial 288 with value: 0.7845714285714286.\n",
      "[I 2024-02-08 18:44:51,578] Trial 473 finished with value: 0.7805714285714285 and parameters: {'max_depth': 27, 'min_samples_split': 15, 'min_samples_leaf': 9, 'max_leaf_nodes': 24}. Best is trial 288 with value: 0.7845714285714286.\n",
      "[I 2024-02-08 18:44:51,815] Trial 474 finished with value: 0.7805714285714285 and parameters: {'max_depth': 27, 'min_samples_split': 25, 'min_samples_leaf': 9, 'max_leaf_nodes': 24}. Best is trial 288 with value: 0.7845714285714286.\n",
      "[I 2024-02-08 18:44:52,101] Trial 475 finished with value: 0.781142857142857 and parameters: {'max_depth': 27, 'min_samples_split': 38, 'min_samples_leaf': 9, 'max_leaf_nodes': 24}. Best is trial 288 with value: 0.7845714285714286.\n",
      "[I 2024-02-08 18:44:52,315] Trial 476 finished with value: 0.7651428571428571 and parameters: {'max_depth': 27, 'min_samples_split': 38, 'min_samples_leaf': 9, 'max_leaf_nodes': 16}. Best is trial 288 with value: 0.7845714285714286.\n",
      "[I 2024-02-08 18:44:52,596] Trial 477 finished with value: 0.784 and parameters: {'max_depth': 27, 'min_samples_split': 38, 'min_samples_leaf': 9, 'max_leaf_nodes': 25}. Best is trial 288 with value: 0.7845714285714286.\n",
      "[I 2024-02-08 18:44:52,786] Trial 478 finished with value: 0.784 and parameters: {'max_depth': 27, 'min_samples_split': 38, 'min_samples_leaf': 9, 'max_leaf_nodes': 25}. Best is trial 288 with value: 0.7845714285714286.\n",
      "[I 2024-02-08 18:44:53,069] Trial 479 finished with value: 0.784 and parameters: {'max_depth': 27, 'min_samples_split': 38, 'min_samples_leaf': 9, 'max_leaf_nodes': 25}. Best is trial 288 with value: 0.7845714285714286.\n",
      "[I 2024-02-08 18:44:53,422] Trial 480 finished with value: 0.7834285714285714 and parameters: {'max_depth': 27, 'min_samples_split': 27, 'min_samples_leaf': 9, 'max_leaf_nodes': 25}. Best is trial 288 with value: 0.7845714285714286.\n",
      "[I 2024-02-08 18:44:53,650] Trial 481 finished with value: 0.784 and parameters: {'max_depth': 27, 'min_samples_split': 38, 'min_samples_leaf': 9, 'max_leaf_nodes': 25}. Best is trial 288 with value: 0.7845714285714286.\n",
      "[I 2024-02-08 18:44:53,934] Trial 482 finished with value: 0.784 and parameters: {'max_depth': 27, 'min_samples_split': 38, 'min_samples_leaf': 9, 'max_leaf_nodes': 25}. Best is trial 288 with value: 0.7845714285714286.\n",
      "[I 2024-02-08 18:44:54,183] Trial 483 finished with value: 0.7742857142857142 and parameters: {'max_depth': 27, 'min_samples_split': 27, 'min_samples_leaf': 11, 'max_leaf_nodes': 25}. Best is trial 288 with value: 0.7845714285714286.\n",
      "[I 2024-02-08 18:44:54,377] Trial 484 finished with value: 0.7742857142857142 and parameters: {'max_depth': 27, 'min_samples_split': 25, 'min_samples_leaf': 11, 'max_leaf_nodes': 25}. Best is trial 288 with value: 0.7845714285714286.\n",
      "[I 2024-02-08 18:44:54,631] Trial 485 finished with value: 0.7651428571428571 and parameters: {'max_depth': 27, 'min_samples_split': 38, 'min_samples_leaf': 9, 'max_leaf_nodes': 16}. Best is trial 288 with value: 0.7845714285714286.\n",
      "[I 2024-02-08 18:44:54,928] Trial 486 finished with value: 0.7834285714285714 and parameters: {'max_depth': 26, 'min_samples_split': 33, 'min_samples_leaf': 9, 'max_leaf_nodes': 25}. Best is trial 288 with value: 0.7845714285714286.\n",
      "[I 2024-02-08 18:44:55,140] Trial 487 finished with value: 0.7651428571428571 and parameters: {'max_depth': 26, 'min_samples_split': 33, 'min_samples_leaf': 19, 'max_leaf_nodes': 25}. Best is trial 288 with value: 0.7845714285714286.\n",
      "[I 2024-02-08 18:44:55,406] Trial 488 finished with value: 0.7748571428571428 and parameters: {'max_depth': 26, 'min_samples_split': 36, 'min_samples_leaf': 11, 'max_leaf_nodes': 25}. Best is trial 288 with value: 0.7845714285714286.\n",
      "[I 2024-02-08 18:44:55,661] Trial 489 finished with value: 0.7742857142857142 and parameters: {'max_depth': 26, 'min_samples_split': 39, 'min_samples_leaf': 11, 'max_leaf_nodes': 25}. Best is trial 288 with value: 0.7845714285714286.\n",
      "[I 2024-02-08 18:44:55,894] Trial 490 finished with value: 0.7834285714285714 and parameters: {'max_depth': 26, 'min_samples_split': 30, 'min_samples_leaf': 9, 'max_leaf_nodes': 25}. Best is trial 288 with value: 0.7845714285714286.\n",
      "[I 2024-02-08 18:44:56,192] Trial 491 finished with value: 0.7845714285714286 and parameters: {'max_depth': 26, 'min_samples_split': 36, 'min_samples_leaf': 9, 'max_leaf_nodes': 25}. Best is trial 288 with value: 0.7845714285714286.\n",
      "[I 2024-02-08 18:44:56,424] Trial 492 finished with value: 0.7822857142857143 and parameters: {'max_depth': 26, 'min_samples_split': 36, 'min_samples_leaf': 9, 'max_leaf_nodes': 26}. Best is trial 288 with value: 0.7845714285714286.\n",
      "[I 2024-02-08 18:44:56,670] Trial 493 finished with value: 0.7765714285714286 and parameters: {'max_depth': 26, 'min_samples_split': 36, 'min_samples_leaf': 11, 'max_leaf_nodes': 26}. Best is trial 288 with value: 0.7845714285714286.\n",
      "[I 2024-02-08 18:44:56,935] Trial 494 finished with value: 0.7674285714285716 and parameters: {'max_depth': 26, 'min_samples_split': 36, 'min_samples_leaf': 18, 'max_leaf_nodes': 26}. Best is trial 288 with value: 0.7845714285714286.\n",
      "[I 2024-02-08 18:44:57,169] Trial 495 finished with value: 0.7822857142857143 and parameters: {'max_depth': 26, 'min_samples_split': 36, 'min_samples_leaf': 9, 'max_leaf_nodes': 26}. Best is trial 288 with value: 0.7845714285714286.\n",
      "[I 2024-02-08 18:44:57,405] Trial 496 finished with value: 0.7822857142857143 and parameters: {'max_depth': 26, 'min_samples_split': 36, 'min_samples_leaf': 9, 'max_leaf_nodes': 26}. Best is trial 288 with value: 0.7845714285714286.\n",
      "[I 2024-02-08 18:44:57,694] Trial 497 finished with value: 0.7794285714285715 and parameters: {'max_depth': 26, 'min_samples_split': 36, 'min_samples_leaf': 8, 'max_leaf_nodes': 26}. Best is trial 288 with value: 0.7845714285714286.\n",
      "[I 2024-02-08 18:44:57,961] Trial 498 finished with value: 0.7794285714285715 and parameters: {'max_depth': 26, 'min_samples_split': 36, 'min_samples_leaf': 8, 'max_leaf_nodes': 26}. Best is trial 288 with value: 0.7845714285714286.\n",
      "[I 2024-02-08 18:44:58,208] Trial 499 finished with value: 0.7702857142857142 and parameters: {'max_depth': 26, 'min_samples_split': 39, 'min_samples_leaf': 8, 'max_leaf_nodes': 17}. Best is trial 288 with value: 0.7845714285714286.\n",
      "[I 2024-02-08 18:44:58,449] Trial 500 finished with value: 0.7794285714285715 and parameters: {'max_depth': 26, 'min_samples_split': 39, 'min_samples_leaf': 8, 'max_leaf_nodes': 26}. Best is trial 288 with value: 0.7845714285714286.\n",
      "[I 2024-02-08 18:44:58,517] Trial 501 finished with value: 0.704 and parameters: {'max_depth': 3, 'min_samples_split': 36, 'min_samples_leaf': 8, 'max_leaf_nodes': 26}. Best is trial 288 with value: 0.7845714285714286.\n",
      "[I 2024-02-08 18:44:58,680] Trial 502 finished with value: 0.7794285714285715 and parameters: {'max_depth': 26, 'min_samples_split': 36, 'min_samples_leaf': 8, 'max_leaf_nodes': 26}. Best is trial 288 with value: 0.7845714285714286.\n",
      "[I 2024-02-08 18:44:59,094] Trial 503 finished with value: 0.7794285714285715 and parameters: {'max_depth': 26, 'min_samples_split': 36, 'min_samples_leaf': 8, 'max_leaf_nodes': 26}. Best is trial 288 with value: 0.7845714285714286.\n",
      "[I 2024-02-08 18:44:59,431] Trial 504 finished with value: 0.7794285714285715 and parameters: {'max_depth': 26, 'min_samples_split': 36, 'min_samples_leaf': 8, 'max_leaf_nodes': 26}. Best is trial 288 with value: 0.7845714285714286.\n",
      "[I 2024-02-08 18:44:59,496] Trial 505 finished with value: 0.7468571428571429 and parameters: {'max_depth': 26, 'min_samples_split': 36, 'min_samples_leaf': 8, 'max_leaf_nodes': 14}. Best is trial 288 with value: 0.7845714285714286.\n",
      "[I 2024-02-08 18:44:59,891] Trial 506 finished with value: 0.7794285714285715 and parameters: {'max_depth': 26, 'min_samples_split': 36, 'min_samples_leaf': 8, 'max_leaf_nodes': 26}. Best is trial 288 with value: 0.7845714285714286.\n",
      "[I 2024-02-08 18:45:00,086] Trial 507 finished with value: 0.7794285714285715 and parameters: {'max_depth': 28, 'min_samples_split': 39, 'min_samples_leaf': 8, 'max_leaf_nodes': 26}. Best is trial 288 with value: 0.7845714285714286.\n",
      "[I 2024-02-08 18:45:00,376] Trial 508 finished with value: 0.7794285714285715 and parameters: {'max_depth': 28, 'min_samples_split': 39, 'min_samples_leaf': 8, 'max_leaf_nodes': 26}. Best is trial 288 with value: 0.7845714285714286.\n",
      "[I 2024-02-08 18:45:00,658] Trial 509 finished with value: 0.7794285714285715 and parameters: {'max_depth': 28, 'min_samples_split': 39, 'min_samples_leaf': 8, 'max_leaf_nodes': 26}. Best is trial 288 with value: 0.7845714285714286.\n",
      "[I 2024-02-08 18:45:00,689] Trial 510 finished with value: 0.6257142857142857 and parameters: {'max_depth': 28, 'min_samples_split': 39, 'min_samples_leaf': 8, 'max_leaf_nodes': 4}. Best is trial 288 with value: 0.7845714285714286.\n",
      "[I 2024-02-08 18:45:00,969] Trial 511 finished with value: 0.7788571428571428 and parameters: {'max_depth': 28, 'min_samples_split': 34, 'min_samples_leaf': 10, 'max_leaf_nodes': 25}. Best is trial 288 with value: 0.7845714285714286.\n",
      "[I 2024-02-08 18:45:01,167] Trial 512 finished with value: 0.7794285714285715 and parameters: {'max_depth': 28, 'min_samples_split': 39, 'min_samples_leaf': 10, 'max_leaf_nodes': 25}. Best is trial 288 with value: 0.7845714285714286.\n",
      "[I 2024-02-08 18:45:01,530] Trial 513 finished with value: 0.78 and parameters: {'max_depth': 28, 'min_samples_split': 39, 'min_samples_leaf': 10, 'max_leaf_nodes': 25}. Best is trial 288 with value: 0.7845714285714286.\n",
      "[I 2024-02-08 18:45:01,823] Trial 514 finished with value: 0.78 and parameters: {'max_depth': 28, 'min_samples_split': 39, 'min_samples_leaf': 10, 'max_leaf_nodes': 25}. Best is trial 288 with value: 0.7845714285714286.\n",
      "[I 2024-02-08 18:45:02,096] Trial 515 finished with value: 0.78 and parameters: {'max_depth': 28, 'min_samples_split': 39, 'min_samples_leaf': 10, 'max_leaf_nodes': 25}. Best is trial 288 with value: 0.7845714285714286.\n",
      "[I 2024-02-08 18:45:02,148] Trial 516 finished with value: 0.78 and parameters: {'max_depth': 28, 'min_samples_split': 39, 'min_samples_leaf': 10, 'max_leaf_nodes': 25}. Best is trial 288 with value: 0.7845714285714286.\n",
      "[I 2024-02-08 18:45:02,505] Trial 517 finished with value: 0.78 and parameters: {'max_depth': 28, 'min_samples_split': 39, 'min_samples_leaf': 10, 'max_leaf_nodes': 25}. Best is trial 288 with value: 0.7845714285714286.\n",
      "[I 2024-02-08 18:45:02,765] Trial 518 finished with value: 0.78 and parameters: {'max_depth': 28, 'min_samples_split': 39, 'min_samples_leaf': 10, 'max_leaf_nodes': 25}. Best is trial 288 with value: 0.7845714285714286.\n",
      "[I 2024-02-08 18:45:02,953] Trial 519 finished with value: 0.7788571428571428 and parameters: {'max_depth': 28, 'min_samples_split': 34, 'min_samples_leaf': 10, 'max_leaf_nodes': 25}. Best is trial 288 with value: 0.7845714285714286.\n",
      "[I 2024-02-08 18:45:03,367] Trial 520 finished with value: 0.776 and parameters: {'max_depth': 8, 'min_samples_split': 34, 'min_samples_leaf': 10, 'max_leaf_nodes': 25}. Best is trial 288 with value: 0.7845714285714286.\n",
      "[I 2024-02-08 18:45:03,536] Trial 521 finished with value: 0.7794285714285715 and parameters: {'max_depth': 28, 'min_samples_split': 34, 'min_samples_leaf': 10, 'max_leaf_nodes': 25}. Best is trial 288 with value: 0.7845714285714286.\n",
      "[I 2024-02-08 18:45:03,762] Trial 522 finished with value: 0.7805714285714285 and parameters: {'max_depth': 25, 'min_samples_split': 37, 'min_samples_leaf': 10, 'max_leaf_nodes': 25}. Best is trial 288 with value: 0.7845714285714286.\n",
      "[I 2024-02-08 18:45:04,022] Trial 523 finished with value: 0.7725714285714286 and parameters: {'max_depth': 25, 'min_samples_split': 40, 'min_samples_leaf': 13, 'max_leaf_nodes': 25}. Best is trial 288 with value: 0.7845714285714286.\n",
      "[I 2024-02-08 18:45:04,172] Trial 524 finished with value: 0.7845714285714286 and parameters: {'max_depth': 25, 'min_samples_split': 37, 'min_samples_leaf': 9, 'max_leaf_nodes': 25}. Best is trial 288 with value: 0.7845714285714286.\n",
      "[I 2024-02-08 18:45:04,539] Trial 525 finished with value: 0.7805714285714285 and parameters: {'max_depth': 25, 'min_samples_split': 37, 'min_samples_leaf': 9, 'max_leaf_nodes': 23}. Best is trial 288 with value: 0.7845714285714286.\n",
      "[I 2024-02-08 18:45:04,789] Trial 526 finished with value: 0.7805714285714285 and parameters: {'max_depth': 25, 'min_samples_split': 37, 'min_samples_leaf': 9, 'max_leaf_nodes': 23}. Best is trial 288 with value: 0.7845714285714286.\n",
      "[I 2024-02-08 18:45:05,003] Trial 527 finished with value: 0.7805714285714285 and parameters: {'max_depth': 25, 'min_samples_split': 37, 'min_samples_leaf': 9, 'max_leaf_nodes': 23}. Best is trial 288 with value: 0.7845714285714286.\n",
      "[I 2024-02-08 18:45:05,266] Trial 528 finished with value: 0.7805714285714285 and parameters: {'max_depth': 25, 'min_samples_split': 37, 'min_samples_leaf': 9, 'max_leaf_nodes': 23}. Best is trial 288 with value: 0.7845714285714286.\n",
      "[I 2024-02-08 18:45:05,516] Trial 529 finished with value: 0.7805714285714285 and parameters: {'max_depth': 25, 'min_samples_split': 37, 'min_samples_leaf': 9, 'max_leaf_nodes': 23}. Best is trial 288 with value: 0.7845714285714286.\n",
      "[I 2024-02-08 18:45:05,763] Trial 530 finished with value: 0.7805714285714285 and parameters: {'max_depth': 25, 'min_samples_split': 37, 'min_samples_leaf': 9, 'max_leaf_nodes': 23}. Best is trial 288 with value: 0.7845714285714286.\n",
      "[I 2024-02-08 18:45:05,901] Trial 531 finished with value: 0.7805714285714285 and parameters: {'max_depth': 25, 'min_samples_split': 37, 'min_samples_leaf': 9, 'max_leaf_nodes': 23}. Best is trial 288 with value: 0.7845714285714286.\n",
      "[I 2024-02-08 18:45:06,283] Trial 532 finished with value: 0.781142857142857 and parameters: {'max_depth': 25, 'min_samples_split': 37, 'min_samples_leaf': 9, 'max_leaf_nodes': 24}. Best is trial 288 with value: 0.7845714285714286.\n",
      "[I 2024-02-08 18:45:06,515] Trial 533 finished with value: 0.7805714285714285 and parameters: {'max_depth': 25, 'min_samples_split': 37, 'min_samples_leaf': 9, 'max_leaf_nodes': 23}. Best is trial 288 with value: 0.7845714285714286.\n",
      "[I 2024-02-08 18:45:06,794] Trial 534 finished with value: 0.7805714285714285 and parameters: {'max_depth': 25, 'min_samples_split': 40, 'min_samples_leaf': 9, 'max_leaf_nodes': 23}. Best is trial 288 with value: 0.7845714285714286.\n",
      "[I 2024-02-08 18:45:07,022] Trial 535 finished with value: 0.7805714285714285 and parameters: {'max_depth': 27, 'min_samples_split': 37, 'min_samples_leaf': 9, 'max_leaf_nodes': 23}. Best is trial 288 with value: 0.7845714285714286.\n",
      "[I 2024-02-08 18:45:07,136] Trial 536 finished with value: 0.781142857142857 and parameters: {'max_depth': 25, 'min_samples_split': 37, 'min_samples_leaf': 9, 'max_leaf_nodes': 24}. Best is trial 288 with value: 0.7845714285714286.\n",
      "[I 2024-02-08 18:45:07,454] Trial 537 finished with value: 0.781142857142857 and parameters: {'max_depth': 25, 'min_samples_split': 37, 'min_samples_leaf': 9, 'max_leaf_nodes': 24}. Best is trial 288 with value: 0.7845714285714286.\n",
      "[I 2024-02-08 18:45:07,715] Trial 538 finished with value: 0.781142857142857 and parameters: {'max_depth': 27, 'min_samples_split': 37, 'min_samples_leaf': 9, 'max_leaf_nodes': 24}. Best is trial 288 with value: 0.7845714285714286.\n",
      "[I 2024-02-08 18:45:08,012] Trial 539 finished with value: 0.781142857142857 and parameters: {'max_depth': 27, 'min_samples_split': 37, 'min_samples_leaf': 9, 'max_leaf_nodes': 24}. Best is trial 288 with value: 0.7845714285714286.\n",
      "[I 2024-02-08 18:45:08,285] Trial 540 finished with value: 0.781142857142857 and parameters: {'max_depth': 27, 'min_samples_split': 37, 'min_samples_leaf': 9, 'max_leaf_nodes': 24}. Best is trial 288 with value: 0.7845714285714286.\n",
      "[I 2024-02-08 18:45:08,569] Trial 541 finished with value: 0.781142857142857 and parameters: {'max_depth': 27, 'min_samples_split': 38, 'min_samples_leaf': 9, 'max_leaf_nodes': 24}. Best is trial 288 with value: 0.7845714285714286.\n",
      "[I 2024-02-08 18:45:08,796] Trial 542 finished with value: 0.781142857142857 and parameters: {'max_depth': 27, 'min_samples_split': 38, 'min_samples_leaf': 9, 'max_leaf_nodes': 24}. Best is trial 288 with value: 0.7845714285714286.\n",
      "[I 2024-02-08 18:45:08,954] Trial 543 finished with value: 0.781142857142857 and parameters: {'max_depth': 27, 'min_samples_split': 38, 'min_samples_leaf': 9, 'max_leaf_nodes': 24}. Best is trial 288 with value: 0.7845714285714286.\n",
      "[I 2024-02-08 18:45:09,220] Trial 544 finished with value: 0.781142857142857 and parameters: {'max_depth': 27, 'min_samples_split': 38, 'min_samples_leaf': 9, 'max_leaf_nodes': 24}. Best is trial 288 with value: 0.7845714285714286.\n",
      "[I 2024-02-08 18:45:09,397] Trial 545 finished with value: 0.764 and parameters: {'max_depth': 27, 'min_samples_split': 38, 'min_samples_leaf': 16, 'max_leaf_nodes': 24}. Best is trial 288 with value: 0.7845714285714286.\n",
      "[I 2024-02-08 18:45:09,800] Trial 546 finished with value: 0.781142857142857 and parameters: {'max_depth': 27, 'min_samples_split': 38, 'min_samples_leaf': 9, 'max_leaf_nodes': 24}. Best is trial 288 with value: 0.7845714285714286.\n",
      "[I 2024-02-08 18:45:09,939] Trial 547 finished with value: 0.781142857142857 and parameters: {'max_depth': 27, 'min_samples_split': 38, 'min_samples_leaf': 9, 'max_leaf_nodes': 24}. Best is trial 288 with value: 0.7845714285714286.\n",
      "[I 2024-02-08 18:45:10,264] Trial 548 finished with value: 0.781142857142857 and parameters: {'max_depth': 27, 'min_samples_split': 38, 'min_samples_leaf': 9, 'max_leaf_nodes': 24}. Best is trial 288 with value: 0.7845714285714286.\n",
      "[I 2024-02-08 18:45:10,348] Trial 549 finished with value: 0.781142857142857 and parameters: {'max_depth': 27, 'min_samples_split': 38, 'min_samples_leaf': 9, 'max_leaf_nodes': 24}. Best is trial 288 with value: 0.7845714285714286.\n",
      "[I 2024-02-08 18:45:10,717] Trial 550 finished with value: 0.781142857142857 and parameters: {'max_depth': 27, 'min_samples_split': 38, 'min_samples_leaf': 9, 'max_leaf_nodes': 24}. Best is trial 288 with value: 0.7845714285714286.\n",
      "[I 2024-02-08 18:45:10,876] Trial 551 finished with value: 0.781142857142857 and parameters: {'max_depth': 27, 'min_samples_split': 38, 'min_samples_leaf': 9, 'max_leaf_nodes': 24}. Best is trial 288 with value: 0.7845714285714286.\n",
      "[I 2024-02-08 18:45:11,330] Trial 552 finished with value: 0.7822857142857143 and parameters: {'max_depth': 27, 'min_samples_split': 38, 'min_samples_leaf': 9, 'max_leaf_nodes': 26}. Best is trial 288 with value: 0.7845714285714286.\n",
      "[I 2024-02-08 18:45:11,536] Trial 553 finished with value: 0.7822857142857143 and parameters: {'max_depth': 29, 'min_samples_split': 38, 'min_samples_leaf': 9, 'max_leaf_nodes': 26}. Best is trial 288 with value: 0.7845714285714286.\n",
      "[I 2024-02-08 18:45:11,801] Trial 554 finished with value: 0.7822857142857143 and parameters: {'max_depth': 29, 'min_samples_split': 40, 'min_samples_leaf': 9, 'max_leaf_nodes': 26}. Best is trial 288 with value: 0.7845714285714286.\n",
      "[I 2024-02-08 18:45:12,025] Trial 555 finished with value: 0.7811428571428571 and parameters: {'max_depth': 29, 'min_samples_split': 18, 'min_samples_leaf': 9, 'max_leaf_nodes': 26}. Best is trial 288 with value: 0.7845714285714286.\n",
      "[I 2024-02-08 18:45:12,179] Trial 556 finished with value: 0.7822857142857143 and parameters: {'max_depth': 24, 'min_samples_split': 40, 'min_samples_leaf': 9, 'max_leaf_nodes': 26}. Best is trial 288 with value: 0.7845714285714286.\n",
      "[I 2024-02-08 18:45:12,538] Trial 557 finished with value: 0.7822857142857143 and parameters: {'max_depth': 26, 'min_samples_split': 40, 'min_samples_leaf': 9, 'max_leaf_nodes': 26}. Best is trial 288 with value: 0.7845714285714286.\n",
      "[I 2024-02-08 18:45:12,770] Trial 558 finished with value: 0.7365714285714285 and parameters: {'max_depth': 26, 'min_samples_split': 40, 'min_samples_leaf': 8, 'max_leaf_nodes': 12}. Best is trial 288 with value: 0.7845714285714286.\n",
      "[I 2024-02-08 18:45:12,976] Trial 559 finished with value: 0.7782857142857142 and parameters: {'max_depth': 24, 'min_samples_split': 35, 'min_samples_leaf': 8, 'max_leaf_nodes': 26}. Best is trial 288 with value: 0.7845714285714286.\n",
      "[I 2024-02-08 18:45:13,253] Trial 560 finished with value: 0.7782857142857142 and parameters: {'max_depth': 29, 'min_samples_split': 35, 'min_samples_leaf': 8, 'max_leaf_nodes': 26}. Best is trial 288 with value: 0.7845714285714286.\n",
      "[I 2024-02-08 18:45:13,433] Trial 561 finished with value: 0.7794285714285715 and parameters: {'max_depth': 29, 'min_samples_split': 40, 'min_samples_leaf': 8, 'max_leaf_nodes': 26}. Best is trial 288 with value: 0.7845714285714286.\n",
      "[I 2024-02-08 18:45:13,748] Trial 562 finished with value: 0.7782857142857142 and parameters: {'max_depth': 29, 'min_samples_split': 18, 'min_samples_leaf': 8, 'max_leaf_nodes': 26}. Best is trial 288 with value: 0.7845714285714286.\n",
      "[I 2024-02-08 18:45:14,038] Trial 563 finished with value: 0.7782857142857142 and parameters: {'max_depth': 29, 'min_samples_split': 35, 'min_samples_leaf': 8, 'max_leaf_nodes': 26}. Best is trial 288 with value: 0.7845714285714286.\n",
      "[I 2024-02-08 18:45:14,304] Trial 564 finished with value: 0.78 and parameters: {'max_depth': 29, 'min_samples_split': 35, 'min_samples_leaf': 8, 'max_leaf_nodes': 25}. Best is trial 288 with value: 0.7845714285714286.\n",
      "[I 2024-02-08 18:45:14,551] Trial 565 finished with value: 0.78 and parameters: {'max_depth': 26, 'min_samples_split': 35, 'min_samples_leaf': 8, 'max_leaf_nodes': 25}. Best is trial 288 with value: 0.7845714285714286.\n",
      "[I 2024-02-08 18:45:14,806] Trial 566 finished with value: 0.78 and parameters: {'max_depth': 24, 'min_samples_split': 35, 'min_samples_leaf': 8, 'max_leaf_nodes': 25}. Best is trial 288 with value: 0.7845714285714286.\n",
      "[I 2024-02-08 18:45:14,976] Trial 567 finished with value: 0.7805714285714286 and parameters: {'max_depth': 24, 'min_samples_split': 40, 'min_samples_leaf': 8, 'max_leaf_nodes': 25}. Best is trial 288 with value: 0.7845714285714286.\n",
      "[I 2024-02-08 18:45:15,281] Trial 568 finished with value: 0.78 and parameters: {'max_depth': 26, 'min_samples_split': 35, 'min_samples_leaf': 8, 'max_leaf_nodes': 25}. Best is trial 288 with value: 0.7845714285714286.\n",
      "[I 2024-02-08 18:45:15,546] Trial 569 finished with value: 0.78 and parameters: {'max_depth': 26, 'min_samples_split': 35, 'min_samples_leaf': 8, 'max_leaf_nodes': 25}. Best is trial 288 with value: 0.7845714285714286.\n",
      "[I 2024-02-08 18:45:15,781] Trial 570 finished with value: 0.7788571428571428 and parameters: {'max_depth': 26, 'min_samples_split': 35, 'min_samples_leaf': 10, 'max_leaf_nodes': 25}. Best is trial 288 with value: 0.7845714285714286.\n",
      "[I 2024-02-08 18:45:16,048] Trial 571 finished with value: 0.7794285714285715 and parameters: {'max_depth': 26, 'min_samples_split': 35, 'min_samples_leaf': 10, 'max_leaf_nodes': 25}. Best is trial 288 with value: 0.7845714285714286.\n",
      "[I 2024-02-08 18:45:16,329] Trial 572 finished with value: 0.78 and parameters: {'max_depth': 26, 'min_samples_split': 39, 'min_samples_leaf': 10, 'max_leaf_nodes': 25}. Best is trial 288 with value: 0.7845714285714286.\n",
      "[I 2024-02-08 18:45:16,625] Trial 573 finished with value: 0.78 and parameters: {'max_depth': 26, 'min_samples_split': 36, 'min_samples_leaf': 10, 'max_leaf_nodes': 25}. Best is trial 288 with value: 0.7845714285714286.\n",
      "[I 2024-02-08 18:45:16,795] Trial 574 finished with value: 0.7788571428571428 and parameters: {'max_depth': 26, 'min_samples_split': 35, 'min_samples_leaf': 10, 'max_leaf_nodes': 25}. Best is trial 288 with value: 0.7845714285714286.\n",
      "[I 2024-02-08 18:45:17,057] Trial 575 finished with value: 0.7805714285714285 and parameters: {'max_depth': 26, 'min_samples_split': 36, 'min_samples_leaf': 10, 'max_leaf_nodes': 25}. Best is trial 288 with value: 0.7845714285714286.\n",
      "[I 2024-02-08 18:45:17,316] Trial 576 finished with value: 0.78 and parameters: {'max_depth': 26, 'min_samples_split': 39, 'min_samples_leaf': 10, 'max_leaf_nodes': 25}. Best is trial 288 with value: 0.7845714285714286.\n",
      "[I 2024-02-08 18:45:17,604] Trial 577 finished with value: 0.78 and parameters: {'max_depth': 26, 'min_samples_split': 36, 'min_samples_leaf': 10, 'max_leaf_nodes': 25}. Best is trial 288 with value: 0.7845714285714286.\n",
      "[I 2024-02-08 18:45:17,838] Trial 578 finished with value: 0.7805714285714285 and parameters: {'max_depth': 26, 'min_samples_split': 36, 'min_samples_leaf': 10, 'max_leaf_nodes': 25}. Best is trial 288 with value: 0.7845714285714286.\n",
      "[I 2024-02-08 18:45:18,070] Trial 579 finished with value: 0.7782857142857142 and parameters: {'max_depth': 26, 'min_samples_split': 7, 'min_samples_leaf': 10, 'max_leaf_nodes': 25}. Best is trial 288 with value: 0.7845714285714286.\n",
      "[I 2024-02-08 18:45:18,341] Trial 580 finished with value: 0.7805714285714285 and parameters: {'max_depth': 26, 'min_samples_split': 36, 'min_samples_leaf': 10, 'max_leaf_nodes': 25}. Best is trial 288 with value: 0.7845714285714286.\n",
      "[I 2024-02-08 18:45:18,539] Trial 581 finished with value: 0.7794285714285715 and parameters: {'max_depth': 26, 'min_samples_split': 39, 'min_samples_leaf': 10, 'max_leaf_nodes': 25}. Best is trial 288 with value: 0.7845714285714286.\n",
      "[I 2024-02-08 18:45:18,830] Trial 582 finished with value: 0.7782857142857142 and parameters: {'max_depth': 26, 'min_samples_split': 9, 'min_samples_leaf': 10, 'max_leaf_nodes': 25}. Best is trial 288 with value: 0.7845714285714286.\n",
      "[I 2024-02-08 18:45:19,101] Trial 583 finished with value: 0.78 and parameters: {'max_depth': 26, 'min_samples_split': 39, 'min_samples_leaf': 10, 'max_leaf_nodes': 25}. Best is trial 288 with value: 0.7845714285714286.\n",
      "[I 2024-02-08 18:45:19,284] Trial 584 finished with value: 0.7314285714285715 and parameters: {'max_depth': 26, 'min_samples_split': 36, 'min_samples_leaf': 10, 'max_leaf_nodes': 10}. Best is trial 288 with value: 0.7845714285714286.\n",
      "[I 2024-02-08 18:45:19,515] Trial 585 finished with value: 0.78 and parameters: {'max_depth': 26, 'min_samples_split': 39, 'min_samples_leaf': 10, 'max_leaf_nodes': 25}. Best is trial 288 with value: 0.7845714285714286.\n",
      "[I 2024-02-08 18:45:19,669] Trial 586 finished with value: 0.784 and parameters: {'max_depth': 28, 'min_samples_split': 39, 'min_samples_leaf': 9, 'max_leaf_nodes': 25}. Best is trial 288 with value: 0.7845714285714286.\n",
      "[I 2024-02-08 18:45:20,025] Trial 587 finished with value: 0.784 and parameters: {'max_depth': 28, 'min_samples_split': 39, 'min_samples_leaf': 9, 'max_leaf_nodes': 25}. Best is trial 288 with value: 0.7845714285714286.\n",
      "[I 2024-02-08 18:45:20,321] Trial 588 finished with value: 0.784 and parameters: {'max_depth': 28, 'min_samples_split': 39, 'min_samples_leaf': 9, 'max_leaf_nodes': 25}. Best is trial 288 with value: 0.7845714285714286.\n",
      "[I 2024-02-08 18:45:20,481] Trial 589 finished with value: 0.784 and parameters: {'max_depth': 28, 'min_samples_split': 39, 'min_samples_leaf': 9, 'max_leaf_nodes': 25}. Best is trial 288 with value: 0.7845714285714286.\n",
      "[I 2024-02-08 18:45:20,827] Trial 590 finished with value: 0.784 and parameters: {'max_depth': 28, 'min_samples_split': 39, 'min_samples_leaf': 9, 'max_leaf_nodes': 25}. Best is trial 288 with value: 0.7845714285714286.\n",
      "[I 2024-02-08 18:45:20,992] Trial 591 finished with value: 0.7822857142857143 and parameters: {'max_depth': 28, 'min_samples_split': 39, 'min_samples_leaf': 9, 'max_leaf_nodes': 26}. Best is trial 288 with value: 0.7845714285714286.\n",
      "[I 2024-02-08 18:45:21,293] Trial 592 finished with value: 0.7811428571428571 and parameters: {'max_depth': 28, 'min_samples_split': 22, 'min_samples_leaf': 9, 'max_leaf_nodes': 26}. Best is trial 288 with value: 0.7845714285714286.\n",
      "[I 2024-02-08 18:45:21,544] Trial 593 finished with value: 0.7822857142857143 and parameters: {'max_depth': 28, 'min_samples_split': 39, 'min_samples_leaf': 9, 'max_leaf_nodes': 26}. Best is trial 288 with value: 0.7845714285714286.\n",
      "[I 2024-02-08 18:45:21,676] Trial 594 finished with value: 0.7091428571428572 and parameters: {'max_depth': 28, 'min_samples_split': 39, 'min_samples_leaf': 9, 'max_leaf_nodes': 6}. Best is trial 288 with value: 0.7845714285714286.\n",
      "[I 2024-02-08 18:45:21,964] Trial 595 finished with value: 0.7822857142857143 and parameters: {'max_depth': 28, 'min_samples_split': 39, 'min_samples_leaf': 9, 'max_leaf_nodes': 26}. Best is trial 288 with value: 0.7845714285714286.\n",
      "[I 2024-02-08 18:45:22,097] Trial 596 finished with value: 0.781142857142857 and parameters: {'max_depth': 28, 'min_samples_split': 39, 'min_samples_leaf': 9, 'max_leaf_nodes': 24}. Best is trial 288 with value: 0.7845714285714286.\n",
      "[I 2024-02-08 18:45:22,470] Trial 597 finished with value: 0.7822857142857143 and parameters: {'max_depth': 28, 'min_samples_split': 39, 'min_samples_leaf': 9, 'max_leaf_nodes': 26}. Best is trial 288 with value: 0.7845714285714286.\n",
      "[I 2024-02-08 18:45:22,634] Trial 598 finished with value: 0.781142857142857 and parameters: {'max_depth': 28, 'min_samples_split': 38, 'min_samples_leaf': 9, 'max_leaf_nodes': 24}. Best is trial 288 with value: 0.7845714285714286.\n",
      "[I 2024-02-08 18:45:23,047] Trial 599 finished with value: 0.7822857142857143 and parameters: {'max_depth': 28, 'min_samples_split': 40, 'min_samples_leaf': 9, 'max_leaf_nodes': 26}. Best is trial 288 with value: 0.7845714285714286.\n",
      "[I 2024-02-08 18:45:23,223] Trial 600 finished with value: 0.7811428571428571 and parameters: {'max_depth': 27, 'min_samples_split': 22, 'min_samples_leaf': 9, 'max_leaf_nodes': 26}. Best is trial 288 with value: 0.7845714285714286.\n",
      "[I 2024-02-08 18:45:23,395] Trial 601 finished with value: 0.7291428571428572 and parameters: {'max_depth': 27, 'min_samples_split': 40, 'min_samples_leaf': 9, 'max_leaf_nodes': 9}. Best is trial 288 with value: 0.7845714285714286.\n",
      "[I 2024-02-08 18:45:23,572] Trial 602 finished with value: 0.7822857142857143 and parameters: {'max_depth': 27, 'min_samples_split': 38, 'min_samples_leaf': 9, 'max_leaf_nodes': 26}. Best is trial 288 with value: 0.7845714285714286.\n",
      "[I 2024-02-08 18:45:23,944] Trial 603 finished with value: 0.781142857142857 and parameters: {'max_depth': 27, 'min_samples_split': 40, 'min_samples_leaf': 9, 'max_leaf_nodes': 24}. Best is trial 288 with value: 0.7845714285714286.\n",
      "[I 2024-02-08 18:45:24,172] Trial 604 finished with value: 0.781142857142857 and parameters: {'max_depth': 27, 'min_samples_split': 37, 'min_samples_leaf': 9, 'max_leaf_nodes': 24}. Best is trial 288 with value: 0.7845714285714286.\n",
      "[I 2024-02-08 18:45:24,440] Trial 605 finished with value: 0.781142857142857 and parameters: {'max_depth': 27, 'min_samples_split': 37, 'min_samples_leaf': 9, 'max_leaf_nodes': 24}. Best is trial 288 with value: 0.7845714285714286.\n",
      "[I 2024-02-08 18:45:24,703] Trial 606 finished with value: 0.781142857142857 and parameters: {'max_depth': 27, 'min_samples_split': 37, 'min_samples_leaf': 9, 'max_leaf_nodes': 24}. Best is trial 288 with value: 0.7845714285714286.\n",
      "[I 2024-02-08 18:45:24,983] Trial 607 finished with value: 0.781142857142857 and parameters: {'max_depth': 27, 'min_samples_split': 37, 'min_samples_leaf': 9, 'max_leaf_nodes': 24}. Best is trial 288 with value: 0.7845714285714286.\n",
      "[I 2024-02-08 18:45:25,195] Trial 608 finished with value: 0.781142857142857 and parameters: {'max_depth': 27, 'min_samples_split': 37, 'min_samples_leaf': 9, 'max_leaf_nodes': 24}. Best is trial 288 with value: 0.7845714285714286.\n",
      "[I 2024-02-08 18:45:25,427] Trial 609 finished with value: 0.781142857142857 and parameters: {'max_depth': 27, 'min_samples_split': 37, 'min_samples_leaf': 9, 'max_leaf_nodes': 24}. Best is trial 288 with value: 0.7845714285714286.\n",
      "[I 2024-02-08 18:45:25,701] Trial 610 finished with value: 0.781142857142857 and parameters: {'max_depth': 27, 'min_samples_split': 37, 'min_samples_leaf': 9, 'max_leaf_nodes': 24}. Best is trial 288 with value: 0.7845714285714286.\n",
      "[I 2024-02-08 18:45:25,976] Trial 611 finished with value: 0.781142857142857 and parameters: {'max_depth': 27, 'min_samples_split': 37, 'min_samples_leaf': 9, 'max_leaf_nodes': 24}. Best is trial 288 with value: 0.7845714285714286.\n",
      "[I 2024-02-08 18:45:26,239] Trial 612 finished with value: 0.7834285714285715 and parameters: {'max_depth': 27, 'min_samples_split': 37, 'min_samples_leaf': 8, 'max_leaf_nodes': 24}. Best is trial 288 with value: 0.7845714285714286.\n",
      "[I 2024-02-08 18:45:26,511] Trial 613 finished with value: 0.7828571428571428 and parameters: {'max_depth': 25, 'min_samples_split': 37, 'min_samples_leaf': 7, 'max_leaf_nodes': 24}. Best is trial 288 with value: 0.7845714285714286.\n",
      "[I 2024-02-08 18:45:26,740] Trial 614 finished with value: 0.7828571428571428 and parameters: {'max_depth': 25, 'min_samples_split': 37, 'min_samples_leaf': 7, 'max_leaf_nodes': 24}. Best is trial 288 with value: 0.7845714285714286.\n",
      "[I 2024-02-08 18:45:26,966] Trial 615 finished with value: 0.7828571428571428 and parameters: {'max_depth': 25, 'min_samples_split': 37, 'min_samples_leaf': 7, 'max_leaf_nodes': 24}. Best is trial 288 with value: 0.7845714285714286.\n",
      "[I 2024-02-08 18:45:27,157] Trial 616 finished with value: 0.7828571428571428 and parameters: {'max_depth': 25, 'min_samples_split': 37, 'min_samples_leaf': 7, 'max_leaf_nodes': 24}. Best is trial 288 with value: 0.7845714285714286.\n",
      "[I 2024-02-08 18:45:27,511] Trial 617 finished with value: 0.7834285714285715 and parameters: {'max_depth': 27, 'min_samples_split': 37, 'min_samples_leaf': 8, 'max_leaf_nodes': 24}. Best is trial 288 with value: 0.7845714285714286.\n",
      "[I 2024-02-08 18:45:27,613] Trial 618 finished with value: 0.7805714285714286 and parameters: {'max_depth': 25, 'min_samples_split': 38, 'min_samples_leaf': 8, 'max_leaf_nodes': 25}. Best is trial 288 with value: 0.7845714285714286.\n",
      "[I 2024-02-08 18:45:28,010] Trial 619 finished with value: 0.7805714285714286 and parameters: {'max_depth': 25, 'min_samples_split': 38, 'min_samples_leaf': 8, 'max_leaf_nodes': 25}. Best is trial 288 with value: 0.7845714285714286.\n",
      "[I 2024-02-08 18:45:28,274] Trial 620 finished with value: 0.7805714285714286 and parameters: {'max_depth': 25, 'min_samples_split': 38, 'min_samples_leaf': 8, 'max_leaf_nodes': 25}. Best is trial 288 with value: 0.7845714285714286.\n",
      "[I 2024-02-08 18:45:28,484] Trial 621 finished with value: 0.7805714285714286 and parameters: {'max_depth': 25, 'min_samples_split': 38, 'min_samples_leaf': 8, 'max_leaf_nodes': 25}. Best is trial 288 with value: 0.7845714285714286.\n",
      "[I 2024-02-08 18:45:28,761] Trial 622 finished with value: 0.7817142857142858 and parameters: {'max_depth': 25, 'min_samples_split': 38, 'min_samples_leaf': 7, 'max_leaf_nodes': 25}. Best is trial 288 with value: 0.7845714285714286.\n",
      "[I 2024-02-08 18:45:28,996] Trial 623 finished with value: 0.7805714285714286 and parameters: {'max_depth': 25, 'min_samples_split': 38, 'min_samples_leaf': 8, 'max_leaf_nodes': 25}. Best is trial 288 with value: 0.7845714285714286.\n",
      "[I 2024-02-08 18:45:29,312] Trial 624 finished with value: 0.7805714285714286 and parameters: {'max_depth': 25, 'min_samples_split': 38, 'min_samples_leaf': 8, 'max_leaf_nodes': 25}. Best is trial 288 with value: 0.7845714285714286.\n",
      "[I 2024-02-08 18:45:29,520] Trial 625 finished with value: 0.7805714285714286 and parameters: {'max_depth': 25, 'min_samples_split': 38, 'min_samples_leaf': 8, 'max_leaf_nodes': 25}. Best is trial 288 with value: 0.7845714285714286.\n",
      "[I 2024-02-08 18:45:29,763] Trial 626 finished with value: 0.7805714285714286 and parameters: {'max_depth': 25, 'min_samples_split': 38, 'min_samples_leaf': 8, 'max_leaf_nodes': 25}. Best is trial 288 with value: 0.7845714285714286.\n",
      "[I 2024-02-08 18:45:30,010] Trial 627 finished with value: 0.7805714285714286 and parameters: {'max_depth': 25, 'min_samples_split': 38, 'min_samples_leaf': 8, 'max_leaf_nodes': 25}. Best is trial 288 with value: 0.7845714285714286.\n",
      "[I 2024-02-08 18:45:30,235] Trial 628 finished with value: 0.7805714285714286 and parameters: {'max_depth': 24, 'min_samples_split': 38, 'min_samples_leaf': 8, 'max_leaf_nodes': 25}. Best is trial 288 with value: 0.7845714285714286.\n",
      "[I 2024-02-08 18:45:30,522] Trial 629 finished with value: 0.7805714285714286 and parameters: {'max_depth': 24, 'min_samples_split': 38, 'min_samples_leaf': 8, 'max_leaf_nodes': 25}. Best is trial 288 with value: 0.7845714285714286.\n",
      "[I 2024-02-08 18:45:30,688] Trial 630 finished with value: 0.78 and parameters: {'max_depth': 29, 'min_samples_split': 33, 'min_samples_leaf': 8, 'max_leaf_nodes': 25}. Best is trial 288 with value: 0.7845714285714286.\n",
      "[I 2024-02-08 18:45:31,033] Trial 631 finished with value: 0.7805714285714286 and parameters: {'max_depth': 24, 'min_samples_split': 40, 'min_samples_leaf': 8, 'max_leaf_nodes': 25}. Best is trial 288 with value: 0.7845714285714286.\n",
      "[I 2024-02-08 18:45:31,316] Trial 632 finished with value: 0.7805714285714286 and parameters: {'max_depth': 29, 'min_samples_split': 40, 'min_samples_leaf': 6, 'max_leaf_nodes': 26}. Best is trial 288 with value: 0.7845714285714286.\n",
      "[I 2024-02-08 18:45:31,533] Trial 633 finished with value: 0.7725714285714285 and parameters: {'max_depth': 29, 'min_samples_split': 40, 'min_samples_leaf': 10, 'max_leaf_nodes': 18}. Best is trial 288 with value: 0.7845714285714286.\n",
      "[I 2024-02-08 18:45:31,797] Trial 634 finished with value: 0.7805714285714286 and parameters: {'max_depth': 29, 'min_samples_split': 40, 'min_samples_leaf': 10, 'max_leaf_nodes': 26}. Best is trial 288 with value: 0.7845714285714286.\n",
      "[I 2024-02-08 18:45:31,920] Trial 635 finished with value: 0.7771428571428571 and parameters: {'max_depth': 29, 'min_samples_split': 12, 'min_samples_leaf': 10, 'max_leaf_nodes': 26}. Best is trial 288 with value: 0.7845714285714286.\n",
      "[I 2024-02-08 18:45:32,312] Trial 636 finished with value: 0.7805714285714286 and parameters: {'max_depth': 24, 'min_samples_split': 40, 'min_samples_leaf': 10, 'max_leaf_nodes': 26}. Best is trial 288 with value: 0.7845714285714286.\n",
      "[I 2024-02-08 18:45:32,535] Trial 637 finished with value: 0.7805714285714286 and parameters: {'max_depth': 29, 'min_samples_split': 40, 'min_samples_leaf': 10, 'max_leaf_nodes': 26}. Best is trial 288 with value: 0.7845714285714286.\n",
      "[I 2024-02-08 18:45:32,753] Trial 638 finished with value: 0.7725714285714285 and parameters: {'max_depth': 29, 'min_samples_split': 40, 'min_samples_leaf': 10, 'max_leaf_nodes': 18}. Best is trial 288 with value: 0.7845714285714286.\n",
      "[I 2024-02-08 18:45:33,001] Trial 639 finished with value: 0.7805714285714286 and parameters: {'max_depth': 29, 'min_samples_split': 40, 'min_samples_leaf': 10, 'max_leaf_nodes': 26}. Best is trial 288 with value: 0.7845714285714286.\n",
      "[I 2024-02-08 18:45:33,305] Trial 640 finished with value: 0.78 and parameters: {'max_depth': 26, 'min_samples_split': 40, 'min_samples_leaf': 10, 'max_leaf_nodes': 26}. Best is trial 288 with value: 0.7845714285714286.\n",
      "[I 2024-02-08 18:45:33,581] Trial 641 finished with value: 0.7805714285714286 and parameters: {'max_depth': 29, 'min_samples_split': 40, 'min_samples_leaf': 10, 'max_leaf_nodes': 26}. Best is trial 288 with value: 0.7845714285714286.\n",
      "[I 2024-02-08 18:45:33,734] Trial 642 finished with value: 0.7805714285714286 and parameters: {'max_depth': 11, 'min_samples_split': 40, 'min_samples_leaf': 6, 'max_leaf_nodes': 26}. Best is trial 288 with value: 0.7845714285714286.\n",
      "[I 2024-02-08 18:45:34,055] Trial 643 finished with value: 0.78 and parameters: {'max_depth': 26, 'min_samples_split': 36, 'min_samples_leaf': 10, 'max_leaf_nodes': 26}. Best is trial 288 with value: 0.7845714285714286.\n",
      "[I 2024-02-08 18:45:34,325] Trial 644 finished with value: 0.7805714285714286 and parameters: {'max_depth': 11, 'min_samples_split': 40, 'min_samples_leaf': 10, 'max_leaf_nodes': 26}. Best is trial 288 with value: 0.7845714285714286.\n",
      "[I 2024-02-08 18:45:34,658] Trial 645 finished with value: 0.7805714285714286 and parameters: {'max_depth': 13, 'min_samples_split': 36, 'min_samples_leaf': 10, 'max_leaf_nodes': 26}. Best is trial 288 with value: 0.7845714285714286.\n",
      "[I 2024-02-08 18:45:34,926] Trial 646 finished with value: 0.7822857142857143 and parameters: {'max_depth': 26, 'min_samples_split': 36, 'min_samples_leaf': 9, 'max_leaf_nodes': 26}. Best is trial 288 with value: 0.7845714285714286.\n",
      "[I 2024-02-08 18:45:35,157] Trial 647 finished with value: 0.7834285714285714 and parameters: {'max_depth': 10, 'min_samples_split': 36, 'min_samples_leaf': 9, 'max_leaf_nodes': 27}. Best is trial 288 with value: 0.7845714285714286.\n",
      "[I 2024-02-08 18:45:35,233] Trial 648 finished with value: 0.7822857142857143 and parameters: {'max_depth': 26, 'min_samples_split': 36, 'min_samples_leaf': 9, 'max_leaf_nodes': 26}. Best is trial 288 with value: 0.7845714285714286.\n",
      "[I 2024-02-08 18:45:35,583] Trial 649 finished with value: 0.7834285714285714 and parameters: {'max_depth': 26, 'min_samples_split': 36, 'min_samples_leaf': 9, 'max_leaf_nodes': 27}. Best is trial 288 with value: 0.7845714285714286.\n",
      "[I 2024-02-08 18:45:35,899] Trial 650 finished with value: 0.7834285714285714 and parameters: {'max_depth': 26, 'min_samples_split': 36, 'min_samples_leaf': 9, 'max_leaf_nodes': 27}. Best is trial 288 with value: 0.7845714285714286.\n",
      "[I 2024-02-08 18:45:36,182] Trial 651 finished with value: 0.7834285714285714 and parameters: {'max_depth': 26, 'min_samples_split': 36, 'min_samples_leaf': 9, 'max_leaf_nodes': 27}. Best is trial 288 with value: 0.7845714285714286.\n",
      "[I 2024-02-08 18:45:36,453] Trial 652 finished with value: 0.7834285714285714 and parameters: {'max_depth': 26, 'min_samples_split': 36, 'min_samples_leaf': 9, 'max_leaf_nodes': 27}. Best is trial 288 with value: 0.7845714285714286.\n",
      "[I 2024-02-08 18:45:36,714] Trial 653 finished with value: 0.7834285714285714 and parameters: {'max_depth': 26, 'min_samples_split': 36, 'min_samples_leaf': 9, 'max_leaf_nodes': 27}. Best is trial 288 with value: 0.7845714285714286.\n",
      "[I 2024-02-08 18:45:37,005] Trial 654 finished with value: 0.7834285714285714 and parameters: {'max_depth': 26, 'min_samples_split': 36, 'min_samples_leaf': 9, 'max_leaf_nodes': 27}. Best is trial 288 with value: 0.7845714285714286.\n",
      "[I 2024-02-08 18:45:37,214] Trial 655 finished with value: 0.7834285714285714 and parameters: {'max_depth': 10, 'min_samples_split': 36, 'min_samples_leaf': 9, 'max_leaf_nodes': 27}. Best is trial 288 with value: 0.7845714285714286.\n",
      "[I 2024-02-08 18:45:37,481] Trial 656 finished with value: 0.7845714285714286 and parameters: {'max_depth': 26, 'min_samples_split': 36, 'min_samples_leaf': 9, 'max_leaf_nodes': 25}. Best is trial 288 with value: 0.7845714285714286.\n",
      "[I 2024-02-08 18:45:37,761] Trial 657 finished with value: 0.7845714285714286 and parameters: {'max_depth': 26, 'min_samples_split': 36, 'min_samples_leaf': 9, 'max_leaf_nodes': 25}. Best is trial 288 with value: 0.7845714285714286.\n",
      "[I 2024-02-08 18:45:38,003] Trial 658 finished with value: 0.776 and parameters: {'max_depth': 26, 'min_samples_split': 36, 'min_samples_leaf': 11, 'max_leaf_nodes': 27}. Best is trial 288 with value: 0.7845714285714286.\n",
      "[I 2024-02-08 18:45:38,306] Trial 659 finished with value: 0.776 and parameters: {'max_depth': 26, 'min_samples_split': 39, 'min_samples_leaf': 11, 'max_leaf_nodes': 27}. Best is trial 288 with value: 0.7845714285714286.\n",
      "[I 2024-02-08 18:45:38,522] Trial 660 finished with value: 0.7748571428571428 and parameters: {'max_depth': 26, 'min_samples_split': 34, 'min_samples_leaf': 11, 'max_leaf_nodes': 27}. Best is trial 288 with value: 0.7845714285714286.\n",
      "[I 2024-02-08 18:45:38,763] Trial 661 finished with value: 0.784 and parameters: {'max_depth': 26, 'min_samples_split': 39, 'min_samples_leaf': 9, 'max_leaf_nodes': 25}. Best is trial 288 with value: 0.7845714285714286.\n",
      "[I 2024-02-08 18:45:39,050] Trial 662 finished with value: 0.7834285714285714 and parameters: {'max_depth': 27, 'min_samples_split': 34, 'min_samples_leaf': 9, 'max_leaf_nodes': 25}. Best is trial 288 with value: 0.7845714285714286.\n",
      "[I 2024-02-08 18:45:39,283] Trial 663 finished with value: 0.7834285714285714 and parameters: {'max_depth': 27, 'min_samples_split': 34, 'min_samples_leaf': 9, 'max_leaf_nodes': 25}. Best is trial 288 with value: 0.7845714285714286.\n",
      "[I 2024-02-08 18:45:39,389] Trial 664 finished with value: 0.7485714285714286 and parameters: {'max_depth': 27, 'min_samples_split': 39, 'min_samples_leaf': 11, 'max_leaf_nodes': 14}. Best is trial 288 with value: 0.7845714285714286.\n",
      "[I 2024-02-08 18:45:39,788] Trial 665 finished with value: 0.7834285714285714 and parameters: {'max_depth': 27, 'min_samples_split': 34, 'min_samples_leaf': 9, 'max_leaf_nodes': 25}. Best is trial 288 with value: 0.7845714285714286.\n",
      "[I 2024-02-08 18:45:40,011] Trial 666 finished with value: 0.784 and parameters: {'max_depth': 27, 'min_samples_split': 39, 'min_samples_leaf': 9, 'max_leaf_nodes': 25}. Best is trial 288 with value: 0.7845714285714286.\n",
      "[I 2024-02-08 18:45:40,246] Trial 667 finished with value: 0.784 and parameters: {'max_depth': 27, 'min_samples_split': 39, 'min_samples_leaf': 9, 'max_leaf_nodes': 25}. Best is trial 288 with value: 0.7845714285714286.\n",
      "[I 2024-02-08 18:45:40,493] Trial 668 finished with value: 0.7834285714285714 and parameters: {'max_depth': 30, 'min_samples_split': 34, 'min_samples_leaf': 9, 'max_leaf_nodes': 25}. Best is trial 288 with value: 0.7845714285714286.\n",
      "[I 2024-02-08 18:45:40,674] Trial 669 finished with value: 0.7737142857142858 and parameters: {'max_depth': 30, 'min_samples_split': 34, 'min_samples_leaf': 11, 'max_leaf_nodes': 23}. Best is trial 288 with value: 0.7845714285714286.\n",
      "[I 2024-02-08 18:45:41,028] Trial 670 finished with value: 0.7834285714285714 and parameters: {'max_depth': 30, 'min_samples_split': 34, 'min_samples_leaf': 9, 'max_leaf_nodes': 25}. Best is trial 288 with value: 0.7845714285714286.\n",
      "[I 2024-02-08 18:45:41,284] Trial 671 finished with value: 0.78 and parameters: {'max_depth': 30, 'min_samples_split': 32, 'min_samples_leaf': 9, 'max_leaf_nodes': 23}. Best is trial 288 with value: 0.7845714285714286.\n",
      "[I 2024-02-08 18:45:41,518] Trial 672 finished with value: 0.7805714285714285 and parameters: {'max_depth': 27, 'min_samples_split': 35, 'min_samples_leaf': 9, 'max_leaf_nodes': 23}. Best is trial 288 with value: 0.7845714285714286.\n",
      "[I 2024-02-08 18:45:41,815] Trial 673 finished with value: 0.7834285714285714 and parameters: {'max_depth': 24, 'min_samples_split': 32, 'min_samples_leaf': 9, 'max_leaf_nodes': 25}. Best is trial 288 with value: 0.7845714285714286.\n",
      "[I 2024-02-08 18:45:42,013] Trial 674 finished with value: 0.78 and parameters: {'max_depth': 24, 'min_samples_split': 34, 'min_samples_leaf': 9, 'max_leaf_nodes': 23}. Best is trial 288 with value: 0.7845714285714286.\n",
      "[I 2024-02-08 18:45:42,180] Trial 675 finished with value: 0.7805714285714285 and parameters: {'max_depth': 30, 'min_samples_split': 35, 'min_samples_leaf': 9, 'max_leaf_nodes': 23}. Best is trial 288 with value: 0.7845714285714286.\n",
      "[I 2024-02-08 18:45:42,496] Trial 676 finished with value: 0.78 and parameters: {'max_depth': 28, 'min_samples_split': 34, 'min_samples_leaf': 9, 'max_leaf_nodes': 23}. Best is trial 288 with value: 0.7845714285714286.\n",
      "[I 2024-02-08 18:45:42,774] Trial 677 finished with value: 0.7805714285714285 and parameters: {'max_depth': 30, 'min_samples_split': 35, 'min_samples_leaf': 9, 'max_leaf_nodes': 23}. Best is trial 288 with value: 0.7845714285714286.\n",
      "[I 2024-02-08 18:45:43,029] Trial 678 finished with value: 0.7805714285714285 and parameters: {'max_depth': 24, 'min_samples_split': 33, 'min_samples_leaf': 9, 'max_leaf_nodes': 24}. Best is trial 288 with value: 0.7845714285714286.\n",
      "[I 2024-02-08 18:45:43,293] Trial 679 finished with value: 0.781142857142857 and parameters: {'max_depth': 24, 'min_samples_split': 35, 'min_samples_leaf': 9, 'max_leaf_nodes': 24}. Best is trial 288 with value: 0.7845714285714286.\n",
      "[I 2024-02-08 18:45:43,545] Trial 680 finished with value: 0.7805714285714285 and parameters: {'max_depth': 30, 'min_samples_split': 35, 'min_samples_leaf': 9, 'max_leaf_nodes': 23}. Best is trial 288 with value: 0.7845714285714286.\n",
      "[I 2024-02-08 18:45:43,789] Trial 681 finished with value: 0.781142857142857 and parameters: {'max_depth': 24, 'min_samples_split': 35, 'min_samples_leaf': 9, 'max_leaf_nodes': 24}. Best is trial 288 with value: 0.7845714285714286.\n",
      "[I 2024-02-08 18:45:44,064] Trial 682 finished with value: 0.7645714285714287 and parameters: {'max_depth': 28, 'min_samples_split': 35, 'min_samples_leaf': 14, 'max_leaf_nodes': 24}. Best is trial 288 with value: 0.7845714285714286.\n",
      "[I 2024-02-08 18:45:44,355] Trial 683 finished with value: 0.781142857142857 and parameters: {'max_depth': 24, 'min_samples_split': 35, 'min_samples_leaf': 9, 'max_leaf_nodes': 24}. Best is trial 288 with value: 0.7845714285714286.\n",
      "[I 2024-02-08 18:45:44,571] Trial 684 finished with value: 0.7834285714285715 and parameters: {'max_depth': 24, 'min_samples_split': 35, 'min_samples_leaf': 8, 'max_leaf_nodes': 24}. Best is trial 288 with value: 0.7845714285714286.\n",
      "[I 2024-02-08 18:45:44,823] Trial 685 finished with value: 0.7651428571428572 and parameters: {'max_depth': 28, 'min_samples_split': 35, 'min_samples_leaf': 14, 'max_leaf_nodes': 24}. Best is trial 288 with value: 0.7845714285714286.\n",
      "[I 2024-02-08 18:45:44,963] Trial 686 finished with value: 0.7834285714285715 and parameters: {'max_depth': 28, 'min_samples_split': 35, 'min_samples_leaf': 8, 'max_leaf_nodes': 24}. Best is trial 288 with value: 0.7845714285714286.\n",
      "[I 2024-02-08 18:45:45,363] Trial 687 finished with value: 0.7834285714285715 and parameters: {'max_depth': 28, 'min_samples_split': 35, 'min_samples_leaf': 8, 'max_leaf_nodes': 24}. Best is trial 288 with value: 0.7845714285714286.\n",
      "[I 2024-02-08 18:45:45,639] Trial 688 finished with value: 0.7834285714285715 and parameters: {'max_depth': 25, 'min_samples_split': 35, 'min_samples_leaf': 8, 'max_leaf_nodes': 24}. Best is trial 288 with value: 0.7845714285714286.\n",
      "[I 2024-02-08 18:45:45,736] Trial 689 finished with value: 0.7822857142857143 and parameters: {'max_depth': 25, 'min_samples_split': 30, 'min_samples_leaf': 8, 'max_leaf_nodes': 24}. Best is trial 288 with value: 0.7845714285714286.\n",
      "[I 2024-02-08 18:45:46,036] Trial 690 finished with value: 0.7834285714285715 and parameters: {'max_depth': 25, 'min_samples_split': 37, 'min_samples_leaf': 8, 'max_leaf_nodes': 24}. Best is trial 288 with value: 0.7845714285714286.\n",
      "[I 2024-02-08 18:45:46,331] Trial 691 finished with value: 0.7834285714285715 and parameters: {'max_depth': 25, 'min_samples_split': 37, 'min_samples_leaf': 8, 'max_leaf_nodes': 24}. Best is trial 288 with value: 0.7845714285714286.\n",
      "[I 2024-02-08 18:45:46,612] Trial 692 finished with value: 0.7834285714285715 and parameters: {'max_depth': 25, 'min_samples_split': 37, 'min_samples_leaf': 8, 'max_leaf_nodes': 24}. Best is trial 288 with value: 0.7845714285714286.\n",
      "[I 2024-02-08 18:45:46,840] Trial 693 finished with value: 0.7834285714285715 and parameters: {'max_depth': 25, 'min_samples_split': 38, 'min_samples_leaf': 8, 'max_leaf_nodes': 24}. Best is trial 288 with value: 0.7845714285714286.\n",
      "[I 2024-02-08 18:45:47,127] Trial 694 finished with value: 0.7834285714285715 and parameters: {'max_depth': 25, 'min_samples_split': 37, 'min_samples_leaf': 8, 'max_leaf_nodes': 24}. Best is trial 288 with value: 0.7845714285714286.\n",
      "[I 2024-02-08 18:45:47,253] Trial 695 finished with value: 0.7811428571428571 and parameters: {'max_depth': 25, 'min_samples_split': 37, 'min_samples_leaf': 8, 'max_leaf_nodes': 25}. Best is trial 288 with value: 0.7845714285714286.\n",
      "[I 2024-02-08 18:45:47,627] Trial 696 finished with value: 0.7811428571428571 and parameters: {'max_depth': 25, 'min_samples_split': 37, 'min_samples_leaf': 8, 'max_leaf_nodes': 25}. Best is trial 288 with value: 0.7845714285714286.\n",
      "[I 2024-02-08 18:45:47,826] Trial 697 finished with value: 0.7811428571428571 and parameters: {'max_depth': 25, 'min_samples_split': 37, 'min_samples_leaf': 8, 'max_leaf_nodes': 25}. Best is trial 288 with value: 0.7845714285714286.\n",
      "[I 2024-02-08 18:45:48,124] Trial 698 finished with value: 0.78 and parameters: {'max_depth': 25, 'min_samples_split': 37, 'min_samples_leaf': 10, 'max_leaf_nodes': 25}. Best is trial 288 with value: 0.7845714285714286.\n",
      "[I 2024-02-08 18:45:48,412] Trial 699 finished with value: 0.78 and parameters: {'max_depth': 25, 'min_samples_split': 37, 'min_samples_leaf': 10, 'max_leaf_nodes': 25}. Best is trial 288 with value: 0.7845714285714286.\n",
      "[I 2024-02-08 18:45:48,608] Trial 700 finished with value: 0.78 and parameters: {'max_depth': 25, 'min_samples_split': 37, 'min_samples_leaf': 10, 'max_leaf_nodes': 25}. Best is trial 288 with value: 0.7845714285714286.\n",
      "[I 2024-02-08 18:45:48,909] Trial 701 finished with value: 0.7805714285714285 and parameters: {'max_depth': 26, 'min_samples_split': 37, 'min_samples_leaf': 10, 'max_leaf_nodes': 25}. Best is trial 288 with value: 0.7845714285714286.\n",
      "[I 2024-02-08 18:45:49,103] Trial 702 finished with value: 0.7805714285714285 and parameters: {'max_depth': 26, 'min_samples_split': 37, 'min_samples_leaf': 10, 'max_leaf_nodes': 25}. Best is trial 288 with value: 0.7845714285714286.\n",
      "[I 2024-02-08 18:45:49,390] Trial 703 finished with value: 0.7788571428571428 and parameters: {'max_depth': 26, 'min_samples_split': 14, 'min_samples_leaf': 10, 'max_leaf_nodes': 25}. Best is trial 288 with value: 0.7845714285714286.\n",
      "[I 2024-02-08 18:45:49,662] Trial 704 finished with value: 0.78 and parameters: {'max_depth': 26, 'min_samples_split': 38, 'min_samples_leaf': 10, 'max_leaf_nodes': 25}. Best is trial 288 with value: 0.7845714285714286.\n",
      "[I 2024-02-08 18:45:49,901] Trial 705 finished with value: 0.7805714285714285 and parameters: {'max_depth': 26, 'min_samples_split': 37, 'min_samples_leaf': 10, 'max_leaf_nodes': 25}. Best is trial 288 with value: 0.7845714285714286.\n",
      "[I 2024-02-08 18:45:50,176] Trial 706 finished with value: 0.78 and parameters: {'max_depth': 26, 'min_samples_split': 38, 'min_samples_leaf': 10, 'max_leaf_nodes': 25}. Best is trial 288 with value: 0.7845714285714286.\n",
      "[I 2024-02-08 18:45:50,304] Trial 707 finished with value: 0.78 and parameters: {'max_depth': 26, 'min_samples_split': 38, 'min_samples_leaf': 10, 'max_leaf_nodes': 26}. Best is trial 288 with value: 0.7845714285714286.\n",
      "[I 2024-02-08 18:45:50,541] Trial 708 finished with value: 0.7337142857142858 and parameters: {'max_depth': 4, 'min_samples_split': 4, 'min_samples_leaf': 10, 'max_leaf_nodes': 26}. Best is trial 288 with value: 0.7845714285714286.\n",
      "[I 2024-02-08 18:45:50,799] Trial 709 finished with value: 0.78 and parameters: {'max_depth': 26, 'min_samples_split': 38, 'min_samples_leaf': 10, 'max_leaf_nodes': 26}. Best is trial 288 with value: 0.7845714285714286.\n",
      "[I 2024-02-08 18:45:50,952] Trial 710 finished with value: 0.78 and parameters: {'max_depth': 26, 'min_samples_split': 38, 'min_samples_leaf': 10, 'max_leaf_nodes': 26}. Best is trial 288 with value: 0.7845714285714286.\n",
      "[I 2024-02-08 18:45:51,367] Trial 711 finished with value: 0.7805714285714286 and parameters: {'max_depth': 26, 'min_samples_split': 38, 'min_samples_leaf': 10, 'max_leaf_nodes': 26}. Best is trial 288 with value: 0.7845714285714286.\n",
      "[I 2024-02-08 18:45:51,622] Trial 712 finished with value: 0.7788571428571428 and parameters: {'max_depth': 26, 'min_samples_split': 28, 'min_samples_leaf': 10, 'max_leaf_nodes': 26}. Best is trial 288 with value: 0.7845714285714286.\n",
      "[I 2024-02-08 18:45:51,870] Trial 713 finished with value: 0.7822857142857143 and parameters: {'max_depth': 27, 'min_samples_split': 38, 'min_samples_leaf': 9, 'max_leaf_nodes': 26}. Best is trial 288 with value: 0.7845714285714286.\n",
      "[I 2024-02-08 18:45:52,047] Trial 714 finished with value: 0.7822857142857143 and parameters: {'max_depth': 27, 'min_samples_split': 38, 'min_samples_leaf': 9, 'max_leaf_nodes': 26}. Best is trial 288 with value: 0.7845714285714286.\n",
      "[I 2024-02-08 18:45:52,302] Trial 715 finished with value: 0.7822857142857143 and parameters: {'max_depth': 27, 'min_samples_split': 38, 'min_samples_leaf': 9, 'max_leaf_nodes': 26}. Best is trial 288 with value: 0.7845714285714286.\n",
      "[I 2024-02-08 18:45:52,506] Trial 716 finished with value: 0.7811428571428571 and parameters: {'max_depth': 27, 'min_samples_split': 20, 'min_samples_leaf': 9, 'max_leaf_nodes': 26}. Best is trial 288 with value: 0.7845714285714286.\n",
      "[I 2024-02-08 18:45:52,882] Trial 717 finished with value: 0.7822857142857143 and parameters: {'max_depth': 27, 'min_samples_split': 39, 'min_samples_leaf': 9, 'max_leaf_nodes': 26}. Best is trial 288 with value: 0.7845714285714286.\n",
      "[I 2024-02-08 18:45:53,143] Trial 718 finished with value: 0.7685714285714286 and parameters: {'max_depth': 27, 'min_samples_split': 39, 'min_samples_leaf': 20, 'max_leaf_nodes': 26}. Best is trial 288 with value: 0.7845714285714286.\n",
      "[I 2024-02-08 18:45:53,393] Trial 719 finished with value: 0.7822857142857143 and parameters: {'max_depth': 27, 'min_samples_split': 39, 'min_samples_leaf': 9, 'max_leaf_nodes': 26}. Best is trial 288 with value: 0.7845714285714286.\n",
      "[I 2024-02-08 18:45:53,603] Trial 720 finished with value: 0.7822857142857143 and parameters: {'max_depth': 27, 'min_samples_split': 39, 'min_samples_leaf': 9, 'max_leaf_nodes': 26}. Best is trial 288 with value: 0.7845714285714286.\n",
      "[I 2024-02-08 18:45:53,852] Trial 721 finished with value: 0.7822857142857143 and parameters: {'max_depth': 27, 'min_samples_split': 39, 'min_samples_leaf': 9, 'max_leaf_nodes': 26}. Best is trial 288 with value: 0.7845714285714286.\n",
      "[I 2024-02-08 18:45:54,092] Trial 722 finished with value: 0.7822857142857143 and parameters: {'max_depth': 27, 'min_samples_split': 39, 'min_samples_leaf': 9, 'max_leaf_nodes': 26}. Best is trial 288 with value: 0.7845714285714286.\n",
      "[I 2024-02-08 18:45:54,399] Trial 723 finished with value: 0.7811428571428571 and parameters: {'max_depth': 27, 'min_samples_split': 19, 'min_samples_leaf': 9, 'max_leaf_nodes': 26}. Best is trial 288 with value: 0.7845714285714286.\n",
      "[I 2024-02-08 18:45:54,666] Trial 724 finished with value: 0.7822857142857143 and parameters: {'max_depth': 27, 'min_samples_split': 36, 'min_samples_leaf': 9, 'max_leaf_nodes': 26}. Best is trial 288 with value: 0.7845714285714286.\n",
      "[I 2024-02-08 18:45:54,946] Trial 725 finished with value: 0.776 and parameters: {'max_depth': 28, 'min_samples_split': 19, 'min_samples_leaf': 9, 'max_leaf_nodes': 22}. Best is trial 288 with value: 0.7845714285714286.\n",
      "[I 2024-02-08 18:45:55,127] Trial 726 finished with value: 0.7771428571428571 and parameters: {'max_depth': 28, 'min_samples_split': 36, 'min_samples_leaf': 9, 'max_leaf_nodes': 22}. Best is trial 288 with value: 0.7845714285714286.\n",
      "[I 2024-02-08 18:45:55,377] Trial 727 finished with value: 0.7845714285714286 and parameters: {'max_depth': 28, 'min_samples_split': 36, 'min_samples_leaf': 9, 'max_leaf_nodes': 25}. Best is trial 288 with value: 0.7845714285714286.\n",
      "[I 2024-02-08 18:45:55,590] Trial 728 finished with value: 0.7685714285714286 and parameters: {'max_depth': 28, 'min_samples_split': 36, 'min_samples_leaf': 20, 'max_leaf_nodes': 25}. Best is trial 288 with value: 0.7845714285714286.\n",
      "[I 2024-02-08 18:45:55,896] Trial 729 finished with value: 0.7845714285714286 and parameters: {'max_depth': 28, 'min_samples_split': 36, 'min_samples_leaf': 9, 'max_leaf_nodes': 25}. Best is trial 288 with value: 0.7845714285714286.\n",
      "[I 2024-02-08 18:45:56,143] Trial 730 finished with value: 0.7845714285714286 and parameters: {'max_depth': 28, 'min_samples_split': 36, 'min_samples_leaf': 9, 'max_leaf_nodes': 25}. Best is trial 288 with value: 0.7845714285714286.\n",
      "[I 2024-02-08 18:45:56,448] Trial 731 finished with value: 0.7845714285714286 and parameters: {'max_depth': 28, 'min_samples_split': 36, 'min_samples_leaf': 9, 'max_leaf_nodes': 25}. Best is trial 288 with value: 0.7845714285714286.\n",
      "[I 2024-02-08 18:45:56,644] Trial 732 finished with value: 0.7394285714285714 and parameters: {'max_depth': 28, 'min_samples_split': 36, 'min_samples_leaf': 9, 'max_leaf_nodes': 13}. Best is trial 288 with value: 0.7845714285714286.\n",
      "[I 2024-02-08 18:45:56,899] Trial 733 finished with value: 0.7845714285714286 and parameters: {'max_depth': 28, 'min_samples_split': 36, 'min_samples_leaf': 9, 'max_leaf_nodes': 25}. Best is trial 288 with value: 0.7845714285714286.\n",
      "[I 2024-02-08 18:45:57,113] Trial 734 finished with value: 0.7771428571428571 and parameters: {'max_depth': 28, 'min_samples_split': 36, 'min_samples_leaf': 9, 'max_leaf_nodes': 22}. Best is trial 288 with value: 0.7845714285714286.\n",
      "[I 2024-02-08 18:45:57,345] Trial 735 finished with value: 0.7394285714285714 and parameters: {'max_depth': 28, 'min_samples_split': 36, 'min_samples_leaf': 9, 'max_leaf_nodes': 13}. Best is trial 288 with value: 0.7845714285714286.\n",
      "[I 2024-02-08 18:45:57,595] Trial 736 finished with value: 0.7845714285714286 and parameters: {'max_depth': 28, 'min_samples_split': 36, 'min_samples_leaf': 9, 'max_leaf_nodes': 25}. Best is trial 288 with value: 0.7845714285714286.\n",
      "[I 2024-02-08 18:45:57,859] Trial 737 finished with value: 0.7845714285714286 and parameters: {'max_depth': 28, 'min_samples_split': 36, 'min_samples_leaf': 9, 'max_leaf_nodes': 25}. Best is trial 288 with value: 0.7845714285714286.\n",
      "[I 2024-02-08 18:45:58,119] Trial 738 finished with value: 0.7525714285714287 and parameters: {'max_depth': 29, 'min_samples_split': 39, 'min_samples_leaf': 9, 'max_leaf_nodes': 15}. Best is trial 288 with value: 0.7845714285714286.\n",
      "[I 2024-02-08 18:45:58,375] Trial 739 finished with value: 0.7845714285714286 and parameters: {'max_depth': 29, 'min_samples_split': 36, 'min_samples_leaf': 9, 'max_leaf_nodes': 25}. Best is trial 288 with value: 0.7845714285714286.\n",
      "[I 2024-02-08 18:45:58,605] Trial 740 finished with value: 0.7845714285714286 and parameters: {'max_depth': 29, 'min_samples_split': 36, 'min_samples_leaf': 9, 'max_leaf_nodes': 25}. Best is trial 288 with value: 0.7845714285714286.\n",
      "[I 2024-02-08 18:45:58,834] Trial 741 finished with value: 0.7845714285714286 and parameters: {'max_depth': 29, 'min_samples_split': 36, 'min_samples_leaf': 9, 'max_leaf_nodes': 25}. Best is trial 288 with value: 0.7845714285714286.\n",
      "[I 2024-02-08 18:45:59,069] Trial 742 finished with value: 0.7845714285714286 and parameters: {'max_depth': 29, 'min_samples_split': 36, 'min_samples_leaf': 9, 'max_leaf_nodes': 25}. Best is trial 288 with value: 0.7845714285714286.\n",
      "[I 2024-02-08 18:45:59,310] Trial 743 finished with value: 0.7394285714285714 and parameters: {'max_depth': 29, 'min_samples_split': 36, 'min_samples_leaf': 9, 'max_leaf_nodes': 13}. Best is trial 288 with value: 0.7845714285714286.\n",
      "[I 2024-02-08 18:45:59,609] Trial 744 finished with value: 0.7811428571428571 and parameters: {'max_depth': 29, 'min_samples_split': 36, 'min_samples_leaf': 8, 'max_leaf_nodes': 25}. Best is trial 288 with value: 0.7845714285714286.\n",
      "[I 2024-02-08 18:45:59,892] Trial 745 finished with value: 0.7811428571428571 and parameters: {'max_depth': 29, 'min_samples_split': 36, 'min_samples_leaf': 8, 'max_leaf_nodes': 25}. Best is trial 288 with value: 0.7845714285714286.\n",
      "[I 2024-02-08 18:46:00,032] Trial 746 finished with value: 0.7811428571428571 and parameters: {'max_depth': 29, 'min_samples_split': 36, 'min_samples_leaf': 8, 'max_leaf_nodes': 25}. Best is trial 288 with value: 0.7845714285714286.\n",
      "[I 2024-02-08 18:46:00,339] Trial 747 finished with value: 0.78 and parameters: {'max_depth': 29, 'min_samples_split': 35, 'min_samples_leaf': 8, 'max_leaf_nodes': 25}. Best is trial 288 with value: 0.7845714285714286.\n",
      "[I 2024-02-08 18:46:00,513] Trial 748 finished with value: 0.78 and parameters: {'max_depth': 28, 'min_samples_split': 33, 'min_samples_leaf': 8, 'max_leaf_nodes': 25}. Best is trial 288 with value: 0.7845714285714286.\n",
      "[I 2024-02-08 18:46:00,803] Trial 749 finished with value: 0.78 and parameters: {'max_depth': 29, 'min_samples_split': 35, 'min_samples_leaf': 8, 'max_leaf_nodes': 25}. Best is trial 288 with value: 0.7845714285714286.\n",
      "[I 2024-02-08 18:46:01,146] Trial 750 finished with value: 0.78 and parameters: {'max_depth': 29, 'min_samples_split': 35, 'min_samples_leaf': 8, 'max_leaf_nodes': 25}. Best is trial 288 with value: 0.7845714285714286.\n",
      "[I 2024-02-08 18:46:01,406] Trial 751 finished with value: 0.78 and parameters: {'max_depth': 29, 'min_samples_split': 33, 'min_samples_leaf': 8, 'max_leaf_nodes': 25}. Best is trial 288 with value: 0.7845714285714286.\n",
      "[I 2024-02-08 18:46:01,671] Trial 752 finished with value: 0.7834285714285715 and parameters: {'max_depth': 29, 'min_samples_split': 35, 'min_samples_leaf': 8, 'max_leaf_nodes': 24}. Best is trial 288 with value: 0.7845714285714286.\n",
      "[I 2024-02-08 18:46:01,789] Trial 753 finished with value: 0.7828571428571428 and parameters: {'max_depth': 29, 'min_samples_split': 33, 'min_samples_leaf': 8, 'max_leaf_nodes': 24}. Best is trial 288 with value: 0.7845714285714286.\n",
      "[I 2024-02-08 18:46:02,168] Trial 754 finished with value: 0.7828571428571428 and parameters: {'max_depth': 30, 'min_samples_split': 33, 'min_samples_leaf': 8, 'max_leaf_nodes': 24}. Best is trial 288 with value: 0.7845714285714286.\n",
      "[I 2024-02-08 18:46:02,434] Trial 755 finished with value: 0.7828571428571428 and parameters: {'max_depth': 30, 'min_samples_split': 33, 'min_samples_leaf': 8, 'max_leaf_nodes': 24}. Best is trial 288 with value: 0.7845714285714286.\n",
      "[I 2024-02-08 18:46:02,495] Trial 756 finished with value: 0.7828571428571428 and parameters: {'max_depth': 29, 'min_samples_split': 34, 'min_samples_leaf': 8, 'max_leaf_nodes': 24}. Best is trial 288 with value: 0.7845714285714286.\n",
      "[I 2024-02-08 18:46:02,889] Trial 757 finished with value: 0.7834285714285715 and parameters: {'max_depth': 30, 'min_samples_split': 35, 'min_samples_leaf': 8, 'max_leaf_nodes': 24}. Best is trial 288 with value: 0.7845714285714286.\n",
      "[I 2024-02-08 18:46:03,133] Trial 758 finished with value: 0.7834285714285715 and parameters: {'max_depth': 30, 'min_samples_split': 35, 'min_samples_leaf': 8, 'max_leaf_nodes': 24}. Best is trial 288 with value: 0.7845714285714286.\n",
      "[I 2024-02-08 18:46:03,427] Trial 759 finished with value: 0.7805714285714285 and parameters: {'max_depth': 30, 'min_samples_split': 33, 'min_samples_leaf': 9, 'max_leaf_nodes': 24}. Best is trial 288 with value: 0.7845714285714286.\n",
      "[I 2024-02-08 18:46:03,674] Trial 760 finished with value: 0.7742857142857142 and parameters: {'max_depth': 30, 'min_samples_split': 35, 'min_samples_leaf': 12, 'max_leaf_nodes': 24}. Best is trial 288 with value: 0.7845714285714286.\n",
      "[I 2024-02-08 18:46:03,911] Trial 761 finished with value: 0.7805714285714285 and parameters: {'max_depth': 29, 'min_samples_split': 33, 'min_samples_leaf': 9, 'max_leaf_nodes': 24}. Best is trial 288 with value: 0.7845714285714286.\n",
      "[I 2024-02-08 18:46:04,087] Trial 762 finished with value: 0.7291428571428572 and parameters: {'max_depth': 30, 'min_samples_split': 34, 'min_samples_leaf': 9, 'max_leaf_nodes': 9}. Best is trial 288 with value: 0.7845714285714286.\n",
      "[I 2024-02-08 18:46:04,330] Trial 763 finished with value: 0.7805714285714285 and parameters: {'max_depth': 30, 'min_samples_split': 34, 'min_samples_leaf': 9, 'max_leaf_nodes': 24}. Best is trial 288 with value: 0.7845714285714286.\n",
      "[I 2024-02-08 18:46:04,593] Trial 764 finished with value: 0.7805714285714285 and parameters: {'max_depth': 30, 'min_samples_split': 34, 'min_samples_leaf': 9, 'max_leaf_nodes': 24}. Best is trial 288 with value: 0.7845714285714286.\n",
      "[I 2024-02-08 18:46:04,691] Trial 765 finished with value: 0.7291428571428572 and parameters: {'max_depth': 29, 'min_samples_split': 34, 'min_samples_leaf': 12, 'max_leaf_nodes': 9}. Best is trial 288 with value: 0.7845714285714286.\n",
      "[I 2024-02-08 18:46:05,016] Trial 766 finished with value: 0.7805714285714285 and parameters: {'max_depth': 29, 'min_samples_split': 34, 'min_samples_leaf': 9, 'max_leaf_nodes': 24}. Best is trial 288 with value: 0.7845714285714286.\n",
      "[I 2024-02-08 18:46:05,246] Trial 767 finished with value: 0.7805714285714285 and parameters: {'max_depth': 30, 'min_samples_split': 34, 'min_samples_leaf': 9, 'max_leaf_nodes': 24}. Best is trial 288 with value: 0.7845714285714286.\n",
      "[I 2024-02-08 18:46:05,503] Trial 768 finished with value: 0.781142857142857 and parameters: {'max_depth': 30, 'min_samples_split': 35, 'min_samples_leaf': 9, 'max_leaf_nodes': 24}. Best is trial 288 with value: 0.7845714285714286.\n",
      "[I 2024-02-08 18:46:05,804] Trial 769 finished with value: 0.7834285714285714 and parameters: {'max_depth': 30, 'min_samples_split': 35, 'min_samples_leaf': 9, 'max_leaf_nodes': 25}. Best is trial 288 with value: 0.7845714285714286.\n",
      "[I 2024-02-08 18:46:06,075] Trial 770 finished with value: 0.7771428571428571 and parameters: {'max_depth': 30, 'min_samples_split': 34, 'min_samples_leaf': 12, 'max_leaf_nodes': 25}. Best is trial 288 with value: 0.7845714285714286.\n",
      "[I 2024-02-08 18:46:06,319] Trial 771 finished with value: 0.7834285714285714 and parameters: {'max_depth': 30, 'min_samples_split': 34, 'min_samples_leaf': 9, 'max_leaf_nodes': 25}. Best is trial 288 with value: 0.7845714285714286.\n",
      "[I 2024-02-08 18:46:06,442] Trial 772 finished with value: 0.7834285714285714 and parameters: {'max_depth': 29, 'min_samples_split': 34, 'min_samples_leaf': 9, 'max_leaf_nodes': 25}. Best is trial 288 with value: 0.7845714285714286.\n",
      "[I 2024-02-08 18:46:06,837] Trial 773 finished with value: 0.78 and parameters: {'max_depth': 29, 'min_samples_split': 36, 'min_samples_leaf': 10, 'max_leaf_nodes': 25}. Best is trial 288 with value: 0.7845714285714286.\n",
      "[I 2024-02-08 18:46:07,071] Trial 774 finished with value: 0.7805714285714285 and parameters: {'max_depth': 29, 'min_samples_split': 36, 'min_samples_leaf': 10, 'max_leaf_nodes': 25}. Best is trial 288 with value: 0.7845714285714286.\n",
      "[I 2024-02-08 18:46:07,282] Trial 775 finished with value: 0.7805714285714285 and parameters: {'max_depth': 29, 'min_samples_split': 36, 'min_samples_leaf': 10, 'max_leaf_nodes': 25}. Best is trial 288 with value: 0.7845714285714286.\n",
      "[I 2024-02-08 18:46:07,547] Trial 776 finished with value: 0.78 and parameters: {'max_depth': 29, 'min_samples_split': 36, 'min_samples_leaf': 10, 'max_leaf_nodes': 25}. Best is trial 288 with value: 0.7845714285714286.\n",
      "[I 2024-02-08 18:46:07,843] Trial 777 finished with value: 0.7805714285714285 and parameters: {'max_depth': 29, 'min_samples_split': 36, 'min_samples_leaf': 10, 'max_leaf_nodes': 25}. Best is trial 288 with value: 0.7845714285714286.\n",
      "[I 2024-02-08 18:46:08,108] Trial 778 finished with value: 0.78 and parameters: {'max_depth': 29, 'min_samples_split': 36, 'min_samples_leaf': 10, 'max_leaf_nodes': 25}. Best is trial 288 with value: 0.7845714285714286.\n",
      "[I 2024-02-08 18:46:08,319] Trial 779 finished with value: 0.7805714285714285 and parameters: {'max_depth': 29, 'min_samples_split': 36, 'min_samples_leaf': 10, 'max_leaf_nodes': 25}. Best is trial 288 with value: 0.7845714285714286.\n",
      "[I 2024-02-08 18:46:08,603] Trial 780 finished with value: 0.7805714285714285 and parameters: {'max_depth': 29, 'min_samples_split': 36, 'min_samples_leaf': 10, 'max_leaf_nodes': 25}. Best is trial 288 with value: 0.7845714285714286.\n",
      "[I 2024-02-08 18:46:08,876] Trial 781 finished with value: 0.7805714285714285 and parameters: {'max_depth': 29, 'min_samples_split': 36, 'min_samples_leaf': 10, 'max_leaf_nodes': 25}. Best is trial 288 with value: 0.7845714285714286.\n",
      "[I 2024-02-08 18:46:09,160] Trial 782 finished with value: 0.78 and parameters: {'max_depth': 29, 'min_samples_split': 36, 'min_samples_leaf': 10, 'max_leaf_nodes': 26}. Best is trial 288 with value: 0.7845714285714286.\n",
      "[I 2024-02-08 18:46:09,497] Trial 783 finished with value: 0.78 and parameters: {'max_depth': 29, 'min_samples_split': 36, 'min_samples_leaf': 10, 'max_leaf_nodes': 26}. Best is trial 288 with value: 0.7845714285714286.\n",
      "[I 2024-02-08 18:46:09,814] Trial 784 finished with value: 0.7805714285714286 and parameters: {'max_depth': 29, 'min_samples_split': 36, 'min_samples_leaf': 10, 'max_leaf_nodes': 26}. Best is trial 288 with value: 0.7845714285714286.\n",
      "[I 2024-02-08 18:46:10,158] Trial 785 finished with value: 0.7805714285714286 and parameters: {'max_depth': 29, 'min_samples_split': 36, 'min_samples_leaf': 10, 'max_leaf_nodes': 26}. Best is trial 288 with value: 0.7845714285714286.\n",
      "[I 2024-02-08 18:46:10,381] Trial 786 finished with value: 0.7611428571428571 and parameters: {'max_depth': 29, 'min_samples_split': 36, 'min_samples_leaf': 15, 'max_leaf_nodes': 26}. Best is trial 288 with value: 0.7845714285714286.\n",
      "[I 2024-02-08 18:46:10,798] Trial 787 finished with value: 0.78 and parameters: {'max_depth': 28, 'min_samples_split': 36, 'min_samples_leaf': 10, 'max_leaf_nodes': 26}. Best is trial 288 with value: 0.7845714285714286.\n",
      "[I 2024-02-08 18:46:11,004] Trial 788 finished with value: 0.78 and parameters: {'max_depth': 28, 'min_samples_split': 36, 'min_samples_leaf': 10, 'max_leaf_nodes': 26}. Best is trial 288 with value: 0.7845714285714286.\n",
      "[I 2024-02-08 18:46:11,284] Trial 789 finished with value: 0.7822857142857143 and parameters: {'max_depth': 28, 'min_samples_split': 36, 'min_samples_leaf': 9, 'max_leaf_nodes': 26}. Best is trial 288 with value: 0.7845714285714286.\n",
      "[I 2024-02-08 18:46:11,553] Trial 790 finished with value: 0.7822857142857143 and parameters: {'max_depth': 28, 'min_samples_split': 36, 'min_samples_leaf': 9, 'max_leaf_nodes': 26}. Best is trial 288 with value: 0.7845714285714286.\n",
      "[I 2024-02-08 18:46:11,778] Trial 791 finished with value: 0.7811428571428571 and parameters: {'max_depth': 28, 'min_samples_split': 35, 'min_samples_leaf': 9, 'max_leaf_nodes': 26}. Best is trial 288 with value: 0.7845714285714286.\n",
      "[I 2024-02-08 18:46:11,985] Trial 792 finished with value: 0.7651428571428572 and parameters: {'max_depth': 28, 'min_samples_split': 35, 'min_samples_leaf': 17, 'max_leaf_nodes': 26}. Best is trial 288 with value: 0.7845714285714286.\n",
      "[I 2024-02-08 18:46:12,197] Trial 793 finished with value: 0.7811428571428571 and parameters: {'max_depth': 28, 'min_samples_split': 35, 'min_samples_leaf': 9, 'max_leaf_nodes': 26}. Best is trial 288 with value: 0.7845714285714286.\n",
      "[I 2024-02-08 18:46:12,611] Trial 794 finished with value: 0.7737142857142857 and parameters: {'max_depth': 28, 'min_samples_split': 35, 'min_samples_leaf': 9, 'max_leaf_nodes': 19}. Best is trial 288 with value: 0.7845714285714286.\n",
      "[I 2024-02-08 18:46:13,011] Trial 795 finished with value: 0.7811428571428571 and parameters: {'max_depth': 28, 'min_samples_split': 35, 'min_samples_leaf': 9, 'max_leaf_nodes': 26}. Best is trial 288 with value: 0.7845714285714286.\n",
      "[I 2024-02-08 18:46:13,223] Trial 796 finished with value: 0.7811428571428571 and parameters: {'max_depth': 28, 'min_samples_split': 35, 'min_samples_leaf': 9, 'max_leaf_nodes': 26}. Best is trial 288 with value: 0.7845714285714286.\n",
      "[I 2024-02-08 18:46:13,444] Trial 797 finished with value: 0.7651428571428572 and parameters: {'max_depth': 28, 'min_samples_split': 35, 'min_samples_leaf': 17, 'max_leaf_nodes': 26}. Best is trial 288 with value: 0.7845714285714286.\n",
      "[I 2024-02-08 18:46:13,773] Trial 798 finished with value: 0.7811428571428571 and parameters: {'max_depth': 28, 'min_samples_split': 35, 'min_samples_leaf': 9, 'max_leaf_nodes': 26}. Best is trial 288 with value: 0.7845714285714286.\n",
      "[I 2024-02-08 18:46:14,033] Trial 799 finished with value: 0.7811428571428571 and parameters: {'max_depth': 28, 'min_samples_split': 35, 'min_samples_leaf': 9, 'max_leaf_nodes': 26}. Best is trial 288 with value: 0.7845714285714286.\n",
      "[I 2024-02-08 18:46:14,312] Trial 800 finished with value: 0.7805714285714285 and parameters: {'max_depth': 28, 'min_samples_split': 35, 'min_samples_leaf': 9, 'max_leaf_nodes': 23}. Best is trial 288 with value: 0.7845714285714286.\n",
      "[I 2024-02-08 18:46:14,597] Trial 801 finished with value: 0.7834285714285714 and parameters: {'max_depth': 28, 'min_samples_split': 35, 'min_samples_leaf': 9, 'max_leaf_nodes': 25}. Best is trial 288 with value: 0.7845714285714286.\n",
      "[I 2024-02-08 18:46:14,854] Trial 802 finished with value: 0.7805714285714285 and parameters: {'max_depth': 28, 'min_samples_split': 35, 'min_samples_leaf': 9, 'max_leaf_nodes': 23}. Best is trial 288 with value: 0.7845714285714286.\n",
      "[I 2024-02-08 18:46:15,235] Trial 803 finished with value: 0.7805714285714285 and parameters: {'max_depth': 28, 'min_samples_split': 35, 'min_samples_leaf': 9, 'max_leaf_nodes': 23}. Best is trial 288 with value: 0.7845714285714286.\n",
      "[I 2024-02-08 18:46:15,451] Trial 804 finished with value: 0.7771428571428572 and parameters: {'max_depth': 28, 'min_samples_split': 35, 'min_samples_leaf': 9, 'max_leaf_nodes': 21}. Best is trial 288 with value: 0.7845714285714286.\n",
      "[I 2024-02-08 18:46:15,731] Trial 805 finished with value: 0.7805714285714285 and parameters: {'max_depth': 28, 'min_samples_split': 35, 'min_samples_leaf': 9, 'max_leaf_nodes': 23}. Best is trial 288 with value: 0.7845714285714286.\n",
      "[I 2024-02-08 18:46:15,849] Trial 806 finished with value: 0.7314285714285715 and parameters: {'max_depth': 28, 'min_samples_split': 35, 'min_samples_leaf': 9, 'max_leaf_nodes': 11}. Best is trial 288 with value: 0.7845714285714286.\n",
      "[I 2024-02-08 18:46:16,192] Trial 807 finished with value: 0.7805714285714285 and parameters: {'max_depth': 28, 'min_samples_split': 35, 'min_samples_leaf': 9, 'max_leaf_nodes': 23}. Best is trial 288 with value: 0.7845714285714286.\n",
      "[I 2024-02-08 18:46:16,501] Trial 808 finished with value: 0.7771428571428572 and parameters: {'max_depth': 28, 'min_samples_split': 35, 'min_samples_leaf': 9, 'max_leaf_nodes': 21}. Best is trial 288 with value: 0.7845714285714286.\n",
      "[I 2024-02-08 18:46:16,593] Trial 809 finished with value: 0.7805714285714285 and parameters: {'max_depth': 28, 'min_samples_split': 35, 'min_samples_leaf': 9, 'max_leaf_nodes': 23}. Best is trial 288 with value: 0.7845714285714286.\n",
      "[I 2024-02-08 18:46:16,947] Trial 810 finished with value: 0.7771428571428572 and parameters: {'max_depth': 28, 'min_samples_split': 36, 'min_samples_leaf': 9, 'max_leaf_nodes': 21}. Best is trial 288 with value: 0.7845714285714286.\n",
      "[I 2024-02-08 18:46:17,168] Trial 811 finished with value: 0.6257142857142857 and parameters: {'max_depth': 14, 'min_samples_split': 36, 'min_samples_leaf': 9, 'max_leaf_nodes': 4}. Best is trial 288 with value: 0.7845714285714286.\n",
      "[I 2024-02-08 18:46:17,481] Trial 812 finished with value: 0.7845714285714286 and parameters: {'max_depth': 28, 'min_samples_split': 36, 'min_samples_leaf': 9, 'max_leaf_nodes': 25}. Best is trial 288 with value: 0.7845714285714286.\n",
      "[I 2024-02-08 18:46:17,748] Trial 813 finished with value: 0.7771428571428572 and parameters: {'max_depth': 28, 'min_samples_split': 36, 'min_samples_leaf': 9, 'max_leaf_nodes': 21}. Best is trial 288 with value: 0.7845714285714286.\n",
      "[I 2024-02-08 18:46:18,002] Trial 814 finished with value: 0.781142857142857 and parameters: {'max_depth': 28, 'min_samples_split': 36, 'min_samples_leaf': 9, 'max_leaf_nodes': 24}. Best is trial 288 with value: 0.7845714285714286.\n",
      "[I 2024-02-08 18:46:18,298] Trial 815 finished with value: 0.781142857142857 and parameters: {'max_depth': 28, 'min_samples_split': 36, 'min_samples_leaf': 9, 'max_leaf_nodes': 24}. Best is trial 288 with value: 0.7845714285714286.\n",
      "[I 2024-02-08 18:46:18,417] Trial 816 finished with value: 0.781142857142857 and parameters: {'max_depth': 18, 'min_samples_split': 36, 'min_samples_leaf': 9, 'max_leaf_nodes': 24}. Best is trial 288 with value: 0.7845714285714286.\n",
      "[I 2024-02-08 18:46:18,859] Trial 817 finished with value: 0.7811428571428571 and parameters: {'max_depth': 29, 'min_samples_split': 36, 'min_samples_leaf': 8, 'max_leaf_nodes': 25}. Best is trial 288 with value: 0.7845714285714286.\n",
      "[I 2024-02-08 18:46:19,172] Trial 818 finished with value: 0.7794285714285715 and parameters: {'max_depth': 29, 'min_samples_split': 36, 'min_samples_leaf': 8, 'max_leaf_nodes': 27}. Best is trial 288 with value: 0.7845714285714286.\n",
      "[I 2024-02-08 18:46:19,288] Trial 819 finished with value: 0.7811428571428571 and parameters: {'max_depth': 29, 'min_samples_split': 36, 'min_samples_leaf': 8, 'max_leaf_nodes': 25}. Best is trial 288 with value: 0.7845714285714286.\n",
      "[I 2024-02-08 18:46:19,737] Trial 820 finished with value: 0.7817142857142858 and parameters: {'max_depth': 29, 'min_samples_split': 36, 'min_samples_leaf': 7, 'max_leaf_nodes': 25}. Best is trial 288 with value: 0.7845714285714286.\n",
      "[I 2024-02-08 18:46:19,969] Trial 821 finished with value: 0.7828571428571428 and parameters: {'max_depth': 19, 'min_samples_split': 36, 'min_samples_leaf': 7, 'max_leaf_nodes': 24}. Best is trial 288 with value: 0.7845714285714286.\n",
      "[I 2024-02-08 18:46:20,076] Trial 822 finished with value: 0.7811428571428571 and parameters: {'max_depth': 29, 'min_samples_split': 36, 'min_samples_leaf': 8, 'max_leaf_nodes': 25}. Best is trial 288 with value: 0.7845714285714286.\n",
      "[I 2024-02-08 18:46:20,460] Trial 823 finished with value: 0.7811428571428571 and parameters: {'max_depth': 29, 'min_samples_split': 36, 'min_samples_leaf': 8, 'max_leaf_nodes': 25}. Best is trial 288 with value: 0.7845714285714286.\n",
      "[I 2024-02-08 18:46:20,726] Trial 824 finished with value: 0.7811428571428571 and parameters: {'max_depth': 29, 'min_samples_split': 36, 'min_samples_leaf': 8, 'max_leaf_nodes': 25}. Best is trial 288 with value: 0.7845714285714286.\n",
      "[I 2024-02-08 18:46:20,976] Trial 825 finished with value: 0.7828571428571428 and parameters: {'max_depth': 29, 'min_samples_split': 36, 'min_samples_leaf': 7, 'max_leaf_nodes': 24}. Best is trial 288 with value: 0.7845714285714286.\n",
      "[I 2024-02-08 18:46:21,297] Trial 826 finished with value: 0.7817142857142858 and parameters: {'max_depth': 29, 'min_samples_split': 36, 'min_samples_leaf': 7, 'max_leaf_nodes': 25}. Best is trial 288 with value: 0.7845714285714286.\n",
      "[I 2024-02-08 18:46:21,570] Trial 827 finished with value: 0.7817142857142858 and parameters: {'max_depth': 29, 'min_samples_split': 36, 'min_samples_leaf': 7, 'max_leaf_nodes': 25}. Best is trial 288 with value: 0.7845714285714286.\n",
      "[I 2024-02-08 18:46:21,767] Trial 828 finished with value: 0.7714285714285714 and parameters: {'max_depth': 29, 'min_samples_split': 36, 'min_samples_leaf': 7, 'max_leaf_nodes': 17}. Best is trial 288 with value: 0.7845714285714286.\n",
      "[I 2024-02-08 18:46:22,120] Trial 829 finished with value: 0.7794285714285715 and parameters: {'max_depth': 29, 'min_samples_split': 37, 'min_samples_leaf': 8, 'max_leaf_nodes': 27}. Best is trial 288 with value: 0.7845714285714286.\n",
      "[I 2024-02-08 18:46:22,291] Trial 830 finished with value: 0.7714285714285714 and parameters: {'max_depth': 29, 'min_samples_split': 37, 'min_samples_leaf': 7, 'max_leaf_nodes': 17}. Best is trial 288 with value: 0.7845714285714286.\n",
      "[I 2024-02-08 18:46:22,649] Trial 831 finished with value: 0.7817142857142858 and parameters: {'max_depth': 29, 'min_samples_split': 37, 'min_samples_leaf': 7, 'max_leaf_nodes': 25}. Best is trial 288 with value: 0.7845714285714286.\n",
      "[I 2024-02-08 18:46:22,802] Trial 832 finished with value: 0.7811428571428571 and parameters: {'max_depth': 29, 'min_samples_split': 37, 'min_samples_leaf': 8, 'max_leaf_nodes': 25}. Best is trial 288 with value: 0.7845714285714286.\n",
      "[I 2024-02-08 18:46:23,152] Trial 833 finished with value: 0.7811428571428571 and parameters: {'max_depth': 29, 'min_samples_split': 37, 'min_samples_leaf': 8, 'max_leaf_nodes': 25}. Best is trial 288 with value: 0.7845714285714286.\n",
      "[I 2024-02-08 18:46:23,243] Trial 834 finished with value: 0.78 and parameters: {'max_depth': 30, 'min_samples_split': 37, 'min_samples_leaf': 10, 'max_leaf_nodes': 25}. Best is trial 288 with value: 0.7845714285714286.\n",
      "[I 2024-02-08 18:46:23,586] Trial 835 finished with value: 0.78 and parameters: {'max_depth': 30, 'min_samples_split': 37, 'min_samples_leaf': 10, 'max_leaf_nodes': 27}. Best is trial 288 with value: 0.7845714285714286.\n",
      "[I 2024-02-08 18:46:23,819] Trial 836 finished with value: 0.78 and parameters: {'max_depth': 30, 'min_samples_split': 37, 'min_samples_leaf': 10, 'max_leaf_nodes': 25}. Best is trial 288 with value: 0.7845714285714286.\n",
      "[I 2024-02-08 18:46:24,107] Trial 837 finished with value: 0.7794285714285714 and parameters: {'max_depth': 30, 'min_samples_split': 37, 'min_samples_leaf': 10, 'max_leaf_nodes': 27}. Best is trial 288 with value: 0.7845714285714286.\n",
      "[I 2024-02-08 18:46:24,234] Trial 838 finished with value: 0.78 and parameters: {'max_depth': 30, 'min_samples_split': 34, 'min_samples_leaf': 10, 'max_leaf_nodes': 24}. Best is trial 288 with value: 0.7845714285714286.\n",
      "[I 2024-02-08 18:46:24,608] Trial 839 finished with value: 0.7805714285714285 and parameters: {'max_depth': 30, 'min_samples_split': 37, 'min_samples_leaf': 10, 'max_leaf_nodes': 24}. Best is trial 288 with value: 0.7845714285714286.\n",
      "[I 2024-02-08 18:46:24,736] Trial 840 finished with value: 0.7788571428571428 and parameters: {'max_depth': 30, 'min_samples_split': 34, 'min_samples_leaf': 10, 'max_leaf_nodes': 27}. Best is trial 288 with value: 0.7845714285714286.\n",
      "[I 2024-02-08 18:46:25,104] Trial 841 finished with value: 0.7794285714285715 and parameters: {'max_depth': 30, 'min_samples_split': 34, 'min_samples_leaf': 10, 'max_leaf_nodes': 25}. Best is trial 288 with value: 0.7845714285714286.\n",
      "[I 2024-02-08 18:46:25,461] Trial 842 finished with value: 0.7805714285714285 and parameters: {'max_depth': 30, 'min_samples_split': 34, 'min_samples_leaf': 10, 'max_leaf_nodes': 24}. Best is trial 288 with value: 0.7845714285714286.\n",
      "[I 2024-02-08 18:46:25,682] Trial 843 finished with value: 0.7805714285714285 and parameters: {'max_depth': 30, 'min_samples_split': 34, 'min_samples_leaf': 10, 'max_leaf_nodes': 24}. Best is trial 288 with value: 0.7845714285714286.\n",
      "[I 2024-02-08 18:46:25,866] Trial 844 finished with value: 0.78 and parameters: {'max_depth': 30, 'min_samples_split': 34, 'min_samples_leaf': 10, 'max_leaf_nodes': 24}. Best is trial 288 with value: 0.7845714285714286.\n",
      "[I 2024-02-08 18:46:26,016] Trial 845 finished with value: 0.7645714285714285 and parameters: {'max_depth': 30, 'min_samples_split': 37, 'min_samples_leaf': 19, 'max_leaf_nodes': 24}. Best is trial 288 with value: 0.7845714285714286.\n",
      "[I 2024-02-08 18:46:26,403] Trial 846 finished with value: 0.78 and parameters: {'max_depth': 27, 'min_samples_split': 34, 'min_samples_leaf': 10, 'max_leaf_nodes': 24}. Best is trial 288 with value: 0.7845714285714286.\n",
      "[I 2024-02-08 18:46:26,653] Trial 847 finished with value: 0.7805714285714285 and parameters: {'max_depth': 27, 'min_samples_split': 34, 'min_samples_leaf': 9, 'max_leaf_nodes': 24}. Best is trial 288 with value: 0.7845714285714286.\n",
      "[I 2024-02-08 18:46:26,934] Trial 848 finished with value: 0.781142857142857 and parameters: {'max_depth': 27, 'min_samples_split': 35, 'min_samples_leaf': 9, 'max_leaf_nodes': 24}. Best is trial 288 with value: 0.7845714285714286.\n",
      "[I 2024-02-08 18:46:27,185] Trial 849 finished with value: 0.7805714285714285 and parameters: {'max_depth': 27, 'min_samples_split': 34, 'min_samples_leaf': 9, 'max_leaf_nodes': 24}. Best is trial 288 with value: 0.7845714285714286.\n",
      "[I 2024-02-08 18:46:27,244] Trial 850 finished with value: 0.7622857142857143 and parameters: {'max_depth': 6, 'min_samples_split': 34, 'min_samples_leaf': 9, 'max_leaf_nodes': 24}. Best is trial 288 with value: 0.7845714285714286.\n",
      "[I 2024-02-08 18:46:27,588] Trial 851 finished with value: 0.7731428571428571 and parameters: {'max_depth': 8, 'min_samples_split': 34, 'min_samples_leaf': 11, 'max_leaf_nodes': 24}. Best is trial 288 with value: 0.7845714285714286.\n",
      "[I 2024-02-08 18:46:27,867] Trial 852 finished with value: 0.7805714285714285 and parameters: {'max_depth': 27, 'min_samples_split': 34, 'min_samples_leaf': 9, 'max_leaf_nodes': 24}. Best is trial 288 with value: 0.7845714285714286.\n",
      "[I 2024-02-08 18:46:28,124] Trial 853 finished with value: 0.7748571428571427 and parameters: {'max_depth': 27, 'min_samples_split': 35, 'min_samples_leaf': 11, 'max_leaf_nodes': 24}. Best is trial 288 with value: 0.7845714285714286.\n",
      "[I 2024-02-08 18:46:28,413] Trial 854 finished with value: 0.781142857142857 and parameters: {'max_depth': 27, 'min_samples_split': 35, 'min_samples_leaf': 9, 'max_leaf_nodes': 24}. Best is trial 288 with value: 0.7845714285714286.\n",
      "[I 2024-02-08 18:46:28,666] Trial 855 finished with value: 0.776 and parameters: {'max_depth': 8, 'min_samples_split': 35, 'min_samples_leaf': 9, 'max_leaf_nodes': 26}. Best is trial 288 with value: 0.7845714285714286.\n",
      "[I 2024-02-08 18:46:28,872] Trial 856 finished with value: 0.7811428571428571 and parameters: {'max_depth': 27, 'min_samples_split': 35, 'min_samples_leaf': 9, 'max_leaf_nodes': 26}. Best is trial 288 with value: 0.7845714285714286.\n",
      "[I 2024-02-08 18:46:29,080] Trial 857 finished with value: 0.7811428571428571 and parameters: {'max_depth': 27, 'min_samples_split': 35, 'min_samples_leaf': 9, 'max_leaf_nodes': 26}. Best is trial 288 with value: 0.7845714285714286.\n",
      "[I 2024-02-08 18:46:29,368] Trial 858 finished with value: 0.776 and parameters: {'max_depth': 27, 'min_samples_split': 35, 'min_samples_leaf': 11, 'max_leaf_nodes': 26}. Best is trial 288 with value: 0.7845714285714286.\n",
      "[I 2024-02-08 18:46:29,657] Trial 859 finished with value: 0.7811428571428571 and parameters: {'max_depth': 27, 'min_samples_split': 35, 'min_samples_leaf': 9, 'max_leaf_nodes': 26}. Best is trial 288 with value: 0.7845714285714286.\n",
      "[I 2024-02-08 18:46:29,930] Trial 860 finished with value: 0.7708571428571429 and parameters: {'max_depth': 8, 'min_samples_split': 35, 'min_samples_leaf': 11, 'max_leaf_nodes': 26}. Best is trial 288 with value: 0.7845714285714286.\n",
      "[I 2024-02-08 18:46:30,097] Trial 861 finished with value: 0.7811428571428571 and parameters: {'max_depth': 28, 'min_samples_split': 35, 'min_samples_leaf': 9, 'max_leaf_nodes': 26}. Best is trial 288 with value: 0.7845714285714286.\n",
      "[I 2024-02-08 18:46:30,343] Trial 862 finished with value: 0.7811428571428571 and parameters: {'max_depth': 28, 'min_samples_split': 35, 'min_samples_leaf': 9, 'max_leaf_nodes': 26}. Best is trial 288 with value: 0.7845714285714286.\n",
      "[I 2024-02-08 18:46:30,617] Trial 863 finished with value: 0.7811428571428571 and parameters: {'max_depth': 28, 'min_samples_split': 35, 'min_samples_leaf': 9, 'max_leaf_nodes': 26}. Best is trial 288 with value: 0.7845714285714286.\n",
      "[I 2024-02-08 18:46:30,875] Trial 864 finished with value: 0.7822857142857143 and parameters: {'max_depth': 28, 'min_samples_split': 29, 'min_samples_leaf': 9, 'max_leaf_nodes': 26}. Best is trial 288 with value: 0.7845714285714286.\n",
      "[I 2024-02-08 18:46:31,062] Trial 865 finished with value: 0.7822857142857143 and parameters: {'max_depth': 28, 'min_samples_split': 36, 'min_samples_leaf': 9, 'max_leaf_nodes': 26}. Best is trial 288 with value: 0.7845714285714286.\n",
      "[I 2024-02-08 18:46:31,457] Trial 866 finished with value: 0.7822857142857143 and parameters: {'max_depth': 28, 'min_samples_split': 36, 'min_samples_leaf': 9, 'max_leaf_nodes': 26}. Best is trial 288 with value: 0.7845714285714286.\n",
      "[I 2024-02-08 18:46:31,709] Trial 867 finished with value: 0.7845714285714286 and parameters: {'max_depth': 28, 'min_samples_split': 36, 'min_samples_leaf': 9, 'max_leaf_nodes': 25}. Best is trial 288 with value: 0.7845714285714286.\n",
      "[I 2024-02-08 18:46:31,796] Trial 868 finished with value: 0.7811428571428571 and parameters: {'max_depth': 28, 'min_samples_split': 37, 'min_samples_leaf': 8, 'max_leaf_nodes': 25}. Best is trial 288 with value: 0.7845714285714286.\n",
      "[I 2024-02-08 18:46:32,121] Trial 869 finished with value: 0.7731428571428571 and parameters: {'max_depth': 28, 'min_samples_split': 36, 'min_samples_leaf': 13, 'max_leaf_nodes': 25}. Best is trial 288 with value: 0.7845714285714286.\n",
      "[I 2024-02-08 18:46:32,414] Trial 870 finished with value: 0.7811428571428571 and parameters: {'max_depth': 28, 'min_samples_split': 36, 'min_samples_leaf': 8, 'max_leaf_nodes': 25}. Best is trial 288 with value: 0.7845714285714286.\n",
      "[I 2024-02-08 18:46:32,686] Trial 871 finished with value: 0.7811428571428571 and parameters: {'max_depth': 28, 'min_samples_split': 36, 'min_samples_leaf': 8, 'max_leaf_nodes': 25}. Best is trial 288 with value: 0.7845714285714286.\n",
      "[I 2024-02-08 18:46:32,942] Trial 872 finished with value: 0.7811428571428571 and parameters: {'max_depth': 28, 'min_samples_split': 36, 'min_samples_leaf': 8, 'max_leaf_nodes': 25}. Best is trial 288 with value: 0.7845714285714286.\n",
      "[I 2024-02-08 18:46:33,176] Trial 873 finished with value: 0.7811428571428571 and parameters: {'max_depth': 28, 'min_samples_split': 37, 'min_samples_leaf': 8, 'max_leaf_nodes': 25}. Best is trial 288 with value: 0.7845714285714286.\n",
      "[I 2024-02-08 18:46:33,410] Trial 874 finished with value: 0.7811428571428571 and parameters: {'max_depth': 27, 'min_samples_split': 37, 'min_samples_leaf': 8, 'max_leaf_nodes': 25}. Best is trial 288 with value: 0.7845714285714286.\n",
      "[I 2024-02-08 18:46:33,620] Trial 875 finished with value: 0.721142857142857 and parameters: {'max_depth': 28, 'min_samples_split': 37, 'min_samples_leaf': 8, 'max_leaf_nodes': 7}. Best is trial 288 with value: 0.7845714285714286.\n",
      "[I 2024-02-08 18:46:33,733] Trial 876 finished with value: 0.7811428571428571 and parameters: {'max_depth': 28, 'min_samples_split': 36, 'min_samples_leaf': 8, 'max_leaf_nodes': 25}. Best is trial 288 with value: 0.7845714285714286.\n",
      "[I 2024-02-08 18:46:34,128] Trial 877 finished with value: 0.7811428571428571 and parameters: {'max_depth': 28, 'min_samples_split': 37, 'min_samples_leaf': 8, 'max_leaf_nodes': 25}. Best is trial 288 with value: 0.7845714285714286.\n",
      "[I 2024-02-08 18:46:34,377] Trial 878 finished with value: 0.7811428571428571 and parameters: {'max_depth': 28, 'min_samples_split': 37, 'min_samples_leaf': 8, 'max_leaf_nodes': 25}. Best is trial 288 with value: 0.7845714285714286.\n",
      "[I 2024-02-08 18:46:34,653] Trial 879 finished with value: 0.7811428571428571 and parameters: {'max_depth': 28, 'min_samples_split': 36, 'min_samples_leaf': 8, 'max_leaf_nodes': 25}. Best is trial 288 with value: 0.7845714285714286.\n",
      "[I 2024-02-08 18:46:34,881] Trial 880 finished with value: 0.7811428571428571 and parameters: {'max_depth': 28, 'min_samples_split': 36, 'min_samples_leaf': 8, 'max_leaf_nodes': 25}. Best is trial 288 with value: 0.7845714285714286.\n",
      "[I 2024-02-08 18:46:35,113] Trial 881 finished with value: 0.7811428571428571 and parameters: {'max_depth': 28, 'min_samples_split': 36, 'min_samples_leaf': 8, 'max_leaf_nodes': 25}. Best is trial 288 with value: 0.7845714285714286.\n",
      "[I 2024-02-08 18:46:35,426] Trial 882 finished with value: 0.7811428571428571 and parameters: {'max_depth': 28, 'min_samples_split': 37, 'min_samples_leaf': 8, 'max_leaf_nodes': 25}. Best is trial 288 with value: 0.7845714285714286.\n",
      "[I 2024-02-08 18:46:35,586] Trial 883 finished with value: 0.7811428571428571 and parameters: {'max_depth': 28, 'min_samples_split': 37, 'min_samples_leaf': 8, 'max_leaf_nodes': 25}. Best is trial 288 with value: 0.7845714285714286.\n",
      "[I 2024-02-08 18:46:35,906] Trial 884 finished with value: 0.7845714285714286 and parameters: {'max_depth': 29, 'min_samples_split': 37, 'min_samples_leaf': 9, 'max_leaf_nodes': 25}. Best is trial 288 with value: 0.7845714285714286.\n",
      "[I 2024-02-08 18:46:36,028] Trial 885 finished with value: 0.7845714285714286 and parameters: {'max_depth': 29, 'min_samples_split': 37, 'min_samples_leaf': 9, 'max_leaf_nodes': 25}. Best is trial 288 with value: 0.7845714285714286.\n",
      "[I 2024-02-08 18:46:36,437] Trial 886 finished with value: 0.7845714285714286 and parameters: {'max_depth': 29, 'min_samples_split': 37, 'min_samples_leaf': 9, 'max_leaf_nodes': 25}. Best is trial 288 with value: 0.7845714285714286.\n",
      "[I 2024-02-08 18:46:36,654] Trial 887 finished with value: 0.7845714285714286 and parameters: {'max_depth': 29, 'min_samples_split': 36, 'min_samples_leaf': 9, 'max_leaf_nodes': 25}. Best is trial 288 with value: 0.7845714285714286.\n",
      "[I 2024-02-08 18:46:36,884] Trial 888 finished with value: 0.7845714285714286 and parameters: {'max_depth': 29, 'min_samples_split': 37, 'min_samples_leaf': 9, 'max_leaf_nodes': 25}. Best is trial 288 with value: 0.7845714285714286.\n",
      "[I 2024-02-08 18:46:37,164] Trial 889 finished with value: 0.7845714285714286 and parameters: {'max_depth': 29, 'min_samples_split': 36, 'min_samples_leaf': 9, 'max_leaf_nodes': 25}. Best is trial 288 with value: 0.7845714285714286.\n",
      "[I 2024-02-08 18:46:37,275] Trial 890 finished with value: 0.7845714285714286 and parameters: {'max_depth': 29, 'min_samples_split': 36, 'min_samples_leaf': 9, 'max_leaf_nodes': 25}. Best is trial 288 with value: 0.7845714285714286.\n",
      "[I 2024-02-08 18:46:37,628] Trial 891 finished with value: 0.7845714285714286 and parameters: {'max_depth': 29, 'min_samples_split': 36, 'min_samples_leaf': 9, 'max_leaf_nodes': 25}. Best is trial 288 with value: 0.7845714285714286.\n",
      "[I 2024-02-08 18:46:37,884] Trial 892 finished with value: 0.7805714285714285 and parameters: {'max_depth': 29, 'min_samples_split': 36, 'min_samples_leaf': 9, 'max_leaf_nodes': 23}. Best is trial 288 with value: 0.7845714285714286.\n",
      "[I 2024-02-08 18:46:38,053] Trial 893 finished with value: 0.7805714285714285 and parameters: {'max_depth': 29, 'min_samples_split': 37, 'min_samples_leaf': 9, 'max_leaf_nodes': 23}. Best is trial 288 with value: 0.7845714285714286.\n",
      "[I 2024-02-08 18:46:38,442] Trial 894 finished with value: 0.78 and parameters: {'max_depth': 29, 'min_samples_split': 12, 'min_samples_leaf': 9, 'max_leaf_nodes': 23}. Best is trial 288 with value: 0.7845714285714286.\n",
      "[I 2024-02-08 18:46:38,674] Trial 895 finished with value: 0.7805714285714285 and parameters: {'max_depth': 29, 'min_samples_split': 36, 'min_samples_leaf': 9, 'max_leaf_nodes': 23}. Best is trial 288 with value: 0.7845714285714286.\n",
      "[I 2024-02-08 18:46:38,761] Trial 896 finished with value: 0.78 and parameters: {'max_depth': 29, 'min_samples_split': 32, 'min_samples_leaf': 9, 'max_leaf_nodes': 23}. Best is trial 288 with value: 0.7845714285714286.\n",
      "[I 2024-02-08 18:46:39,116] Trial 897 finished with value: 0.78 and parameters: {'max_depth': 29, 'min_samples_split': 25, 'min_samples_leaf': 9, 'max_leaf_nodes': 23}. Best is trial 288 with value: 0.7845714285714286.\n",
      "[I 2024-02-08 18:46:39,416] Trial 898 finished with value: 0.7805714285714285 and parameters: {'max_depth': 29, 'min_samples_split': 36, 'min_samples_leaf': 9, 'max_leaf_nodes': 23}. Best is trial 288 with value: 0.7845714285714286.\n",
      "[I 2024-02-08 18:46:39,653] Trial 899 finished with value: 0.7805714285714285 and parameters: {'max_depth': 29, 'min_samples_split': 36, 'min_samples_leaf': 9, 'max_leaf_nodes': 23}. Best is trial 288 with value: 0.7845714285714286.\n",
      "[I 2024-02-08 18:46:39,884] Trial 900 finished with value: 0.78 and parameters: {'max_depth': 29, 'min_samples_split': 16, 'min_samples_leaf': 9, 'max_leaf_nodes': 23}. Best is trial 288 with value: 0.7845714285714286.\n",
      "[I 2024-02-08 18:46:40,168] Trial 901 finished with value: 0.78 and parameters: {'max_depth': 29, 'min_samples_split': 32, 'min_samples_leaf': 9, 'max_leaf_nodes': 23}. Best is trial 288 with value: 0.7845714285714286.\n",
      "[I 2024-02-08 18:46:40,364] Trial 902 finished with value: 0.7782857142857142 and parameters: {'max_depth': 29, 'min_samples_split': 11, 'min_samples_leaf': 10, 'max_leaf_nodes': 23}. Best is trial 288 with value: 0.7845714285714286.\n",
      "[I 2024-02-08 18:46:40,619] Trial 903 finished with value: 0.7805714285714285 and parameters: {'max_depth': 29, 'min_samples_split': 35, 'min_samples_leaf': 9, 'max_leaf_nodes': 23}. Best is trial 288 with value: 0.7845714285714286.\n",
      "[I 2024-02-08 18:46:40,865] Trial 904 finished with value: 0.7788571428571428 and parameters: {'max_depth': 29, 'min_samples_split': 35, 'min_samples_leaf': 10, 'max_leaf_nodes': 27}. Best is trial 288 with value: 0.7845714285714286.\n",
      "[I 2024-02-08 18:46:41,106] Trial 905 finished with value: 0.7805714285714285 and parameters: {'max_depth': 29, 'min_samples_split': 35, 'min_samples_leaf': 10, 'max_leaf_nodes': 24}. Best is trial 288 with value: 0.7845714285714286.\n",
      "[I 2024-02-08 18:46:41,332] Trial 906 finished with value: 0.7788571428571428 and parameters: {'max_depth': 29, 'min_samples_split': 35, 'min_samples_leaf': 10, 'max_leaf_nodes': 27}. Best is trial 288 with value: 0.7845714285714286.\n",
      "[I 2024-02-08 18:46:41,673] Trial 907 finished with value: 0.7788571428571428 and parameters: {'max_depth': 29, 'min_samples_split': 35, 'min_samples_leaf': 10, 'max_leaf_nodes': 27}. Best is trial 288 with value: 0.7845714285714286.\n",
      "[I 2024-02-08 18:46:41,771] Trial 908 finished with value: 0.7788571428571428 and parameters: {'max_depth': 29, 'min_samples_split': 35, 'min_samples_leaf': 10, 'max_leaf_nodes': 27}. Best is trial 288 with value: 0.7845714285714286.\n",
      "[I 2024-02-08 18:46:42,069] Trial 909 finished with value: 0.781142857142857 and parameters: {'max_depth': 30, 'min_samples_split': 35, 'min_samples_leaf': 10, 'max_leaf_nodes': 24}. Best is trial 288 with value: 0.7845714285714286.\n",
      "[I 2024-02-08 18:46:42,299] Trial 910 finished with value: 0.7788571428571428 and parameters: {'max_depth': 30, 'min_samples_split': 35, 'min_samples_leaf': 10, 'max_leaf_nodes': 27}. Best is trial 288 with value: 0.7845714285714286.\n",
      "[I 2024-02-08 18:46:42,675] Trial 911 finished with value: 0.7788571428571428 and parameters: {'max_depth': 30, 'min_samples_split': 35, 'min_samples_leaf': 10, 'max_leaf_nodes': 27}. Best is trial 288 with value: 0.7845714285714286.\n",
      "[I 2024-02-08 18:46:42,933] Trial 912 finished with value: 0.7788571428571428 and parameters: {'max_depth': 30, 'min_samples_split': 35, 'min_samples_leaf': 10, 'max_leaf_nodes': 27}. Best is trial 288 with value: 0.7845714285714286.\n",
      "[I 2024-02-08 18:46:43,157] Trial 913 finished with value: 0.7805714285714285 and parameters: {'max_depth': 30, 'min_samples_split': 35, 'min_samples_leaf': 10, 'max_leaf_nodes': 24}. Best is trial 288 with value: 0.7845714285714286.\n",
      "[I 2024-02-08 18:46:43,431] Trial 914 finished with value: 0.7788571428571428 and parameters: {'max_depth': 29, 'min_samples_split': 35, 'min_samples_leaf': 10, 'max_leaf_nodes': 27}. Best is trial 288 with value: 0.7845714285714286.\n",
      "[I 2024-02-08 18:46:43,724] Trial 915 finished with value: 0.78 and parameters: {'max_depth': 30, 'min_samples_split': 35, 'min_samples_leaf': 10, 'max_leaf_nodes': 26}. Best is trial 288 with value: 0.7845714285714286.\n",
      "[I 2024-02-08 18:46:43,995] Trial 916 finished with value: 0.7794285714285714 and parameters: {'max_depth': 30, 'min_samples_split': 35, 'min_samples_leaf': 10, 'max_leaf_nodes': 27}. Best is trial 288 with value: 0.7845714285714286.\n",
      "[I 2024-02-08 18:46:44,075] Trial 917 finished with value: 0.7794285714285715 and parameters: {'max_depth': 30, 'min_samples_split': 35, 'min_samples_leaf': 10, 'max_leaf_nodes': 26}. Best is trial 288 with value: 0.7845714285714286.\n",
      "[I 2024-02-08 18:46:44,438] Trial 918 finished with value: 0.7794285714285715 and parameters: {'max_depth': 30, 'min_samples_split': 35, 'min_samples_leaf': 10, 'max_leaf_nodes': 26}. Best is trial 288 with value: 0.7845714285714286.\n",
      "[I 2024-02-08 18:46:44,700] Trial 919 finished with value: 0.7805714285714286 and parameters: {'max_depth': 30, 'min_samples_split': 37, 'min_samples_leaf': 10, 'max_leaf_nodes': 26}. Best is trial 288 with value: 0.7845714285714286.\n",
      "[I 2024-02-08 18:46:44,895] Trial 920 finished with value: 0.7811428571428571 and parameters: {'max_depth': 30, 'min_samples_split': 23, 'min_samples_leaf': 9, 'max_leaf_nodes': 26}. Best is trial 288 with value: 0.7845714285714286.\n",
      "[I 2024-02-08 18:46:45,251] Trial 921 finished with value: 0.7822857142857143 and parameters: {'max_depth': 30, 'min_samples_split': 37, 'min_samples_leaf': 9, 'max_leaf_nodes': 26}. Best is trial 288 with value: 0.7845714285714286.\n",
      "[I 2024-02-08 18:46:45,534] Trial 922 finished with value: 0.7822857142857143 and parameters: {'max_depth': 30, 'min_samples_split': 37, 'min_samples_leaf': 9, 'max_leaf_nodes': 26}. Best is trial 288 with value: 0.7845714285714286.\n",
      "[I 2024-02-08 18:46:45,747] Trial 923 finished with value: 0.7822857142857143 and parameters: {'max_depth': 28, 'min_samples_split': 37, 'min_samples_leaf': 9, 'max_leaf_nodes': 26}. Best is trial 288 with value: 0.7845714285714286.\n",
      "[I 2024-02-08 18:46:46,037] Trial 924 finished with value: 0.7822857142857143 and parameters: {'max_depth': 28, 'min_samples_split': 37, 'min_samples_leaf': 9, 'max_leaf_nodes': 26}. Best is trial 288 with value: 0.7845714285714286.\n",
      "[I 2024-02-08 18:46:46,300] Trial 925 finished with value: 0.7822857142857143 and parameters: {'max_depth': 12, 'min_samples_split': 37, 'min_samples_leaf': 9, 'max_leaf_nodes': 26}. Best is trial 288 with value: 0.7845714285714286.\n",
      "[I 2024-02-08 18:46:46,573] Trial 926 finished with value: 0.7822857142857143 and parameters: {'max_depth': 28, 'min_samples_split': 37, 'min_samples_leaf': 9, 'max_leaf_nodes': 26}. Best is trial 288 with value: 0.7845714285714286.\n",
      "[I 2024-02-08 18:46:46,697] Trial 927 finished with value: 0.7822857142857143 and parameters: {'max_depth': 28, 'min_samples_split': 37, 'min_samples_leaf': 9, 'max_leaf_nodes': 26}. Best is trial 288 with value: 0.7845714285714286.\n",
      "[I 2024-02-08 18:46:47,029] Trial 928 finished with value: 0.7822857142857143 and parameters: {'max_depth': 28, 'min_samples_split': 37, 'min_samples_leaf': 9, 'max_leaf_nodes': 26}. Best is trial 288 with value: 0.7845714285714286.\n",
      "[I 2024-02-08 18:46:47,290] Trial 929 finished with value: 0.7822857142857143 and parameters: {'max_depth': 28, 'min_samples_split': 37, 'min_samples_leaf': 9, 'max_leaf_nodes': 26}. Best is trial 288 with value: 0.7845714285714286.\n",
      "[I 2024-02-08 18:46:47,591] Trial 930 finished with value: 0.7845714285714286 and parameters: {'max_depth': 28, 'min_samples_split': 37, 'min_samples_leaf': 9, 'max_leaf_nodes': 25}. Best is trial 288 with value: 0.7845714285714286.\n",
      "[I 2024-02-08 18:46:47,840] Trial 931 finished with value: 0.7782857142857142 and parameters: {'max_depth': 28, 'min_samples_split': 37, 'min_samples_leaf': 5, 'max_leaf_nodes': 25}. Best is trial 288 with value: 0.7845714285714286.\n",
      "[I 2024-02-08 18:46:48,094] Trial 932 finished with value: 0.7845714285714286 and parameters: {'max_depth': 28, 'min_samples_split': 37, 'min_samples_leaf': 9, 'max_leaf_nodes': 25}. Best is trial 288 with value: 0.7845714285714286.\n",
      "[I 2024-02-08 18:46:48,325] Trial 933 finished with value: 0.7845714285714286 and parameters: {'max_depth': 28, 'min_samples_split': 37, 'min_samples_leaf': 9, 'max_leaf_nodes': 25}. Best is trial 288 with value: 0.7845714285714286.\n",
      "[I 2024-02-08 18:46:48,602] Trial 934 finished with value: 0.7845714285714286 and parameters: {'max_depth': 28, 'min_samples_split': 36, 'min_samples_leaf': 9, 'max_leaf_nodes': 25}. Best is trial 288 with value: 0.7845714285714286.\n",
      "[I 2024-02-08 18:46:48,722] Trial 935 finished with value: 0.7805714285714285 and parameters: {'max_depth': 28, 'min_samples_split': 33, 'min_samples_leaf': 9, 'max_leaf_nodes': 24}. Best is trial 288 with value: 0.7845714285714286.\n",
      "[I 2024-02-08 18:46:49,083] Trial 936 finished with value: 0.7834285714285714 and parameters: {'max_depth': 28, 'min_samples_split': 33, 'min_samples_leaf': 9, 'max_leaf_nodes': 25}. Best is trial 288 with value: 0.7845714285714286.\n",
      "[I 2024-02-08 18:46:49,338] Trial 937 finished with value: 0.7845714285714286 and parameters: {'max_depth': 28, 'min_samples_split': 36, 'min_samples_leaf': 9, 'max_leaf_nodes': 25}. Best is trial 288 with value: 0.7845714285714286.\n",
      "[I 2024-02-08 18:46:49,573] Trial 938 finished with value: 0.78 and parameters: {'max_depth': 28, 'min_samples_split': 33, 'min_samples_leaf': 8, 'max_leaf_nodes': 25}. Best is trial 288 with value: 0.7845714285714286.\n",
      "[I 2024-02-08 18:46:49,893] Trial 939 finished with value: 0.78 and parameters: {'max_depth': 28, 'min_samples_split': 33, 'min_samples_leaf': 8, 'max_leaf_nodes': 25}. Best is trial 288 with value: 0.7845714285714286.\n",
      "[I 2024-02-08 18:46:50,089] Trial 940 finished with value: 0.7754285714285715 and parameters: {'max_depth': 7, 'min_samples_split': 36, 'min_samples_leaf': 8, 'max_leaf_nodes': 25}. Best is trial 288 with value: 0.7845714285714286.\n",
      "[I 2024-02-08 18:46:50,276] Trial 942 finished with value: 0.704 and parameters: {'max_depth': 3, 'min_samples_split': 36, 'min_samples_leaf': 8, 'max_leaf_nodes': 24}. Best is trial 288 with value: 0.7845714285714286.\n",
      "[I 2024-02-08 18:46:50,329] Trial 941 finished with value: 0.7811428571428571 and parameters: {'max_depth': 28, 'min_samples_split': 36, 'min_samples_leaf': 8, 'max_leaf_nodes': 25}. Best is trial 288 with value: 0.7845714285714286.\n",
      "[I 2024-02-08 18:46:50,728] Trial 943 finished with value: 0.7834285714285715 and parameters: {'max_depth': 27, 'min_samples_split': 36, 'min_samples_leaf': 8, 'max_leaf_nodes': 24}. Best is trial 288 with value: 0.7845714285714286.\n",
      "[I 2024-02-08 18:46:50,939] Trial 944 finished with value: 0.7828571428571428 and parameters: {'max_depth': 27, 'min_samples_split': 33, 'min_samples_leaf': 8, 'max_leaf_nodes': 24}. Best is trial 288 with value: 0.7845714285714286.\n",
      "[I 2024-02-08 18:46:51,234] Trial 945 finished with value: 0.7834285714285715 and parameters: {'max_depth': 27, 'min_samples_split': 36, 'min_samples_leaf': 8, 'max_leaf_nodes': 24}. Best is trial 288 with value: 0.7845714285714286.\n",
      "[I 2024-02-08 18:46:51,529] Trial 946 finished with value: 0.7834285714285715 and parameters: {'max_depth': 27, 'min_samples_split': 36, 'min_samples_leaf': 8, 'max_leaf_nodes': 24}. Best is trial 288 with value: 0.7845714285714286.\n",
      "[I 2024-02-08 18:46:51,704] Trial 947 finished with value: 0.7314285714285715 and parameters: {'max_depth': 27, 'min_samples_split': 36, 'min_samples_leaf': 8, 'max_leaf_nodes': 11}. Best is trial 288 with value: 0.7845714285714286.\n",
      "[I 2024-02-08 18:46:51,773] Trial 948 finished with value: 0.7834285714285715 and parameters: {'max_depth': 21, 'min_samples_split': 36, 'min_samples_leaf': 8, 'max_leaf_nodes': 24}. Best is trial 288 with value: 0.7845714285714286.\n",
      "[I 2024-02-08 18:46:52,182] Trial 949 finished with value: 0.7834285714285715 and parameters: {'max_depth': 27, 'min_samples_split': 36, 'min_samples_leaf': 8, 'max_leaf_nodes': 24}. Best is trial 288 with value: 0.7845714285714286.\n",
      "[I 2024-02-08 18:46:52,264] Trial 950 finished with value: 0.7314285714285715 and parameters: {'max_depth': 27, 'min_samples_split': 36, 'min_samples_leaf': 8, 'max_leaf_nodes': 11}. Best is trial 288 with value: 0.7845714285714286.\n",
      "[I 2024-02-08 18:46:52,646] Trial 951 finished with value: 0.7834285714285715 and parameters: {'max_depth': 27, 'min_samples_split': 36, 'min_samples_leaf': 8, 'max_leaf_nodes': 24}. Best is trial 288 with value: 0.7845714285714286.\n",
      "[I 2024-02-08 18:46:52,929] Trial 952 finished with value: 0.7834285714285715 and parameters: {'max_depth': 27, 'min_samples_split': 36, 'min_samples_leaf': 8, 'max_leaf_nodes': 24}. Best is trial 288 with value: 0.7845714285714286.\n",
      "[I 2024-02-08 18:46:53,144] Trial 953 finished with value: 0.7828571428571428 and parameters: {'max_depth': 27, 'min_samples_split': 34, 'min_samples_leaf': 8, 'max_leaf_nodes': 24}. Best is trial 288 with value: 0.7845714285714286.\n",
      "[I 2024-02-08 18:46:53,369] Trial 954 finished with value: 0.781142857142857 and parameters: {'max_depth': 27, 'min_samples_split': 36, 'min_samples_leaf': 9, 'max_leaf_nodes': 24}. Best is trial 288 with value: 0.7845714285714286.\n",
      "[I 2024-02-08 18:46:53,656] Trial 955 finished with value: 0.7805714285714285 and parameters: {'max_depth': 27, 'min_samples_split': 34, 'min_samples_leaf': 9, 'max_leaf_nodes': 24}. Best is trial 288 with value: 0.7845714285714286.\n",
      "[I 2024-02-08 18:46:53,784] Trial 956 finished with value: 0.7805714285714285 and parameters: {'max_depth': 27, 'min_samples_split': 34, 'min_samples_leaf': 9, 'max_leaf_nodes': 24}. Best is trial 288 with value: 0.7845714285714286.\n",
      "[I 2024-02-08 18:46:54,152] Trial 957 finished with value: 0.7805714285714285 and parameters: {'max_depth': 29, 'min_samples_split': 34, 'min_samples_leaf': 9, 'max_leaf_nodes': 24}. Best is trial 288 with value: 0.7845714285714286.\n",
      "[I 2024-02-08 18:46:54,290] Trial 958 finished with value: 0.7805714285714285 and parameters: {'max_depth': 29, 'min_samples_split': 34, 'min_samples_leaf': 9, 'max_leaf_nodes': 24}. Best is trial 288 with value: 0.7845714285714286.\n",
      "[I 2024-02-08 18:46:54,649] Trial 959 finished with value: 0.7805714285714285 and parameters: {'max_depth': 29, 'min_samples_split': 34, 'min_samples_leaf': 9, 'max_leaf_nodes': 24}. Best is trial 288 with value: 0.7845714285714286.\n",
      "[I 2024-02-08 18:46:54,770] Trial 960 finished with value: 0.7805714285714285 and parameters: {'max_depth': 29, 'min_samples_split': 34, 'min_samples_leaf': 9, 'max_leaf_nodes': 24}. Best is trial 288 with value: 0.7845714285714286.\n",
      "[I 2024-02-08 18:46:55,115] Trial 961 finished with value: 0.7834285714285714 and parameters: {'max_depth': 29, 'min_samples_split': 34, 'min_samples_leaf': 9, 'max_leaf_nodes': 25}. Best is trial 288 with value: 0.7845714285714286.\n",
      "[I 2024-02-08 18:46:55,312] Trial 962 finished with value: 0.7834285714285714 and parameters: {'max_depth': 29, 'min_samples_split': 34, 'min_samples_leaf': 9, 'max_leaf_nodes': 25}. Best is trial 288 with value: 0.7845714285714286.\n",
      "[I 2024-02-08 18:46:55,544] Trial 963 finished with value: 0.7365714285714285 and parameters: {'max_depth': 29, 'min_samples_split': 34, 'min_samples_leaf': 9, 'max_leaf_nodes': 12}. Best is trial 288 with value: 0.7845714285714286.\n",
      "[I 2024-02-08 18:46:55,801] Trial 964 finished with value: 0.7834285714285714 and parameters: {'max_depth': 29, 'min_samples_split': 34, 'min_samples_leaf': 9, 'max_leaf_nodes': 25}. Best is trial 288 with value: 0.7845714285714286.\n",
      "[I 2024-02-08 18:46:56,077] Trial 965 finished with value: 0.7834285714285714 and parameters: {'max_depth': 29, 'min_samples_split': 34, 'min_samples_leaf': 9, 'max_leaf_nodes': 25}. Best is trial 288 with value: 0.7845714285714286.\n",
      "[I 2024-02-08 18:46:56,374] Trial 966 finished with value: 0.7834285714285714 and parameters: {'max_depth': 29, 'min_samples_split': 34, 'min_samples_leaf': 9, 'max_leaf_nodes': 25}. Best is trial 288 with value: 0.7845714285714286.\n",
      "[I 2024-02-08 18:46:56,624] Trial 967 finished with value: 0.7834285714285714 and parameters: {'max_depth': 29, 'min_samples_split': 34, 'min_samples_leaf': 9, 'max_leaf_nodes': 25}. Best is trial 288 with value: 0.7845714285714286.\n",
      "[I 2024-02-08 18:46:56,858] Trial 968 finished with value: 0.7834285714285714 and parameters: {'max_depth': 29, 'min_samples_split': 34, 'min_samples_leaf': 9, 'max_leaf_nodes': 25}. Best is trial 288 with value: 0.7845714285714286.\n",
      "[I 2024-02-08 18:46:56,967] Trial 969 finished with value: 0.7834285714285714 and parameters: {'max_depth': 29, 'min_samples_split': 35, 'min_samples_leaf': 9, 'max_leaf_nodes': 25}. Best is trial 288 with value: 0.7845714285714286.\n",
      "[I 2024-02-08 18:46:57,402] Trial 970 finished with value: 0.7845714285714286 and parameters: {'max_depth': 29, 'min_samples_split': 37, 'min_samples_leaf': 9, 'max_leaf_nodes': 25}. Best is trial 288 with value: 0.7845714285714286.\n",
      "[I 2024-02-08 18:46:57,710] Trial 971 finished with value: 0.7834285714285714 and parameters: {'max_depth': 29, 'min_samples_split': 5, 'min_samples_leaf': 9, 'max_leaf_nodes': 25}. Best is trial 288 with value: 0.7845714285714286.\n",
      "[I 2024-02-08 18:46:57,799] Trial 972 finished with value: 0.7845714285714286 and parameters: {'max_depth': 29, 'min_samples_split': 37, 'min_samples_leaf': 9, 'max_leaf_nodes': 25}. Best is trial 288 with value: 0.7845714285714286.\n",
      "[I 2024-02-08 18:46:58,082] Trial 973 finished with value: 0.7845714285714286 and parameters: {'max_depth': 29, 'min_samples_split': 37, 'min_samples_leaf': 9, 'max_leaf_nodes': 25}. Best is trial 288 with value: 0.7845714285714286.\n",
      "[I 2024-02-08 18:46:58,348] Trial 974 finished with value: 0.78 and parameters: {'max_depth': 29, 'min_samples_split': 37, 'min_samples_leaf': 10, 'max_leaf_nodes': 25}. Best is trial 288 with value: 0.7845714285714286.\n",
      "[I 2024-02-08 18:46:58,622] Trial 975 finished with value: 0.7805714285714285 and parameters: {'max_depth': 28, 'min_samples_split': 37, 'min_samples_leaf': 10, 'max_leaf_nodes': 25}. Best is trial 288 with value: 0.7845714285714286.\n",
      "[I 2024-02-08 18:46:58,751] Trial 976 finished with value: 0.7805714285714285 and parameters: {'max_depth': 28, 'min_samples_split': 37, 'min_samples_leaf': 10, 'max_leaf_nodes': 25}. Best is trial 288 with value: 0.7845714285714286.\n",
      "[I 2024-02-08 18:46:59,129] Trial 977 finished with value: 0.7805714285714285 and parameters: {'max_depth': 28, 'min_samples_split': 37, 'min_samples_leaf': 10, 'max_leaf_nodes': 25}. Best is trial 288 with value: 0.7845714285714286.\n",
      "[I 2024-02-08 18:46:59,376] Trial 978 finished with value: 0.7805714285714285 and parameters: {'max_depth': 28, 'min_samples_split': 37, 'min_samples_leaf': 10, 'max_leaf_nodes': 25}. Best is trial 288 with value: 0.7845714285714286.\n",
      "[I 2024-02-08 18:46:59,632] Trial 979 finished with value: 0.7771428571428571 and parameters: {'max_depth': 16, 'min_samples_split': 7, 'min_samples_leaf': 10, 'max_leaf_nodes': 26}. Best is trial 288 with value: 0.7845714285714286.\n",
      "[I 2024-02-08 18:46:59,845] Trial 980 finished with value: 0.7805714285714286 and parameters: {'max_depth': 28, 'min_samples_split': 37, 'min_samples_leaf': 10, 'max_leaf_nodes': 26}. Best is trial 288 with value: 0.7845714285714286.\n",
      "[I 2024-02-08 18:47:00,096] Trial 981 finished with value: 0.78 and parameters: {'max_depth': 28, 'min_samples_split': 36, 'min_samples_leaf': 10, 'max_leaf_nodes': 26}. Best is trial 288 with value: 0.7845714285714286.\n",
      "[I 2024-02-08 18:47:00,270] Trial 982 finished with value: 0.78 and parameters: {'max_depth': 28, 'min_samples_split': 36, 'min_samples_leaf': 10, 'max_leaf_nodes': 26}. Best is trial 288 with value: 0.7845714285714286.\n",
      "[I 2024-02-08 18:47:00,585] Trial 983 finished with value: 0.7754285714285715 and parameters: {'max_depth': 28, 'min_samples_split': 36, 'min_samples_leaf': 11, 'max_leaf_nodes': 26}. Best is trial 288 with value: 0.7845714285714286.\n",
      "[I 2024-02-08 18:47:00,945] Trial 984 finished with value: 0.78 and parameters: {'max_depth': 28, 'min_samples_split': 36, 'min_samples_leaf': 10, 'max_leaf_nodes': 26}. Best is trial 288 with value: 0.7845714285714286.\n",
      "[I 2024-02-08 18:47:01,155] Trial 985 finished with value: 0.7805714285714286 and parameters: {'max_depth': 28, 'min_samples_split': 36, 'min_samples_leaf': 10, 'max_leaf_nodes': 26}. Best is trial 288 with value: 0.7845714285714286.\n",
      "[I 2024-02-08 18:47:01,435] Trial 986 finished with value: 0.7805714285714286 and parameters: {'max_depth': 28, 'min_samples_split': 36, 'min_samples_leaf': 10, 'max_leaf_nodes': 26}. Best is trial 288 with value: 0.7845714285714286.\n",
      "[I 2024-02-08 18:47:01,676] Trial 987 finished with value: 0.78 and parameters: {'max_depth': 28, 'min_samples_split': 36, 'min_samples_leaf': 10, 'max_leaf_nodes': 26}. Best is trial 288 with value: 0.7845714285714286.\n",
      "[I 2024-02-08 18:47:01,807] Trial 988 finished with value: 0.7794285714285715 and parameters: {'max_depth': 28, 'min_samples_split': 31, 'min_samples_leaf': 10, 'max_leaf_nodes': 26}. Best is trial 288 with value: 0.7845714285714286.\n",
      "[I 2024-02-08 18:47:02,149] Trial 989 finished with value: 0.78 and parameters: {'max_depth': 28, 'min_samples_split': 36, 'min_samples_leaf': 10, 'max_leaf_nodes': 26}. Best is trial 288 with value: 0.7845714285714286.\n",
      "[I 2024-02-08 18:47:02,389] Trial 990 finished with value: 0.7805714285714286 and parameters: {'max_depth': 28, 'min_samples_split': 36, 'min_samples_leaf': 10, 'max_leaf_nodes': 26}. Best is trial 288 with value: 0.7845714285714286.\n",
      "[I 2024-02-08 18:47:02,661] Trial 991 finished with value: 0.7628571428571429 and parameters: {'max_depth': 28, 'min_samples_split': 36, 'min_samples_leaf': 16, 'max_leaf_nodes': 26}. Best is trial 288 with value: 0.7845714285714286.\n",
      "[I 2024-02-08 18:47:02,913] Trial 992 finished with value: 0.7822857142857143 and parameters: {'max_depth': 28, 'min_samples_split': 36, 'min_samples_leaf': 9, 'max_leaf_nodes': 26}. Best is trial 288 with value: 0.7845714285714286.\n",
      "[I 2024-02-08 18:47:03,176] Trial 993 finished with value: 0.7811428571428571 and parameters: {'max_depth': 27, 'min_samples_split': 35, 'min_samples_leaf': 9, 'max_leaf_nodes': 26}. Best is trial 288 with value: 0.7845714285714286.\n",
      "[I 2024-02-08 18:47:03,400] Trial 994 finished with value: 0.776 and parameters: {'max_depth': 27, 'min_samples_split': 35, 'min_samples_leaf': 11, 'max_leaf_nodes': 26}. Best is trial 288 with value: 0.7845714285714286.\n",
      "[I 2024-02-08 18:47:03,640] Trial 995 finished with value: 0.7811428571428571 and parameters: {'max_depth': 27, 'min_samples_split': 35, 'min_samples_leaf': 9, 'max_leaf_nodes': 26}. Best is trial 288 with value: 0.7845714285714286.\n",
      "[I 2024-02-08 18:47:03,902] Trial 996 finished with value: 0.7811428571428571 and parameters: {'max_depth': 27, 'min_samples_split': 35, 'min_samples_leaf': 9, 'max_leaf_nodes': 26}. Best is trial 288 with value: 0.7845714285714286.\n",
      "[I 2024-02-08 18:47:04,154] Trial 997 finished with value: 0.781142857142857 and parameters: {'max_depth': 27, 'min_samples_split': 35, 'min_samples_leaf': 9, 'max_leaf_nodes': 24}. Best is trial 288 with value: 0.7845714285714286.\n",
      "[I 2024-02-08 18:47:04,435] Trial 998 finished with value: 0.781142857142857 and parameters: {'max_depth': 19, 'min_samples_split': 35, 'min_samples_leaf': 9, 'max_leaf_nodes': 24}. Best is trial 288 with value: 0.7845714285714286.\n",
      "[I 2024-02-08 18:47:04,647] Trial 999 finished with value: 0.7805714285714285 and parameters: {'max_depth': 27, 'min_samples_split': 31, 'min_samples_leaf': 9, 'max_leaf_nodes': 24}. Best is trial 288 with value: 0.7845714285714286.\n"
     ]
    },
    {
     "name": "stdout",
     "output_type": "stream",
     "text": [
      "FrozenTrial(number=288, state=1, values=[0.7845714285714286], datetime_start=datetime.datetime(2024, 2, 8, 18, 44, 2, 176742), datetime_complete=datetime.datetime(2024, 2, 8, 18, 44, 5, 175737), params={'max_depth': 26, 'min_samples_split': 36, 'min_samples_leaf': 9, 'max_leaf_nodes': 25}, user_attrs={}, system_attrs={}, intermediate_values={}, distributions={'max_depth': IntDistribution(high=30, log=False, low=2, step=1), 'min_samples_split': IntDistribution(high=40, log=False, low=2, step=1), 'min_samples_leaf': IntDistribution(high=20, log=False, low=1, step=1), 'max_leaf_nodes': IntDistribution(high=30, log=False, low=3, step=1)}, trial_id=288, value=None)\n"
     ]
    }
   ],
   "source": [
    "decision_tree_pca_result = optimize_hyperparameters('decision_tree', X_pca_train, y_train, n_trials=1000)\n",
    "print(decision_tree_pca_result)"
   ]
  },
  {
   "cell_type": "code",
   "execution_count": 11,
   "metadata": {},
   "outputs": [
    {
     "data": {
      "text/plain": [
       "{'max_depth': 26,\n",
       " 'min_samples_split': 36,\n",
       " 'min_samples_leaf': 9,\n",
       " 'max_leaf_nodes': 25}"
      ]
     },
     "execution_count": 11,
     "metadata": {},
     "output_type": "execute_result"
    }
   ],
   "source": [
    "decision_tree_pca_result.params"
   ]
  },
  {
   "cell_type": "code",
   "execution_count": 12,
   "metadata": {},
   "outputs": [
    {
     "data": {
      "text/plain": [
       "0.7845714285714286"
      ]
     },
     "execution_count": 12,
     "metadata": {},
     "output_type": "execute_result"
    }
   ],
   "source": [
    "decision_tree_pca_result.value"
   ]
  },
  {
   "cell_type": "code",
   "execution_count": 13,
   "metadata": {},
   "outputs": [
    {
     "data": {
      "text/plain": [
       "0.7488584474885844"
      ]
     },
     "execution_count": 13,
     "metadata": {},
     "output_type": "execute_result"
    }
   ],
   "source": [
    "best_decision_tree_model_pca = DecisionTreeClassifier(**decision_tree_pca_result.params)\n",
    "best_decision_tree_model_pca.fit(X_pca_train, y_train)\n",
    "best_decision_tree_model_pca.score(X_pca_test, y_test)"
   ]
  },
  {
   "cell_type": "markdown",
   "metadata": {},
   "source": [
    "### Random Forest"
   ]
  },
  {
   "cell_type": "markdown",
   "metadata": {},
   "source": [
    "#### Full images"
   ]
  },
  {
   "cell_type": "code",
   "execution_count": null,
   "metadata": {},
   "outputs": [],
   "source": [
    "random_forest_result = optimize_hyperparameters('random_forest', X_train, y_train, n_trials=100)\n",
    "print(random_forest_result)"
   ]
  },
  {
   "cell_type": "code",
   "execution_count": null,
   "metadata": {},
   "outputs": [],
   "source": [
    "random_forest_result.params"
   ]
  },
  {
   "cell_type": "code",
   "execution_count": null,
   "metadata": {},
   "outputs": [],
   "source": [
    "random_forest_result.value"
   ]
  },
  {
   "cell_type": "code",
   "execution_count": null,
   "metadata": {},
   "outputs": [],
   "source": [
    "best_random_forest_model = RandomForestClassifier(**random_forest_result.params)\n",
    "best_random_forest_model.fit(X_train, y_train)\n",
    "best_random_forest_model.score(X_test, y_test)"
   ]
  },
  {
   "cell_type": "markdown",
   "metadata": {},
   "source": [
    "#### Scaled images"
   ]
  },
  {
   "cell_type": "code",
   "execution_count": 18,
   "metadata": {},
   "outputs": [
    {
     "name": "stderr",
     "output_type": "stream",
     "text": [
      "[I 2024-02-08 19:39:01,313] A new study created in memory with name: no-name-15a84b8a-033c-45a3-9664-97da78e0da90\n",
      "[I 2024-02-08 19:39:15,376] Trial 0 finished with value: 0.8988571428571429 and parameters: {'n_estimators': 202, 'max_depth': 64, 'min_samples_split': 37, 'min_samples_leaf': 12, 'max_leaf_nodes': 14}. Best is trial 0 with value: 0.8988571428571429.\n",
      "[I 2024-02-08 19:39:59,781] Trial 1 finished with value: 0.876 and parameters: {'n_estimators': 840, 'max_depth': 4, 'min_samples_split': 34, 'min_samples_leaf': 10, 'max_leaf_nodes': 34}. Best is trial 0 with value: 0.8988571428571429.\n",
      "[I 2024-02-08 19:40:11,011] Trial 3 finished with value: 0.9228571428571428 and parameters: {'n_estimators': 230, 'max_depth': 65, 'min_samples_split': 6, 'min_samples_leaf': 17, 'max_leaf_nodes': 66}. Best is trial 3 with value: 0.9228571428571428.\n",
      "[I 2024-02-08 19:41:10,377] Trial 2 finished with value: 0.9177142857142856 and parameters: {'n_estimators': 897, 'max_depth': 20, 'min_samples_split': 40, 'min_samples_leaf': 20, 'max_leaf_nodes': 50}. Best is trial 3 with value: 0.9228571428571428.\n",
      "[I 2024-02-08 19:41:30,513] Trial 5 finished with value: 0.9228571428571428 and parameters: {'n_estimators': 413, 'max_depth': 61, 'min_samples_split': 19, 'min_samples_leaf': 14, 'max_leaf_nodes': 31}. Best is trial 3 with value: 0.9228571428571428.\n",
      "[I 2024-02-08 19:41:46,604] Trial 6 finished with value: 0.9308571428571428 and parameters: {'n_estimators': 251, 'max_depth': 50, 'min_samples_split': 17, 'min_samples_leaf': 11, 'max_leaf_nodes': 57}. Best is trial 6 with value: 0.9308571428571428.\n",
      "[I 2024-02-08 19:42:38,364] Trial 8 finished with value: 0.932 and parameters: {'n_estimators': 731, 'max_depth': 16, 'min_samples_split': 22, 'min_samples_leaf': 10, 'max_leaf_nodes': 68}. Best is trial 8 with value: 0.932.\n",
      "[I 2024-02-08 19:43:03,781] Trial 4 finished with value: 0.8337142857142856 and parameters: {'n_estimators': 549, 'max_depth': 35, 'min_samples_split': 21, 'min_samples_leaf': 17, 'max_leaf_nodes': 7}. Best is trial 8 with value: 0.932.\n",
      "[I 2024-02-08 19:43:56,785] Trial 7 finished with value: 0.9371428571428572 and parameters: {'n_estimators': 718, 'max_depth': 54, 'min_samples_split': 20, 'min_samples_leaf': 7, 'max_leaf_nodes': 53}. Best is trial 7 with value: 0.9371428571428572.\n",
      "[I 2024-02-08 19:44:26,583] Trial 9 finished with value: 0.8497142857142859 and parameters: {'n_estimators': 727, 'max_depth': 38, 'min_samples_split': 6, 'min_samples_leaf': 10, 'max_leaf_nodes': 8}. Best is trial 7 with value: 0.9371428571428572.\n",
      "[I 2024-02-08 19:45:09,063] Trial 10 finished with value: 0.9285714285714286 and parameters: {'n_estimators': 599, 'max_depth': 53, 'min_samples_split': 18, 'min_samples_leaf': 4, 'max_leaf_nodes': 29}. Best is trial 7 with value: 0.9371428571428572.\n",
      "[I 2024-02-08 19:45:15,752] Trial 11 finished with value: 0.924 and parameters: {'n_estimators': 333, 'max_depth': 33, 'min_samples_split': 32, 'min_samples_leaf': 14, 'max_leaf_nodes': 26}. Best is trial 7 with value: 0.9371428571428572.\n",
      "[I 2024-02-08 19:46:21,401] Trial 12 finished with value: 0.9428571428571428 and parameters: {'n_estimators': 728, 'max_depth': 11, 'min_samples_split': 8, 'min_samples_leaf': 3, 'max_leaf_nodes': 58}. Best is trial 12 with value: 0.9428571428571428.\n",
      "[I 2024-02-08 19:47:26,803] Trial 13 finished with value: 0.9251428571428573 and parameters: {'n_estimators': 954, 'max_depth': 7, 'min_samples_split': 39, 'min_samples_leaf': 10, 'max_leaf_nodes': 45}. Best is trial 12 with value: 0.9428571428571428.\n",
      "[I 2024-02-08 19:47:46,749] Trial 15 finished with value: 0.9165714285714286 and parameters: {'n_estimators': 162, 'max_depth': 58, 'min_samples_split': 14, 'min_samples_leaf': 17, 'max_leaf_nodes': 26}. Best is trial 12 with value: 0.9428571428571428.\n",
      "[I 2024-02-08 19:47:58,529] Trial 14 finished with value: 0.9188571428571427 and parameters: {'n_estimators': 680, 'max_depth': 7, 'min_samples_split': 39, 'min_samples_leaf': 18, 'max_leaf_nodes': 65}. Best is trial 12 with value: 0.9428571428571428.\n",
      "[I 2024-02-08 19:48:09,124] Trial 16 finished with value: 0.7765714285714285 and parameters: {'n_estimators': 751, 'max_depth': 2, 'min_samples_split': 37, 'min_samples_leaf': 7, 'max_leaf_nodes': 32}. Best is trial 12 with value: 0.9428571428571428.\n",
      "[I 2024-02-08 19:48:10,878] Trial 17 finished with value: 0.8445714285714286 and parameters: {'n_estimators': 122, 'max_depth': 8, 'min_samples_split': 16, 'min_samples_leaf': 15, 'max_leaf_nodes': 8}. Best is trial 12 with value: 0.9428571428571428.\n",
      "[I 2024-02-08 19:49:28,791] Trial 18 finished with value: 0.9228571428571428 and parameters: {'n_estimators': 995, 'max_depth': 22, 'min_samples_split': 11, 'min_samples_leaf': 18, 'max_leaf_nodes': 64}. Best is trial 12 with value: 0.9428571428571428.\n",
      "[I 2024-02-08 19:49:58,139] Trial 19 finished with value: 0.9302857142857143 and parameters: {'n_estimators': 532, 'max_depth': 61, 'min_samples_split': 25, 'min_samples_leaf': 10, 'max_leaf_nodes': 46}. Best is trial 12 with value: 0.9428571428571428.\n",
      "[I 2024-02-08 19:50:36,577] Trial 20 finished with value: 0.8857142857142858 and parameters: {'n_estimators': 636, 'max_depth': 62, 'min_samples_split': 2, 'min_samples_leaf': 20, 'max_leaf_nodes': 12}. Best is trial 12 with value: 0.9428571428571428.\n",
      "[I 2024-02-08 19:51:26,346] Trial 21 finished with value: 0.9371428571428572 and parameters: {'n_estimators': 557, 'max_depth': 48, 'min_samples_split': 29, 'min_samples_leaf': 3, 'max_leaf_nodes': 47}. Best is trial 12 with value: 0.9428571428571428.\n",
      "[I 2024-02-08 19:52:02,942] Trial 22 finished with value: 0.9354285714285714 and parameters: {'n_estimators': 712, 'max_depth': 14, 'min_samples_split': 28, 'min_samples_leaf': 5, 'max_leaf_nodes': 70}. Best is trial 12 with value: 0.9428571428571428.\n",
      "[I 2024-02-08 19:53:25,622] Trial 23 finished with value: 0.9325714285714286 and parameters: {'n_estimators': 991, 'max_depth': 8, 'min_samples_split': 27, 'min_samples_leaf': 5, 'max_leaf_nodes': 70}. Best is trial 12 with value: 0.9428571428571428.\n",
      "[I 2024-02-08 19:53:51,355] Trial 24 finished with value: 0.8417142857142856 and parameters: {'n_estimators': 986, 'max_depth': 3, 'min_samples_split': 11, 'min_samples_leaf': 2, 'max_leaf_nodes': 44}. Best is trial 12 with value: 0.9428571428571428.\n",
      "[I 2024-02-08 19:54:31,411] Trial 25 finished with value: 0.944 and parameters: {'n_estimators': 647, 'max_depth': 44, 'min_samples_split': 12, 'min_samples_leaf': 2, 'max_leaf_nodes': 56}. Best is trial 25 with value: 0.944.\n",
      "[I 2024-02-08 19:55:26,880] Trial 26 finished with value: 0.937142857142857 and parameters: {'n_estimators': 595, 'max_depth': 44, 'min_samples_split': 27, 'min_samples_leaf': 2, 'max_leaf_nodes': 58}. Best is trial 25 with value: 0.944.\n",
      "[I 2024-02-08 19:56:03,712] Trial 27 finished with value: 0.9388571428571428 and parameters: {'n_estimators': 498, 'max_depth': 44, 'min_samples_split': 11, 'min_samples_leaf': 2, 'max_leaf_nodes': 46}. Best is trial 25 with value: 0.944.\n",
      "[I 2024-02-08 19:56:45,549] Trial 28 finished with value: 0.9377142857142857 and parameters: {'n_estimators': 477, 'max_depth': 44, 'min_samples_split': 2, 'min_samples_leaf': 1, 'max_leaf_nodes': 47}. Best is trial 25 with value: 0.944.\n",
      "[I 2024-02-08 19:57:21,173] Trial 29 finished with value: 0.9359999999999999 and parameters: {'n_estimators': 529, 'max_depth': 45, 'min_samples_split': 11, 'min_samples_leaf': 1, 'max_leaf_nodes': 46}. Best is trial 25 with value: 0.944.\n",
      "[I 2024-02-08 19:57:41,532] Trial 30 finished with value: 0.9359999999999999 and parameters: {'n_estimators': 517, 'max_depth': 42, 'min_samples_split': 27, 'min_samples_leaf': 1, 'max_leaf_nodes': 43}. Best is trial 25 with value: 0.944.\n",
      "[I 2024-02-08 19:58:58,590] Trial 31 finished with value: 0.9428571428571428 and parameters: {'n_estimators': 839, 'max_depth': 45, 'min_samples_split': 2, 'min_samples_leaf': 1, 'max_leaf_nodes': 56}. Best is trial 25 with value: 0.944.\n",
      "[I 2024-02-08 20:00:12,888] Trial 32 finished with value: 0.9388571428571428 and parameters: {'n_estimators': 807, 'max_depth': 19, 'min_samples_split': 26, 'min_samples_leaf': 1, 'max_leaf_nodes': 57}. Best is trial 25 with value: 0.944.\n",
      "[I 2024-02-08 20:00:44,740] Trial 33 finished with value: 0.9377142857142857 and parameters: {'n_estimators': 484, 'max_depth': 44, 'min_samples_split': 28, 'min_samples_leaf': 1, 'max_leaf_nodes': 54}. Best is trial 25 with value: 0.944.\n",
      "[I 2024-02-08 20:01:19,332] Trial 34 finished with value: 0.9411428571428571 and parameters: {'n_estimators': 430, 'max_depth': 44, 'min_samples_split': 28, 'min_samples_leaf': 1, 'max_leaf_nodes': 54}. Best is trial 25 with value: 0.944.\n",
      "[I 2024-02-08 20:02:01,393] Trial 35 finished with value: 0.9434285714285714 and parameters: {'n_estimators': 469, 'max_depth': 46, 'min_samples_split': 10, 'min_samples_leaf': 1, 'max_leaf_nodes': 56}. Best is trial 25 with value: 0.944.\n",
      "[I 2024-02-08 20:02:25,342] Trial 36 finished with value: 0.9399999999999998 and parameters: {'n_estimators': 468, 'max_depth': 43, 'min_samples_split': 29, 'min_samples_leaf': 1, 'max_leaf_nodes': 56}. Best is trial 25 with value: 0.944.\n",
      "[I 2024-02-08 20:03:35,712] Trial 37 finished with value: 0.9422857142857142 and parameters: {'n_estimators': 824, 'max_depth': 42, 'min_samples_split': 11, 'min_samples_leaf': 1, 'max_leaf_nodes': 53}. Best is trial 25 with value: 0.944.\n",
      "[I 2024-02-08 20:04:41,261] Trial 38 finished with value: 0.9388571428571428 and parameters: {'n_estimators': 801, 'max_depth': 28, 'min_samples_split': 12, 'min_samples_leaf': 7, 'max_leaf_nodes': 55}. Best is trial 25 with value: 0.944.\n",
      "[I 2024-02-08 20:04:59,090] Trial 39 finished with value: 0.9359999999999999 and parameters: {'n_estimators': 459, 'max_depth': 29, 'min_samples_split': 9, 'min_samples_leaf': 1, 'max_leaf_nodes': 41}. Best is trial 25 with value: 0.944.\n",
      "[I 2024-02-08 20:05:32,699] Trial 40 finished with value: 0.9359999999999999 and parameters: {'n_estimators': 449, 'max_depth': 26, 'min_samples_split': 9, 'min_samples_leaf': 7, 'max_leaf_nodes': 40}. Best is trial 25 with value: 0.944.\n",
      "[I 2024-02-08 20:06:38,241] Trial 41 finished with value: 0.937142857142857 and parameters: {'n_estimators': 825, 'max_depth': 70, 'min_samples_split': 7, 'min_samples_leaf': 6, 'max_leaf_nodes': 40}. Best is trial 25 with value: 0.944.\n",
      "[I 2024-02-08 20:06:54,147] Trial 42 finished with value: 0.9325714285714286 and parameters: {'n_estimators': 426, 'max_depth': 70, 'min_samples_split': 3, 'min_samples_leaf': 7, 'max_leaf_nodes': 39}. Best is trial 25 with value: 0.944.\n",
      "[I 2024-02-08 20:07:27,612] Trial 43 finished with value: 0.9399999999999998 and parameters: {'n_estimators': 442, 'max_depth': 29, 'min_samples_split': 6, 'min_samples_leaf': 6, 'max_leaf_nodes': 59}. Best is trial 25 with value: 0.944.\n",
      "[I 2024-02-08 20:08:38,388] Trial 44 finished with value: 0.9382857142857143 and parameters: {'n_estimators': 838, 'max_depth': 30, 'min_samples_split': 6, 'min_samples_leaf': 6, 'max_leaf_nodes': 61}. Best is trial 25 with value: 0.944.\n",
      "[I 2024-02-08 20:09:37,307] Trial 45 finished with value: 0.9360000000000002 and parameters: {'n_estimators': 829, 'max_depth': 29, 'min_samples_split': 6, 'min_samples_leaf': 7, 'max_leaf_nodes': 39}. Best is trial 25 with value: 0.944.\n",
      "[I 2024-02-08 20:10:41,645] Trial 46 finished with value: 0.9348571428571428 and parameters: {'n_estimators': 864, 'max_depth': 29, 'min_samples_split': 6, 'min_samples_leaf': 7, 'max_leaf_nodes': 39}. Best is trial 25 with value: 0.944.\n",
      "[I 2024-02-08 20:11:36,837] Trial 47 finished with value: 0.9365714285714285 and parameters: {'n_estimators': 861, 'max_depth': 29, 'min_samples_split': 6, 'min_samples_leaf': 7, 'max_leaf_nodes': 39}. Best is trial 25 with value: 0.944.\n",
      "[I 2024-02-08 20:12:43,365] Trial 48 finished with value: 0.9371428571428572 and parameters: {'n_estimators': 865, 'max_depth': 29, 'min_samples_split': 6, 'min_samples_leaf': 7, 'max_leaf_nodes': 61}. Best is trial 25 with value: 0.944.\n",
      "[I 2024-02-08 20:13:29,749] Trial 49 finished with value: 0.9371428571428572 and parameters: {'n_estimators': 877, 'max_depth': 32, 'min_samples_split': 6, 'min_samples_leaf': 4, 'max_leaf_nodes': 39}. Best is trial 25 with value: 0.944.\n",
      "[I 2024-02-08 20:14:39,876] Trial 50 finished with value: 0.9411428571428573 and parameters: {'n_estimators': 886, 'max_depth': 31, 'min_samples_split': 6, 'min_samples_leaf': 5, 'max_leaf_nodes': 61}. Best is trial 25 with value: 0.944.\n",
      "[I 2024-02-08 20:15:48,289] Trial 51 finished with value: 0.9417142857142856 and parameters: {'n_estimators': 881, 'max_depth': 38, 'min_samples_split': 6, 'min_samples_leaf': 4, 'max_leaf_nodes': 60}. Best is trial 25 with value: 0.944.\n",
      "[I 2024-02-08 20:17:08,349] Trial 52 finished with value: 0.9457142857142855 and parameters: {'n_estimators': 884, 'max_depth': 38, 'min_samples_split': 5, 'min_samples_leaf': 3, 'max_leaf_nodes': 63}. Best is trial 52 with value: 0.9457142857142855.\n",
      "[I 2024-02-08 20:18:13,625] Trial 53 finished with value: 0.9445714285714285 and parameters: {'n_estimators': 884, 'max_depth': 38, 'min_samples_split': 4, 'min_samples_leaf': 4, 'max_leaf_nodes': 60}. Best is trial 52 with value: 0.9457142857142855.\n",
      "[I 2024-02-08 20:19:21,375] Trial 54 finished with value: 0.9462857142857143 and parameters: {'n_estimators': 882, 'max_depth': 38, 'min_samples_split': 4, 'min_samples_leaf': 3, 'max_leaf_nodes': 62}. Best is trial 54 with value: 0.9462857142857143.\n",
      "[I 2024-02-08 20:20:09,492] Trial 55 finished with value: 0.946857142857143 and parameters: {'n_estimators': 892, 'max_depth': 36, 'min_samples_split': 4, 'min_samples_leaf': 3, 'max_leaf_nodes': 62}. Best is trial 55 with value: 0.946857142857143.\n",
      "[I 2024-02-08 20:21:18,524] Trial 56 finished with value: 0.9417142857142856 and parameters: {'n_estimators': 883, 'max_depth': 38, 'min_samples_split': 4, 'min_samples_leaf': 3, 'max_leaf_nodes': 50}. Best is trial 55 with value: 0.946857142857143.\n",
      "[I 2024-02-08 20:22:39,953] Trial 58 finished with value: 0.9399999999999998 and parameters: {'n_estimators': 337, 'max_depth': 38, 'min_samples_split': 14, 'min_samples_leaf': 3, 'max_leaf_nodes': 51}. Best is trial 55 with value: 0.946857142857143.\n",
      "[I 2024-02-08 20:22:49,558] Trial 57 finished with value: 0.944 and parameters: {'n_estimators': 923, 'max_depth': 38, 'min_samples_split': 14, 'min_samples_leaf': 3, 'max_leaf_nodes': 62}. Best is trial 55 with value: 0.946857142857143.\n",
      "[I 2024-02-08 20:23:03,523] Trial 59 finished with value: 0.9382857142857143 and parameters: {'n_estimators': 371, 'max_depth': 37, 'min_samples_split': 14, 'min_samples_leaf': 3, 'max_leaf_nodes': 50}. Best is trial 55 with value: 0.946857142857143.\n",
      "[I 2024-02-08 20:24:07,691] Trial 60 finished with value: 0.9400000000000001 and parameters: {'n_estimators': 773, 'max_depth': 38, 'min_samples_split': 15, 'min_samples_leaf': 3, 'max_leaf_nodes': 51}. Best is trial 55 with value: 0.946857142857143.\n",
      "[I 2024-02-08 20:24:36,696] Trial 61 finished with value: 0.9417142857142858 and parameters: {'n_estimators': 357, 'max_depth': 38, 'min_samples_split': 15, 'min_samples_leaf': 3, 'max_leaf_nodes': 51}. Best is trial 55 with value: 0.946857142857143.\n",
      "[I 2024-02-08 20:25:43,008] Trial 62 finished with value: 0.9428571428571428 and parameters: {'n_estimators': 782, 'max_depth': 38, 'min_samples_split': 14, 'min_samples_leaf': 3, 'max_leaf_nodes': 49}. Best is trial 55 with value: 0.946857142857143.\n",
      "[I 2024-02-08 20:26:46,740] Trial 63 finished with value: 0.9400000000000001 and parameters: {'n_estimators': 783, 'max_depth': 38, 'min_samples_split': 15, 'min_samples_leaf': 3, 'max_leaf_nodes': 51}. Best is trial 55 with value: 0.946857142857143.\n",
      "[I 2024-02-08 20:26:57,022] Trial 64 finished with value: 0.9400000000000001 and parameters: {'n_estimators': 371, 'max_depth': 50, 'min_samples_split': 15, 'min_samples_leaf': 3, 'max_leaf_nodes': 51}. Best is trial 55 with value: 0.946857142857143.\n",
      "[I 2024-02-08 20:27:24,411] Trial 65 finished with value: 0.9422857142857142 and parameters: {'n_estimators': 365, 'max_depth': 37, 'min_samples_split': 4, 'min_samples_leaf': 3, 'max_leaf_nodes': 50}. Best is trial 55 with value: 0.946857142857143.\n",
      "[I 2024-02-08 20:28:32,153] Trial 66 finished with value: 0.9399999999999998 and parameters: {'n_estimators': 771, 'max_depth': 36, 'min_samples_split': 4, 'min_samples_leaf': 3, 'max_leaf_nodes': 51}. Best is trial 55 with value: 0.946857142857143.\n",
      "[I 2024-02-08 20:29:43,798] Trial 67 finished with value: 0.9411428571428573 and parameters: {'n_estimators': 935, 'max_depth': 36, 'min_samples_split': 4, 'min_samples_leaf': 3, 'max_leaf_nodes': 50}. Best is trial 55 with value: 0.946857142857143.\n",
      "[I 2024-02-08 20:30:58,890] Trial 68 finished with value: 0.9457142857142855 and parameters: {'n_estimators': 927, 'max_depth': 36, 'min_samples_split': 4, 'min_samples_leaf': 3, 'max_leaf_nodes': 64}. Best is trial 55 with value: 0.946857142857143.\n",
      "[I 2024-02-08 20:32:18,918] Trial 69 finished with value: 0.9451428571428572 and parameters: {'n_estimators': 920, 'max_depth': 52, 'min_samples_split': 4, 'min_samples_leaf': 4, 'max_leaf_nodes': 64}. Best is trial 55 with value: 0.946857142857143.\n",
      "[I 2024-02-08 20:33:36,134] Trial 70 finished with value: 0.9359999999999999 and parameters: {'n_estimators': 933, 'max_depth': 35, 'min_samples_split': 4, 'min_samples_leaf': 9, 'max_leaf_nodes': 64}. Best is trial 55 with value: 0.946857142857143.\n",
      "[I 2024-02-08 20:34:19,124] Trial 71 finished with value: 0.9411428571428571 and parameters: {'n_estimators': 943, 'max_depth': 35, 'min_samples_split': 4, 'min_samples_leaf': 4, 'max_leaf_nodes': 65}. Best is trial 55 with value: 0.946857142857143.\n",
      "[I 2024-02-08 20:35:34,384] Trial 72 finished with value: 0.9445714285714285 and parameters: {'n_estimators': 924, 'max_depth': 35, 'min_samples_split': 4, 'min_samples_leaf': 2, 'max_leaf_nodes': 64}. Best is trial 55 with value: 0.946857142857143.\n",
      "[I 2024-02-08 20:36:47,421] Trial 73 finished with value: 0.9451428571428571 and parameters: {'n_estimators': 921, 'max_depth': 34, 'min_samples_split': 4, 'min_samples_leaf': 2, 'max_leaf_nodes': 64}. Best is trial 55 with value: 0.946857142857143.\n",
      "[I 2024-02-08 20:37:59,100] Trial 74 finished with value: 0.9359999999999999 and parameters: {'n_estimators': 931, 'max_depth': 34, 'min_samples_split': 9, 'min_samples_leaf': 9, 'max_leaf_nodes': 64}. Best is trial 55 with value: 0.946857142857143.\n",
      "[I 2024-02-08 20:39:14,512] Trial 75 finished with value: 0.9440000000000002 and parameters: {'n_estimators': 916, 'max_depth': 50, 'min_samples_split': 4, 'min_samples_leaf': 2, 'max_leaf_nodes': 66}. Best is trial 55 with value: 0.946857142857143.\n",
      "[I 2024-02-08 20:40:40,974] Trial 76 finished with value: 0.9445714285714285 and parameters: {'n_estimators': 940, 'max_depth': 35, 'min_samples_split': 8, 'min_samples_leaf': 2, 'max_leaf_nodes': 64}. Best is trial 55 with value: 0.946857142857143.\n",
      "[I 2024-02-08 20:41:30,820] Trial 77 finished with value: 0.944 and parameters: {'n_estimators': 957, 'max_depth': 35, 'min_samples_split': 9, 'min_samples_leaf': 2, 'max_leaf_nodes': 66}. Best is trial 55 with value: 0.946857142857143.\n",
      "[I 2024-02-08 20:42:47,588] Trial 78 finished with value: 0.9474285714285713 and parameters: {'n_estimators': 930, 'max_depth': 48, 'min_samples_split': 8, 'min_samples_leaf': 2, 'max_leaf_nodes': 66}. Best is trial 78 with value: 0.9474285714285713.\n",
      "[I 2024-02-08 20:44:06,705] Trial 79 finished with value: 0.9451428571428572 and parameters: {'n_estimators': 939, 'max_depth': 34, 'min_samples_split': 8, 'min_samples_leaf': 2, 'max_leaf_nodes': 64}. Best is trial 78 with value: 0.9474285714285713.\n",
      "[I 2024-02-08 20:45:08,422] Trial 80 finished with value: 0.9348571428571428 and parameters: {'n_estimators': 936, 'max_depth': 34, 'min_samples_split': 21, 'min_samples_leaf': 9, 'max_leaf_nodes': 67}. Best is trial 78 with value: 0.9474285714285713.\n",
      "[I 2024-02-08 20:46:07,389] Trial 81 finished with value: 0.9354285714285714 and parameters: {'n_estimators': 914, 'max_depth': 55, 'min_samples_split': 8, 'min_samples_leaf': 9, 'max_leaf_nodes': 66}. Best is trial 78 with value: 0.9474285714285713.\n",
      "[I 2024-02-08 20:47:35,380] Trial 82 finished with value: 0.9394285714285713 and parameters: {'n_estimators': 919, 'max_depth': 40, 'min_samples_split': 22, 'min_samples_leaf': 2, 'max_leaf_nodes': 67}. Best is trial 78 with value: 0.9474285714285713.\n",
      "[I 2024-02-08 20:48:37,072] Trial 83 finished with value: 0.9434285714285714 and parameters: {'n_estimators': 907, 'max_depth': 55, 'min_samples_split': 8, 'min_samples_leaf': 2, 'max_leaf_nodes': 67}. Best is trial 78 with value: 0.9474285714285713.\n",
      "[I 2024-02-08 20:49:48,557] Trial 84 finished with value: 0.9440000000000002 and parameters: {'n_estimators': 977, 'max_depth': 54, 'min_samples_split': 8, 'min_samples_leaf': 2, 'max_leaf_nodes': 67}. Best is trial 78 with value: 0.9474285714285713.\n",
      "[I 2024-02-08 20:51:10,006] Trial 85 finished with value: 0.946857142857143 and parameters: {'n_estimators': 970, 'max_depth': 25, 'min_samples_split': 2, 'min_samples_leaf': 2, 'max_leaf_nodes': 67}. Best is trial 78 with value: 0.9474285714285713.\n",
      "[I 2024-02-08 20:52:35,865] Trial 86 finished with value: 0.9451428571428572 and parameters: {'n_estimators': 959, 'max_depth': 55, 'min_samples_split': 2, 'min_samples_leaf': 2, 'max_leaf_nodes': 67}. Best is trial 78 with value: 0.9474285714285713.\n",
      "[I 2024-02-08 20:53:42,698] Trial 87 finished with value: 0.9411428571428573 and parameters: {'n_estimators': 968, 'max_depth': 41, 'min_samples_split': 8, 'min_samples_leaf': 5, 'max_leaf_nodes': 68}. Best is trial 78 with value: 0.9474285714285713.\n",
      "[I 2024-02-08 20:54:53,241] Trial 88 finished with value: 0.9388571428571428 and parameters: {'n_estimators': 966, 'max_depth': 41, 'min_samples_split': 2, 'min_samples_leaf': 5, 'max_leaf_nodes': 68}. Best is trial 78 with value: 0.9474285714285713.\n",
      "[I 2024-02-08 20:56:18,003] Trial 89 finished with value: 0.9462857142857143 and parameters: {'n_estimators': 977, 'max_depth': 41, 'min_samples_split': 2, 'min_samples_leaf': 4, 'max_leaf_nodes': 68}. Best is trial 78 with value: 0.9474285714285713.\n",
      "[I 2024-02-08 20:57:09,974] Trial 90 finished with value: 0.9394285714285715 and parameters: {'n_estimators': 966, 'max_depth': 41, 'min_samples_split': 3, 'min_samples_leaf': 5, 'max_leaf_nodes': 68}. Best is trial 78 with value: 0.9474285714285713.\n",
      "[I 2024-02-08 20:58:27,651] Trial 91 finished with value: 0.9440000000000002 and parameters: {'n_estimators': 972, 'max_depth': 54, 'min_samples_split': 2, 'min_samples_leaf': 5, 'max_leaf_nodes': 68}. Best is trial 78 with value: 0.9474285714285713.\n",
      "[I 2024-02-08 20:59:46,928] Trial 92 finished with value: 0.9411428571428571 and parameters: {'n_estimators': 970, 'max_depth': 56, 'min_samples_split': 3, 'min_samples_leaf': 4, 'max_leaf_nodes': 69}. Best is trial 78 with value: 0.9474285714285713.\n",
      "[I 2024-02-08 21:01:03,282] Trial 93 finished with value: 0.9434285714285714 and parameters: {'n_estimators': 972, 'max_depth': 41, 'min_samples_split': 2, 'min_samples_leaf': 4, 'max_leaf_nodes': 69}. Best is trial 78 with value: 0.9474285714285713.\n",
      "[I 2024-02-08 21:02:13,849] Trial 94 finished with value: 0.9451428571428572 and parameters: {'n_estimators': 963, 'max_depth': 25, 'min_samples_split': 2, 'min_samples_leaf': 4, 'max_leaf_nodes': 69}. Best is trial 78 with value: 0.9474285714285713.\n",
      "[I 2024-02-08 21:03:32,252] Trial 95 finished with value: 0.9457142857142857 and parameters: {'n_estimators': 981, 'max_depth': 25, 'min_samples_split': 2, 'min_samples_leaf': 5, 'max_leaf_nodes': 70}. Best is trial 78 with value: 0.9474285714285713.\n",
      "[I 2024-02-08 21:04:29,432] Trial 96 finished with value: 0.9405714285714286 and parameters: {'n_estimators': 973, 'max_depth': 25, 'min_samples_split': 2, 'min_samples_leaf': 5, 'max_leaf_nodes': 70}. Best is trial 78 with value: 0.9474285714285713.\n",
      "[I 2024-02-08 21:05:41,993] Trial 97 finished with value: 0.9417142857142856 and parameters: {'n_estimators': 968, 'max_depth': 41, 'min_samples_split': 2, 'min_samples_leaf': 5, 'max_leaf_nodes': 70}. Best is trial 78 with value: 0.9474285714285713.\n",
      "[I 2024-02-08 21:07:01,095] Trial 98 finished with value: 0.9417142857142856 and parameters: {'n_estimators': 967, 'max_depth': 23, 'min_samples_split': 2, 'min_samples_leaf': 5, 'max_leaf_nodes': 70}. Best is trial 78 with value: 0.9474285714285713.\n",
      "[I 2024-02-08 21:07:37,314] Trial 99 finished with value: 0.9428571428571427 and parameters: {'n_estimators': 1000, 'max_depth': 26, 'min_samples_split': 2, 'min_samples_leaf': 4, 'max_leaf_nodes': 70}. Best is trial 78 with value: 0.9474285714285713.\n"
     ]
    },
    {
     "name": "stdout",
     "output_type": "stream",
     "text": [
      "FrozenTrial(number=78, state=1, values=[0.9474285714285713], datetime_start=datetime.datetime(2024, 2, 8, 20, 28, 32, 157675), datetime_complete=datetime.datetime(2024, 2, 8, 20, 42, 47, 588277), params={'n_estimators': 930, 'max_depth': 48, 'min_samples_split': 8, 'min_samples_leaf': 2, 'max_leaf_nodes': 66}, user_attrs={}, system_attrs={}, intermediate_values={}, distributions={'n_estimators': IntDistribution(high=1000, log=False, low=100, step=1), 'max_depth': IntDistribution(high=70, log=False, low=2, step=1), 'min_samples_split': IntDistribution(high=40, log=False, low=2, step=1), 'min_samples_leaf': IntDistribution(high=20, log=False, low=1, step=1), 'max_leaf_nodes': IntDistribution(high=70, log=False, low=3, step=1)}, trial_id=78, value=None)\n"
     ]
    }
   ],
   "source": [
    "random_forest_scaled_result = optimize_hyperparameters('random_forest', X_scaled_train, y_train, n_trials=100)\n",
    "print(random_forest_scaled_result)"
   ]
  },
  {
   "cell_type": "code",
   "execution_count": 19,
   "metadata": {},
   "outputs": [
    {
     "data": {
      "text/plain": [
       "{'n_estimators': 930,\n",
       " 'max_depth': 48,\n",
       " 'min_samples_split': 8,\n",
       " 'min_samples_leaf': 2,\n",
       " 'max_leaf_nodes': 66}"
      ]
     },
     "execution_count": 19,
     "metadata": {},
     "output_type": "execute_result"
    }
   ],
   "source": [
    "random_forest_scaled_result.params"
   ]
  },
  {
   "cell_type": "code",
   "execution_count": 20,
   "metadata": {},
   "outputs": [
    {
     "data": {
      "text/plain": [
       "0.9474285714285713"
      ]
     },
     "execution_count": 20,
     "metadata": {},
     "output_type": "execute_result"
    }
   ],
   "source": [
    "random_forest_scaled_result.value"
   ]
  },
  {
   "cell_type": "code",
   "execution_count": 21,
   "metadata": {},
   "outputs": [
    {
     "data": {
      "text/plain": [
       "0.9383561643835616"
      ]
     },
     "execution_count": 21,
     "metadata": {},
     "output_type": "execute_result"
    }
   ],
   "source": [
    "best_random_forest_model_scaled = RandomForestClassifier(**random_forest_scaled_result.params)\n",
    "best_random_forest_model_scaled.fit(X_scaled_train, y_train)\n",
    "best_random_forest_model_scaled.score(X_scaled_test, y_test)"
   ]
  },
  {
   "cell_type": "markdown",
   "metadata": {},
   "source": [
    "#### PCA"
   ]
  },
  {
   "cell_type": "code",
   "execution_count": 14,
   "metadata": {},
   "outputs": [
    {
     "name": "stderr",
     "output_type": "stream",
     "text": [
      "[I 2024-02-08 19:25:23,775] A new study created in memory with name: no-name-0e5cce60-cd4e-4ef4-95cc-f937edbe52c3\n",
      "[I 2024-02-08 19:25:33,078] Trial 2 finished with value: 0.8154285714285715 and parameters: {'n_estimators': 851, 'max_depth': 19, 'min_samples_split': 36, 'min_samples_leaf': 16, 'max_leaf_nodes': 6}. Best is trial 2 with value: 0.8154285714285715.\n",
      "[I 2024-02-08 19:25:40,092] Trial 0 finished with value: 0.8794285714285713 and parameters: {'n_estimators': 493, 'max_depth': 18, 'min_samples_split': 23, 'min_samples_leaf': 5, 'max_leaf_nodes': 60}. Best is trial 0 with value: 0.8794285714285713.\n",
      "[I 2024-02-08 19:25:50,838] Trial 1 finished with value: 0.8565714285714285 and parameters: {'n_estimators': 960, 'max_depth': 10, 'min_samples_split': 30, 'min_samples_leaf': 19, 'max_leaf_nodes': 48}. Best is trial 0 with value: 0.8794285714285713.\n",
      "[I 2024-02-08 19:25:53,375] Trial 7 finished with value: 0.8639999999999999 and parameters: {'n_estimators': 394, 'max_depth': 36, 'min_samples_split': 33, 'min_samples_leaf': 14, 'max_leaf_nodes': 52}. Best is trial 0 with value: 0.8794285714285713.\n",
      "[I 2024-02-08 19:26:06,606] Trial 5 finished with value: 0.8811428571428571 and parameters: {'n_estimators': 979, 'max_depth': 35, 'min_samples_split': 39, 'min_samples_leaf': 5, 'max_leaf_nodes': 52}. Best is trial 5 with value: 0.8811428571428571.\n",
      "[I 2024-02-08 19:26:13,828] Trial 11 finished with value: 0.8571428571428571 and parameters: {'n_estimators': 689, 'max_depth': 53, 'min_samples_split': 17, 'min_samples_leaf': 3, 'max_leaf_nodes': 16}. Best is trial 5 with value: 0.8811428571428571.\n",
      "[I 2024-02-08 19:26:25,252] Trial 9 finished with value: 0.862857142857143 and parameters: {'n_estimators': 926, 'max_depth': 20, 'min_samples_split': 31, 'min_samples_leaf': 16, 'max_leaf_nodes': 41}. Best is trial 5 with value: 0.8811428571428571.\n",
      "[I 2024-02-08 19:26:29,059] Trial 6 finished with value: 0.7937142857142858 and parameters: {'n_estimators': 951, 'max_depth': 2, 'min_samples_split': 37, 'min_samples_leaf': 6, 'max_leaf_nodes': 25}. Best is trial 5 with value: 0.8811428571428571.\n",
      "[I 2024-02-08 19:26:35,557] Trial 3 finished with value: 0.8719999999999999 and parameters: {'n_estimators': 717, 'max_depth': 8, 'min_samples_split': 7, 'min_samples_leaf': 6, 'max_leaf_nodes': 50}. Best is trial 5 with value: 0.8811428571428571.\n",
      "[I 2024-02-08 19:26:35,794] Trial 10 finished with value: 0.8457142857142858 and parameters: {'n_estimators': 236, 'max_depth': 62, 'min_samples_split': 2, 'min_samples_leaf': 19, 'max_leaf_nodes': 16}. Best is trial 5 with value: 0.8811428571428571.\n",
      "[I 2024-02-08 19:26:41,019] Trial 8 finished with value: 0.8651428571428573 and parameters: {'n_estimators': 373, 'max_depth': 63, 'min_samples_split': 33, 'min_samples_leaf': 14, 'max_leaf_nodes': 61}. Best is trial 5 with value: 0.8811428571428571.\n",
      "[I 2024-02-08 19:26:48,203] Trial 12 finished with value: 0.8628571428571428 and parameters: {'n_estimators': 107, 'max_depth': 57, 'min_samples_split': 39, 'min_samples_leaf': 11, 'max_leaf_nodes': 45}. Best is trial 5 with value: 0.8811428571428571.\n",
      "[I 2024-02-08 19:26:50,750] Trial 4 finished with value: 0.8719999999999999 and parameters: {'n_estimators': 660, 'max_depth': 33, 'min_samples_split': 31, 'min_samples_leaf': 7, 'max_leaf_nodes': 59}. Best is trial 5 with value: 0.8811428571428571.\n",
      "[I 2024-02-08 19:26:56,476] Trial 13 finished with value: 0.8582857142857142 and parameters: {'n_estimators': 486, 'max_depth': 45, 'min_samples_split': 24, 'min_samples_leaf': 15, 'max_leaf_nodes': 48}. Best is trial 5 with value: 0.8811428571428571.\n",
      "[I 2024-02-08 19:27:04,569] Trial 15 finished with value: 0.8742857142857142 and parameters: {'n_estimators': 245, 'max_depth': 33, 'min_samples_split': 6, 'min_samples_leaf': 3, 'max_leaf_nodes': 40}. Best is trial 5 with value: 0.8811428571428571.\n",
      "[I 2024-02-08 19:27:05,566] Trial 14 finished with value: 0.836 and parameters: {'n_estimators': 801, 'max_depth': 4, 'min_samples_split': 5, 'min_samples_leaf': 2, 'max_leaf_nodes': 39}. Best is trial 5 with value: 0.8811428571428571.\n",
      "[I 2024-02-08 19:27:07,947] Trial 16 finished with value: 0.8845714285714287 and parameters: {'n_estimators': 260, 'max_depth': 24, 'min_samples_split': 25, 'min_samples_leaf': 3, 'max_leaf_nodes': 65}. Best is trial 16 with value: 0.8845714285714287.\n",
      "[I 2024-02-08 19:27:21,874] Trial 17 finished with value: 0.878857142857143 and parameters: {'n_estimators': 927, 'max_depth': 36, 'min_samples_split': 18, 'min_samples_leaf': 5, 'max_leaf_nodes': 51}. Best is trial 16 with value: 0.8845714285714287.\n",
      "[I 2024-02-08 19:27:23,253] Trial 18 finished with value: 0.8342857142857143 and parameters: {'n_estimators': 368, 'max_depth': 26, 'min_samples_split': 24, 'min_samples_leaf': 1, 'max_leaf_nodes': 10}. Best is trial 16 with value: 0.8845714285714287.\n",
      "[I 2024-02-08 19:27:34,417] Trial 19 finished with value: 0.8719999999999999 and parameters: {'n_estimators': 786, 'max_depth': 57, 'min_samples_split': 36, 'min_samples_leaf': 5, 'max_leaf_nodes': 35}. Best is trial 16 with value: 0.8845714285714287.\n",
      "[I 2024-02-08 19:27:35,095] Trial 20 finished with value: 0.8525714285714285 and parameters: {'n_estimators': 247, 'max_depth': 14, 'min_samples_split': 4, 'min_samples_leaf': 17, 'max_leaf_nodes': 39}. Best is trial 16 with value: 0.8845714285714287.\n",
      "[I 2024-02-08 19:27:35,879] Trial 21 finished with value: 0.8662857142857143 and parameters: {'n_estimators': 117, 'max_depth': 42, 'min_samples_split': 22, 'min_samples_leaf': 10, 'max_leaf_nodes': 65}. Best is trial 16 with value: 0.8845714285714287.\n",
      "[I 2024-02-08 19:27:45,754] Trial 22 finished with value: 0.8868571428571428 and parameters: {'n_estimators': 534, 'max_depth': 36, 'min_samples_split': 20, 'min_samples_leaf': 1, 'max_leaf_nodes': 70}. Best is trial 22 with value: 0.8868571428571428.\n",
      "[I 2024-02-08 19:27:54,982] Trial 23 finished with value: 0.892 and parameters: {'n_estimators': 541, 'max_depth': 37, 'min_samples_split': 23, 'min_samples_leaf': 1, 'max_leaf_nodes': 70}. Best is trial 23 with value: 0.892.\n",
      "[I 2024-02-08 19:28:01,429] Trial 24 finished with value: 0.8800000000000001 and parameters: {'n_estimators': 490, 'max_depth': 46, 'min_samples_split': 22, 'min_samples_leaf': 1, 'max_leaf_nodes': 68}. Best is trial 23 with value: 0.892.\n",
      "[I 2024-02-08 19:28:10,750] Trial 25 finished with value: 0.8891428571428571 and parameters: {'n_estimators': 556, 'max_depth': 26, 'min_samples_split': 17, 'min_samples_leaf': 1, 'max_leaf_nodes': 66}. Best is trial 23 with value: 0.892.\n",
      "[I 2024-02-08 19:28:16,591] Trial 26 finished with value: 0.8765714285714286 and parameters: {'n_estimators': 568, 'max_depth': 25, 'min_samples_split': 20, 'min_samples_leaf': 9, 'max_leaf_nodes': 70}. Best is trial 23 with value: 0.892.\n",
      "[I 2024-02-08 19:28:23,383] Trial 27 finished with value: 0.876 and parameters: {'n_estimators': 556, 'max_depth': 23, 'min_samples_split': 16, 'min_samples_leaf': 9, 'max_leaf_nodes': 67}. Best is trial 23 with value: 0.892.\n",
      "[I 2024-02-08 19:28:30,598] Trial 28 finished with value: 0.8737142857142857 and parameters: {'n_estimators': 570, 'max_depth': 27, 'min_samples_split': 13, 'min_samples_leaf': 9, 'max_leaf_nodes': 68}. Best is trial 23 with value: 0.892.\n",
      "[I 2024-02-08 19:28:35,962] Trial 30 finished with value: 0.8657142857142857 and parameters: {'n_estimators': 110, 'max_depth': 47, 'min_samples_split': 13, 'min_samples_leaf': 9, 'max_leaf_nodes': 70}. Best is trial 23 with value: 0.892.\n",
      "[I 2024-02-08 19:28:37,536] Trial 29 finished with value: 0.877142857142857 and parameters: {'n_estimators': 590, 'max_depth': 26, 'min_samples_split': 12, 'min_samples_leaf': 9, 'max_leaf_nodes': 70}. Best is trial 23 with value: 0.892.\n",
      "[I 2024-02-08 19:28:45,159] Trial 31 finished with value: 0.8742857142857142 and parameters: {'n_estimators': 562, 'max_depth': 44, 'min_samples_split': 13, 'min_samples_leaf': 9, 'max_leaf_nodes': 70}. Best is trial 23 with value: 0.892.\n",
      "[I 2024-02-08 19:28:53,043] Trial 32 finished with value: 0.8811428571428571 and parameters: {'n_estimators': 555, 'max_depth': 25, 'min_samples_split': 15, 'min_samples_leaf': 9, 'max_leaf_nodes': 69}. Best is trial 23 with value: 0.892.\n",
      "[I 2024-02-08 19:29:00,799] Trial 33 finished with value: 0.8720000000000001 and parameters: {'n_estimators': 577, 'max_depth': 23, 'min_samples_split': 11, 'min_samples_leaf': 9, 'max_leaf_nodes': 70}. Best is trial 23 with value: 0.892.\n",
      "[I 2024-02-08 19:29:10,715] Trial 34 finished with value: 0.8800000000000001 and parameters: {'n_estimators': 589, 'max_depth': 27, 'min_samples_split': 13, 'min_samples_leaf': 8, 'max_leaf_nodes': 70}. Best is trial 23 with value: 0.892.\n",
      "[I 2024-02-08 19:29:21,217] Trial 35 finished with value: 0.8862857142857143 and parameters: {'n_estimators': 594, 'max_depth': 28, 'min_samples_split': 14, 'min_samples_leaf': 1, 'max_leaf_nodes': 70}. Best is trial 23 with value: 0.892.\n",
      "[I 2024-02-08 19:29:26,800] Trial 36 finished with value: 0.876 and parameters: {'n_estimators': 616, 'max_depth': 26, 'min_samples_split': 14, 'min_samples_leaf': 8, 'max_leaf_nodes': 69}. Best is trial 23 with value: 0.892.\n",
      "[I 2024-02-08 19:29:32,853] Trial 37 finished with value: 0.8708571428571428 and parameters: {'n_estimators': 606, 'max_depth': 28, 'min_samples_split': 13, 'min_samples_leaf': 8, 'max_leaf_nodes': 70}. Best is trial 23 with value: 0.892.\n",
      "[I 2024-02-08 19:29:41,630] Trial 38 finished with value: 0.8799999999999999 and parameters: {'n_estimators': 595, 'max_depth': 70, 'min_samples_split': 13, 'min_samples_leaf': 1, 'max_leaf_nodes': 56}. Best is trial 23 with value: 0.892.\n",
      "[I 2024-02-08 19:29:48,123] Trial 39 finished with value: 0.8788571428571428 and parameters: {'n_estimators': 616, 'max_depth': 29, 'min_samples_split': 12, 'min_samples_leaf': 1, 'max_leaf_nodes': 57}. Best is trial 23 with value: 0.892.\n",
      "[I 2024-02-08 19:29:58,621] Trial 40 finished with value: 0.8788571428571428 and parameters: {'n_estimators': 635, 'max_depth': 40, 'min_samples_split': 13, 'min_samples_leaf': 1, 'max_leaf_nodes': 58}. Best is trial 23 with value: 0.892.\n",
      "[I 2024-02-08 19:30:07,540] Trial 41 finished with value: 0.8862857142857143 and parameters: {'n_estimators': 627, 'max_depth': 30, 'min_samples_split': 27, 'min_samples_leaf': 1, 'max_leaf_nodes': 58}. Best is trial 23 with value: 0.892.\n",
      "[I 2024-02-08 19:30:12,983] Trial 42 finished with value: 0.8885714285714286 and parameters: {'n_estimators': 459, 'max_depth': 40, 'min_samples_split': 26, 'min_samples_leaf': 3, 'max_leaf_nodes': 59}. Best is trial 23 with value: 0.892.\n",
      "[I 2024-02-08 19:30:15,417] Trial 43 finished with value: 0.8765714285714286 and parameters: {'n_estimators': 313, 'max_depth': 29, 'min_samples_split': 27, 'min_samples_leaf': 3, 'max_leaf_nodes': 58}. Best is trial 23 with value: 0.892.\n",
      "[I 2024-02-08 19:30:26,064] Trial 44 finished with value: 0.8834285714285712 and parameters: {'n_estimators': 625, 'max_depth': 41, 'min_samples_split': 27, 'min_samples_leaf': 3, 'max_leaf_nodes': 59}. Best is trial 23 with value: 0.892.\n",
      "[I 2024-02-08 19:30:29,329] Trial 45 finished with value: 0.8834285714285715 and parameters: {'n_estimators': 444, 'max_depth': 41, 'min_samples_split': 27, 'min_samples_leaf': 3, 'max_leaf_nodes': 61}. Best is trial 23 with value: 0.892.\n",
      "[I 2024-02-08 19:30:36,853] Trial 46 finished with value: 0.8817142857142857 and parameters: {'n_estimators': 462, 'max_depth': 31, 'min_samples_split': 27, 'min_samples_leaf': 3, 'max_leaf_nodes': 57}. Best is trial 23 with value: 0.892.\n",
      "[I 2024-02-08 19:30:43,478] Trial 47 finished with value: 0.885142857142857 and parameters: {'n_estimators': 447, 'max_depth': 40, 'min_samples_split': 27, 'min_samples_leaf': 2, 'max_leaf_nodes': 58}. Best is trial 23 with value: 0.892.\n",
      "[I 2024-02-08 19:30:49,382] Trial 48 finished with value: 0.8811428571428571 and parameters: {'n_estimators': 428, 'max_depth': 40, 'min_samples_split': 27, 'min_samples_leaf': 2, 'max_leaf_nodes': 57}. Best is trial 23 with value: 0.892.\n",
      "[I 2024-02-08 19:30:55,718] Trial 49 finished with value: 0.8805714285714284 and parameters: {'n_estimators': 449, 'max_depth': 31, 'min_samples_split': 27, 'min_samples_leaf': 2, 'max_leaf_nodes': 58}. Best is trial 23 with value: 0.892.\n",
      "[I 2024-02-08 19:31:00,002] Trial 50 finished with value: 0.8862857142857143 and parameters: {'n_estimators': 468, 'max_depth': 40, 'min_samples_split': 27, 'min_samples_leaf': 4, 'max_leaf_nodes': 61}. Best is trial 23 with value: 0.892.\n",
      "[I 2024-02-08 19:31:06,064] Trial 51 finished with value: 0.8800000000000001 and parameters: {'n_estimators': 409, 'max_depth': 39, 'min_samples_split': 9, 'min_samples_leaf': 4, 'max_leaf_nodes': 62}. Best is trial 23 with value: 0.892.\n",
      "[I 2024-02-08 19:31:12,192] Trial 52 finished with value: 0.885142857142857 and parameters: {'n_estimators': 416, 'max_depth': 16, 'min_samples_split': 27, 'min_samples_leaf': 3, 'max_leaf_nodes': 63}. Best is trial 23 with value: 0.892.\n",
      "[I 2024-02-08 19:31:19,326] Trial 53 finished with value: 0.8862857142857143 and parameters: {'n_estimators': 435, 'max_depth': 32, 'min_samples_split': 26, 'min_samples_leaf': 4, 'max_leaf_nodes': 62}. Best is trial 23 with value: 0.892.\n",
      "[I 2024-02-08 19:31:23,368] Trial 54 finished with value: 0.8845714285714287 and parameters: {'n_estimators': 440, 'max_depth': 40, 'min_samples_split': 9, 'min_samples_leaf': 4, 'max_leaf_nodes': 62}. Best is trial 23 with value: 0.892.\n",
      "[I 2024-02-08 19:31:28,863] Trial 55 finished with value: 0.884 and parameters: {'n_estimators': 444, 'max_depth': 39, 'min_samples_split': 19, 'min_samples_leaf': 4, 'max_leaf_nodes': 62}. Best is trial 23 with value: 0.892.\n",
      "[I 2024-02-08 19:31:35,844] Trial 56 finished with value: 0.8851428571428572 and parameters: {'n_estimators': 441, 'max_depth': 38, 'min_samples_split': 19, 'min_samples_leaf': 4, 'max_leaf_nodes': 63}. Best is trial 23 with value: 0.892.\n",
      "[I 2024-02-08 19:31:40,506] Trial 57 finished with value: 0.8782857142857143 and parameters: {'n_estimators': 432, 'max_depth': 38, 'min_samples_split': 19, 'min_samples_leaf': 4, 'max_leaf_nodes': 64}. Best is trial 23 with value: 0.892.\n",
      "[I 2024-02-08 19:31:51,060] Trial 58 finished with value: 0.8834285714285715 and parameters: {'n_estimators': 709, 'max_depth': 38, 'min_samples_split': 9, 'min_samples_leaf': 4, 'max_leaf_nodes': 63}. Best is trial 23 with value: 0.892.\n",
      "[I 2024-02-08 19:31:58,751] Trial 59 finished with value: 0.8845714285714286 and parameters: {'n_estimators': 519, 'max_depth': 37, 'min_samples_split': 20, 'min_samples_leaf': 4, 'max_leaf_nodes': 64}. Best is trial 23 with value: 0.892.\n",
      "[I 2024-02-08 19:32:06,390] Trial 60 finished with value: 0.8777142857142858 and parameters: {'n_estimators': 512, 'max_depth': 17, 'min_samples_split': 19, 'min_samples_leaf': 4, 'max_leaf_nodes': 64}. Best is trial 23 with value: 0.892.\n",
      "[I 2024-02-08 19:32:12,873] Trial 61 finished with value: 0.8822857142857143 and parameters: {'n_estimators': 523, 'max_depth': 16, 'min_samples_split': 9, 'min_samples_leaf': 4, 'max_leaf_nodes': 63}. Best is trial 23 with value: 0.892.\n",
      "[I 2024-02-08 19:32:25,724] Trial 62 finished with value: 0.8868571428571428 and parameters: {'n_estimators': 705, 'max_depth': 36, 'min_samples_split': 19, 'min_samples_leaf': 4, 'max_leaf_nodes': 63}. Best is trial 23 with value: 0.892.\n",
      "[I 2024-02-08 19:32:27,621] Trial 63 finished with value: 0.892 and parameters: {'n_estimators': 517, 'max_depth': 18, 'min_samples_split': 19, 'min_samples_leaf': 2, 'max_leaf_nodes': 64}. Best is trial 23 with value: 0.892.\n",
      "[I 2024-02-08 19:32:35,276] Trial 64 finished with value: 0.8800000000000001 and parameters: {'n_estimators': 515, 'max_depth': 36, 'min_samples_split': 19, 'min_samples_leaf': 6, 'max_leaf_nodes': 65}. Best is trial 23 with value: 0.892.\n",
      "[I 2024-02-08 19:32:43,916] Trial 65 finished with value: 0.8788571428571428 and parameters: {'n_estimators': 518, 'max_depth': 36, 'min_samples_split': 20, 'min_samples_leaf': 6, 'max_leaf_nodes': 65}. Best is trial 23 with value: 0.892.\n",
      "[I 2024-02-08 19:32:50,453] Trial 66 finished with value: 0.8828571428571428 and parameters: {'n_estimators': 520, 'max_depth': 35, 'min_samples_split': 19, 'min_samples_leaf': 2, 'max_leaf_nodes': 65}. Best is trial 23 with value: 0.892.\n",
      "[I 2024-02-08 19:32:58,041] Trial 67 finished with value: 0.8822857142857142 and parameters: {'n_estimators': 519, 'max_depth': 36, 'min_samples_split': 30, 'min_samples_leaf': 2, 'max_leaf_nodes': 65}. Best is trial 23 with value: 0.892.\n",
      "[I 2024-02-08 19:33:05,406] Trial 68 finished with value: 0.8885714285714286 and parameters: {'n_estimators': 509, 'max_depth': 49, 'min_samples_split': 32, 'min_samples_leaf': 2, 'max_leaf_nodes': 66}. Best is trial 23 with value: 0.892.\n",
      "[I 2024-02-08 19:33:13,043] Trial 69 finished with value: 0.8811428571428571 and parameters: {'n_estimators': 711, 'max_depth': 20, 'min_samples_split': 30, 'min_samples_leaf': 6, 'max_leaf_nodes': 66}. Best is trial 23 with value: 0.892.\n",
      "[I 2024-02-08 19:33:19,466] Trial 70 finished with value: 0.8788571428571428 and parameters: {'n_estimators': 516, 'max_depth': 20, 'min_samples_split': 31, 'min_samples_leaf': 6, 'max_leaf_nodes': 54}. Best is trial 23 with value: 0.892.\n",
      "[I 2024-02-08 19:33:26,046] Trial 71 finished with value: 0.8668571428571429 and parameters: {'n_estimators': 517, 'max_depth': 20, 'min_samples_split': 31, 'min_samples_leaf': 12, 'max_leaf_nodes': 54}. Best is trial 23 with value: 0.892.\n",
      "[I 2024-02-08 19:33:35,509] Trial 72 finished with value: 0.8817142857142857 and parameters: {'n_estimators': 657, 'max_depth': 50, 'min_samples_split': 32, 'min_samples_leaf': 6, 'max_leaf_nodes': 54}. Best is trial 23 with value: 0.892.\n",
      "[I 2024-02-08 19:33:46,038] Trial 73 finished with value: 0.8765714285714287 and parameters: {'n_estimators': 664, 'max_depth': 49, 'min_samples_split': 31, 'min_samples_leaf': 6, 'max_leaf_nodes': 54}. Best is trial 23 with value: 0.892.\n",
      "[I 2024-02-08 19:33:51,642] Trial 74 finished with value: 0.884 and parameters: {'n_estimators': 666, 'max_depth': 34, 'min_samples_split': 29, 'min_samples_leaf': 2, 'max_leaf_nodes': 54}. Best is trial 23 with value: 0.892.\n",
      "[I 2024-02-08 19:34:01,643] Trial 75 finished with value: 0.8662857142857143 and parameters: {'n_estimators': 740, 'max_depth': 34, 'min_samples_split': 23, 'min_samples_leaf': 12, 'max_leaf_nodes': 54}. Best is trial 23 with value: 0.892.\n",
      "[I 2024-02-08 19:34:11,985] Trial 76 finished with value: 0.8834285714285715 and parameters: {'n_estimators': 751, 'max_depth': 20, 'min_samples_split': 17, 'min_samples_leaf': 2, 'max_leaf_nodes': 54}. Best is trial 23 with value: 0.892.\n",
      "[I 2024-02-08 19:34:22,849] Trial 77 finished with value: 0.8725714285714286 and parameters: {'n_estimators': 780, 'max_depth': 21, 'min_samples_split': 17, 'min_samples_leaf': 12, 'max_leaf_nodes': 54}. Best is trial 23 with value: 0.892.\n",
      "[I 2024-02-08 19:34:30,564] Trial 78 finished with value: 0.8668571428571429 and parameters: {'n_estimators': 757, 'max_depth': 20, 'min_samples_split': 17, 'min_samples_leaf': 13, 'max_leaf_nodes': 53}. Best is trial 23 with value: 0.892.\n",
      "[I 2024-02-08 19:34:38,484] Trial 79 finished with value: 0.8685714285714287 and parameters: {'n_estimators': 759, 'max_depth': 21, 'min_samples_split': 17, 'min_samples_leaf': 13, 'max_leaf_nodes': 54}. Best is trial 23 with value: 0.892.\n",
      "[I 2024-02-08 19:34:49,195] Trial 80 finished with value: 0.8897142857142857 and parameters: {'n_estimators': 669, 'max_depth': 49, 'min_samples_split': 23, 'min_samples_leaf': 2, 'max_leaf_nodes': 67}. Best is trial 23 with value: 0.892.\n",
      "[I 2024-02-08 19:34:50,938] Trial 81 finished with value: 0.8805714285714286 and parameters: {'n_estimators': 360, 'max_depth': 50, 'min_samples_split': 22, 'min_samples_leaf': 2, 'max_leaf_nodes': 54}. Best is trial 23 with value: 0.892.\n",
      "[I 2024-02-08 19:34:55,868] Trial 82 finished with value: 0.8651428571428571 and parameters: {'n_estimators': 359, 'max_depth': 51, 'min_samples_split': 17, 'min_samples_leaf': 12, 'max_leaf_nodes': 67}. Best is trial 23 with value: 0.892.\n",
      "[I 2024-02-08 19:35:03,508] Trial 83 finished with value: 0.8685714285714285 and parameters: {'n_estimators': 679, 'max_depth': 52, 'min_samples_split': 17, 'min_samples_leaf': 1, 'max_leaf_nodes': 28}. Best is trial 23 with value: 0.892.\n",
      "[I 2024-02-08 19:35:15,882] Trial 84 finished with value: 0.8822857142857142 and parameters: {'n_estimators': 773, 'max_depth': 48, 'min_samples_split': 17, 'min_samples_leaf': 1, 'max_leaf_nodes': 67}. Best is trial 23 with value: 0.892.\n",
      "[I 2024-02-08 19:35:24,932] Trial 85 finished with value: 0.869142857142857 and parameters: {'n_estimators': 767, 'max_depth': 8, 'min_samples_split': 16, 'min_samples_leaf': 1, 'max_leaf_nodes': 30}. Best is trial 23 with value: 0.892.\n",
      "[I 2024-02-08 19:35:36,646] Trial 86 finished with value: 0.8817142857142857 and parameters: {'n_estimators': 778, 'max_depth': 43, 'min_samples_split': 17, 'min_samples_leaf': 1, 'max_leaf_nodes': 67}. Best is trial 23 with value: 0.892.\n",
      "[I 2024-02-08 19:35:44,911] Trial 87 finished with value: 0.8605714285714285 and parameters: {'n_estimators': 874, 'max_depth': 7, 'min_samples_split': 17, 'min_samples_leaf': 1, 'max_leaf_nodes': 29}. Best is trial 23 with value: 0.892.\n",
      "[I 2024-02-08 19:35:54,201] Trial 88 finished with value: 0.8645714285714285 and parameters: {'n_estimators': 817, 'max_depth': 9, 'min_samples_split': 22, 'min_samples_leaf': 1, 'max_leaf_nodes': 27}. Best is trial 23 with value: 0.892.\n",
      "[I 2024-02-08 19:35:54,788] Trial 89 finished with value: 0.8668571428571429 and parameters: {'n_estimators': 367, 'max_depth': 10, 'min_samples_split': 35, 'min_samples_leaf': 1, 'max_leaf_nodes': 28}. Best is trial 23 with value: 0.892.\n",
      "[I 2024-02-08 19:36:08,643] Trial 90 finished with value: 0.8880000000000001 and parameters: {'n_estimators': 869, 'max_depth': 11, 'min_samples_split': 22, 'min_samples_leaf': 1, 'max_leaf_nodes': 67}. Best is trial 23 with value: 0.892.\n",
      "[I 2024-02-08 19:36:14,618] Trial 91 finished with value: 0.8857142857142858 and parameters: {'n_estimators': 477, 'max_depth': 11, 'min_samples_split': 22, 'min_samples_leaf': 1, 'max_leaf_nodes': 67}. Best is trial 23 with value: 0.892.\n",
      "[I 2024-02-08 19:36:18,512] Trial 92 finished with value: 0.8760000000000001 and parameters: {'n_estimators': 374, 'max_depth': 10, 'min_samples_split': 22, 'min_samples_leaf': 1, 'max_leaf_nodes': 67}. Best is trial 23 with value: 0.892.\n",
      "[I 2024-02-08 19:36:30,991] Trial 93 finished with value: 0.892 and parameters: {'n_estimators': 840, 'max_depth': 43, 'min_samples_split': 24, 'min_samples_leaf': 1, 'max_leaf_nodes': 67}. Best is trial 23 with value: 0.892.\n",
      "[I 2024-02-08 19:36:43,744] Trial 94 finished with value: 0.8799999999999999 and parameters: {'n_estimators': 827, 'max_depth': 10, 'min_samples_split': 24, 'min_samples_leaf': 1, 'max_leaf_nodes': 67}. Best is trial 23 with value: 0.892.\n",
      "[I 2024-02-08 19:36:49,015] Trial 95 finished with value: 0.8834285714285715 and parameters: {'n_estimators': 480, 'max_depth': 55, 'min_samples_split': 34, 'min_samples_leaf': 1, 'max_leaf_nodes': 67}. Best is trial 23 with value: 0.892.\n",
      "[I 2024-02-08 19:36:55,830] Trial 96 finished with value: 0.8754285714285714 and parameters: {'n_estimators': 490, 'max_depth': 11, 'min_samples_split': 24, 'min_samples_leaf': 1, 'max_leaf_nodes': 47}. Best is trial 23 with value: 0.892.\n",
      "[I 2024-02-08 19:37:04,346] Trial 97 finished with value: 0.8777142857142856 and parameters: {'n_estimators': 543, 'max_depth': 55, 'min_samples_split': 36, 'min_samples_leaf': 1, 'max_leaf_nodes': 44}. Best is trial 23 with value: 0.892.\n",
      "[I 2024-02-08 19:37:08,110] Trial 98 finished with value: 0.8862857142857143 and parameters: {'n_estimators': 551, 'max_depth': 54, 'min_samples_split': 24, 'min_samples_leaf': 3, 'max_leaf_nodes': 68}. Best is trial 23 with value: 0.892.\n",
      "[I 2024-02-08 19:37:13,257] Trial 99 finished with value: 0.8851428571428572 and parameters: {'n_estimators': 547, 'max_depth': 58, 'min_samples_split': 36, 'min_samples_leaf': 5, 'max_leaf_nodes': 47}. Best is trial 23 with value: 0.892.\n"
     ]
    },
    {
     "name": "stdout",
     "output_type": "stream",
     "text": [
      "FrozenTrial(number=23, state=1, values=[0.892], datetime_start=datetime.datetime(2024, 2, 8, 19, 26, 48, 204342), datetime_complete=datetime.datetime(2024, 2, 8, 19, 27, 54, 981862), params={'n_estimators': 541, 'max_depth': 37, 'min_samples_split': 23, 'min_samples_leaf': 1, 'max_leaf_nodes': 70}, user_attrs={}, system_attrs={}, intermediate_values={}, distributions={'n_estimators': IntDistribution(high=1000, log=False, low=100, step=1), 'max_depth': IntDistribution(high=70, log=False, low=2, step=1), 'min_samples_split': IntDistribution(high=40, log=False, low=2, step=1), 'min_samples_leaf': IntDistribution(high=20, log=False, low=1, step=1), 'max_leaf_nodes': IntDistribution(high=70, log=False, low=3, step=1)}, trial_id=23, value=None)\n"
     ]
    }
   ],
   "source": [
    "random_forest_pca_result = optimize_hyperparameters('random_forest', X_pca_train, y_train, n_trials=100)\n",
    "print(random_forest_pca_result)"
   ]
  },
  {
   "cell_type": "code",
   "execution_count": 15,
   "metadata": {},
   "outputs": [
    {
     "data": {
      "text/plain": [
       "{'n_estimators': 541,\n",
       " 'max_depth': 37,\n",
       " 'min_samples_split': 23,\n",
       " 'min_samples_leaf': 1,\n",
       " 'max_leaf_nodes': 70}"
      ]
     },
     "execution_count": 15,
     "metadata": {},
     "output_type": "execute_result"
    }
   ],
   "source": [
    "random_forest_pca_result.params"
   ]
  },
  {
   "cell_type": "code",
   "execution_count": 16,
   "metadata": {},
   "outputs": [
    {
     "data": {
      "text/plain": [
       "0.892"
      ]
     },
     "execution_count": 16,
     "metadata": {},
     "output_type": "execute_result"
    }
   ],
   "source": [
    "random_forest_pca_result.value"
   ]
  },
  {
   "cell_type": "code",
   "execution_count": 17,
   "metadata": {},
   "outputs": [
    {
     "data": {
      "text/plain": [
       "0.8972602739726028"
      ]
     },
     "execution_count": 17,
     "metadata": {},
     "output_type": "execute_result"
    }
   ],
   "source": [
    "best_random_forest_model_pca = RandomForestClassifier(**random_forest_pca_result.params)\n",
    "best_random_forest_model_pca.fit(X_pca_train, y_train)\n",
    "best_random_forest_model_pca.score(X_pca_test, y_test)"
   ]
  },
  {
   "cell_type": "markdown",
   "metadata": {},
   "source": [
    "### SVM"
   ]
  },
  {
   "cell_type": "markdown",
   "metadata": {},
   "source": [
    "#### Full images"
   ]
  },
  {
   "cell_type": "code",
   "execution_count": null,
   "metadata": {},
   "outputs": [],
   "source": [
    "svm_result = optimize_hyperparameters('svm', X_train, y_train, n_trials=100)\n",
    "print(svm_result)"
   ]
  },
  {
   "cell_type": "code",
   "execution_count": null,
   "metadata": {},
   "outputs": [],
   "source": [
    "svm_result.params"
   ]
  },
  {
   "cell_type": "code",
   "execution_count": null,
   "metadata": {},
   "outputs": [],
   "source": [
    "svm_result.value"
   ]
  },
  {
   "cell_type": "code",
   "execution_count": null,
   "metadata": {},
   "outputs": [],
   "source": [
    "best_svm_model = SVC(**svm_result.params)\n",
    "best_svm_model.fit(X_train, y_train)\n",
    "best_svm_model.score(X_test, y_test)"
   ]
  },
  {
   "cell_type": "markdown",
   "metadata": {},
   "source": [
    "#### Scaled images"
   ]
  },
  {
   "cell_type": "code",
   "execution_count": null,
   "metadata": {},
   "outputs": [],
   "source": [
    "svm_scaled_result = optimize_hyperparameters('svm', X_scaled_train, y_train, n_trials=100)\n",
    "print(svm_scaled_result)"
   ]
  },
  {
   "cell_type": "code",
   "execution_count": null,
   "metadata": {},
   "outputs": [],
   "source": [
    "svm_scaled_result.params"
   ]
  },
  {
   "cell_type": "code",
   "execution_count": null,
   "metadata": {},
   "outputs": [],
   "source": [
    "svm_scaled_result.value"
   ]
  },
  {
   "cell_type": "code",
   "execution_count": null,
   "metadata": {},
   "outputs": [],
   "source": [
    "best_svm_model_scaled = SVC(**svm_scaled_result.params)\n",
    "best_svm_model_scaled.fit(X_scaled_train, y_train)\n",
    "best_svm_model_scaled.score(X_scaled_test, y_test)"
   ]
  },
  {
   "cell_type": "markdown",
   "metadata": {},
   "source": [
    "#### PCA"
   ]
  },
  {
   "cell_type": "code",
   "execution_count": 10,
   "metadata": {},
   "outputs": [
    {
     "name": "stderr",
     "output_type": "stream",
     "text": [
      "[I 2024-02-08 22:40:27,375] A new study created in memory with name: no-name-e4f9e142-6f14-45eb-ae56-40339c41ded4\n",
      "[I 2024-02-08 22:40:29,354] Trial 2 finished with value: 0.8954285714285714 and parameters: {'C': 10.465966431799071, 'kernel': 'poly', 'gamma': 0.7425179121149845, 'degree': 3}. Best is trial 2 with value: 0.8954285714285714.\n",
      "[I 2024-02-08 22:40:30,173] Trial 1 finished with value: 0.909142857142857 and parameters: {'C': 58.10243405987361, 'kernel': 'poly', 'gamma': 0.23108148975046872, 'degree': 4}. Best is trial 1 with value: 0.909142857142857.\n",
      "[I 2024-02-08 22:40:31,940] Trial 0 finished with value: 0.8954285714285714 and parameters: {'C': 2.3525218798674885, 'kernel': 'poly', 'gamma': 0.5228045898089086, 'degree': 3}. Best is trial 1 with value: 0.909142857142857.\n",
      "[I 2024-02-08 22:40:32,483] Trial 9 finished with value: 0.8382857142857143 and parameters: {'C': 27.097361132990635, 'kernel': 'poly', 'gamma': 0.5804126684016968, 'degree': 5}. Best is trial 1 with value: 0.909142857142857.\n",
      "[I 2024-02-08 22:40:33,001] Trial 8 finished with value: 0.7577142857142858 and parameters: {'C': 24.664187448801016, 'kernel': 'poly', 'gamma': 0.14990946123267376, 'degree': 8}. Best is trial 1 with value: 0.909142857142857.\n",
      "[I 2024-02-08 22:40:33,398] Trial 11 finished with value: 0.7508571428571428 and parameters: {'C': 67.97943208614126, 'kernel': 'poly', 'gamma': 0.32546298007598906, 'degree': 7}. Best is trial 1 with value: 0.909142857142857.\n",
      "[I 2024-02-08 22:40:33,635] Trial 6 finished with value: 0.9314285714285715 and parameters: {'C': 28.981460342116105, 'kernel': 'poly', 'gamma': 0.2672611424101214, 'degree': 2}. Best is trial 6 with value: 0.9314285714285715.\n",
      "[I 2024-02-08 22:40:33,639] Trial 5 finished with value: 0.8954285714285714 and parameters: {'C': 30.659721611004507, 'kernel': 'poly', 'gamma': 0.006027744983790075, 'degree': 3}. Best is trial 6 with value: 0.9314285714285715.\n",
      "[I 2024-02-08 22:40:33,670] Trial 10 finished with value: 0.8382857142857143 and parameters: {'C': 3.74185805326717, 'kernel': 'poly', 'gamma': 0.27165817941336806, 'degree': 5}. Best is trial 6 with value: 0.9314285714285715.\n",
      "[I 2024-02-08 22:40:33,683] Trial 4 finished with value: 0.7508571428571428 and parameters: {'C': 59.01338184496066, 'kernel': 'poly', 'gamma': 0.8243511537907782, 'degree': 7}. Best is trial 6 with value: 0.9314285714285715.\n",
      "[I 2024-02-08 22:40:33,788] Trial 3 finished with value: 0.8382857142857143 and parameters: {'C': 74.63910821243124, 'kernel': 'poly', 'gamma': 0.9107668195590163, 'degree': 5}. Best is trial 6 with value: 0.9314285714285715.\n",
      "[I 2024-02-08 22:40:33,857] Trial 7 finished with value: 0.837142857142857 and parameters: {'C': 8.425129158964674, 'kernel': 'poly', 'gamma': 0.60689051816208, 'degree': 6}. Best is trial 6 with value: 0.9314285714285715.\n",
      "[I 2024-02-08 22:40:34,250] Trial 12 finished with value: 0.909142857142857 and parameters: {'C': 57.7572936236679, 'kernel': 'poly', 'gamma': 0.9564399428415755, 'degree': 4}. Best is trial 6 with value: 0.9314285714285715.\n",
      "[I 2024-02-08 22:40:35,006] Trial 13 finished with value: 0.7508571428571428 and parameters: {'C': 80.58749489298735, 'kernel': 'poly', 'gamma': 0.19862468875146727, 'degree': 7}. Best is trial 6 with value: 0.9314285714285715.\n",
      "[I 2024-02-08 22:40:35,497] Trial 14 finished with value: 0.7577142857142858 and parameters: {'C': 21.350044119426585, 'kernel': 'poly', 'gamma': 0.6111970446819741, 'degree': 8}. Best is trial 6 with value: 0.9314285714285715.\n",
      "[I 2024-02-08 22:40:35,958] Trial 15 finished with value: 0.6885714285714286 and parameters: {'C': 24.266542707295788, 'kernel': 'poly', 'gamma': 0.8952564657422507, 'degree': 9}. Best is trial 6 with value: 0.9314285714285715.\n",
      "[I 2024-02-08 22:40:36,328] Trial 16 finished with value: 0.837142857142857 and parameters: {'C': 4.9132958261573725, 'kernel': 'poly', 'gamma': 0.20507696146855045, 'degree': 6}. Best is trial 6 with value: 0.9314285714285715.\n",
      "[I 2024-02-08 22:40:37,023] Trial 17 finished with value: 0.837142857142857 and parameters: {'C': 78.81806189676007, 'kernel': 'poly', 'gamma': 0.706981931907943, 'degree': 6}. Best is trial 6 with value: 0.9314285714285715.\n",
      "[I 2024-02-08 22:40:37,411] Trial 18 finished with value: 0.8382857142857143 and parameters: {'C': 86.1553679539844, 'kernel': 'poly', 'gamma': 0.31232886429554024, 'degree': 5}. Best is trial 6 with value: 0.9314285714285715.\n",
      "[I 2024-02-08 22:40:38,089] Trial 19 finished with value: 0.8382857142857143 and parameters: {'C': 93.594923469816, 'kernel': 'poly', 'gamma': 0.3318861455012243, 'degree': 5}. Best is trial 6 with value: 0.9314285714285715.\n",
      "[I 2024-02-08 22:40:38,409] Trial 20 finished with value: 0.837142857142857 and parameters: {'C': 38.212739738357854, 'kernel': 'poly', 'gamma': 0.6664237713978634, 'degree': 6}. Best is trial 6 with value: 0.9314285714285715.\n",
      "[I 2024-02-08 22:40:38,492] Trial 21 finished with value: 0.9314285714285715 and parameters: {'C': 94.3754757102281, 'kernel': 'poly', 'gamma': 0.9651828616625786, 'degree': 2}. Best is trial 6 with value: 0.9314285714285715.\n",
      "[I 2024-02-08 22:40:38,703] Trial 22 finished with value: 0.9314285714285715 and parameters: {'C': 44.83300270668433, 'kernel': 'poly', 'gamma': 0.33826575423330524, 'degree': 2}. Best is trial 6 with value: 0.9314285714285715.\n",
      "[I 2024-02-08 22:40:38,753] Trial 23 finished with value: 0.9314285714285715 and parameters: {'C': 98.88250462446675, 'kernel': 'poly', 'gamma': 0.3503856714161685, 'degree': 2}. Best is trial 6 with value: 0.9314285714285715.\n",
      "[I 2024-02-08 22:40:39,095] Trial 24 finished with value: 0.9314285714285715 and parameters: {'C': 98.3091672187237, 'kernel': 'poly', 'gamma': 0.347819702469103, 'degree': 2}. Best is trial 6 with value: 0.9314285714285715.\n",
      "[I 2024-02-08 22:40:39,319] Trial 25 finished with value: 0.9314285714285715 and parameters: {'C': 42.17593158618812, 'kernel': 'poly', 'gamma': 0.3648817938631859, 'degree': 2}. Best is trial 6 with value: 0.9314285714285715.\n",
      "[I 2024-02-08 22:40:39,601] Trial 26 finished with value: 0.9314285714285715 and parameters: {'C': 40.952391134978186, 'kernel': 'poly', 'gamma': 0.3804338217135006, 'degree': 2}. Best is trial 6 with value: 0.9314285714285715.\n",
      "[I 2024-02-08 22:40:39,795] Trial 27 finished with value: 0.9314285714285715 and parameters: {'C': 99.9087897859279, 'kernel': 'poly', 'gamma': 0.3990208034043866, 'degree': 2}. Best is trial 6 with value: 0.9314285714285715.\n",
      "[I 2024-02-08 22:40:40,037] Trial 28 finished with value: 0.9314285714285715 and parameters: {'C': 99.0492652698222, 'kernel': 'poly', 'gamma': 0.4059707151161398, 'degree': 2}. Best is trial 6 with value: 0.9314285714285715.\n",
      "[I 2024-02-08 22:40:40,336] Trial 29 finished with value: 0.9314285714285715 and parameters: {'C': 98.8199364952398, 'kernel': 'poly', 'gamma': 0.40616093655317065, 'degree': 2}. Best is trial 6 with value: 0.9314285714285715.\n",
      "[I 2024-02-08 22:40:40,346] Trial 30 finished with value: 0.9314285714285715 and parameters: {'C': 44.2465899632456, 'kernel': 'poly', 'gamma': 0.4260536865025172, 'degree': 2}. Best is trial 6 with value: 0.9314285714285715.\n",
      "[I 2024-02-08 22:40:40,712] Trial 31 finished with value: 0.9314285714285715 and parameters: {'C': 41.2740006485548, 'kernel': 'poly', 'gamma': 0.4057917072545793, 'degree': 2}. Best is trial 6 with value: 0.9314285714285715.\n",
      "[I 2024-02-08 22:40:40,869] Trial 32 finished with value: 0.9314285714285715 and parameters: {'C': 46.52649731446687, 'kernel': 'poly', 'gamma': 0.46600993674848484, 'degree': 2}. Best is trial 6 with value: 0.9314285714285715.\n",
      "[I 2024-02-08 22:40:41,116] Trial 33 finished with value: 0.9314285714285715 and parameters: {'C': 46.21768995681293, 'kernel': 'poly', 'gamma': 0.43396522602305776, 'degree': 2}. Best is trial 6 with value: 0.9314285714285715.\n",
      "[I 2024-02-08 22:40:41,350] Trial 34 finished with value: 0.9314285714285715 and parameters: {'C': 43.98358459796006, 'kernel': 'poly', 'gamma': 0.435388454671221, 'degree': 2}. Best is trial 6 with value: 0.9314285714285715.\n",
      "[I 2024-02-08 22:40:41,549] Trial 35 finished with value: 0.9314285714285715 and parameters: {'C': 43.410610852414976, 'kernel': 'poly', 'gamma': 0.4663338174858961, 'degree': 2}. Best is trial 6 with value: 0.9314285714285715.\n",
      "[I 2024-02-08 22:40:41,765] Trial 36 finished with value: 0.9314285714285715 and parameters: {'C': 44.02324390543159, 'kernel': 'poly', 'gamma': 0.4354355215259259, 'degree': 2}. Best is trial 6 with value: 0.9314285714285715.\n",
      "[I 2024-02-08 22:40:42,046] Trial 37 finished with value: 0.9314285714285715 and parameters: {'C': 46.82530571914897, 'kernel': 'poly', 'gamma': 0.4531316511724175, 'degree': 2}. Best is trial 6 with value: 0.9314285714285715.\n",
      "[I 2024-02-08 22:40:42,585] Trial 38 finished with value: 0.8954285714285714 and parameters: {'C': 48.91890980979954, 'kernel': 'poly', 'gamma': 0.4262460973966792, 'degree': 3}. Best is trial 6 with value: 0.9314285714285715.\n",
      "[I 2024-02-08 22:40:42,797] Trial 39 finished with value: 0.8954285714285714 and parameters: {'C': 50.01176929838633, 'kernel': 'poly', 'gamma': 0.4544676618433796, 'degree': 3}. Best is trial 6 with value: 0.9314285714285715.\n",
      "[I 2024-02-08 22:40:43,327] Trial 40 finished with value: 0.8954285714285714 and parameters: {'C': 49.57367869411645, 'kernel': 'poly', 'gamma': 0.5179630506951681, 'degree': 3}. Best is trial 6 with value: 0.9314285714285715.\n",
      "[I 2024-02-08 22:40:43,808] Trial 42 finished with value: 0.8954285714285714 and parameters: {'C': 51.93644205640218, 'kernel': 'poly', 'gamma': 0.5261911939195119, 'degree': 3}. Best is trial 6 with value: 0.9314285714285715.\n",
      "[I 2024-02-08 22:40:44,268] Trial 41 finished with value: 0.8954285714285714 and parameters: {'C': 90.85261827299007, 'kernel': 'poly', 'gamma': 0.515355359424446, 'degree': 3}. Best is trial 6 with value: 0.9314285714285715.\n",
      "[I 2024-02-08 22:40:44,535] Trial 43 finished with value: 0.8954285714285714 and parameters: {'C': 51.452142613015255, 'kernel': 'poly', 'gamma': 0.5306456340325001, 'degree': 3}. Best is trial 6 with value: 0.9314285714285715.\n",
      "[I 2024-02-08 22:40:44,917] Trial 44 finished with value: 0.8954285714285714 and parameters: {'C': 17.018259431960452, 'kernel': 'poly', 'gamma': 0.08608835756639355, 'degree': 3}. Best is trial 6 with value: 0.9314285714285715.\n",
      "[I 2024-02-08 22:40:45,566] Trial 45 finished with value: 0.8954285714285714 and parameters: {'C': 89.55488589516881, 'kernel': 'poly', 'gamma': 0.5207379202637185, 'degree': 3}. Best is trial 6 with value: 0.9314285714285715.\n",
      "[I 2024-02-08 22:40:45,863] Trial 46 finished with value: 0.8954285714285714 and parameters: {'C': 15.276216987559003, 'kernel': 'poly', 'gamma': 0.52051491789769, 'degree': 3}. Best is trial 6 with value: 0.9314285714285715.\n",
      "[I 2024-02-08 22:40:46,270] Trial 47 finished with value: 0.8954285714285714 and parameters: {'C': 17.229150998355756, 'kernel': 'poly', 'gamma': 0.12053603708970179, 'degree': 3}. Best is trial 6 with value: 0.9314285714285715.\n",
      "[I 2024-02-08 22:40:46,867] Trial 48 finished with value: 0.8954285714285714 and parameters: {'C': 54.17124806307288, 'kernel': 'poly', 'gamma': 0.12018588058709745, 'degree': 3}. Best is trial 6 with value: 0.9314285714285715.\n",
      "[I 2024-02-08 22:40:47,082] Trial 49 finished with value: 0.8954285714285714 and parameters: {'C': 53.93406933184582, 'kernel': 'poly', 'gamma': 0.11535110675299604, 'degree': 3}. Best is trial 6 with value: 0.9314285714285715.\n",
      "[I 2024-02-08 22:40:47,521] Trial 50 finished with value: 0.909142857142857 and parameters: {'C': 89.38376580802507, 'kernel': 'poly', 'gamma': 0.09069413976362978, 'degree': 4}. Best is trial 6 with value: 0.9314285714285715.\n",
      "[I 2024-02-08 22:40:47,908] Trial 51 finished with value: 0.909142857142857 and parameters: {'C': 15.381003737443464, 'kernel': 'poly', 'gamma': 0.06719435434312965, 'degree': 4}. Best is trial 6 with value: 0.9314285714285715.\n",
      "[I 2024-02-08 22:40:48,430] Trial 52 finished with value: 0.909142857142857 and parameters: {'C': 90.44983988136299, 'kernel': 'poly', 'gamma': 0.10551771436103746, 'degree': 4}. Best is trial 6 with value: 0.9314285714285715.\n",
      "[I 2024-02-08 22:40:48,640] Trial 53 finished with value: 0.909142857142857 and parameters: {'C': 88.89064297740828, 'kernel': 'poly', 'gamma': 0.10619166492692572, 'degree': 4}. Best is trial 6 with value: 0.9314285714285715.\n",
      "[I 2024-02-08 22:40:49,017] Trial 54 finished with value: 0.909142857142857 and parameters: {'C': 34.63217998442001, 'kernel': 'poly', 'gamma': 0.099093833316309, 'degree': 4}. Best is trial 6 with value: 0.9314285714285715.\n",
      "[I 2024-02-08 22:40:49,481] Trial 55 finished with value: 0.909142857142857 and parameters: {'C': 33.594263581186524, 'kernel': 'poly', 'gamma': 0.1061156544786383, 'degree': 4}. Best is trial 6 with value: 0.9314285714285715.\n",
      "[I 2024-02-08 22:40:49,706] Trial 56 finished with value: 0.909142857142857 and parameters: {'C': 69.83389427419564, 'kernel': 'poly', 'gamma': 0.28303375997923363, 'degree': 4}. Best is trial 6 with value: 0.9314285714285715.\n",
      "[I 2024-02-08 22:40:50,168] Trial 57 finished with value: 0.909142857142857 and parameters: {'C': 35.792637400968005, 'kernel': 'poly', 'gamma': 0.12005776034309446, 'degree': 4}. Best is trial 6 with value: 0.9314285714285715.\n",
      "[I 2024-02-08 22:40:50,625] Trial 58 finished with value: 0.909142857142857 and parameters: {'C': 34.50893147592645, 'kernel': 'poly', 'gamma': 0.12405701163893254, 'degree': 4}. Best is trial 6 with value: 0.9314285714285715.\n",
      "[I 2024-02-08 22:40:50,925] Trial 59 finished with value: 0.909142857142857 and parameters: {'C': 33.13169471758116, 'kernel': 'poly', 'gamma': 0.24710722804908225, 'degree': 4}. Best is trial 6 with value: 0.9314285714285715.\n",
      "[I 2024-02-08 22:40:51,320] Trial 60 finished with value: 0.909142857142857 and parameters: {'C': 83.69706224906928, 'kernel': 'poly', 'gamma': 0.27444711460440935, 'degree': 4}. Best is trial 6 with value: 0.9314285714285715.\n",
      "[I 2024-02-08 22:40:51,660] Trial 61 finished with value: 0.909142857142857 and parameters: {'C': 69.7782547102719, 'kernel': 'poly', 'gamma': 0.24251412164309244, 'degree': 4}. Best is trial 6 with value: 0.9314285714285715.\n",
      "[I 2024-02-08 22:40:51,931] Trial 62 finished with value: 0.909142857142857 and parameters: {'C': 33.25887231532595, 'kernel': 'poly', 'gamma': 0.27504199021934217, 'degree': 4}. Best is trial 6 with value: 0.9314285714285715.\n",
      "[I 2024-02-08 22:40:52,470] Trial 63 finished with value: 0.909142857142857 and parameters: {'C': 33.13825600589734, 'kernel': 'poly', 'gamma': 0.2679501012328144, 'degree': 4}. Best is trial 6 with value: 0.9314285714285715.\n",
      "[I 2024-02-08 22:40:52,658] Trial 65 finished with value: 0.9314285714285715 and parameters: {'C': 66.83043006316967, 'kernel': 'poly', 'gamma': 0.26208401595400493, 'degree': 2}. Best is trial 6 with value: 0.9314285714285715.\n",
      "[I 2024-02-08 22:40:52,699] Trial 64 finished with value: 0.9314285714285715 and parameters: {'C': 34.894486772553385, 'kernel': 'poly', 'gamma': 0.24894081806697554, 'degree': 2}. Best is trial 6 with value: 0.9314285714285715.\n",
      "[I 2024-02-08 22:40:53,071] Trial 66 finished with value: 0.9314285714285715 and parameters: {'C': 66.83418472098037, 'kernel': 'poly', 'gamma': 0.2639979166967805, 'degree': 2}. Best is trial 6 with value: 0.9314285714285715.\n",
      "[I 2024-02-08 22:40:53,194] Trial 67 finished with value: 0.9314285714285715 and parameters: {'C': 68.9553068625263, 'kernel': 'poly', 'gamma': 0.27119090370908217, 'degree': 2}. Best is trial 6 with value: 0.9314285714285715.\n",
      "[I 2024-02-08 22:40:53,456] Trial 68 finished with value: 0.9314285714285715 and parameters: {'C': 62.51896276195893, 'kernel': 'poly', 'gamma': 0.2518438206066068, 'degree': 2}. Best is trial 6 with value: 0.9314285714285715.\n",
      "[I 2024-02-08 22:40:53,668] Trial 69 finished with value: 0.9314285714285715 and parameters: {'C': 84.58152669498593, 'kernel': 'poly', 'gamma': 0.3560320186663701, 'degree': 2}. Best is trial 6 with value: 0.9314285714285715.\n",
      "[I 2024-02-08 22:40:53,984] Trial 70 finished with value: 0.9314285714285715 and parameters: {'C': 82.15958971309519, 'kernel': 'poly', 'gamma': 0.35821108868771734, 'degree': 2}. Best is trial 6 with value: 0.9314285714285715.\n",
      "[I 2024-02-08 22:40:54,212] Trial 71 finished with value: 0.9314285714285715 and parameters: {'C': 95.22072402761378, 'kernel': 'poly', 'gamma': 0.3658188355630806, 'degree': 2}. Best is trial 6 with value: 0.9314285714285715.\n",
      "[I 2024-02-08 22:40:54,234] Trial 72 finished with value: 0.9314285714285715 and parameters: {'C': 95.46940815220196, 'kernel': 'poly', 'gamma': 0.3530651594722535, 'degree': 2}. Best is trial 6 with value: 0.9314285714285715.\n",
      "[I 2024-02-08 22:40:54,652] Trial 73 finished with value: 0.9314285714285715 and parameters: {'C': 28.81453855670057, 'kernel': 'poly', 'gamma': 0.3332331335010843, 'degree': 2}. Best is trial 6 with value: 0.9314285714285715.\n",
      "[I 2024-02-08 22:40:54,825] Trial 74 finished with value: 0.9314285714285715 and parameters: {'C': 28.59671084295872, 'kernel': 'poly', 'gamma': 0.3517054670098353, 'degree': 2}. Best is trial 6 with value: 0.9314285714285715.\n",
      "[I 2024-02-08 22:40:55,040] Trial 75 finished with value: 0.9314285714285715 and parameters: {'C': 27.449174874474558, 'kernel': 'poly', 'gamma': 0.35437686457824397, 'degree': 2}. Best is trial 6 with value: 0.9314285714285715.\n",
      "[I 2024-02-08 22:40:55,220] Trial 76 finished with value: 0.9314285714285715 and parameters: {'C': 95.13045059164268, 'kernel': 'poly', 'gamma': 0.3556692057301044, 'degree': 2}. Best is trial 6 with value: 0.9314285714285715.\n",
      "[I 2024-02-08 22:40:55,490] Trial 77 finished with value: 0.9314285714285715 and parameters: {'C': 95.79970238312205, 'kernel': 'poly', 'gamma': 0.33339772822007463, 'degree': 2}. Best is trial 6 with value: 0.9314285714285715.\n",
      "[I 2024-02-08 22:40:55,658] Trial 78 finished with value: 0.9314285714285715 and parameters: {'C': 96.99589071614596, 'kernel': 'poly', 'gamma': 0.34205233861467876, 'degree': 2}. Best is trial 6 with value: 0.9314285714285715.\n",
      "[I 2024-02-08 22:40:55,920] Trial 79 finished with value: 0.9314285714285715 and parameters: {'C': 95.82706024203631, 'kernel': 'poly', 'gamma': 0.3549218348871904, 'degree': 2}. Best is trial 6 with value: 0.9314285714285715.\n",
      "[I 2024-02-08 22:40:56,125] Trial 80 finished with value: 0.9314285714285715 and parameters: {'C': 26.91545473355025, 'kernel': 'poly', 'gamma': 0.3633496734012425, 'degree': 2}. Best is trial 6 with value: 0.9314285714285715.\n",
      "[I 2024-02-08 22:40:56,381] Trial 81 finished with value: 0.9314285714285715 and parameters: {'C': 28.145881524083457, 'kernel': 'poly', 'gamma': 0.36716394440074523, 'degree': 2}. Best is trial 6 with value: 0.9314285714285715.\n",
      "[I 2024-02-08 22:40:56,443] Trial 82 finished with value: 0.9314285714285715 and parameters: {'C': 96.10794168346527, 'kernel': 'poly', 'gamma': 0.3682079698933076, 'degree': 2}. Best is trial 6 with value: 0.9314285714285715.\n",
      "[I 2024-02-08 22:40:56,803] Trial 83 finished with value: 0.9314285714285715 and parameters: {'C': 96.66752028517227, 'kernel': 'poly', 'gamma': 0.3234962945245979, 'degree': 2}. Best is trial 6 with value: 0.9314285714285715.\n",
      "[I 2024-02-08 22:40:57,125] Trial 84 finished with value: 0.9314285714285715 and parameters: {'C': 99.63595469869779, 'kernel': 'poly', 'gamma': 0.8123862174129217, 'degree': 2}. Best is trial 6 with value: 0.9314285714285715.\n",
      "[I 2024-02-08 22:40:57,656] Trial 85 finished with value: 0.6891428571428572 and parameters: {'C': 99.79346267956343, 'kernel': 'poly', 'gamma': 0.8158255842290905, 'degree': 9}. Best is trial 6 with value: 0.9314285714285715.\n",
      "[I 2024-02-08 22:40:58,227] Trial 86 finished with value: 0.7577142857142858 and parameters: {'C': 40.38121678120441, 'kernel': 'poly', 'gamma': 0.19897452174774005, 'degree': 8}. Best is trial 6 with value: 0.9314285714285715.\n",
      "[I 2024-02-08 22:40:58,765] Trial 87 finished with value: 0.6891428571428572 and parameters: {'C': 99.95616634022778, 'kernel': 'poly', 'gamma': 0.18446446961807791, 'degree': 9}. Best is trial 6 with value: 0.9314285714285715.\n",
      "[I 2024-02-08 22:40:58,831] Trial 88 finished with value: 0.9314285714285715 and parameters: {'C': 39.90405426872006, 'kernel': 'poly', 'gamma': 0.1993719345794987, 'degree': 2}. Best is trial 6 with value: 0.9314285714285715.\n",
      "[I 2024-02-08 22:40:59,571] Trial 89 finished with value: 0.7508571428571428 and parameters: {'C': 99.20393912035634, 'kernel': 'poly', 'gamma': 0.20394077933238272, 'degree': 7}. Best is trial 6 with value: 0.9314285714285715.\n",
      "[I 2024-02-08 22:41:00,174] Trial 90 finished with value: 0.6891428571428572 and parameters: {'C': 39.13314352850776, 'kernel': 'poly', 'gamma': 0.305027828566804, 'degree': 9}. Best is trial 6 with value: 0.9314285714285715.\n",
      "[I 2024-02-08 22:41:00,458] Trial 91 finished with value: 0.8954285714285714 and parameters: {'C': 99.57961771325321, 'kernel': 'poly', 'gamma': 0.21172745949212624, 'degree': 3}. Best is trial 6 with value: 0.9314285714285715.\n",
      "[I 2024-02-08 22:41:00,927] Trial 92 finished with value: 0.8954285714285714 and parameters: {'C': 41.456209907630075, 'kernel': 'poly', 'gamma': 0.19710188940236822, 'degree': 3}. Best is trial 6 with value: 0.9314285714285715.\n",
      "[I 2024-02-08 22:41:01,233] Trial 93 finished with value: 0.8954285714285714 and parameters: {'C': 98.65678769632444, 'kernel': 'poly', 'gamma': 0.2027020745549253, 'degree': 3}. Best is trial 6 with value: 0.9314285714285715.\n",
      "[I 2024-02-08 22:41:01,932] Trial 94 finished with value: 0.6891428571428572 and parameters: {'C': 99.2994387209056, 'kernel': 'poly', 'gamma': 0.1914422118990604, 'degree': 9}. Best is trial 6 with value: 0.9314285714285715.\n",
      "[I 2024-02-08 22:41:02,214] Trial 95 finished with value: 0.8954285714285714 and parameters: {'C': 39.98325827658127, 'kernel': 'poly', 'gamma': 0.7983362205339185, 'degree': 3}. Best is trial 6 with value: 0.9314285714285715.\n",
      "[I 2024-02-08 22:41:02,897] Trial 96 finished with value: 0.6891428571428572 and parameters: {'C': 40.086793566259274, 'kernel': 'poly', 'gamma': 0.18798136040660268, 'degree': 9}. Best is trial 6 with value: 0.9314285714285715.\n",
      "[I 2024-02-08 22:41:03,242] Trial 97 finished with value: 0.8954285714285714 and parameters: {'C': 40.87693271195365, 'kernel': 'poly', 'gamma': 0.2148327894600634, 'degree': 3}. Best is trial 6 with value: 0.9314285714285715.\n",
      "[I 2024-02-08 22:41:03,698] Trial 98 finished with value: 0.8954285714285714 and parameters: {'C': 92.86657281372624, 'kernel': 'poly', 'gamma': 0.40633824284421194, 'degree': 3}. Best is trial 6 with value: 0.9314285714285715.\n",
      "[I 2024-02-08 22:41:04,198] Trial 99 finished with value: 0.8954285714285714 and parameters: {'C': 38.5365268020286, 'kernel': 'poly', 'gamma': 0.48228864594689597, 'degree': 3}. Best is trial 6 with value: 0.9314285714285715.\n",
      "[I 2024-02-08 22:41:04,626] Trial 100 finished with value: 0.8954285714285714 and parameters: {'C': 92.78274048613066, 'kernel': 'poly', 'gamma': 0.4139062618142359, 'degree': 3}. Best is trial 6 with value: 0.9314285714285715.\n",
      "[I 2024-02-08 22:41:04,799] Trial 101 finished with value: 0.8954285714285714 and parameters: {'C': 92.73898647289988, 'kernel': 'poly', 'gamma': 0.4063153542676673, 'degree': 3}. Best is trial 6 with value: 0.9314285714285715.\n",
      "[I 2024-02-08 22:41:05,303] Trial 102 finished with value: 0.8954285714285714 and parameters: {'C': 92.16946183777762, 'kernel': 'poly', 'gamma': 0.38878408874326803, 'degree': 3}. Best is trial 6 with value: 0.9314285714285715.\n",
      "[I 2024-02-08 22:41:06,001] Trial 103 finished with value: 0.8954285714285714 and parameters: {'C': 92.40412312495481, 'kernel': 'poly', 'gamma': 0.4034191174093855, 'degree': 3}. Best is trial 6 with value: 0.9314285714285715.\n",
      "[I 2024-02-08 22:41:06,123] Trial 104 finished with value: 0.8954285714285714 and parameters: {'C': 92.36490538471898, 'kernel': 'poly', 'gamma': 0.40123251429579293, 'degree': 3}. Best is trial 6 with value: 0.9314285714285715.\n",
      "[I 2024-02-08 22:41:06,640] Trial 105 finished with value: 0.8954285714285714 and parameters: {'C': 78.53144630946372, 'kernel': 'poly', 'gamma': 0.3940478996711538, 'degree': 3}. Best is trial 6 with value: 0.9314285714285715.\n",
      "[I 2024-02-08 22:41:06,970] Trial 106 finished with value: 0.8954285714285714 and parameters: {'C': 92.95221171015558, 'kernel': 'poly', 'gamma': 0.410875940813288, 'degree': 3}. Best is trial 6 with value: 0.9314285714285715.\n",
      "[I 2024-02-08 22:41:07,055] Trial 107 finished with value: 0.9314285714285715 and parameters: {'C': 93.31737864784331, 'kernel': 'poly', 'gamma': 0.4107122531488469, 'degree': 2}. Best is trial 6 with value: 0.9314285714285715.\n",
      "[I 2024-02-08 22:41:07,379] Trial 108 finished with value: 0.9314285714285715 and parameters: {'C': 90.94799379016742, 'kernel': 'poly', 'gamma': 0.40138695456095064, 'degree': 2}. Best is trial 6 with value: 0.9314285714285715.\n",
      "[I 2024-02-08 22:41:07,476] Trial 109 finished with value: 0.9314285714285715 and parameters: {'C': 92.30461090140689, 'kernel': 'poly', 'gamma': 0.39669519330332187, 'degree': 2}. Best is trial 6 with value: 0.9314285714285715.\n",
      "[I 2024-02-08 22:41:07,803] Trial 110 finished with value: 0.9314285714285715 and parameters: {'C': 87.07587688732082, 'kernel': 'poly', 'gamma': 0.4897796013724897, 'degree': 2}. Best is trial 6 with value: 0.9314285714285715.\n",
      "[I 2024-02-08 22:41:08,009] Trial 111 finished with value: 0.9314285714285715 and parameters: {'C': 92.22560780599989, 'kernel': 'poly', 'gamma': 0.4026757424997026, 'degree': 2}. Best is trial 6 with value: 0.9314285714285715.\n",
      "[I 2024-02-08 22:41:08,088] Trial 112 finished with value: 0.9314285714285715 and parameters: {'C': 47.74810844683602, 'kernel': 'poly', 'gamma': 0.3864186554138911, 'degree': 2}. Best is trial 6 with value: 0.9314285714285715.\n",
      "[I 2024-02-08 22:41:08,512] Trial 113 finished with value: 0.9314285714285715 and parameters: {'C': 0.3795163427238748, 'kernel': 'poly', 'gamma': 0.3907495444992978, 'degree': 2}. Best is trial 6 with value: 0.9314285714285715.\n",
      "[I 2024-02-08 22:41:08,723] Trial 114 finished with value: 0.9314285714285715 and parameters: {'C': 86.98968068667396, 'kernel': 'poly', 'gamma': 0.29398404085328056, 'degree': 2}. Best is trial 6 with value: 0.9314285714285715.\n",
      "[I 2024-02-08 22:41:08,914] Trial 115 finished with value: 0.9314285714285715 and parameters: {'C': 87.26802990631708, 'kernel': 'poly', 'gamma': 0.30066238031865217, 'degree': 2}. Best is trial 6 with value: 0.9314285714285715.\n",
      "[I 2024-02-08 22:41:09,114] Trial 116 finished with value: 0.9314285714285715 and parameters: {'C': 87.9676287590885, 'kernel': 'poly', 'gamma': 0.9842077033446529, 'degree': 2}. Best is trial 6 with value: 0.9314285714285715.\n",
      "[I 2024-02-08 22:41:09,350] Trial 117 finished with value: 0.9314285714285715 and parameters: {'C': 45.28937515350283, 'kernel': 'poly', 'gamma': 0.2980533836075828, 'degree': 2}. Best is trial 6 with value: 0.9314285714285715.\n",
      "[I 2024-02-08 22:41:09,536] Trial 118 finished with value: 0.9314285714285715 and parameters: {'C': 88.19938046918611, 'kernel': 'poly', 'gamma': 0.2994795505790744, 'degree': 2}. Best is trial 6 with value: 0.9314285714285715.\n",
      "[I 2024-02-08 22:41:09,776] Trial 119 finished with value: 0.9314285714285715 and parameters: {'C': 87.26072879448806, 'kernel': 'poly', 'gamma': 0.3022495552440937, 'degree': 2}. Best is trial 6 with value: 0.9314285714285715.\n",
      "[I 2024-02-08 22:41:09,996] Trial 120 finished with value: 0.9314285714285715 and parameters: {'C': 88.09088166829416, 'kernel': 'poly', 'gamma': 0.5711025328188549, 'degree': 2}. Best is trial 6 with value: 0.9314285714285715.\n",
      "[I 2024-02-08 22:41:10,174] Trial 121 finished with value: 0.9314285714285715 and parameters: {'C': 87.5395387048435, 'kernel': 'poly', 'gamma': 0.30111227964181075, 'degree': 2}. Best is trial 6 with value: 0.9314285714285715.\n",
      "[I 2024-02-08 22:41:10,502] Trial 122 finished with value: 0.9314285714285715 and parameters: {'C': 46.56842821592805, 'kernel': 'poly', 'gamma': 0.5580797304070609, 'degree': 2}. Best is trial 6 with value: 0.9314285714285715.\n",
      "[I 2024-02-08 22:41:10,709] Trial 123 finished with value: 0.9314285714285715 and parameters: {'C': 47.962997876526906, 'kernel': 'poly', 'gamma': 0.5570950506681352, 'degree': 2}. Best is trial 6 with value: 0.9314285714285715.\n",
      "[I 2024-02-08 22:41:10,895] Trial 124 finished with value: 0.9314285714285715 and parameters: {'C': 44.99106677535832, 'kernel': 'poly', 'gamma': 0.44049719694579464, 'degree': 2}. Best is trial 6 with value: 0.9314285714285715.\n",
      "[I 2024-02-08 22:41:11,111] Trial 125 finished with value: 0.9314285714285715 and parameters: {'C': 43.955355486730205, 'kernel': 'poly', 'gamma': 0.4458973404311692, 'degree': 2}. Best is trial 6 with value: 0.9314285714285715.\n",
      "[I 2024-02-08 22:41:11,359] Trial 126 finished with value: 0.9314285714285715 and parameters: {'C': 43.28342933071565, 'kernel': 'poly', 'gamma': 0.4516720840199262, 'degree': 2}. Best is trial 6 with value: 0.9314285714285715.\n",
      "[I 2024-02-08 22:41:11,698] Trial 127 finished with value: 0.9314285714285715 and parameters: {'C': 42.84896222550559, 'kernel': 'poly', 'gamma': 0.433752125337061, 'degree': 2}. Best is trial 6 with value: 0.9314285714285715.\n",
      "[I 2024-02-08 22:41:11,760] Trial 128 finished with value: 0.9314285714285715 and parameters: {'C': 42.88006187820575, 'kernel': 'poly', 'gamma': 0.574866252844715, 'degree': 2}. Best is trial 6 with value: 0.9314285714285715.\n",
      "[I 2024-02-08 22:41:12,134] Trial 129 finished with value: 0.9314285714285715 and parameters: {'C': 42.551069553076715, 'kernel': 'poly', 'gamma': 0.4411959518451454, 'degree': 2}. Best is trial 6 with value: 0.9314285714285715.\n",
      "[I 2024-02-08 22:41:12,180] Trial 130 finished with value: 0.9314285714285715 and parameters: {'C': 42.77966832276716, 'kernel': 'poly', 'gamma': 0.5560033146878861, 'degree': 2}. Best is trial 6 with value: 0.9314285714285715.\n",
      "[I 2024-02-08 22:41:12,497] Trial 131 finished with value: 0.9314285714285715 and parameters: {'C': 43.17639731670428, 'kernel': 'poly', 'gamma': 0.4647412482654548, 'degree': 2}. Best is trial 6 with value: 0.9314285714285715.\n",
      "[I 2024-02-08 22:41:12,687] Trial 132 finished with value: 0.9314285714285715 and parameters: {'C': 43.91884722526708, 'kernel': 'poly', 'gamma': 0.45650615120082316, 'degree': 2}. Best is trial 6 with value: 0.9314285714285715.\n",
      "[I 2024-02-08 22:41:12,911] Trial 133 finished with value: 0.9314285714285715 and parameters: {'C': 43.42315045647051, 'kernel': 'poly', 'gamma': 0.4438757336169592, 'degree': 2}. Best is trial 6 with value: 0.9314285714285715.\n",
      "[I 2024-02-08 22:41:13,002] Trial 134 finished with value: 0.9314285714285715 and parameters: {'C': 43.04813687267353, 'kernel': 'poly', 'gamma': 0.43539662093979037, 'degree': 2}. Best is trial 6 with value: 0.9314285714285715.\n",
      "[I 2024-02-08 22:41:13,396] Trial 135 finished with value: 0.9314285714285715 and parameters: {'C': 53.01273660940515, 'kernel': 'poly', 'gamma': 0.44892374288149034, 'degree': 2}. Best is trial 6 with value: 0.9314285714285715.\n",
      "[I 2024-02-08 22:41:13,574] Trial 136 finished with value: 0.9314285714285715 and parameters: {'C': 42.73698481804243, 'kernel': 'poly', 'gamma': 0.46405920886091995, 'degree': 2}. Best is trial 6 with value: 0.9314285714285715.\n",
      "[I 2024-02-08 22:41:13,910] Trial 137 finished with value: 0.9314285714285715 and parameters: {'C': 36.72066273953534, 'kernel': 'poly', 'gamma': 0.4683034956966085, 'degree': 2}. Best is trial 6 with value: 0.9314285714285715.\n",
      "[I 2024-02-08 22:41:13,944] Trial 138 finished with value: 0.9314285714285715 and parameters: {'C': 51.0695603806057, 'kernel': 'poly', 'gamma': 0.8798535149539022, 'degree': 2}. Best is trial 6 with value: 0.9314285714285715.\n",
      "[I 2024-02-08 22:41:14,232] Trial 139 finished with value: 0.9314285714285715 and parameters: {'C': 56.57210924149484, 'kernel': 'poly', 'gamma': 0.4802908255628539, 'degree': 2}. Best is trial 6 with value: 0.9314285714285715.\n",
      "[I 2024-02-08 22:41:14,392] Trial 140 finished with value: 0.9314285714285715 and parameters: {'C': 52.536870795366454, 'kernel': 'poly', 'gamma': 0.6444978469476602, 'degree': 2}. Best is trial 6 with value: 0.9314285714285715.\n",
      "[I 2024-02-08 22:41:15,098] Trial 141 finished with value: 0.837142857142857 and parameters: {'C': 57.05356980513399, 'kernel': 'poly', 'gamma': 0.46088207144861043, 'degree': 6}. Best is trial 6 with value: 0.9314285714285715.\n",
      "[I 2024-02-08 22:41:15,111] Trial 142 finished with value: 0.9314285714285715 and parameters: {'C': 51.88373951417557, 'kernel': 'poly', 'gamma': 0.4950029925345195, 'degree': 2}. Best is trial 6 with value: 0.9314285714285715.\n",
      "[I 2024-02-08 22:41:15,644] Trial 143 finished with value: 0.837142857142857 and parameters: {'C': 52.35274739551575, 'kernel': 'poly', 'gamma': 0.47555311451256455, 'degree': 6}. Best is trial 6 with value: 0.9314285714285715.\n",
      "[I 2024-02-08 22:41:16,225] Trial 144 finished with value: 0.837142857142857 and parameters: {'C': 22.7369816353973, 'kernel': 'poly', 'gamma': 0.5010837508935677, 'degree': 6}. Best is trial 6 with value: 0.9314285714285715.\n",
      "[I 2024-02-08 22:41:16,672] Trial 145 finished with value: 0.837142857142857 and parameters: {'C': 36.27911925575337, 'kernel': 'poly', 'gamma': 0.47831852604370356, 'degree': 6}. Best is trial 6 with value: 0.9314285714285715.\n",
      "[I 2024-02-08 22:41:17,344] Trial 146 finished with value: 0.8382857142857143 and parameters: {'C': 37.12802836716061, 'kernel': 'poly', 'gamma': 0.6653584284002689, 'degree': 5}. Best is trial 6 with value: 0.9314285714285715.\n",
      "[I 2024-02-08 22:41:17,773] Trial 147 finished with value: 0.837142857142857 and parameters: {'C': 56.395363981394304, 'kernel': 'poly', 'gamma': 0.8834450754741706, 'degree': 6}. Best is trial 6 with value: 0.9314285714285715.\n",
      "[I 2024-02-08 22:41:18,206] Trial 148 finished with value: 0.8382857142857143 and parameters: {'C': 51.276357305223954, 'kernel': 'poly', 'gamma': 0.4987078581549561, 'degree': 5}. Best is trial 6 with value: 0.9314285714285715.\n",
      "[I 2024-02-08 22:41:18,224] Trial 149 finished with value: 0.9314285714285715 and parameters: {'C': 56.04565430195694, 'kernel': 'poly', 'gamma': 0.9181866912383642, 'degree': 2}. Best is trial 6 with value: 0.9314285714285715.\n",
      "[I 2024-02-08 22:41:18,441] Trial 150 finished with value: 0.9314285714285715 and parameters: {'C': 97.49978705775861, 'kernel': 'poly', 'gamma': 0.32701749772421473, 'degree': 2}. Best is trial 6 with value: 0.9314285714285715.\n",
      "[I 2024-02-08 22:41:19,060] Trial 151 finished with value: 0.8382857142857143 and parameters: {'C': 31.16586935037376, 'kernel': 'poly', 'gamma': 0.32747303513494264, 'degree': 5}. Best is trial 6 with value: 0.9314285714285715.\n",
      "[I 2024-02-08 22:41:19,178] Trial 152 finished with value: 0.9314285714285715 and parameters: {'C': 97.74346608887376, 'kernel': 'poly', 'gamma': 0.3220331332316173, 'degree': 2}. Best is trial 6 with value: 0.9314285714285715.\n",
      "[I 2024-02-08 22:41:19,366] Trial 153 finished with value: 0.9314285714285715 and parameters: {'C': 49.5634535551367, 'kernel': 'poly', 'gamma': 0.502324167699573, 'degree': 2}. Best is trial 6 with value: 0.9314285714285715.\n",
      "[I 2024-02-08 22:41:19,580] Trial 154 finished with value: 0.9314285714285715 and parameters: {'C': 20.74934287852887, 'kernel': 'poly', 'gamma': 0.3769691304672489, 'degree': 2}. Best is trial 6 with value: 0.9314285714285715.\n",
      "[I 2024-02-08 22:41:19,822] Trial 155 finished with value: 0.9314285714285715 and parameters: {'C': 49.648185827602894, 'kernel': 'poly', 'gamma': 0.42412039011277985, 'degree': 2}. Best is trial 6 with value: 0.9314285714285715.\n",
      "[I 2024-02-08 22:41:20,365] Trial 156 finished with value: 0.8382857142857143 and parameters: {'C': 30.84707466545638, 'kernel': 'poly', 'gamma': 0.3240022955861847, 'degree': 5}. Best is trial 6 with value: 0.9314285714285715.\n",
      "[I 2024-02-08 22:41:20,534] Trial 157 finished with value: 0.9314285714285715 and parameters: {'C': 30.863184297348507, 'kernel': 'poly', 'gamma': 0.3824363613458358, 'degree': 2}. Best is trial 6 with value: 0.9314285714285715.\n",
      "[I 2024-02-08 22:41:20,735] Trial 158 finished with value: 0.9314285714285715 and parameters: {'C': 31.5113230549321, 'kernel': 'poly', 'gamma': 0.32018832326736085, 'degree': 2}. Best is trial 6 with value: 0.9314285714285715.\n",
      "[I 2024-02-08 22:41:20,960] Trial 159 finished with value: 0.9314285714285715 and parameters: {'C': 49.09769550629994, 'kernel': 'poly', 'gamma': 0.37763486663642915, 'degree': 2}. Best is trial 6 with value: 0.9314285714285715.\n",
      "[I 2024-02-08 22:41:21,177] Trial 160 finished with value: 0.9314285714285715 and parameters: {'C': 97.58897147375261, 'kernel': 'poly', 'gamma': 0.325845612595954, 'degree': 2}. Best is trial 6 with value: 0.9314285714285715.\n",
      "[I 2024-02-08 22:41:21,466] Trial 161 finished with value: 0.9314285714285715 and parameters: {'C': 48.912809100493455, 'kernel': 'poly', 'gamma': 0.3223913964242872, 'degree': 2}. Best is trial 6 with value: 0.9314285714285715.\n",
      "[I 2024-02-08 22:41:21,659] Trial 162 finished with value: 0.9314285714285715 and parameters: {'C': 49.16405578589314, 'kernel': 'poly', 'gamma': 0.38125456357471504, 'degree': 2}. Best is trial 6 with value: 0.9314285714285715.\n",
      "[I 2024-02-08 22:41:21,730] Trial 163 finished with value: 0.9314285714285715 and parameters: {'C': 49.883382817116164, 'kernel': 'poly', 'gamma': 0.37878096822381946, 'degree': 2}. Best is trial 6 with value: 0.9314285714285715.\n",
      "[I 2024-02-08 22:41:22,033] Trial 164 finished with value: 0.9314285714285715 and parameters: {'C': 49.32889896072727, 'kernel': 'poly', 'gamma': 0.3804506616009352, 'degree': 2}. Best is trial 6 with value: 0.9314285714285715.\n",
      "[I 2024-02-08 22:41:22,261] Trial 165 finished with value: 0.9314285714285715 and parameters: {'C': 45.58429256517066, 'kernel': 'poly', 'gamma': 0.381062915408211, 'degree': 2}. Best is trial 6 with value: 0.9314285714285715.\n",
      "[I 2024-02-08 22:41:22,470] Trial 166 finished with value: 0.9314285714285715 and parameters: {'C': 46.296064750851144, 'kernel': 'poly', 'gamma': 0.3799606609808017, 'degree': 2}. Best is trial 6 with value: 0.9314285714285715.\n",
      "[I 2024-02-08 22:41:22,729] Trial 167 finished with value: 0.9314285714285715 and parameters: {'C': 45.25593008439169, 'kernel': 'poly', 'gamma': 0.37276395512228044, 'degree': 2}. Best is trial 6 with value: 0.9314285714285715.\n",
      "[I 2024-02-08 22:41:22,952] Trial 168 finished with value: 0.9314285714285715 and parameters: {'C': 45.99143914143149, 'kernel': 'poly', 'gamma': 0.37921754218750764, 'degree': 2}. Best is trial 6 with value: 0.9314285714285715.\n",
      "[I 2024-02-08 22:41:23,096] Trial 169 finished with value: 0.9314285714285715 and parameters: {'C': 47.71642563749472, 'kernel': 'poly', 'gamma': 0.3734725442194369, 'degree': 2}. Best is trial 6 with value: 0.9314285714285715.\n",
      "[I 2024-02-08 22:41:23,386] Trial 170 finished with value: 0.9314285714285715 and parameters: {'C': 46.08349390854292, 'kernel': 'poly', 'gamma': 0.37784579305144184, 'degree': 2}. Best is trial 6 with value: 0.9314285714285715.\n",
      "[I 2024-02-08 22:41:23,603] Trial 171 finished with value: 0.9314285714285715 and parameters: {'C': 7.567294443930166, 'kernel': 'poly', 'gamma': 0.4211940050462666, 'degree': 2}. Best is trial 6 with value: 0.9314285714285715.\n",
      "[I 2024-02-08 22:41:23,744] Trial 172 finished with value: 0.9314285714285715 and parameters: {'C': 47.084986426192344, 'kernel': 'poly', 'gamma': 0.42172287852101803, 'degree': 2}. Best is trial 6 with value: 0.9314285714285715.\n",
      "[I 2024-02-08 22:41:23,889] Trial 173 finished with value: 0.9314285714285715 and parameters: {'C': 60.5645448200442, 'kernel': 'poly', 'gamma': 0.42805291651462624, 'degree': 2}. Best is trial 6 with value: 0.9314285714285715.\n",
      "[I 2024-02-08 22:41:24,253] Trial 174 finished with value: 0.9314285714285715 and parameters: {'C': 38.29631475593154, 'kernel': 'poly', 'gamma': 0.41926726572245465, 'degree': 2}. Best is trial 6 with value: 0.9314285714285715.\n",
      "[I 2024-02-08 22:41:24,476] Trial 175 finished with value: 0.9314285714285715 and parameters: {'C': 46.19054293224155, 'kernel': 'poly', 'gamma': 0.41727469840454684, 'degree': 2}. Best is trial 6 with value: 0.9314285714285715.\n",
      "[I 2024-02-08 22:41:24,516] Trial 176 finished with value: 0.9314285714285715 and parameters: {'C': 46.23360125903153, 'kernel': 'poly', 'gamma': 0.4253717294149683, 'degree': 2}. Best is trial 6 with value: 0.9314285714285715.\n",
      "[I 2024-02-08 22:41:24,867] Trial 177 finished with value: 0.9314285714285715 and parameters: {'C': 45.55114956676325, 'kernel': 'poly', 'gamma': 0.4207305399991458, 'degree': 2}. Best is trial 6 with value: 0.9314285714285715.\n",
      "[I 2024-02-08 22:41:25,003] Trial 178 finished with value: 0.9314285714285715 and parameters: {'C': 38.63384869857437, 'kernel': 'poly', 'gamma': 0.4249129493259299, 'degree': 2}. Best is trial 6 with value: 0.9314285714285715.\n",
      "[I 2024-02-08 22:41:25,316] Trial 179 finished with value: 0.9314285714285715 and parameters: {'C': 38.51940639733328, 'kernel': 'poly', 'gamma': 0.42630368739240265, 'degree': 2}. Best is trial 6 with value: 0.9314285714285715.\n",
      "[I 2024-02-08 22:41:25,514] Trial 180 finished with value: 0.9314285714285715 and parameters: {'C': 9.257835130569312, 'kernel': 'poly', 'gamma': 0.42625130697963504, 'degree': 2}. Best is trial 6 with value: 0.9314285714285715.\n",
      "[I 2024-02-08 22:41:25,735] Trial 181 finished with value: 0.9314285714285715 and parameters: {'C': 59.90996156012361, 'kernel': 'poly', 'gamma': 0.41810765926319343, 'degree': 2}. Best is trial 6 with value: 0.9314285714285715.\n",
      "[I 2024-02-08 22:41:25,926] Trial 182 finished with value: 0.9314285714285715 and parameters: {'C': 12.34515228949217, 'kernel': 'poly', 'gamma': 0.415277710960925, 'degree': 2}. Best is trial 6 with value: 0.9314285714285715.\n",
      "[I 2024-02-08 22:41:26,211] Trial 183 finished with value: 0.9314285714285715 and parameters: {'C': 95.29497912669727, 'kernel': 'poly', 'gamma': 0.4237403270076785, 'degree': 2}. Best is trial 6 with value: 0.9314285714285715.\n",
      "[I 2024-02-08 22:41:26,416] Trial 184 finished with value: 0.9314285714285715 and parameters: {'C': 61.59823955362968, 'kernel': 'poly', 'gamma': 0.4234122869446968, 'degree': 2}. Best is trial 6 with value: 0.9314285714285715.\n",
      "[I 2024-02-08 22:41:26,563] Trial 185 finished with value: 0.9314285714285715 and parameters: {'C': 40.56744608801776, 'kernel': 'poly', 'gamma': 0.7510313008329217, 'degree': 2}. Best is trial 6 with value: 0.9314285714285715.\n",
      "[I 2024-02-08 22:41:26,804] Trial 186 finished with value: 0.9314285714285715 and parameters: {'C': 40.76722376588347, 'kernel': 'poly', 'gamma': 0.3486791679479317, 'degree': 2}. Best is trial 6 with value: 0.9314285714285715.\n",
      "[I 2024-02-08 22:41:27,513] Trial 188 finished with value: 0.9314285714285715 and parameters: {'C': 96.42292323173272, 'kernel': 'poly', 'gamma': 0.023061278341330038, 'degree': 2}. Best is trial 6 with value: 0.9314285714285715.\n",
      "[I 2024-02-08 22:41:27,541] Trial 187 finished with value: 0.7508571428571428 and parameters: {'C': 40.68784479650953, 'kernel': 'poly', 'gamma': 0.3443363479553942, 'degree': 7}. Best is trial 6 with value: 0.9314285714285715.\n",
      "[I 2024-02-08 22:41:27,852] Trial 189 finished with value: 0.9314285714285715 and parameters: {'C': 40.93097431287468, 'kernel': 'poly', 'gamma': 0.3444340679419178, 'degree': 2}. Best is trial 6 with value: 0.9314285714285715.\n",
      "[I 2024-02-08 22:41:28,500] Trial 190 finished with value: 0.7577142857142858 and parameters: {'C': 94.41088053495959, 'kernel': 'poly', 'gamma': 0.5304648672684773, 'degree': 8}. Best is trial 6 with value: 0.9314285714285715.\n",
      "[I 2024-02-08 22:41:28,645] Trial 191 finished with value: 0.9314285714285715 and parameters: {'C': 40.959709477826024, 'kernel': 'poly', 'gamma': 0.3522542531347667, 'degree': 2}. Best is trial 6 with value: 0.9314285714285715.\n",
      "[I 2024-02-08 22:41:28,893] Trial 192 finished with value: 0.9314285714285715 and parameters: {'C': 40.460201120126506, 'kernel': 'poly', 'gamma': 0.23155006568581338, 'degree': 2}. Best is trial 6 with value: 0.9314285714285715.\n",
      "[I 2024-02-08 22:41:29,016] Trial 193 finished with value: 0.9314285714285715 and parameters: {'C': 41.05657042531628, 'kernel': 'poly', 'gamma': 0.34786691313508195, 'degree': 2}. Best is trial 6 with value: 0.9314285714285715.\n",
      "[I 2024-02-08 22:41:29,212] Trial 194 finished with value: 0.9314285714285715 and parameters: {'C': 41.0662602371049, 'kernel': 'poly', 'gamma': 0.5334526136972103, 'degree': 2}. Best is trial 6 with value: 0.9314285714285715.\n",
      "[I 2024-02-08 22:41:29,451] Trial 195 finished with value: 0.9314285714285715 and parameters: {'C': 41.53949803860593, 'kernel': 'poly', 'gamma': 0.22750745197653288, 'degree': 2}. Best is trial 6 with value: 0.9314285714285715.\n",
      "[I 2024-02-08 22:41:30,224] Trial 196 finished with value: 0.7577142857142858 and parameters: {'C': 34.97243727771309, 'kernel': 'poly', 'gamma': 0.23917880697748825, 'degree': 8}. Best is trial 6 with value: 0.9314285714285715.\n",
      "[I 2024-02-08 22:41:30,257] Trial 197 finished with value: 0.9314285714285715 and parameters: {'C': 34.57105326399656, 'kernel': 'poly', 'gamma': 0.34095897980886114, 'degree': 2}. Best is trial 6 with value: 0.9314285714285715.\n",
      "[I 2024-02-08 22:41:30,360] Trial 198 finished with value: 0.9314285714285715 and parameters: {'C': 34.85945578245781, 'kernel': 'poly', 'gamma': 0.46271842029964894, 'degree': 2}. Best is trial 6 with value: 0.9314285714285715.\n",
      "[I 2024-02-08 22:41:31,201] Trial 200 finished with value: 0.9314285714285715 and parameters: {'C': 99.40550574962164, 'kernel': 'poly', 'gamma': 0.28084100275610446, 'degree': 2}. Best is trial 6 with value: 0.9314285714285715.\n",
      "[I 2024-02-08 22:41:31,236] Trial 199 finished with value: 0.7577142857142858 and parameters: {'C': 99.98787187449462, 'kernel': 'poly', 'gamma': 0.24484659426617295, 'degree': 8}. Best is trial 6 with value: 0.9314285714285715.\n",
      "[I 2024-02-08 22:41:31,408] Trial 201 finished with value: 0.9314285714285715 and parameters: {'C': 34.33063745177758, 'kernel': 'poly', 'gamma': 0.24697399094924755, 'degree': 2}. Best is trial 6 with value: 0.9314285714285715.\n",
      "[I 2024-02-08 22:41:31,677] Trial 202 finished with value: 0.9314285714285715 and parameters: {'C': 99.87717555575551, 'kernel': 'poly', 'gamma': 0.25448682203208123, 'degree': 2}. Best is trial 6 with value: 0.9314285714285715.\n",
      "[I 2024-02-08 22:41:31,895] Trial 203 finished with value: 0.9314285714285715 and parameters: {'C': 75.73030750186868, 'kernel': 'poly', 'gamma': 0.23821764587402244, 'degree': 2}. Best is trial 6 with value: 0.9314285714285715.\n",
      "[I 2024-02-08 22:41:32,097] Trial 204 finished with value: 0.9314285714285715 and parameters: {'C': 98.18901455387974, 'kernel': 'poly', 'gamma': 0.24228967958423084, 'degree': 2}. Best is trial 6 with value: 0.9314285714285715.\n",
      "[I 2024-02-08 22:41:32,306] Trial 205 finished with value: 0.9314285714285715 and parameters: {'C': 74.03552859200884, 'kernel': 'poly', 'gamma': 0.2571047375823682, 'degree': 2}. Best is trial 6 with value: 0.9314285714285715.\n",
      "[I 2024-02-08 22:41:32,611] Trial 206 finished with value: 0.9314285714285715 and parameters: {'C': 34.6971247673853, 'kernel': 'poly', 'gamma': 0.2530133363430104, 'degree': 2}. Best is trial 6 with value: 0.9314285714285715.\n",
      "[I 2024-02-08 22:41:32,798] Trial 207 finished with value: 0.9314285714285715 and parameters: {'C': 98.64889309346444, 'kernel': 'poly', 'gamma': 0.15011460713703412, 'degree': 2}. Best is trial 6 with value: 0.9314285714285715.\n",
      "[I 2024-02-08 22:41:33,022] Trial 208 finished with value: 0.9314285714285715 and parameters: {'C': 97.51771043643286, 'kernel': 'poly', 'gamma': 0.14987628700001498, 'degree': 2}. Best is trial 6 with value: 0.9314285714285715.\n",
      "[I 2024-02-08 22:41:33,102] Trial 209 finished with value: 0.9314285714285715 and parameters: {'C': 99.30866312279204, 'kernel': 'poly', 'gamma': 0.4559627523086413, 'degree': 2}. Best is trial 6 with value: 0.9314285714285715.\n",
      "[I 2024-02-08 22:41:33,426] Trial 210 finished with value: 0.9314285714285715 and parameters: {'C': 98.89616811664958, 'kernel': 'poly', 'gamma': 0.4486829903253715, 'degree': 2}. Best is trial 6 with value: 0.9314285714285715.\n",
      "[I 2024-02-08 22:41:33,620] Trial 211 finished with value: 0.9314285714285715 and parameters: {'C': 97.04315693691102, 'kernel': 'poly', 'gamma': 0.4566476317594736, 'degree': 2}. Best is trial 6 with value: 0.9314285714285715.\n",
      "[I 2024-02-08 22:41:33,834] Trial 212 finished with value: 0.9314285714285715 and parameters: {'C': 98.39594578281391, 'kernel': 'poly', 'gamma': 0.2636101196464688, 'degree': 2}. Best is trial 6 with value: 0.9314285714285715.\n",
      "[I 2024-02-08 22:41:34,087] Trial 213 finished with value: 0.9314285714285715 and parameters: {'C': 64.23200710571146, 'kernel': 'poly', 'gamma': 0.2575385389066307, 'degree': 2}. Best is trial 6 with value: 0.9314285714285715.\n",
      "[I 2024-02-08 22:41:34,300] Trial 214 finished with value: 0.9314285714285715 and parameters: {'C': 72.32381971072718, 'kernel': 'poly', 'gamma': 0.26743156479800534, 'degree': 2}. Best is trial 6 with value: 0.9314285714285715.\n",
      "[I 2024-02-08 22:41:34,559] Trial 215 finished with value: 0.9314285714285715 and parameters: {'C': 43.762101510937896, 'kernel': 'poly', 'gamma': 0.2663446860320991, 'degree': 2}. Best is trial 6 with value: 0.9314285714285715.\n",
      "[I 2024-02-08 22:41:34,755] Trial 216 finished with value: 0.9314285714285715 and parameters: {'C': 68.01259764786421, 'kernel': 'poly', 'gamma': 0.2615375675701888, 'degree': 2}. Best is trial 6 with value: 0.9314285714285715.\n",
      "[I 2024-02-08 22:41:34,999] Trial 217 finished with value: 0.9314285714285715 and parameters: {'C': 44.74118166533966, 'kernel': 'poly', 'gamma': 0.27180304526800386, 'degree': 2}. Best is trial 6 with value: 0.9314285714285715.\n",
      "[I 2024-02-08 22:41:35,215] Trial 218 finished with value: 0.9314285714285715 and parameters: {'C': 44.4469513447286, 'kernel': 'poly', 'gamma': 0.2827325254140998, 'degree': 2}. Best is trial 6 with value: 0.9314285714285715.\n",
      "[I 2024-02-08 22:41:35,350] Trial 219 finished with value: 0.9314285714285715 and parameters: {'C': 68.03455696499145, 'kernel': 'poly', 'gamma': 0.2839678556774947, 'degree': 2}. Best is trial 6 with value: 0.9314285714285715.\n",
      "[I 2024-02-08 22:41:35,646] Trial 220 finished with value: 0.9314285714285715 and parameters: {'C': 44.10754974905219, 'kernel': 'poly', 'gamma': 0.4473803465757244, 'degree': 2}. Best is trial 6 with value: 0.9314285714285715.\n",
      "[I 2024-02-08 22:41:35,875] Trial 221 finished with value: 0.9314285714285715 and parameters: {'C': 44.1405784401056, 'kernel': 'poly', 'gamma': 0.2790405221717098, 'degree': 2}. Best is trial 6 with value: 0.9314285714285715.\n",
      "[I 2024-02-08 22:41:36,113] Trial 222 finished with value: 0.9314285714285715 and parameters: {'C': 65.38276036958636, 'kernel': 'poly', 'gamma': 0.273387335284935, 'degree': 2}. Best is trial 6 with value: 0.9314285714285715.\n",
      "[I 2024-02-08 22:41:36,290] Trial 223 finished with value: 0.9314285714285715 and parameters: {'C': 68.59063344975843, 'kernel': 'poly', 'gamma': 0.2724913744674576, 'degree': 2}. Best is trial 6 with value: 0.9314285714285715.\n",
      "[I 2024-02-08 22:41:36,532] Trial 224 finished with value: 0.9314285714285715 and parameters: {'C': 66.64726669589047, 'kernel': 'poly', 'gamma': 0.26978580022988397, 'degree': 2}. Best is trial 6 with value: 0.9314285714285715.\n",
      "[I 2024-02-08 22:41:36,809] Trial 225 finished with value: 0.9314285714285715 and parameters: {'C': 66.84803926209635, 'kernel': 'poly', 'gamma': 0.28963939479427697, 'degree': 2}. Best is trial 6 with value: 0.9314285714285715.\n",
      "[I 2024-02-08 22:41:36,967] Trial 226 finished with value: 0.9314285714285715 and parameters: {'C': 44.73528247772619, 'kernel': 'poly', 'gamma': 0.3983818485930156, 'degree': 2}. Best is trial 6 with value: 0.9314285714285715.\n",
      "[I 2024-02-08 22:41:37,165] Trial 227 finished with value: 0.9314285714285715 and parameters: {'C': 65.04943762649434, 'kernel': 'poly', 'gamma': 0.282527566317878, 'degree': 2}. Best is trial 6 with value: 0.9314285714285715.\n",
      "[I 2024-02-08 22:41:37,385] Trial 228 finished with value: 0.9314285714285715 and parameters: {'C': 69.04991917549282, 'kernel': 'poly', 'gamma': 0.28325452864856976, 'degree': 2}. Best is trial 6 with value: 0.9314285714285715.\n",
      "[I 2024-02-08 22:41:37,709] Trial 229 finished with value: 0.9314285714285715 and parameters: {'C': 63.904468771371846, 'kernel': 'poly', 'gamma': 0.2855090099241403, 'degree': 2}. Best is trial 6 with value: 0.9314285714285715.\n",
      "[I 2024-02-08 22:41:37,828] Trial 230 finished with value: 0.9314285714285715 and parameters: {'C': 67.71984407897916, 'kernel': 'poly', 'gamma': 0.4809143537707208, 'degree': 2}. Best is trial 6 with value: 0.9314285714285715.\n",
      "[I 2024-02-08 22:41:38,044] Trial 231 finished with value: 0.9314285714285715 and parameters: {'C': 25.556049466850627, 'kernel': 'poly', 'gamma': 0.39727496453344147, 'degree': 2}. Best is trial 6 with value: 0.9314285714285715.\n",
      "[I 2024-02-08 22:41:38,275] Trial 232 finished with value: 0.9314285714285715 and parameters: {'C': 66.12383363389156, 'kernel': 'poly', 'gamma': 0.3988037046996785, 'degree': 2}. Best is trial 6 with value: 0.9314285714285715.\n",
      "[I 2024-02-08 22:41:38,465] Trial 233 finished with value: 0.9314285714285715 and parameters: {'C': 65.20274423859176, 'kernel': 'poly', 'gamma': 0.2198005619042474, 'degree': 2}. Best is trial 6 with value: 0.9314285714285715.\n",
      "[I 2024-02-08 22:41:38,763] Trial 234 finished with value: 0.9314285714285715 and parameters: {'C': 63.25786602722109, 'kernel': 'poly', 'gamma': 0.30667713831566207, 'degree': 2}. Best is trial 6 with value: 0.9314285714285715.\n",
      "[I 2024-02-08 22:41:38,821] Trial 235 finished with value: 0.9314285714285715 and parameters: {'C': 65.83196249633065, 'kernel': 'poly', 'gamma': 0.39925733604947267, 'degree': 2}. Best is trial 6 with value: 0.9314285714285715.\n",
      "[I 2024-02-08 22:41:39,170] Trial 236 finished with value: 0.9314285714285715 and parameters: {'C': 63.03451645286579, 'kernel': 'poly', 'gamma': 0.40008796901154425, 'degree': 2}. Best is trial 6 with value: 0.9314285714285715.\n",
      "[I 2024-02-08 22:41:39,409] Trial 237 finished with value: 0.9314285714285715 and parameters: {'C': 94.91946772942094, 'kernel': 'poly', 'gamma': 0.40085905676967604, 'degree': 2}. Best is trial 6 with value: 0.9314285714285715.\n",
      "[I 2024-02-08 22:41:39,579] Trial 238 finished with value: 0.9314285714285715 and parameters: {'C': 70.7427312790696, 'kernel': 'poly', 'gamma': 0.21564898280404196, 'degree': 2}. Best is trial 6 with value: 0.9314285714285715.\n",
      "[I 2024-02-08 22:41:39,678] Trial 239 finished with value: 0.9314285714285715 and parameters: {'C': 95.8256915274664, 'kernel': 'poly', 'gamma': 0.39695977140574323, 'degree': 2}. Best is trial 6 with value: 0.9314285714285715.\n",
      "[I 2024-02-08 22:41:40,013] Trial 240 finished with value: 0.9314285714285715 and parameters: {'C': 25.003131853053517, 'kernel': 'poly', 'gamma': 0.2212223405601959, 'degree': 2}. Best is trial 6 with value: 0.9314285714285715.\n",
      "[I 2024-02-08 22:41:40,191] Trial 241 finished with value: 0.9314285714285715 and parameters: {'C': 26.66928035534565, 'kernel': 'poly', 'gamma': 0.21767572705421503, 'degree': 2}. Best is trial 6 with value: 0.9314285714285715.\n",
      "[I 2024-02-08 22:41:40,537] Trial 242 finished with value: 0.9314285714285715 and parameters: {'C': 85.02182834453085, 'kernel': 'poly', 'gamma': 0.3962330167752668, 'degree': 2}. Best is trial 6 with value: 0.9314285714285715.\n",
      "[I 2024-02-08 22:41:40,610] Trial 243 finished with value: 0.9314285714285715 and parameters: {'C': 78.7496624448909, 'kernel': 'poly', 'gamma': 0.22018292823530605, 'degree': 2}. Best is trial 6 with value: 0.9314285714285715.\n",
      "[I 2024-02-08 22:41:40,915] Trial 244 finished with value: 0.9314285714285715 and parameters: {'C': 71.45053293939246, 'kernel': 'poly', 'gamma': 0.36088394855038947, 'degree': 2}. Best is trial 6 with value: 0.9314285714285715.\n",
      "[I 2024-02-08 22:41:41,076] Trial 245 finished with value: 0.9314285714285715 and parameters: {'C': 83.04260688708573, 'kernel': 'poly', 'gamma': 0.3646748154819976, 'degree': 2}. Best is trial 6 with value: 0.9314285714285715.\n",
      "[I 2024-02-08 22:41:41,240] Trial 246 finished with value: 0.9314285714285715 and parameters: {'C': 95.0594527139597, 'kernel': 'poly', 'gamma': 0.3592022386003724, 'degree': 2}. Best is trial 6 with value: 0.9314285714285715.\n",
      "[I 2024-02-08 22:41:41,450] Trial 247 finished with value: 0.9314285714285715 and parameters: {'C': 72.22690112481502, 'kernel': 'poly', 'gamma': 0.359175362829103, 'degree': 2}. Best is trial 6 with value: 0.9314285714285715.\n",
      "[I 2024-02-08 22:41:41,770] Trial 248 finished with value: 0.9314285714285715 and parameters: {'C': 71.8155943353535, 'kernel': 'poly', 'gamma': 0.3565192363826896, 'degree': 2}. Best is trial 6 with value: 0.9314285714285715.\n",
      "[I 2024-02-08 22:41:42,053] Trial 249 finished with value: 0.9314285714285715 and parameters: {'C': 72.51784502738386, 'kernel': 'poly', 'gamma': 0.3698907287562582, 'degree': 2}. Best is trial 6 with value: 0.9314285714285715.\n",
      "[I 2024-02-08 22:41:42,239] Trial 250 finished with value: 0.9314285714285715 and parameters: {'C': 82.18464902369838, 'kernel': 'poly', 'gamma': 0.3520205235312028, 'degree': 2}. Best is trial 6 with value: 0.9314285714285715.\n",
      "[I 2024-02-08 22:41:42,522] Trial 251 finished with value: 0.9314285714285715 and parameters: {'C': 47.72837116852862, 'kernel': 'poly', 'gamma': 0.35390443674130273, 'degree': 2}. Best is trial 6 with value: 0.9314285714285715.\n",
      "[I 2024-02-08 22:41:42,674] Trial 252 finished with value: 0.9314285714285715 and parameters: {'C': 81.68792463168545, 'kernel': 'poly', 'gamma': 0.35371517998029683, 'degree': 2}. Best is trial 6 with value: 0.9314285714285715.\n",
      "[I 2024-02-08 22:41:42,950] Trial 253 finished with value: 0.9314285714285715 and parameters: {'C': 47.1956115002358, 'kernel': 'poly', 'gamma': 0.3661700266236092, 'degree': 2}. Best is trial 6 with value: 0.9314285714285715.\n",
      "[I 2024-02-08 22:41:43,130] Trial 254 finished with value: 0.9314285714285715 and parameters: {'C': 81.83117562734286, 'kernel': 'poly', 'gamma': 0.3670668291419183, 'degree': 2}. Best is trial 6 with value: 0.9314285714285715.\n",
      "[I 2024-02-08 22:41:43,303] Trial 255 finished with value: 0.9314285714285715 and parameters: {'C': 84.56359383012901, 'kernel': 'poly', 'gamma': 0.36007056388527775, 'degree': 2}. Best is trial 6 with value: 0.9314285714285715.\n",
      "[I 2024-02-08 22:41:43,562] Trial 256 finished with value: 0.9314285714285715 and parameters: {'C': 84.07120464826274, 'kernel': 'poly', 'gamma': 0.3640934908121887, 'degree': 2}. Best is trial 6 with value: 0.9314285714285715.\n",
      "[I 2024-02-08 22:41:43,729] Trial 257 finished with value: 0.9314285714285715 and parameters: {'C': 83.510814734922, 'kernel': 'poly', 'gamma': 0.35637205801230315, 'degree': 2}. Best is trial 6 with value: 0.9314285714285715.\n",
      "[I 2024-02-08 22:41:44,022] Trial 258 finished with value: 0.9314285714285715 and parameters: {'C': 76.64317678017468, 'kernel': 'poly', 'gamma': 0.3119412048361949, 'degree': 2}. Best is trial 6 with value: 0.9314285714285715.\n",
      "[I 2024-02-08 22:41:44,099] Trial 259 finished with value: 0.9314285714285715 and parameters: {'C': 82.80398945031246, 'kernel': 'poly', 'gamma': 0.44396756618263344, 'degree': 2}. Best is trial 6 with value: 0.9314285714285715.\n",
      "[I 2024-02-08 22:41:44,318] Trial 260 finished with value: 0.9314285714285715 and parameters: {'C': 47.763897604891255, 'kernel': 'poly', 'gamma': 0.44108844289620336, 'degree': 2}. Best is trial 6 with value: 0.9314285714285715.\n",
      "[I 2024-02-08 22:41:44,744] Trial 261 finished with value: 0.9314285714285715 and parameters: {'C': 47.241025532829006, 'kernel': 'poly', 'gamma': 0.4420596940243134, 'degree': 2}. Best is trial 6 with value: 0.9314285714285715.\n",
      "[I 2024-02-08 22:41:44,943] Trial 262 finished with value: 0.9314285714285715 and parameters: {'C': 46.93442561463359, 'kernel': 'poly', 'gamma': 0.30938349475735716, 'degree': 2}. Best is trial 6 with value: 0.9314285714285715.\n",
      "[I 2024-02-08 22:41:45,090] Trial 263 finished with value: 0.9314285714285715 and parameters: {'C': 47.903929644589894, 'kernel': 'poly', 'gamma': 0.43817692430548777, 'degree': 2}. Best is trial 6 with value: 0.9314285714285715.\n",
      "[I 2024-02-08 22:41:45,267] Trial 264 finished with value: 0.9314285714285715 and parameters: {'C': 46.83897010019172, 'kernel': 'poly', 'gamma': 0.31102536370523287, 'degree': 2}. Best is trial 6 with value: 0.9314285714285715.\n",
      "[I 2024-02-08 22:41:45,438] Trial 265 finished with value: 0.9314285714285715 and parameters: {'C': 38.298884474054816, 'kernel': 'poly', 'gamma': 0.44612526673165204, 'degree': 2}. Best is trial 6 with value: 0.9314285714285715.\n",
      "[I 2024-02-08 22:41:45,725] Trial 266 finished with value: 0.9314285714285715 and parameters: {'C': 43.14440098527778, 'kernel': 'poly', 'gamma': 0.43781727987618324, 'degree': 2}. Best is trial 6 with value: 0.9314285714285715.\n",
      "[I 2024-02-08 22:41:46,025] Trial 267 finished with value: 0.9314285714285715 and parameters: {'C': 38.447349090705146, 'kernel': 'poly', 'gamma': 0.43834624301296204, 'degree': 2}. Best is trial 6 with value: 0.9314285714285715.\n",
      "[I 2024-02-08 22:41:46,537] Trial 268 finished with value: 0.8954285714285714 and parameters: {'C': 42.84509686369916, 'kernel': 'poly', 'gamma': 0.4409379859885232, 'degree': 3}. Best is trial 6 with value: 0.9314285714285715.\n",
      "[I 2024-02-08 22:41:46,836] Trial 269 finished with value: 0.8954285714285714 and parameters: {'C': 39.09341896430411, 'kernel': 'poly', 'gamma': 0.44280304803732395, 'degree': 3}. Best is trial 6 with value: 0.9314285714285715.\n",
      "[I 2024-02-08 22:41:46,972] Trial 270 finished with value: 0.9314285714285715 and parameters: {'C': 90.14610774993507, 'kernel': 'poly', 'gamma': 0.44295284930144363, 'degree': 2}. Best is trial 6 with value: 0.9314285714285715.\n",
      "[I 2024-02-08 22:41:47,205] Trial 271 finished with value: 0.9314285714285715 and parameters: {'C': 39.10740606051207, 'kernel': 'poly', 'gamma': 0.46785129216761, 'degree': 2}. Best is trial 6 with value: 0.9314285714285715.\n",
      "[I 2024-02-08 22:41:47,694] Trial 272 finished with value: 0.8954285714285714 and parameters: {'C': 90.65031707966457, 'kernel': 'poly', 'gamma': 0.7149806395129037, 'degree': 3}. Best is trial 6 with value: 0.9314285714285715.\n",
      "[I 2024-02-08 22:41:48,250] Trial 273 finished with value: 0.8954285714285714 and parameters: {'C': 37.44093352096074, 'kernel': 'poly', 'gamma': 0.47469909939546057, 'degree': 3}. Best is trial 6 with value: 0.9314285714285715.\n",
      "[I 2024-02-08 22:41:48,509] Trial 274 finished with value: 0.8954285714285714 and parameters: {'C': 42.67960288291016, 'kernel': 'poly', 'gamma': 0.48012679183979706, 'degree': 3}. Best is trial 6 with value: 0.9314285714285715.\n",
      "[I 2024-02-08 22:41:48,989] Trial 275 finished with value: 0.8954285714285714 and parameters: {'C': 37.81495947963646, 'kernel': 'poly', 'gamma': 0.4665098950466766, 'degree': 3}. Best is trial 6 with value: 0.9314285714285715.\n",
      "[I 2024-02-08 22:41:49,363] Trial 276 finished with value: 0.8954285714285714 and parameters: {'C': 38.633737664421815, 'kernel': 'poly', 'gamma': 0.4711375204242073, 'degree': 3}. Best is trial 6 with value: 0.9314285714285715.\n",
      "[I 2024-02-08 22:41:49,730] Trial 277 finished with value: 0.8954285714285714 and parameters: {'C': 96.82250903146121, 'kernel': 'poly', 'gamma': 0.4789825236478575, 'degree': 3}. Best is trial 6 with value: 0.9314285714285715.\n",
      "[I 2024-02-08 22:41:50,137] Trial 278 finished with value: 0.8954285714285714 and parameters: {'C': 90.1537495663391, 'kernel': 'poly', 'gamma': 0.4756078694078515, 'degree': 3}. Best is trial 6 with value: 0.9314285714285715.\n",
      "[I 2024-02-08 22:41:50,705] Trial 280 finished with value: 0.9314285714285715 and parameters: {'C': 97.7960743511877, 'kernel': 'poly', 'gamma': 0.47164328239101294, 'degree': 2}. Best is trial 6 with value: 0.9314285714285715.\n",
      "[I 2024-02-08 22:41:50,729] Trial 279 finished with value: 0.8954285714285714 and parameters: {'C': 90.12125961416649, 'kernel': 'poly', 'gamma': 0.4642378638718923, 'degree': 3}. Best is trial 6 with value: 0.9314285714285715.\n",
      "[I 2024-02-08 22:41:50,849] Trial 281 finished with value: 0.9314285714285715 and parameters: {'C': 96.56690571949034, 'kernel': 'poly', 'gamma': 0.4759219869384295, 'degree': 2}. Best is trial 6 with value: 0.9314285714285715.\n",
      "[I 2024-02-08 22:41:51,135] Trial 282 finished with value: 0.9314285714285715 and parameters: {'C': 97.5433560875533, 'kernel': 'poly', 'gamma': 0.476543677763975, 'degree': 2}. Best is trial 6 with value: 0.9314285714285715.\n",
      "[I 2024-02-08 22:41:51,374] Trial 283 finished with value: 0.9314285714285715 and parameters: {'C': 95.8946201101014, 'kernel': 'poly', 'gamma': 0.48298420868897923, 'degree': 2}. Best is trial 6 with value: 0.9314285714285715.\n",
      "[I 2024-02-08 22:41:51,581] Trial 284 finished with value: 0.9314285714285715 and parameters: {'C': 95.43892043995035, 'kernel': 'poly', 'gamma': 0.33099986854300717, 'degree': 2}. Best is trial 6 with value: 0.9314285714285715.\n",
      "[I 2024-02-08 22:41:51,790] Trial 285 finished with value: 0.9314285714285715 and parameters: {'C': 97.21738113197021, 'kernel': 'poly', 'gamma': 0.4863087802907262, 'degree': 2}. Best is trial 6 with value: 0.9314285714285715.\n",
      "[I 2024-02-08 22:41:52,012] Trial 286 finished with value: 0.9314285714285715 and parameters: {'C': 96.80512969059832, 'kernel': 'poly', 'gamma': 0.32991140254716383, 'degree': 2}. Best is trial 6 with value: 0.9314285714285715.\n",
      "[I 2024-02-08 22:41:52,262] Trial 287 finished with value: 0.9314285714285715 and parameters: {'C': 96.7157728456695, 'kernel': 'poly', 'gamma': 0.4079612064578302, 'degree': 2}. Best is trial 6 with value: 0.9314285714285715.\n",
      "[I 2024-02-08 22:41:52,462] Trial 288 finished with value: 0.9314285714285715 and parameters: {'C': 96.33975804593095, 'kernel': 'poly', 'gamma': 0.5020613091682729, 'degree': 2}. Best is trial 6 with value: 0.9314285714285715.\n",
      "[I 2024-02-08 22:41:52,550] Trial 289 finished with value: 0.9314285714285715 and parameters: {'C': 54.35065806423001, 'kernel': 'poly', 'gamma': 0.40777925641841656, 'degree': 2}. Best is trial 6 with value: 0.9314285714285715.\n",
      "[I 2024-02-08 22:41:52,802] Trial 290 finished with value: 0.9314285714285715 and parameters: {'C': 54.64323795761787, 'kernel': 'poly', 'gamma': 0.3333555111312912, 'degree': 2}. Best is trial 6 with value: 0.9314285714285715.\n",
      "[I 2024-02-08 22:41:53,097] Trial 291 finished with value: 0.9314285714285715 and parameters: {'C': 44.73388655021311, 'kernel': 'poly', 'gamma': 0.4110964866578689, 'degree': 2}. Best is trial 6 with value: 0.9314285714285715.\n",
      "[I 2024-02-08 22:41:53,238] Trial 292 finished with value: 0.9314285714285715 and parameters: {'C': 94.86914173369001, 'kernel': 'poly', 'gamma': 0.33751995798905443, 'degree': 2}. Best is trial 6 with value: 0.9314285714285715.\n",
      "[I 2024-02-08 22:41:53,496] Trial 293 finished with value: 0.9314285714285715 and parameters: {'C': 94.08712314632454, 'kernel': 'poly', 'gamma': 0.33884467337224794, 'degree': 2}. Best is trial 6 with value: 0.9314285714285715.\n",
      "[I 2024-02-08 22:41:53,717] Trial 294 finished with value: 0.9314285714285715 and parameters: {'C': 93.726741504303, 'kernel': 'poly', 'gamma': 0.3378660627844389, 'degree': 2}. Best is trial 6 with value: 0.9314285714285715.\n",
      "[I 2024-02-08 22:41:53,877] Trial 295 finished with value: 0.9314285714285715 and parameters: {'C': 93.69910224803155, 'kernel': 'poly', 'gamma': 0.38578736271782477, 'degree': 2}. Best is trial 6 with value: 0.9314285714285715.\n",
      "[I 2024-02-08 22:41:54,210] Trial 296 finished with value: 0.9314285714285715 and parameters: {'C': 44.7106500919539, 'kernel': 'poly', 'gamma': 0.6191129349817726, 'degree': 2}. Best is trial 6 with value: 0.9314285714285715.\n",
      "[I 2024-02-08 22:41:54,400] Trial 297 finished with value: 0.9314285714285715 and parameters: {'C': 44.85768001807714, 'kernel': 'poly', 'gamma': 0.41085459518473705, 'degree': 2}. Best is trial 6 with value: 0.9314285714285715.\n",
      "[I 2024-02-08 22:41:54,786] Trial 298 finished with value: 0.9314285714285715 and parameters: {'C': 44.941734004859484, 'kernel': 'poly', 'gamma': 0.4157373053087854, 'degree': 2}. Best is trial 6 with value: 0.9314285714285715.\n",
      "[I 2024-02-08 22:41:54,859] Trial 299 finished with value: 0.9314285714285715 and parameters: {'C': 45.039760054561064, 'kernel': 'poly', 'gamma': 0.5155281223256182, 'degree': 2}. Best is trial 6 with value: 0.9314285714285715.\n",
      "[I 2024-02-08 22:41:55,098] Trial 300 finished with value: 0.9314285714285715 and parameters: {'C': 51.019732160208605, 'kernel': 'poly', 'gamma': 0.38459608191147904, 'degree': 2}. Best is trial 6 with value: 0.9314285714285715.\n",
      "[I 2024-02-08 22:41:55,271] Trial 301 finished with value: 0.9314285714285715 and parameters: {'C': 44.6106579969103, 'kernel': 'poly', 'gamma': 0.33239729329944, 'degree': 2}. Best is trial 6 with value: 0.9314285714285715.\n",
      "[I 2024-02-08 22:41:55,518] Trial 302 finished with value: 0.9314285714285715 and parameters: {'C': 42.19902371294855, 'kernel': 'poly', 'gamma': 0.8502242537969509, 'degree': 2}. Best is trial 6 with value: 0.9314285714285715.\n",
      "[I 2024-02-08 22:41:55,777] Trial 303 finished with value: 0.9314285714285715 and parameters: {'C': 58.73760654920194, 'kernel': 'poly', 'gamma': 0.9917002058391499, 'degree': 2}. Best is trial 6 with value: 0.9314285714285715.\n",
      "[I 2024-02-08 22:41:55,958] Trial 304 finished with value: 0.9314285714285715 and parameters: {'C': 42.43105783893853, 'kernel': 'poly', 'gamma': 0.3823636406559674, 'degree': 2}. Best is trial 6 with value: 0.9314285714285715.\n",
      "[I 2024-02-08 22:41:56,296] Trial 305 finished with value: 0.9314285714285715 and parameters: {'C': 77.65444732114928, 'kernel': 'poly', 'gamma': 0.3907347272821805, 'degree': 2}. Best is trial 6 with value: 0.9314285714285715.\n",
      "[I 2024-02-08 22:41:56,440] Trial 306 finished with value: 0.9314285714285715 and parameters: {'C': 50.406793204261064, 'kernel': 'poly', 'gamma': 0.38256112225239464, 'degree': 2}. Best is trial 6 with value: 0.9314285714285715.\n",
      "[I 2024-02-08 22:41:56,641] Trial 307 finished with value: 0.9314285714285715 and parameters: {'C': 28.7258946214562, 'kernel': 'poly', 'gamma': 0.16535688460260223, 'degree': 2}. Best is trial 6 with value: 0.9314285714285715.\n",
      "[I 2024-02-08 22:41:56,725] Trial 308 finished with value: 0.9314285714285715 and parameters: {'C': 50.993372573903876, 'kernel': 'poly', 'gamma': 0.24075878415063903, 'degree': 2}. Best is trial 6 with value: 0.9314285714285715.\n",
      "[I 2024-02-08 22:41:57,079] Trial 309 finished with value: 0.9314285714285715 and parameters: {'C': 99.84470818148985, 'kernel': 'poly', 'gamma': 0.384663948778975, 'degree': 2}. Best is trial 6 with value: 0.9314285714285715.\n",
      "[I 2024-02-08 22:41:57,271] Trial 310 finished with value: 0.9314285714285715 and parameters: {'C': 42.47059499630671, 'kernel': 'poly', 'gamma': 0.16752193012150934, 'degree': 2}. Best is trial 6 with value: 0.9314285714285715.\n",
      "[I 2024-02-08 22:41:57,508] Trial 311 finished with value: 0.9314285714285715 and parameters: {'C': 41.84631807899758, 'kernel': 'poly', 'gamma': 0.379899606825281, 'degree': 2}. Best is trial 6 with value: 0.9314285714285715.\n",
      "[I 2024-02-08 22:41:57,704] Trial 312 finished with value: 0.9314285714285715 and parameters: {'C': 99.97625291541861, 'kernel': 'poly', 'gamma': 0.23428234202455026, 'degree': 2}. Best is trial 6 with value: 0.9314285714285715.\n",
      "[I 2024-02-08 22:41:58,012] Trial 313 finished with value: 0.9314285714285715 and parameters: {'C': 58.452906628613334, 'kernel': 'poly', 'gamma': 0.9837827181566476, 'degree': 2}. Best is trial 6 with value: 0.9314285714285715.\n",
      "[I 2024-02-08 22:41:58,114] Trial 314 finished with value: 0.9314285714285715 and parameters: {'C': 19.808250153998923, 'kernel': 'poly', 'gamma': 0.2999351125412422, 'degree': 2}. Best is trial 6 with value: 0.9314285714285715.\n",
      "[I 2024-02-08 22:41:58,353] Trial 315 finished with value: 0.9314285714285715 and parameters: {'C': 61.846760768462126, 'kernel': 'poly', 'gamma': 0.18200431107543347, 'degree': 2}. Best is trial 6 with value: 0.9314285714285715.\n",
      "[I 2024-02-08 22:41:58,632] Trial 316 finished with value: 0.9314285714285715 and parameters: {'C': 99.71363939252306, 'kernel': 'poly', 'gamma': 0.2447904634086936, 'degree': 2}. Best is trial 6 with value: 0.9314285714285715.\n",
      "[I 2024-02-08 22:41:58,793] Trial 317 finished with value: 0.9314285714285715 and parameters: {'C': 32.31279868055293, 'kernel': 'poly', 'gamma': 0.18209915028767076, 'degree': 2}. Best is trial 6 with value: 0.9314285714285715.\n",
      "[I 2024-02-08 22:41:59,000] Trial 318 finished with value: 0.9314285714285715 and parameters: {'C': 41.092772450290134, 'kernel': 'poly', 'gamma': 0.2400711147997663, 'degree': 2}. Best is trial 6 with value: 0.9314285714285715.\n",
      "[I 2024-02-08 22:41:59,223] Trial 319 finished with value: 0.9314285714285715 and parameters: {'C': 99.65793671686097, 'kernel': 'poly', 'gamma': 0.30869023961070124, 'degree': 2}. Best is trial 6 with value: 0.9314285714285715.\n",
      "[I 2024-02-08 22:41:59,429] Trial 320 finished with value: 0.9314285714285715 and parameters: {'C': 99.03309633065146, 'kernel': 'poly', 'gamma': 0.31025720689526776, 'degree': 2}. Best is trial 6 with value: 0.9314285714285715.\n",
      "[I 2024-02-08 22:41:59,648] Trial 321 finished with value: 0.9314285714285715 and parameters: {'C': 41.00619194787443, 'kernel': 'poly', 'gamma': 0.30414408621438116, 'degree': 2}. Best is trial 6 with value: 0.9314285714285715.\n",
      "[I 2024-02-08 22:41:59,888] Trial 322 finished with value: 0.9314285714285715 and parameters: {'C': 32.687515548736776, 'kernel': 'poly', 'gamma': 0.3056286280427436, 'degree': 2}. Best is trial 6 with value: 0.9314285714285715.\n",
      "[I 2024-02-08 22:42:00,104] Trial 323 finished with value: 0.9314285714285715 and parameters: {'C': 48.23885899609926, 'kernel': 'poly', 'gamma': 0.30243992288155414, 'degree': 2}. Best is trial 6 with value: 0.9314285714285715.\n",
      "[I 2024-02-08 22:42:00,316] Trial 324 finished with value: 0.9314285714285715 and parameters: {'C': 79.65969708614188, 'kernel': 'poly', 'gamma': 0.4300092067322556, 'degree': 2}. Best is trial 6 with value: 0.9314285714285715.\n",
      "[I 2024-02-08 22:42:00,470] Trial 325 finished with value: 0.9314285714285715 and parameters: {'C': 31.65570978224094, 'kernel': 'poly', 'gamma': 0.3036936995751586, 'degree': 2}. Best is trial 6 with value: 0.9314285714285715.\n",
      "[I 2024-02-08 22:42:00,772] Trial 326 finished with value: 0.9314285714285715 and parameters: {'C': 80.28017382631239, 'kernel': 'poly', 'gamma': 0.7923460735532475, 'degree': 2}. Best is trial 6 with value: 0.9314285714285715.\n",
      "[I 2024-02-08 22:42:01,018] Trial 327 finished with value: 0.9314285714285715 and parameters: {'C': 75.19480190615452, 'kernel': 'poly', 'gamma': 0.4184486858180577, 'degree': 2}. Best is trial 6 with value: 0.9314285714285715.\n",
      "[I 2024-02-08 22:42:01,175] Trial 328 finished with value: 0.9314285714285715 and parameters: {'C': 73.60093371467089, 'kernel': 'poly', 'gamma': 0.9302827950287809, 'degree': 2}. Best is trial 6 with value: 0.9314285714285715.\n",
      "[I 2024-02-08 22:42:01,508] Trial 329 finished with value: 0.9314285714285715 and parameters: {'C': 74.02855861334186, 'kernel': 'poly', 'gamma': 0.419272415727062, 'degree': 2}. Best is trial 6 with value: 0.9314285714285715.\n",
      "[I 2024-02-08 22:42:01,716] Trial 330 finished with value: 0.9314285714285715 and parameters: {'C': 69.96705486378303, 'kernel': 'poly', 'gamma': 0.42040590789268467, 'degree': 2}. Best is trial 6 with value: 0.9314285714285715.\n",
      "[I 2024-02-08 22:42:01,766] Trial 331 finished with value: 0.9314285714285715 and parameters: {'C': 69.69627924737892, 'kernel': 'poly', 'gamma': 0.4105212020114978, 'degree': 2}. Best is trial 6 with value: 0.9314285714285715.\n",
      "[I 2024-02-08 22:42:02,044] Trial 332 finished with value: 0.9314285714285715 and parameters: {'C': 69.43851424188637, 'kernel': 'poly', 'gamma': 0.42513011714426896, 'degree': 2}. Best is trial 6 with value: 0.9314285714285715.\n",
      "[I 2024-02-08 22:42:02,272] Trial 333 finished with value: 0.9314285714285715 and parameters: {'C': 75.42013391545231, 'kernel': 'poly', 'gamma': 0.42401328753744105, 'degree': 2}. Best is trial 6 with value: 0.9314285714285715.\n",
      "[I 2024-02-08 22:42:02,505] Trial 334 finished with value: 0.9314285714285715 and parameters: {'C': 69.5414503917585, 'kernel': 'poly', 'gamma': 0.4268216193599859, 'degree': 2}. Best is trial 6 with value: 0.9314285714285715.\n",
      "[I 2024-02-08 22:42:02,712] Trial 335 finished with value: 0.9314285714285715 and parameters: {'C': 80.66684729243582, 'kernel': 'poly', 'gamma': 0.4276302245900372, 'degree': 2}. Best is trial 6 with value: 0.9314285714285715.\n",
      "[I 2024-02-08 22:42:02,966] Trial 336 finished with value: 0.9314285714285715 and parameters: {'C': 75.67423160424916, 'kernel': 'poly', 'gamma': 0.4165307804380108, 'degree': 2}. Best is trial 6 with value: 0.9314285714285715.\n",
      "[I 2024-02-08 22:42:03,020] Trial 337 finished with value: 0.9314285714285715 and parameters: {'C': 36.455082264235315, 'kernel': 'poly', 'gamma': 0.4234645400653795, 'degree': 2}. Best is trial 6 with value: 0.9314285714285715.\n",
      "[I 2024-02-08 22:42:03,509] Trial 338 finished with value: 0.9314285714285715 and parameters: {'C': 70.37789047635148, 'kernel': 'poly', 'gamma': 0.41692861789919783, 'degree': 2}. Best is trial 6 with value: 0.9314285714285715.\n",
      "[I 2024-02-08 22:42:03,556] Trial 339 finished with value: 0.9314285714285715 and parameters: {'C': 69.9462263010308, 'kernel': 'poly', 'gamma': 0.406521102524893, 'degree': 2}. Best is trial 6 with value: 0.9314285714285715.\n",
      "[I 2024-02-08 22:42:03,815] Trial 340 finished with value: 0.9314285714285715 and parameters: {'C': 36.52931842985137, 'kernel': 'poly', 'gamma': 0.42784682732612245, 'degree': 2}. Best is trial 6 with value: 0.9314285714285715.\n",
      "[I 2024-02-08 22:42:04,001] Trial 341 finished with value: 0.9314285714285715 and parameters: {'C': 36.39873977077548, 'kernel': 'poly', 'gamma': 0.26221938810566986, 'degree': 2}. Best is trial 6 with value: 0.9314285714285715.\n",
      "[I 2024-02-08 22:42:04,332] Trial 342 finished with value: 0.9314285714285715 and parameters: {'C': 46.77065106240067, 'kernel': 'poly', 'gamma': 0.4016299518691333, 'degree': 2}. Best is trial 6 with value: 0.9314285714285715.\n",
      "[I 2024-02-08 22:42:04,396] Trial 343 finished with value: 0.9314285714285715 and parameters: {'C': 36.34888229483944, 'kernel': 'poly', 'gamma': 0.25823022987627564, 'degree': 2}. Best is trial 6 with value: 0.9314285714285715.\n",
      "[I 2024-02-08 22:42:04,607] Trial 344 finished with value: 0.9314285714285715 and parameters: {'C': 46.91368494824971, 'kernel': 'poly', 'gamma': 0.25828151205771677, 'degree': 2}. Best is trial 6 with value: 0.9314285714285715.\n",
      "[I 2024-02-08 22:42:04,871] Trial 345 finished with value: 0.9314285714285715 and parameters: {'C': 36.10124874697057, 'kernel': 'poly', 'gamma': 0.45733542430245755, 'degree': 2}. Best is trial 6 with value: 0.9314285714285715.\n",
      "[I 2024-02-08 22:42:05,114] Trial 346 finished with value: 0.9314285714285715 and parameters: {'C': 36.34875176641986, 'kernel': 'poly', 'gamma': 0.3877650764642007, 'degree': 2}. Best is trial 6 with value: 0.9314285714285715.\n",
      "[I 2024-02-08 22:42:05,193] Trial 347 finished with value: 0.9314285714285715 and parameters: {'C': 48.88296343031025, 'kernel': 'poly', 'gamma': 0.39535129467416397, 'degree': 2}. Best is trial 6 with value: 0.9314285714285715.\n",
      "[I 2024-02-08 22:42:05,466] Trial 348 finished with value: 0.9314285714285715 and parameters: {'C': 48.86600577670649, 'kernel': 'poly', 'gamma': 0.45594834541028745, 'degree': 2}. Best is trial 6 with value: 0.9314285714285715.\n",
      "[I 2024-02-08 22:42:05,725] Trial 349 finished with value: 0.9314285714285715 and parameters: {'C': 48.76106700996177, 'kernel': 'poly', 'gamma': 0.25454269599071544, 'degree': 2}. Best is trial 6 with value: 0.9314285714285715.\n",
      "[I 2024-02-08 22:42:05,866] Trial 350 finished with value: 0.9314285714285715 and parameters: {'C': 49.27198628013853, 'kernel': 'poly', 'gamma': 0.2570094174713372, 'degree': 2}. Best is trial 6 with value: 0.9314285714285715.\n",
      "[I 2024-02-08 22:42:06,172] Trial 351 finished with value: 0.9314285714285715 and parameters: {'C': 45.8036915412279, 'kernel': 'poly', 'gamma': 0.2536174488045406, 'degree': 2}. Best is trial 6 with value: 0.9314285714285715.\n",
      "[I 2024-02-08 22:42:06,247] Trial 352 finished with value: 0.9314285714285715 and parameters: {'C': 49.07195456943502, 'kernel': 'poly', 'gamma': 0.3690492070818072, 'degree': 2}. Best is trial 6 with value: 0.9314285714285715.\n",
      "[I 2024-02-08 22:42:06,572] Trial 353 finished with value: 0.9314285714285715 and parameters: {'C': 46.02355070965817, 'kernel': 'poly', 'gamma': 0.37404854317633746, 'degree': 2}. Best is trial 6 with value: 0.9314285714285715.\n",
      "[I 2024-02-08 22:42:06,796] Trial 354 finished with value: 0.9314285714285715 and parameters: {'C': 43.3906945790275, 'kernel': 'poly', 'gamma': 0.4589995627096457, 'degree': 2}. Best is trial 6 with value: 0.9314285714285715.\n",
      "[I 2024-02-08 22:42:06,986] Trial 355 finished with value: 0.9314285714285715 and parameters: {'C': 43.562388316449024, 'kernel': 'poly', 'gamma': 0.45911925673657517, 'degree': 2}. Best is trial 6 with value: 0.9314285714285715.\n",
      "[I 2024-02-08 22:42:07,221] Trial 356 finished with value: 0.9314285714285715 and parameters: {'C': 49.40500022795586, 'kernel': 'poly', 'gamma': 0.37452416851191994, 'degree': 2}. Best is trial 6 with value: 0.9314285714285715.\n",
      "[I 2024-02-08 22:42:07,284] Trial 357 finished with value: 0.9314285714285715 and parameters: {'C': 49.70903037969143, 'kernel': 'poly', 'gamma': 0.37707217294025464, 'degree': 2}. Best is trial 6 with value: 0.9314285714285715.\n",
      "[I 2024-02-08 22:42:07,543] Trial 358 finished with value: 0.9314285714285715 and parameters: {'C': 49.19550318973757, 'kernel': 'poly', 'gamma': 0.5038606548357382, 'degree': 2}. Best is trial 6 with value: 0.9314285714285715.\n",
      "[I 2024-02-08 22:42:07,793] Trial 359 finished with value: 0.9314285714285715 and parameters: {'C': 43.41867464759633, 'kernel': 'poly', 'gamma': 0.36918464368372844, 'degree': 2}. Best is trial 6 with value: 0.9314285714285715.\n",
      "[I 2024-02-08 22:42:07,961] Trial 360 finished with value: 0.9314285714285715 and parameters: {'C': 23.48362004852158, 'kernel': 'poly', 'gamma': 0.503975889163308, 'degree': 2}. Best is trial 6 with value: 0.9314285714285715.\n",
      "[I 2024-02-08 22:42:08,239] Trial 361 finished with value: 0.9314285714285715 and parameters: {'C': 40.225092123745796, 'kernel': 'poly', 'gamma': 0.5042908096576096, 'degree': 2}. Best is trial 6 with value: 0.9314285714285715.\n",
      "[I 2024-02-08 22:42:08,450] Trial 362 finished with value: 0.9314285714285715 and parameters: {'C': 43.34033659723214, 'kernel': 'poly', 'gamma': 0.36450284914305336, 'degree': 2}. Best is trial 6 with value: 0.9314285714285715.\n",
      "[I 2024-02-08 22:42:08,655] Trial 363 finished with value: 0.9314285714285715 and parameters: {'C': 43.37944409772655, 'kernel': 'poly', 'gamma': 0.36751100821827704, 'degree': 2}. Best is trial 6 with value: 0.9314285714285715.\n",
      "[I 2024-02-08 22:42:08,857] Trial 364 finished with value: 0.9314285714285715 and parameters: {'C': 42.93063023134668, 'kernel': 'poly', 'gamma': 0.5025217558873996, 'degree': 2}. Best is trial 6 with value: 0.9314285714285715.\n",
      "[I 2024-02-08 22:42:09,060] Trial 365 finished with value: 0.9314285714285715 and parameters: {'C': 43.40096009581339, 'kernel': 'poly', 'gamma': 0.5051890842446447, 'degree': 2}. Best is trial 6 with value: 0.9314285714285715.\n",
      "[I 2024-02-08 22:42:09,317] Trial 366 finished with value: 0.9314285714285715 and parameters: {'C': 42.71681171226301, 'kernel': 'poly', 'gamma': 0.34299430022356214, 'degree': 2}. Best is trial 6 with value: 0.9314285714285715.\n",
      "[I 2024-02-08 22:42:09,951] Trial 367 finished with value: 0.7508571428571428 and parameters: {'C': 40.05503386815461, 'kernel': 'poly', 'gamma': 0.341329002861008, 'degree': 7}. Best is trial 6 with value: 0.9314285714285715.\n",
      "[I 2024-02-08 22:42:10,029] Trial 368 finished with value: 0.9314285714285715 and parameters: {'C': 40.1237197169804, 'kernel': 'poly', 'gamma': 0.4972727392278329, 'degree': 2}. Best is trial 6 with value: 0.9314285714285715.\n",
      "[I 2024-02-08 22:42:10,138] Trial 369 finished with value: 0.9314285714285715 and parameters: {'C': 97.82704925511533, 'kernel': 'poly', 'gamma': 0.33802815549020115, 'degree': 2}. Best is trial 6 with value: 0.9314285714285715.\n",
      "[I 2024-02-08 22:42:10,352] Trial 370 finished with value: 0.9314285714285715 and parameters: {'C': 29.320551363151377, 'kernel': 'poly', 'gamma': 0.35215626495160657, 'degree': 2}. Best is trial 6 with value: 0.9314285714285715.\n",
      "[I 2024-02-08 22:42:10,623] Trial 371 finished with value: 0.9314285714285715 and parameters: {'C': 42.06438488228617, 'kernel': 'poly', 'gamma': 0.34886029231108245, 'degree': 2}. Best is trial 6 with value: 0.9314285714285715.\n",
      "[I 2024-02-08 22:42:10,912] Trial 372 finished with value: 0.9314285714285715 and parameters: {'C': 40.33071398612766, 'kernel': 'poly', 'gamma': 0.343961549793439, 'degree': 2}. Best is trial 6 with value: 0.9314285714285715.\n",
      "[I 2024-02-08 22:42:11,124] Trial 373 finished with value: 0.9314285714285715 and parameters: {'C': 97.82649408338054, 'kernel': 'poly', 'gamma': 0.28245209988299863, 'degree': 2}. Best is trial 6 with value: 0.9314285714285715.\n",
      "[I 2024-02-08 22:42:11,321] Trial 374 finished with value: 0.9314285714285715 and parameters: {'C': 92.5420948282023, 'kernel': 'poly', 'gamma': 0.34475822671345285, 'degree': 2}. Best is trial 6 with value: 0.9314285714285715.\n",
      "[I 2024-02-08 22:42:11,542] Trial 375 finished with value: 0.9314285714285715 and parameters: {'C': 98.02130545063824, 'kernel': 'poly', 'gamma': 0.20590646279511643, 'degree': 2}. Best is trial 6 with value: 0.9314285714285715.\n",
      "[I 2024-02-08 22:42:12,144] Trial 376 finished with value: 0.7508571428571428 and parameters: {'C': 39.42306625938528, 'kernel': 'poly', 'gamma': 0.3355597736245619, 'degree': 7}. Best is trial 6 with value: 0.9314285714285715.\n",
      "[I 2024-02-08 22:42:12,283] Trial 377 finished with value: 0.9314285714285715 and parameters: {'C': 62.16498468923569, 'kernel': 'poly', 'gamma': 0.22486603552701856, 'degree': 2}. Best is trial 6 with value: 0.9314285714285715.\n",
      "[I 2024-02-08 22:42:13,044] Trial 378 finished with value: 0.7508571428571428 and parameters: {'C': 29.314048399870725, 'kernel': 'poly', 'gamma': 0.21005953839921598, 'degree': 7}. Best is trial 6 with value: 0.9314285714285715.\n",
      "[I 2024-02-08 22:42:13,421] Trial 379 finished with value: 0.7508571428571428 and parameters: {'C': 98.30732804677812, 'kernel': 'poly', 'gamma': 0.3992184599587002, 'degree': 7}. Best is trial 6 with value: 0.9314285714285715.\n",
      "[I 2024-02-08 22:42:13,535] Trial 380 finished with value: 0.9314285714285715 and parameters: {'C': 85.69548451308061, 'kernel': 'poly', 'gamma': 0.20856739322702145, 'degree': 2}. Best is trial 6 with value: 0.9314285714285715.\n",
      "[I 2024-02-08 22:42:13,969] Trial 381 finished with value: 0.909142857142857 and parameters: {'C': 86.07463705442956, 'kernel': 'poly', 'gamma': 0.2782717178813548, 'degree': 4}. Best is trial 6 with value: 0.9314285714285715.\n",
      "[I 2024-02-08 22:42:14,018] Trial 382 finished with value: 0.9314285714285715 and parameters: {'C': 91.95689210914503, 'kernel': 'poly', 'gamma': 0.2838951945880222, 'degree': 2}. Best is trial 6 with value: 0.9314285714285715.\n",
      "[I 2024-02-08 22:42:14,416] Trial 383 finished with value: 0.9314285714285715 and parameters: {'C': 62.48066499248772, 'kernel': 'poly', 'gamma': 0.20749043886088936, 'degree': 2}. Best is trial 6 with value: 0.9314285714285715.\n",
      "[I 2024-02-08 22:42:14,612] Trial 384 finished with value: 0.9314285714285715 and parameters: {'C': 85.85303612804037, 'kernel': 'poly', 'gamma': 0.20276829326179477, 'degree': 2}. Best is trial 6 with value: 0.9314285714285715.\n",
      "[I 2024-02-08 22:42:14,820] Trial 385 finished with value: 0.9314285714285715 and parameters: {'C': 85.60532476298377, 'kernel': 'poly', 'gamma': 0.39502169257692554, 'degree': 2}. Best is trial 6 with value: 0.9314285714285715.\n",
      "[I 2024-02-08 22:42:14,893] Trial 386 finished with value: 0.9314285714285715 and parameters: {'C': 62.78198365904974, 'kernel': 'poly', 'gamma': 0.20929725870913962, 'degree': 2}. Best is trial 6 with value: 0.9314285714285715.\n",
      "[I 2024-02-08 22:42:15,376] Trial 387 finished with value: 0.909142857142857 and parameters: {'C': 67.27643103386553, 'kernel': 'poly', 'gamma': 0.22670142269690793, 'degree': 4}. Best is trial 6 with value: 0.9314285714285715.\n",
      "[I 2024-02-08 22:42:15,907] Trial 388 finished with value: 0.909142857142857 and parameters: {'C': 62.26080585615625, 'kernel': 'poly', 'gamma': 0.40270323643016287, 'degree': 4}. Best is trial 6 with value: 0.9314285714285715.\n",
      "[I 2024-02-08 22:42:15,967] Trial 389 finished with value: 0.9314285714285715 and parameters: {'C': 66.50485979198565, 'kernel': 'poly', 'gamma': 0.287617105300787, 'degree': 2}. Best is trial 6 with value: 0.9314285714285715.\n",
      "[I 2024-02-08 22:42:16,214] Trial 390 finished with value: 0.9314285714285715 and parameters: {'C': 45.97868799752085, 'kernel': 'poly', 'gamma': 0.28743943786601567, 'degree': 2}. Best is trial 6 with value: 0.9314285714285715.\n",
      "[I 2024-02-08 22:42:16,505] Trial 391 finished with value: 0.9314285714285715 and parameters: {'C': 85.82888947382398, 'kernel': 'poly', 'gamma': 0.28772705874901916, 'degree': 2}. Best is trial 6 with value: 0.9314285714285715.\n",
      "[I 2024-02-08 22:42:16,641] Trial 392 finished with value: 0.9314285714285715 and parameters: {'C': 94.6103534555999, 'kernel': 'poly', 'gamma': 0.2892401719888878, 'degree': 2}. Best is trial 6 with value: 0.9314285714285715.\n",
      "[I 2024-02-08 22:42:16,728] Trial 393 finished with value: 0.9314285714285715 and parameters: {'C': 45.6799943953706, 'kernel': 'poly', 'gamma': 0.4409327424337597, 'degree': 2}. Best is trial 6 with value: 0.9314285714285715.\n",
      "[I 2024-02-08 22:42:17,145] Trial 394 finished with value: 0.9314285714285715 and parameters: {'C': 64.50263652233211, 'kernel': 'poly', 'gamma': 0.44384064733970335, 'degree': 2}. Best is trial 6 with value: 0.9314285714285715.\n",
      "[I 2024-02-08 22:42:17,342] Trial 395 finished with value: 0.9314285714285715 and parameters: {'C': 66.65275481165855, 'kernel': 'poly', 'gamma': 0.4494774981042555, 'degree': 2}. Best is trial 6 with value: 0.9314285714285715.\n",
      "[I 2024-02-08 22:42:17,934] Trial 396 finished with value: 0.8382857142857143 and parameters: {'C': 67.2708422863671, 'kernel': 'poly', 'gamma': 0.39806016205265476, 'degree': 5}. Best is trial 6 with value: 0.9314285714285715.\n",
      "[I 2024-02-08 22:42:18,090] Trial 397 finished with value: 0.9314285714285715 and parameters: {'C': 67.35172482168804, 'kernel': 'poly', 'gamma': 0.394455411529832, 'degree': 2}. Best is trial 6 with value: 0.9314285714285715.\n",
      "[I 2024-02-08 22:42:18,356] Trial 398 finished with value: 0.9314285714285715 and parameters: {'C': 46.06187338191342, 'kernel': 'poly', 'gamma': 0.44353190039458645, 'degree': 2}. Best is trial 6 with value: 0.9314285714285715.\n",
      "[I 2024-02-08 22:42:18,559] Trial 399 finished with value: 0.9314285714285715 and parameters: {'C': 45.92504514344829, 'kernel': 'poly', 'gamma': 0.4465831124438586, 'degree': 2}. Best is trial 6 with value: 0.9314285714285715.\n",
      "[I 2024-02-08 22:42:18,746] Trial 400 finished with value: 0.9314285714285715 and parameters: {'C': 45.77071893420228, 'kernel': 'poly', 'gamma': 0.4450891498133635, 'degree': 2}. Best is trial 6 with value: 0.9314285714285715.\n",
      "[I 2024-02-08 22:42:19,130] Trial 401 finished with value: 0.9314285714285715 and parameters: {'C': 99.98419264993625, 'kernel': 'poly', 'gamma': 0.4427504248081007, 'degree': 2}. Best is trial 6 with value: 0.9314285714285715.\n",
      "[I 2024-02-08 22:42:19,195] Trial 402 finished with value: 0.9314285714285715 and parameters: {'C': 95.00501270345364, 'kernel': 'poly', 'gamma': 0.4407503436304688, 'degree': 2}. Best is trial 6 with value: 0.9314285714285715.\n",
      "[I 2024-02-08 22:42:19,850] Trial 404 finished with value: 0.9314285714285715 and parameters: {'C': 46.285703640334255, 'kernel': 'poly', 'gamma': 0.45536321354279913, 'degree': 2}. Best is trial 6 with value: 0.9314285714285715.\n",
      "[I 2024-02-08 22:42:19,900] Trial 403 finished with value: 0.8382857142857143 and parameters: {'C': 94.56921552598193, 'kernel': 'poly', 'gamma': 0.44568041393112257, 'degree': 5}. Best is trial 6 with value: 0.9314285714285715.\n",
      "[I 2024-02-08 22:42:20,432] Trial 405 finished with value: 0.8382857142857143 and parameters: {'C': 96.68545402141233, 'kernel': 'poly', 'gamma': 0.44746461023813355, 'degree': 5}. Best is trial 6 with value: 0.9314285714285715.\n",
      "[I 2024-02-08 22:42:20,625] Trial 406 finished with value: 0.9314285714285715 and parameters: {'C': 96.60040392599787, 'kernel': 'poly', 'gamma': 0.31905583110742264, 'degree': 2}. Best is trial 6 with value: 0.9314285714285715.\n",
      "[I 2024-02-08 22:42:20,823] Trial 407 finished with value: 0.9314285714285715 and parameters: {'C': 46.14365383209214, 'kernel': 'poly', 'gamma': 0.4540491332233606, 'degree': 2}. Best is trial 6 with value: 0.9314285714285715.\n",
      "[I 2024-02-08 22:42:21,021] Trial 408 finished with value: 0.9314285714285715 and parameters: {'C': 99.8302457009776, 'kernel': 'poly', 'gamma': 0.39148410511038456, 'degree': 2}. Best is trial 6 with value: 0.9314285714285715.\n",
      "[I 2024-02-08 22:42:21,210] Trial 409 finished with value: 0.9314285714285715 and parameters: {'C': 95.49152302939001, 'kernel': 'poly', 'gamma': 0.3184606048281935, 'degree': 2}. Best is trial 6 with value: 0.9314285714285715.\n",
      "[I 2024-02-08 22:42:21,473] Trial 410 finished with value: 0.9314285714285715 and parameters: {'C': 95.7392391132568, 'kernel': 'poly', 'gamma': 0.3155712663021823, 'degree': 2}. Best is trial 6 with value: 0.9314285714285715.\n",
      "[I 2024-02-08 22:42:21,656] Trial 411 finished with value: 0.9314285714285715 and parameters: {'C': 96.37978830755203, 'kernel': 'poly', 'gamma': 0.3220523840374922, 'degree': 2}. Best is trial 6 with value: 0.9314285714285715.\n",
      "[I 2024-02-08 22:42:21,882] Trial 412 finished with value: 0.9314285714285715 and parameters: {'C': 95.27313790257485, 'kernel': 'poly', 'gamma': 0.31941757044539826, 'degree': 2}. Best is trial 6 with value: 0.9314285714285715.\n",
      "[I 2024-02-08 22:42:22,127] Trial 413 finished with value: 0.9314285714285715 and parameters: {'C': 52.79004836271073, 'kernel': 'poly', 'gamma': 0.2383309289896963, 'degree': 2}. Best is trial 6 with value: 0.9314285714285715.\n",
      "[I 2024-02-08 22:42:22,334] Trial 414 finished with value: 0.9314285714285715 and parameters: {'C': 41.488012955857386, 'kernel': 'poly', 'gamma': 0.32793141254082925, 'degree': 2}. Best is trial 6 with value: 0.9314285714285715.\n",
      "[I 2024-02-08 22:42:22,527] Trial 415 finished with value: 0.9314285714285715 and parameters: {'C': 96.12611396810793, 'kernel': 'poly', 'gamma': 0.3249695911155568, 'degree': 2}. Best is trial 6 with value: 0.9314285714285715.\n",
      "[I 2024-02-08 22:42:22,701] Trial 416 finished with value: 0.9314285714285715 and parameters: {'C': 96.71461311793567, 'kernel': 'poly', 'gamma': 0.3205291504263992, 'degree': 2}. Best is trial 6 with value: 0.9314285714285715.\n",
      "[I 2024-02-08 22:42:22,948] Trial 417 finished with value: 0.9314285714285715 and parameters: {'C': 26.758163848900406, 'kernel': 'poly', 'gamma': 0.3234163558485507, 'degree': 2}. Best is trial 6 with value: 0.9314285714285715.\n",
      "[I 2024-02-08 22:42:23,176] Trial 418 finished with value: 0.9314285714285715 and parameters: {'C': 77.77712473105848, 'kernel': 'poly', 'gamma': 0.32492186755284314, 'degree': 2}. Best is trial 6 with value: 0.9314285714285715.\n",
      "[I 2024-02-08 22:42:23,693] Trial 419 finished with value: 0.8954285714285714 and parameters: {'C': 52.67190582777524, 'kernel': 'poly', 'gamma': 0.23789449848014882, 'degree': 3}. Best is trial 6 with value: 0.9314285714285715.\n",
      "[I 2024-02-08 22:42:23,880] Trial 420 finished with value: 0.9314285714285715 and parameters: {'C': 53.630145471906246, 'kernel': 'poly', 'gamma': 0.0005517499538850168, 'degree': 2}. Best is trial 6 with value: 0.9314285714285715.\n",
      "[I 2024-02-08 22:42:24,055] Trial 421 finished with value: 0.9314285714285715 and parameters: {'C': 53.16724698845397, 'kernel': 'poly', 'gamma': 0.05355254075969107, 'degree': 2}. Best is trial 6 with value: 0.9314285714285715.\n",
      "[I 2024-02-08 22:42:24,538] Trial 422 finished with value: 0.8954285714285714 and parameters: {'C': 88.8411256685429, 'kernel': 'poly', 'gamma': 0.2386040284329701, 'degree': 3}. Best is trial 6 with value: 0.9314285714285715.\n",
      "[I 2024-02-08 22:42:24,995] Trial 423 finished with value: 0.8954285714285714 and parameters: {'C': 44.136434238407055, 'kernel': 'poly', 'gamma': 0.23825881234906596, 'degree': 3}. Best is trial 6 with value: 0.9314285714285715.\n",
      "[I 2024-02-08 22:42:25,420] Trial 424 finished with value: 0.8954285714285714 and parameters: {'C': 59.92322027729473, 'kernel': 'poly', 'gamma': 0.3622779095979619, 'degree': 3}. Best is trial 6 with value: 0.9314285714285715.\n",
      "[I 2024-02-08 22:42:25,845] Trial 425 finished with value: 0.8954285714285714 and parameters: {'C': 40.81235005962242, 'kernel': 'poly', 'gamma': 0.3702170597114633, 'degree': 3}. Best is trial 6 with value: 0.9314285714285715.\n",
      "[I 2024-02-08 22:42:26,334] Trial 426 finished with value: 0.8954285714285714 and parameters: {'C': 42.019899450952316, 'kernel': 'poly', 'gamma': 0.3717897439617577, 'degree': 3}. Best is trial 6 with value: 0.9314285714285715.\n",
      "[I 2024-02-08 22:42:26,599] Trial 427 finished with value: 0.8954285714285714 and parameters: {'C': 38.95202260317728, 'kernel': 'poly', 'gamma': 0.7706050289597581, 'degree': 3}. Best is trial 6 with value: 0.9314285714285715.\n",
      "[I 2024-02-08 22:42:27,001] Trial 428 finished with value: 0.8954285714285714 and parameters: {'C': 41.78888507587895, 'kernel': 'poly', 'gamma': 0.36937872800763444, 'degree': 3}. Best is trial 6 with value: 0.9314285714285715.\n",
      "[I 2024-02-08 22:42:27,550] Trial 429 finished with value: 0.8954285714285714 and parameters: {'C': 78.08352028311306, 'kernel': 'poly', 'gamma': 0.6958542695457111, 'degree': 3}. Best is trial 6 with value: 0.9314285714285715.\n",
      "[I 2024-02-08 22:42:27,836] Trial 430 finished with value: 0.8954285714285714 and parameters: {'C': 88.32988433339034, 'kernel': 'poly', 'gamma': 0.0072400390100781364, 'degree': 3}. Best is trial 6 with value: 0.9314285714285715.\n",
      "[I 2024-02-08 22:42:27,990] Trial 431 finished with value: 0.9314285714285715 and parameters: {'C': 42.03980240305863, 'kernel': 'poly', 'gamma': 0.3661642783264713, 'degree': 2}. Best is trial 6 with value: 0.9314285714285715.\n",
      "[I 2024-02-08 22:42:28,601] Trial 432 finished with value: 0.6891428571428572 and parameters: {'C': 44.30363241540622, 'kernel': 'poly', 'gamma': 0.0722179186079388, 'degree': 9}. Best is trial 6 with value: 0.9314285714285715.\n",
      "[I 2024-02-08 22:42:28,832] Trial 433 finished with value: 0.9314285714285715 and parameters: {'C': 40.631590010439204, 'kernel': 'poly', 'gamma': 0.36741361620323976, 'degree': 2}. Best is trial 6 with value: 0.9314285714285715.\n",
      "[I 2024-02-08 22:42:29,052] Trial 434 finished with value: 0.9314285714285715 and parameters: {'C': 41.43559350330924, 'kernel': 'poly', 'gamma': 0.7695685895153976, 'degree': 2}. Best is trial 6 with value: 0.9314285714285715.\n",
      "[I 2024-02-08 22:42:29,288] Trial 435 finished with value: 0.9314285714285715 and parameters: {'C': 42.09478878470825, 'kernel': 'poly', 'gamma': 0.7525922967869356, 'degree': 2}. Best is trial 6 with value: 0.9314285714285715.\n",
      "[I 2024-02-08 22:42:29,437] Trial 436 finished with value: 0.9314285714285715 and parameters: {'C': 41.757405068006506, 'kernel': 'poly', 'gamma': 0.7695434085442605, 'degree': 2}. Best is trial 6 with value: 0.9314285714285715.\n",
      "[I 2024-02-08 22:42:29,665] Trial 437 finished with value: 0.9314285714285715 and parameters: {'C': 38.329738403152014, 'kernel': 'poly', 'gamma': 0.7360616721455283, 'degree': 2}. Best is trial 6 with value: 0.9314285714285715.\n",
      "[I 2024-02-08 22:42:29,887] Trial 438 finished with value: 0.9314285714285715 and parameters: {'C': 47.60986461554218, 'kernel': 'poly', 'gamma': 0.5430583959162609, 'degree': 2}. Best is trial 6 with value: 0.9314285714285715.\n",
      "[I 2024-02-08 22:42:30,098] Trial 439 finished with value: 0.9314285714285715 and parameters: {'C': 92.70403072435201, 'kernel': 'poly', 'gamma': 0.5351929334631754, 'degree': 2}. Best is trial 6 with value: 0.9314285714285715.\n",
      "[I 2024-02-08 22:42:30,332] Trial 440 finished with value: 0.9314285714285715 and parameters: {'C': 47.41000058070286, 'kernel': 'poly', 'gamma': 0.4108416068182745, 'degree': 2}. Best is trial 6 with value: 0.9314285714285715.\n",
      "[I 2024-02-08 22:42:30,557] Trial 441 finished with value: 0.9314285714285715 and parameters: {'C': 34.01182983211384, 'kernel': 'poly', 'gamma': 0.41329931311137263, 'degree': 2}. Best is trial 6 with value: 0.9314285714285715.\n",
      "[I 2024-02-08 22:42:30,617] Trial 442 finished with value: 0.9314285714285715 and parameters: {'C': 44.597040448640826, 'kernel': 'poly', 'gamma': 0.40871587313439994, 'degree': 2}. Best is trial 6 with value: 0.9314285714285715.\n",
      "[I 2024-02-08 22:42:30,892] Trial 443 finished with value: 0.9314285714285715 and parameters: {'C': 92.37463470598182, 'kernel': 'poly', 'gamma': 0.40976806997581633, 'degree': 2}. Best is trial 6 with value: 0.9314285714285715.\n",
      "[I 2024-02-08 22:42:31,311] Trial 444 finished with value: 0.9314285714285715 and parameters: {'C': 92.29039872543213, 'kernel': 'poly', 'gamma': 0.40257151871428704, 'degree': 2}. Best is trial 6 with value: 0.9314285714285715.\n",
      "[I 2024-02-08 22:42:31,331] Trial 445 finished with value: 0.9314285714285715 and parameters: {'C': 91.9909689429613, 'kernel': 'poly', 'gamma': 0.4087879037368656, 'degree': 2}. Best is trial 6 with value: 0.9314285714285715.\n",
      "[I 2024-02-08 22:42:31,487] Trial 446 finished with value: 0.9314285714285715 and parameters: {'C': 92.28514142817731, 'kernel': 'poly', 'gamma': 0.4112050810304586, 'degree': 2}. Best is trial 6 with value: 0.9314285714285715.\n",
      "[I 2024-02-08 22:42:31,834] Trial 447 finished with value: 0.9314285714285715 and parameters: {'C': 99.8499974396256, 'kernel': 'poly', 'gamma': 0.40125268920777046, 'degree': 2}. Best is trial 6 with value: 0.9314285714285715.\n",
      "[I 2024-02-08 22:42:32,037] Trial 448 finished with value: 0.9314285714285715 and parameters: {'C': 47.37950300962604, 'kernel': 'poly', 'gamma': 0.8381353551303052, 'degree': 2}. Best is trial 6 with value: 0.9314285714285715.\n",
      "[I 2024-02-08 22:42:32,311] Trial 449 finished with value: 0.9314285714285715 and parameters: {'C': 33.93540731505119, 'kernel': 'poly', 'gamma': 0.40732989437908823, 'degree': 2}. Best is trial 6 with value: 0.9314285714285715.\n",
      "[I 2024-02-08 22:42:32,385] Trial 450 finished with value: 0.9314285714285715 and parameters: {'C': 98.32964938540229, 'kernel': 'poly', 'gamma': 0.4143417402313011, 'degree': 2}. Best is trial 6 with value: 0.9314285714285715.\n",
      "[I 2024-02-08 22:42:32,661] Trial 451 finished with value: 0.9314285714285715 and parameters: {'C': 98.29295421444907, 'kernel': 'poly', 'gamma': 0.40854063773063376, 'degree': 2}. Best is trial 6 with value: 0.9314285714285715.\n",
      "[I 2024-02-08 22:42:32,899] Trial 452 finished with value: 0.9314285714285715 and parameters: {'C': 99.34646932303548, 'kernel': 'poly', 'gamma': 0.2664795872923449, 'degree': 2}. Best is trial 6 with value: 0.9314285714285715.\n",
      "[I 2024-02-08 22:42:33,157] Trial 453 finished with value: 0.9314285714285715 and parameters: {'C': 98.74520719783557, 'kernel': 'poly', 'gamma': 0.2650396380094039, 'degree': 2}. Best is trial 6 with value: 0.9314285714285715.\n",
      "[I 2024-02-08 22:42:33,343] Trial 454 finished with value: 0.9314285714285715 and parameters: {'C': 99.26368420017648, 'kernel': 'poly', 'gamma': 0.833306862324661, 'degree': 2}. Best is trial 6 with value: 0.9314285714285715.\n",
      "[I 2024-02-08 22:42:33,641] Trial 455 finished with value: 0.9314285714285715 and parameters: {'C': 44.10681482690948, 'kernel': 'poly', 'gamma': 0.38885510232939363, 'degree': 2}. Best is trial 6 with value: 0.9314285714285715.\n",
      "[I 2024-02-08 22:42:33,857] Trial 456 finished with value: 0.9314285714285715 and parameters: {'C': 98.23224357115484, 'kernel': 'poly', 'gamma': 0.2713807203330092, 'degree': 2}. Best is trial 6 with value: 0.9314285714285715.\n",
      "[I 2024-02-08 22:42:34,124] Trial 457 finished with value: 0.9314285714285715 and parameters: {'C': 97.49418994400457, 'kernel': 'poly', 'gamma': 0.8427841247793669, 'degree': 2}. Best is trial 6 with value: 0.9314285714285715.\n",
      "[I 2024-02-08 22:42:34,325] Trial 458 finished with value: 0.9314285714285715 and parameters: {'C': 50.85130536216319, 'kernel': 'poly', 'gamma': 0.48599222208955806, 'degree': 2}. Best is trial 6 with value: 0.9314285714285715.\n",
      "[I 2024-02-08 22:42:34,356] Trial 459 finished with value: 0.9314285714285715 and parameters: {'C': 97.4434127599311, 'kernel': 'poly', 'gamma': 0.9538649158609701, 'degree': 2}. Best is trial 6 with value: 0.9314285714285715.\n",
      "[I 2024-02-08 22:42:34,809] Trial 460 finished with value: 0.9314285714285715 and parameters: {'C': 97.52098930558533, 'kernel': 'poly', 'gamma': 0.4766591401865439, 'degree': 2}. Best is trial 6 with value: 0.9314285714285715.\n",
      "[I 2024-02-08 22:42:34,882] Trial 461 finished with value: 0.9314285714285715 and parameters: {'C': 99.09161404872879, 'kernel': 'poly', 'gamma': 0.2701447381377319, 'degree': 2}. Best is trial 6 with value: 0.9314285714285715.\n",
      "[I 2024-02-08 22:42:35,129] Trial 462 finished with value: 0.9314285714285715 and parameters: {'C': 98.53196826108756, 'kernel': 'poly', 'gamma': 0.2699737844192632, 'degree': 2}. Best is trial 6 with value: 0.9314285714285715.\n",
      "[I 2024-02-08 22:42:35,372] Trial 463 finished with value: 0.9314285714285715 and parameters: {'C': 44.326941038309414, 'kernel': 'poly', 'gamma': 0.2628326603290357, 'degree': 2}. Best is trial 6 with value: 0.9314285714285715.\n",
      "[I 2024-02-08 22:42:35,438] Trial 464 finished with value: 0.9314285714285715 and parameters: {'C': 44.41110206749571, 'kernel': 'poly', 'gamma': 0.4865606293812995, 'degree': 2}. Best is trial 6 with value: 0.9314285714285715.\n",
      "[I 2024-02-08 22:42:35,786] Trial 465 finished with value: 0.9314285714285715 and parameters: {'C': 19.773765204477527, 'kernel': 'poly', 'gamma': 0.4823391443043652, 'degree': 2}. Best is trial 6 with value: 0.9314285714285715.\n",
      "[I 2024-02-08 22:42:36,079] Trial 466 finished with value: 0.9314285714285715 and parameters: {'C': 44.76656259528038, 'kernel': 'poly', 'gamma': 0.4823774341638517, 'degree': 2}. Best is trial 6 with value: 0.9314285714285715.\n",
      "[I 2024-02-08 22:42:36,348] Trial 467 finished with value: 0.9314285714285715 and parameters: {'C': 21.458195739186927, 'kernel': 'poly', 'gamma': 0.46500478265799966, 'degree': 2}. Best is trial 6 with value: 0.9314285714285715.\n",
      "[I 2024-02-08 22:42:36,410] Trial 468 finished with value: 0.9314285714285715 and parameters: {'C': 64.8413146219908, 'kernel': 'poly', 'gamma': 0.4841601349973056, 'degree': 2}. Best is trial 6 with value: 0.9314285714285715.\n",
      "[I 2024-02-08 22:42:36,644] Trial 469 finished with value: 0.9314285714285715 and parameters: {'C': 44.23272106580018, 'kernel': 'poly', 'gamma': 0.47473637378406397, 'degree': 2}. Best is trial 6 with value: 0.9314285714285715.\n",
      "[I 2024-02-08 22:42:36,861] Trial 470 finished with value: 0.9314285714285715 and parameters: {'C': 21.294400337131147, 'kernel': 'poly', 'gamma': 0.4737414122467282, 'degree': 2}. Best is trial 6 with value: 0.9314285714285715.\n",
      "[I 2024-02-08 22:42:37,537] Trial 471 finished with value: 0.7577142857142858 and parameters: {'C': 64.95966809809563, 'kernel': 'poly', 'gamma': 0.3819746717188791, 'degree': 8}. Best is trial 6 with value: 0.9314285714285715.\n",
      "[I 2024-02-08 22:42:37,687] Trial 472 finished with value: 0.9314285714285715 and parameters: {'C': 64.20917956529402, 'kernel': 'poly', 'gamma': 0.5891760698271744, 'degree': 2}. Best is trial 6 with value: 0.9314285714285715.\n",
      "[I 2024-02-08 22:42:37,777] Trial 473 finished with value: 0.9314285714285715 and parameters: {'C': 65.17516833864809, 'kernel': 'poly', 'gamma': 0.385254361269866, 'degree': 2}. Best is trial 6 with value: 0.9314285714285715.\n",
      "[I 2024-02-08 22:42:38,129] Trial 474 finished with value: 0.9314285714285715 and parameters: {'C': 64.44231678704688, 'kernel': 'poly', 'gamma': 0.3837316661076972, 'degree': 2}. Best is trial 6 with value: 0.9314285714285715.\n",
      "[I 2024-02-08 22:42:38,325] Trial 475 finished with value: 0.9314285714285715 and parameters: {'C': 72.87269962200816, 'kernel': 'poly', 'gamma': 0.3862162612682312, 'degree': 2}. Best is trial 6 with value: 0.9314285714285715.\n",
      "[I 2024-02-08 22:42:38,514] Trial 476 finished with value: 0.9314285714285715 and parameters: {'C': 21.860678161740363, 'kernel': 'poly', 'gamma': 0.38356696232258014, 'degree': 2}. Best is trial 6 with value: 0.9314285714285715.\n",
      "[I 2024-02-08 22:42:38,867] Trial 477 finished with value: 0.9314285714285715 and parameters: {'C': 47.52262651052209, 'kernel': 'poly', 'gamma': 0.42590417643691214, 'degree': 2}. Best is trial 6 with value: 0.9314285714285715.\n",
      "[I 2024-02-08 22:42:38,996] Trial 478 finished with value: 0.9314285714285715 and parameters: {'C': 47.52737318073922, 'kernel': 'poly', 'gamma': 0.34971437368529995, 'degree': 2}. Best is trial 6 with value: 0.9314285714285715.\n",
      "[I 2024-02-08 22:42:39,172] Trial 479 finished with value: 0.9314285714285715 and parameters: {'C': 71.83297153569309, 'kernel': 'poly', 'gamma': 0.39041810577030167, 'degree': 2}. Best is trial 6 with value: 0.9314285714285715.\n",
      "[I 2024-02-08 22:42:39,408] Trial 480 finished with value: 0.9314285714285715 and parameters: {'C': 39.676989224125975, 'kernel': 'poly', 'gamma': 0.4308292180896885, 'degree': 2}. Best is trial 6 with value: 0.9314285714285715.\n",
      "[I 2024-02-08 22:42:39,660] Trial 481 finished with value: 0.9314285714285715 and parameters: {'C': 46.2359114717766, 'kernel': 'poly', 'gamma': 0.34782765149061795, 'degree': 2}. Best is trial 6 with value: 0.9314285714285715.\n",
      "[I 2024-02-08 22:42:39,875] Trial 482 finished with value: 0.9314285714285715 and parameters: {'C': 38.90772681091099, 'kernel': 'poly', 'gamma': 0.38450131342022675, 'degree': 2}. Best is trial 6 with value: 0.9314285714285715.\n",
      "[I 2024-02-08 22:42:40,158] Trial 483 finished with value: 0.9314285714285715 and parameters: {'C': 48.02819964808333, 'kernel': 'poly', 'gamma': 0.35467508335118036, 'degree': 2}. Best is trial 6 with value: 0.9314285714285715.\n",
      "[I 2024-02-08 22:42:40,280] Trial 484 finished with value: 0.9314285714285715 and parameters: {'C': 71.81127116497089, 'kernel': 'poly', 'gamma': 0.35036124961767123, 'degree': 2}. Best is trial 6 with value: 0.9314285714285715.\n",
      "[I 2024-02-08 22:42:40,590] Trial 485 finished with value: 0.9314285714285715 and parameters: {'C': 29.825758197995587, 'kernel': 'poly', 'gamma': 0.3481813475104008, 'degree': 2}. Best is trial 6 with value: 0.9314285714285715.\n",
      "[I 2024-02-08 22:42:40,800] Trial 486 finished with value: 0.9314285714285715 and parameters: {'C': 72.16694419543632, 'kernel': 'poly', 'gamma': 0.42715243467003927, 'degree': 2}. Best is trial 6 with value: 0.9314285714285715.\n",
      "[I 2024-02-08 22:42:41,317] Trial 487 finished with value: 0.837142857142857 and parameters: {'C': 38.83697059381337, 'kernel': 'poly', 'gamma': 0.35248382510035886, 'degree': 6}. Best is trial 6 with value: 0.9314285714285715.\n",
      "[I 2024-02-08 22:42:41,495] Trial 488 finished with value: 0.9314285714285715 and parameters: {'C': 55.705185462131475, 'kernel': 'poly', 'gamma': 0.431756102896879, 'degree': 2}. Best is trial 6 with value: 0.9314285714285715.\n",
      "[I 2024-02-08 22:42:41,738] Trial 489 finished with value: 0.9314285714285715 and parameters: {'C': 38.15129255708288, 'kernel': 'poly', 'gamma': 0.2992876117167005, 'degree': 2}. Best is trial 6 with value: 0.9314285714285715.\n",
      "[I 2024-02-08 22:42:41,969] Trial 490 finished with value: 0.9314285714285715 and parameters: {'C': 40.13923938555524, 'kernel': 'poly', 'gamma': 0.3507634617082132, 'degree': 2}. Best is trial 6 with value: 0.9314285714285715.\n",
      "[I 2024-02-08 22:42:42,099] Trial 491 finished with value: 0.9314285714285715 and parameters: {'C': 39.07302192795701, 'kernel': 'poly', 'gamma': 0.43099056504558536, 'degree': 2}. Best is trial 6 with value: 0.9314285714285715.\n",
      "[I 2024-02-08 22:42:42,246] Trial 492 finished with value: 0.9314285714285715 and parameters: {'C': 3.346141483561553, 'kernel': 'poly', 'gamma': 0.3536356799733886, 'degree': 2}. Best is trial 6 with value: 0.9314285714285715.\n",
      "[I 2024-02-08 22:42:42,562] Trial 493 finished with value: 0.9314285714285715 and parameters: {'C': 51.193066507763014, 'kernel': 'poly', 'gamma': 0.4328649364023055, 'degree': 2}. Best is trial 6 with value: 0.9314285714285715.\n",
      "[I 2024-02-08 22:42:43,054] Trial 494 finished with value: 0.837142857142857 and parameters: {'C': 31.406319461628435, 'kernel': 'poly', 'gamma': 0.29840521392174896, 'degree': 6}. Best is trial 6 with value: 0.9314285714285715.\n",
      "[I 2024-02-08 22:42:43,297] Trial 495 finished with value: 0.9314285714285715 and parameters: {'C': 25.2877391824131, 'kernel': 'poly', 'gamma': 0.29937505651045804, 'degree': 2}. Best is trial 6 with value: 0.9314285714285715.\n",
      "[I 2024-02-08 22:42:43,523] Trial 496 finished with value: 0.9314285714285715 and parameters: {'C': 29.46031552782871, 'kernel': 'poly', 'gamma': 0.4318027233233003, 'degree': 2}. Best is trial 6 with value: 0.9314285714285715.\n",
      "[I 2024-02-08 22:42:43,701] Trial 497 finished with value: 0.9314285714285715 and parameters: {'C': 37.67323422337511, 'kernel': 'poly', 'gamma': 0.4306383457818813, 'degree': 2}. Best is trial 6 with value: 0.9314285714285715.\n",
      "[I 2024-02-08 22:42:44,266] Trial 498 finished with value: 0.837142857142857 and parameters: {'C': 94.20883962083869, 'kernel': 'poly', 'gamma': 0.4299323403069372, 'degree': 6}. Best is trial 6 with value: 0.9314285714285715.\n",
      "[I 2024-02-08 22:42:44,307] Trial 499 finished with value: 0.9314285714285715 and parameters: {'C': 93.96427206869645, 'kernel': 'poly', 'gamma': 0.4332519722106854, 'degree': 2}. Best is trial 6 with value: 0.9314285714285715.\n"
     ]
    },
    {
     "name": "stdout",
     "output_type": "stream",
     "text": [
      "FrozenTrial(number=6, state=1, values=[0.9314285714285715], datetime_start=datetime.datetime(2024, 2, 8, 22, 40, 27, 385274), datetime_complete=datetime.datetime(2024, 2, 8, 22, 40, 33, 634823), params={'C': 28.981460342116105, 'kernel': 'poly', 'gamma': 0.2672611424101214, 'degree': 2}, user_attrs={}, system_attrs={}, intermediate_values={}, distributions={'C': FloatDistribution(high=100.0, log=False, low=0.05, step=None), 'kernel': CategoricalDistribution(choices=('poly',)), 'gamma': FloatDistribution(high=1.0, log=False, low=1e-05, step=None), 'degree': IntDistribution(high=9, log=False, low=2, step=1)}, trial_id=6, value=None)\n"
     ]
    }
   ],
   "source": [
    "svm_pca_result = optimize_hyperparameters('svm', X_pca_train, y_train, n_trials=500)\n",
    "print(svm_pca_result)"
   ]
  },
  {
   "cell_type": "code",
   "execution_count": 11,
   "metadata": {},
   "outputs": [
    {
     "data": {
      "text/plain": [
       "{'C': 28.981460342116105,\n",
       " 'kernel': 'poly',\n",
       " 'gamma': 0.2672611424101214,\n",
       " 'degree': 2}"
      ]
     },
     "execution_count": 11,
     "metadata": {},
     "output_type": "execute_result"
    }
   ],
   "source": [
    "svm_pca_result.params"
   ]
  },
  {
   "cell_type": "code",
   "execution_count": 12,
   "metadata": {},
   "outputs": [
    {
     "data": {
      "text/plain": [
       "0.9314285714285715"
      ]
     },
     "execution_count": 12,
     "metadata": {},
     "output_type": "execute_result"
    }
   ],
   "source": [
    "svm_pca_result.value"
   ]
  },
  {
   "cell_type": "code",
   "execution_count": 13,
   "metadata": {},
   "outputs": [
    {
     "data": {
      "text/plain": [
       "0.952054794520548"
      ]
     },
     "execution_count": 13,
     "metadata": {},
     "output_type": "execute_result"
    }
   ],
   "source": [
    "best_svm_model_pca = SVC(**svm_pca_result.params)\n",
    "best_svm_model_pca.fit(X_pca_train, y_train)\n",
    "best_svm_model_pca.score(X_pca_test, y_test)"
   ]
  },
  {
   "cell_type": "markdown",
   "metadata": {},
   "source": [
    "### XGBoost"
   ]
  },
  {
   "cell_type": "markdown",
   "metadata": {},
   "source": [
    "#### Full images"
   ]
  },
  {
   "cell_type": "code",
   "execution_count": null,
   "metadata": {},
   "outputs": [],
   "source": [
    "xgboost_result = optimize_hyperparameters('xgboost', X_train, y_train, n_trials=100)\n",
    "print(xgboost_result)"
   ]
  },
  {
   "cell_type": "code",
   "execution_count": null,
   "metadata": {},
   "outputs": [],
   "source": [
    "xgboost_result.params"
   ]
  },
  {
   "cell_type": "code",
   "execution_count": null,
   "metadata": {},
   "outputs": [],
   "source": [
    "xgboost_result.value"
   ]
  },
  {
   "cell_type": "code",
   "execution_count": null,
   "metadata": {},
   "outputs": [],
   "source": [
    "best_xgboost_model = XGBClassifier(**xgboost_result.params)\n",
    "best_xgboost_model.fit(X_train, y_train)\n",
    "best_xgboost_model.score(X_test, y_test)"
   ]
  },
  {
   "cell_type": "markdown",
   "metadata": {},
   "source": [
    "#### Scaled images"
   ]
  },
  {
   "cell_type": "code",
   "execution_count": null,
   "metadata": {},
   "outputs": [],
   "source": [
    "xgboost_scaled_result = optimize_hyperparameters('xgboost', X_scaled_train, y_train, n_trials=100)\n",
    "print(xgboost_scaled_result)"
   ]
  },
  {
   "cell_type": "code",
   "execution_count": null,
   "metadata": {},
   "outputs": [],
   "source": [
    "xgboost_scaled_result.params"
   ]
  },
  {
   "cell_type": "code",
   "execution_count": null,
   "metadata": {},
   "outputs": [],
   "source": [
    "xgboost_scaled_result.value"
   ]
  },
  {
   "cell_type": "code",
   "execution_count": null,
   "metadata": {},
   "outputs": [],
   "source": [
    "best_xgboost_model_scaled = XGBClassifier(**xgboost_scaled_result.params)\n",
    "best_xgboost_model_scaled.fit(X_scaled_train, y_train)\n",
    "best_xgboost_model_scaled.score(X_scaled_test, y_test)"
   ]
  },
  {
   "cell_type": "markdown",
   "metadata": {},
   "source": [
    "#### PCA"
   ]
  },
  {
   "cell_type": "code",
   "execution_count": 10,
   "metadata": {},
   "outputs": [
    {
     "name": "stderr",
     "output_type": "stream",
     "text": [
      "[I 2024-02-08 23:18:42,163] A new study created in memory with name: no-name-909cebad-d40e-4bc5-a11b-42ff10272e4b\n",
      "[I 2024-02-08 23:22:34,534] Trial 6 finished with value: 0.901142857142857 and parameters: {'max_depth': 11, 'n_estimators': 245, 'learning_rate': 0.14999318335518755, 'subsample': 0.5328473003318795, 'reg_alpha': 1.4617723614516298, 'reg_lambda': 0.12444264488120138}. Best is trial 6 with value: 0.901142857142857.\n",
      "[I 2024-02-08 23:22:38,212] Trial 10 finished with value: 0.8959999999999999 and parameters: {'max_depth': 7, 'n_estimators': 227, 'learning_rate': 0.056796333331029, 'subsample': 0.6564222555650128, 'reg_alpha': 4.825888258586717, 'reg_lambda': 0.8066735554969023}. Best is trial 6 with value: 0.901142857142857.\n",
      "[I 2024-02-08 23:22:43,107] Trial 1 finished with value: 0.8868571428571428 and parameters: {'max_depth': 3, 'n_estimators': 266, 'learning_rate': 0.10795551120868592, 'subsample': 0.6329099202172607, 'reg_alpha': 4.161424962260347, 'reg_lambda': 0.6623666235195486}. Best is trial 6 with value: 0.901142857142857.\n",
      "[I 2024-02-08 23:22:44,583] Trial 5 finished with value: 0.9028571428571427 and parameters: {'max_depth': 6, 'n_estimators': 206, 'learning_rate': 0.19170060594861826, 'subsample': 0.806821103341167, 'reg_alpha': 2.4416776772003486, 'reg_lambda': 1.4644320597414107}. Best is trial 5 with value: 0.9028571428571427.\n",
      "[I 2024-02-08 23:22:53,472] Trial 9 finished with value: 0.9 and parameters: {'max_depth': 10, 'n_estimators': 103, 'learning_rate': 0.1450806721015779, 'subsample': 0.8298958625257047, 'reg_alpha': 2.512373684649339, 'reg_lambda': 2.623634431140902}. Best is trial 5 with value: 0.9028571428571427.\n",
      "[I 2024-02-08 23:22:53,854] Trial 4 finished with value: 0.8902857142857143 and parameters: {'max_depth': 9, 'n_estimators': 55, 'learning_rate': 0.13535120958091576, 'subsample': 0.9300321357572146, 'reg_alpha': 3.9272046197726205, 'reg_lambda': 0.5860927417143696}. Best is trial 5 with value: 0.9028571428571427.\n",
      "[I 2024-02-08 23:22:54,142] Trial 8 finished with value: 0.8960000000000001 and parameters: {'max_depth': 8, 'n_estimators': 280, 'learning_rate': 0.17422727441734348, 'subsample': 0.86485247727133, 'reg_alpha': 4.105147105168984, 'reg_lambda': 3.1547511336716276}. Best is trial 5 with value: 0.9028571428571427.\n",
      "[I 2024-02-08 23:23:02,157] Trial 7 finished with value: 0.893142857142857 and parameters: {'max_depth': 9, 'n_estimators': 121, 'learning_rate': 0.07494118484885014, 'subsample': 0.5771322651727364, 'reg_alpha': 3.956866406423802, 'reg_lambda': 0.8372949626045384}. Best is trial 5 with value: 0.9028571428571427.\n",
      "[I 2024-02-08 23:23:10,595] Trial 3 finished with value: 0.9068571428571428 and parameters: {'max_depth': 6, 'n_estimators': 246, 'learning_rate': 0.11070704515348219, 'subsample': 0.8277897838509977, 'reg_alpha': 3.332425557919718, 'reg_lambda': 3.6246397059462}. Best is trial 3 with value: 0.9068571428571428.\n",
      "[I 2024-02-08 23:23:12,646] Trial 0 finished with value: 0.844 and parameters: {'max_depth': 11, 'n_estimators': 58, 'learning_rate': 0.03025254288766746, 'subsample': 0.5098996422579658, 'reg_alpha': 3.8417477893761243, 'reg_lambda': 3.055273719286678}. Best is trial 3 with value: 0.9068571428571428.\n",
      "[I 2024-02-08 23:23:16,317] Trial 11 finished with value: 0.9034285714285714 and parameters: {'max_depth': 9, 'n_estimators': 185, 'learning_rate': 0.08436624342560137, 'subsample': 0.8167212496292937, 'reg_alpha': 1.6419853701175073, 'reg_lambda': 0.18384675156847274}. Best is trial 3 with value: 0.9068571428571428.\n",
      "[I 2024-02-08 23:23:18,284] Trial 12 finished with value: 0.8977142857142857 and parameters: {'max_depth': 7, 'n_estimators': 59, 'learning_rate': 0.1858642508718602, 'subsample': 0.7864004665793239, 'reg_alpha': 3.519216697487523, 'reg_lambda': 0.7405594737325744}. Best is trial 3 with value: 0.9068571428571428.\n",
      "[I 2024-02-08 23:23:35,935] Trial 2 finished with value: 0.8977142857142859 and parameters: {'max_depth': 10, 'n_estimators': 183, 'learning_rate': 0.06276595421563369, 'subsample': 0.9123266734336466, 'reg_alpha': 0.7168349610119823, 'reg_lambda': 2.1978069594316323}. Best is trial 3 with value: 0.9068571428571428.\n",
      "[I 2024-02-08 23:25:02,205] Trial 13 finished with value: 0.8742857142857143 and parameters: {'max_depth': 12, 'n_estimators': 276, 'learning_rate': 0.011752967376479661, 'subsample': 0.606104891616384, 'reg_alpha': 3.0282037232849026, 'reg_lambda': 2.4127961774952666}. Best is trial 3 with value: 0.9068571428571428.\n",
      "[I 2024-02-08 23:25:24,454] Trial 14 finished with value: 0.8971428571428571 and parameters: {'max_depth': 12, 'n_estimators': 139, 'learning_rate': 0.0918354780570312, 'subsample': 0.7004402039248185, 'reg_alpha': 4.968294598212008, 'reg_lambda': 0.7868247365267916}. Best is trial 3 with value: 0.9068571428571428.\n",
      "[I 2024-02-08 23:25:36,310] Trial 15 finished with value: 0.8611428571428572 and parameters: {'max_depth': 5, 'n_estimators': 135, 'learning_rate': 0.016655064553734777, 'subsample': 0.5958985275885389, 'reg_alpha': 1.1629880799409242, 'reg_lambda': 0.24007528504079778}. Best is trial 3 with value: 0.9068571428571428.\n",
      "[I 2024-02-08 23:25:57,427] Trial 16 finished with value: 0.8931428571428572 and parameters: {'max_depth': 10, 'n_estimators': 257, 'learning_rate': 0.12155538201324528, 'subsample': 0.9174459846271439, 'reg_alpha': 3.1074889844877767, 'reg_lambda': 1.4609024890779065}. Best is trial 3 with value: 0.9068571428571428.\n",
      "[I 2024-02-08 23:26:07,580] Trial 17 finished with value: 0.8994285714285712 and parameters: {'max_depth': 9, 'n_estimators': 87, 'learning_rate': 0.16871802401591193, 'subsample': 0.7847604075639272, 'reg_alpha': 4.785628672976973, 'reg_lambda': 2.7271553403483257}. Best is trial 3 with value: 0.9068571428571428.\n",
      "[I 2024-02-08 23:26:27,281] Trial 18 finished with value: 0.9085714285714287 and parameters: {'max_depth': 7, 'n_estimators': 123, 'learning_rate': 0.1975698421430552, 'subsample': 0.5729814535964426, 'reg_alpha': 0.841819927565578, 'reg_lambda': 3.8643359230042442}. Best is trial 18 with value: 0.9085714285714287.\n",
      "[I 2024-02-08 23:26:39,179] Trial 20 finished with value: 0.7765714285714285 and parameters: {'max_depth': 3, 'n_estimators': 81, 'learning_rate': 0.01734081840301887, 'subsample': 0.9725528329572024, 'reg_alpha': 4.940545158550599, 'reg_lambda': 2.5411056659422933}. Best is trial 18 with value: 0.9085714285714287.\n",
      "[I 2024-02-08 23:26:46,258] Trial 19 finished with value: 0.894857142857143 and parameters: {'max_depth': 12, 'n_estimators': 111, 'learning_rate': 0.15960485789864123, 'subsample': 0.9600463705478735, 'reg_alpha': 3.0776171437575557, 'reg_lambda': 4.369375670092745}. Best is trial 18 with value: 0.9085714285714287.\n",
      "[I 2024-02-08 23:26:58,523] Trial 21 finished with value: 0.9079999999999998 and parameters: {'max_depth': 4, 'n_estimators': 170, 'learning_rate': 0.09661143513050714, 'subsample': 0.9876410927130315, 'reg_alpha': 0.12076454483152244, 'reg_lambda': 4.559223489848804}. Best is trial 18 with value: 0.9085714285714287.\n",
      "[I 2024-02-08 23:27:17,798] Trial 22 finished with value: 0.9131428571428571 and parameters: {'max_depth': 5, 'n_estimators': 180, 'learning_rate': 0.096086035673479, 'subsample': 0.7293043347327808, 'reg_alpha': 0.28563256871800435, 'reg_lambda': 4.56732852500515}. Best is trial 22 with value: 0.9131428571428571.\n",
      "[I 2024-02-08 23:27:34,807] Trial 23 finished with value: 0.9091428571428573 and parameters: {'max_depth': 5, 'n_estimators': 162, 'learning_rate': 0.09445983137263529, 'subsample': 0.9646119165816239, 'reg_alpha': 0.08786817388160895, 'reg_lambda': 4.579802740285334}. Best is trial 22 with value: 0.9131428571428571.\n",
      "[I 2024-02-08 23:27:52,516] Trial 24 finished with value: 0.9028571428571428 and parameters: {'max_depth': 5, 'n_estimators': 152, 'learning_rate': 0.09886917243762866, 'subsample': 0.7240330356166652, 'reg_alpha': 2.4186343561536, 'reg_lambda': 4.350827232255163}. Best is trial 22 with value: 0.9131428571428571.\n",
      "[I 2024-02-08 23:28:13,328] Trial 25 finished with value: 0.9 and parameters: {'max_depth': 5, 'n_estimators': 172, 'learning_rate': 0.09789029405198951, 'subsample': 0.7113811451199248, 'reg_alpha': 1.5631323067330234, 'reg_lambda': 4.433773096689665}. Best is trial 22 with value: 0.9131428571428571.\n",
      "[I 2024-02-08 23:28:30,730] Trial 26 finished with value: 0.9045714285714286 and parameters: {'max_depth': 5, 'n_estimators': 163, 'learning_rate': 0.11432437435027329, 'subsample': 0.9918864491549679, 'reg_alpha': 1.6314960909137728, 'reg_lambda': 4.5318188455670345}. Best is trial 22 with value: 0.9131428571428571.\n",
      "[I 2024-02-08 23:28:33,310] Trial 27 finished with value: 0.9057142857142857 and parameters: {'max_depth': 4, 'n_estimators': 170, 'learning_rate': 0.1128026582416411, 'subsample': 0.9876341045543583, 'reg_alpha': 1.9127208789126424, 'reg_lambda': 4.3553283160100715}. Best is trial 22 with value: 0.9131428571428571.\n",
      "[I 2024-02-08 23:28:44,636] Trial 28 finished with value: 0.9085714285714286 and parameters: {'max_depth': 4, 'n_estimators': 169, 'learning_rate': 0.09196990743513721, 'subsample': 0.7406151035314249, 'reg_alpha': 0.017201568132456213, 'reg_lambda': 4.485603909425432}. Best is trial 22 with value: 0.9131428571428571.\n",
      "[I 2024-02-08 23:28:57,017] Trial 29 finished with value: 0.9 and parameters: {'max_depth': 4, 'n_estimators': 170, 'learning_rate': 0.09166819131119282, 'subsample': 0.7344439616736309, 'reg_alpha': 1.9026505755743366, 'reg_lambda': 4.684627635478494}. Best is trial 22 with value: 0.9131428571428571.\n",
      "[I 2024-02-08 23:29:06,986] Trial 30 finished with value: 0.9114285714285714 and parameters: {'max_depth': 4, 'n_estimators': 157, 'learning_rate': 0.11343930019631107, 'subsample': 0.9888669711415354, 'reg_alpha': 0.0801555397202881, 'reg_lambda': 4.136974581211297}. Best is trial 22 with value: 0.9131428571428571.\n",
      "[I 2024-02-08 23:29:23,293] Trial 31 finished with value: 0.9097142857142856 and parameters: {'max_depth': 5, 'n_estimators': 164, 'learning_rate': 0.16423133258978487, 'subsample': 0.721824397735427, 'reg_alpha': 0.3434617856476906, 'reg_lambda': 4.422475046409107}. Best is trial 22 with value: 0.9131428571428571.\n",
      "[I 2024-02-08 23:29:42,962] Trial 32 finished with value: 0.9039999999999999 and parameters: {'max_depth': 5, 'n_estimators': 162, 'learning_rate': 0.08649869770697202, 'subsample': 0.7295458730316863, 'reg_alpha': 0.10298448269726435, 'reg_lambda': 3.9431418348822858}. Best is trial 22 with value: 0.9131428571428571.\n",
      "[I 2024-02-08 23:29:56,556] Trial 33 finished with value: 0.9057142857142857 and parameters: {'max_depth': 5, 'n_estimators': 159, 'learning_rate': 0.10990836556195752, 'subsample': 0.7040437442648371, 'reg_alpha': 0.0563839553276437, 'reg_lambda': 4.5850341460002495}. Best is trial 22 with value: 0.9131428571428571.\n",
      "[I 2024-02-08 23:30:06,705] Trial 34 finished with value: 0.9045714285714286 and parameters: {'max_depth': 4, 'n_estimators': 155, 'learning_rate': 0.12727803622423664, 'subsample': 0.7413040044569701, 'reg_alpha': 0.12722798733745, 'reg_lambda': 4.941708631900535}. Best is trial 22 with value: 0.9131428571428571.\n",
      "[I 2024-02-08 23:30:17,844] Trial 35 finished with value: 0.9040000000000001 and parameters: {'max_depth': 4, 'n_estimators': 158, 'learning_rate': 0.1229321519047368, 'subsample': 0.7217182495010965, 'reg_alpha': 0.04325641213843258, 'reg_lambda': 4.973531538721417}. Best is trial 22 with value: 0.9131428571428571.\n",
      "[I 2024-02-08 23:30:29,940] Trial 36 finished with value: 0.9062857142857144 and parameters: {'max_depth': 5, 'n_estimators': 155, 'learning_rate': 0.12231091844277683, 'subsample': 0.6931035416753297, 'reg_alpha': 0.02621371269092121, 'reg_lambda': 4.841820409042048}. Best is trial 22 with value: 0.9131428571428571.\n",
      "[I 2024-02-08 23:30:56,522] Trial 37 finished with value: 0.908 and parameters: {'max_depth': 6, 'n_estimators': 203, 'learning_rate': 0.1286752310939795, 'subsample': 0.7467584770859365, 'reg_alpha': 0.08163872100310532, 'reg_lambda': 4.9753748099066035}. Best is trial 22 with value: 0.9131428571428571.\n",
      "[I 2024-02-08 23:31:21,836] Trial 38 finished with value: 0.9057142857142857 and parameters: {'max_depth': 6, 'n_estimators': 203, 'learning_rate': 0.12752785753420826, 'subsample': 0.6697308846039938, 'reg_alpha': 0.08206548418051263, 'reg_lambda': 4.926174897460594}. Best is trial 22 with value: 0.9131428571428571.\n",
      "[I 2024-02-08 23:32:01,417] Trial 39 finished with value: 0.8994285714285717 and parameters: {'max_depth': 6, 'n_estimators': 202, 'learning_rate': 0.0459245124870365, 'subsample': 0.6695718599151753, 'reg_alpha': 0.009356455471481007, 'reg_lambda': 4.998702508106321}. Best is trial 22 with value: 0.9131428571428571.\n",
      "[I 2024-02-08 23:32:36,932] Trial 40 finished with value: 0.8948571428571428 and parameters: {'max_depth': 6, 'n_estimators': 207, 'learning_rate': 0.045291135395468536, 'subsample': 0.5084507420110415, 'reg_alpha': 0.5539962511812901, 'reg_lambda': 4.925211977409281}. Best is trial 22 with value: 0.9131428571428571.\n",
      "[I 2024-02-08 23:33:08,633] Trial 41 finished with value: 0.8925714285714286 and parameters: {'max_depth': 6, 'n_estimators': 199, 'learning_rate': 0.043870004054837985, 'subsample': 0.5187429394865736, 'reg_alpha': 0.5464620319717332, 'reg_lambda': 4.9969565688559445}. Best is trial 22 with value: 0.9131428571428571.\n",
      "[I 2024-02-08 23:33:36,148] Trial 42 finished with value: 0.8942857142857144 and parameters: {'max_depth': 6, 'n_estimators': 202, 'learning_rate': 0.046017281955230666, 'subsample': 0.5118385548201565, 'reg_alpha': 0.4934564131246867, 'reg_lambda': 3.9011999998935365}. Best is trial 22 with value: 0.9131428571428571.\n",
      "[I 2024-02-08 23:33:54,484] Trial 44 finished with value: 0.8765714285714286 and parameters: {'max_depth': 3, 'n_estimators': 199, 'learning_rate': 0.047555967208744575, 'subsample': 0.8731789871841585, 'reg_alpha': 0.5123685650560247, 'reg_lambda': 4.849623111573786}. Best is trial 22 with value: 0.9131428571428571.\n",
      "[I 2024-02-08 23:33:59,759] Trial 43 finished with value: 0.9108571428571428 and parameters: {'max_depth': 6, 'n_estimators': 203, 'learning_rate': 0.1307350524480105, 'subsample': 0.8732419874324181, 'reg_alpha': 0.43924884169245704, 'reg_lambda': 4.998670674329486}. Best is trial 22 with value: 0.9131428571428571.\n",
      "[I 2024-02-08 23:34:03,537] Trial 45 finished with value: 0.8788571428571428 and parameters: {'max_depth': 3, 'n_estimators': 206, 'learning_rate': 0.04808438300063741, 'subsample': 0.6652150696819061, 'reg_alpha': 0.5062732840868494, 'reg_lambda': 3.478406139254391}. Best is trial 22 with value: 0.9131428571428571.\n",
      "[I 2024-02-08 23:34:11,848] Trial 46 finished with value: 0.8880000000000001 and parameters: {'max_depth': 3, 'n_estimators': 197, 'learning_rate': 0.06730006021450066, 'subsample': 0.6629301277542401, 'reg_alpha': 0.49729079740350923, 'reg_lambda': 3.356748159436542}. Best is trial 22 with value: 0.9131428571428571.\n",
      "[I 2024-02-08 23:34:47,940] Trial 47 finished with value: 0.9074285714285713 and parameters: {'max_depth': 6, 'n_estimators': 193, 'learning_rate': 0.050199078747980186, 'subsample': 0.8770798672101751, 'reg_alpha': 0.5291527286237534, 'reg_lambda': 3.4512007521906893}. Best is trial 22 with value: 0.9131428571428571.\n",
      "[I 2024-02-08 23:34:50,380] Trial 48 finished with value: 0.8702857142857143 and parameters: {'max_depth': 3, 'n_estimators': 191, 'learning_rate': 0.03972669955680057, 'subsample': 0.8700419647066029, 'reg_alpha': 0.569130311632466, 'reg_lambda': 3.379741778349402}. Best is trial 22 with value: 0.9131428571428571.\n",
      "[I 2024-02-08 23:34:57,004] Trial 49 finished with value: 0.8794285714285713 and parameters: {'max_depth': 3, 'n_estimators': 192, 'learning_rate': 0.055561406506305235, 'subsample': 0.8800209344568364, 'reg_alpha': 0.543381045744211, 'reg_lambda': 3.3213479650686146}. Best is trial 22 with value: 0.9131428571428571.\n",
      "[I 2024-02-08 23:35:03,043] Trial 50 finished with value: 0.8800000000000001 and parameters: {'max_depth': 3, 'n_estimators': 186, 'learning_rate': 0.05160810591833294, 'subsample': 0.9000848095790213, 'reg_alpha': 0.6478663786318833, 'reg_lambda': 3.3755682676436445}. Best is trial 22 with value: 0.9131428571428571.\n",
      "[I 2024-02-08 23:35:12,257] Trial 51 finished with value: 0.8982857142857142 and parameters: {'max_depth': 3, 'n_estimators': 221, 'learning_rate': 0.07648107676125399, 'subsample': 0.8752647939528035, 'reg_alpha': 0.5384491297696772, 'reg_lambda': 3.3633382845401374}. Best is trial 22 with value: 0.9131428571428571.\n",
      "[I 2024-02-08 23:35:14,942] Trial 52 finished with value: 0.876 and parameters: {'max_depth': 3, 'n_estimators': 136, 'learning_rate': 0.07190102842491648, 'subsample': 0.8856519103316298, 'reg_alpha': 0.595383602685547, 'reg_lambda': 3.9283171857604273}. Best is trial 22 with value: 0.9131428571428571.\n",
      "[I 2024-02-08 23:35:20,618] Trial 53 finished with value: 0.8691428571428572 and parameters: {'max_depth': 3, 'n_estimators': 135, 'learning_rate': 0.06981152468984267, 'subsample': 0.8983400490916598, 'reg_alpha': 0.9316812412063165, 'reg_lambda': 3.744069591299416}. Best is trial 22 with value: 0.9131428571428571.\n",
      "[I 2024-02-08 23:35:26,478] Trial 54 finished with value: 0.8971428571428571 and parameters: {'max_depth': 3, 'n_estimators': 142, 'learning_rate': 0.19653654111986169, 'subsample': 0.9469675843346991, 'reg_alpha': 0.9621790306516161, 'reg_lambda': 3.4172028500201055}. Best is trial 22 with value: 0.9131428571428571.\n",
      "[I 2024-02-08 23:35:43,974] Trial 55 finished with value: 0.9091428571428573 and parameters: {'max_depth': 7, 'n_estimators': 133, 'learning_rate': 0.19798084343968034, 'subsample': 0.5503466564853327, 'reg_alpha': 0.95000317885562, 'reg_lambda': 3.5787779818775967}. Best is trial 22 with value: 0.9131428571428571.\n",
      "[I 2024-02-08 23:35:50,804] Trial 56 finished with value: 0.8868571428571428 and parameters: {'max_depth': 3, 'n_estimators': 186, 'learning_rate': 0.07201942407278046, 'subsample': 0.9494759426027175, 'reg_alpha': 0.9114177613199922, 'reg_lambda': 3.2514054808389012}. Best is trial 22 with value: 0.9131428571428571.\n",
      "[I 2024-02-08 23:36:37,228] Trial 57 finished with value: 0.9045714285714286 and parameters: {'max_depth': 7, 'n_estimators': 222, 'learning_rate': 0.0718662296206474, 'subsample': 0.9414880400551807, 'reg_alpha': 0.8477807893211282, 'reg_lambda': 4.1255685528816475}. Best is trial 22 with value: 0.9131428571428571.\n",
      "[I 2024-02-08 23:37:07,615] Trial 58 finished with value: 0.909142857142857 and parameters: {'max_depth': 8, 'n_estimators': 183, 'learning_rate': 0.14423943815704798, 'subsample': 0.9424923692569562, 'reg_alpha': 0.9069639045849696, 'reg_lambda': 4.188415455891024}. Best is trial 22 with value: 0.9131428571428571.\n",
      "[I 2024-02-08 23:37:37,354] Trial 59 finished with value: 0.9051428571428571 and parameters: {'max_depth': 8, 'n_estimators': 227, 'learning_rate': 0.15153796806271935, 'subsample': 0.9441722875246795, 'reg_alpha': 0.8899796258385199, 'reg_lambda': 4.130760732251512}. Best is trial 22 with value: 0.9131428571428571.\n",
      "[I 2024-02-08 23:38:07,233] Trial 60 finished with value: 0.9062857142857143 and parameters: {'max_depth': 7, 'n_estimators': 223, 'learning_rate': 0.13918601595563151, 'subsample': 0.9558529847916606, 'reg_alpha': 0.984660511192832, 'reg_lambda': 4.139852843962547}. Best is trial 22 with value: 0.9131428571428571.\n",
      "[I 2024-02-08 23:38:31,947] Trial 61 finished with value: 0.9045714285714286 and parameters: {'max_depth': 8, 'n_estimators': 222, 'learning_rate': 0.13777253387082883, 'subsample': 0.9542816487650063, 'reg_alpha': 0.9386037050333538, 'reg_lambda': 4.114114407645312}. Best is trial 22 with value: 0.9131428571428571.\n",
      "[I 2024-02-08 23:38:39,645] Trial 62 finished with value: 0.9108571428571428 and parameters: {'max_depth': 7, 'n_estimators': 223, 'learning_rate': 0.19730644950771414, 'subsample': 0.7721351803103869, 'reg_alpha': 0.9624344759168244, 'reg_lambda': 4.076636048334431}. Best is trial 22 with value: 0.9131428571428571.\n",
      "[I 2024-02-08 23:39:01,308] Trial 63 finished with value: 0.9057142857142857 and parameters: {'max_depth': 7, 'n_estimators': 139, 'learning_rate': 0.19555344867104757, 'subsample': 0.9492841542919997, 'reg_alpha': 0.9243111313656468, 'reg_lambda': 4.070618286256502}. Best is trial 22 with value: 0.9131428571428571.\n",
      "[I 2024-02-08 23:39:33,487] Trial 64 finished with value: 0.9045714285714286 and parameters: {'max_depth': 8, 'n_estimators': 296, 'learning_rate': 0.1415550009730454, 'subsample': 0.9422522396510538, 'reg_alpha': 0.9393118289068594, 'reg_lambda': 4.1123137570218695}. Best is trial 22 with value: 0.9131428571428571.\n",
      "[I 2024-02-08 23:39:53,562] Trial 65 finished with value: 0.8994285714285712 and parameters: {'max_depth': 7, 'n_estimators': 123, 'learning_rate': 0.13965202029977608, 'subsample': 0.9449634989374155, 'reg_alpha': 0.9728933108486151, 'reg_lambda': 4.13288049384747}. Best is trial 22 with value: 0.9131428571428571.\n",
      "[I 2024-02-08 23:40:15,597] Trial 66 finished with value: 0.9120000000000001 and parameters: {'max_depth': 7, 'n_estimators': 122, 'learning_rate': 0.14171138892105728, 'subsample': 0.5573156147506321, 'reg_alpha': 0.29246056978476714, 'reg_lambda': 4.089112897337398}. Best is trial 22 with value: 0.9131428571428571.\n",
      "[I 2024-02-08 23:40:47,281] Trial 67 finished with value: 0.9057142857142857 and parameters: {'max_depth': 8, 'n_estimators': 299, 'learning_rate': 0.14363964887553715, 'subsample': 0.8384952675253344, 'reg_alpha': 1.243795806524983, 'reg_lambda': 4.14341965438118}. Best is trial 22 with value: 0.9131428571428571.\n",
      "[I 2024-02-08 23:41:13,075] Trial 68 finished with value: 0.9108571428571428 and parameters: {'max_depth': 8, 'n_estimators': 220, 'learning_rate': 0.14376170289935497, 'subsample': 0.838500977457592, 'reg_alpha': 0.29251442756398455, 'reg_lambda': 4.146200656819468}. Best is trial 22 with value: 0.9131428571428571.\n",
      "[I 2024-02-08 23:41:40,846] Trial 69 finished with value: 0.9097142857142858 and parameters: {'max_depth': 8, 'n_estimators': 147, 'learning_rate': 0.14126599229387102, 'subsample': 0.8464448644521365, 'reg_alpha': 0.32744555477410525, 'reg_lambda': 4.114719063968077}. Best is trial 22 with value: 0.9131428571428571.\n",
      "[I 2024-02-08 23:41:56,683] Trial 70 finished with value: 0.909142857142857 and parameters: {'max_depth': 8, 'n_estimators': 123, 'learning_rate': 0.18081851253729783, 'subsample': 0.770143703547747, 'reg_alpha': 0.37107636336444555, 'reg_lambda': 4.080434458989663}. Best is trial 22 with value: 0.9131428571428571.\n",
      "[I 2024-02-08 23:42:17,950] Trial 71 finished with value: 0.9034285714285714 and parameters: {'max_depth': 7, 'n_estimators': 116, 'learning_rate': 0.17345237367042243, 'subsample': 0.7980521990495337, 'reg_alpha': 1.27058825583023, 'reg_lambda': 3.0532742818657512}. Best is trial 22 with value: 0.9131428571428571.\n",
      "[I 2024-02-08 23:42:30,291] Trial 72 finished with value: 0.9137142857142857 and parameters: {'max_depth': 8, 'n_estimators': 179, 'learning_rate': 0.18190830381213466, 'subsample': 0.785730010398252, 'reg_alpha': 0.30672458118715096, 'reg_lambda': 4.23523959551797}. Best is trial 72 with value: 0.9137142857142857.\n",
      "[I 2024-02-08 23:42:57,700] Trial 73 finished with value: 0.9085714285714286 and parameters: {'max_depth': 7, 'n_estimators': 178, 'learning_rate': 0.16056775124718878, 'subsample': 0.770900475241839, 'reg_alpha': 0.2968435048342526, 'reg_lambda': 4.682733150270812}. Best is trial 72 with value: 0.9137142857142857.\n",
      "[I 2024-02-08 23:43:24,394] Trial 74 finished with value: 0.9114285714285714 and parameters: {'max_depth': 7, 'n_estimators': 251, 'learning_rate': 0.18316097622013136, 'subsample': 0.7719486861729281, 'reg_alpha': 0.27555008722367197, 'reg_lambda': 4.701745071069822}. Best is trial 72 with value: 0.9137142857142857.\n",
      "[I 2024-02-08 23:43:42,126] Trial 75 finished with value: 0.9137142857142857 and parameters: {'max_depth': 5, 'n_estimators': 239, 'learning_rate': 0.18508351906562917, 'subsample': 0.8458092356917041, 'reg_alpha': 0.3008525957379323, 'reg_lambda': 2.9666268164696685}. Best is trial 72 with value: 0.9137142857142857.\n",
      "[I 2024-02-08 23:43:59,789] Trial 76 finished with value: 0.909142857142857 and parameters: {'max_depth': 5, 'n_estimators': 237, 'learning_rate': 0.1842531213679912, 'subsample': 0.7701297331301938, 'reg_alpha': 0.30520590252900137, 'reg_lambda': 2.919919237057672}. Best is trial 72 with value: 0.9137142857142857.\n",
      "[I 2024-02-08 23:44:19,005] Trial 78 finished with value: 0.9120000000000001 and parameters: {'max_depth': 5, 'n_estimators': 106, 'learning_rate': 0.17718882322867593, 'subsample': 0.7738051527706867, 'reg_alpha': 0.3102475343439157, 'reg_lambda': 3.002067737491223}. Best is trial 72 with value: 0.9137142857142857.\n",
      "[I 2024-02-08 23:44:19,584] Trial 77 finished with value: 0.913142857142857 and parameters: {'max_depth': 5, 'n_estimators': 240, 'learning_rate': 0.18397543081935097, 'subsample': 0.782896763643427, 'reg_alpha': 0.3290156873519087, 'reg_lambda': 4.710380371753573}. Best is trial 72 with value: 0.9137142857142857.\n",
      "[I 2024-02-08 23:44:32,866] Trial 79 finished with value: 0.9131428571428571 and parameters: {'max_depth': 5, 'n_estimators': 111, 'learning_rate': 0.1806580949460256, 'subsample': 0.782093418978564, 'reg_alpha': 0.28235065027903117, 'reg_lambda': 4.737839463338881}. Best is trial 72 with value: 0.9137142857142857.\n",
      "[I 2024-02-08 23:45:02,092] Trial 80 finished with value: 0.9131428571428571 and parameters: {'max_depth': 9, 'n_estimators': 236, 'learning_rate': 0.18179602441162046, 'subsample': 0.7657774830913684, 'reg_alpha': 0.3435388051870345, 'reg_lambda': 2.9327735266610118}. Best is trial 72 with value: 0.9137142857142857.\n",
      "[I 2024-02-08 23:45:50,364] Trial 81 finished with value: 0.908 and parameters: {'max_depth': 10, 'n_estimators': 245, 'learning_rate': 0.10444657757690506, 'subsample': 0.7921117886174913, 'reg_alpha': 0.29650499777024886, 'reg_lambda': 4.731025489573271}. Best is trial 72 with value: 0.9137142857142857.\n",
      "[I 2024-02-08 23:46:21,145] Trial 82 finished with value: 0.9028571428571428 and parameters: {'max_depth': 9, 'n_estimators': 234, 'learning_rate': 0.1625268921889065, 'subsample': 0.8513736231901541, 'reg_alpha': 0.33722425444824905, 'reg_lambda': 4.720295193808992}. Best is trial 72 with value: 0.9137142857142857.\n",
      "[I 2024-02-08 23:46:54,651] Trial 83 finished with value: 0.9074285714285715 and parameters: {'max_depth': 9, 'n_estimators': 247, 'learning_rate': 0.15976751350179577, 'subsample': 0.8432691586240163, 'reg_alpha': 0.3023609460309562, 'reg_lambda': 4.654138183327626}. Best is trial 72 with value: 0.9137142857142857.\n",
      "[I 2024-02-08 23:47:26,504] Trial 84 finished with value: 0.909142857142857 and parameters: {'max_depth': 9, 'n_estimators': 237, 'learning_rate': 0.15633489470087447, 'subsample': 0.845615093520355, 'reg_alpha': 0.29295459060911966, 'reg_lambda': 4.731025586066979}. Best is trial 72 with value: 0.9137142857142857.\n",
      "[I 2024-02-08 23:47:54,986] Trial 85 finished with value: 0.9057142857142857 and parameters: {'max_depth': 9, 'n_estimators': 235, 'learning_rate': 0.10527870124819017, 'subsample': 0.8348516153271084, 'reg_alpha': 0.2319362959012434, 'reg_lambda': 3.75845773258857}. Best is trial 72 with value: 0.9137142857142857.\n",
      "[I 2024-02-08 23:48:18,601] Trial 86 finished with value: 0.9148571428571429 and parameters: {'max_depth': 9, 'n_estimators': 240, 'learning_rate': 0.1869692858938882, 'subsample': 0.8148988788350044, 'reg_alpha': 0.25333944141862585, 'reg_lambda': 4.701325226268406}. Best is trial 86 with value: 0.9148571428571429.\n",
      "[I 2024-02-08 23:48:42,157] Trial 87 finished with value: 0.9057142857142857 and parameters: {'max_depth': 9, 'n_estimators': 244, 'learning_rate': 0.18963726244417706, 'subsample': 0.811034779393155, 'reg_alpha': 0.726980138029123, 'reg_lambda': 2.1150516789147895}. Best is trial 86 with value: 0.9148571428571429.\n",
      "[I 2024-02-08 23:49:08,085] Trial 88 finished with value: 0.9102857142857144 and parameters: {'max_depth': 6, 'n_estimators': 257, 'learning_rate': 0.1778932150927874, 'subsample': 0.8162761633980854, 'reg_alpha': 0.2396048979858536, 'reg_lambda': 2.3097311108393894}. Best is trial 86 with value: 0.9148571428571429.\n",
      "[I 2024-02-08 23:49:27,121] Trial 89 finished with value: 0.9085714285714286 and parameters: {'max_depth': 9, 'n_estimators': 259, 'learning_rate': 0.18749965104005967, 'subsample': 0.805383432105166, 'reg_alpha': 0.7212948885041114, 'reg_lambda': 2.2590180934635784}. Best is trial 86 with value: 0.9148571428571429.\n",
      "[I 2024-02-08 23:49:39,302] Trial 90 finished with value: 0.908 and parameters: {'max_depth': 9, 'n_estimators': 258, 'learning_rate': 0.1893878560452386, 'subsample': 0.8120293716507136, 'reg_alpha': 0.20215644427818355, 'reg_lambda': 2.0430533716832895}. Best is trial 86 with value: 0.9148571428571429.\n",
      "[I 2024-02-08 23:49:52,740] Trial 91 finished with value: 0.9108571428571428 and parameters: {'max_depth': 4, 'n_estimators': 258, 'learning_rate': 0.17505008296470193, 'subsample': 0.6340593768868973, 'reg_alpha': 0.7418349933175666, 'reg_lambda': 1.9692464446068318}. Best is trial 86 with value: 0.9148571428571429.\n",
      "[I 2024-02-08 23:50:12,434] Trial 92 finished with value: 0.9040000000000001 and parameters: {'max_depth': 9, 'n_estimators': 94, 'learning_rate': 0.18946013277394189, 'subsample': 0.8137290570166477, 'reg_alpha': 0.7447322408561212, 'reg_lambda': 1.9674667397681023}. Best is trial 86 with value: 0.9148571428571429.\n",
      "[I 2024-02-08 23:50:30,795] Trial 93 finished with value: 0.9045714285714286 and parameters: {'max_depth': 9, 'n_estimators': 101, 'learning_rate': 0.18910897740506002, 'subsample': 0.8151906704206765, 'reg_alpha': 0.17738479837444465, 'reg_lambda': 1.8471484605610962}. Best is trial 86 with value: 0.9148571428571429.\n",
      "[I 2024-02-08 23:50:47,988] Trial 94 finished with value: 0.9131428571428571 and parameters: {'max_depth': 9, 'n_estimators': 96, 'learning_rate': 0.19044805852525087, 'subsample': 0.8150129347704517, 'reg_alpha': 0.6971263097108853, 'reg_lambda': 2.0207780432754636}. Best is trial 86 with value: 0.9148571428571429.\n",
      "[I 2024-02-08 23:50:48,268] Trial 95 finished with value: 0.9051428571428571 and parameters: {'max_depth': 4, 'n_estimators': 93, 'learning_rate': 0.18948379149357916, 'subsample': 0.8094040327430049, 'reg_alpha': 0.7458660393883039, 'reg_lambda': 2.2132730635317284}. Best is trial 86 with value: 0.9148571428571429.\n",
      "[I 2024-02-08 23:50:55,359] Trial 96 finished with value: 0.9062857142857143 and parameters: {'max_depth': 4, 'n_estimators': 98, 'learning_rate': 0.1905832334279845, 'subsample': 0.8152618778397333, 'reg_alpha': 0.7036205688213917, 'reg_lambda': 2.41464423717972}. Best is trial 86 with value: 0.9148571428571429.\n",
      "[I 2024-02-08 23:51:01,458] Trial 97 finished with value: 0.9028571428571428 and parameters: {'max_depth': 4, 'n_estimators': 89, 'learning_rate': 0.19021771174608376, 'subsample': 0.8141100133435094, 'reg_alpha': 0.7620069610626704, 'reg_lambda': 2.191283367764446}. Best is trial 86 with value: 0.9148571428571429.\n",
      "[I 2024-02-08 23:51:26,322] Trial 98 finished with value: 0.9097142857142858 and parameters: {'max_depth': 10, 'n_estimators': 272, 'learning_rate': 0.18944137713144316, 'subsample': 0.8173383684551523, 'reg_alpha': 0.7319110169208215, 'reg_lambda': 2.357196595253592}. Best is trial 86 with value: 0.9148571428571429.\n",
      "[I 2024-02-08 23:51:39,347] Trial 99 finished with value: 0.9045714285714285 and parameters: {'max_depth': 11, 'n_estimators': 101, 'learning_rate': 0.17627705997729307, 'subsample': 0.6370404653516449, 'reg_alpha': 0.7022927510356565, 'reg_lambda': 2.246118803032737}. Best is trial 86 with value: 0.9148571428571429.\n"
     ]
    },
    {
     "name": "stdout",
     "output_type": "stream",
     "text": [
      "FrozenTrial(number=86, state=1, values=[0.9148571428571429], datetime_start=datetime.datetime(2024, 2, 8, 23, 43, 24, 398768), datetime_complete=datetime.datetime(2024, 2, 8, 23, 48, 18, 601449), params={'max_depth': 9, 'n_estimators': 240, 'learning_rate': 0.1869692858938882, 'subsample': 0.8148988788350044, 'reg_alpha': 0.25333944141862585, 'reg_lambda': 4.701325226268406}, user_attrs={}, system_attrs={}, intermediate_values={}, distributions={'max_depth': IntDistribution(high=12, log=False, low=3, step=1), 'n_estimators': IntDistribution(high=300, log=False, low=50, step=1), 'learning_rate': FloatDistribution(high=0.2, log=False, low=0.01, step=None), 'subsample': FloatDistribution(high=1.0, log=False, low=0.5, step=None), 'reg_alpha': FloatDistribution(high=5.0, log=False, low=0.0, step=None), 'reg_lambda': FloatDistribution(high=5.0, log=False, low=0.0, step=None)}, trial_id=86, value=None)\n"
     ]
    }
   ],
   "source": [
    "xgboost_pca_result = optimize_hyperparameters('xgboost', X_pca_train, y_train, n_trials=100)\n",
    "print(xgboost_pca_result)"
   ]
  },
  {
   "cell_type": "code",
   "execution_count": 11,
   "metadata": {},
   "outputs": [
    {
     "data": {
      "text/plain": [
       "{'max_depth': 9,\n",
       " 'n_estimators': 240,\n",
       " 'learning_rate': 0.1869692858938882,\n",
       " 'subsample': 0.8148988788350044,\n",
       " 'reg_alpha': 0.25333944141862585,\n",
       " 'reg_lambda': 4.701325226268406}"
      ]
     },
     "execution_count": 11,
     "metadata": {},
     "output_type": "execute_result"
    }
   ],
   "source": [
    "xgboost_pca_result.params"
   ]
  },
  {
   "cell_type": "code",
   "execution_count": 12,
   "metadata": {},
   "outputs": [
    {
     "data": {
      "text/plain": [
       "0.9148571428571429"
      ]
     },
     "execution_count": 12,
     "metadata": {},
     "output_type": "execute_result"
    }
   ],
   "source": [
    "xgboost_pca_result.value"
   ]
  },
  {
   "cell_type": "code",
   "execution_count": 13,
   "metadata": {},
   "outputs": [
    {
     "data": {
      "text/plain": [
       "0.8972602739726028"
      ]
     },
     "execution_count": 13,
     "metadata": {},
     "output_type": "execute_result"
    }
   ],
   "source": [
    "best_xgboost_model_pca = XGBClassifier(**xgboost_pca_result.params)\n",
    "best_xgboost_model_pca.fit(X_pca_train, y_train)\n",
    "best_xgboost_model_pca.score(X_pca_test, y_test)"
   ]
  }
 ],
 "metadata": {
  "kernelspec": {
   "display_name": ".env",
   "language": "python",
   "name": "python3"
  },
  "language_info": {
   "codemirror_mode": {
    "name": "ipython",
    "version": 3
   },
   "file_extension": ".py",
   "mimetype": "text/x-python",
   "name": "python",
   "nbconvert_exporter": "python",
   "pygments_lexer": "ipython3",
   "version": "3.11.7"
  }
 },
 "nbformat": 4,
 "nbformat_minor": 2
}
