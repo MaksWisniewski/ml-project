{
 "cells": [
  {
   "cell_type": "code",
   "execution_count": 1,
   "metadata": {},
   "outputs": [],
   "source": [
    "import numpy as np\n",
    "import matplotlib.pyplot as plt\n",
    "\n",
    "from sklearn.neighbors import KNeighborsClassifier\n",
    "from sklearn.tree import DecisionTreeClassifier\n",
    "from sklearn.ensemble import RandomForestClassifier\n",
    "from xgboost import XGBClassifier\n",
    "from sklearn.svm import SVC\n",
    "\n",
    "from sklearn.decomposition import PCA\n",
    "\n",
    "from utils.data import CLASS_NAMES, read_dataset\n",
    "from utils.image_preprocessing import preprocess_dataset\n",
    "from utils.hyperparameter_optimizer import optimize_hyperparameters\n",
    "\n",
    "%matplotlib inline\n",
    "plt.rcParams['figure.figsize'] = [10, 5]"
   ]
  },
  {
   "cell_type": "markdown",
   "metadata": {},
   "source": [
    "# Loading data"
   ]
  },
  {
   "cell_type": "code",
   "execution_count": null,
   "metadata": {},
   "outputs": [],
   "source": [
    "X_raw, y = read_dataset('./data/rockpaperscissors/')\n",
    "X = preprocess_dataset(X_raw, image_shape=(300,200))"
   ]
  },
  {
   "cell_type": "code",
   "execution_count": 3,
   "metadata": {},
   "outputs": [
    {
     "data": {
      "text/plain": [
       "(2188, 60000)"
      ]
     },
     "execution_count": 3,
     "metadata": {},
     "output_type": "execute_result"
    }
   ],
   "source": [
    "X.shape"
   ]
  },
  {
   "cell_type": "code",
   "execution_count": 4,
   "metadata": {},
   "outputs": [],
   "source": [
    "TRAIN_SIZE = int(0.8 * y.shape[0])\n",
    "X_train, y_train = X[:TRAIN_SIZE], y[:TRAIN_SIZE]\n",
    "X_test, y_test = X[TRAIN_SIZE:], y[TRAIN_SIZE:]"
   ]
  },
  {
   "cell_type": "code",
   "execution_count": 5,
   "metadata": {},
   "outputs": [
    {
     "data": {
      "text/plain": [
       "(1750, 60000)"
      ]
     },
     "execution_count": 5,
     "metadata": {},
     "output_type": "execute_result"
    }
   ],
   "source": [
    "X_train.shape"
   ]
  },
  {
   "cell_type": "markdown",
   "metadata": {},
   "source": [
    "### Scaled images"
   ]
  },
  {
   "cell_type": "code",
   "execution_count": 6,
   "metadata": {},
   "outputs": [],
   "source": [
    "X_scaled = preprocess_dataset(X_raw, image_shape=(150, 100))\n",
    "X_scaled_train, X_scaled_test = X_scaled[:TRAIN_SIZE], X_scaled[TRAIN_SIZE:]"
   ]
  },
  {
   "cell_type": "code",
   "execution_count": 7,
   "metadata": {},
   "outputs": [
    {
     "data": {
      "text/plain": [
       "(2188, 15000)"
      ]
     },
     "execution_count": 7,
     "metadata": {},
     "output_type": "execute_result"
    }
   ],
   "source": [
    "X_scaled.shape"
   ]
  },
  {
   "cell_type": "markdown",
   "metadata": {},
   "source": [
    "### PCA"
   ]
  },
  {
   "cell_type": "code",
   "execution_count": 8,
   "metadata": {},
   "outputs": [],
   "source": [
    "pca_model = PCA(n_components=300)\n",
    "X_pca = pca_model.fit_transform(X)\n",
    "\n",
    "X_pca_train = X_pca[:TRAIN_SIZE]\n",
    "X_pca_test = X_pca[TRAIN_SIZE:]"
   ]
  },
  {
   "cell_type": "code",
   "execution_count": 9,
   "metadata": {},
   "outputs": [
    {
     "data": {
      "text/plain": [
       "(2188, 300)"
      ]
     },
     "execution_count": 9,
     "metadata": {},
     "output_type": "execute_result"
    }
   ],
   "source": [
    "X_pca.shape"
   ]
  },
  {
   "cell_type": "markdown",
   "metadata": {},
   "source": [
    "# Training models"
   ]
  },
  {
   "cell_type": "markdown",
   "metadata": {},
   "source": [
    "## Hyperparameter tuning"
   ]
  },
  {
   "cell_type": "markdown",
   "metadata": {},
   "source": [
    "For each model we select hyperparameters that maximize mean accuracy measured by cross-validation on training set."
   ]
  },
  {
   "cell_type": "markdown",
   "metadata": {},
   "source": [
    "### KNN"
   ]
  },
  {
   "cell_type": "markdown",
   "metadata": {},
   "source": [
    "#### Full images"
   ]
  },
  {
   "cell_type": "code",
   "execution_count": 10,
   "metadata": {},
   "outputs": [
    {
     "name": "stderr",
     "output_type": "stream",
     "text": [
      "[I 2024-02-08 15:14:36,809] A new study created in memory with name: no-name-93ce20ac-defb-410d-9662-df543e81ec83\n",
      "[I 2024-02-08 15:14:49,214] Trial 9 finished with value: 0.8222857142857144 and parameters: {'n_neighbors': 49}. Best is trial 9 with value: 0.8222857142857144.\n",
      "[I 2024-02-08 15:14:57,158] Trial 10 finished with value: 0.8542857142857143 and parameters: {'n_neighbors': 28}. Best is trial 10 with value: 0.8542857142857143.\n",
      "[I 2024-02-08 15:14:57,557] Trial 1 finished with value: 0.8742857142857143 and parameters: {'n_neighbors': 18}. Best is trial 1 with value: 0.8742857142857143.\n",
      "[I 2024-02-08 15:14:59,656] Trial 2 finished with value: 0.905142857142857 and parameters: {'n_neighbors': 5}. Best is trial 2 with value: 0.905142857142857.\n",
      "[I 2024-02-08 15:14:59,980] Trial 5 finished with value: 0.8571428571428571 and parameters: {'n_neighbors': 26}. Best is trial 2 with value: 0.905142857142857.\n",
      "[I 2024-02-08 15:15:02,805] Trial 7 finished with value: 0.8805714285714286 and parameters: {'n_neighbors': 15}. Best is trial 2 with value: 0.905142857142857.\n",
      "[I 2024-02-08 15:15:05,624] Trial 0 finished with value: 0.8879999999999999 and parameters: {'n_neighbors': 12}. Best is trial 2 with value: 0.905142857142857.\n",
      "[I 2024-02-08 15:15:05,812] Trial 3 finished with value: 0.8571428571428571 and parameters: {'n_neighbors': 26}. Best is trial 2 with value: 0.905142857142857.\n",
      "[I 2024-02-08 15:15:05,883] Trial 8 finished with value: 0.8302857142857143 and parameters: {'n_neighbors': 42}. Best is trial 2 with value: 0.905142857142857.\n",
      "[I 2024-02-08 15:15:06,023] Trial 6 finished with value: 0.8537142857142858 and parameters: {'n_neighbors': 29}. Best is trial 2 with value: 0.905142857142857.\n",
      "[I 2024-02-08 15:15:06,033] Trial 4 finished with value: 0.8737142857142859 and parameters: {'n_neighbors': 20}. Best is trial 2 with value: 0.905142857142857.\n",
      "[I 2024-02-08 15:15:06,976] Trial 11 finished with value: 0.8257142857142858 and parameters: {'n_neighbors': 47}. Best is trial 2 with value: 0.905142857142857.\n",
      "[I 2024-02-08 15:15:09,030] Trial 12 finished with value: 0.8428571428571427 and parameters: {'n_neighbors': 36}. Best is trial 2 with value: 0.905142857142857.\n",
      "[I 2024-02-08 15:15:11,564] Trial 13 finished with value: 0.8285714285714286 and parameters: {'n_neighbors': 41}. Best is trial 2 with value: 0.905142857142857.\n",
      "[I 2024-02-08 15:15:13,892] Trial 14 finished with value: 0.8571428571428571 and parameters: {'n_neighbors': 26}. Best is trial 2 with value: 0.905142857142857.\n",
      "[I 2024-02-08 15:15:15,899] Trial 15 finished with value: 0.8302857142857143 and parameters: {'n_neighbors': 42}. Best is trial 2 with value: 0.905142857142857.\n",
      "[I 2024-02-08 15:15:17,673] Trial 16 finished with value: 0.8480000000000001 and parameters: {'n_neighbors': 34}. Best is trial 2 with value: 0.905142857142857.\n",
      "[I 2024-02-08 15:15:20,245] Trial 17 finished with value: 0.9028571428571428 and parameters: {'n_neighbors': 7}. Best is trial 2 with value: 0.905142857142857.\n",
      "[I 2024-02-08 15:15:22,128] Trial 18 finished with value: 0.8491428571428571 and parameters: {'n_neighbors': 31}. Best is trial 2 with value: 0.905142857142857.\n",
      "[I 2024-02-08 15:15:23,910] Trial 19 finished with value: 0.8617142857142858 and parameters: {'n_neighbors': 24}. Best is trial 2 with value: 0.905142857142857.\n",
      "[I 2024-02-08 15:15:25,981] Trial 20 finished with value: 0.8822857142857142 and parameters: {'n_neighbors': 16}. Best is trial 2 with value: 0.905142857142857.\n",
      "[I 2024-02-08 15:15:28,234] Trial 21 finished with value: 0.9125714285714286 and parameters: {'n_neighbors': 3}. Best is trial 21 with value: 0.9125714285714286.\n",
      "[I 2024-02-08 15:15:29,890] Trial 22 finished with value: 0.9005714285714287 and parameters: {'n_neighbors': 8}. Best is trial 21 with value: 0.9125714285714286.\n",
      "[I 2024-02-08 15:15:32,166] Trial 23 finished with value: 0.9125714285714286 and parameters: {'n_neighbors': 3}. Best is trial 21 with value: 0.9125714285714286.\n",
      "[I 2024-02-08 15:15:34,185] Trial 24 finished with value: 0.9125714285714286 and parameters: {'n_neighbors': 3}. Best is trial 21 with value: 0.9125714285714286.\n",
      "[I 2024-02-08 15:15:36,369] Trial 25 finished with value: 0.9125714285714286 and parameters: {'n_neighbors': 3}. Best is trial 21 with value: 0.9125714285714286.\n",
      "[I 2024-02-08 15:15:38,409] Trial 26 finished with value: 0.9125714285714286 and parameters: {'n_neighbors': 3}. Best is trial 21 with value: 0.9125714285714286.\n",
      "[I 2024-02-08 15:15:40,066] Trial 27 finished with value: 0.8988571428571429 and parameters: {'n_neighbors': 4}. Best is trial 21 with value: 0.9125714285714286.\n",
      "[I 2024-02-08 15:15:42,497] Trial 28 finished with value: 0.8988571428571429 and parameters: {'n_neighbors': 4}. Best is trial 21 with value: 0.9125714285714286.\n",
      "[I 2024-02-08 15:15:44,866] Trial 29 finished with value: 0.8988571428571429 and parameters: {'n_neighbors': 4}. Best is trial 21 with value: 0.9125714285714286.\n",
      "[I 2024-02-08 15:15:46,825] Trial 30 finished with value: 0.9125714285714286 and parameters: {'n_neighbors': 3}. Best is trial 21 with value: 0.9125714285714286.\n",
      "[I 2024-02-08 15:15:48,729] Trial 31 finished with value: 0.8971428571428571 and parameters: {'n_neighbors': 6}. Best is trial 21 with value: 0.9125714285714286.\n",
      "[I 2024-02-08 15:15:50,957] Trial 32 finished with value: 0.8971428571428571 and parameters: {'n_neighbors': 6}. Best is trial 21 with value: 0.9125714285714286.\n",
      "[I 2024-02-08 15:15:53,245] Trial 33 finished with value: 0.9125714285714286 and parameters: {'n_neighbors': 3}. Best is trial 21 with value: 0.9125714285714286.\n",
      "[I 2024-02-08 15:15:55,352] Trial 34 finished with value: 0.9125714285714286 and parameters: {'n_neighbors': 3}. Best is trial 21 with value: 0.9125714285714286.\n",
      "[I 2024-02-08 15:15:57,109] Trial 35 finished with value: 0.8988571428571429 and parameters: {'n_neighbors': 4}. Best is trial 21 with value: 0.9125714285714286.\n",
      "[I 2024-02-08 15:15:59,489] Trial 36 finished with value: 0.9125714285714286 and parameters: {'n_neighbors': 3}. Best is trial 21 with value: 0.9125714285714286.\n",
      "[I 2024-02-08 15:16:00,888] Trial 37 finished with value: 0.893142857142857 and parameters: {'n_neighbors': 11}. Best is trial 21 with value: 0.9125714285714286.\n",
      "[I 2024-02-08 15:16:03,112] Trial 38 finished with value: 0.8897142857142857 and parameters: {'n_neighbors': 10}. Best is trial 21 with value: 0.9125714285714286.\n",
      "[I 2024-02-08 15:16:05,126] Trial 39 finished with value: 0.8897142857142857 and parameters: {'n_neighbors': 10}. Best is trial 21 with value: 0.9125714285714286.\n",
      "[I 2024-02-08 15:16:07,167] Trial 40 finished with value: 0.8897142857142857 and parameters: {'n_neighbors': 10}. Best is trial 21 with value: 0.9125714285714286.\n",
      "[I 2024-02-08 15:16:09,127] Trial 41 finished with value: 0.893142857142857 and parameters: {'n_neighbors': 11}. Best is trial 21 with value: 0.9125714285714286.\n",
      "[I 2024-02-08 15:16:11,037] Trial 42 finished with value: 0.893142857142857 and parameters: {'n_neighbors': 11}. Best is trial 21 with value: 0.9125714285714286.\n",
      "[I 2024-02-08 15:16:13,354] Trial 43 finished with value: 0.893142857142857 and parameters: {'n_neighbors': 11}. Best is trial 21 with value: 0.9125714285714286.\n",
      "[I 2024-02-08 15:16:15,088] Trial 44 finished with value: 0.8897142857142857 and parameters: {'n_neighbors': 10}. Best is trial 21 with value: 0.9125714285714286.\n",
      "[I 2024-02-08 15:16:17,399] Trial 45 finished with value: 0.8897142857142857 and parameters: {'n_neighbors': 10}. Best is trial 21 with value: 0.9125714285714286.\n",
      "[I 2024-02-08 15:16:19,202] Trial 46 finished with value: 0.893142857142857 and parameters: {'n_neighbors': 11}. Best is trial 21 with value: 0.9125714285714286.\n",
      "[I 2024-02-08 15:16:21,213] Trial 47 finished with value: 0.8897142857142857 and parameters: {'n_neighbors': 10}. Best is trial 21 with value: 0.9125714285714286.\n",
      "[I 2024-02-08 15:16:22,939] Trial 48 finished with value: 0.8879999999999999 and parameters: {'n_neighbors': 12}. Best is trial 21 with value: 0.9125714285714286.\n",
      "[I 2024-02-08 15:16:25,253] Trial 49 finished with value: 0.8897142857142857 and parameters: {'n_neighbors': 10}. Best is trial 21 with value: 0.9125714285714286.\n",
      "[I 2024-02-08 15:16:26,968] Trial 50 finished with value: 0.8862857142857143 and parameters: {'n_neighbors': 14}. Best is trial 21 with value: 0.9125714285714286.\n",
      "[I 2024-02-08 15:16:29,142] Trial 51 finished with value: 0.8754285714285714 and parameters: {'n_neighbors': 19}. Best is trial 21 with value: 0.9125714285714286.\n",
      "[I 2024-02-08 15:16:30,889] Trial 52 finished with value: 0.8862857142857143 and parameters: {'n_neighbors': 14}. Best is trial 21 with value: 0.9125714285714286.\n",
      "[I 2024-02-08 15:16:33,187] Trial 53 finished with value: 0.8862857142857143 and parameters: {'n_neighbors': 14}. Best is trial 21 with value: 0.9125714285714286.\n",
      "[I 2024-02-08 15:16:35,276] Trial 54 finished with value: 0.9005714285714287 and parameters: {'n_neighbors': 8}. Best is trial 21 with value: 0.9125714285714286.\n",
      "[I 2024-02-08 15:16:36,992] Trial 55 finished with value: 0.8805714285714286 and parameters: {'n_neighbors': 15}. Best is trial 21 with value: 0.9125714285714286.\n",
      "[I 2024-02-08 15:16:39,013] Trial 56 finished with value: 0.8862857142857143 and parameters: {'n_neighbors': 14}. Best is trial 21 with value: 0.9125714285714286.\n",
      "[I 2024-02-08 15:16:40,857] Trial 57 finished with value: 0.8862857142857143 and parameters: {'n_neighbors': 14}. Best is trial 21 with value: 0.9125714285714286.\n",
      "[I 2024-02-08 15:16:42,838] Trial 58 finished with value: 0.8805714285714286 and parameters: {'n_neighbors': 15}. Best is trial 21 with value: 0.9125714285714286.\n",
      "[I 2024-02-08 15:16:45,095] Trial 59 finished with value: 0.8805714285714286 and parameters: {'n_neighbors': 15}. Best is trial 21 with value: 0.9125714285714286.\n",
      "[I 2024-02-08 15:16:46,791] Trial 60 finished with value: 0.8805714285714286 and parameters: {'n_neighbors': 15}. Best is trial 21 with value: 0.9125714285714286.\n",
      "[I 2024-02-08 15:16:48,750] Trial 61 finished with value: 0.8862857142857143 and parameters: {'n_neighbors': 14}. Best is trial 21 with value: 0.9125714285714286.\n",
      "[I 2024-02-08 15:16:51,122] Trial 62 finished with value: 0.9028571428571428 and parameters: {'n_neighbors': 7}. Best is trial 21 with value: 0.9125714285714286.\n",
      "[I 2024-02-08 15:16:52,718] Trial 63 finished with value: 0.9005714285714287 and parameters: {'n_neighbors': 8}. Best is trial 21 with value: 0.9125714285714286.\n",
      "[I 2024-02-08 15:16:54,939] Trial 64 finished with value: 0.9028571428571428 and parameters: {'n_neighbors': 7}. Best is trial 21 with value: 0.9125714285714286.\n",
      "[I 2024-02-08 15:16:56,897] Trial 65 finished with value: 0.9028571428571428 and parameters: {'n_neighbors': 7}. Best is trial 21 with value: 0.9125714285714286.\n",
      "[I 2024-02-08 15:16:59,010] Trial 66 finished with value: 0.8971428571428571 and parameters: {'n_neighbors': 6}. Best is trial 21 with value: 0.9125714285714286.\n",
      "[I 2024-02-08 15:17:00,634] Trial 67 finished with value: 0.9028571428571428 and parameters: {'n_neighbors': 7}. Best is trial 21 with value: 0.9125714285714286.\n",
      "[I 2024-02-08 15:17:02,876] Trial 68 finished with value: 0.9028571428571428 and parameters: {'n_neighbors': 7}. Best is trial 21 with value: 0.9125714285714286.\n",
      "[I 2024-02-08 15:17:05,281] Trial 69 finished with value: 0.9028571428571428 and parameters: {'n_neighbors': 7}. Best is trial 21 with value: 0.9125714285714286.\n",
      "[I 2024-02-08 15:17:06,795] Trial 70 finished with value: 0.9028571428571428 and parameters: {'n_neighbors': 7}. Best is trial 21 with value: 0.9125714285714286.\n",
      "[I 2024-02-08 15:17:09,083] Trial 71 finished with value: 0.9028571428571428 and parameters: {'n_neighbors': 7}. Best is trial 21 with value: 0.9125714285714286.\n",
      "[I 2024-02-08 15:17:11,000] Trial 72 finished with value: 0.8971428571428571 and parameters: {'n_neighbors': 6}. Best is trial 21 with value: 0.9125714285714286.\n",
      "[I 2024-02-08 15:17:12,973] Trial 73 finished with value: 0.8971428571428571 and parameters: {'n_neighbors': 6}. Best is trial 21 with value: 0.9125714285714286.\n",
      "[I 2024-02-08 15:17:14,986] Trial 74 finished with value: 0.8971428571428571 and parameters: {'n_neighbors': 6}. Best is trial 21 with value: 0.9125714285714286.\n",
      "[I 2024-02-08 15:17:17,120] Trial 75 finished with value: 0.905142857142857 and parameters: {'n_neighbors': 5}. Best is trial 21 with value: 0.9125714285714286.\n",
      "[I 2024-02-08 15:17:19,014] Trial 76 finished with value: 0.905142857142857 and parameters: {'n_neighbors': 5}. Best is trial 21 with value: 0.9125714285714286.\n",
      "[I 2024-02-08 15:17:20,899] Trial 77 finished with value: 0.905142857142857 and parameters: {'n_neighbors': 5}. Best is trial 21 with value: 0.9125714285714286.\n",
      "[I 2024-02-08 15:17:23,077] Trial 78 finished with value: 0.9125714285714286 and parameters: {'n_neighbors': 3}. Best is trial 21 with value: 0.9125714285714286.\n",
      "[I 2024-02-08 15:17:25,239] Trial 79 finished with value: 0.9125714285714286 and parameters: {'n_neighbors': 3}. Best is trial 21 with value: 0.9125714285714286.\n",
      "[I 2024-02-08 15:17:27,565] Trial 80 finished with value: 0.9125714285714286 and parameters: {'n_neighbors': 3}. Best is trial 21 with value: 0.9125714285714286.\n",
      "[I 2024-02-08 15:17:28,865] Trial 81 finished with value: 0.9125714285714286 and parameters: {'n_neighbors': 3}. Best is trial 21 with value: 0.9125714285714286.\n",
      "[I 2024-02-08 15:17:30,773] Trial 82 finished with value: 0.9125714285714286 and parameters: {'n_neighbors': 3}. Best is trial 21 with value: 0.9125714285714286.\n",
      "[I 2024-02-08 15:17:33,292] Trial 83 finished with value: 0.9125714285714286 and parameters: {'n_neighbors': 3}. Best is trial 21 with value: 0.9125714285714286.\n",
      "[I 2024-02-08 15:17:34,912] Trial 84 finished with value: 0.9125714285714286 and parameters: {'n_neighbors': 3}. Best is trial 21 with value: 0.9125714285714286.\n",
      "[I 2024-02-08 15:17:37,431] Trial 85 finished with value: 0.9125714285714286 and parameters: {'n_neighbors': 3}. Best is trial 21 with value: 0.9125714285714286.\n",
      "[I 2024-02-08 15:17:39,309] Trial 86 finished with value: 0.9125714285714286 and parameters: {'n_neighbors': 3}. Best is trial 21 with value: 0.9125714285714286.\n",
      "[I 2024-02-08 15:17:41,362] Trial 87 finished with value: 0.9125714285714286 and parameters: {'n_neighbors': 3}. Best is trial 21 with value: 0.9125714285714286.\n",
      "[I 2024-02-08 15:17:42,985] Trial 88 finished with value: 0.9125714285714286 and parameters: {'n_neighbors': 3}. Best is trial 21 with value: 0.9125714285714286.\n",
      "[I 2024-02-08 15:17:45,308] Trial 89 finished with value: 0.9125714285714286 and parameters: {'n_neighbors': 3}. Best is trial 21 with value: 0.9125714285714286.\n",
      "[I 2024-02-08 15:17:47,657] Trial 90 finished with value: 0.9125714285714286 and parameters: {'n_neighbors': 3}. Best is trial 21 with value: 0.9125714285714286.\n",
      "[I 2024-02-08 15:17:49,196] Trial 91 finished with value: 0.9125714285714286 and parameters: {'n_neighbors': 3}. Best is trial 21 with value: 0.9125714285714286.\n",
      "[I 2024-02-08 15:17:51,299] Trial 92 finished with value: 0.9125714285714286 and parameters: {'n_neighbors': 3}. Best is trial 21 with value: 0.9125714285714286.\n",
      "[I 2024-02-08 15:17:53,624] Trial 93 finished with value: 0.8988571428571429 and parameters: {'n_neighbors': 4}. Best is trial 21 with value: 0.9125714285714286.\n",
      "[I 2024-02-08 15:17:55,531] Trial 94 finished with value: 0.8988571428571429 and parameters: {'n_neighbors': 4}. Best is trial 21 with value: 0.9125714285714286.\n",
      "[I 2024-02-08 15:17:57,528] Trial 95 finished with value: 0.8680000000000001 and parameters: {'n_neighbors': 22}. Best is trial 21 with value: 0.9125714285714286.\n",
      "[I 2024-02-08 15:17:59,384] Trial 96 finished with value: 0.8988571428571429 and parameters: {'n_neighbors': 4}. Best is trial 21 with value: 0.9125714285714286.\n",
      "[I 2024-02-08 15:18:01,672] Trial 97 finished with value: 0.905142857142857 and parameters: {'n_neighbors': 5}. Best is trial 21 with value: 0.9125714285714286.\n",
      "[I 2024-02-08 15:18:03,437] Trial 98 finished with value: 0.8668571428571429 and parameters: {'n_neighbors': 23}. Best is trial 21 with value: 0.9125714285714286.\n",
      "[I 2024-02-08 15:18:04,554] Trial 99 finished with value: 0.8714285714285716 and parameters: {'n_neighbors': 21}. Best is trial 21 with value: 0.9125714285714286.\n"
     ]
    },
    {
     "name": "stdout",
     "output_type": "stream",
     "text": [
      "FrozenTrial(number=21, state=1, values=[0.9125714285714286], datetime_start=datetime.datetime(2024, 2, 8, 15, 15, 6, 40561), datetime_complete=datetime.datetime(2024, 2, 8, 15, 15, 28, 234207), params={'n_neighbors': 3}, user_attrs={}, system_attrs={}, intermediate_values={}, distributions={'n_neighbors': IntDistribution(high=49, log=False, low=3, step=1)}, trial_id=21, value=None)\n"
     ]
    }
   ],
   "source": [
    "knn_result = optimize_hyperparameters('knn', X_train, y_train, n_trials=100)\n",
    "print(knn_result)"
   ]
  },
  {
   "cell_type": "code",
   "execution_count": 11,
   "metadata": {},
   "outputs": [
    {
     "data": {
      "text/plain": [
       "{'n_neighbors': 3}"
      ]
     },
     "execution_count": 11,
     "metadata": {},
     "output_type": "execute_result"
    }
   ],
   "source": [
    "knn_result.params"
   ]
  },
  {
   "cell_type": "code",
   "execution_count": 12,
   "metadata": {},
   "outputs": [
    {
     "data": {
      "text/plain": [
       "0.9125714285714286"
      ]
     },
     "execution_count": 12,
     "metadata": {},
     "output_type": "execute_result"
    }
   ],
   "source": [
    "knn_result.value"
   ]
  },
  {
   "cell_type": "code",
   "execution_count": 13,
   "metadata": {},
   "outputs": [
    {
     "data": {
      "text/plain": [
       "0.9041095890410958"
      ]
     },
     "execution_count": 13,
     "metadata": {},
     "output_type": "execute_result"
    }
   ],
   "source": [
    "best_knn_model = KNeighborsClassifier(n_jobs=-1, **knn_result.params)\n",
    "best_knn_model.fit(X_train, y_train)\n",
    "best_knn_model.score(X_test, y_test)"
   ]
  },
  {
   "cell_type": "markdown",
   "metadata": {},
   "source": [
    "#### Scaled images"
   ]
  },
  {
   "cell_type": "code",
   "execution_count": 14,
   "metadata": {},
   "outputs": [
    {
     "name": "stderr",
     "output_type": "stream",
     "text": [
      "[I 2024-02-08 15:18:05,390] A new study created in memory with name: no-name-87ce219a-7d2e-4381-8f35-447717d482ad\n",
      "[I 2024-02-08 15:18:06,310] Trial 0 finished with value: 0.8885714285714286 and parameters: {'n_neighbors': 14}. Best is trial 0 with value: 0.8885714285714286.\n",
      "[I 2024-02-08 15:18:06,985] Trial 2 finished with value: 0.8788571428571428 and parameters: {'n_neighbors': 19}. Best is trial 0 with value: 0.8885714285714286.\n",
      "[I 2024-02-08 15:18:07,529] Trial 1 finished with value: 0.8657142857142857 and parameters: {'n_neighbors': 24}. Best is trial 0 with value: 0.8885714285714286.\n",
      "[I 2024-02-08 15:18:07,944] Trial 3 finished with value: 0.8777142857142858 and parameters: {'n_neighbors': 18}. Best is trial 0 with value: 0.8885714285714286.\n",
      "[I 2024-02-08 15:18:08,432] Trial 4 finished with value: 0.8514285714285714 and parameters: {'n_neighbors': 32}. Best is trial 0 with value: 0.8885714285714286.\n",
      "[I 2024-02-08 15:18:08,962] Trial 5 finished with value: 0.8794285714285716 and parameters: {'n_neighbors': 17}. Best is trial 0 with value: 0.8885714285714286.\n",
      "[I 2024-02-08 15:18:09,455] Trial 11 finished with value: 0.8794285714285716 and parameters: {'n_neighbors': 17}. Best is trial 0 with value: 0.8885714285714286.\n",
      "[I 2024-02-08 15:18:09,966] Trial 9 finished with value: 0.9045714285714286 and parameters: {'n_neighbors': 4}. Best is trial 9 with value: 0.9045714285714286.\n",
      "[I 2024-02-08 15:18:10,532] Trial 7 finished with value: 0.8834285714285715 and parameters: {'n_neighbors': 15}. Best is trial 9 with value: 0.9045714285714286.\n",
      "[I 2024-02-08 15:18:11,045] Trial 6 finished with value: 0.8394285714285715 and parameters: {'n_neighbors': 38}. Best is trial 9 with value: 0.9045714285714286.\n",
      "[I 2024-02-08 15:18:11,458] Trial 8 finished with value: 0.8657142857142857 and parameters: {'n_neighbors': 24}. Best is trial 9 with value: 0.9045714285714286.\n",
      "[I 2024-02-08 15:18:12,031] Trial 10 finished with value: 0.8885714285714286 and parameters: {'n_neighbors': 13}. Best is trial 9 with value: 0.9045714285714286.\n",
      "[I 2024-02-08 15:18:12,502] Trial 12 finished with value: 0.836 and parameters: {'n_neighbors': 40}. Best is trial 9 with value: 0.9045714285714286.\n",
      "[I 2024-02-08 15:18:12,937] Trial 13 finished with value: 0.8925714285714286 and parameters: {'n_neighbors': 10}. Best is trial 9 with value: 0.9045714285714286.\n",
      "[I 2024-02-08 15:18:13,448] Trial 14 finished with value: 0.836 and parameters: {'n_neighbors': 40}. Best is trial 9 with value: 0.9045714285714286.\n",
      "[I 2024-02-08 15:18:13,954] Trial 15 finished with value: 0.8394285714285715 and parameters: {'n_neighbors': 38}. Best is trial 9 with value: 0.9045714285714286.\n",
      "[I 2024-02-08 15:18:14,515] Trial 16 finished with value: 0.9074285714285713 and parameters: {'n_neighbors': 5}. Best is trial 16 with value: 0.9074285714285713.\n",
      "[I 2024-02-08 15:18:14,995] Trial 17 finished with value: 0.8394285714285715 and parameters: {'n_neighbors': 38}. Best is trial 16 with value: 0.9074285714285713.\n",
      "[I 2024-02-08 15:18:15,533] Trial 18 finished with value: 0.8834285714285715 and parameters: {'n_neighbors': 16}. Best is trial 16 with value: 0.9074285714285713.\n",
      "[I 2024-02-08 15:18:16,009] Trial 19 finished with value: 0.8428571428571429 and parameters: {'n_neighbors': 36}. Best is trial 16 with value: 0.9074285714285713.\n",
      "[I 2024-02-08 15:18:16,620] Trial 20 finished with value: 0.8394285714285715 and parameters: {'n_neighbors': 38}. Best is trial 16 with value: 0.9074285714285713.\n",
      "[I 2024-02-08 15:18:17,118] Trial 21 finished with value: 0.9045714285714286 and parameters: {'n_neighbors': 4}. Best is trial 16 with value: 0.9074285714285713.\n",
      "[I 2024-02-08 15:18:17,567] Trial 22 finished with value: 0.9154285714285715 and parameters: {'n_neighbors': 3}. Best is trial 22 with value: 0.9154285714285715.\n",
      "[I 2024-02-08 15:18:18,016] Trial 23 finished with value: 0.9154285714285715 and parameters: {'n_neighbors': 3}. Best is trial 22 with value: 0.9154285714285715.\n",
      "[I 2024-02-08 15:18:18,712] Trial 24 finished with value: 0.9154285714285715 and parameters: {'n_neighbors': 3}. Best is trial 22 with value: 0.9154285714285715.\n",
      "[I 2024-02-08 15:18:19,233] Trial 25 finished with value: 0.9074285714285713 and parameters: {'n_neighbors': 5}. Best is trial 22 with value: 0.9154285714285715.\n",
      "[I 2024-02-08 15:18:19,766] Trial 26 finished with value: 0.9074285714285713 and parameters: {'n_neighbors': 5}. Best is trial 22 with value: 0.9154285714285715.\n",
      "[I 2024-02-08 15:18:20,388] Trial 27 finished with value: 0.9154285714285715 and parameters: {'n_neighbors': 3}. Best is trial 22 with value: 0.9154285714285715.\n",
      "[I 2024-02-08 15:18:20,847] Trial 28 finished with value: 0.9154285714285715 and parameters: {'n_neighbors': 3}. Best is trial 22 with value: 0.9154285714285715.\n",
      "[I 2024-02-08 15:18:21,437] Trial 29 finished with value: 0.9045714285714286 and parameters: {'n_neighbors': 4}. Best is trial 22 with value: 0.9154285714285715.\n",
      "[I 2024-02-08 15:18:22,107] Trial 30 finished with value: 0.9154285714285715 and parameters: {'n_neighbors': 3}. Best is trial 22 with value: 0.9154285714285715.\n",
      "[I 2024-02-08 15:18:22,596] Trial 31 finished with value: 0.9154285714285715 and parameters: {'n_neighbors': 3}. Best is trial 22 with value: 0.9154285714285715.\n",
      "[I 2024-02-08 15:18:23,215] Trial 32 finished with value: 0.9154285714285715 and parameters: {'n_neighbors': 3}. Best is trial 22 with value: 0.9154285714285715.\n",
      "[I 2024-02-08 15:18:23,961] Trial 33 finished with value: 0.9045714285714286 and parameters: {'n_neighbors': 4}. Best is trial 22 with value: 0.9154285714285715.\n",
      "[I 2024-02-08 15:18:24,371] Trial 34 finished with value: 0.9154285714285715 and parameters: {'n_neighbors': 3}. Best is trial 22 with value: 0.9154285714285715.\n",
      "[I 2024-02-08 15:18:25,024] Trial 35 finished with value: 0.8262857142857143 and parameters: {'n_neighbors': 48}. Best is trial 22 with value: 0.9154285714285715.\n",
      "[I 2024-02-08 15:18:25,499] Trial 36 finished with value: 0.9017142857142856 and parameters: {'n_neighbors': 9}. Best is trial 22 with value: 0.9154285714285715.\n",
      "[I 2024-02-08 15:18:26,081] Trial 37 finished with value: 0.8240000000000001 and parameters: {'n_neighbors': 49}. Best is trial 22 with value: 0.9154285714285715.\n",
      "[I 2024-02-08 15:18:26,629] Trial 38 finished with value: 0.9017142857142856 and parameters: {'n_neighbors': 9}. Best is trial 22 with value: 0.9154285714285715.\n",
      "[I 2024-02-08 15:18:27,107] Trial 39 finished with value: 0.9017142857142856 and parameters: {'n_neighbors': 9}. Best is trial 22 with value: 0.9154285714285715.\n",
      "[I 2024-02-08 15:18:27,604] Trial 40 finished with value: 0.9017142857142856 and parameters: {'n_neighbors': 9}. Best is trial 22 with value: 0.9154285714285715.\n",
      "[I 2024-02-08 15:18:28,147] Trial 41 finished with value: 0.8280000000000001 and parameters: {'n_neighbors': 47}. Best is trial 22 with value: 0.9154285714285715.\n",
      "[I 2024-02-08 15:18:28,811] Trial 42 finished with value: 0.8262857142857143 and parameters: {'n_neighbors': 48}. Best is trial 22 with value: 0.9154285714285715.\n",
      "[I 2024-02-08 15:18:29,329] Trial 43 finished with value: 0.8262857142857143 and parameters: {'n_neighbors': 48}. Best is trial 22 with value: 0.9154285714285715.\n",
      "[I 2024-02-08 15:18:29,794] Trial 44 finished with value: 0.8262857142857143 and parameters: {'n_neighbors': 48}. Best is trial 22 with value: 0.9154285714285715.\n",
      "[I 2024-02-08 15:18:30,389] Trial 45 finished with value: 0.9017142857142856 and parameters: {'n_neighbors': 9}. Best is trial 22 with value: 0.9154285714285715.\n",
      "[I 2024-02-08 15:18:30,884] Trial 46 finished with value: 0.8925714285714286 and parameters: {'n_neighbors': 10}. Best is trial 22 with value: 0.9154285714285715.\n",
      "[I 2024-02-08 15:18:31,497] Trial 47 finished with value: 0.8925714285714286 and parameters: {'n_neighbors': 10}. Best is trial 22 with value: 0.9154285714285715.\n",
      "[I 2024-02-08 15:18:32,060] Trial 48 finished with value: 0.9017142857142856 and parameters: {'n_neighbors': 9}. Best is trial 22 with value: 0.9154285714285715.\n",
      "[I 2024-02-08 15:18:32,405] Trial 49 finished with value: 0.9017142857142856 and parameters: {'n_neighbors': 9}. Best is trial 22 with value: 0.9154285714285715.\n",
      "[I 2024-02-08 15:18:32,993] Trial 50 finished with value: 0.8885714285714286 and parameters: {'n_neighbors': 12}. Best is trial 22 with value: 0.9154285714285715.\n",
      "[I 2024-02-08 15:18:33,789] Trial 51 finished with value: 0.8737142857142859 and parameters: {'n_neighbors': 21}. Best is trial 22 with value: 0.9154285714285715.\n",
      "[I 2024-02-08 15:18:34,220] Trial 52 finished with value: 0.8885714285714286 and parameters: {'n_neighbors': 12}. Best is trial 22 with value: 0.9154285714285715.\n",
      "[I 2024-02-08 15:18:34,733] Trial 53 finished with value: 0.8885714285714286 and parameters: {'n_neighbors': 12}. Best is trial 22 with value: 0.9154285714285715.\n",
      "[I 2024-02-08 15:18:35,253] Trial 54 finished with value: 0.8885714285714286 and parameters: {'n_neighbors': 12}. Best is trial 22 with value: 0.9154285714285715.\n",
      "[I 2024-02-08 15:18:35,739] Trial 55 finished with value: 0.8885714285714286 and parameters: {'n_neighbors': 12}. Best is trial 22 with value: 0.9154285714285715.\n",
      "[I 2024-02-08 15:18:36,337] Trial 56 finished with value: 0.8885714285714286 and parameters: {'n_neighbors': 12}. Best is trial 22 with value: 0.9154285714285715.\n",
      "[I 2024-02-08 15:18:36,758] Trial 57 finished with value: 0.8885714285714286 and parameters: {'n_neighbors': 12}. Best is trial 22 with value: 0.9154285714285715.\n",
      "[I 2024-02-08 15:18:37,318] Trial 58 finished with value: 0.8737142857142859 and parameters: {'n_neighbors': 21}. Best is trial 22 with value: 0.9154285714285715.\n",
      "[I 2024-02-08 15:18:37,869] Trial 59 finished with value: 0.8742857142857143 and parameters: {'n_neighbors': 20}. Best is trial 22 with value: 0.9154285714285715.\n",
      "[I 2024-02-08 15:18:38,429] Trial 60 finished with value: 0.8737142857142859 and parameters: {'n_neighbors': 21}. Best is trial 22 with value: 0.9154285714285715.\n",
      "[I 2024-02-08 15:18:38,977] Trial 61 finished with value: 0.9051428571428571 and parameters: {'n_neighbors': 7}. Best is trial 22 with value: 0.9154285714285715.\n",
      "[I 2024-02-08 15:18:39,547] Trial 62 finished with value: 0.8742857142857143 and parameters: {'n_neighbors': 20}. Best is trial 22 with value: 0.9154285714285715.\n",
      "[I 2024-02-08 15:18:40,004] Trial 63 finished with value: 0.9051428571428571 and parameters: {'n_neighbors': 7}. Best is trial 22 with value: 0.9154285714285715.\n",
      "[I 2024-02-08 15:18:40,584] Trial 64 finished with value: 0.9051428571428571 and parameters: {'n_neighbors': 7}. Best is trial 22 with value: 0.9154285714285715.\n",
      "[I 2024-02-08 15:18:40,959] Trial 65 finished with value: 0.9051428571428571 and parameters: {'n_neighbors': 7}. Best is trial 22 with value: 0.9154285714285715.\n",
      "[I 2024-02-08 15:18:41,473] Trial 66 finished with value: 0.9051428571428571 and parameters: {'n_neighbors': 7}. Best is trial 22 with value: 0.9154285714285715.\n",
      "[I 2024-02-08 15:18:42,012] Trial 67 finished with value: 0.9051428571428571 and parameters: {'n_neighbors': 7}. Best is trial 22 with value: 0.9154285714285715.\n",
      "[I 2024-02-08 15:18:42,485] Trial 68 finished with value: 0.9051428571428571 and parameters: {'n_neighbors': 7}. Best is trial 22 with value: 0.9154285714285715.\n",
      "[I 2024-02-08 15:18:43,051] Trial 69 finished with value: 0.9051428571428571 and parameters: {'n_neighbors': 7}. Best is trial 22 with value: 0.9154285714285715.\n",
      "[I 2024-02-08 15:18:43,602] Trial 70 finished with value: 0.9051428571428571 and parameters: {'n_neighbors': 7}. Best is trial 22 with value: 0.9154285714285715.\n",
      "[I 2024-02-08 15:18:44,149] Trial 71 finished with value: 0.9051428571428571 and parameters: {'n_neighbors': 7}. Best is trial 22 with value: 0.9154285714285715.\n",
      "[I 2024-02-08 15:18:44,656] Trial 72 finished with value: 0.9051428571428571 and parameters: {'n_neighbors': 7}. Best is trial 22 with value: 0.9154285714285715.\n",
      "[I 2024-02-08 15:18:45,068] Trial 73 finished with value: 0.9051428571428571 and parameters: {'n_neighbors': 7}. Best is trial 22 with value: 0.9154285714285715.\n",
      "[I 2024-02-08 15:18:45,653] Trial 74 finished with value: 0.9051428571428571 and parameters: {'n_neighbors': 7}. Best is trial 22 with value: 0.9154285714285715.\n",
      "[I 2024-02-08 15:18:46,174] Trial 75 finished with value: 0.9034285714285714 and parameters: {'n_neighbors': 6}. Best is trial 22 with value: 0.9154285714285715.\n",
      "[I 2024-02-08 15:18:46,802] Trial 76 finished with value: 0.9034285714285714 and parameters: {'n_neighbors': 6}. Best is trial 22 with value: 0.9154285714285715.\n",
      "[I 2024-02-08 15:18:47,398] Trial 77 finished with value: 0.9034285714285714 and parameters: {'n_neighbors': 6}. Best is trial 22 with value: 0.9154285714285715.\n",
      "[I 2024-02-08 15:18:47,871] Trial 78 finished with value: 0.8588571428571429 and parameters: {'n_neighbors': 27}. Best is trial 22 with value: 0.9154285714285715.\n",
      "[I 2024-02-08 15:18:48,287] Trial 79 finished with value: 0.8560000000000001 and parameters: {'n_neighbors': 29}. Best is trial 22 with value: 0.9154285714285715.\n",
      "[I 2024-02-08 15:18:48,867] Trial 80 finished with value: 0.9154285714285715 and parameters: {'n_neighbors': 3}. Best is trial 22 with value: 0.9154285714285715.\n",
      "[I 2024-02-08 15:18:49,556] Trial 81 finished with value: 0.8554285714285713 and parameters: {'n_neighbors': 30}. Best is trial 22 with value: 0.9154285714285715.\n",
      "[I 2024-02-08 15:18:50,035] Trial 82 finished with value: 0.9154285714285715 and parameters: {'n_neighbors': 3}. Best is trial 22 with value: 0.9154285714285715.\n",
      "[I 2024-02-08 15:18:50,473] Trial 83 finished with value: 0.9154285714285715 and parameters: {'n_neighbors': 3}. Best is trial 22 with value: 0.9154285714285715.\n",
      "[I 2024-02-08 15:18:51,102] Trial 84 finished with value: 0.9154285714285715 and parameters: {'n_neighbors': 3}. Best is trial 22 with value: 0.9154285714285715.\n",
      "[I 2024-02-08 15:18:51,633] Trial 85 finished with value: 0.9154285714285715 and parameters: {'n_neighbors': 3}. Best is trial 22 with value: 0.9154285714285715.\n",
      "[I 2024-02-08 15:18:52,021] Trial 86 finished with value: 0.9154285714285715 and parameters: {'n_neighbors': 3}. Best is trial 22 with value: 0.9154285714285715.\n",
      "[I 2024-02-08 15:18:52,572] Trial 87 finished with value: 0.9154285714285715 and parameters: {'n_neighbors': 3}. Best is trial 22 with value: 0.9154285714285715.\n",
      "[I 2024-02-08 15:18:53,122] Trial 88 finished with value: 0.9154285714285715 and parameters: {'n_neighbors': 3}. Best is trial 22 with value: 0.9154285714285715.\n",
      "[I 2024-02-08 15:18:53,613] Trial 89 finished with value: 0.9154285714285715 and parameters: {'n_neighbors': 3}. Best is trial 22 with value: 0.9154285714285715.\n",
      "[I 2024-02-08 15:18:54,122] Trial 90 finished with value: 0.9154285714285715 and parameters: {'n_neighbors': 3}. Best is trial 22 with value: 0.9154285714285715.\n",
      "[I 2024-02-08 15:18:54,740] Trial 91 finished with value: 0.9154285714285715 and parameters: {'n_neighbors': 3}. Best is trial 22 with value: 0.9154285714285715.\n",
      "[I 2024-02-08 15:18:55,131] Trial 92 finished with value: 0.9154285714285715 and parameters: {'n_neighbors': 3}. Best is trial 22 with value: 0.9154285714285715.\n",
      "[I 2024-02-08 15:18:55,717] Trial 93 finished with value: 0.9154285714285715 and parameters: {'n_neighbors': 3}. Best is trial 22 with value: 0.9154285714285715.\n",
      "[I 2024-02-08 15:18:56,392] Trial 94 finished with value: 0.9154285714285715 and parameters: {'n_neighbors': 3}. Best is trial 22 with value: 0.9154285714285715.\n",
      "[I 2024-02-08 15:18:56,943] Trial 95 finished with value: 0.9074285714285713 and parameters: {'n_neighbors': 5}. Best is trial 22 with value: 0.9154285714285715.\n",
      "[I 2024-02-08 15:18:57,573] Trial 96 finished with value: 0.9074285714285713 and parameters: {'n_neighbors': 5}. Best is trial 22 with value: 0.9154285714285715.\n",
      "[I 2024-02-08 15:18:58,150] Trial 97 finished with value: 0.9074285714285713 and parameters: {'n_neighbors': 5}. Best is trial 22 with value: 0.9154285714285715.\n",
      "[I 2024-02-08 15:18:58,487] Trial 98 finished with value: 0.9074285714285713 and parameters: {'n_neighbors': 5}. Best is trial 22 with value: 0.9154285714285715.\n",
      "[I 2024-02-08 15:18:58,869] Trial 99 finished with value: 0.9074285714285713 and parameters: {'n_neighbors': 5}. Best is trial 22 with value: 0.9154285714285715.\n"
     ]
    },
    {
     "name": "stdout",
     "output_type": "stream",
     "text": [
      "FrozenTrial(number=22, state=1, values=[0.9154285714285715], datetime_start=datetime.datetime(2024, 2, 8, 15, 18, 11, 464627), datetime_complete=datetime.datetime(2024, 2, 8, 15, 18, 17, 566998), params={'n_neighbors': 3}, user_attrs={}, system_attrs={}, intermediate_values={}, distributions={'n_neighbors': IntDistribution(high=49, log=False, low=3, step=1)}, trial_id=22, value=None)\n"
     ]
    }
   ],
   "source": [
    "knn_scaled_result = optimize_hyperparameters('knn', X_scaled_train, y_train, n_trials=100)\n",
    "print(knn_scaled_result)"
   ]
  },
  {
   "cell_type": "code",
   "execution_count": 15,
   "metadata": {},
   "outputs": [
    {
     "data": {
      "text/plain": [
       "{'n_neighbors': 3}"
      ]
     },
     "execution_count": 15,
     "metadata": {},
     "output_type": "execute_result"
    }
   ],
   "source": [
    "knn_scaled_result.params"
   ]
  },
  {
   "cell_type": "code",
   "execution_count": 16,
   "metadata": {},
   "outputs": [
    {
     "data": {
      "text/plain": [
       "0.9154285714285715"
      ]
     },
     "execution_count": 16,
     "metadata": {},
     "output_type": "execute_result"
    }
   ],
   "source": [
    "knn_scaled_result.value"
   ]
  },
  {
   "cell_type": "code",
   "execution_count": 17,
   "metadata": {},
   "outputs": [
    {
     "data": {
      "text/plain": [
       "0.906392694063927"
      ]
     },
     "execution_count": 17,
     "metadata": {},
     "output_type": "execute_result"
    }
   ],
   "source": [
    "best_knn_model_scaled = KNeighborsClassifier(n_jobs=-1, **knn_scaled_result.params)\n",
    "best_knn_model_scaled.fit(X_scaled_train, y_train)\n",
    "best_knn_model_scaled.score(X_scaled_test, y_test)"
   ]
  },
  {
   "cell_type": "markdown",
   "metadata": {},
   "source": [
    "#### PCA"
   ]
  },
  {
   "cell_type": "code",
   "execution_count": 18,
   "metadata": {},
   "outputs": [
    {
     "name": "stderr",
     "output_type": "stream",
     "text": [
      "[I 2024-02-08 15:18:59,209] A new study created in memory with name: no-name-06bc29f9-fe7d-4b75-9db3-71bfd9233fd1\n",
      "[I 2024-02-08 15:18:59,369] Trial 4 finished with value: 0.8411428571428573 and parameters: {'n_neighbors': 38}. Best is trial 4 with value: 0.8411428571428573.\n",
      "[I 2024-02-08 15:18:59,372] Trial 8 finished with value: 0.8588571428571429 and parameters: {'n_neighbors': 29}. Best is trial 8 with value: 0.8588571428571429.\n",
      "[I 2024-02-08 15:18:59,378] Trial 9 finished with value: 0.8651428571428571 and parameters: {'n_neighbors': 24}. Best is trial 9 with value: 0.8651428571428571.\n",
      "[I 2024-02-08 15:18:59,392] Trial 5 finished with value: 0.8314285714285715 and parameters: {'n_neighbors': 42}. Best is trial 9 with value: 0.8651428571428571.\n",
      "[I 2024-02-08 15:18:59,405] Trial 1 finished with value: 0.9040000000000001 and parameters: {'n_neighbors': 9}. Best is trial 1 with value: 0.9040000000000001.\n",
      "[I 2024-02-08 15:18:59,423] Trial 3 finished with value: 0.9062857142857143 and parameters: {'n_neighbors': 6}. Best is trial 3 with value: 0.9062857142857143.\n",
      "[I 2024-02-08 15:18:59,431] Trial 6 finished with value: 0.8885714285714286 and parameters: {'n_neighbors': 15}. Best is trial 3 with value: 0.9062857142857143.\n",
      "[I 2024-02-08 15:18:59,437] Trial 11 finished with value: 0.8634285714285713 and parameters: {'n_neighbors': 26}. Best is trial 3 with value: 0.9062857142857143.\n",
      "[I 2024-02-08 15:18:59,440] Trial 0 finished with value: 0.9102857142857144 and parameters: {'n_neighbors': 5}. Best is trial 0 with value: 0.9102857142857144.\n",
      "[I 2024-02-08 15:18:59,452] Trial 2 finished with value: 0.8777142857142858 and parameters: {'n_neighbors': 18}. Best is trial 0 with value: 0.9102857142857144.\n",
      "[I 2024-02-08 15:18:59,453] Trial 10 finished with value: 0.8428571428571429 and parameters: {'n_neighbors': 37}. Best is trial 0 with value: 0.9102857142857144.\n",
      "[I 2024-02-08 15:18:59,471] Trial 13 finished with value: 0.828 and parameters: {'n_neighbors': 49}. Best is trial 0 with value: 0.9102857142857144.\n",
      "[I 2024-02-08 15:18:59,509] Trial 7 finished with value: 0.8537142857142858 and parameters: {'n_neighbors': 30}. Best is trial 0 with value: 0.9102857142857144.\n",
      "[I 2024-02-08 15:18:59,542] Trial 16 finished with value: 0.8474285714285713 and parameters: {'n_neighbors': 32}. Best is trial 0 with value: 0.9102857142857144.\n",
      "[I 2024-02-08 15:18:59,553] Trial 17 finished with value: 0.8605714285714287 and parameters: {'n_neighbors': 27}. Best is trial 0 with value: 0.9102857142857144.\n",
      "[I 2024-02-08 15:18:59,600] Trial 12 finished with value: 0.8605714285714285 and parameters: {'n_neighbors': 28}. Best is trial 0 with value: 0.9102857142857144.\n",
      "[I 2024-02-08 15:18:59,616] Trial 14 finished with value: 0.8314285714285715 and parameters: {'n_neighbors': 42}. Best is trial 0 with value: 0.9102857142857144.\n",
      "[I 2024-02-08 15:18:59,635] Trial 15 finished with value: 0.8845714285714286 and parameters: {'n_neighbors': 16}. Best is trial 0 with value: 0.9102857142857144.\n",
      "[I 2024-02-08 15:18:59,674] Trial 18 finished with value: 0.8799999999999999 and parameters: {'n_neighbors': 19}. Best is trial 0 with value: 0.9102857142857144.\n",
      "[I 2024-02-08 15:18:59,686] Trial 25 finished with value: 0.9102857142857144 and parameters: {'n_neighbors': 5}. Best is trial 0 with value: 0.9102857142857144.\n",
      "[I 2024-02-08 15:18:59,696] Trial 19 finished with value: 0.8314285714285715 and parameters: {'n_neighbors': 43}. Best is trial 0 with value: 0.9102857142857144.\n",
      "[I 2024-02-08 15:18:59,705] Trial 26 finished with value: 0.909142857142857 and parameters: {'n_neighbors': 4}. Best is trial 0 with value: 0.9102857142857144.\n",
      "[I 2024-02-08 15:18:59,705] Trial 20 finished with value: 0.9051428571428571 and parameters: {'n_neighbors': 7}. Best is trial 0 with value: 0.9102857142857144.\n",
      "[I 2024-02-08 15:18:59,722] Trial 27 finished with value: 0.9194285714285714 and parameters: {'n_neighbors': 3}. Best is trial 27 with value: 0.9194285714285714.\n",
      "[I 2024-02-08 15:18:59,729] Trial 21 finished with value: 0.9194285714285714 and parameters: {'n_neighbors': 3}. Best is trial 27 with value: 0.9194285714285714.\n",
      "[I 2024-02-08 15:18:59,739] Trial 22 finished with value: 0.9194285714285714 and parameters: {'n_neighbors': 3}. Best is trial 27 with value: 0.9194285714285714.\n",
      "[I 2024-02-08 15:18:59,757] Trial 23 finished with value: 0.9194285714285714 and parameters: {'n_neighbors': 3}. Best is trial 27 with value: 0.9194285714285714.\n",
      "[I 2024-02-08 15:18:59,758] Trial 28 finished with value: 0.909142857142857 and parameters: {'n_neighbors': 4}. Best is trial 27 with value: 0.9194285714285714.\n",
      "[I 2024-02-08 15:18:59,778] Trial 24 finished with value: 0.9194285714285714 and parameters: {'n_neighbors': 3}. Best is trial 27 with value: 0.9194285714285714.\n",
      "[I 2024-02-08 15:18:59,784] Trial 29 finished with value: 0.9102857142857144 and parameters: {'n_neighbors': 5}. Best is trial 27 with value: 0.9194285714285714.\n",
      "[I 2024-02-08 15:18:59,809] Trial 30 finished with value: 0.9194285714285714 and parameters: {'n_neighbors': 3}. Best is trial 27 with value: 0.9194285714285714.\n",
      "[I 2024-02-08 15:18:59,941] Trial 31 finished with value: 0.9194285714285714 and parameters: {'n_neighbors': 3}. Best is trial 27 with value: 0.9194285714285714.\n",
      "[I 2024-02-08 15:18:59,956] Trial 40 finished with value: 0.8982857142857144 and parameters: {'n_neighbors': 11}. Best is trial 27 with value: 0.9194285714285714.\n",
      "[I 2024-02-08 15:18:59,965] Trial 32 finished with value: 0.9194285714285714 and parameters: {'n_neighbors': 3}. Best is trial 27 with value: 0.9194285714285714.\n",
      "[I 2024-02-08 15:18:59,972] Trial 33 finished with value: 0.9194285714285714 and parameters: {'n_neighbors': 3}. Best is trial 27 with value: 0.9194285714285714.\n",
      "[I 2024-02-08 15:18:59,974] Trial 41 finished with value: 0.892 and parameters: {'n_neighbors': 13}. Best is trial 27 with value: 0.9194285714285714.\n",
      "[I 2024-02-08 15:18:59,990] Trial 34 finished with value: 0.8982857142857144 and parameters: {'n_neighbors': 11}. Best is trial 27 with value: 0.9194285714285714.\n",
      "[I 2024-02-08 15:19:00,001] Trial 35 finished with value: 0.8982857142857144 and parameters: {'n_neighbors': 11}. Best is trial 27 with value: 0.9194285714285714.\n",
      "[I 2024-02-08 15:19:00,004] Trial 42 finished with value: 0.8982857142857144 and parameters: {'n_neighbors': 10}. Best is trial 27 with value: 0.9194285714285714.\n",
      "[I 2024-02-08 15:19:00,008] Trial 36 finished with value: 0.892 and parameters: {'n_neighbors': 12}. Best is trial 27 with value: 0.9194285714285714.\n",
      "[I 2024-02-08 15:19:00,027] Trial 37 finished with value: 0.8982857142857144 and parameters: {'n_neighbors': 11}. Best is trial 27 with value: 0.9194285714285714.\n",
      "[I 2024-02-08 15:19:00,039] Trial 38 finished with value: 0.8982857142857144 and parameters: {'n_neighbors': 11}. Best is trial 27 with value: 0.9194285714285714.\n",
      "[I 2024-02-08 15:19:00,043] Trial 43 finished with value: 0.8982857142857144 and parameters: {'n_neighbors': 10}. Best is trial 27 with value: 0.9194285714285714.\n",
      "[I 2024-02-08 15:19:00,046] Trial 39 finished with value: 0.8982857142857144 and parameters: {'n_neighbors': 11}. Best is trial 27 with value: 0.9194285714285714.\n",
      "[I 2024-02-08 15:19:00,085] Trial 45 finished with value: 0.9040000000000001 and parameters: {'n_neighbors': 9}. Best is trial 27 with value: 0.9194285714285714.\n",
      "[I 2024-02-08 15:19:00,205] Trial 44 finished with value: 0.8982857142857144 and parameters: {'n_neighbors': 11}. Best is trial 27 with value: 0.9194285714285714.\n",
      "[I 2024-02-08 15:19:00,217] Trial 46 finished with value: 0.9040000000000001 and parameters: {'n_neighbors': 9}. Best is trial 27 with value: 0.9194285714285714.\n",
      "[I 2024-02-08 15:19:00,226] Trial 54 finished with value: 0.9051428571428571 and parameters: {'n_neighbors': 7}. Best is trial 27 with value: 0.9194285714285714.\n",
      "[I 2024-02-08 15:19:00,233] Trial 48 finished with value: 0.9040000000000001 and parameters: {'n_neighbors': 8}. Best is trial 27 with value: 0.9194285714285714.\n",
      "[I 2024-02-08 15:19:00,243] Trial 47 finished with value: 0.9040000000000001 and parameters: {'n_neighbors': 9}. Best is trial 27 with value: 0.9194285714285714.\n",
      "[I 2024-02-08 15:19:00,244] Trial 53 finished with value: 0.9051428571428571 and parameters: {'n_neighbors': 7}. Best is trial 27 with value: 0.9194285714285714.\n",
      "[I 2024-02-08 15:19:00,259] Trial 49 finished with value: 0.9040000000000001 and parameters: {'n_neighbors': 8}. Best is trial 27 with value: 0.9194285714285714.\n",
      "[I 2024-02-08 15:19:00,261] Trial 56 finished with value: 0.9040000000000001 and parameters: {'n_neighbors': 8}. Best is trial 27 with value: 0.9194285714285714.\n",
      "[I 2024-02-08 15:19:00,281] Trial 51 finished with value: 0.9040000000000001 and parameters: {'n_neighbors': 8}. Best is trial 27 with value: 0.9194285714285714.\n",
      "[I 2024-02-08 15:19:00,296] Trial 50 finished with value: 0.9040000000000001 and parameters: {'n_neighbors': 8}. Best is trial 27 with value: 0.9194285714285714.\n",
      "[I 2024-02-08 15:19:00,305] Trial 52 finished with value: 0.9051428571428571 and parameters: {'n_neighbors': 7}. Best is trial 27 with value: 0.9194285714285714.\n",
      "[I 2024-02-08 15:19:00,313] Trial 57 finished with value: 0.9051428571428571 and parameters: {'n_neighbors': 7}. Best is trial 27 with value: 0.9194285714285714.\n",
      "[I 2024-02-08 15:19:00,319] Trial 55 finished with value: 0.9051428571428571 and parameters: {'n_neighbors': 7}. Best is trial 27 with value: 0.9194285714285714.\n",
      "[I 2024-02-08 15:19:00,334] Trial 58 finished with value: 0.9051428571428571 and parameters: {'n_neighbors': 7}. Best is trial 27 with value: 0.9194285714285714.\n",
      "[I 2024-02-08 15:19:00,358] Trial 59 finished with value: 0.9051428571428571 and parameters: {'n_neighbors': 7}. Best is trial 27 with value: 0.9194285714285714.\n",
      "[I 2024-02-08 15:19:00,379] Trial 60 finished with value: 0.8765714285714286 and parameters: {'n_neighbors': 20}. Best is trial 27 with value: 0.9194285714285714.\n",
      "[I 2024-02-08 15:19:00,400] Trial 61 finished with value: 0.9062857142857143 and parameters: {'n_neighbors': 6}. Best is trial 27 with value: 0.9194285714285714.\n",
      "[I 2024-02-08 15:19:00,414] Trial 62 finished with value: 0.9062857142857143 and parameters: {'n_neighbors': 6}. Best is trial 27 with value: 0.9194285714285714.\n",
      "[I 2024-02-08 15:19:00,424] Trial 63 finished with value: 0.9062857142857143 and parameters: {'n_neighbors': 6}. Best is trial 27 with value: 0.9194285714285714.\n",
      "[I 2024-02-08 15:19:00,453] Trial 64 finished with value: 0.9062857142857143 and parameters: {'n_neighbors': 6}. Best is trial 27 with value: 0.9194285714285714.\n",
      "[I 2024-02-08 15:19:00,467] Trial 65 finished with value: 0.876 and parameters: {'n_neighbors': 21}. Best is trial 27 with value: 0.9194285714285714.\n",
      "[I 2024-02-08 15:19:00,491] Trial 66 finished with value: 0.9102857142857144 and parameters: {'n_neighbors': 5}. Best is trial 27 with value: 0.9194285714285714.\n",
      "[I 2024-02-08 15:19:00,522] Trial 67 finished with value: 0.9102857142857144 and parameters: {'n_neighbors': 5}. Best is trial 27 with value: 0.9194285714285714.\n",
      "[I 2024-02-08 15:19:00,536] Trial 69 finished with value: 0.8697142857142858 and parameters: {'n_neighbors': 22}. Best is trial 27 with value: 0.9194285714285714.\n",
      "[I 2024-02-08 15:19:00,547] Trial 70 finished with value: 0.9102857142857144 and parameters: {'n_neighbors': 5}. Best is trial 27 with value: 0.9194285714285714.\n",
      "[I 2024-02-08 15:19:00,568] Trial 71 finished with value: 0.876 and parameters: {'n_neighbors': 21}. Best is trial 27 with value: 0.9194285714285714.\n",
      "[I 2024-02-08 15:19:00,579] Trial 72 finished with value: 0.9102857142857144 and parameters: {'n_neighbors': 5}. Best is trial 27 with value: 0.9194285714285714.\n",
      "[I 2024-02-08 15:19:00,599] Trial 73 finished with value: 0.9194285714285714 and parameters: {'n_neighbors': 3}. Best is trial 27 with value: 0.9194285714285714.\n",
      "[I 2024-02-08 15:19:00,611] Trial 74 finished with value: 0.9194285714285714 and parameters: {'n_neighbors': 3}. Best is trial 27 with value: 0.9194285714285714.\n",
      "[I 2024-02-08 15:19:00,619] Trial 68 finished with value: 0.8697142857142858 and parameters: {'n_neighbors': 22}. Best is trial 27 with value: 0.9194285714285714.\n",
      "[I 2024-02-08 15:19:00,636] Trial 75 finished with value: 0.9194285714285714 and parameters: {'n_neighbors': 3}. Best is trial 27 with value: 0.9194285714285714.\n",
      "[I 2024-02-08 15:19:00,714] Trial 80 finished with value: 0.9194285714285714 and parameters: {'n_neighbors': 3}. Best is trial 27 with value: 0.9194285714285714.\n",
      "[I 2024-02-08 15:19:00,718] Trial 81 finished with value: 0.9194285714285714 and parameters: {'n_neighbors': 3}. Best is trial 27 with value: 0.9194285714285714.\n",
      "[I 2024-02-08 15:19:00,760] Trial 76 finished with value: 0.9194285714285714 and parameters: {'n_neighbors': 3}. Best is trial 27 with value: 0.9194285714285714.\n",
      "[I 2024-02-08 15:19:00,774] Trial 84 finished with value: 0.9194285714285714 and parameters: {'n_neighbors': 3}. Best is trial 27 with value: 0.9194285714285714.\n",
      "[I 2024-02-08 15:19:00,783] Trial 77 finished with value: 0.9194285714285714 and parameters: {'n_neighbors': 3}. Best is trial 27 with value: 0.9194285714285714.\n",
      "[I 2024-02-08 15:19:00,794] Trial 78 finished with value: 0.9194285714285714 and parameters: {'n_neighbors': 3}. Best is trial 27 with value: 0.9194285714285714.\n",
      "[I 2024-02-08 15:19:00,801] Trial 79 finished with value: 0.9194285714285714 and parameters: {'n_neighbors': 3}. Best is trial 27 with value: 0.9194285714285714.\n",
      "[I 2024-02-08 15:19:00,804] Trial 86 finished with value: 0.9194285714285714 and parameters: {'n_neighbors': 3}. Best is trial 27 with value: 0.9194285714285714.\n",
      "[I 2024-02-08 15:19:00,838] Trial 87 finished with value: 0.8845714285714286 and parameters: {'n_neighbors': 16}. Best is trial 27 with value: 0.9194285714285714.\n",
      "[I 2024-02-08 15:19:00,847] Trial 82 finished with value: 0.9194285714285714 and parameters: {'n_neighbors': 3}. Best is trial 27 with value: 0.9194285714285714.\n",
      "[I 2024-02-08 15:19:00,859] Trial 83 finished with value: 0.9194285714285714 and parameters: {'n_neighbors': 3}. Best is trial 27 with value: 0.9194285714285714.\n",
      "[I 2024-02-08 15:19:00,884] Trial 85 finished with value: 0.9194285714285714 and parameters: {'n_neighbors': 3}. Best is trial 27 with value: 0.9194285714285714.\n",
      "[I 2024-02-08 15:19:00,889] Trial 88 finished with value: 0.8845714285714286 and parameters: {'n_neighbors': 16}. Best is trial 27 with value: 0.9194285714285714.\n",
      "[I 2024-02-08 15:19:00,919] Trial 93 finished with value: 0.8874285714285716 and parameters: {'n_neighbors': 14}. Best is trial 27 with value: 0.9194285714285714.\n",
      "[I 2024-02-08 15:19:00,967] Trial 89 finished with value: 0.8874285714285716 and parameters: {'n_neighbors': 14}. Best is trial 27 with value: 0.9194285714285714.\n",
      "[I 2024-02-08 15:19:01,002] Trial 90 finished with value: 0.8885714285714286 and parameters: {'n_neighbors': 15}. Best is trial 27 with value: 0.9194285714285714.\n",
      "[I 2024-02-08 15:19:01,043] Trial 91 finished with value: 0.8434285714285714 and parameters: {'n_neighbors': 35}. Best is trial 27 with value: 0.9194285714285714.\n",
      "[I 2024-02-08 15:19:01,080] Trial 95 finished with value: 0.8845714285714286 and parameters: {'n_neighbors': 16}. Best is trial 27 with value: 0.9194285714285714.\n",
      "[I 2024-02-08 15:19:01,081] Trial 92 finished with value: 0.8417142857142859 and parameters: {'n_neighbors': 34}. Best is trial 27 with value: 0.9194285714285714.\n",
      "[I 2024-02-08 15:19:01,090] Trial 94 finished with value: 0.892 and parameters: {'n_neighbors': 13}. Best is trial 27 with value: 0.9194285714285714.\n",
      "[I 2024-02-08 15:19:01,100] Trial 96 finished with value: 0.8474285714285713 and parameters: {'n_neighbors': 32}. Best is trial 27 with value: 0.9194285714285714.\n",
      "[I 2024-02-08 15:19:01,113] Trial 97 finished with value: 0.9102857142857144 and parameters: {'n_neighbors': 5}. Best is trial 27 with value: 0.9194285714285714.\n",
      "[I 2024-02-08 15:19:01,144] Trial 98 finished with value: 0.8428571428571429 and parameters: {'n_neighbors': 37}. Best is trial 27 with value: 0.9194285714285714.\n",
      "[I 2024-02-08 15:19:01,150] Trial 99 finished with value: 0.8474285714285713 and parameters: {'n_neighbors': 32}. Best is trial 27 with value: 0.9194285714285714.\n"
     ]
    },
    {
     "name": "stdout",
     "output_type": "stream",
     "text": [
      "FrozenTrial(number=27, state=1, values=[0.9194285714285714], datetime_start=datetime.datetime(2024, 2, 8, 15, 18, 59, 602355), datetime_complete=datetime.datetime(2024, 2, 8, 15, 18, 59, 722642), params={'n_neighbors': 3}, user_attrs={}, system_attrs={}, intermediate_values={}, distributions={'n_neighbors': IntDistribution(high=49, log=False, low=3, step=1)}, trial_id=27, value=None)\n"
     ]
    }
   ],
   "source": [
    "knn_pca_result = optimize_hyperparameters('knn', X_pca_train, y_train, n_trials=100)\n",
    "print(knn_pca_result)"
   ]
  },
  {
   "cell_type": "code",
   "execution_count": 19,
   "metadata": {},
   "outputs": [
    {
     "data": {
      "text/plain": [
       "{'n_neighbors': 3}"
      ]
     },
     "execution_count": 19,
     "metadata": {},
     "output_type": "execute_result"
    }
   ],
   "source": [
    "knn_pca_result.params"
   ]
  },
  {
   "cell_type": "code",
   "execution_count": 20,
   "metadata": {},
   "outputs": [
    {
     "data": {
      "text/plain": [
       "0.9194285714285714"
      ]
     },
     "execution_count": 20,
     "metadata": {},
     "output_type": "execute_result"
    }
   ],
   "source": [
    "knn_pca_result.value"
   ]
  },
  {
   "cell_type": "code",
   "execution_count": 21,
   "metadata": {},
   "outputs": [
    {
     "data": {
      "text/plain": [
       "0.910958904109589"
      ]
     },
     "execution_count": 21,
     "metadata": {},
     "output_type": "execute_result"
    }
   ],
   "source": [
    "best_knn_model_pca = KNeighborsClassifier(n_jobs=-1, **knn_pca_result.params)\n",
    "best_knn_model_pca.fit(X_pca_train, y_train)\n",
    "best_knn_model_pca.score(X_pca_test, y_test)"
   ]
  },
  {
   "cell_type": "markdown",
   "metadata": {},
   "source": [
    "### Decision Tree"
   ]
  },
  {
   "cell_type": "markdown",
   "metadata": {},
   "source": [
    "### Random Forest"
   ]
  },
  {
   "cell_type": "markdown",
   "metadata": {},
   "source": [
    "### SVM"
   ]
  },
  {
   "cell_type": "markdown",
   "metadata": {},
   "source": [
    "### XGBoost"
   ]
  }
 ],
 "metadata": {
  "kernelspec": {
   "display_name": ".env",
   "language": "python",
   "name": "python3"
  },
  "language_info": {
   "codemirror_mode": {
    "name": "ipython",
    "version": 3
   },
   "file_extension": ".py",
   "mimetype": "text/x-python",
   "name": "python",
   "nbconvert_exporter": "python",
   "pygments_lexer": "ipython3",
   "version": "3.11.7"
  }
 },
 "nbformat": 4,
 "nbformat_minor": 2
}
